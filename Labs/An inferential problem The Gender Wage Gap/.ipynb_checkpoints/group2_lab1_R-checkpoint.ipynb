{
 "cells": [
  {
   "cell_type": "markdown",
   "id": "acf0a838",
   "metadata": {},
   "source": [
    "# TRABAJO GRUPAL 1: R"
   ]
  },
  {
   "cell_type": "markdown",
   "id": "a24a63f7",
   "metadata": {},
   "source": [
    "### Lectura de la data"
   ]
  },
  {
   "cell_type": "code",
   "execution_count": 1,
   "id": "a0551b8a",
   "metadata": {},
   "outputs": [
    {
     "name": "stderr",
     "output_type": "stream",
     "text": [
      "\n",
      "Attaching package: 'dplyr'\n",
      "\n",
      "\n",
      "The following objects are masked from 'package:stats':\n",
      "\n",
      "    filter, lag\n",
      "\n",
      "\n",
      "The following objects are masked from 'package:base':\n",
      "\n",
      "    intersect, setdiff, setequal, union\n",
      "\n",
      "\n",
      "Loading required package: zoo\n",
      "\n",
      "\n",
      "Attaching package: 'zoo'\n",
      "\n",
      "\n",
      "The following objects are masked from 'package:base':\n",
      "\n",
      "    as.Date, as.Date.numeric\n",
      "\n",
      "\n"
     ]
    }
   ],
   "source": [
    "library('dplyr') # filter dataset\n",
    "library(ggplot2)\n",
    "library(xtable)\n",
    "library(lmtest)"
   ]
  },
  {
   "cell_type": "code",
   "execution_count": 2,
   "id": "21e265ca",
   "metadata": {},
   "outputs": [
    {
     "data": {
      "text/html": [
       "<table class=\"dataframe\">\n",
       "<caption>A data.frame: 6 × 21</caption>\n",
       "<thead>\n",
       "\t<tr><th></th><th scope=col>X</th><th scope=col>wage</th><th scope=col>lwage</th><th scope=col>sex</th><th scope=col>shs</th><th scope=col>hsg</th><th scope=col>scl</th><th scope=col>clg</th><th scope=col>ad</th><th scope=col>mw</th><th scope=col>...</th><th scope=col>we</th><th scope=col>ne</th><th scope=col>exp1</th><th scope=col>exp2</th><th scope=col>exp3</th><th scope=col>exp4</th><th scope=col>occ</th><th scope=col>occ2</th><th scope=col>ind</th><th scope=col>ind2</th></tr>\n",
       "\t<tr><th></th><th scope=col>&lt;int&gt;</th><th scope=col>&lt;dbl&gt;</th><th scope=col>&lt;dbl&gt;</th><th scope=col>&lt;int&gt;</th><th scope=col>&lt;int&gt;</th><th scope=col>&lt;int&gt;</th><th scope=col>&lt;int&gt;</th><th scope=col>&lt;int&gt;</th><th scope=col>&lt;int&gt;</th><th scope=col>&lt;int&gt;</th><th scope=col>...</th><th scope=col>&lt;int&gt;</th><th scope=col>&lt;int&gt;</th><th scope=col>&lt;dbl&gt;</th><th scope=col>&lt;dbl&gt;</th><th scope=col>&lt;dbl&gt;</th><th scope=col>&lt;dbl&gt;</th><th scope=col>&lt;dbl&gt;</th><th scope=col>&lt;int&gt;</th><th scope=col>&lt;dbl&gt;</th><th scope=col>&lt;int&gt;</th></tr>\n",
       "</thead>\n",
       "<tbody>\n",
       "\t<tr><th scope=row>1</th><td>10</td><td> 9.615385</td><td>2.263364</td><td>1</td><td>0</td><td>0</td><td>0</td><td>1</td><td>0</td><td>0</td><td>...</td><td>0</td><td>1</td><td> 7</td><td>0.49</td><td> 0.343</td><td> 0.2401</td><td>3600</td><td>11</td><td>8370</td><td>18</td></tr>\n",
       "\t<tr><th scope=row>2</th><td>12</td><td>48.076923</td><td>3.872802</td><td>0</td><td>0</td><td>0</td><td>0</td><td>1</td><td>0</td><td>0</td><td>...</td><td>0</td><td>1</td><td>31</td><td>9.61</td><td>29.791</td><td>92.3521</td><td>3050</td><td>10</td><td>5070</td><td> 9</td></tr>\n",
       "\t<tr><th scope=row>3</th><td>15</td><td>11.057692</td><td>2.403126</td><td>0</td><td>0</td><td>1</td><td>0</td><td>0</td><td>0</td><td>0</td><td>...</td><td>0</td><td>1</td><td>18</td><td>3.24</td><td> 5.832</td><td>10.4976</td><td>6260</td><td>19</td><td> 770</td><td> 4</td></tr>\n",
       "\t<tr><th scope=row>4</th><td>18</td><td>13.942308</td><td>2.634928</td><td>1</td><td>0</td><td>0</td><td>0</td><td>0</td><td>1</td><td>0</td><td>...</td><td>0</td><td>1</td><td>25</td><td>6.25</td><td>15.625</td><td>39.0625</td><td> 420</td><td> 1</td><td>6990</td><td>12</td></tr>\n",
       "\t<tr><th scope=row>5</th><td>19</td><td>28.846154</td><td>3.361977</td><td>1</td><td>0</td><td>0</td><td>0</td><td>1</td><td>0</td><td>0</td><td>...</td><td>0</td><td>1</td><td>22</td><td>4.84</td><td>10.648</td><td>23.4256</td><td>2015</td><td> 6</td><td>9470</td><td>22</td></tr>\n",
       "\t<tr><th scope=row>6</th><td>30</td><td>11.730769</td><td>2.462215</td><td>1</td><td>0</td><td>0</td><td>0</td><td>1</td><td>0</td><td>0</td><td>...</td><td>0</td><td>1</td><td> 1</td><td>0.01</td><td> 0.001</td><td> 0.0001</td><td>1650</td><td> 5</td><td>7460</td><td>14</td></tr>\n",
       "</tbody>\n",
       "</table>\n"
      ],
      "text/latex": [
       "A data.frame: 6 × 21\n",
       "\\begin{tabular}{r|lllllllllllllllllllll}\n",
       "  & X & wage & lwage & sex & shs & hsg & scl & clg & ad & mw & ... & we & ne & exp1 & exp2 & exp3 & exp4 & occ & occ2 & ind & ind2\\\\\n",
       "  & <int> & <dbl> & <dbl> & <int> & <int> & <int> & <int> & <int> & <int> & <int> & ... & <int> & <int> & <dbl> & <dbl> & <dbl> & <dbl> & <dbl> & <int> & <dbl> & <int>\\\\\n",
       "\\hline\n",
       "\t1 & 10 &  9.615385 & 2.263364 & 1 & 0 & 0 & 0 & 1 & 0 & 0 & ... & 0 & 1 &  7 & 0.49 &  0.343 &  0.2401 & 3600 & 11 & 8370 & 18\\\\\n",
       "\t2 & 12 & 48.076923 & 3.872802 & 0 & 0 & 0 & 0 & 1 & 0 & 0 & ... & 0 & 1 & 31 & 9.61 & 29.791 & 92.3521 & 3050 & 10 & 5070 &  9\\\\\n",
       "\t3 & 15 & 11.057692 & 2.403126 & 0 & 0 & 1 & 0 & 0 & 0 & 0 & ... & 0 & 1 & 18 & 3.24 &  5.832 & 10.4976 & 6260 & 19 &  770 &  4\\\\\n",
       "\t4 & 18 & 13.942308 & 2.634928 & 1 & 0 & 0 & 0 & 0 & 1 & 0 & ... & 0 & 1 & 25 & 6.25 & 15.625 & 39.0625 &  420 &  1 & 6990 & 12\\\\\n",
       "\t5 & 19 & 28.846154 & 3.361977 & 1 & 0 & 0 & 0 & 1 & 0 & 0 & ... & 0 & 1 & 22 & 4.84 & 10.648 & 23.4256 & 2015 &  6 & 9470 & 22\\\\\n",
       "\t6 & 30 & 11.730769 & 2.462215 & 1 & 0 & 0 & 0 & 1 & 0 & 0 & ... & 0 & 1 &  1 & 0.01 &  0.001 &  0.0001 & 1650 &  5 & 7460 & 14\\\\\n",
       "\\end{tabular}\n"
      ],
      "text/markdown": [
       "\n",
       "A data.frame: 6 × 21\n",
       "\n",
       "| <!--/--> | X &lt;int&gt; | wage &lt;dbl&gt; | lwage &lt;dbl&gt; | sex &lt;int&gt; | shs &lt;int&gt; | hsg &lt;int&gt; | scl &lt;int&gt; | clg &lt;int&gt; | ad &lt;int&gt; | mw &lt;int&gt; | ... ... | we &lt;int&gt; | ne &lt;int&gt; | exp1 &lt;dbl&gt; | exp2 &lt;dbl&gt; | exp3 &lt;dbl&gt; | exp4 &lt;dbl&gt; | occ &lt;dbl&gt; | occ2 &lt;int&gt; | ind &lt;dbl&gt; | ind2 &lt;int&gt; |\n",
       "|---|---|---|---|---|---|---|---|---|---|---|---|---|---|---|---|---|---|---|---|---|---|\n",
       "| 1 | 10 |  9.615385 | 2.263364 | 1 | 0 | 0 | 0 | 1 | 0 | 0 | ... | 0 | 1 |  7 | 0.49 |  0.343 |  0.2401 | 3600 | 11 | 8370 | 18 |\n",
       "| 2 | 12 | 48.076923 | 3.872802 | 0 | 0 | 0 | 0 | 1 | 0 | 0 | ... | 0 | 1 | 31 | 9.61 | 29.791 | 92.3521 | 3050 | 10 | 5070 |  9 |\n",
       "| 3 | 15 | 11.057692 | 2.403126 | 0 | 0 | 1 | 0 | 0 | 0 | 0 | ... | 0 | 1 | 18 | 3.24 |  5.832 | 10.4976 | 6260 | 19 |  770 |  4 |\n",
       "| 4 | 18 | 13.942308 | 2.634928 | 1 | 0 | 0 | 0 | 0 | 1 | 0 | ... | 0 | 1 | 25 | 6.25 | 15.625 | 39.0625 |  420 |  1 | 6990 | 12 |\n",
       "| 5 | 19 | 28.846154 | 3.361977 | 1 | 0 | 0 | 0 | 1 | 0 | 0 | ... | 0 | 1 | 22 | 4.84 | 10.648 | 23.4256 | 2015 |  6 | 9470 | 22 |\n",
       "| 6 | 30 | 11.730769 | 2.462215 | 1 | 0 | 0 | 0 | 1 | 0 | 0 | ... | 0 | 1 |  1 | 0.01 |  0.001 |  0.0001 | 1650 |  5 | 7460 | 14 |\n",
       "\n"
      ],
      "text/plain": [
       "  X  wage      lwage    sex shs hsg scl clg ad mw ... we ne exp1 exp2 exp3  \n",
       "1 10  9.615385 2.263364 1   0   0   0   1   0  0  ... 0  1   7   0.49  0.343\n",
       "2 12 48.076923 3.872802 0   0   0   0   1   0  0  ... 0  1  31   9.61 29.791\n",
       "3 15 11.057692 2.403126 0   0   1   0   0   0  0  ... 0  1  18   3.24  5.832\n",
       "4 18 13.942308 2.634928 1   0   0   0   0   1  0  ... 0  1  25   6.25 15.625\n",
       "5 19 28.846154 3.361977 1   0   0   0   1   0  0  ... 0  1  22   4.84 10.648\n",
       "6 30 11.730769 2.462215 1   0   0   0   1   0  0  ... 0  1   1   0.01  0.001\n",
       "  exp4    occ  occ2 ind  ind2\n",
       "1  0.2401 3600 11   8370 18  \n",
       "2 92.3521 3050 10   5070  9  \n",
       "3 10.4976 6260 19    770  4  \n",
       "4 39.0625  420  1   6990 12  \n",
       "5 23.4256 2015  6   9470 22  \n",
       "6  0.0001 1650  5   7460 14  "
      ]
     },
     "metadata": {},
     "output_type": "display_data"
    }
   ],
   "source": [
    "base_raw <- read.csv(file = \"../../data/base0.csv\")\n",
    "head(base_raw)"
   ]
  },
  {
   "cell_type": "code",
   "execution_count": 3,
   "id": "50a0fdec",
   "metadata": {},
   "outputs": [
    {
     "data": {
      "text/html": [
       "<style>\n",
       ".list-inline {list-style: none; margin:0; padding: 0}\n",
       ".list-inline>li {display: inline-block}\n",
       ".list-inline>li:not(:last-child)::after {content: \"\\00b7\"; padding: 0 .5ex}\n",
       "</style>\n",
       "<ol class=list-inline><li>'X'</li><li>'wage'</li><li>'lwage'</li><li>'sex'</li><li>'shs'</li><li>'hsg'</li><li>'scl'</li><li>'clg'</li><li>'ad'</li><li>'mw'</li><li>'so'</li><li>'we'</li><li>'ne'</li><li>'exp1'</li><li>'exp2'</li><li>'exp3'</li><li>'exp4'</li><li>'occ'</li><li>'occ2'</li><li>'ind'</li><li>'ind2'</li></ol>\n"
      ],
      "text/latex": [
       "\\begin{enumerate*}\n",
       "\\item 'X'\n",
       "\\item 'wage'\n",
       "\\item 'lwage'\n",
       "\\item 'sex'\n",
       "\\item 'shs'\n",
       "\\item 'hsg'\n",
       "\\item 'scl'\n",
       "\\item 'clg'\n",
       "\\item 'ad'\n",
       "\\item 'mw'\n",
       "\\item 'so'\n",
       "\\item 'we'\n",
       "\\item 'ne'\n",
       "\\item 'exp1'\n",
       "\\item 'exp2'\n",
       "\\item 'exp3'\n",
       "\\item 'exp4'\n",
       "\\item 'occ'\n",
       "\\item 'occ2'\n",
       "\\item 'ind'\n",
       "\\item 'ind2'\n",
       "\\end{enumerate*}\n"
      ],
      "text/markdown": [
       "1. 'X'\n",
       "2. 'wage'\n",
       "3. 'lwage'\n",
       "4. 'sex'\n",
       "5. 'shs'\n",
       "6. 'hsg'\n",
       "7. 'scl'\n",
       "8. 'clg'\n",
       "9. 'ad'\n",
       "10. 'mw'\n",
       "11. 'so'\n",
       "12. 'we'\n",
       "13. 'ne'\n",
       "14. 'exp1'\n",
       "15. 'exp2'\n",
       "16. 'exp3'\n",
       "17. 'exp4'\n",
       "18. 'occ'\n",
       "19. 'occ2'\n",
       "20. 'ind'\n",
       "21. 'ind2'\n",
       "\n",
       "\n"
      ],
      "text/plain": [
       " [1] \"X\"     \"wage\"  \"lwage\" \"sex\"   \"shs\"   \"hsg\"   \"scl\"   \"clg\"   \"ad\"   \n",
       "[10] \"mw\"    \"so\"    \"we\"    \"ne\"    \"exp1\"  \"exp2\"  \"exp3\"  \"exp4\"  \"occ\"  \n",
       "[19] \"occ2\"  \"ind\"   \"ind2\" "
      ]
     },
     "metadata": {},
     "output_type": "display_data"
    }
   ],
   "source": [
    "colnames(base_raw)"
   ]
  },
  {
   "cell_type": "code",
   "execution_count": 4,
   "id": "ce421d90",
   "metadata": {},
   "outputs": [],
   "source": [
    "#base <- base_raw %>% rename(salario = wage, id = X, sexo = sex)\n",
    "#head(base)"
   ]
  },
  {
   "cell_type": "markdown",
   "id": "eb2221de",
   "metadata": {},
   "source": [
    "### Statistics"
   ]
  },
  {
   "cell_type": "code",
   "execution_count": 5,
   "id": "86c79fec",
   "metadata": {},
   "outputs": [
    {
     "data": {
      "text/html": [
       "<style>\n",
       ".list-inline {list-style: none; margin:0; padding: 0}\n",
       ".list-inline>li {display: inline-block}\n",
       ".list-inline>li:not(:last-child)::after {content: \"\\00b7\"; padding: 0 .5ex}\n",
       "</style>\n",
       "<ol class=list-inline><li>3068</li><li>21</li></ol>\n"
      ],
      "text/latex": [
       "\\begin{enumerate*}\n",
       "\\item 3068\n",
       "\\item 21\n",
       "\\end{enumerate*}\n"
      ],
      "text/markdown": [
       "1. 3068\n",
       "2. 21\n",
       "\n",
       "\n"
      ],
      "text/plain": [
       "[1] 3068   21"
      ]
     },
     "metadata": {},
     "output_type": "display_data"
    }
   ],
   "source": [
    "# Focus on the subset of college-educated workers\n",
    "\n",
    "base1 <- base_raw %>% filter(scl==1 | clg==1)\n",
    "dim(base1)\n",
    "attach(base1) "
   ]
  },
  {
   "cell_type": "code",
   "execution_count": 6,
   "id": "cdd77c66",
   "metadata": {},
   "outputs": [],
   "source": [
    "library(\"sandwich\")"
   ]
  },
  {
   "cell_type": "markdown",
   "id": "3a61e1da",
   "metadata": {},
   "source": [
    "OLS"
   ]
  },
  {
   "cell_type": "code",
   "execution_count": 8,
   "id": "037255b6",
   "metadata": {},
   "outputs": [
    {
     "name": "stdout",
     "output_type": "stream",
     "text": [
      "The estimated gender coefficient is -0.08150856  and the corresponding robust standard error is 0.01957965"
     ]
    }
   ],
   "source": [
    "#Ols regression without controls\n",
    "nocontrol.fit <- lm(lwage ~ sex)\n",
    "nocontrol.est <- summary(nocontrol.fit)$coef[\"sex\",1]\n",
    "HCV.coefs <- vcovHC(nocontrol.fit, type = 'HC');\n",
    "nocontrol.se <- sqrt(diag(HCV.coefs))[2] # Estimated std errors\n",
    "\n",
    "# print unconditional effect of gender and the corresponding standard error\n",
    "cat (\"The estimated gender coefficient is\",nocontrol.est,\" and the corresponding robust standard error is\",nocontrol.se) "
   ]
  },
  {
   "cell_type": "code",
   "execution_count": 9,
   "id": "4b326d3f",
   "metadata": {},
   "outputs": [
    {
     "data": {
      "text/plain": [
       "\n",
       "Call:\n",
       "lm(formula = flex, data = base1)\n",
       "\n",
       "Residuals:\n",
       "    Min      1Q  Median      3Q     Max \n",
       "-1.7697 -0.3120 -0.0132  0.2886  3.1704 \n",
       "\n",
       "Coefficients:\n",
       "              Estimate Std. Error t value Pr(>|t|)    \n",
       "(Intercept)  3.2168858  0.1853644  17.354  < 2e-16 ***\n",
       "sex         -0.0860283  0.0183970  -4.676 3.05e-06 ***\n",
       "exp1        -0.0156308  0.0641180  -0.244   0.8074    \n",
       "exp2         0.2760078  0.6572376   0.420   0.6746    \n",
       "exp3        -0.0984937  0.2485996  -0.396   0.6920    \n",
       "exp4         0.0117188  0.0308597   0.380   0.7042    \n",
       "clg          0.2409153  0.1199352   2.009   0.0447 *  \n",
       "occ2        -0.0287321  0.0060816  -4.724 2.41e-06 ***\n",
       "ind2        -0.0169001  0.0079423  -2.128   0.0334 *  \n",
       "mw           0.1806319  0.1075136   1.680   0.0930 .  \n",
       "so          -0.0033518  0.1039453  -0.032   0.9743    \n",
       "we           0.0882652  0.1194853   0.739   0.4601    \n",
       "exp1:clg     0.0236643  0.0392417   0.603   0.5465    \n",
       "exp1:occ2    0.0036670  0.0022431   1.635   0.1022    \n",
       "exp1:ind2    0.0002439  0.0028461   0.086   0.9317    \n",
       "exp1:mw     -0.0519124  0.0411471  -1.262   0.2072    \n",
       "exp1:so      0.0016637  0.0394486   0.042   0.9664    \n",
       "exp1:we     -0.0352727  0.0440456  -0.801   0.4233    \n",
       "exp2:clg    -0.3389750  0.3924479  -0.864   0.3878    \n",
       "exp2:occ2   -0.0404476  0.0239348  -1.690   0.0911 .  \n",
       "exp2:ind2    0.0057892  0.0300994   0.192   0.8475    \n",
       "exp2:mw      0.3808003  0.4482445   0.850   0.3956    \n",
       "exp2:so      0.0377129  0.4258177   0.089   0.9294    \n",
       "exp2:we      0.4882029  0.4683443   1.042   0.2973    \n",
       "exp3:clg     0.1510140  0.1482269   1.019   0.3084    \n",
       "exp3:occ2    0.0159425  0.0093274   1.709   0.0875 .  \n",
       "exp3:ind2   -0.0032526  0.0117287  -0.277   0.7816    \n",
       "exp3:mw     -0.1142956  0.1776114  -0.644   0.5199    \n",
       "exp3:so     -0.0369271  0.1671821  -0.221   0.8252    \n",
       "exp3:we     -0.2174024  0.1824813  -1.191   0.2336    \n",
       "exp4:clg    -0.0214408  0.0185922  -1.153   0.2489    \n",
       "exp4:occ2   -0.0020495  0.0011875  -1.726   0.0845 .  \n",
       "exp4:ind2    0.0004014  0.0014998   0.268   0.7890    \n",
       "exp4:mw      0.0116911  0.0229857   0.509   0.6111    \n",
       "exp4:so      0.0064938  0.0214015   0.303   0.7616    \n",
       "exp4:we      0.0292069  0.0232779   1.255   0.2097    \n",
       "---\n",
       "Signif. codes:  0 '***' 0.001 '**' 0.01 '*' 0.05 '.' 0.1 ' ' 1\n",
       "\n",
       "Residual standard error: 0.4946 on 3032 degrees of freedom\n",
       "Multiple R-squared:  0.1843,\tAdjusted R-squared:  0.1749 \n",
       "F-statistic: 19.58 on 35 and 3032 DF,  p-value: < 2.2e-16\n"
      ]
     },
     "metadata": {},
     "output_type": "display_data"
    },
    {
     "name": "stdout",
     "output_type": "stream",
     "text": [
      "Coefficient for OLS with controls -0.08602831"
     ]
    },
    {
     "data": {
      "text/html": [
       "<style>\n",
       ".dl-inline {width: auto; margin:0; padding: 0}\n",
       ".dl-inline>dt, .dl-inline>dd {float: none; width: auto; display: inline-block}\n",
       ".dl-inline>dt::after {content: \":\\0020\"; padding-right: .5ex}\n",
       ".dl-inline>dt:not(:first-of-type) {padding-left: .5ex}\n",
       "</style><dl class=dl-inline><dt>2.5 %</dt><dd>-0.122100161638359</dd><dt>97.5 %</dt><dd>-0.0499564647053772</dd></dl>\n"
      ],
      "text/latex": [
       "\\begin{description*}\n",
       "\\item[2.5 \\textbackslash{}\\%] -0.122100161638359\n",
       "\\item[97.5 \\textbackslash{}\\%] -0.0499564647053772\n",
       "\\end{description*}\n"
      ],
      "text/markdown": [
       "2.5 %\n",
       ":   -0.12210016163835997.5 %\n",
       ":   -0.0499564647053772\n",
       "\n"
      ],
      "text/plain": [
       "      2.5 %      97.5 % \n",
       "-0.12210016 -0.04995646 "
      ]
     },
     "metadata": {},
     "output_type": "display_data"
    },
    {
     "name": "stdout",
     "output_type": "stream",
     "text": [
      "The estimated gender coefficient is -0.08602831  and the corresponding robust standard error is 0.018354"
     ]
    }
   ],
   "source": [
    "# Ols regression with controls\n",
    "\n",
    "flex <- lwage ~ sex + (exp1+exp2+exp3+exp4)*(clg+occ2+ind2+mw+so+we)\n",
    "\n",
    "#   Note that ()*() operation in formula objects in R creates a formula of the sort:\n",
    "#  (exp1+exp2+exp3+exp4)+ (shs+hsg+scl+clg+occ2+ind2+mw+so+we) +  (exp1+exp2+exp3+exp4)*(shs+hsg+scl+clg+occ2+ind2+mw+so+we)\n",
    "\n",
    "\n",
    "control.fit <- lm(flex, data=base1)\n",
    "control.est <- summary(control.fit)$coef[2,1]\n",
    "\n",
    "summary(control.fit)\n",
    "\n",
    "cat(\"Coefficient for OLS with controls\", control.est)\n",
    "\n",
    "HCV.coefs <- vcovHC(control.fit, type = 'HC');\n",
    "control.se <- sqrt(diag(HCV.coefs))[2] # Estimated std errors\n",
    "\n",
    "# confidence interval\n",
    "confint(control.fit)[2,]\n",
    "\n",
    "cat (\"The estimated gender coefficient is\",control.est,\" and the corresponding robust standard error is\",control.se) "
   ]
  },
  {
   "cell_type": "markdown",
   "id": "af79406b",
   "metadata": {},
   "source": [
    "## Partialling-out"
   ]
  },
  {
   "cell_type": "code",
   "execution_count": 10,
   "id": "f625661b",
   "metadata": {
    "scrolled": true
   },
   "outputs": [
    {
     "data": {
      "text/plain": [
       "\n",
       "Call:\n",
       "lm(formula = t.Y ~ t.D)\n",
       "\n",
       "Residuals:\n",
       "    Min      1Q  Median      3Q     Max \n",
       "-1.7697 -0.3120 -0.0132  0.2886  3.1704 \n",
       "\n",
       "Coefficients:\n",
       "              Estimate Std. Error t value Pr(>|t|)    \n",
       "(Intercept) -6.849e-17  8.880e-03   0.000        1    \n",
       "t.D         -8.603e-02  1.829e-02  -4.702 2.69e-06 ***\n",
       "---\n",
       "Signif. codes:  0 '***' 0.001 '**' 0.01 '*' 0.05 '.' 0.1 ' ' 1\n",
       "\n",
       "Residual standard error: 0.4918 on 3066 degrees of freedom\n",
       "Multiple R-squared:  0.00716,\tAdjusted R-squared:  0.006837 \n",
       "F-statistic: 22.11 on 1 and 3066 DF,  p-value: 2.685e-06\n"
      ]
     },
     "metadata": {},
     "output_type": "display_data"
    },
    {
     "name": "stdout",
     "output_type": "stream",
     "text": [
      "Coefficient for D via partialling-out -0.08602831"
     ]
    },
    {
     "data": {
      "text/html": [
       "<style>\n",
       ".dl-inline {width: auto; margin:0; padding: 0}\n",
       ".dl-inline>dt, .dl-inline>dd {float: none; width: auto; display: inline-block}\n",
       ".dl-inline>dt::after {content: \":\\0020\"; padding-right: .5ex}\n",
       ".dl-inline>dt:not(:first-of-type) {padding-left: .5ex}\n",
       "</style><dl class=dl-inline><dt>2.5 %</dt><dd>-0.121899438210122</dd><dt>97.5 %</dt><dd>-0.0501571881336134</dd></dl>\n"
      ],
      "text/latex": [
       "\\begin{description*}\n",
       "\\item[2.5 \\textbackslash{}\\%] -0.121899438210122\n",
       "\\item[97.5 \\textbackslash{}\\%] -0.0501571881336134\n",
       "\\end{description*}\n"
      ],
      "text/markdown": [
       "2.5 %\n",
       ":   -0.12189943821012297.5 %\n",
       ":   -0.0501571881336134\n",
       "\n"
      ],
      "text/plain": [
       "      2.5 %      97.5 % \n",
       "-0.12189944 -0.05015719 "
      ]
     },
     "metadata": {},
     "output_type": "display_data"
    }
   ],
   "source": [
    "#OLS\n",
    "#modelos\n",
    "flex.y <- lwage ~  (exp1+exp2+exp3+exp4)*(shs+hsg+scl+clg+occ2+ind2+mw+so+we) # model for Y\n",
    "flex.d <- sex ~ (exp1+exp2+exp3+exp4)*(shs+hsg+scl+clg+occ2+ind2+mw+so+we) # model for D\n",
    "\n",
    "# partialling-out the linear effect of W from Y\n",
    "t.Y <- lm(flex.y, data=base1)$res\n",
    "# partialling-out the linear effect of W from D\n",
    "t.D <- lm(flex.d, data=base1)$res\n",
    "\n",
    "# regression of Y on D after partialling-out the effect of W\n",
    "partial.fit1 <- lm(t.Y~t.D)\n",
    "partial.est1 <- summary(partial.fit1)$coef[2,1]\n",
    "\n",
    "summary(partial.fit1)\n",
    "\n",
    "cat(\"Coefficient for D via partialling-out\", partial.est1)\n",
    "\n",
    "# standard error\n",
    "HCV.coefs1 <- vcovHC(partial.fit1, type = 'HC')\n",
    "partial.se1 <- sqrt(diag(HCV.coefs1))[2]\n",
    "\n",
    "# confidence interval\n",
    "confint(partial.fit1)[2,]"
   ]
  },
  {
   "cell_type": "code",
   "execution_count": 11,
   "id": "32ba41ad",
   "metadata": {},
   "outputs": [
    {
     "data": {
      "text/html": [
       "<table class=\"dataframe\">\n",
       "<caption>A xtable: 3 × 4</caption>\n",
       "<thead>\n",
       "\t<tr><th></th><th scope=col>Estimate</th><th scope=col>SE</th><th scope=col>lower_bound</th><th scope=col>upper_bound</th></tr>\n",
       "\t<tr><th></th><th scope=col>&lt;dbl&gt;</th><th scope=col>&lt;dbl&gt;</th><th scope=col>&lt;dbl&gt;</th><th scope=col>&lt;dbl&gt;</th></tr>\n",
       "</thead>\n",
       "<tbody>\n",
       "\t<tr><th scope=row>OLS</th><td>-0.08150856</td><td>0.01957965</td><td>-0.1198840</td><td>-0.04313315</td></tr>\n",
       "\t<tr><th scope=row>OLS with control</th><td>-0.08602831</td><td>0.01835400</td><td>-0.1220015</td><td>-0.05005514</td></tr>\n",
       "\t<tr><th scope=row>Partialling out approach</th><td>-0.08602831</td><td>0.01835400</td><td>-0.1220015</td><td>-0.05005514</td></tr>\n",
       "</tbody>\n",
       "</table>\n"
      ],
      "text/latex": [
       "A xtable: 3 × 4\n",
       "\\begin{tabular}{r|llll}\n",
       "  & Estimate & SE & lower\\_bound & upper\\_bound\\\\\n",
       "  & <dbl> & <dbl> & <dbl> & <dbl>\\\\\n",
       "\\hline\n",
       "\tOLS & -0.08150856 & 0.01957965 & -0.1198840 & -0.04313315\\\\\n",
       "\tOLS with control & -0.08602831 & 0.01835400 & -0.1220015 & -0.05005514\\\\\n",
       "\tPartialling out approach & -0.08602831 & 0.01835400 & -0.1220015 & -0.05005514\\\\\n",
       "\\end{tabular}\n"
      ],
      "text/markdown": [
       "\n",
       "A xtable: 3 × 4\n",
       "\n",
       "| <!--/--> | Estimate &lt;dbl&gt; | SE &lt;dbl&gt; | lower_bound &lt;dbl&gt; | upper_bound &lt;dbl&gt; |\n",
       "|---|---|---|---|---|\n",
       "| OLS | -0.08150856 | 0.01957965 | -0.1198840 | -0.04313315 |\n",
       "| OLS with control | -0.08602831 | 0.01835400 | -0.1220015 | -0.05005514 |\n",
       "| Partialling out approach | -0.08602831 | 0.01835400 | -0.1220015 | -0.05005514 |\n",
       "\n"
      ],
      "text/plain": [
       "                         Estimate    SE         lower_bound upper_bound\n",
       "OLS                      -0.08150856 0.01957965 -0.1198840  -0.04313315\n",
       "OLS with control         -0.08602831 0.01835400 -0.1220015  -0.05005514\n",
       "Partialling out approach -0.08602831 0.01835400 -0.1220015  -0.05005514"
      ]
     },
     "metadata": {},
     "output_type": "display_data"
    }
   ],
   "source": [
    "table<- matrix(0, 3, 4)\n",
    "table[1,1]<- nocontrol.est  \n",
    "table[1,2]<- nocontrol.se   \n",
    "table[2,1]<- control.est\n",
    "table[2,2]<- control.se    \n",
    "table[3,1]<- partial.est1  \n",
    "table[3,2]<- partial.se1 \n",
    "table[1,3]<- coefci(nocontrol.fit, df = Inf, vcov. = vcovHC, type = \"HC\")[2,1] \n",
    "table[1,4]<- coefci(nocontrol.fit, df = Inf, vcov. = vcovHC, type = \"HC\")[2,2] \n",
    "table[2,3]<- coefci(control.fit, df = Inf, vcov. = vcovHC, type = \"HC\")[2,1] \n",
    "table[2,4]<- coefci(control.fit, df = Inf, vcov. = vcovHC, type = \"HC\")[2,2] \n",
    "table[3,3]<- coefci(partial.fit1, df = Inf, vcov. = vcovHC, type = \"HC\")[2,1] \n",
    "table[3,4]<- coefci(partial.fit1, df = Inf, vcov. = vcovHC, type = \"HC\")[2,2] \n",
    "\n",
    "colnames(table)<- c(\"Estimate\",\"SE\",\"lower_bound\",\"upper_bound\")\n",
    "rownames(table)<- c(\"OLS\", \"OLS with control\", \"Partialling out approach\")\n",
    "tab<- xtable(table)\n",
    "tab"
   ]
  },
  {
   "cell_type": "markdown",
   "id": "241806ee",
   "metadata": {},
   "source": [
    "### 2.Graficas descriptivas"
   ]
  },
  {
   "cell_type": "code",
   "execution_count": 12,
   "id": "0e54b045",
   "metadata": {},
   "outputs": [],
   "source": [
    "#install.packages(\"ggplot2\")\n",
    "library(\"ggplot2\")"
   ]
  },
  {
   "cell_type": "code",
   "execution_count": 13,
   "id": "3a01b3b1",
   "metadata": {},
   "outputs": [
    {
     "name": "stderr",
     "output_type": "stream",
     "text": [
      "Loading required package: maditr\n",
      "\n",
      "\n",
      "To aggregate all non-grouping columns: take_all(mtcars, mean, by = am)\n",
      "\n",
      "\n",
      "\n",
      "Attaching package: 'maditr'\n",
      "\n",
      "\n",
      "The following objects are masked from 'package:dplyr':\n",
      "\n",
      "    between, coalesce, first, last\n",
      "\n",
      "\n",
      "\n",
      "Attaching package: 'expss'\n",
      "\n",
      "\n",
      "The following object is masked from 'package:ggplot2':\n",
      "\n",
      "    vars\n",
      "\n",
      "\n",
      "The following objects are masked from 'package:dplyr':\n",
      "\n",
      "    compute, contains, na_if, recode, vars\n",
      "\n",
      "\n"
     ]
    }
   ],
   "source": [
    "#install.packages(\"expss\")\n",
    "library(\"expss\")"
   ]
  },
  {
   "cell_type": "code",
   "execution_count": 14,
   "id": "15d95a8c",
   "metadata": {},
   "outputs": [
    {
     "data": {
      "text/html": [
       "<table class=\"dataframe\">\n",
       "<caption>A data.frame: 6 × 21</caption>\n",
       "<thead>\n",
       "\t<tr><th></th><th scope=col>X</th><th scope=col>wage</th><th scope=col>lwage</th><th scope=col>sex</th><th scope=col>shs</th><th scope=col>hsg</th><th scope=col>scl</th><th scope=col>clg</th><th scope=col>ad</th><th scope=col>mw</th><th scope=col>...</th><th scope=col>we</th><th scope=col>ne</th><th scope=col>exp1</th><th scope=col>exp2</th><th scope=col>exp3</th><th scope=col>exp4</th><th scope=col>occ</th><th scope=col>occ2</th><th scope=col>ind</th><th scope=col>ind2</th></tr>\n",
       "\t<tr><th></th><th scope=col>&lt;int&gt;</th><th scope=col>&lt;dbl&gt;</th><th scope=col>&lt;dbl&gt;</th><th scope=col>&lt;int&gt;</th><th scope=col>&lt;int&gt;</th><th scope=col>&lt;int&gt;</th><th scope=col>&lt;int&gt;</th><th scope=col>&lt;int&gt;</th><th scope=col>&lt;int&gt;</th><th scope=col>&lt;int&gt;</th><th scope=col>...</th><th scope=col>&lt;int&gt;</th><th scope=col>&lt;int&gt;</th><th scope=col>&lt;dbl&gt;</th><th scope=col>&lt;dbl&gt;</th><th scope=col>&lt;dbl&gt;</th><th scope=col>&lt;dbl&gt;</th><th scope=col>&lt;dbl&gt;</th><th scope=col>&lt;int&gt;</th><th scope=col>&lt;dbl&gt;</th><th scope=col>&lt;int&gt;</th></tr>\n",
       "</thead>\n",
       "<tbody>\n",
       "\t<tr><th scope=row>1</th><td>10</td><td> 9.615385</td><td>2.263364</td><td>1</td><td>0</td><td>0</td><td>0</td><td>1</td><td>0</td><td>0</td><td>...</td><td>0</td><td>1</td><td> 7</td><td>0.49</td><td> 0.343</td><td> 0.2401</td><td>3600</td><td>11</td><td>8370</td><td>18</td></tr>\n",
       "\t<tr><th scope=row>2</th><td>12</td><td>48.076923</td><td>3.872802</td><td>0</td><td>0</td><td>0</td><td>0</td><td>1</td><td>0</td><td>0</td><td>...</td><td>0</td><td>1</td><td>31</td><td>9.61</td><td>29.791</td><td>92.3521</td><td>3050</td><td>10</td><td>5070</td><td> 9</td></tr>\n",
       "\t<tr><th scope=row>3</th><td>15</td><td>11.057692</td><td>2.403126</td><td>0</td><td>0</td><td>1</td><td>0</td><td>0</td><td>0</td><td>0</td><td>...</td><td>0</td><td>1</td><td>18</td><td>3.24</td><td> 5.832</td><td>10.4976</td><td>6260</td><td>19</td><td> 770</td><td> 4</td></tr>\n",
       "\t<tr><th scope=row>4</th><td>18</td><td>13.942308</td><td>2.634928</td><td>1</td><td>0</td><td>0</td><td>0</td><td>0</td><td>1</td><td>0</td><td>...</td><td>0</td><td>1</td><td>25</td><td>6.25</td><td>15.625</td><td>39.0625</td><td> 420</td><td> 1</td><td>6990</td><td>12</td></tr>\n",
       "\t<tr><th scope=row>5</th><td>19</td><td>28.846154</td><td>3.361977</td><td>1</td><td>0</td><td>0</td><td>0</td><td>1</td><td>0</td><td>0</td><td>...</td><td>0</td><td>1</td><td>22</td><td>4.84</td><td>10.648</td><td>23.4256</td><td>2015</td><td> 6</td><td>9470</td><td>22</td></tr>\n",
       "\t<tr><th scope=row>6</th><td>30</td><td>11.730769</td><td>2.462215</td><td>1</td><td>0</td><td>0</td><td>0</td><td>1</td><td>0</td><td>0</td><td>...</td><td>0</td><td>1</td><td> 1</td><td>0.01</td><td> 0.001</td><td> 0.0001</td><td>1650</td><td> 5</td><td>7460</td><td>14</td></tr>\n",
       "</tbody>\n",
       "</table>\n"
      ],
      "text/latex": [
       "A data.frame: 6 × 21\n",
       "\\begin{tabular}{r|lllllllllllllllllllll}\n",
       "  & X & wage & lwage & sex & shs & hsg & scl & clg & ad & mw & ... & we & ne & exp1 & exp2 & exp3 & exp4 & occ & occ2 & ind & ind2\\\\\n",
       "  & <int> & <dbl> & <dbl> & <int> & <int> & <int> & <int> & <int> & <int> & <int> & ... & <int> & <int> & <dbl> & <dbl> & <dbl> & <dbl> & <dbl> & <int> & <dbl> & <int>\\\\\n",
       "\\hline\n",
       "\t1 & 10 &  9.615385 & 2.263364 & 1 & 0 & 0 & 0 & 1 & 0 & 0 & ... & 0 & 1 &  7 & 0.49 &  0.343 &  0.2401 & 3600 & 11 & 8370 & 18\\\\\n",
       "\t2 & 12 & 48.076923 & 3.872802 & 0 & 0 & 0 & 0 & 1 & 0 & 0 & ... & 0 & 1 & 31 & 9.61 & 29.791 & 92.3521 & 3050 & 10 & 5070 &  9\\\\\n",
       "\t3 & 15 & 11.057692 & 2.403126 & 0 & 0 & 1 & 0 & 0 & 0 & 0 & ... & 0 & 1 & 18 & 3.24 &  5.832 & 10.4976 & 6260 & 19 &  770 &  4\\\\\n",
       "\t4 & 18 & 13.942308 & 2.634928 & 1 & 0 & 0 & 0 & 0 & 1 & 0 & ... & 0 & 1 & 25 & 6.25 & 15.625 & 39.0625 &  420 &  1 & 6990 & 12\\\\\n",
       "\t5 & 19 & 28.846154 & 3.361977 & 1 & 0 & 0 & 0 & 1 & 0 & 0 & ... & 0 & 1 & 22 & 4.84 & 10.648 & 23.4256 & 2015 &  6 & 9470 & 22\\\\\n",
       "\t6 & 30 & 11.730769 & 2.462215 & 1 & 0 & 0 & 0 & 1 & 0 & 0 & ... & 0 & 1 &  1 & 0.01 &  0.001 &  0.0001 & 1650 &  5 & 7460 & 14\\\\\n",
       "\\end{tabular}\n"
      ],
      "text/markdown": [
       "\n",
       "A data.frame: 6 × 21\n",
       "\n",
       "| <!--/--> | X &lt;int&gt; | wage &lt;dbl&gt; | lwage &lt;dbl&gt; | sex &lt;int&gt; | shs &lt;int&gt; | hsg &lt;int&gt; | scl &lt;int&gt; | clg &lt;int&gt; | ad &lt;int&gt; | mw &lt;int&gt; | ... ... | we &lt;int&gt; | ne &lt;int&gt; | exp1 &lt;dbl&gt; | exp2 &lt;dbl&gt; | exp3 &lt;dbl&gt; | exp4 &lt;dbl&gt; | occ &lt;dbl&gt; | occ2 &lt;int&gt; | ind &lt;dbl&gt; | ind2 &lt;int&gt; |\n",
       "|---|---|---|---|---|---|---|---|---|---|---|---|---|---|---|---|---|---|---|---|---|---|\n",
       "| 1 | 10 |  9.615385 | 2.263364 | 1 | 0 | 0 | 0 | 1 | 0 | 0 | ... | 0 | 1 |  7 | 0.49 |  0.343 |  0.2401 | 3600 | 11 | 8370 | 18 |\n",
       "| 2 | 12 | 48.076923 | 3.872802 | 0 | 0 | 0 | 0 | 1 | 0 | 0 | ... | 0 | 1 | 31 | 9.61 | 29.791 | 92.3521 | 3050 | 10 | 5070 |  9 |\n",
       "| 3 | 15 | 11.057692 | 2.403126 | 0 | 0 | 1 | 0 | 0 | 0 | 0 | ... | 0 | 1 | 18 | 3.24 |  5.832 | 10.4976 | 6260 | 19 |  770 |  4 |\n",
       "| 4 | 18 | 13.942308 | 2.634928 | 1 | 0 | 0 | 0 | 0 | 1 | 0 | ... | 0 | 1 | 25 | 6.25 | 15.625 | 39.0625 |  420 |  1 | 6990 | 12 |\n",
       "| 5 | 19 | 28.846154 | 3.361977 | 1 | 0 | 0 | 0 | 1 | 0 | 0 | ... | 0 | 1 | 22 | 4.84 | 10.648 | 23.4256 | 2015 |  6 | 9470 | 22 |\n",
       "| 6 | 30 | 11.730769 | 2.462215 | 1 | 0 | 0 | 0 | 1 | 0 | 0 | ... | 0 | 1 |  1 | 0.01 |  0.001 |  0.0001 | 1650 |  5 | 7460 | 14 |\n",
       "\n"
      ],
      "text/plain": [
       "  X  wage      lwage    sex shs hsg scl clg ad mw ... we ne exp1 exp2 exp3  \n",
       "1 10  9.615385 2.263364 1   0   0   0   1   0  0  ... 0  1   7   0.49  0.343\n",
       "2 12 48.076923 3.872802 0   0   0   0   1   0  0  ... 0  1  31   9.61 29.791\n",
       "3 15 11.057692 2.403126 0   0   1   0   0   0  0  ... 0  1  18   3.24  5.832\n",
       "4 18 13.942308 2.634928 1   0   0   0   0   1  0  ... 0  1  25   6.25 15.625\n",
       "5 19 28.846154 3.361977 1   0   0   0   1   0  0  ... 0  1  22   4.84 10.648\n",
       "6 30 11.730769 2.462215 1   0   0   0   1   0  0  ... 0  1   1   0.01  0.001\n",
       "  exp4    occ  occ2 ind  ind2\n",
       "1  0.2401 3600 11   8370 18  \n",
       "2 92.3521 3050 10   5070  9  \n",
       "3 10.4976 6260 19    770  4  \n",
       "4 39.0625  420  1   6990 12  \n",
       "5 23.4256 2015  6   9470 22  \n",
       "6  0.0001 1650  5   7460 14  "
      ]
     },
     "metadata": {},
     "output_type": "display_data"
    }
   ],
   "source": [
    "head(base_raw)"
   ]
  },
  {
   "cell_type": "code",
   "execution_count": 15,
   "id": "00808607",
   "metadata": {},
   "outputs": [
    {
     "data": {
      "text/html": [
       "<table class=\"dataframe\">\n",
       "<caption>A data.frame: 6 × 21</caption>\n",
       "<thead>\n",
       "\t<tr><th></th><th scope=col>X</th><th scope=col>wage</th><th scope=col>lwage</th><th scope=col>sex</th><th scope=col>shs</th><th scope=col>hsg</th><th scope=col>scl</th><th scope=col>clg</th><th scope=col>ad</th><th scope=col>mw</th><th scope=col>...</th><th scope=col>we</th><th scope=col>ne</th><th scope=col>exp1</th><th scope=col>exp2</th><th scope=col>exp3</th><th scope=col>exp4</th><th scope=col>occ</th><th scope=col>occ2</th><th scope=col>ind</th><th scope=col>ind2</th></tr>\n",
       "\t<tr><th></th><th scope=col>&lt;int&gt;</th><th scope=col>&lt;labelled&gt;</th><th scope=col>&lt;labelled&gt;</th><th scope=col>&lt;labelled&gt;</th><th scope=col>&lt;labelled&gt;</th><th scope=col>&lt;labelled&gt;</th><th scope=col>&lt;labelled&gt;</th><th scope=col>&lt;labelled&gt;</th><th scope=col>&lt;labelled&gt;</th><th scope=col>&lt;labelled&gt;</th><th scope=col>...</th><th scope=col>&lt;labelled&gt;</th><th scope=col>&lt;labelled&gt;</th><th scope=col>&lt;labelled&gt;</th><th scope=col>&lt;dbl&gt;</th><th scope=col>&lt;dbl&gt;</th><th scope=col>&lt;dbl&gt;</th><th scope=col>&lt;labelled&gt;</th><th scope=col>&lt;int&gt;</th><th scope=col>&lt;labelled&gt;</th><th scope=col>&lt;int&gt;</th></tr>\n",
       "</thead>\n",
       "<tbody>\n",
       "\t<tr><th scope=row>1</th><td>10</td><td> 9.615385</td><td>2.263364</td><td>1</td><td>0</td><td>0</td><td>0</td><td>1</td><td>0</td><td>0</td><td>...</td><td>0</td><td>1</td><td> 7</td><td>0.49</td><td> 0.343</td><td> 0.2401</td><td>3600</td><td>11</td><td>8370</td><td>18</td></tr>\n",
       "\t<tr><th scope=row>2</th><td>12</td><td>48.076923</td><td>3.872802</td><td>0</td><td>0</td><td>0</td><td>0</td><td>1</td><td>0</td><td>0</td><td>...</td><td>0</td><td>1</td><td>31</td><td>9.61</td><td>29.791</td><td>92.3521</td><td>3050</td><td>10</td><td>5070</td><td> 9</td></tr>\n",
       "\t<tr><th scope=row>3</th><td>15</td><td>11.057692</td><td>2.403126</td><td>0</td><td>0</td><td>1</td><td>0</td><td>0</td><td>0</td><td>0</td><td>...</td><td>0</td><td>1</td><td>18</td><td>3.24</td><td> 5.832</td><td>10.4976</td><td>6260</td><td>19</td><td> 770</td><td> 4</td></tr>\n",
       "\t<tr><th scope=row>4</th><td>18</td><td>13.942308</td><td>2.634928</td><td>1</td><td>0</td><td>0</td><td>0</td><td>0</td><td>1</td><td>0</td><td>...</td><td>0</td><td>1</td><td>25</td><td>6.25</td><td>15.625</td><td>39.0625</td><td> 420</td><td> 1</td><td>6990</td><td>12</td></tr>\n",
       "\t<tr><th scope=row>5</th><td>19</td><td>28.846154</td><td>3.361977</td><td>1</td><td>0</td><td>0</td><td>0</td><td>1</td><td>0</td><td>0</td><td>...</td><td>0</td><td>1</td><td>22</td><td>4.84</td><td>10.648</td><td>23.4256</td><td>2015</td><td> 6</td><td>9470</td><td>22</td></tr>\n",
       "\t<tr><th scope=row>6</th><td>30</td><td>11.730769</td><td>2.462215</td><td>1</td><td>0</td><td>0</td><td>0</td><td>1</td><td>0</td><td>0</td><td>...</td><td>0</td><td>1</td><td> 1</td><td>0.01</td><td> 0.001</td><td> 0.0001</td><td>1650</td><td> 5</td><td>7460</td><td>14</td></tr>\n",
       "</tbody>\n",
       "</table>\n"
      ],
      "text/latex": [
       "A data.frame: 6 × 21\n",
       "\\begin{tabular}{r|lllllllllllllllllllll}\n",
       "  & X & wage & lwage & sex & shs & hsg & scl & clg & ad & mw & ... & we & ne & exp1 & exp2 & exp3 & exp4 & occ & occ2 & ind & ind2\\\\\n",
       "  & <int> & <labelled> & <labelled> & <labelled> & <labelled> & <labelled> & <labelled> & <labelled> & <labelled> & <labelled> & ... & <labelled> & <labelled> & <labelled> & <dbl> & <dbl> & <dbl> & <labelled> & <int> & <labelled> & <int>\\\\\n",
       "\\hline\n",
       "\t1 & 10 &  9.615385 & 2.263364 & 1 & 0 & 0 & 0 & 1 & 0 & 0 & ... & 0 & 1 &  7 & 0.49 &  0.343 &  0.2401 & 3600 & 11 & 8370 & 18\\\\\n",
       "\t2 & 12 & 48.076923 & 3.872802 & 0 & 0 & 0 & 0 & 1 & 0 & 0 & ... & 0 & 1 & 31 & 9.61 & 29.791 & 92.3521 & 3050 & 10 & 5070 &  9\\\\\n",
       "\t3 & 15 & 11.057692 & 2.403126 & 0 & 0 & 1 & 0 & 0 & 0 & 0 & ... & 0 & 1 & 18 & 3.24 &  5.832 & 10.4976 & 6260 & 19 &  770 &  4\\\\\n",
       "\t4 & 18 & 13.942308 & 2.634928 & 1 & 0 & 0 & 0 & 0 & 1 & 0 & ... & 0 & 1 & 25 & 6.25 & 15.625 & 39.0625 &  420 &  1 & 6990 & 12\\\\\n",
       "\t5 & 19 & 28.846154 & 3.361977 & 1 & 0 & 0 & 0 & 1 & 0 & 0 & ... & 0 & 1 & 22 & 4.84 & 10.648 & 23.4256 & 2015 &  6 & 9470 & 22\\\\\n",
       "\t6 & 30 & 11.730769 & 2.462215 & 1 & 0 & 0 & 0 & 1 & 0 & 0 & ... & 0 & 1 &  1 & 0.01 &  0.001 &  0.0001 & 1650 &  5 & 7460 & 14\\\\\n",
       "\\end{tabular}\n"
      ],
      "text/markdown": [
       "\n",
       "A data.frame: 6 × 21\n",
       "\n",
       "| <!--/--> | X &lt;int&gt; | wage &lt;labelled&gt; | lwage &lt;labelled&gt; | sex &lt;labelled&gt; | shs &lt;labelled&gt; | hsg &lt;labelled&gt; | scl &lt;labelled&gt; | clg &lt;labelled&gt; | ad &lt;labelled&gt; | mw &lt;labelled&gt; | ... ... | we &lt;labelled&gt; | ne &lt;labelled&gt; | exp1 &lt;labelled&gt; | exp2 &lt;dbl&gt; | exp3 &lt;dbl&gt; | exp4 &lt;dbl&gt; | occ &lt;labelled&gt; | occ2 &lt;int&gt; | ind &lt;labelled&gt; | ind2 &lt;int&gt; |\n",
       "|---|---|---|---|---|---|---|---|---|---|---|---|---|---|---|---|---|---|---|---|---|---|\n",
       "| 1 | 10 |  9.615385 | 2.263364 | 1 | 0 | 0 | 0 | 1 | 0 | 0 | ... | 0 | 1 |  7 | 0.49 |  0.343 |  0.2401 | 3600 | 11 | 8370 | 18 |\n",
       "| 2 | 12 | 48.076923 | 3.872802 | 0 | 0 | 0 | 0 | 1 | 0 | 0 | ... | 0 | 1 | 31 | 9.61 | 29.791 | 92.3521 | 3050 | 10 | 5070 |  9 |\n",
       "| 3 | 15 | 11.057692 | 2.403126 | 0 | 0 | 1 | 0 | 0 | 0 | 0 | ... | 0 | 1 | 18 | 3.24 |  5.832 | 10.4976 | 6260 | 19 |  770 |  4 |\n",
       "| 4 | 18 | 13.942308 | 2.634928 | 1 | 0 | 0 | 0 | 0 | 1 | 0 | ... | 0 | 1 | 25 | 6.25 | 15.625 | 39.0625 |  420 |  1 | 6990 | 12 |\n",
       "| 5 | 19 | 28.846154 | 3.361977 | 1 | 0 | 0 | 0 | 1 | 0 | 0 | ... | 0 | 1 | 22 | 4.84 | 10.648 | 23.4256 | 2015 |  6 | 9470 | 22 |\n",
       "| 6 | 30 | 11.730769 | 2.462215 | 1 | 0 | 0 | 0 | 1 | 0 | 0 | ... | 0 | 1 |  1 | 0.01 |  0.001 |  0.0001 | 1650 |  5 | 7460 | 14 |\n",
       "\n"
      ],
      "text/plain": [
       "  X  wage      lwage    sex shs hsg scl clg ad mw ... we ne exp1 exp2 exp3  \n",
       "1 10  9.615385 2.263364 1   0   0   0   1   0  0  ... 0  1   7   0.49  0.343\n",
       "2 12 48.076923 3.872802 0   0   0   0   1   0  0  ... 0  1  31   9.61 29.791\n",
       "3 15 11.057692 2.403126 0   0   1   0   0   0  0  ... 0  1  18   3.24  5.832\n",
       "4 18 13.942308 2.634928 1   0   0   0   0   1  0  ... 0  1  25   6.25 15.625\n",
       "5 19 28.846154 3.361977 1   0   0   0   1   0  0  ... 0  1  22   4.84 10.648\n",
       "6 30 11.730769 2.462215 1   0   0   0   1   0  0  ... 0  1   1   0.01  0.001\n",
       "  exp4    occ  occ2 ind  ind2\n",
       "1  0.2401 3600 11   8370 18  \n",
       "2 92.3521 3050 10   5070  9  \n",
       "3 10.4976 6260 19    770  4  \n",
       "4 39.0625  420  1   6990 12  \n",
       "5 23.4256 2015  6   9470 22  \n",
       "6  0.0001 1650  5   7460 14  "
      ]
     },
     "metadata": {},
     "output_type": "display_data"
    }
   ],
   "source": [
    "base2 <- base_raw\n",
    "base2 <- apply_labels(base2,\n",
    "                      wage = \"Hourly wage\",\n",
    "                      lwage = \"Log hournly wage\",\n",
    "                      sex = \"Gender\",\n",
    "                      sex = c(\"Female\" = 1,\n",
    "                              \"Male\" = 0),\n",
    "                      occ = \"Occupational Classification\",\n",
    "                      ind = \"Industry Classification\",\n",
    "                      shs = \"Some high school\",\n",
    "                      hsg = \"High school\",\n",
    "                      scl = \"Some college\",\n",
    "                      clg = \"College graduate\",\n",
    "                      ad = \"Advanced degree\",\n",
    "                      ne = \"Northeast\",\n",
    "                      mw = \"Midwest\",\n",
    "                      so = \"South\",\n",
    "                      we = \"West\",\n",
    "                      exp1 = \"Experience\"\n",
    "                     )\n",
    "head(base2)"
   ]
  },
  {
   "cell_type": "code",
   "execution_count": 16,
   "id": "ddc3a93a",
   "metadata": {},
   "outputs": [
    {
     "data": {
      "text/html": [
       "<table class=\"dataframe\">\n",
       "<caption>A data.frame: 6 × 23</caption>\n",
       "<thead>\n",
       "\t<tr><th></th><th scope=col>X</th><th scope=col>wage</th><th scope=col>lwage</th><th scope=col>sex</th><th scope=col>shs</th><th scope=col>hsg</th><th scope=col>scl</th><th scope=col>clg</th><th scope=col>ad</th><th scope=col>mw</th><th scope=col>...</th><th scope=col>exp1</th><th scope=col>exp2</th><th scope=col>exp3</th><th scope=col>exp4</th><th scope=col>occ</th><th scope=col>occ2</th><th scope=col>ind</th><th scope=col>ind2</th><th scope=col>zone</th><th scope=col>study</th></tr>\n",
       "\t<tr><th></th><th scope=col>&lt;int&gt;</th><th scope=col>&lt;labelled&gt;</th><th scope=col>&lt;labelled&gt;</th><th scope=col>&lt;labelled&gt;</th><th scope=col>&lt;labelled&gt;</th><th scope=col>&lt;labelled&gt;</th><th scope=col>&lt;labelled&gt;</th><th scope=col>&lt;labelled&gt;</th><th scope=col>&lt;labelled&gt;</th><th scope=col>&lt;labelled&gt;</th><th scope=col>...</th><th scope=col>&lt;labelled&gt;</th><th scope=col>&lt;dbl&gt;</th><th scope=col>&lt;dbl&gt;</th><th scope=col>&lt;dbl&gt;</th><th scope=col>&lt;labelled&gt;</th><th scope=col>&lt;int&gt;</th><th scope=col>&lt;labelled&gt;</th><th scope=col>&lt;int&gt;</th><th scope=col>&lt;labelled&gt;</th><th scope=col>&lt;labelled&gt;</th></tr>\n",
       "</thead>\n",
       "<tbody>\n",
       "\t<tr><th scope=row>1</th><td>10</td><td> 9.615385</td><td>2.263364</td><td>1</td><td>0</td><td>0</td><td>0</td><td>1</td><td>0</td><td>0</td><td>...</td><td> 7</td><td>0.49</td><td> 0.343</td><td> 0.2401</td><td>3600</td><td>11</td><td>8370</td><td>18</td><td>1</td><td>4</td></tr>\n",
       "\t<tr><th scope=row>2</th><td>12</td><td>48.076923</td><td>3.872802</td><td>0</td><td>0</td><td>0</td><td>0</td><td>1</td><td>0</td><td>0</td><td>...</td><td>31</td><td>9.61</td><td>29.791</td><td>92.3521</td><td>3050</td><td>10</td><td>5070</td><td> 9</td><td>1</td><td>4</td></tr>\n",
       "\t<tr><th scope=row>3</th><td>15</td><td>11.057692</td><td>2.403126</td><td>0</td><td>0</td><td>1</td><td>0</td><td>0</td><td>0</td><td>0</td><td>...</td><td>18</td><td>3.24</td><td> 5.832</td><td>10.4976</td><td>6260</td><td>19</td><td> 770</td><td> 4</td><td>1</td><td>2</td></tr>\n",
       "\t<tr><th scope=row>4</th><td>18</td><td>13.942308</td><td>2.634928</td><td>1</td><td>0</td><td>0</td><td>0</td><td>0</td><td>1</td><td>0</td><td>...</td><td>25</td><td>6.25</td><td>15.625</td><td>39.0625</td><td> 420</td><td> 1</td><td>6990</td><td>12</td><td>1</td><td>5</td></tr>\n",
       "\t<tr><th scope=row>5</th><td>19</td><td>28.846154</td><td>3.361977</td><td>1</td><td>0</td><td>0</td><td>0</td><td>1</td><td>0</td><td>0</td><td>...</td><td>22</td><td>4.84</td><td>10.648</td><td>23.4256</td><td>2015</td><td> 6</td><td>9470</td><td>22</td><td>1</td><td>4</td></tr>\n",
       "\t<tr><th scope=row>6</th><td>30</td><td>11.730769</td><td>2.462215</td><td>1</td><td>0</td><td>0</td><td>0</td><td>1</td><td>0</td><td>0</td><td>...</td><td> 1</td><td>0.01</td><td> 0.001</td><td> 0.0001</td><td>1650</td><td> 5</td><td>7460</td><td>14</td><td>1</td><td>4</td></tr>\n",
       "</tbody>\n",
       "</table>\n"
      ],
      "text/latex": [
       "A data.frame: 6 × 23\n",
       "\\begin{tabular}{r|lllllllllllllllllllll}\n",
       "  & X & wage & lwage & sex & shs & hsg & scl & clg & ad & mw & ... & exp1 & exp2 & exp3 & exp4 & occ & occ2 & ind & ind2 & zone & study\\\\\n",
       "  & <int> & <labelled> & <labelled> & <labelled> & <labelled> & <labelled> & <labelled> & <labelled> & <labelled> & <labelled> & ... & <labelled> & <dbl> & <dbl> & <dbl> & <labelled> & <int> & <labelled> & <int> & <labelled> & <labelled>\\\\\n",
       "\\hline\n",
       "\t1 & 10 &  9.615385 & 2.263364 & 1 & 0 & 0 & 0 & 1 & 0 & 0 & ... &  7 & 0.49 &  0.343 &  0.2401 & 3600 & 11 & 8370 & 18 & 1 & 4\\\\\n",
       "\t2 & 12 & 48.076923 & 3.872802 & 0 & 0 & 0 & 0 & 1 & 0 & 0 & ... & 31 & 9.61 & 29.791 & 92.3521 & 3050 & 10 & 5070 &  9 & 1 & 4\\\\\n",
       "\t3 & 15 & 11.057692 & 2.403126 & 0 & 0 & 1 & 0 & 0 & 0 & 0 & ... & 18 & 3.24 &  5.832 & 10.4976 & 6260 & 19 &  770 &  4 & 1 & 2\\\\\n",
       "\t4 & 18 & 13.942308 & 2.634928 & 1 & 0 & 0 & 0 & 0 & 1 & 0 & ... & 25 & 6.25 & 15.625 & 39.0625 &  420 &  1 & 6990 & 12 & 1 & 5\\\\\n",
       "\t5 & 19 & 28.846154 & 3.361977 & 1 & 0 & 0 & 0 & 1 & 0 & 0 & ... & 22 & 4.84 & 10.648 & 23.4256 & 2015 &  6 & 9470 & 22 & 1 & 4\\\\\n",
       "\t6 & 30 & 11.730769 & 2.462215 & 1 & 0 & 0 & 0 & 1 & 0 & 0 & ... &  1 & 0.01 &  0.001 &  0.0001 & 1650 &  5 & 7460 & 14 & 1 & 4\\\\\n",
       "\\end{tabular}\n"
      ],
      "text/markdown": [
       "\n",
       "A data.frame: 6 × 23\n",
       "\n",
       "| <!--/--> | X &lt;int&gt; | wage &lt;labelled&gt; | lwage &lt;labelled&gt; | sex &lt;labelled&gt; | shs &lt;labelled&gt; | hsg &lt;labelled&gt; | scl &lt;labelled&gt; | clg &lt;labelled&gt; | ad &lt;labelled&gt; | mw &lt;labelled&gt; | ... ... | exp1 &lt;labelled&gt; | exp2 &lt;dbl&gt; | exp3 &lt;dbl&gt; | exp4 &lt;dbl&gt; | occ &lt;labelled&gt; | occ2 &lt;int&gt; | ind &lt;labelled&gt; | ind2 &lt;int&gt; | zone &lt;labelled&gt; | study &lt;labelled&gt; |\n",
       "|---|---|---|---|---|---|---|---|---|---|---|---|---|---|---|---|---|---|---|---|---|---|\n",
       "| 1 | 10 |  9.615385 | 2.263364 | 1 | 0 | 0 | 0 | 1 | 0 | 0 | ... |  7 | 0.49 |  0.343 |  0.2401 | 3600 | 11 | 8370 | 18 | 1 | 4 |\n",
       "| 2 | 12 | 48.076923 | 3.872802 | 0 | 0 | 0 | 0 | 1 | 0 | 0 | ... | 31 | 9.61 | 29.791 | 92.3521 | 3050 | 10 | 5070 |  9 | 1 | 4 |\n",
       "| 3 | 15 | 11.057692 | 2.403126 | 0 | 0 | 1 | 0 | 0 | 0 | 0 | ... | 18 | 3.24 |  5.832 | 10.4976 | 6260 | 19 |  770 |  4 | 1 | 2 |\n",
       "| 4 | 18 | 13.942308 | 2.634928 | 1 | 0 | 0 | 0 | 0 | 1 | 0 | ... | 25 | 6.25 | 15.625 | 39.0625 |  420 |  1 | 6990 | 12 | 1 | 5 |\n",
       "| 5 | 19 | 28.846154 | 3.361977 | 1 | 0 | 0 | 0 | 1 | 0 | 0 | ... | 22 | 4.84 | 10.648 | 23.4256 | 2015 |  6 | 9470 | 22 | 1 | 4 |\n",
       "| 6 | 30 | 11.730769 | 2.462215 | 1 | 0 | 0 | 0 | 1 | 0 | 0 | ... |  1 | 0.01 |  0.001 |  0.0001 | 1650 |  5 | 7460 | 14 | 1 | 4 |\n",
       "\n"
      ],
      "text/plain": [
       "  X  wage      lwage    sex shs hsg scl clg ad mw ... exp1 exp2 exp3   exp4   \n",
       "1 10  9.615385 2.263364 1   0   0   0   1   0  0  ...  7   0.49  0.343  0.2401\n",
       "2 12 48.076923 3.872802 0   0   0   0   1   0  0  ... 31   9.61 29.791 92.3521\n",
       "3 15 11.057692 2.403126 0   0   1   0   0   0  0  ... 18   3.24  5.832 10.4976\n",
       "4 18 13.942308 2.634928 1   0   0   0   0   1  0  ... 25   6.25 15.625 39.0625\n",
       "5 19 28.846154 3.361977 1   0   0   0   1   0  0  ... 22   4.84 10.648 23.4256\n",
       "6 30 11.730769 2.462215 1   0   0   0   1   0  0  ...  1   0.01  0.001  0.0001\n",
       "  occ  occ2 ind  ind2 zone study\n",
       "1 3600 11   8370 18   1    4    \n",
       "2 3050 10   5070  9   1    4    \n",
       "3 6260 19    770  4   1    2    \n",
       "4  420  1   6990 12   1    5    \n",
       "5 2015  6   9470 22   1    4    \n",
       "6 1650  5   7460 14   1    4    "
      ]
     },
     "metadata": {},
     "output_type": "display_data"
    }
   ],
   "source": [
    "#Agrupamos las zonas en una sola variable\n",
    "base2$zone <- 0\n",
    "m <- c(\"ne\",\"mw\",\"so\",\"we\")\n",
    "\n",
    "for (i in c(1:4)){\n",
    "    a <- match(m[i],colnames(base2))\n",
    "    for (j in 1:length(base2$zone)){\n",
    "        if (base2[j,a]==1){\n",
    "            base2$zone[j] <- i\n",
    "        }\n",
    "    } \n",
    "    }\n",
    "\n",
    "#Agrupamos nivel de estudio en una sola variable\n",
    "base2$study <- 0\n",
    "n <- c(\"shs\",\"hsg\",\"scl\",\"clg\",\"ad\")\n",
    "\n",
    "for (i in c(1:5)){\n",
    "    a <- match(n[i],colnames(base2))\n",
    "    for (j in 1:length(base2$study)){\n",
    "        if (base2[j,a]==1){\n",
    "            base2$study[j] <- i\n",
    "        }\n",
    "    } \n",
    "    }\n",
    "\n",
    "#Aplicamos labels a las nuevas variables\n",
    "base2 <- apply_labels(base2,\n",
    "                      zone = \"Zone\",\n",
    "                      zone = c(\"Northeast\" = 1,\n",
    "                               \"Midwest\" = 2,\n",
    "                               \"South\" = 3,\n",
    "                               \"West\" = 4),\n",
    "                      study = \"Level of education\",\n",
    "                      study = c(\"Some high school\" = 1,\n",
    "                                \"High school\" = 2,\n",
    "                                \"Some college\" = 3,\n",
    "                                \"College graduate\" = 4,\n",
    "                                \"Advanced degree\" = 5))\n",
    "head(base2)\n",
    "                      "
   ]
  },
  {
   "cell_type": "code",
   "execution_count": 17,
   "id": "4e641885",
   "metadata": {},
   "outputs": [
    {
     "data": {
      "text/html": [
       "<table class=\"dataframe\">\n",
       "<caption>A data.frame: 6 × 23</caption>\n",
       "<thead>\n",
       "\t<tr><th></th><th scope=col>X</th><th scope=col>wage</th><th scope=col>lwage</th><th scope=col>sex</th><th scope=col>shs</th><th scope=col>hsg</th><th scope=col>scl</th><th scope=col>clg</th><th scope=col>ad</th><th scope=col>mw</th><th scope=col>...</th><th scope=col>exp1</th><th scope=col>exp2</th><th scope=col>exp3</th><th scope=col>exp4</th><th scope=col>occ</th><th scope=col>occ2</th><th scope=col>ind</th><th scope=col>ind2</th><th scope=col>zone</th><th scope=col>study</th></tr>\n",
       "\t<tr><th></th><th scope=col>&lt;int&gt;</th><th scope=col>&lt;labelled&gt;</th><th scope=col>&lt;labelled&gt;</th><th scope=col>&lt;fct&gt;</th><th scope=col>&lt;labelled&gt;</th><th scope=col>&lt;labelled&gt;</th><th scope=col>&lt;labelled&gt;</th><th scope=col>&lt;labelled&gt;</th><th scope=col>&lt;labelled&gt;</th><th scope=col>&lt;labelled&gt;</th><th scope=col>...</th><th scope=col>&lt;labelled&gt;</th><th scope=col>&lt;dbl&gt;</th><th scope=col>&lt;dbl&gt;</th><th scope=col>&lt;dbl&gt;</th><th scope=col>&lt;labelled&gt;</th><th scope=col>&lt;int&gt;</th><th scope=col>&lt;labelled&gt;</th><th scope=col>&lt;int&gt;</th><th scope=col>&lt;fct&gt;</th><th scope=col>&lt;fct&gt;</th></tr>\n",
       "</thead>\n",
       "<tbody>\n",
       "\t<tr><th scope=row>1</th><td>10</td><td> 9.615385</td><td>2.263364</td><td>Female</td><td>0</td><td>0</td><td>0</td><td>1</td><td>0</td><td>0</td><td>...</td><td> 7</td><td>0.49</td><td> 0.343</td><td> 0.2401</td><td>3600</td><td>11</td><td>8370</td><td>18</td><td>Northeast</td><td>College graduate</td></tr>\n",
       "\t<tr><th scope=row>2</th><td>12</td><td>48.076923</td><td>3.872802</td><td>Male  </td><td>0</td><td>0</td><td>0</td><td>1</td><td>0</td><td>0</td><td>...</td><td>31</td><td>9.61</td><td>29.791</td><td>92.3521</td><td>3050</td><td>10</td><td>5070</td><td> 9</td><td>Northeast</td><td>College graduate</td></tr>\n",
       "\t<tr><th scope=row>3</th><td>15</td><td>11.057692</td><td>2.403126</td><td>Male  </td><td>0</td><td>1</td><td>0</td><td>0</td><td>0</td><td>0</td><td>...</td><td>18</td><td>3.24</td><td> 5.832</td><td>10.4976</td><td>6260</td><td>19</td><td> 770</td><td> 4</td><td>Northeast</td><td>High school     </td></tr>\n",
       "\t<tr><th scope=row>4</th><td>18</td><td>13.942308</td><td>2.634928</td><td>Female</td><td>0</td><td>0</td><td>0</td><td>0</td><td>1</td><td>0</td><td>...</td><td>25</td><td>6.25</td><td>15.625</td><td>39.0625</td><td> 420</td><td> 1</td><td>6990</td><td>12</td><td>Northeast</td><td>Advanced degree </td></tr>\n",
       "\t<tr><th scope=row>5</th><td>19</td><td>28.846154</td><td>3.361977</td><td>Female</td><td>0</td><td>0</td><td>0</td><td>1</td><td>0</td><td>0</td><td>...</td><td>22</td><td>4.84</td><td>10.648</td><td>23.4256</td><td>2015</td><td> 6</td><td>9470</td><td>22</td><td>Northeast</td><td>College graduate</td></tr>\n",
       "\t<tr><th scope=row>6</th><td>30</td><td>11.730769</td><td>2.462215</td><td>Female</td><td>0</td><td>0</td><td>0</td><td>1</td><td>0</td><td>0</td><td>...</td><td> 1</td><td>0.01</td><td> 0.001</td><td> 0.0001</td><td>1650</td><td> 5</td><td>7460</td><td>14</td><td>Northeast</td><td>College graduate</td></tr>\n",
       "</tbody>\n",
       "</table>\n"
      ],
      "text/latex": [
       "A data.frame: 6 × 23\n",
       "\\begin{tabular}{r|lllllllllllllllllllll}\n",
       "  & X & wage & lwage & sex & shs & hsg & scl & clg & ad & mw & ... & exp1 & exp2 & exp3 & exp4 & occ & occ2 & ind & ind2 & zone & study\\\\\n",
       "  & <int> & <labelled> & <labelled> & <fct> & <labelled> & <labelled> & <labelled> & <labelled> & <labelled> & <labelled> & ... & <labelled> & <dbl> & <dbl> & <dbl> & <labelled> & <int> & <labelled> & <int> & <fct> & <fct>\\\\\n",
       "\\hline\n",
       "\t1 & 10 &  9.615385 & 2.263364 & Female & 0 & 0 & 0 & 1 & 0 & 0 & ... &  7 & 0.49 &  0.343 &  0.2401 & 3600 & 11 & 8370 & 18 & Northeast & College graduate\\\\\n",
       "\t2 & 12 & 48.076923 & 3.872802 & Male   & 0 & 0 & 0 & 1 & 0 & 0 & ... & 31 & 9.61 & 29.791 & 92.3521 & 3050 & 10 & 5070 &  9 & Northeast & College graduate\\\\\n",
       "\t3 & 15 & 11.057692 & 2.403126 & Male   & 0 & 1 & 0 & 0 & 0 & 0 & ... & 18 & 3.24 &  5.832 & 10.4976 & 6260 & 19 &  770 &  4 & Northeast & High school     \\\\\n",
       "\t4 & 18 & 13.942308 & 2.634928 & Female & 0 & 0 & 0 & 0 & 1 & 0 & ... & 25 & 6.25 & 15.625 & 39.0625 &  420 &  1 & 6990 & 12 & Northeast & Advanced degree \\\\\n",
       "\t5 & 19 & 28.846154 & 3.361977 & Female & 0 & 0 & 0 & 1 & 0 & 0 & ... & 22 & 4.84 & 10.648 & 23.4256 & 2015 &  6 & 9470 & 22 & Northeast & College graduate\\\\\n",
       "\t6 & 30 & 11.730769 & 2.462215 & Female & 0 & 0 & 0 & 1 & 0 & 0 & ... &  1 & 0.01 &  0.001 &  0.0001 & 1650 &  5 & 7460 & 14 & Northeast & College graduate\\\\\n",
       "\\end{tabular}\n"
      ],
      "text/markdown": [
       "\n",
       "A data.frame: 6 × 23\n",
       "\n",
       "| <!--/--> | X &lt;int&gt; | wage &lt;labelled&gt; | lwage &lt;labelled&gt; | sex &lt;fct&gt; | shs &lt;labelled&gt; | hsg &lt;labelled&gt; | scl &lt;labelled&gt; | clg &lt;labelled&gt; | ad &lt;labelled&gt; | mw &lt;labelled&gt; | ... ... | exp1 &lt;labelled&gt; | exp2 &lt;dbl&gt; | exp3 &lt;dbl&gt; | exp4 &lt;dbl&gt; | occ &lt;labelled&gt; | occ2 &lt;int&gt; | ind &lt;labelled&gt; | ind2 &lt;int&gt; | zone &lt;fct&gt; | study &lt;fct&gt; |\n",
       "|---|---|---|---|---|---|---|---|---|---|---|---|---|---|---|---|---|---|---|---|---|---|\n",
       "| 1 | 10 |  9.615385 | 2.263364 | Female | 0 | 0 | 0 | 1 | 0 | 0 | ... |  7 | 0.49 |  0.343 |  0.2401 | 3600 | 11 | 8370 | 18 | Northeast | College graduate |\n",
       "| 2 | 12 | 48.076923 | 3.872802 | Male   | 0 | 0 | 0 | 1 | 0 | 0 | ... | 31 | 9.61 | 29.791 | 92.3521 | 3050 | 10 | 5070 |  9 | Northeast | College graduate |\n",
       "| 3 | 15 | 11.057692 | 2.403126 | Male   | 0 | 1 | 0 | 0 | 0 | 0 | ... | 18 | 3.24 |  5.832 | 10.4976 | 6260 | 19 |  770 |  4 | Northeast | High school      |\n",
       "| 4 | 18 | 13.942308 | 2.634928 | Female | 0 | 0 | 0 | 0 | 1 | 0 | ... | 25 | 6.25 | 15.625 | 39.0625 |  420 |  1 | 6990 | 12 | Northeast | Advanced degree  |\n",
       "| 5 | 19 | 28.846154 | 3.361977 | Female | 0 | 0 | 0 | 1 | 0 | 0 | ... | 22 | 4.84 | 10.648 | 23.4256 | 2015 |  6 | 9470 | 22 | Northeast | College graduate |\n",
       "| 6 | 30 | 11.730769 | 2.462215 | Female | 0 | 0 | 0 | 1 | 0 | 0 | ... |  1 | 0.01 |  0.001 |  0.0001 | 1650 |  5 | 7460 | 14 | Northeast | College graduate |\n",
       "\n"
      ],
      "text/plain": [
       "  X  wage      lwage    sex    shs hsg scl clg ad mw ... exp1 exp2 exp3  \n",
       "1 10  9.615385 2.263364 Female 0   0   0   1   0  0  ...  7   0.49  0.343\n",
       "2 12 48.076923 3.872802 Male   0   0   0   1   0  0  ... 31   9.61 29.791\n",
       "3 15 11.057692 2.403126 Male   0   1   0   0   0  0  ... 18   3.24  5.832\n",
       "4 18 13.942308 2.634928 Female 0   0   0   0   1  0  ... 25   6.25 15.625\n",
       "5 19 28.846154 3.361977 Female 0   0   0   1   0  0  ... 22   4.84 10.648\n",
       "6 30 11.730769 2.462215 Female 0   0   0   1   0  0  ...  1   0.01  0.001\n",
       "  exp4    occ  occ2 ind  ind2 zone      study           \n",
       "1  0.2401 3600 11   8370 18   Northeast College graduate\n",
       "2 92.3521 3050 10   5070  9   Northeast College graduate\n",
       "3 10.4976 6260 19    770  4   Northeast High school     \n",
       "4 39.0625  420  1   6990 12   Northeast Advanced degree \n",
       "5 23.4256 2015  6   9470 22   Northeast College graduate\n",
       "6  0.0001 1650  5   7460 14   Northeast College graduate"
      ]
     },
     "metadata": {},
     "output_type": "display_data"
    }
   ],
   "source": [
    "base2$sex <- factor(base2$sex)\n",
    "base2$zone <- factor(base2$zone)\n",
    "base2$study <- factor(base2$study)\n",
    "head(base2)"
   ]
  },
  {
   "cell_type": "code",
   "execution_count": 18,
   "id": "4ab4dd6f",
   "metadata": {},
   "outputs": [
    {
     "data": {
      "text/plain": [
       "           sex\n",
       "zone        Male Female\n",
       "  Northeast  635    538\n",
       "  Midwest    741    596\n",
       "  South      853    674\n",
       "  West       632    481"
      ]
     },
     "metadata": {},
     "output_type": "display_data"
    }
   ],
   "source": [
    "use_labels(base2,table(zone,sex))"
   ]
  },
  {
   "cell_type": "code",
   "execution_count": 19,
   "id": "cba9c55b",
   "metadata": {},
   "outputs": [
    {
     "data": {
      "text/plain": [
       "                  sex\n",
       "study              Male Female\n",
       "  Some high school   91     29\n",
       "  High school       842    414\n",
       "  Some college      782    650\n",
       "  College graduate  841    795\n",
       "  Advanced degree   305    401"
      ]
     },
     "metadata": {},
     "output_type": "display_data"
    }
   ],
   "source": [
    "use_labels(base2,table(study,sex))"
   ]
  },
  {
   "cell_type": "code",
   "execution_count": 20,
   "id": "89ef3444",
   "metadata": {},
   "outputs": [
    {
     "data": {
      "text/plain": [
       "                  zone\n",
       "study              Northeast Midwest South West\n",
       "  Some high school        18      32    41   29\n",
       "  High school            290     362   360  244\n",
       "  Some college           267     438   404  323\n",
       "  College graduate       428     378   473  357\n",
       "  Advanced degree        170     127   249  160"
      ]
     },
     "metadata": {},
     "output_type": "display_data"
    }
   ],
   "source": [
    "use_labels(base2,table(study, zone))"
   ]
  },
  {
   "cell_type": "code",
   "execution_count": 21,
   "id": "ee92a8d2",
   "metadata": {},
   "outputs": [
    {
     "data": {
      "image/png": "[encoded data removed]",
      "text/plain": [
       "plot without title"
      ]
     },
     "metadata": {
      "image/png": {
       "height": 420,
       "width": 420
      }
     },
     "output_type": "display_data"
    }
   ],
   "source": [
    "ggplot(base2, aes(x=exp1,y=lwage)) +\n",
    "geom_point(aes(color=sex)) +\n",
    "facet_grid(factor(study) ~ factor(zone))"
   ]
  },
  {
   "cell_type": "code",
   "execution_count": 22,
   "id": "3b70e9fe",
   "metadata": {},
   "outputs": [
    {
     "data": {
      "image/png": "[encoded data removed]",
      "text/plain": [
       "plot without title"
      ]
     },
     "metadata": {
      "image/png": {
       "height": 420,
       "width": 420
      }
     },
     "output_type": "display_data"
    }
   ],
   "source": [
    "use_labels(base2, boxplot(lwage ~ sex))"
   ]
  },
  {
   "cell_type": "code",
   "execution_count": 23,
   "id": "a18294fd",
   "metadata": {},
   "outputs": [
    {
     "data": {
      "image/png": "[encoded data removed]",
      "text/plain": [
       "plot without title"
      ]
     },
     "metadata": {
      "image/png": {
       "height": 420,
       "width": 420
      }
     },
     "output_type": "display_data"
    }
   ],
   "source": [
    "use_labels(base2, boxplot(lwage ~ zone))"
   ]
  },
  {
   "cell_type": "code",
   "execution_count": 24,
   "id": "f6141e61",
   "metadata": {},
   "outputs": [
    {
     "data": {
      "image/png": "[encoded data removed]",
      "text/plain": [
       "plot without title"
      ]
     },
     "metadata": {
      "image/png": {
       "height": 420,
       "width": 420
      }
     },
     "output_type": "display_data"
    }
   ],
   "source": [
    "use_labels(base2, boxplot(lwage ~ study))"
   ]
  },
  {
   "cell_type": "markdown",
   "id": "5fbcfc6e",
   "metadata": {},
   "source": [
    "### 3.Replicacion de grafica"
   ]
  },
  {
   "cell_type": "code",
   "execution_count": 25,
   "id": "12541b19",
   "metadata": {},
   "outputs": [
    {
     "name": "stderr",
     "output_type": "stream",
     "text": [
      "`geom_smooth()` using method = 'gam' and formula 'y ~ s(x, bs = \"cs\")'\n",
      "\n",
      "`geom_smooth()` using method = 'gam' and formula 'y ~ s(x, bs = \"cs\")'\n",
      "\n"
     ]
    },
    {
     "data": {
      "image/png": "[encoded data removed]",
      "text/plain": [
       "plot without title"
      ]
     },
     "metadata": {
      "image/png": {
       "height": 420,
       "width": 420
      }
     },
     "output_type": "display_data"
    }
   ],
   "source": [
    "somcol = base_raw[base_raw$scl==1,]\n",
    "col = base_raw[base_raw$clg==1,]\n",
    "\n",
    "ggplot(NULL,aes(exp1,lwage)) +\n",
    "    geom_smooth( data=col,  fill=\"blue\",colour=\"darkblue\", size=1,se=FALSE,linetype = \"dashed\") + \n",
    "    stat_summary_bin(data=col, fun='mean', bins=60,color='blue', size=1, geom='line') +\n",
    "    geom_smooth( data=somcol, fill=\"red\",colour=\"red\", size=1,se=FALSE,linetype = \"dashed\") +\n",
    "    stat_summary_bin(data=somcol, fun='mean', bins=60,color='red', size=1, geom='line')"
   ]
  },
  {
   "cell_type": "markdown",
   "id": "89fac2d4",
   "metadata": {},
   "source": [
    "### 5. Frisch-Waugh-Lovell Theorem"
   ]
  },
  {
   "cell_type": "markdown",
   "id": "166881e5",
   "metadata": {},
   "source": [
    "We got the model as:\n",
    "\n",
    "$$Y = D{\\beta_1} + W{\\beta_2} +e$$\n",
    "\n",
    "where $\\beta_1$ is the coefficient of interest.\n",
    "\n",
    "Using the Frisch-Waugh-Lovell Theorem it is possible to obtain the estimator for $\\beta_1$, by a partialling-out regression model as:\n",
    "\n",
    "$$Y = {\\gamma_{YW}}W  +{e_1}$$\n",
    "$$D = {\\gamma_{DW}}W  +{e_2}$$\n",
    "\n",
    "After aplly a OLS regression, we get the residual error from both models and obtain the residual matrix:\n",
    "\n",
    "$$\\hat{e_1} = Y - W{\\gamma_{YW}} $$\n",
    "$$ = Y - W(W'W)^{-1} W'Y $$\n",
    "$$ = (I -  W(W'W)^{-1} W') Y $$\n",
    "$$ = MY $$\n",
    "\n",
    "$$\\hat{e_2} = D - W{\\gamma_{DW}} $$\n",
    "$$ = D - W(W'W)^{-1} W'D $$\n",
    "$$ = (I -  W(W'W)^{-1} W') D $$\n",
    "$$ = MD $$\n",
    "\n",
    "Where $M$ is a idempotent matrix, regress the residuals to obtain $\\beta_1$ :\n",
    "$$\\hat{e_1} = \\hat{e_2} + B_{\\hat{e_1}\\hat{e_2}} + e_3$$\n",
    "\n",
    "Then: \n",
    "$$B_{\\hat{e_1}\\hat{e_2}} = \\beta_1$$"
   ]
  }
 ],
 "metadata": {
  "kernelspec": {
   "display_name": "R",
   "language": "R",
   "name": "ir"
  },
  "language_info": {
   "codemirror_mode": "r",
   "file_extension": ".r",
   "mimetype": "text/x-r-source",
   "name": "R",
   "pygments_lexer": "r",
   "version": "4.1.3"
  }
 },
 "nbformat": 4,
 "nbformat_minor": 5
}
