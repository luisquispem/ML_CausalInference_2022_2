{
 "cells": [
  {
   "cell_type": "markdown",
   "id": "bd5aa3df",
   "metadata": {},
   "source": [
    "# Bootstraping"
   ]
  },
  {
   "cell_type": "code",
   "execution_count": 11,
   "id": "48e768f1",
   "metadata": {},
   "outputs": [],
   "source": [
    "#install relevant packages\n",
    "#install.packages(\"ISLR2\")\n",
    "#install.packages(\"boot\")\n",
    "library(ISLR2)\n",
    "#set.seed(1)\n",
    "library(boot)\n"
   ]
  },
  {
   "cell_type": "code",
   "execution_count": 14,
   "id": "9f58f713",
   "metadata": {},
   "outputs": [],
   "source": [
    "# select the data\n",
    "\n",
    "data <- as.data.frame(read.table('C:/Users/Alvaro/Documents/ML/data/penn_jae.dat', header = T))\n",
    "data[,c(3)] <- log(data[,c(3)])\n"
   ]
  },
  {
   "cell_type": "code",
   "execution_count": 15,
   "id": "7a5e6bbe",
   "metadata": {},
   "outputs": [],
   "source": [
    "#subsets for TG==4\n",
    "\n",
    "sub_penn= subset(data, tg==4 | tg==0)"
   ]
  },
  {
   "cell_type": "markdown",
   "id": "7eb84e6c",
   "metadata": {},
   "source": [
    "## Bootstraping regression"
   ]
  },
  {
   "cell_type": "code",
   "execution_count": 16,
   "id": "68eefbbd",
   "metadata": {},
   "outputs": [],
   "source": [
    "#function for a bootstraping regression\n",
    "\n",
    "boot.fn <- function(data, index)\n",
    "  coef(lm(inuidur1 ~ tg+ female+black+othrace+factor(dep)+q2+q3+q4+q5+q6+agelt35+agegt54+durable+lusd+husd, data = sub_penn, subset = index))"
   ]
  },
  {
   "cell_type": "code",
   "execution_count": 17,
   "id": "d94dbabb",
   "metadata": {},
   "outputs": [
    {
     "data": {
      "text/plain": [
       "\n",
       "Call:\n",
       "lm(formula = inuidur1 ~ tg + female + black + othrace + factor(dep) + \n",
       "    q2 + q3 + q4 + q5 + q6 + agelt35 + agegt54 + durable + lusd + \n",
       "    husd, data = sub_penn)\n",
       "\n",
       "Coefficients:\n",
       " (Intercept)            tg        female         black       othrace  \n",
       "    2.178462     -0.017923      0.126368     -0.293768     -0.472445  \n",
       "factor(dep)1  factor(dep)2            q2            q3            q4  \n",
       "    0.029867      0.096187      0.073678     -0.038507     -0.054949  \n",
       "          q5            q6       agelt35       agegt54       durable  \n",
       "   -0.144178      0.003361     -0.162772      0.229667      0.126557  \n",
       "        lusd          husd  \n",
       "   -0.175353     -0.105225  \n"
      ]
     },
     "metadata": {},
     "output_type": "display_data"
    }
   ],
   "source": [
    "#call an OLS regression\n",
    "\n",
    "lm(inuidur1 ~ tg+ female+black+othrace+factor(dep)+q2+q3+q4+q5+q6+agelt35+agegt54+durable+lusd+husd, data = sub_penn)\n"
   ]
  },
  {
   "cell_type": "code",
   "execution_count": 18,
   "id": "0a31297d",
   "metadata": {},
   "outputs": [
    {
     "data": {
      "text/plain": [
       "\n",
       "ORDINARY NONPARAMETRIC BOOTSTRAP\n",
       "\n",
       "\n",
       "Call:\n",
       "boot(data = sub_penn, statistic = boot.fn, R = 1000)\n",
       "\n",
       "\n",
       "Bootstrap Statistics :\n",
       "         original        bias    std. error\n",
       "t1*   2.178462326  1.158480e-03 0.154406454\n",
       "t2*  -0.017923121 -8.810682e-05 0.008893641\n",
       "t3*   0.126368328  8.394803e-04 0.035169560\n",
       "t4*  -0.293767980  5.101116e-04 0.060339684\n",
       "t5*  -0.472445058 -5.488755e-03 0.243632256\n",
       "t6*   0.029866899  7.606843e-04 0.055536796\n",
       "t7*   0.096186517 -1.161955e-03 0.045275647\n",
       "t8*   0.073678072 -1.130668e-03 0.152019258\n",
       "t9*  -0.038506537 -4.256760e-04 0.149675188\n",
       "t10* -0.054949195 -8.952685e-04 0.150708955\n",
       "t11* -0.144177912 -1.587659e-03 0.149812343\n",
       "t12*  0.003361318 -3.816678e-03 0.161078359\n",
       "t13* -0.162772168  1.778627e-03 0.038226527\n",
       "t14*  0.229666708  2.239486e-04 0.058180247\n",
       "t15*  0.126557359  1.210092e-05 0.048556357\n",
       "t16* -0.175352572 -6.636363e-04 0.040967536\n",
       "t17* -0.105224727 -7.223598e-04 0.045172776"
      ]
     },
     "metadata": {},
     "output_type": "display_data"
    }
   ],
   "source": [
    "#bootstrap reg using only 1000 obs\n",
    "# and now compute the standard errors of 1000 bootstrap estimates\n",
    "\n",
    "set.seed(1)\n",
    "reg_lineal = boot(sub_penn, boot.fn, 1000)\n",
    "reg_lineal"
   ]
  },
  {
   "cell_type": "code",
   "execution_count": 20,
   "id": "984f01a3",
   "metadata": {},
   "outputs": [
    {
     "data": {
      "text/plain": [
       "\n",
       "ORDINARY NONPARAMETRIC BOOTSTRAP\n",
       "\n",
       "\n",
       "Call:\n",
       "boot(data = sub_penn, statistic = boot.fn, R = 5099)\n",
       "\n",
       "\n",
       "Bootstrap Statistics :\n",
       "         original        bias    std. error\n",
       "t1*   2.178462326  1.036302e-03 0.154391970\n",
       "t2*  -0.017923121 -9.327312e-05 0.008949653\n",
       "t3*   0.126368328 -9.364868e-04 0.034729554\n",
       "t4*  -0.293767980  3.838486e-04 0.059116090\n",
       "t5*  -0.472445058  1.733870e-03 0.242367518\n",
       "t6*   0.029866899  1.026775e-03 0.054333698\n",
       "t7*   0.096186517 -4.594687e-04 0.045780853\n",
       "t8*   0.073678072 -8.434511e-04 0.151277713\n",
       "t9*  -0.038506537 -7.245468e-04 0.151242729\n",
       "t10* -0.054949195 -5.727010e-04 0.151725025\n",
       "t11* -0.144177912 -1.035197e-03 0.151701007\n",
       "t12*  0.003361318 -1.879685e-03 0.163246178\n",
       "t13* -0.162772168 -2.322735e-04 0.037575050\n",
       "t14*  0.229666708  1.125608e-03 0.057813179\n",
       "t15*  0.126557359  4.387404e-04 0.048456237\n",
       "t16* -0.175352572 -5.721046e-05 0.040625486\n",
       "t17* -0.105224727 -1.843968e-04 0.044686936"
      ]
     },
     "metadata": {},
     "output_type": "display_data"
    }
   ],
   "source": [
    "#bootstrap reg using only 5099 obs\n",
    "set.seed(1)\n",
    "reg_lineal1 = boot(sub_penn, boot.fn, 5099)\n",
    "reg_lineal1"
   ]
  },
  {
   "cell_type": "code",
   "execution_count": 79,
   "id": "3e090ef6",
   "metadata": {},
   "outputs": [
    {
     "data": {
      "text/html": [
       "<style>\n",
       ".dl-inline {width: auto; margin:0; padding: 0}\n",
       ".dl-inline>dt, .dl-inline>dd {float: none; width: auto; display: inline-block}\n",
       ".dl-inline>dt::after {content: \":\\0020\"; padding-right: .5ex}\n",
       ".dl-inline>dt:not(:first-of-type) {padding-left: .5ex}\n",
       "</style><dl class=dl-inline><dt>(Intercept)</dt><dd>2.16663470448913</dd><dt>tg</dt><dd>-0.0156647727476627</dd><dt>female</dt><dd>0.149251687207143</dd><dt>black</dt><dd>-0.272687560015499</dd><dt>othrace</dt><dd>-0.241902840138529</dd><dt>factor(dep)1</dt><dd>0.0807263580270592</dd><dt>factor(dep)2</dt><dd>0.12131174580603</dd><dt>q2</dt><dd>0.0377770129793884</dd><dt>q3</dt><dd>-0.0377622128953459</dd><dt>q4</dt><dd>-0.101964910749524</dd><dt>q5</dt><dd>-0.181064930637594</dd><dt>q6</dt><dd>0.0914783132907637</dd><dt>agelt35</dt><dd>-0.178709930516868</dd><dt>agegt54</dt><dd>0.227324095574295</dd><dt>durable</dt><dd>0.157136358359424</dd><dt>lusd</dt><dd>-0.177054985119077</dd><dt>husd</dt><dd>-0.104702558835693</dd></dl>\n"
      ],
      "text/latex": [
       "\\begin{description*}\n",
       "\\item[(Intercept)] 2.16663470448913\n",
       "\\item[tg] -0.0156647727476627\n",
       "\\item[female] 0.149251687207143\n",
       "\\item[black] -0.272687560015499\n",
       "\\item[othrace] -0.241902840138529\n",
       "\\item[factor(dep)1] 0.0807263580270592\n",
       "\\item[factor(dep)2] 0.12131174580603\n",
       "\\item[q2] 0.0377770129793884\n",
       "\\item[q3] -0.0377622128953459\n",
       "\\item[q4] -0.101964910749524\n",
       "\\item[q5] -0.181064930637594\n",
       "\\item[q6] 0.0914783132907637\n",
       "\\item[agelt35] -0.178709930516868\n",
       "\\item[agegt54] 0.227324095574295\n",
       "\\item[durable] 0.157136358359424\n",
       "\\item[lusd] -0.177054985119077\n",
       "\\item[husd] -0.104702558835693\n",
       "\\end{description*}\n"
      ],
      "text/markdown": [
       "(Intercept)\n",
       ":   2.16663470448913tg\n",
       ":   -0.0156647727476627female\n",
       ":   0.149251687207143black\n",
       ":   -0.272687560015499othrace\n",
       ":   -0.241902840138529factor(dep)1\n",
       ":   0.0807263580270592factor(dep)2\n",
       ":   0.12131174580603q2\n",
       ":   0.0377770129793884q3\n",
       ":   -0.0377622128953459q4\n",
       ":   -0.101964910749524q5\n",
       ":   -0.181064930637594q6\n",
       ":   0.0914783132907637agelt35\n",
       ":   -0.178709930516868agegt54\n",
       ":   0.227324095574295durable\n",
       ":   0.157136358359424lusd\n",
       ":   -0.177054985119077husd\n",
       ":   -0.104702558835693\n",
       "\n"
      ],
      "text/plain": [
       " (Intercept)           tg       female        black      othrace factor(dep)1 \n",
       "  2.16663470  -0.01566477   0.14925169  -0.27268756  -0.24190284   0.08072636 \n",
       "factor(dep)2           q2           q3           q4           q5           q6 \n",
       "  0.12131175   0.03777701  -0.03776221  -0.10196491  -0.18106493   0.09147831 \n",
       "     agelt35      agegt54      durable         lusd         husd \n",
       " -0.17870993   0.22732410   0.15713636  -0.17705499  -0.10470256 "
      ]
     },
     "metadata": {},
     "output_type": "display_data"
    }
   ],
   "source": [
    "#using a radom subset of the indeces of the whole dataset\n",
    "set.seed(2)\n",
    "boot.fn(sub_penn, sample(5099, 5099, replace = T))"
   ]
  },
  {
   "cell_type": "code",
   "execution_count": 21,
   "id": "9491ca7e",
   "metadata": {},
   "outputs": [
    {
     "data": {
      "image/png": "[encoded data removed]",
      "text/plain": [
       "Plot with title \"Histogram of t\""
      ]
     },
     "metadata": {
      "image/png": {
       "height": 420,
       "width": 420
      }
     },
     "output_type": "display_data"
    }
   ],
   "source": [
    "plot(reg_lineal, index=1)  # Histogram distibution of \"intercept\"\n"
   ]
  },
  {
   "cell_type": "code",
   "execution_count": 22,
   "id": "669ac6e6",
   "metadata": {},
   "outputs": [
    {
     "data": {
      "image/png": "[encoded data removed]",
      "text/plain": [
       "Plot with title \"Histogram of t\""
      ]
     },
     "metadata": {
      "image/png": {
       "height": 420,
       "width": 420
      }
     },
     "output_type": "display_data"
    }
   ],
   "source": [
    "plot(reg_lineal, index=2)  # Histogram of distribution of \"treatment\"\n"
   ]
  },
  {
   "cell_type": "code",
   "execution_count": 23,
   "id": "f410708f",
   "metadata": {},
   "outputs": [
    {
     "data": {
      "image/png": "[encoded data removed]",
      "text/plain": [
       "Plot with title \"Histogram of t\""
      ]
     },
     "metadata": {
      "image/png": {
       "height": 420,
       "width": 420
      }
     },
     "output_type": "display_data"
    }
   ],
   "source": [
    "plot(reg_lineal, index=3)  # Histogram of distribution of \"female\"\n"
   ]
  },
  {
   "cell_type": "code",
   "execution_count": 24,
   "id": "51895755",
   "metadata": {},
   "outputs": [
    {
     "data": {
      "image/png": "[encoded data removed]",
      "text/plain": [
       "Plot with title \"Histogram of t\""
      ]
     },
     "metadata": {
      "image/png": {
       "height": 420,
       "width": 420
      }
     },
     "output_type": "display_data"
    }
   ],
   "source": [
    "plot(reg_lineal, index=4)  # Histogram of distribution of \"black\"\n"
   ]
  },
  {
   "cell_type": "code",
   "execution_count": 94,
   "id": "aa5eab10",
   "metadata": {},
   "outputs": [
    {
     "data": {
      "text/plain": [
       "\n",
       "Call:\n",
       "lm(formula = inuidur1 ~ tg + female + black + othrace + factor(dep) + \n",
       "    q2 + q3 + q4 + q5 + q6 + agelt35 + agegt54 + durable + lusd + \n",
       "    husd, data = sub_penn)\n",
       "\n",
       "Residuals:\n",
       "    Min      1Q  Median      3Q     Max \n",
       "-2.6225 -0.9946  0.3130  1.0409  2.0889 \n",
       "\n",
       "Coefficients:\n",
       "              Estimate Std. Error t value Pr(>|t|)    \n",
       "(Intercept)   2.178462   0.159015  13.700  < 2e-16 ***\n",
       "tg           -0.017923   0.008866  -2.022 0.043270 *  \n",
       "female        0.126368   0.034825   3.629 0.000288 ***\n",
       "black        -0.293768   0.052976  -5.545 3.08e-08 ***\n",
       "othrace      -0.472445   0.198398  -2.381 0.017288 *  \n",
       "factor(dep)1  0.029867   0.054140   0.552 0.581207    \n",
       "factor(dep)2  0.096187   0.046862   2.053 0.040169 *  \n",
       "q2            0.073678   0.156826   0.470 0.638512    \n",
       "q3           -0.038507   0.156478  -0.246 0.805628    \n",
       "q4           -0.054949   0.156560  -0.351 0.725619    \n",
       "q5           -0.144178   0.155888  -0.925 0.355071    \n",
       "q6            0.003361   0.166456   0.020 0.983890    \n",
       "agelt35      -0.162772   0.036965  -4.403 1.09e-05 ***\n",
       "agegt54       0.229667   0.059172   3.881 0.000105 ***\n",
       "durable       0.126557   0.048146   2.629 0.008599 ** \n",
       "lusd         -0.175353   0.040982  -4.279 1.91e-05 ***\n",
       "husd         -0.105225   0.044909  -2.343 0.019163 *  \n",
       "---\n",
       "Signif. codes:  0 '***' 0.001 '**' 0.01 '*' 0.05 '.' 0.1 ' ' 1\n",
       "\n",
       "Residual standard error: 1.199 on 5082 degrees of freedom\n",
       "Multiple R-squared:  0.02914,\tAdjusted R-squared:  0.02608 \n",
       "F-statistic: 9.534 on 16 and 5082 DF,  p-value: < 2.2e-16\n"
      ]
     },
     "metadata": {},
     "output_type": "display_data"
    },
    {
     "data": {
      "text/plain": [
       "\n",
       "ORDINARY NONPARAMETRIC BOOTSTRAP\n",
       "\n",
       "\n",
       "Call:\n",
       "boot(data = sub_penn, statistic = boot.fn, R = 1000)\n",
       "\n",
       "\n",
       "Bootstrap Statistics :\n",
       "         original        bias    std. error\n",
       "t1*   2.178462326  2.620993e-03 0.157941485\n",
       "t2*  -0.017923121 -1.100853e-04 0.008940378\n",
       "t3*   0.126368328 -8.395288e-04 0.034943753\n",
       "t4*  -0.293767980 -2.684285e-03 0.059114938\n",
       "t5*  -0.472445058 -1.144848e-04 0.248725332\n",
       "t6*   0.029866899  1.159261e-03 0.054522638\n",
       "t7*   0.096186517 -3.926893e-03 0.045400268\n",
       "t8*   0.073678072 -5.152941e-04 0.156931390\n",
       "t9*  -0.038506537 -1.895179e-03 0.156179722\n",
       "t10* -0.054949195 -6.217477e-04 0.157142479\n",
       "t11* -0.144177912 -2.123721e-03 0.154589573\n",
       "t12*  0.003361318  1.512316e-03 0.168265893\n",
       "t13* -0.162772168 -1.383005e-03 0.037530271\n",
       "t14*  0.229666708 -3.593901e-03 0.056108327\n",
       "t15*  0.126557359 -1.597020e-03 0.048345078\n",
       "t16* -0.175352572  1.688165e-03 0.040924929\n",
       "t17* -0.105224727  7.161931e-05 0.044539695"
      ]
     },
     "metadata": {},
     "output_type": "display_data"
    }
   ],
   "source": [
    "#Comparing the two methods, we have:\n",
    "reg1 <- lm(inuidur1 ~ tg+ female+black+othrace+factor(dep)+q2+q3+q4+q5+q6+agelt35+agegt54+durable+lusd+husd, data = sub_penn)\n",
    "summary(reg1)\n",
    "reg_lineal"
   ]
  },
  {
   "cell_type": "markdown",
   "id": "eba3e025",
   "metadata": {},
   "source": [
    "# Comparative models"
   ]
  },
  {
   "cell_type": "markdown",
   "id": "58473cba",
   "metadata": {},
   "source": [
    "You have to create your analysis based on the scripts pm3-notebook-newdata link in Python, R and Julia. Use the cps2012.Rdata dataset for following models:\n",
    "\n",
    "##### (basic model)\n",
    "\n",
    "lnw ~ female + female : (widowed + divorced + separated + nevermarried +\n",
    "hsd08 + hsd911 + hsg + cg + ad + mw + so + we + exp1 + exp2 + exp3)\n",
    "\n",
    "##### (flexible model)\n",
    "\n",
    "lnw ~ female + female : (widowed + divorced + separated + nevermarried +\n",
    "hsd08 + hsd911 + hsg + cg + ad + mw + so + we + exp1 + exp2 + exp3) + (widowed + divorced + separated + nevermarried + hsd08 + hsd911 + hsg + cg + ad + mw + so +we + exp1 + exp2 + exp3) ^ 2\n",
    "\n",
    "Run both model specification for following models\n",
    "\n",
    "#### Lineal Models\n",
    "\n",
    "* OLS\n",
    "* Lasso (HDM)\n",
    "* Lasso - CV\n",
    "* Elastic Net - CV\n",
    "* Ridge lasso - CV\n",
    "\n",
    "Run just basic model specification for following models\n",
    "\n",
    "\n",
    "#### No linear Models\n",
    "\n",
    "* Tree regression\n",
    "* Pruned tree regression\n",
    "\n",
    "Create a table with MSE, MSE's standar error and R^2 for each model\n",
    "\n"
   ]
  },
  {
   "cell_type": "code",
   "execution_count": 27,
   "id": "225bf291",
   "metadata": {},
   "outputs": [
    {
     "data": {
      "text/plain": [
       "data : 'data.frame':\t29217 obs. of  23 variables:\n",
       " $ year        : num  2012 2012 2012 2012 2012 ...\n",
       " $ lnw         : num  1.91 1.37 2.54 1.8 3.35 ...\n",
       " $ female      : num  1 1 0 1 0 0 0 0 0 1 ...\n",
       " $ widowed     : num  0 0 0 0 0 0 0 0 0 0 ...\n",
       " $ divorced    : num  0 0 0 0 0 0 0 0 0 0 ...\n",
       " $ separated   : num  0 0 0 0 0 0 0 0 0 0 ...\n",
       " $ nevermarried: num  0 0 0 0 0 0 1 0 0 0 ...\n",
       " $ hsd08       : num  0 0 0 0 0 0 0 0 0 0 ...\n",
       " $ hsd911      : num  0 1 0 0 0 0 0 0 0 0 ...\n",
       " $ hsg         : num  0 0 1 1 0 1 1 0 0 0 ...\n",
       " $ cg          : num  0 0 0 0 1 0 0 0 1 0 ...\n",
       " $ ad          : num  0 0 0 0 0 0 0 0 0 0 ...\n",
       " $ mw          : num  0 0 0 0 0 0 0 0 0 0 ...\n",
       " $ so          : num  0 0 0 0 0 0 0 0 0 0 ...\n",
       " $ we          : num  0 0 0 0 0 0 0 0 0 0 ...\n",
       " $ exp1        : num  22 30 19 14 15 23 33 23.5 15 15.5 ...\n",
       " $ exp2        : num  4.84 9 3.61 1.96 2.25 ...\n",
       " $ exp3        : num  10.65 27 6.86 2.74 3.38 ...\n",
       " $ exp4        : num  23.43 81 13.03 3.84 5.06 ...\n",
       " $ weight      : num  569 626 264 257 257 ...\n",
       " $ married     : logi  TRUE TRUE TRUE TRUE TRUE TRUE ...\n",
       " $ ne          : logi  TRUE TRUE TRUE TRUE TRUE TRUE ...\n",
       " $ sc          : logi  TRUE FALSE FALSE FALSE FALSE FALSE ..."
      ]
     },
     "metadata": {},
     "output_type": "display_data"
    }
   ],
   "source": [
    "# import dataset\n",
    "\n",
    "load('../../data/cps2012.RData', ex <- new.env())\n",
    "ls.str(ex)\n",
    "\n",
    "#29217 rows, 23 columns"
   ]
  },
  {
   "cell_type": "code",
   "execution_count": 26,
   "id": "712e6a31",
   "metadata": {},
   "outputs": [
    {
     "ename": "ERROR",
     "evalue": "Error in eval(substitute(select), nl, parent.frame()): objeto 'lnw' no encontrado\n",
     "output_type": "error",
     "traceback": [
      "Error in eval(substitute(select), nl, parent.frame()): objeto 'lnw' no encontrado\nTraceback:\n",
      "1. subset(data, select = -c(lnw))",
      "2. subset.data.frame(data, select = -c(lnw))",
      "3. eval(substitute(select), nl, parent.frame())",
      "4. eval(substitute(select), nl, parent.frame())"
     ]
    }
   ],
   "source": [
    "Z <- subset(data,select=-c(lnw)) # regressors\n",
    "colnames(Z)"
   ]
  },
  {
   "cell_type": "code",
   "execution_count": null,
   "id": "851e2220",
   "metadata": {},
   "outputs": [],
   "source": [
    "HV = hist(data$lnw, xlab= \"hourly wage\", main=\"Empirical wage distribution from the US survey data\", breaks= 35)\n"
   ]
  },
  {
   "cell_type": "code",
   "execution_count": null,
   "id": "fe00601a",
   "metadata": {},
   "outputs": [],
   "source": [
    "#breaks from the hist\n",
    "HV$breaks"
   ]
  },
  {
   "cell_type": "markdown",
   "id": "c80e6c2b",
   "metadata": {},
   "source": [
    "#### Analysis for the data\n",
    " Now it´s regression time"
   ]
  },
  {
   "cell_type": "code",
   "execution_count": null,
   "id": "1f4fed00",
   "metadata": {},
   "outputs": [],
   "source": [
    "#split the data\n",
    "set.seed(1234)\n",
    "training <- sample(nrow(data), nrow(data)*(3/4), replace=FALSE)\n",
    "\n",
    "data_train <- data[training,]\n",
    "data_test <- data[-training,]\n",
    "\n",
    "#two matrices"
   ]
  },
  {
   "cell_type": "code",
   "execution_count": null,
   "id": "f7d95780",
   "metadata": {},
   "outputs": [],
   "source": [
    "#matrix test\n",
    "dim(data_test)\n"
   ]
  },
  {
   "cell_type": "code",
   "execution_count": null,
   "id": "8a201daa",
   "metadata": {},
   "outputs": [],
   "source": [
    "#matrix train is bigger\n",
    "dim(data_train)"
   ]
  },
  {
   "cell_type": "code",
   "execution_count": null,
   "id": "96986d3a",
   "metadata": {},
   "outputs": [],
   "source": [
    "#specify the models\n",
    "X_basic <-  \"female + female : (widowed + divorced + separated + nevermarried +\n",
    "hsd08 + hsd911 + hsg + cg + ad + mw + so + we + exp1 + exp2 + exp3)\"\n",
    "X_flex <- \"female + female : (widowed + divorced + separated + nevermarried +\n",
    "hsd08 + hsd911 + hsg + cg + ad + mw + so + we + exp1 + exp2 + exp3) + (widowed + divorced + separated + nevermarried + hsd08 + hsd911 + hsg + cg + ad + mw + so +we + exp1 + exp2 + exp3) ^ 2\"\n",
    "formula_basic <- as.formula(paste(\"lnw\", \"~\", X_basic))\n",
    "formula_flex <- as.formula(paste(\"lnw\", \"~\", X_flex))\n",
    "\n",
    "model_X_basic_train <- model.matrix(formula_basic,data_train)\n",
    "model_X_basic_test <- model.matrix(formula_basic,data_test)\n",
    "p_basic <- dim(model_X_basic_train)[2]\n",
    "\n",
    "model_X_flex_train <- model.matrix(formula_flex,data_train)\n",
    "model_X_flex_test <- model.matrix(formula_flex,data_test)\n",
    "p_flex <- dim(model_X_flex_train)[2]"
   ]
  },
  {
   "cell_type": "code",
   "execution_count": null,
   "id": "f0cad71f",
   "metadata": {},
   "outputs": [],
   "source": [
    "model_X_basic_train <- model_X_basic_train[ , which(apply(model_X_basic_train, 2, var) != 0)]\n",
    "model_X_basic_test <- model_X_basic_test[ , which(apply(model_X_basic_test, 2, var) != 0)]\n",
    "model_X_flex_train <- model_X_flex_train[ , which(apply(model_X_flex_train, 2, var) != 0)]\n",
    "model_X_flex_test <- model_X_flex_test[ , which(apply(model_X_flex_test, 2, var) != 0)]"
   ]
  },
  {
   "cell_type": "code",
   "execution_count": null,
   "id": "3ce458a0",
   "metadata": {},
   "outputs": [],
   "source": [
    "Y_train <- data_train$lnw\n",
    "Y_test <- data_test$lnw"
   ]
  },
  {
   "cell_type": "code",
   "execution_count": null,
   "id": "1ccbfe5f",
   "metadata": {},
   "outputs": [],
   "source": [
    "#basic model: number of regressors\n",
    "p_basic\n",
    "\n",
    "#flex model: number of regressors\n",
    "p_flex"
   ]
  },
  {
   "cell_type": "markdown",
   "id": "6612c208",
   "metadata": {},
   "source": [
    "### OLS"
   ]
  },
  {
   "cell_type": "code",
   "execution_count": null,
   "id": "46649932",
   "metadata": {},
   "outputs": [],
   "source": [
    "# ols (basic model)\n",
    "fit.lm.basic <- lm(formula_basic, data_train)\n",
    "fit.lm.basic"
   ]
  },
  {
   "cell_type": "code",
   "execution_count": null,
   "id": "ef974bfd",
   "metadata": {},
   "outputs": [],
   "source": [
    "# Compute the Out-Of-Sample Performance\n",
    "yhat.lm.basic <- predict(fit.lm.basic, newdata=data_test)\n",
    "cat(\"The mean squared error (MSE) using the basic model is equal to\" , mean((Y_test-yhat.lm.basic)^2)) # MSE OLS (basic model)"
   ]
  },
  {
   "cell_type": "code",
   "execution_count": null,
   "id": "840e05f6",
   "metadata": {},
   "outputs": [],
   "source": [
    "#Out of sample MSE\n",
    "MSE.lm.basic <- summary(lm((Y_test-yhat.lm.basic)^2~1))$coef[1:2]\n",
    "MSE.lm.basic"
   ]
  },
  {
   "cell_type": "code",
   "execution_count": null,
   "id": "dc955794",
   "metadata": {},
   "outputs": [],
   "source": [
    "# Estimate the R^2\n",
    "R2.lm.basic <- 1-MSE.lm.basic[1]/var(Y_test)\n",
    "cat(\"The R^2 using the basic model is equal to\",R2.lm.basic) # MSE OLS (basic model)\n"
   ]
  },
  {
   "cell_type": "code",
   "execution_count": null,
   "id": "a6088358",
   "metadata": {},
   "outputs": [],
   "source": [
    "#Now using flexible model\n",
    "# ols (flexible model)\n",
    "fit.lm.flex <- lm(formula_flex, data_train) \n",
    "\n",
    "# Compute the Out-Of-Sample Performance\n",
    "options(warn=-1)\n",
    "yhat.lm.flex <- predict(fit.lm.flex, newdata=data_test)\n",
    "MSE.lm.flex <- summary(lm((Y_test-yhat.lm.flex)^2~1))$coef[1:2]\n",
    "\n",
    "R2.lm.flex <- 1-MSE.lm.flex[1]/var(Y_test)\n",
    "cat(\"The R^2 using the flexible model is equal to\",R2.lm.flex) # MSE OLS (flexible model)"
   ]
  },
  {
   "cell_type": "markdown",
   "id": "d8541d99",
   "metadata": {},
   "source": [
    "### Lasso, Ridge and Elastic Net"
   ]
  },
  {
   "cell_type": "code",
   "execution_count": null,
   "id": "ce9ebad5",
   "metadata": {},
   "outputs": [],
   "source": [
    "install.packages(\"hdm\")\n",
    "library(hdm)"
   ]
  },
  {
   "cell_type": "code",
   "execution_count": null,
   "id": "89a5b443",
   "metadata": {},
   "outputs": [],
   "source": [
    "# lasso and versions\n",
    "library(hdm) \n",
    "fit.rlasso  <- rlasso(formula_basic, data_train, post=FALSE)\n",
    "fit.rlasso.post <- rlasso(formula_basic, data_train, post=TRUE)\n",
    "\n",
    "yhat.rlasso   <- predict(fit.rlasso, newdata=data_test)\n",
    "yhat.rlasso.post   <- predict(fit.rlasso.post, newdata=data_test)\n",
    "\n",
    "MSE.lasso <- summary(lm((Y_test-yhat.rlasso)^2~1))$coef[1:2]\n",
    "MSE.lasso.post <- summary(lm((Y_test-yhat.rlasso.post)^2~1))$coef[1:2]\n",
    "\n",
    "R2.lasso <- 1-MSE.lasso[1]/var(Y_test)\n",
    "R2.lasso.post <- 1-MSE.lasso.post[1]/var(Y_test)\n",
    "cat(\"The R^2 using the basic model is equal to\",R2.lasso,\"for lasso and\",R2.lasso.post,\"for post-lasso\") # R^2 lasso/post-lasso (basic model)"
   ]
  },
  {
   "cell_type": "code",
   "execution_count": null,
   "id": "6c058c33",
   "metadata": {},
   "outputs": [],
   "source": [
    "# Repeat for flex model\n",
    "fit.rlasso.flex  <- rlasso(formula_flex, data_train, post=FALSE)\n",
    "fit.rlasso.post.flex <- rlasso(formula_flex, data_train, post=TRUE)\n",
    "yhat.rlasso.flex   <- predict(fit.rlasso.flex, newdata=data_test)\n",
    "yhat.rlasso.post.flex   <- predict(fit.rlasso.post.flex, newdata=data_test)\n",
    "\n",
    "MSE.lasso.flex <- summary(lm((Y_test-yhat.rlasso.flex)^2~1))$coef[1:2]\n",
    "MSE.lasso.post.flex <- summary(lm((Y_test-yhat.rlasso.post.flex)^2~1))$coef[1:2]\n",
    "\n",
    "R2.lasso.flex <- 1-MSE.lasso.flex[1]/var(Y_test)\n",
    "R2.lasso.post.flex <- 1-MSE.lasso.post.flex[1]/var(Y_test)\n",
    "cat(\"The R^2 using the flexible model is equal to\",R2.lasso.flex,\"for lasso and\",R2.lasso.post.flex,\"for post-lasso\") # R^2 lasso/post-lasso (flexible model)\n",
    "The R^2 using the flexible model is equal to 0.2653058 for lasso and 0.2614714 for post-lasso"
   ]
  },
  {
   "cell_type": "code",
   "execution_count": null,
   "id": "99c40de8",
   "metadata": {},
   "outputs": [],
   "source": []
  },
  {
   "cell_type": "code",
   "execution_count": null,
   "id": "58adf6f1",
   "metadata": {},
   "outputs": [],
   "source": [
    "##### LASSO - CV ###"
   ]
  },
  {
   "cell_type": "code",
   "execution_count": null,
   "id": "f69dcd08",
   "metadata": {},
   "outputs": [],
   "source": [
    "install.packages(\"glmnet\")\n",
    "library(glmnet)\n"
   ]
  },
  {
   "cell_type": "code",
   "execution_count": null,
   "id": "c63fc145",
   "metadata": {},
   "outputs": [],
   "source": [
    "# Using basic model\n",
    "fit.lasso.cv   <- cv.glmnet(model_X_basic_train, Y_train, family=\"gaussian\", alpha=1)\n",
    "fit.ridge   <- cv.glmnet(model_X_basic_train, Y_train, family=\"gaussian\", alpha=0)\n",
    "fit.elnet   <- cv.glmnet(model_X_basic_train, Y_train, family=\"gaussian\", alpha=.5)\n",
    "\n",
    "yhat.lasso.cv    <- predict(fit.lasso.cv, newx = model_X_basic_test)\n",
    "yhat.ridge   <- predict(fit.ridge, newx = model_X_basic_test)\n",
    "yhat.elnet   <- predict(fit.elnet, newx = model_X_basic_test)\n",
    "\n",
    "MSE.lasso.cv <- summary(lm((Y_test-yhat.lasso.cv)^2~1))$coef[1:2]\n",
    "MSE.ridge <- summary(lm((Y_test-yhat.ridge)^2~1))$coef[1:2]\n",
    "MSE.elnet <- summary(lm((Y_test-yhat.elnet)^2~1))$coef[1:2]\n",
    "\n",
    "R2.lasso.cv <- 1-MSE.lasso.cv[1]/var(Y_test)\n",
    "R2.ridge <- 1-MSE.ridge[1]/var(Y_test)\n",
    "R2.elnet <- 1-MSE.elnet[1]/var(Y_test)\n",
    "\n",
    "# R^2 using cross-validation (basic model) \n",
    "cat(\"R^2 using cross-validation for lasso, ridge and elastic net in the basic model:\",R2.lasso.cv,R2.ridge,R2.elnet)\n"
   ]
  },
  {
   "cell_type": "code",
   "execution_count": null,
   "id": "31abdb10",
   "metadata": {},
   "outputs": [],
   "source": [
    "# Now, using flex model\n",
    "\n",
    "fit.lasso.cv.flex   <- cv.glmnet(model_X_flex_train, Y_train, family=\"gaussian\", alpha=1)\n",
    "fit.ridge.flex   <- cv.glmnet(model_X_flex_train, Y_train, family=\"gaussian\", alpha=0)\n",
    "fit.elnet.flex   <- cv.glmnet(model_X_flex_train, Y_train, family=\"gaussian\", alpha=.5)\n",
    "\n",
    "yhat.lasso.cv.flex    <- predict(fit.lasso.cv.flex , newx = model_X_flex_test)\n",
    "yhat.ridge.flex    <- predict(fit.ridge.flex , newx = model_X_flex_test)\n",
    "yhat.elnet.flex    <- predict(fit.elnet.flex , newx = model_X_flex_test)\n",
    "\n",
    "MSE.lasso.cv.flex  <- summary(lm((Y_test-yhat.lasso.cv.flex )^2~1))$coef[1:2]\n",
    "MSE.ridge.flex  <- summary(lm((Y_test-yhat.ridge.flex )^2~1))$coef[1:2]\n",
    "MSE.elnet.flex  <- summary(lm((Y_test-yhat.elnet.flex )^2~1))$coef[1:2]\n",
    "\n",
    "R2.lasso.cv.flex  <- 1-MSE.lasso.cv.flex [1]/var(Y_test)\n",
    "R2.ridge.flex  <- 1-MSE.ridge.flex [1]/var(Y_test)\n",
    "R2.elnet.flex  <- 1-MSE.elnet.flex [1]/var(Y_test)\n",
    "\n",
    "# R^2 using cross-validation (flexible model) \n",
    "cat(\"R^2 using cross-validation for lasso, ridge and elastic net in the flexible model:\",R2.lasso.cv.flex,R2.ridge.flex,R2.elnet.flex)"
   ]
  },
  {
   "cell_type": "code",
   "execution_count": null,
   "id": "105af1c3",
   "metadata": {},
   "outputs": [],
   "source": [
    "# comparing the MSE \n",
    "MSE.lasso.cv[1]\n",
    "MSE.lasso.cv.flex[1]\n",
    "\n",
    "#Flex works better"
   ]
  },
  {
   "cell_type": "markdown",
   "id": "fd7b3d04",
   "metadata": {},
   "source": [
    "### Non-linear models "
   ]
  },
  {
   "cell_type": "code",
   "execution_count": null,
   "id": "270950f1",
   "metadata": {},
   "outputs": [],
   "source": [
    "#install.packages(\"randomForest\")\n",
    "#install.packages(\"rpart\")\n",
    "#install.packages(\"nnet\")\n",
    "#install.packages(\"gbm\")\n",
    "#install.packages(\"rpart.plot\")\n",
    "#install.packages(\"keras\")\n",
    "\n",
    "library(randomForest)\n",
    "library(rpart)\n",
    "library(nnet)\n",
    "library(gbm)\n",
    "library(rpart.plot)\n",
    "library(keras)\n"
   ]
  },
  {
   "cell_type": "markdown",
   "id": "528458bf",
   "metadata": {},
   "source": [
    "### Regression Tree"
   ]
  },
  {
   "cell_type": "code",
   "execution_count": null,
   "id": "7446144c",
   "metadata": {},
   "outputs": [],
   "source": [
    "X_basic <-  \"female + widowed + divorced + separated + nevermarried +\n",
    "hsd08 + hsd911 + hsg + cg + ad + mw + so + we + exp1 + exp2 + exp3\"\n",
    "\n",
    "formula_basic <- as.formula(paste(\"lnw\", \"~\", X_basic))"
   ]
  },
  {
   "cell_type": "code",
   "execution_count": null,
   "id": "a2c0c92b",
   "metadata": {},
   "outputs": [],
   "source": [
    "# Add penalization to prune tree\n",
    "fit.trees <- rpart(formula_basic, data_train, cp = 0.001)"
   ]
  },
  {
   "cell_type": "code",
   "execution_count": null,
   "id": "79559e01",
   "metadata": {},
   "outputs": [],
   "source": [
    "fit.trees <- rpart(formula_basic, data_train, cp = 0)\n",
    "prp(fit.trees, leaf.round=1, space=2, yspace=2, split.space=2, shadow.col = \"gray\", trace = 1) # plotting the tree\n"
   ]
  },
  {
   "cell_type": "code",
   "execution_count": null,
   "id": "1ce7e908",
   "metadata": {},
   "outputs": [],
   "source": [
    "plotcp(fit.trees)"
   ]
  },
  {
   "cell_type": "code",
   "execution_count": null,
   "id": "7a435e1f",
   "metadata": {},
   "outputs": [],
   "source": [
    "fit.prunedtree <- prune(fit.trees, cp=bestcp)\n",
    "yhat.pt <- predict(fit.prunedtree,newdata=data_test)\n",
    "\n",
    "MSE.pt <- summary(lm((Y_test-yhat.pt)^2~1))$coef[1:2]\n",
    "R2.pt  <- 1-MSE.pt[1]/var(Y_test)\n",
    "\n",
    "# R^2 of the pruned tree\n",
    "cat(\"R^2 of the pruned tree:\",R2.pt)"
   ]
  },
  {
   "cell_type": "markdown",
   "id": "9d45bd55",
   "metadata": {},
   "source": [
    "### Results"
   ]
  },
  {
   "cell_type": "code",
   "execution_count": null,
   "id": "a71930e5",
   "metadata": {},
   "outputs": [],
   "source": [
    "library(xtable)\n",
    "table<- matrix(0, 13, 3)\n",
    "table[1,1:2]   <- MSE.lm.basic\n",
    "table[2,1:2]   <- MSE.lm.flex\n",
    "table[3,1:2]   <- MSE.lasso\n",
    "table[4,1:2]   <- MSE.lasso.post\n",
    "table[5,1:2]   <- MSE.lasso.flex\n",
    "table[6,1:2]   <- MSE.lasso.post.flex\n",
    "table[7,1:2]   <- MSE.lasso.cv\n",
    "table[8,1:2]   <- MSE.ridge\n",
    "table[9,1:2]   <- MSE.elnet\n",
    "table[10,1:2]   <- MSE.lasso.cv.flex\n",
    "table[11,1:2]  <- MSE.ridge.flex\n",
    "table[12,1:2]  <- MSE.elnet.flex\n",
    "table[13,1:2]  <- MSE.pt\n",
    "\n",
    "\n",
    "\n",
    "table[1,3]   <- R2.lm.basic\n",
    "table[2,3]   <- R2.lm.flex\n",
    "table[3,3]   <- R2.lasso\n",
    "table[4,3]   <- R2.lasso.post\n",
    "table[5,3]   <- R2.lasso.flex\n",
    "table[6,3]   <- R2.lasso.post.flex\n",
    "table[7,3]   <- R2.lasso.cv\n",
    "table[8,3]   <- R2.ridge\n",
    "table[9,3]   <- R2.elnet\n",
    "table[10,3]   <- R2.lasso.cv.flex\n",
    "table[11,3]  <- R2.ridge.flex\n",
    "table[12,3]  <- R2.elnet.flex\n",
    "table[13,3]  <- R2.pt\n",
    "\n",
    "\n",
    "\n",
    "\n",
    "colnames(table)<- c(\"MSE\", \"S.E. for MSE\", \"R-squared\")\n",
    "rownames(table)<- c(\"Least Squares (basic)\",\"Least Squares (flexible)\", \"Lasso\", \"Post-Lasso\",\"Lasso (flexible)\",\"Post-Lasso (flexible)\", \n",
    "                    \"Cross-Validated lasso\", \"Cross-Validated ridge\",\"Cross-Validated elnet\",\"Cross-Validated lasso (flexible)\",\"Cross-Validated ridge (flexible)\",\n",
    "                    \"Cross-Validated elnet (flexible)\", \"Pruned Tree\")\n",
    "tab <- xtable(table, digits =3)\n",
    "print(tab,type=\"latex\") # set type=\"latex\" for printing table in LaTeX\n",
    "tab"
   ]
  },
  {
   "cell_type": "markdown",
   "id": "78d9f9f2",
   "metadata": {},
   "source": [
    "# Tree regression"
   ]
  },
  {
   "cell_type": "markdown",
   "id": "837a7d95",
   "metadata": {},
   "source": [
    "Usually, to make regressions we assume a linear relation between variables. In the case where clusters might be found in the data, a linear regression is not the best way to estimate a prediction model. The best way is to use a Tree regression since it captures non-linear relations between the Y and the X regressors. For instance, a regression tree allows us to make a prediction using continuous or categorical variables. However, a regression tree always tries to predict a continuous value. \n",
    "\n",
    "The main concept of regression tree (also classifier tree) is to split the data in a binary criterion until it reaches pure leaf. Finally, each leaf represents a relevant cluster in our dataset. This allows to predict a in which group a new observation in the data corresponds by following the conditions node by node. \n",
    "The first step consists in determine under which value we split the first node. Therefore, we need to find the best splitting condition. For this step the computer tests each possible value to split the data and propose a set of candidates. In a scenario with multiple covariates, the algorithm evaluates each covariate one at time, and for each covariate estimates the proper split value by choosing the one with lowest sum squared errors. The variable that goes in the first node is the one with the lowest sum squared errors. This process repeats for each node.\n",
    "\n",
    "\n",
    "This step repeats for each possible split. However, the number of final leaves will depend on if it is needed to do an extra split in each leaf. This process can result in an overfitting of the data and the model can´t be generalize. To solve this, we have to prune the tree by setting penalization parameters on the impurities of the leaf.\n",
    "First, we have to determine the optimal complexity of the tree. To do this we set the algorithm to prune or “cut” the leaf with a relatively small alpha. The smallest alphas are pruned first. We set an algorithm that returns the effective alphas and the corresponding total leaf impurities at each step of the pruning process. Larger alphas mean more of the tree is pruned, which increases the total impurity of its leaves.\n",
    "\n",
    "\n",
    "Next, we make a cross validation process for al the alphas proposed and calculate the accuracy mean for each alpha. The optimal alpha for our tree would be the one with the lowest mean accuracy rate. \n",
    "Finally. We set that value of alpha in the DecisionTreeRegressor function in Python to get our optimal depth and number of leaves."
   ]
  }
 ],
 "metadata": {
  "kernelspec": {
   "display_name": "R",
   "language": "R",
   "name": "ir"
  },
  "language_info": {
   "codemirror_mode": "r",
   "file_extension": ".r",
   "mimetype": "text/x-r-source",
   "name": "R",
   "pygments_lexer": "r",
   "version": "4.1.3"
  }
 },
 "nbformat": 4,
 "nbformat_minor": 5
}
