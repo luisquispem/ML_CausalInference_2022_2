{
 "cells": [
  {
   "cell_type": "markdown",
   "id": "505a3cee",
   "metadata": {},
   "source": [
    "# Bootstrapping"
   ]
  },
  {
   "cell_type": "code",
   "execution_count": 1,
   "id": "f9bbc54a",
   "metadata": {},
   "outputs": [
    {
     "name": "stderr",
     "output_type": "stream",
     "text": [
      "C:\\Users\\Alvaro\\anaconda3\\lib\\site-packages\\statsmodels\\tsa\\base\\tsa_model.py:7: FutureWarning: pandas.Int64Index is deprecated and will be removed from pandas in a future version. Use pandas.Index with the appropriate dtype instead.\n",
      "  from pandas import (to_datetime, Int64Index, DatetimeIndex, Period,\n",
      "C:\\Users\\Alvaro\\anaconda3\\lib\\site-packages\\statsmodels\\tsa\\base\\tsa_model.py:7: FutureWarning: pandas.Float64Index is deprecated and will be removed from pandas in a future version. Use pandas.Index with the appropriate dtype instead.\n",
      "  from pandas import (to_datetime, Int64Index, DatetimeIndex, Period,\n"
     ]
    }
   ],
   "source": [
    "import pandas as pd\n",
    "import numpy as np\n",
    "from sklearn.preprocessing import PolynomialFeatures\n",
    "from sklearn.linear_model import LinearRegression\n",
    "from sklearn.model_selection import train_test_split,cross_val_score\n",
    "from sklearn.metrics import mean_squared_error\n",
    "import statsmodels.api as sm\n",
    "import matplotlib.pyplot as plt"
   ]
  },
  {
   "cell_type": "code",
   "execution_count": 2,
   "id": "fa9a0c75",
   "metadata": {},
   "outputs": [
    {
     "data": {
      "text/html": [
       "<div>\n",
       "<style scoped>\n",
       "    .dataframe tbody tr th:only-of-type {\n",
       "        vertical-align: middle;\n",
       "    }\n",
       "\n",
       "    .dataframe tbody tr th {\n",
       "        vertical-align: top;\n",
       "    }\n",
       "\n",
       "    .dataframe thead th {\n",
       "        text-align: right;\n",
       "    }\n",
       "</style>\n",
       "<table border=\"1\" class=\"dataframe\">\n",
       "  <thead>\n",
       "    <tr style=\"text-align: right;\">\n",
       "      <th></th>\n",
       "      <th>abdt</th>\n",
       "      <th>tg</th>\n",
       "      <th>inuidur1</th>\n",
       "      <th>inuidur2</th>\n",
       "      <th>female</th>\n",
       "      <th>black</th>\n",
       "      <th>hispanic</th>\n",
       "      <th>othrace</th>\n",
       "      <th>dep</th>\n",
       "      <th>q1</th>\n",
       "      <th>...</th>\n",
       "      <th>q5</th>\n",
       "      <th>q6</th>\n",
       "      <th>recall</th>\n",
       "      <th>agelt35</th>\n",
       "      <th>agegt54</th>\n",
       "      <th>durable</th>\n",
       "      <th>nondurable</th>\n",
       "      <th>lusd</th>\n",
       "      <th>husd</th>\n",
       "      <th>muld</th>\n",
       "    </tr>\n",
       "  </thead>\n",
       "  <tbody>\n",
       "    <tr>\n",
       "      <th>0</th>\n",
       "      <td>10824</td>\n",
       "      <td>0</td>\n",
       "      <td>18</td>\n",
       "      <td>18</td>\n",
       "      <td>0</td>\n",
       "      <td>0</td>\n",
       "      <td>0</td>\n",
       "      <td>0</td>\n",
       "      <td>2</td>\n",
       "      <td>0</td>\n",
       "      <td>...</td>\n",
       "      <td>0</td>\n",
       "      <td>0</td>\n",
       "      <td>0</td>\n",
       "      <td>0</td>\n",
       "      <td>0</td>\n",
       "      <td>0</td>\n",
       "      <td>0</td>\n",
       "      <td>1</td>\n",
       "      <td>0</td>\n",
       "      <td>NaN</td>\n",
       "    </tr>\n",
       "    <tr>\n",
       "      <th>1</th>\n",
       "      <td>10635</td>\n",
       "      <td>2</td>\n",
       "      <td>7</td>\n",
       "      <td>3</td>\n",
       "      <td>0</td>\n",
       "      <td>0</td>\n",
       "      <td>0</td>\n",
       "      <td>0</td>\n",
       "      <td>0</td>\n",
       "      <td>0</td>\n",
       "      <td>...</td>\n",
       "      <td>0</td>\n",
       "      <td>0</td>\n",
       "      <td>1</td>\n",
       "      <td>0</td>\n",
       "      <td>0</td>\n",
       "      <td>0</td>\n",
       "      <td>1</td>\n",
       "      <td>0</td>\n",
       "      <td>0</td>\n",
       "      <td>NaN</td>\n",
       "    </tr>\n",
       "    <tr>\n",
       "      <th>2</th>\n",
       "      <td>10551</td>\n",
       "      <td>5</td>\n",
       "      <td>18</td>\n",
       "      <td>6</td>\n",
       "      <td>1</td>\n",
       "      <td>0</td>\n",
       "      <td>0</td>\n",
       "      <td>0</td>\n",
       "      <td>0</td>\n",
       "      <td>0</td>\n",
       "      <td>...</td>\n",
       "      <td>0</td>\n",
       "      <td>1</td>\n",
       "      <td>0</td>\n",
       "      <td>1</td>\n",
       "      <td>0</td>\n",
       "      <td>0</td>\n",
       "      <td>0</td>\n",
       "      <td>0</td>\n",
       "      <td>0</td>\n",
       "      <td>NaN</td>\n",
       "    </tr>\n",
       "    <tr>\n",
       "      <th>3</th>\n",
       "      <td>10824</td>\n",
       "      <td>0</td>\n",
       "      <td>1</td>\n",
       "      <td>1</td>\n",
       "      <td>0</td>\n",
       "      <td>0</td>\n",
       "      <td>0</td>\n",
       "      <td>0</td>\n",
       "      <td>0</td>\n",
       "      <td>0</td>\n",
       "      <td>...</td>\n",
       "      <td>0</td>\n",
       "      <td>0</td>\n",
       "      <td>0</td>\n",
       "      <td>0</td>\n",
       "      <td>0</td>\n",
       "      <td>0</td>\n",
       "      <td>1</td>\n",
       "      <td>0</td>\n",
       "      <td>0</td>\n",
       "      <td>NaN</td>\n",
       "    </tr>\n",
       "    <tr>\n",
       "      <th>4</th>\n",
       "      <td>10747</td>\n",
       "      <td>0</td>\n",
       "      <td>27</td>\n",
       "      <td>27</td>\n",
       "      <td>0</td>\n",
       "      <td>0</td>\n",
       "      <td>0</td>\n",
       "      <td>0</td>\n",
       "      <td>0</td>\n",
       "      <td>0</td>\n",
       "      <td>...</td>\n",
       "      <td>0</td>\n",
       "      <td>0</td>\n",
       "      <td>0</td>\n",
       "      <td>0</td>\n",
       "      <td>0</td>\n",
       "      <td>0</td>\n",
       "      <td>1</td>\n",
       "      <td>0</td>\n",
       "      <td>0</td>\n",
       "      <td>NaN</td>\n",
       "    </tr>\n",
       "    <tr>\n",
       "      <th>...</th>\n",
       "      <td>...</td>\n",
       "      <td>...</td>\n",
       "      <td>...</td>\n",
       "      <td>...</td>\n",
       "      <td>...</td>\n",
       "      <td>...</td>\n",
       "      <td>...</td>\n",
       "      <td>...</td>\n",
       "      <td>...</td>\n",
       "      <td>...</td>\n",
       "      <td>...</td>\n",
       "      <td>...</td>\n",
       "      <td>...</td>\n",
       "      <td>...</td>\n",
       "      <td>...</td>\n",
       "      <td>...</td>\n",
       "      <td>...</td>\n",
       "      <td>...</td>\n",
       "      <td>...</td>\n",
       "      <td>...</td>\n",
       "      <td>...</td>\n",
       "    </tr>\n",
       "    <tr>\n",
       "      <th>13908</th>\n",
       "      <td>10831</td>\n",
       "      <td>5</td>\n",
       "      <td>27</td>\n",
       "      <td>27</td>\n",
       "      <td>0</td>\n",
       "      <td>0</td>\n",
       "      <td>0</td>\n",
       "      <td>0</td>\n",
       "      <td>0</td>\n",
       "      <td>0</td>\n",
       "      <td>...</td>\n",
       "      <td>0</td>\n",
       "      <td>1</td>\n",
       "      <td>0</td>\n",
       "      <td>1</td>\n",
       "      <td>1</td>\n",
       "      <td>0</td>\n",
       "      <td>0</td>\n",
       "      <td>1</td>\n",
       "      <td>0</td>\n",
       "      <td>NaN</td>\n",
       "    </tr>\n",
       "    <tr>\n",
       "      <th>13909</th>\n",
       "      <td>10677</td>\n",
       "      <td>2</td>\n",
       "      <td>4</td>\n",
       "      <td>4</td>\n",
       "      <td>1</td>\n",
       "      <td>0</td>\n",
       "      <td>0</td>\n",
       "      <td>0</td>\n",
       "      <td>0</td>\n",
       "      <td>0</td>\n",
       "      <td>...</td>\n",
       "      <td>0</td>\n",
       "      <td>0</td>\n",
       "      <td>0</td>\n",
       "      <td>1</td>\n",
       "      <td>0</td>\n",
       "      <td>0</td>\n",
       "      <td>1</td>\n",
       "      <td>0</td>\n",
       "      <td>0</td>\n",
       "      <td>NaN</td>\n",
       "    </tr>\n",
       "    <tr>\n",
       "      <th>13910</th>\n",
       "      <td>10817</td>\n",
       "      <td>4</td>\n",
       "      <td>4</td>\n",
       "      <td>4</td>\n",
       "      <td>0</td>\n",
       "      <td>0</td>\n",
       "      <td>0</td>\n",
       "      <td>0</td>\n",
       "      <td>0</td>\n",
       "      <td>0</td>\n",
       "      <td>...</td>\n",
       "      <td>0</td>\n",
       "      <td>0</td>\n",
       "      <td>0</td>\n",
       "      <td>1</td>\n",
       "      <td>0</td>\n",
       "      <td>0</td>\n",
       "      <td>0</td>\n",
       "      <td>0</td>\n",
       "      <td>0</td>\n",
       "      <td>NaN</td>\n",
       "    </tr>\n",
       "    <tr>\n",
       "      <th>13911</th>\n",
       "      <td>10691</td>\n",
       "      <td>0</td>\n",
       "      <td>27</td>\n",
       "      <td>27</td>\n",
       "      <td>0</td>\n",
       "      <td>0</td>\n",
       "      <td>0</td>\n",
       "      <td>0</td>\n",
       "      <td>0</td>\n",
       "      <td>0</td>\n",
       "      <td>...</td>\n",
       "      <td>0</td>\n",
       "      <td>0</td>\n",
       "      <td>0</td>\n",
       "      <td>1</td>\n",
       "      <td>1</td>\n",
       "      <td>0</td>\n",
       "      <td>1</td>\n",
       "      <td>0</td>\n",
       "      <td>0</td>\n",
       "      <td>NaN</td>\n",
       "    </tr>\n",
       "    <tr>\n",
       "      <th>13912</th>\n",
       "      <td>10677</td>\n",
       "      <td>5</td>\n",
       "      <td>25</td>\n",
       "      <td>25</td>\n",
       "      <td>0</td>\n",
       "      <td>0</td>\n",
       "      <td>0</td>\n",
       "      <td>0</td>\n",
       "      <td>0</td>\n",
       "      <td>0</td>\n",
       "      <td>...</td>\n",
       "      <td>0</td>\n",
       "      <td>0</td>\n",
       "      <td>0</td>\n",
       "      <td>1</td>\n",
       "      <td>0</td>\n",
       "      <td>1</td>\n",
       "      <td>0</td>\n",
       "      <td>1</td>\n",
       "      <td>0</td>\n",
       "      <td>NaN</td>\n",
       "    </tr>\n",
       "  </tbody>\n",
       "</table>\n",
       "<p>13913 rows × 24 columns</p>\n",
       "</div>"
      ],
      "text/plain": [
       "        abdt  tg  inuidur1  inuidur2  female  black  hispanic  othrace  dep  \\\n",
       "0      10824   0        18        18       0      0         0        0    2   \n",
       "1      10635   2         7         3       0      0         0        0    0   \n",
       "2      10551   5        18         6       1      0         0        0    0   \n",
       "3      10824   0         1         1       0      0         0        0    0   \n",
       "4      10747   0        27        27       0      0         0        0    0   \n",
       "...      ...  ..       ...       ...     ...    ...       ...      ...  ...   \n",
       "13908  10831   5        27        27       0      0         0        0    0   \n",
       "13909  10677   2         4         4       1      0         0        0    0   \n",
       "13910  10817   4         4         4       0      0         0        0    0   \n",
       "13911  10691   0        27        27       0      0         0        0    0   \n",
       "13912  10677   5        25        25       0      0         0        0    0   \n",
       "\n",
       "       q1  ...  q5  q6  recall  agelt35  agegt54  durable  nondurable  lusd  \\\n",
       "0       0  ...   0   0       0        0        0        0           0     1   \n",
       "1       0  ...   0   0       1        0        0        0           1     0   \n",
       "2       0  ...   0   1       0        1        0        0           0     0   \n",
       "3       0  ...   0   0       0        0        0        0           1     0   \n",
       "4       0  ...   0   0       0        0        0        0           1     0   \n",
       "...    ..  ...  ..  ..     ...      ...      ...      ...         ...   ...   \n",
       "13908   0  ...   0   1       0        1        1        0           0     1   \n",
       "13909   0  ...   0   0       0        1        0        0           1     0   \n",
       "13910   0  ...   0   0       0        1        0        0           0     0   \n",
       "13911   0  ...   0   0       0        1        1        0           1     0   \n",
       "13912   0  ...   0   0       0        1        0        1           0     1   \n",
       "\n",
       "       husd  muld  \n",
       "0         0   NaN  \n",
       "1         0   NaN  \n",
       "2         0   NaN  \n",
       "3         0   NaN  \n",
       "4         0   NaN  \n",
       "...     ...   ...  \n",
       "13908     0   NaN  \n",
       "13909     0   NaN  \n",
       "13910     0   NaN  \n",
       "13911     0   NaN  \n",
       "13912     0   NaN  \n",
       "\n",
       "[13913 rows x 24 columns]"
      ]
     },
     "execution_count": 2,
     "metadata": {},
     "output_type": "execute_result"
    }
   ],
   "source": [
    "# Data\n",
    "## loading the data\n",
    "\n",
    "Penn = pd.read_csv(\"C:/Users/Alvaro/Documents/PUCP/Ciclo 2022-1/ML.2022.1/data/penn_jae.dat\" , sep=\"\\s\", engine=\"python\")\n",
    "Penn"
   ]
  },
  {
   "cell_type": "code",
   "execution_count": 3,
   "id": "653b6861",
   "metadata": {},
   "outputs": [
    {
     "name": "stdout",
     "output_type": "stream",
     "text": [
      "(5099, 24)\n"
     ]
    }
   ],
   "source": [
    "# Subset T4\n",
    "\n",
    "Penn = Penn[ (Penn[\"tg\"] == 4) | (Penn[\"tg\"] == 0) ]\n",
    "print(Penn.shape)"
   ]
  },
  {
   "cell_type": "code",
   "execution_count": 4,
   "id": "5c3dc5b5",
   "metadata": {},
   "outputs": [
    {
     "data": {
      "text/plain": [
       "abdt             int64\n",
       "tg               int64\n",
       "inuidur1         int64\n",
       "inuidur2         int64\n",
       "female           int64\n",
       "black            int64\n",
       "hispanic         int64\n",
       "othrace          int64\n",
       "dep              int64\n",
       "q1               int64\n",
       "q2               int64\n",
       "q3               int64\n",
       "q4               int64\n",
       "Unnamed: 13      int64\n",
       "q5               int64\n",
       "q6               int64\n",
       "recall           int64\n",
       "agelt35          int64\n",
       "agegt54          int64\n",
       "durable          int64\n",
       "nondurable       int64\n",
       "lusd             int64\n",
       "husd             int64\n",
       "muld           float64\n",
       "dtype: object"
      ]
     },
     "execution_count": 4,
     "metadata": {},
     "output_type": "execute_result"
    }
   ],
   "source": [
    "Penn.dtypes"
   ]
  },
  {
   "cell_type": "code",
   "execution_count": 5,
   "id": "6066ce9d",
   "metadata": {},
   "outputs": [
    {
     "name": "stderr",
     "output_type": "stream",
     "text": [
      "C:\\Users\\Alvaro\\AppData\\Local\\Temp/ipykernel_26668/4251425558.py:2: SettingWithCopyWarning: \n",
      "A value is trying to be set on a copy of a slice from a DataFrame.\n",
      "Try using .loc[row_indexer,col_indexer] = value instead\n",
      "\n",
      "See the caveats in the documentation: https://pandas.pydata.org/pandas-docs/stable/user_guide/indexing.html#returning-a-view-versus-a-copy\n",
      "  Penn[\"log_inuidur1\"] = np.log(Penn[\"inuidur1\"])\n",
      "C:\\Users\\Alvaro\\AppData\\Local\\Temp/ipykernel_26668/4251425558.py:5: SettingWithCopyWarning: \n",
      "A value is trying to be set on a copy of a slice from a DataFrame.\n",
      "Try using .loc[row_indexer,col_indexer] = value instead\n",
      "\n",
      "See the caveats in the documentation: https://pandas.pydata.org/pandas-docs/stable/user_guide/indexing.html#returning-a-view-versus-a-copy\n",
      "  Penn[\"T4\"]=(Penn[[\"tg\"]]==4).astype(int)\n",
      "C:\\Users\\Alvaro\\AppData\\Local\\Temp/ipykernel_26668/4251425558.py:8: SettingWithCopyWarning: \n",
      "A value is trying to be set on a copy of a slice from a DataFrame.\n",
      "Try using .loc[row_indexer,col_indexer] = value instead\n",
      "\n",
      "See the caveats in the documentation: https://pandas.pydata.org/pandas-docs/stable/user_guide/indexing.html#returning-a-view-versus-a-copy\n",
      "  Penn[\"dep\"] = Penn[\"dep\"].astype(\"category\")\n"
     ]
    },
    {
     "data": {
      "text/html": [
       "<div>\n",
       "<style scoped>\n",
       "    .dataframe tbody tr th:only-of-type {\n",
       "        vertical-align: middle;\n",
       "    }\n",
       "\n",
       "    .dataframe tbody tr th {\n",
       "        vertical-align: top;\n",
       "    }\n",
       "\n",
       "    .dataframe thead th {\n",
       "        text-align: right;\n",
       "    }\n",
       "</style>\n",
       "<table border=\"1\" class=\"dataframe\">\n",
       "  <thead>\n",
       "    <tr style=\"text-align: right;\">\n",
       "      <th></th>\n",
       "      <th>abdt</th>\n",
       "      <th>tg</th>\n",
       "      <th>inuidur1</th>\n",
       "      <th>inuidur2</th>\n",
       "      <th>female</th>\n",
       "      <th>black</th>\n",
       "      <th>hispanic</th>\n",
       "      <th>othrace</th>\n",
       "      <th>dep</th>\n",
       "      <th>q1</th>\n",
       "      <th>...</th>\n",
       "      <th>recall</th>\n",
       "      <th>agelt35</th>\n",
       "      <th>agegt54</th>\n",
       "      <th>durable</th>\n",
       "      <th>nondurable</th>\n",
       "      <th>lusd</th>\n",
       "      <th>husd</th>\n",
       "      <th>muld</th>\n",
       "      <th>log_inuidur1</th>\n",
       "      <th>T4</th>\n",
       "    </tr>\n",
       "  </thead>\n",
       "  <tbody>\n",
       "    <tr>\n",
       "      <th>0</th>\n",
       "      <td>10824</td>\n",
       "      <td>0</td>\n",
       "      <td>18</td>\n",
       "      <td>18</td>\n",
       "      <td>0</td>\n",
       "      <td>0</td>\n",
       "      <td>0</td>\n",
       "      <td>0</td>\n",
       "      <td>2</td>\n",
       "      <td>0</td>\n",
       "      <td>...</td>\n",
       "      <td>0</td>\n",
       "      <td>0</td>\n",
       "      <td>0</td>\n",
       "      <td>0</td>\n",
       "      <td>0</td>\n",
       "      <td>1</td>\n",
       "      <td>0</td>\n",
       "      <td>NaN</td>\n",
       "      <td>2.890372</td>\n",
       "      <td>0</td>\n",
       "    </tr>\n",
       "    <tr>\n",
       "      <th>3</th>\n",
       "      <td>10824</td>\n",
       "      <td>0</td>\n",
       "      <td>1</td>\n",
       "      <td>1</td>\n",
       "      <td>0</td>\n",
       "      <td>0</td>\n",
       "      <td>0</td>\n",
       "      <td>0</td>\n",
       "      <td>0</td>\n",
       "      <td>0</td>\n",
       "      <td>...</td>\n",
       "      <td>0</td>\n",
       "      <td>0</td>\n",
       "      <td>0</td>\n",
       "      <td>0</td>\n",
       "      <td>1</td>\n",
       "      <td>0</td>\n",
       "      <td>0</td>\n",
       "      <td>NaN</td>\n",
       "      <td>0.000000</td>\n",
       "      <td>0</td>\n",
       "    </tr>\n",
       "    <tr>\n",
       "      <th>4</th>\n",
       "      <td>10747</td>\n",
       "      <td>0</td>\n",
       "      <td>27</td>\n",
       "      <td>27</td>\n",
       "      <td>0</td>\n",
       "      <td>0</td>\n",
       "      <td>0</td>\n",
       "      <td>0</td>\n",
       "      <td>0</td>\n",
       "      <td>0</td>\n",
       "      <td>...</td>\n",
       "      <td>0</td>\n",
       "      <td>0</td>\n",
       "      <td>0</td>\n",
       "      <td>0</td>\n",
       "      <td>1</td>\n",
       "      <td>0</td>\n",
       "      <td>0</td>\n",
       "      <td>NaN</td>\n",
       "      <td>3.295837</td>\n",
       "      <td>0</td>\n",
       "    </tr>\n",
       "    <tr>\n",
       "      <th>11</th>\n",
       "      <td>10607</td>\n",
       "      <td>4</td>\n",
       "      <td>9</td>\n",
       "      <td>9</td>\n",
       "      <td>0</td>\n",
       "      <td>0</td>\n",
       "      <td>0</td>\n",
       "      <td>0</td>\n",
       "      <td>0</td>\n",
       "      <td>0</td>\n",
       "      <td>...</td>\n",
       "      <td>1</td>\n",
       "      <td>0</td>\n",
       "      <td>0</td>\n",
       "      <td>0</td>\n",
       "      <td>0</td>\n",
       "      <td>0</td>\n",
       "      <td>1</td>\n",
       "      <td>NaN</td>\n",
       "      <td>2.197225</td>\n",
       "      <td>1</td>\n",
       "    </tr>\n",
       "    <tr>\n",
       "      <th>12</th>\n",
       "      <td>10831</td>\n",
       "      <td>0</td>\n",
       "      <td>27</td>\n",
       "      <td>27</td>\n",
       "      <td>0</td>\n",
       "      <td>0</td>\n",
       "      <td>0</td>\n",
       "      <td>0</td>\n",
       "      <td>1</td>\n",
       "      <td>0</td>\n",
       "      <td>...</td>\n",
       "      <td>0</td>\n",
       "      <td>1</td>\n",
       "      <td>1</td>\n",
       "      <td>0</td>\n",
       "      <td>1</td>\n",
       "      <td>0</td>\n",
       "      <td>0</td>\n",
       "      <td>NaN</td>\n",
       "      <td>3.295837</td>\n",
       "      <td>0</td>\n",
       "    </tr>\n",
       "  </tbody>\n",
       "</table>\n",
       "<p>5 rows × 26 columns</p>\n",
       "</div>"
      ],
      "text/plain": [
       "     abdt  tg  inuidur1  inuidur2  female  black  hispanic  othrace dep  q1  \\\n",
       "0   10824   0        18        18       0      0         0        0   2   0   \n",
       "3   10824   0         1         1       0      0         0        0   0   0   \n",
       "4   10747   0        27        27       0      0         0        0   0   0   \n",
       "11  10607   4         9         9       0      0         0        0   0   0   \n",
       "12  10831   0        27        27       0      0         0        0   1   0   \n",
       "\n",
       "    ...  recall  agelt35  agegt54  durable  nondurable  lusd  husd  muld  \\\n",
       "0   ...       0        0        0        0           0     1     0   NaN   \n",
       "3   ...       0        0        0        0           1     0     0   NaN   \n",
       "4   ...       0        0        0        0           1     0     0   NaN   \n",
       "11  ...       1        0        0        0           0     0     1   NaN   \n",
       "12  ...       0        1        1        0           1     0     0   NaN   \n",
       "\n",
       "    log_inuidur1  T4  \n",
       "0       2.890372   0  \n",
       "3       0.000000   0  \n",
       "4       3.295837   0  \n",
       "11      2.197225   1  \n",
       "12      3.295837   0  \n",
       "\n",
       "[5 rows x 26 columns]"
      ]
     },
     "execution_count": 5,
     "metadata": {},
     "output_type": "execute_result"
    }
   ],
   "source": [
    "# Transform inuidur1 to log\n",
    "Penn[\"log_inuidur1\"] = np.log(Penn[\"inuidur1\"])\n",
    "\n",
    "#Dependent Variable\n",
    "Penn[\"T4\"]=(Penn[[\"tg\"]]==4).astype(int)\n",
    "\n",
    "#Create Category variable\n",
    "Penn[\"dep\"] = Penn[\"dep\"].astype(\"category\")\n",
    "\n",
    "Penn.head()"
   ]
  },
  {
   "cell_type": "code",
   "execution_count": 6,
   "id": "64a9998d",
   "metadata": {},
   "outputs": [
    {
     "data": {
      "text/plain": [
       "abdt               int64\n",
       "tg                 int64\n",
       "inuidur1           int64\n",
       "inuidur2           int64\n",
       "female             int64\n",
       "black              int64\n",
       "hispanic           int64\n",
       "othrace            int64\n",
       "dep             category\n",
       "q1                 int64\n",
       "q2                 int64\n",
       "q3                 int64\n",
       "q4                 int64\n",
       "Unnamed: 13        int64\n",
       "q5                 int64\n",
       "q6                 int64\n",
       "recall             int64\n",
       "agelt35            int64\n",
       "agegt54            int64\n",
       "durable            int64\n",
       "nondurable         int64\n",
       "lusd               int64\n",
       "husd               int64\n",
       "muld             float64\n",
       "log_inuidur1     float64\n",
       "T4                 int32\n",
       "dtype: object"
      ]
     },
     "execution_count": 6,
     "metadata": {},
     "output_type": "execute_result"
    }
   ],
   "source": [
    "Penn.dtypes"
   ]
  },
  {
   "cell_type": "code",
   "execution_count": 7,
   "id": "3b325c3e",
   "metadata": {},
   "outputs": [],
   "source": [
    "# Function to get sample.\n",
    "\n",
    "def get_indices(Penn,num_samples):\n",
    "    return  np.random.choice(Penn.index, num_samples, replace=True)"
   ]
  },
  {
   "cell_type": "code",
   "execution_count": 8,
   "id": "b0b87de9",
   "metadata": {},
   "outputs": [
    {
     "data": {
      "text/plain": [
       "array([11586,  1066,   383, ...,  9105,  1617,  1667], dtype=int64)"
      ]
     },
     "execution_count": 8,
     "metadata": {},
     "output_type": "execute_result"
    }
   ],
   "source": [
    "get_indices(Penn,Penn.shape[0])"
   ]
  },
  {
   "cell_type": "code",
   "execution_count": 9,
   "id": "f353a412",
   "metadata": {},
   "outputs": [],
   "source": [
    "# Define function to get estimates from our model equation.\n",
    "\n",
    "def get_estimates(Penn,index):\n",
    "    X = Penn[[\"T4\",\"female\",\"black\",\"othrace\",\"dep\",\"q2\",\"q3\",\"q4\",\"q5\",\"q6\",\"agelt35\",\"agegt54\",\"durable\",\"lusd\",\"husd\"]].loc[index]\n",
    "    y = Penn[\"log_inuidur1\"].loc[index]\n",
    "    \n",
    "    lr = LinearRegression()\n",
    "    lr.fit(X,y)\n",
    "    coef = lr.coef_\n",
    "    return [coef]"
   ]
  },
  {
   "cell_type": "code",
   "execution_count": 10,
   "id": "0ffca943",
   "metadata": {},
   "outputs": [],
   "source": [
    "# Bootstrap process\n",
    "\n",
    "def boot(Penn,func,R):\n",
    "\n",
    "    #We create empty list of the variables of interest\n",
    "    T4 = []\n",
    "    female = []  \n",
    "    black = []\n",
    "\n",
    "    # Loop for each variable\n",
    "    for i in range(R):\n",
    "        T4.append(func(Penn,get_indices(Penn,Penn.shape[0]))[0][0]) # index [] represents position in equation\n",
    "        female.append(func(Penn,get_indices(Penn,Penn.shape[0]))[0][1]) \n",
    "        black.append(func(Penn,get_indices(Penn,Penn.shape[0]))[0][2]) \n",
    "\n",
    "        \n",
    "    T4_statistics = {\"estimated_mean\":np.mean(T4),\"std_error\":np.std(T4)}   \n",
    "    female_statistics = {\"estimated_mean\":np.mean(female),\"std_error\":np.std(female)}\n",
    "    black_statistics = {\"estimated_mean\":np.mean(black),\"std_error\":np.std(black)}   \n",
    "\n",
    "    return {\"T4_estimator\":T4_statistics,\"female_estimator\":female_statistics, \"black_estimator\": black_statistics} "
   ]
  },
  {
   "cell_type": "code",
   "execution_count": 11,
   "id": "9f2db3a5",
   "metadata": {},
   "outputs": [
    {
     "data": {
      "text/plain": [
       "{'T4_estimator': {'estimated_mean': -0.07464590334824447,\n",
       "  'std_error': 0.03547113286146816},\n",
       " 'female_estimator': {'estimated_mean': 0.13790087541896928,\n",
       "  'std_error': 0.03527718162201859},\n",
       " 'black_estimator': {'estimated_mean': -0.3069426122451348,\n",
       "  'std_error': 0.06020740224524805}}"
      ]
     },
     "execution_count": 11,
     "metadata": {},
     "output_type": "execute_result"
    }
   ],
   "source": [
    "# 1000 bootstraps\n",
    "\n",
    "results = boot(Penn,get_estimates,1000)\n",
    "results"
   ]
  },
  {
   "cell_type": "code",
   "execution_count": 12,
   "id": "0de63002",
   "metadata": {},
   "outputs": [
    {
     "data": {
      "text/html": [
       "<div>\n",
       "<style scoped>\n",
       "    .dataframe tbody tr th:only-of-type {\n",
       "        vertical-align: middle;\n",
       "    }\n",
       "\n",
       "    .dataframe tbody tr th {\n",
       "        vertical-align: top;\n",
       "    }\n",
       "\n",
       "    .dataframe thead th {\n",
       "        text-align: right;\n",
       "    }\n",
       "</style>\n",
       "<table border=\"1\" class=\"dataframe\">\n",
       "  <thead>\n",
       "    <tr style=\"text-align: right;\">\n",
       "      <th></th>\n",
       "      <th>estimated_mean</th>\n",
       "      <th>std_error</th>\n",
       "    </tr>\n",
       "  </thead>\n",
       "  <tbody>\n",
       "    <tr>\n",
       "      <th>T4_estimator</th>\n",
       "      <td>-0.074646</td>\n",
       "      <td>0.035471</td>\n",
       "    </tr>\n",
       "    <tr>\n",
       "      <th>female_estimator</th>\n",
       "      <td>0.137901</td>\n",
       "      <td>0.035277</td>\n",
       "    </tr>\n",
       "    <tr>\n",
       "      <th>black_estimator</th>\n",
       "      <td>-0.306943</td>\n",
       "      <td>0.060207</td>\n",
       "    </tr>\n",
       "  </tbody>\n",
       "</table>\n",
       "</div>"
      ],
      "text/plain": [
       "                  estimated_mean  std_error\n",
       "T4_estimator           -0.074646   0.035471\n",
       "female_estimator        0.137901   0.035277\n",
       "black_estimator        -0.306943   0.060207"
      ]
     },
     "execution_count": 12,
     "metadata": {},
     "output_type": "execute_result"
    }
   ],
   "source": [
    "# Table of results\n",
    "\n",
    "df =pd.DataFrame.from_dict(results,orient='index')\n",
    "df"
   ]
  },
  {
   "cell_type": "markdown",
   "id": "557303bf",
   "metadata": {},
   "source": [
    "# Comparative models"
   ]
  },
  {
   "cell_type": "code",
   "execution_count": 13,
   "id": "50cdc045",
   "metadata": {},
   "outputs": [],
   "source": [
    "import pyreadr\n",
    "import math\n",
    "import matplotlib.pyplot as plt\n",
    "import random"
   ]
  },
  {
   "cell_type": "code",
   "execution_count": 14,
   "id": "f105ba5e",
   "metadata": {},
   "outputs": [
    {
     "data": {
      "text/plain": [
       "(29217, 23)"
      ]
     },
     "execution_count": 14,
     "metadata": {},
     "output_type": "execute_result"
    }
   ],
   "source": [
    "rdata_read = pyreadr.read_r(\"C:/Users/Alvaro/Documents/ML/data/cps2012.Rdata\")\n",
    "\n",
    "# Extracting the data frame from rdata_read\n",
    "data = rdata_read[ 'data' ]\n",
    "\n",
    "data.shape"
   ]
  },
  {
   "cell_type": "code",
   "execution_count": 15,
   "id": "0bbc50f9",
   "metadata": {},
   "outputs": [],
   "source": [
    "data = data.drop( 'year', axis = 1)"
   ]
  },
  {
   "cell_type": "code",
   "execution_count": 16,
   "id": "9072d004",
   "metadata": {},
   "outputs": [
    {
     "data": {
      "text/html": [
       "<div>\n",
       "<style scoped>\n",
       "    .dataframe tbody tr th:only-of-type {\n",
       "        vertical-align: middle;\n",
       "    }\n",
       "\n",
       "    .dataframe tbody tr th {\n",
       "        vertical-align: top;\n",
       "    }\n",
       "\n",
       "    .dataframe thead th {\n",
       "        text-align: right;\n",
       "    }\n",
       "</style>\n",
       "<table border=\"1\" class=\"dataframe\">\n",
       "  <thead>\n",
       "    <tr style=\"text-align: right;\">\n",
       "      <th></th>\n",
       "      <th>lnw</th>\n",
       "      <th>female</th>\n",
       "      <th>widowed</th>\n",
       "      <th>divorced</th>\n",
       "      <th>separated</th>\n",
       "      <th>nevermarried</th>\n",
       "      <th>hsd08</th>\n",
       "      <th>hsd911</th>\n",
       "      <th>hsg</th>\n",
       "      <th>cg</th>\n",
       "      <th>...</th>\n",
       "      <th>so</th>\n",
       "      <th>we</th>\n",
       "      <th>exp1</th>\n",
       "      <th>exp2</th>\n",
       "      <th>exp3</th>\n",
       "      <th>exp4</th>\n",
       "      <th>weight</th>\n",
       "      <th>married</th>\n",
       "      <th>ne</th>\n",
       "      <th>sc</th>\n",
       "    </tr>\n",
       "  </thead>\n",
       "  <tbody>\n",
       "    <tr>\n",
       "      <th>0</th>\n",
       "      <td>1.909543</td>\n",
       "      <td>1.0</td>\n",
       "      <td>0.0</td>\n",
       "      <td>0.0</td>\n",
       "      <td>0.0</td>\n",
       "      <td>0.0</td>\n",
       "      <td>0.0</td>\n",
       "      <td>0.0</td>\n",
       "      <td>0.0</td>\n",
       "      <td>0.0</td>\n",
       "      <td>...</td>\n",
       "      <td>0.0</td>\n",
       "      <td>0.0</td>\n",
       "      <td>22.0</td>\n",
       "      <td>4.84</td>\n",
       "      <td>10.648</td>\n",
       "      <td>23.4256</td>\n",
       "      <td>569.43</td>\n",
       "      <td>True</td>\n",
       "      <td>True</td>\n",
       "      <td>True</td>\n",
       "    </tr>\n",
       "    <tr>\n",
       "      <th>1</th>\n",
       "      <td>1.365773</td>\n",
       "      <td>1.0</td>\n",
       "      <td>0.0</td>\n",
       "      <td>0.0</td>\n",
       "      <td>0.0</td>\n",
       "      <td>0.0</td>\n",
       "      <td>0.0</td>\n",
       "      <td>1.0</td>\n",
       "      <td>0.0</td>\n",
       "      <td>0.0</td>\n",
       "      <td>...</td>\n",
       "      <td>0.0</td>\n",
       "      <td>0.0</td>\n",
       "      <td>30.0</td>\n",
       "      <td>9.00</td>\n",
       "      <td>27.000</td>\n",
       "      <td>81.0000</td>\n",
       "      <td>625.96</td>\n",
       "      <td>True</td>\n",
       "      <td>True</td>\n",
       "      <td>False</td>\n",
       "    </tr>\n",
       "    <tr>\n",
       "      <th>2</th>\n",
       "      <td>2.540223</td>\n",
       "      <td>0.0</td>\n",
       "      <td>0.0</td>\n",
       "      <td>0.0</td>\n",
       "      <td>0.0</td>\n",
       "      <td>0.0</td>\n",
       "      <td>0.0</td>\n",
       "      <td>0.0</td>\n",
       "      <td>1.0</td>\n",
       "      <td>0.0</td>\n",
       "      <td>...</td>\n",
       "      <td>0.0</td>\n",
       "      <td>0.0</td>\n",
       "      <td>19.0</td>\n",
       "      <td>3.61</td>\n",
       "      <td>6.859</td>\n",
       "      <td>13.0321</td>\n",
       "      <td>264.22</td>\n",
       "      <td>True</td>\n",
       "      <td>True</td>\n",
       "      <td>False</td>\n",
       "    </tr>\n",
       "    <tr>\n",
       "      <th>3</th>\n",
       "      <td>1.801091</td>\n",
       "      <td>1.0</td>\n",
       "      <td>0.0</td>\n",
       "      <td>0.0</td>\n",
       "      <td>0.0</td>\n",
       "      <td>0.0</td>\n",
       "      <td>0.0</td>\n",
       "      <td>0.0</td>\n",
       "      <td>1.0</td>\n",
       "      <td>0.0</td>\n",
       "      <td>...</td>\n",
       "      <td>0.0</td>\n",
       "      <td>0.0</td>\n",
       "      <td>14.0</td>\n",
       "      <td>1.96</td>\n",
       "      <td>2.744</td>\n",
       "      <td>3.8416</td>\n",
       "      <td>256.81</td>\n",
       "      <td>True</td>\n",
       "      <td>True</td>\n",
       "      <td>False</td>\n",
       "    </tr>\n",
       "    <tr>\n",
       "      <th>4</th>\n",
       "      <td>3.349904</td>\n",
       "      <td>0.0</td>\n",
       "      <td>0.0</td>\n",
       "      <td>0.0</td>\n",
       "      <td>0.0</td>\n",
       "      <td>0.0</td>\n",
       "      <td>0.0</td>\n",
       "      <td>0.0</td>\n",
       "      <td>0.0</td>\n",
       "      <td>1.0</td>\n",
       "      <td>...</td>\n",
       "      <td>0.0</td>\n",
       "      <td>0.0</td>\n",
       "      <td>15.0</td>\n",
       "      <td>2.25</td>\n",
       "      <td>3.375</td>\n",
       "      <td>5.0625</td>\n",
       "      <td>256.81</td>\n",
       "      <td>True</td>\n",
       "      <td>True</td>\n",
       "      <td>False</td>\n",
       "    </tr>\n",
       "  </tbody>\n",
       "</table>\n",
       "<p>5 rows × 22 columns</p>\n",
       "</div>"
      ],
      "text/plain": [
       "        lnw  female  widowed  divorced  separated  nevermarried  hsd08  \\\n",
       "0  1.909543     1.0      0.0       0.0        0.0           0.0    0.0   \n",
       "1  1.365773     1.0      0.0       0.0        0.0           0.0    0.0   \n",
       "2  2.540223     0.0      0.0       0.0        0.0           0.0    0.0   \n",
       "3  1.801091     1.0      0.0       0.0        0.0           0.0    0.0   \n",
       "4  3.349904     0.0      0.0       0.0        0.0           0.0    0.0   \n",
       "\n",
       "   hsd911  hsg   cg  ...   so   we  exp1  exp2    exp3     exp4  weight  \\\n",
       "0     0.0  0.0  0.0  ...  0.0  0.0  22.0  4.84  10.648  23.4256  569.43   \n",
       "1     1.0  0.0  0.0  ...  0.0  0.0  30.0  9.00  27.000  81.0000  625.96   \n",
       "2     0.0  1.0  0.0  ...  0.0  0.0  19.0  3.61   6.859  13.0321  264.22   \n",
       "3     0.0  1.0  0.0  ...  0.0  0.0  14.0  1.96   2.744   3.8416  256.81   \n",
       "4     0.0  0.0  1.0  ...  0.0  0.0  15.0  2.25   3.375   5.0625  256.81   \n",
       "\n",
       "   married    ne     sc  \n",
       "0     True  True   True  \n",
       "1     True  True  False  \n",
       "2     True  True  False  \n",
       "3     True  True  False  \n",
       "4     True  True  False  \n",
       "\n",
       "[5 rows x 22 columns]"
      ]
     },
     "execution_count": 16,
     "metadata": {},
     "output_type": "execute_result"
    }
   ],
   "source": [
    "data.head()"
   ]
  },
  {
   "cell_type": "code",
   "execution_count": 17,
   "id": "1cadc323",
   "metadata": {},
   "outputs": [
    {
     "data": {
      "text/plain": [
       "(0.0, 20000.0)"
      ]
     },
     "execution_count": 17,
     "metadata": {},
     "output_type": "execute_result"
    },
    {
     "data": {
      "image/png": "[encoded data removed]",
      "text/plain": [
       "<Figure size 432x288 with 1 Axes>"
      ]
     },
     "metadata": {
      "needs_background": "light"
     },
     "output_type": "display_data"
    }
   ],
   "source": [
    "# Log Wage\n",
    "plt.hist(data.lnw , bins = np.arange(0, 8, 1) )\n",
    "plt.xlabel('hourly wage')\n",
    "plt.ylabel('Frequency')\n",
    "plt.title( 'Empirical wage distribution from the US survey data' )\n",
    "plt.ylim((0, 20000))"
   ]
  },
  {
   "cell_type": "markdown",
   "id": "1d693283",
   "metadata": {},
   "source": [
    "### Analysis\n",
    "\n",
    "1. Data splitting process"
   ]
  },
  {
   "cell_type": "code",
   "execution_count": 18,
   "id": "cfbdaaca",
   "metadata": {},
   "outputs": [],
   "source": [
    "from numpy.random import default_rng"
   ]
  },
  {
   "cell_type": "code",
   "execution_count": 19,
   "id": "5f7b2137",
   "metadata": {},
   "outputs": [],
   "source": [
    "nrow = data.shape[0]\n",
    "length = int(nrow*(3/4)) #  divide 75% for train and 25% for test"
   ]
  },
  {
   "cell_type": "code",
   "execution_count": 20,
   "id": "6607a802",
   "metadata": {},
   "outputs": [],
   "source": [
    "\n",
    "random.seed(30)\n",
    "rng = default_rng()\n",
    "\n",
    "#size = length to use all values from sample train\n",
    "training = rng.choice(nrow, size = length, replace=False) # random sample\n",
    "training_bool = data.index.isin( training )\n",
    "\n",
    "#data_train = data.iloc[training,:] # Alternative\n",
    "\n",
    "data_train = data[training_bool]\n",
    "data_test = data[~training_bool] # for test use the complement of the data"
   ]
  },
  {
   "cell_type": "code",
   "execution_count": 21,
   "id": "6f766964",
   "metadata": {},
   "outputs": [
    {
     "data": {
      "text/plain": [
       "(21912, 22)"
      ]
     },
     "execution_count": 21,
     "metadata": {},
     "output_type": "execute_result"
    }
   ],
   "source": [
    "data_train.shape"
   ]
  },
  {
   "cell_type": "code",
   "execution_count": 22,
   "id": "b8f56b83",
   "metadata": {},
   "outputs": [
    {
     "data": {
      "text/plain": [
       "(7305, 22)"
      ]
     },
     "execution_count": 22,
     "metadata": {},
     "output_type": "execute_result"
    }
   ],
   "source": [
    "data_test.shape"
   ]
  },
  {
   "cell_type": "markdown",
   "id": "50abe138",
   "metadata": {},
   "source": [
    "2. Make matrix of results\n"
   ]
  },
  {
   "cell_type": "code",
   "execution_count": 23,
   "id": "af57d207",
   "metadata": {},
   "outputs": [],
   "source": [
    "\n",
    "import statsmodels.api as sm\n",
    "import statsmodels.formula.api as smf\n",
    "import patsy   # modelmatrix version of phyton"
   ]
  },
  {
   "cell_type": "code",
   "execution_count": 24,
   "id": "b11a7358",
   "metadata": {},
   "outputs": [],
   "source": [
    "# Define Basic Model and Flex Model\n",
    "\n",
    "formula_basic = \"lnw ~ female + female : (widowed + divorced + separated + nevermarried + hsd08 + hsd911 + hsg + cg + ad + mw + so + we + exp1 + exp2 + exp3)\"\n",
    "    \n",
    "formula_flex = \"lnw ~ female + female : (widowed + divorced + separated + nevermarried + hsd08 + hsd911 + hsg + cg + ad + mw + so + we + exp1 + exp2 + exp3) + (widowed + divorced + separated + nevermarried + hsd08 + hsd911 + hsg + cg + ad + mw + so +we + exp1 + exp2 + exp3)**2\"\n"
   ]
  },
  {
   "cell_type": "code",
   "execution_count": 25,
   "id": "b31afb1b",
   "metadata": {},
   "outputs": [],
   "source": [
    "# BASIC MODEL\n",
    "\n",
    "#get matrix of y an x for train data\n",
    "y_basic_train, model_X_basic_train = patsy.dmatrices(formula_basic, data_train, return_type='dataframe')\n",
    "\n",
    "#get matrix of y and X for for test data\n",
    "y_basic_test, model_X_basic_test = patsy.dmatrices(formula_basic, data_test, return_type='dataframe')\n",
    "p_basic = model_X_basic_train.shape[ 1 ]"
   ]
  },
  {
   "cell_type": "code",
   "execution_count": 26,
   "id": "2c18fab4",
   "metadata": {},
   "outputs": [],
   "source": [
    "# FLEX MODEL\n",
    "\n",
    "#get matrix of y an X for train data\n",
    "y_flex_train, model_X_flex_train = patsy.dmatrices(formula_flex, data_train, return_type='dataframe')\n",
    "\n",
    "#get matrix of y and x for test data\n",
    "y_flex_test, model_X_flex_test = patsy.dmatrices(formula_flex, data_test, return_type='dataframe')\n",
    "p_flex = model_X_flex_train.shape[ 1 ]"
   ]
  },
  {
   "cell_type": "code",
   "execution_count": 27,
   "id": "0d9a6387",
   "metadata": {},
   "outputs": [
    {
     "name": "stdout",
     "output_type": "stream",
     "text": [
      "17\n",
      "137\n"
     ]
    }
   ],
   "source": [
    "# Number of regressor per model\n",
    "print(p_basic)\n",
    "print(p_flex)"
   ]
  },
  {
   "cell_type": "code",
   "execution_count": 28,
   "id": "9c5a72fe",
   "metadata": {},
   "outputs": [],
   "source": [
    "# Y is the same for both models basic and flex.\n",
    "\n",
    "Y_train = data_train['lnw']\n",
    "Y_test = data_test['lnw']"
   ]
  },
  {
   "cell_type": "markdown",
   "id": "eef13638",
   "metadata": {},
   "source": [
    "### Linear Models\n",
    "\n",
    "In this section we present the basic and flex regressions on the following linear models:\n",
    "OLS, Lasso (HDM), Lasso - CV ,Elastic Net - CV, Ridge lasso - CV."
   ]
  },
  {
   "cell_type": "markdown",
   "id": "42f36382",
   "metadata": {},
   "source": [
    "#### OLS"
   ]
  },
  {
   "cell_type": "code",
   "execution_count": 29,
   "id": "64ea2749",
   "metadata": {},
   "outputs": [
    {
     "name": "stdout",
     "output_type": "stream",
     "text": [
      "The mean squared error (MSE) using the basic model is equal to , 0.40290825948606224 \n"
     ]
    }
   ],
   "source": [
    "#Basic Model\n",
    "\n",
    "lm_basic = sm.OLS( Y_train, model_X_basic_train )\n",
    "fit_lm_basic = lm_basic.fit()\n",
    "\n",
    "# Compute the Out-Of-Sample Performance (capacidad de ajuste o prediccion)\n",
    "yhat_lm_basic = fit_lm_basic.predict( model_X_basic_test )\n",
    "\n",
    "print( f\"The mean squared error (MSE) using the basic model is equal to , {np.mean((Y_test-yhat_lm_basic)**2)} \") # MSE OLS (basic model)    "
   ]
  },
  {
   "cell_type": "code",
   "execution_count": 30,
   "id": "1320bbb0",
   "metadata": {},
   "outputs": [
    {
     "data": {
      "text/plain": [
       "Coef.       0.402908\n",
       "Std.Err.    0.021881\n",
       "Name: const, dtype: float64"
      ]
     },
     "execution_count": 30,
     "metadata": {},
     "output_type": "execute_result"
    }
   ],
   "source": [
    "# MSE and standard error\n",
    "\n",
    "resid_basic = (Y_test-yhat_lm_basic)**2 #residuals squared\n",
    "\n",
    "MSE_lm_basic = sm.OLS( resid_basic , np.ones( resid_basic.shape[0] ) ).fit().summary2().tables[1].iloc[0, 0:2]\n",
    "MSE_lm_basic"
   ]
  },
  {
   "cell_type": "code",
   "execution_count": 31,
   "id": "3c730de2",
   "metadata": {},
   "outputs": [
    {
     "name": "stdout",
     "output_type": "stream",
     "text": [
      "The R^2 using the basic model is equal to, 0.11930544627657436\n"
     ]
    }
   ],
   "source": [
    "# R-squared\n",
    "R2_lm_basic = 1 - ( MSE_lm_basic[0]/Y_test.var() ) # R square formula\n",
    "print( f\"The R^2 using the basic model is equal to, {R2_lm_basic}\" )  "
   ]
  },
  {
   "cell_type": "code",
   "execution_count": 32,
   "id": "4614275a",
   "metadata": {},
   "outputs": [
    {
     "name": "stdout",
     "output_type": "stream",
     "text": [
      "The mean squared error (MSE) using theflexible model is equal to , 0.3468803977008788 \n"
     ]
    }
   ],
   "source": [
    "# OLS\n",
    "# Flex Model\n",
    "\n",
    "lm_flex = sm.OLS( Y_train, model_X_flex_train )\n",
    "fit_lm_flex = lm_flex.fit()\n",
    "\n",
    "yhat_lm_flex = fit_lm_flex.predict( model_X_flex_test )\n",
    "\n",
    "print( f\"The mean squared error (MSE) using theflexible model is equal to , {np.mean((Y_test-yhat_lm_flex)**2)} \") "
   ]
  },
  {
   "cell_type": "code",
   "execution_count": 33,
   "id": "487f2faa",
   "metadata": {},
   "outputs": [
    {
     "data": {
      "text/plain": [
       "Coef.       0.346880\n",
       "Std.Err.    0.022282\n",
       "Name: const, dtype: float64"
      ]
     },
     "execution_count": 33,
     "metadata": {},
     "output_type": "execute_result"
    }
   ],
   "source": [
    "# MSE and Standard error\n",
    "\n",
    "resid_flex = (Y_test-yhat_lm_flex)**2\n",
    "\n",
    "MSE_lm_flex = sm.OLS( resid_flex , np.ones( resid_flex.shape[0] ) ).fit().summary2().tables[1].iloc[0, 0:2]\n",
    "MSE_lm_flex"
   ]
  },
  {
   "cell_type": "code",
   "execution_count": 34,
   "id": "b17d6428",
   "metadata": {},
   "outputs": [
    {
     "name": "stdout",
     "output_type": "stream",
     "text": [
      "The R^2 using the flex model is equal to, 0.2417736051421303\n"
     ]
    }
   ],
   "source": [
    "R2_lm_flex = 1 - ( MSE_lm_flex[0]/Y_test.var() )\n",
    "\n",
    "print( f\"The R^2 using the flex model is equal to, {R2_lm_flex}\" ) "
   ]
  },
  {
   "cell_type": "markdown",
   "id": "feda2cb3",
   "metadata": {},
   "source": [
    "#### Lasso, Ridge and Elastic Net"
   ]
  },
  {
   "cell_type": "code",
   "execution_count": 35,
   "id": "20ec66b2",
   "metadata": {},
   "outputs": [],
   "source": [
    "import hdmpy"
   ]
  },
  {
   "cell_type": "code",
   "execution_count": 36,
   "id": "d7fc8029",
   "metadata": {},
   "outputs": [
    {
     "name": "stderr",
     "output_type": "stream",
     "text": [
      "C:\\Users\\Alvaro\\anaconda3\\lib\\site-packages\\numpy\\lib\\function_base.py:2691: RuntimeWarning: invalid value encountered in true_divide\n",
      "  c /= stddev[:, None]\n",
      "C:\\Users\\Alvaro\\anaconda3\\lib\\site-packages\\numpy\\lib\\function_base.py:2692: RuntimeWarning: invalid value encountered in true_divide\n",
      "  c /= stddev[None, :]\n",
      "C:\\Users\\Alvaro\\anaconda3\\lib\\site-packages\\numpy\\lib\\function_base.py:2691: RuntimeWarning: invalid value encountered in true_divide\n",
      "  c /= stddev[:, None]\n",
      "C:\\Users\\Alvaro\\anaconda3\\lib\\site-packages\\numpy\\lib\\function_base.py:2692: RuntimeWarning: invalid value encountered in true_divide\n",
      "  c /= stddev[None, :]\n",
      "C:\\Users\\Alvaro\\anaconda3\\lib\\site-packages\\numpy\\lib\\function_base.py:2691: RuntimeWarning: invalid value encountered in true_divide\n",
      "  c /= stddev[:, None]\n",
      "C:\\Users\\Alvaro\\anaconda3\\lib\\site-packages\\numpy\\lib\\function_base.py:2692: RuntimeWarning: invalid value encountered in true_divide\n",
      "  c /= stddev[None, :]\n",
      "C:\\Users\\Alvaro\\anaconda3\\lib\\site-packages\\numpy\\lib\\function_base.py:2691: RuntimeWarning: invalid value encountered in true_divide\n",
      "  c /= stddev[:, None]\n",
      "C:\\Users\\Alvaro\\anaconda3\\lib\\site-packages\\numpy\\lib\\function_base.py:2692: RuntimeWarning: invalid value encountered in true_divide\n",
      "  c /= stddev[None, :]\n",
      "C:\\Users\\Alvaro\\anaconda3\\lib\\site-packages\\numpy\\lib\\function_base.py:2691: RuntimeWarning: invalid value encountered in true_divide\n",
      "  c /= stddev[:, None]\n",
      "C:\\Users\\Alvaro\\anaconda3\\lib\\site-packages\\numpy\\lib\\function_base.py:2692: RuntimeWarning: invalid value encountered in true_divide\n",
      "  c /= stddev[None, :]\n",
      "C:\\Users\\Alvaro\\anaconda3\\lib\\site-packages\\numpy\\lib\\function_base.py:2691: RuntimeWarning: invalid value encountered in true_divide\n",
      "  c /= stddev[:, None]\n",
      "C:\\Users\\Alvaro\\anaconda3\\lib\\site-packages\\numpy\\lib\\function_base.py:2692: RuntimeWarning: invalid value encountered in true_divide\n",
      "  c /= stddev[None, :]\n",
      "C:\\Users\\Alvaro\\anaconda3\\lib\\site-packages\\numpy\\lib\\function_base.py:2691: RuntimeWarning: invalid value encountered in true_divide\n",
      "  c /= stddev[:, None]\n",
      "C:\\Users\\Alvaro\\anaconda3\\lib\\site-packages\\numpy\\lib\\function_base.py:2692: RuntimeWarning: invalid value encountered in true_divide\n",
      "  c /= stddev[None, :]\n",
      "C:\\Users\\Alvaro\\anaconda3\\lib\\site-packages\\numpy\\lib\\function_base.py:2691: RuntimeWarning: invalid value encountered in true_divide\n",
      "  c /= stddev[:, None]\n",
      "C:\\Users\\Alvaro\\anaconda3\\lib\\site-packages\\numpy\\lib\\function_base.py:2692: RuntimeWarning: invalid value encountered in true_divide\n",
      "  c /= stddev[None, :]\n",
      "C:\\Users\\Alvaro\\anaconda3\\lib\\site-packages\\numpy\\lib\\function_base.py:2691: RuntimeWarning: invalid value encountered in true_divide\n",
      "  c /= stddev[:, None]\n",
      "C:\\Users\\Alvaro\\anaconda3\\lib\\site-packages\\numpy\\lib\\function_base.py:2692: RuntimeWarning: invalid value encountered in true_divide\n",
      "  c /= stddev[None, :]\n"
     ]
    }
   ],
   "source": [
    "# Lasso HDM\n",
    "fit_rlasso = hdmpy.rlasso( model_X_basic_train.to_numpy() , Y_train.to_numpy().reshape( Y_train.size , 1 ) , post = False )\n",
    "fit_rlasso_post = hdmpy.rlasso( model_X_basic_train.to_numpy() , Y_train.to_numpy().reshape( Y_train.size , 1 ) , post = True )\n"
   ]
  },
  {
   "cell_type": "markdown",
   "id": "6459fc56",
   "metadata": {},
   "source": [
    "#### Basic Model\n",
    "\n",
    "Lasso and Post-Lasso"
   ]
  },
  {
   "cell_type": "code",
   "execution_count": 37,
   "id": "5295e209",
   "metadata": {},
   "outputs": [],
   "source": [
    "# We have to normalize the varibles. \n",
    "# this always do when working with data with significant different ragen such as age and wealth. \n",
    "# to do that we dierenciate the betas with their mean. \n",
    "\n",
    "# Getting mean of each variable (column)\n",
    "meanx = model_X_basic_test.mean( axis = 0 ).values.\\\n",
    "                        reshape( model_X_basic_test.shape[ 1 ] , 1 )\n",
    "\n",
    "# Reducing the mean (standarize)\n",
    "new_x1 = model_X_basic_test.to_numpy() - \\\n",
    "                    (np.ones( ( model_X_basic_test.shape[ 0 ] , 1 ) ) @ meanx.T) # each column has the mean for aeach varialbe\n",
    "\n",
    "# Getting the significant variables\n",
    "x1_est_rlasso = new_x1[ :, fit_rlasso.est['index'].iloc[:, 0].to_list()]\n",
    "\n",
    "# Getting the coef. from significant variables (betas different from zero)\n",
    "beta_rlasso = fit_rlasso.est['beta'].loc[ fit_rlasso.est['index'].\\\n",
    "                                     iloc[:, 0].to_list(), ].to_numpy()\n",
    "\n",
    "# yhat\n",
    "yhat_rlasso = (x1_est_rlasso @ beta_rlasso) + np.mean( Y_test.to_numpy() )\n",
    "residuals_rlasso = Y_test.to_numpy().reshape( Y_test.to_numpy().size, 1)  - yhat_rlasso"
   ]
  },
  {
   "cell_type": "code",
   "execution_count": 38,
   "id": "115d2231",
   "metadata": {},
   "outputs": [],
   "source": [
    "# Post Lasso\n",
    "# same process for Post Lasso\n",
    "\n",
    "# Getting mean of each variable\n",
    "meanx = model_X_basic_test.mean( axis = 0 ).values.\\\n",
    "                        reshape( model_X_basic_test.shape[ 1 ] , 1 )\n",
    "\n",
    "# Reducing the mean\n",
    "new_x1 = model_X_basic_test.to_numpy() - \\\n",
    "                    (np.ones( ( model_X_basic_test.shape[ 0 ] , 1 ) ) @ meanx.T)\n",
    "\n",
    "# Getting the significant variables\n",
    "x1_est_rlasso_post = new_x1[ :, fit_rlasso_post.est['index'].iloc[:, 0].to_list()]\n",
    "\n",
    "# Getting the coef. from significant variables\n",
    "beta_rlasso_post = fit_rlasso_post.est['beta'].loc[ fit_rlasso_post.est['index'].\\\n",
    "                                     iloc[:, 0].to_list(), ].to_numpy()\n",
    "\n",
    "# yhat\n",
    "yhat_rlasso_post = (x1_est_rlasso_post @ beta_rlasso_post) + np.mean( Y_test.to_numpy() )\n",
    "residuals_rlasso_post = Y_test.to_numpy().reshape( Y_test.to_numpy().size, 1)  - yhat_rlasso_post"
   ]
  },
  {
   "cell_type": "code",
   "execution_count": 39,
   "id": "86403ec9",
   "metadata": {},
   "outputs": [],
   "source": [
    "# MSE for lasso and post lasso of Basic Model\n",
    "\n",
    "MSE_lasso = sm.OLS( ( residuals_rlasso )**2 , np.ones( yhat_rlasso.size )  ).fit().summary2().tables[1].round(3)\n",
    "MSE_lasso_post = sm.OLS( ( residuals_rlasso_post )**2  , np.ones( yhat_rlasso_post.size )  ).fit().summary2().tables[1].round(3)"
   ]
  },
  {
   "cell_type": "code",
   "execution_count": 40,
   "id": "fd1dc451",
   "metadata": {},
   "outputs": [
    {
     "name": "stdout",
     "output_type": "stream",
     "text": [
      "The R^2 using the basic model is equal to 0.11461202506471957,for lasso and 0.11461202506471957 for post-lasso\n"
     ]
    }
   ],
   "source": [
    "# R squared for lasso and post lasso of Basic Model\n",
    "\n",
    "R2_lasso = 1 - MSE_lasso.iloc[0, 0]/ np.var( Y_test )\n",
    "R2_lasso_post = 1 - MSE_lasso_post.iloc[0, 0]/ np.var( Y_test )\n",
    "\n",
    "print( f\"The R^2 using the basic model is equal to {R2_lasso},for lasso and {R2_lasso_post} for post-lasso\") # R^2 lasso/post-lasso (basic model) "
   ]
  },
  {
   "cell_type": "markdown",
   "id": "c0b91cbb",
   "metadata": {},
   "source": [
    "#### Flex Model\n",
    "\n",
    "Lasso and Post-Lasso"
   ]
  },
  {
   "cell_type": "code",
   "execution_count": 41,
   "id": "704a8b9c",
   "metadata": {},
   "outputs": [
    {
     "name": "stderr",
     "output_type": "stream",
     "text": [
      "C:\\Users\\Alvaro\\anaconda3\\lib\\site-packages\\numpy\\lib\\function_base.py:2691: RuntimeWarning: invalid value encountered in true_divide\n",
      "  c /= stddev[:, None]\n",
      "C:\\Users\\Alvaro\\anaconda3\\lib\\site-packages\\numpy\\lib\\function_base.py:2692: RuntimeWarning: invalid value encountered in true_divide\n",
      "  c /= stddev[None, :]\n",
      "C:\\Users\\Alvaro\\anaconda3\\lib\\site-packages\\numpy\\lib\\function_base.py:2691: RuntimeWarning: invalid value encountered in true_divide\n",
      "  c /= stddev[:, None]\n",
      "C:\\Users\\Alvaro\\anaconda3\\lib\\site-packages\\numpy\\lib\\function_base.py:2692: RuntimeWarning: invalid value encountered in true_divide\n",
      "  c /= stddev[None, :]\n",
      "C:\\Users\\Alvaro\\anaconda3\\lib\\site-packages\\numpy\\lib\\function_base.py:2691: RuntimeWarning: invalid value encountered in true_divide\n",
      "  c /= stddev[:, None]\n",
      "C:\\Users\\Alvaro\\anaconda3\\lib\\site-packages\\numpy\\lib\\function_base.py:2692: RuntimeWarning: invalid value encountered in true_divide\n",
      "  c /= stddev[None, :]\n",
      "C:\\Users\\Alvaro\\anaconda3\\lib\\site-packages\\numpy\\lib\\function_base.py:2691: RuntimeWarning: invalid value encountered in true_divide\n",
      "  c /= stddev[:, None]\n",
      "C:\\Users\\Alvaro\\anaconda3\\lib\\site-packages\\numpy\\lib\\function_base.py:2692: RuntimeWarning: invalid value encountered in true_divide\n",
      "  c /= stddev[None, :]\n",
      "C:\\Users\\Alvaro\\anaconda3\\lib\\site-packages\\numpy\\lib\\function_base.py:2691: RuntimeWarning: invalid value encountered in true_divide\n",
      "  c /= stddev[:, None]\n",
      "C:\\Users\\Alvaro\\anaconda3\\lib\\site-packages\\numpy\\lib\\function_base.py:2692: RuntimeWarning: invalid value encountered in true_divide\n",
      "  c /= stddev[None, :]\n",
      "C:\\Users\\Alvaro\\anaconda3\\lib\\site-packages\\numpy\\lib\\function_base.py:2691: RuntimeWarning: invalid value encountered in true_divide\n",
      "  c /= stddev[:, None]\n",
      "C:\\Users\\Alvaro\\anaconda3\\lib\\site-packages\\numpy\\lib\\function_base.py:2692: RuntimeWarning: invalid value encountered in true_divide\n",
      "  c /= stddev[None, :]\n",
      "C:\\Users\\Alvaro\\anaconda3\\lib\\site-packages\\numpy\\lib\\function_base.py:2691: RuntimeWarning: invalid value encountered in true_divide\n",
      "  c /= stddev[:, None]\n",
      "C:\\Users\\Alvaro\\anaconda3\\lib\\site-packages\\numpy\\lib\\function_base.py:2692: RuntimeWarning: invalid value encountered in true_divide\n",
      "  c /= stddev[None, :]\n",
      "C:\\Users\\Alvaro\\anaconda3\\lib\\site-packages\\numpy\\lib\\function_base.py:2691: RuntimeWarning: invalid value encountered in true_divide\n",
      "  c /= stddev[:, None]\n",
      "C:\\Users\\Alvaro\\anaconda3\\lib\\site-packages\\numpy\\lib\\function_base.py:2692: RuntimeWarning: invalid value encountered in true_divide\n",
      "  c /= stddev[None, :]\n",
      "C:\\Users\\Alvaro\\anaconda3\\lib\\site-packages\\numpy\\lib\\function_base.py:2691: RuntimeWarning: invalid value encountered in true_divide\n",
      "  c /= stddev[:, None]\n",
      "C:\\Users\\Alvaro\\anaconda3\\lib\\site-packages\\numpy\\lib\\function_base.py:2692: RuntimeWarning: invalid value encountered in true_divide\n",
      "  c /= stddev[None, :]\n"
     ]
    }
   ],
   "source": [
    "fit_rlasso_flex = hdmpy.rlasso( model_X_flex_train.to_numpy() , Y_train.to_numpy().reshape( Y_train.size , 1 ) , post = False )\n",
    "fit_rlasso_post_flex = hdmpy.rlasso( model_X_flex_train.to_numpy() , Y_train.to_numpy().reshape( Y_train.size , 1 ) , post = True )"
   ]
  },
  {
   "cell_type": "code",
   "execution_count": 42,
   "id": "581bef97",
   "metadata": {},
   "outputs": [],
   "source": [
    "# Lasso for flex model\n",
    "\n",
    "# Getting mean of each variable\n",
    "meanx = model_X_flex_test.mean( axis = 0 ).values.\\\n",
    "                        reshape( model_X_flex_test.shape[ 1 ] , 1 )\n",
    "\n",
    "# Reducing the mean\n",
    "new_x1 = model_X_flex_test.to_numpy() - \\\n",
    "                    (np.ones( ( model_X_flex_test.shape[ 0 ] , 1 ) ) @ meanx.T)\n",
    "\n",
    "# Getting the significant variables\n",
    "x1_est_rlasso_flex = new_x1[ :, fit_rlasso_flex.est['index'].iloc[:, 0].to_list()]\n",
    "\n",
    "# Getting the coef. from significant variables\n",
    "beta_rlasso_flex = fit_rlasso_flex.est['beta'].loc[ fit_rlasso_flex.est['index'].\\\n",
    "                                     iloc[:, 0].to_list(), ].to_numpy()\n",
    "\n",
    "# yhat\n",
    "yhat_rlasso_flex = (x1_est_rlasso_flex @ beta_rlasso_flex) + np.mean( Y_test.to_numpy() )\n",
    "residuals_rlasso_flex = Y_test.to_numpy().reshape( Y_test.to_numpy().size, 1)  - yhat_rlasso_flex"
   ]
  },
  {
   "cell_type": "code",
   "execution_count": 43,
   "id": "65cf4cf0",
   "metadata": {},
   "outputs": [],
   "source": [
    "# Post lasso for flex model\n",
    "\n",
    "# Getting mean of each variable\n",
    "meanx = model_X_flex_test.mean( axis = 0 ).values.\\\n",
    "                        reshape( model_X_flex_test.shape[ 1 ] , 1 )\n",
    "\n",
    "# Reducing the mean\n",
    "new_x1 = model_X_flex_test.to_numpy() - \\\n",
    "                    (np.ones( ( model_X_flex_test.shape[ 0 ] , 1 ) ) @ meanx.T)\n",
    "\n",
    "# Getting the significant variables\n",
    "x1_est_rlasso_post_flex = new_x1[ :, fit_rlasso_post_flex.est['index'].iloc[:, 0].to_list()]\n",
    "\n",
    "# Getting the coef. from significant variables\n",
    "beta_rlasso_post_flex = fit_rlasso_post_flex.est['beta'].loc[ fit_rlasso_post_flex.est['index'].\\\n",
    "                                     iloc[:, 0].to_list(), ].to_numpy()\n",
    "\n",
    "# yhat\n",
    "yhat_rlasso_post_flex = (x1_est_rlasso_post_flex @ beta_rlasso_post_flex) + np.mean( Y_test.to_numpy() )\n",
    "residuals_rlasso_post_flex = Y_test.to_numpy().reshape( Y_test.to_numpy().size, 1)  - yhat_rlasso_post_flex"
   ]
  },
  {
   "cell_type": "code",
   "execution_count": 44,
   "id": "8b82d71e",
   "metadata": {},
   "outputs": [],
   "source": [
    "# MSE for lasso and post lasso of Flex Model\n",
    "MSE_lasso_flex = sm.OLS( ( residuals_rlasso_flex )**2 , np.ones( yhat_rlasso_flex.size )  ).fit().summary2().tables[1].round(3)\n",
    "MSE_lasso_post_flex = sm.OLS( ( residuals_rlasso_post_flex )**2  , np.ones( yhat_rlasso_post_flex.size )  ).fit().summary2().tables[1].round(3)"
   ]
  },
  {
   "cell_type": "code",
   "execution_count": 45,
   "id": "5a791aa4",
   "metadata": {},
   "outputs": [
    {
     "name": "stdout",
     "output_type": "stream",
     "text": [
      "The R^2 using the basic model is equal to 0.11461202506471957 for lasso and 0.23484989820407876 for post-lasso\n"
     ]
    }
   ],
   "source": [
    "# R squared for lasso and post lasso of Flex Model\n",
    "R2_lasso_flex = 1 - MSE_lasso.iloc[0, 0]/ np.var( Y_test )\n",
    "R2_lasso_post_flex = 1 - MSE_lasso_post_flex.iloc[0, 0]/ np.var( Y_test )\n",
    "\n",
    "print( f\"The R^2 using the basic model is equal to {R2_lasso_flex} for lasso and {R2_lasso_post_flex} for post-lasso\")\n"
   ]
  },
  {
   "cell_type": "markdown",
   "id": "98b1dc37",
   "metadata": {},
   "source": [
    "### Lasso CV, Ridge Lasso and Elastic Net"
   ]
  },
  {
   "cell_type": "code",
   "execution_count": 46,
   "id": "2f6023de",
   "metadata": {},
   "outputs": [],
   "source": [
    "from sklearn.linear_model import LassoCV\n",
    "from sklearn.preprocessing import StandardScaler\n",
    "from sklearn.linear_model import RidgeCV, ElasticNetCV\n",
    "import statsmodels.api as sm"
   ]
  },
  {
   "cell_type": "code",
   "execution_count": 47,
   "id": "942edb9d",
   "metadata": {},
   "outputs": [
    {
     "data": {
      "text/plain": [
       "array([[-1.34615758],\n",
       "       [-2.17297225],\n",
       "       [-0.38719301],\n",
       "       ...,\n",
       "       [-0.10529359],\n",
       "       [ 0.52822536],\n",
       "       [-0.54929561]])"
      ]
     },
     "execution_count": 47,
     "metadata": {},
     "output_type": "execute_result"
    }
   ],
   "source": [
    "# this pkg. does the same process to standarize the Y \n",
    "# equal as previous code\n",
    "\n",
    "Y_vec = Y_train.to_numpy().reshape( Y_train.to_numpy().size, 1)\n",
    "\n",
    "# Scalar distribution\n",
    "\n",
    "scaler = StandardScaler()\n",
    "scaler.fit( Y_vec )\n",
    "std_Y = scaler.transform( Y_vec ) #standarize\n",
    "\n",
    "std_Y "
   ]
  },
  {
   "cell_type": "markdown",
   "id": "c217e155",
   "metadata": {},
   "source": [
    "#### Basic Model"
   ]
  },
  {
   "cell_type": "code",
   "execution_count": 48,
   "id": "9a218511",
   "metadata": {},
   "outputs": [
    {
     "name": "stderr",
     "output_type": "stream",
     "text": [
      "C:\\Users\\Alvaro\\anaconda3\\lib\\site-packages\\sklearn\\linear_model\\_coordinate_descent.py:1571: DataConversionWarning: A column-vector y was passed when a 1d array was expected. Please change the shape of y to (n_samples, ), for example using ravel().\n",
      "  y = column_or_1d(y, warn=True)\n",
      "C:\\Users\\Alvaro\\anaconda3\\lib\\site-packages\\sklearn\\linear_model\\_coordinate_descent.py:633: ConvergenceWarning: Objective did not converge. You might want to increase the number of iterations. Duality gap: 4.658794976519857, tolerance: 1.970715298077397\n",
      "  model = cd_fast.enet_coordinate_descent_gram(\n",
      "C:\\Users\\Alvaro\\anaconda3\\lib\\site-packages\\sklearn\\linear_model\\_coordinate_descent.py:633: ConvergenceWarning: Objective did not converge. You might want to increase the number of iterations. Duality gap: 8.877208933539805, tolerance: 1.970715298077397\n",
      "  model = cd_fast.enet_coordinate_descent_gram(\n",
      "C:\\Users\\Alvaro\\anaconda3\\lib\\site-packages\\sklearn\\linear_model\\_coordinate_descent.py:633: ConvergenceWarning: Objective did not converge. You might want to increase the number of iterations. Duality gap: 11.147476969272248, tolerance: 1.970715298077397\n",
      "  model = cd_fast.enet_coordinate_descent_gram(\n",
      "C:\\Users\\Alvaro\\anaconda3\\lib\\site-packages\\sklearn\\linear_model\\_coordinate_descent.py:633: ConvergenceWarning: Objective did not converge. You might want to increase the number of iterations. Duality gap: 12.223906242226803, tolerance: 1.970715298077397\n",
      "  model = cd_fast.enet_coordinate_descent_gram(\n",
      "C:\\Users\\Alvaro\\anaconda3\\lib\\site-packages\\sklearn\\linear_model\\_coordinate_descent.py:633: ConvergenceWarning: Objective did not converge. You might want to increase the number of iterations. Duality gap: 7.309283599533956, tolerance: 1.9328848865693418\n",
      "  model = cd_fast.enet_coordinate_descent_gram(\n",
      "C:\\Users\\Alvaro\\anaconda3\\lib\\site-packages\\sklearn\\linear_model\\_coordinate_descent.py:633: ConvergenceWarning: Objective did not converge. You might want to increase the number of iterations. Duality gap: 10.845346840193088, tolerance: 1.9328848865693418\n",
      "  model = cd_fast.enet_coordinate_descent_gram(\n",
      "C:\\Users\\Alvaro\\anaconda3\\lib\\site-packages\\sklearn\\linear_model\\_coordinate_descent.py:633: ConvergenceWarning: Objective did not converge. You might want to increase the number of iterations. Duality gap: 12.675644707604079, tolerance: 1.9328848865693418\n",
      "  model = cd_fast.enet_coordinate_descent_gram(\n",
      "C:\\Users\\Alvaro\\anaconda3\\lib\\site-packages\\sklearn\\linear_model\\_coordinate_descent.py:633: ConvergenceWarning: Objective did not converge. You might want to increase the number of iterations. Duality gap: 13.550930500990944, tolerance: 1.9328848865693418\n",
      "  model = cd_fast.enet_coordinate_descent_gram(\n",
      "C:\\Users\\Alvaro\\anaconda3\\lib\\site-packages\\sklearn\\linear_model\\_coordinate_descent.py:633: ConvergenceWarning: Objective did not converge. You might want to increase the number of iterations. Duality gap: 7.017298672326433, tolerance: 1.988229892557816\n",
      "  model = cd_fast.enet_coordinate_descent_gram(\n",
      "C:\\Users\\Alvaro\\anaconda3\\lib\\site-packages\\sklearn\\linear_model\\_coordinate_descent.py:633: ConvergenceWarning: Objective did not converge. You might want to increase the number of iterations. Duality gap: 10.142555293197802, tolerance: 1.988229892557816\n",
      "  model = cd_fast.enet_coordinate_descent_gram(\n",
      "C:\\Users\\Alvaro\\anaconda3\\lib\\site-packages\\sklearn\\linear_model\\_coordinate_descent.py:633: ConvergenceWarning: Objective did not converge. You might want to increase the number of iterations. Duality gap: 11.681603495984746, tolerance: 1.988229892557816\n",
      "  model = cd_fast.enet_coordinate_descent_gram(\n",
      "C:\\Users\\Alvaro\\anaconda3\\lib\\site-packages\\sklearn\\linear_model\\_coordinate_descent.py:633: ConvergenceWarning: Objective did not converge. You might want to increase the number of iterations. Duality gap: 7.24528850916613, tolerance: 2.017608044719375\n",
      "  model = cd_fast.enet_coordinate_descent_gram(\n",
      "C:\\Users\\Alvaro\\anaconda3\\lib\\site-packages\\sklearn\\linear_model\\_coordinate_descent.py:633: ConvergenceWarning: Objective did not converge. You might want to increase the number of iterations. Duality gap: 10.5069573337787, tolerance: 2.017608044719375\n",
      "  model = cd_fast.enet_coordinate_descent_gram(\n",
      "C:\\Users\\Alvaro\\anaconda3\\lib\\site-packages\\sklearn\\linear_model\\_coordinate_descent.py:633: ConvergenceWarning: Objective did not converge. You might want to increase the number of iterations. Duality gap: 12.127965650819533, tolerance: 2.017608044719375\n",
      "  model = cd_fast.enet_coordinate_descent_gram(\n",
      "C:\\Users\\Alvaro\\anaconda3\\lib\\site-packages\\sklearn\\linear_model\\_coordinate_descent.py:633: ConvergenceWarning: Objective did not converge. You might want to increase the number of iterations. Duality gap: 12.872274384248158, tolerance: 2.017608044719375\n",
      "  model = cd_fast.enet_coordinate_descent_gram(\n",
      "C:\\Users\\Alvaro\\anaconda3\\lib\\site-packages\\sklearn\\linear_model\\_coordinate_descent.py:633: ConvergenceWarning: Objective did not converge. You might want to increase the number of iterations. Duality gap: 5.130480750794959, tolerance: 1.9787922157094826\n",
      "  model = cd_fast.enet_coordinate_descent_gram(\n",
      "C:\\Users\\Alvaro\\anaconda3\\lib\\site-packages\\sklearn\\linear_model\\_coordinate_descent.py:633: ConvergenceWarning: Objective did not converge. You might want to increase the number of iterations. Duality gap: 9.337022872870875, tolerance: 1.9787922157094826\n",
      "  model = cd_fast.enet_coordinate_descent_gram(\n",
      "C:\\Users\\Alvaro\\anaconda3\\lib\\site-packages\\sklearn\\linear_model\\_coordinate_descent.py:633: ConvergenceWarning: Objective did not converge. You might want to increase the number of iterations. Duality gap: 11.590078685738263, tolerance: 1.9787922157094826\n",
      "  model = cd_fast.enet_coordinate_descent_gram(\n",
      "C:\\Users\\Alvaro\\anaconda3\\lib\\site-packages\\sklearn\\linear_model\\_coordinate_descent.py:633: ConvergenceWarning: Objective did not converge. You might want to increase the number of iterations. Duality gap: 12.662316090994864, tolerance: 1.9787922157094826\n",
      "  model = cd_fast.enet_coordinate_descent_gram(\n",
      "C:\\Users\\Alvaro\\anaconda3\\lib\\site-packages\\sklearn\\linear_model\\_coordinate_descent.py:633: ConvergenceWarning: Objective did not converge. You might want to increase the number of iterations. Duality gap: 7.466677437449107, tolerance: 1.944875160546617\n",
      "  model = cd_fast.enet_coordinate_descent_gram(\n",
      "C:\\Users\\Alvaro\\anaconda3\\lib\\site-packages\\sklearn\\linear_model\\_coordinate_descent.py:633: ConvergenceWarning: Objective did not converge. You might want to increase the number of iterations. Duality gap: 11.119183785187488, tolerance: 1.944875160546617\n",
      "  model = cd_fast.enet_coordinate_descent_gram(\n",
      "C:\\Users\\Alvaro\\anaconda3\\lib\\site-packages\\sklearn\\linear_model\\_coordinate_descent.py:633: ConvergenceWarning: Objective did not converge. You might want to increase the number of iterations. Duality gap: 13.014521890821925, tolerance: 1.944875160546617\n",
      "  model = cd_fast.enet_coordinate_descent_gram(\n",
      "C:\\Users\\Alvaro\\anaconda3\\lib\\site-packages\\sklearn\\linear_model\\_coordinate_descent.py:633: ConvergenceWarning: Objective did not converge. You might want to increase the number of iterations. Duality gap: 13.920794445024512, tolerance: 1.944875160546617\n",
      "  model = cd_fast.enet_coordinate_descent_gram(\n",
      "C:\\Users\\Alvaro\\anaconda3\\lib\\site-packages\\sklearn\\linear_model\\_coordinate_descent.py:633: ConvergenceWarning: Objective did not converge. You might want to increase the number of iterations. Duality gap: 2.4066056115007086, tolerance: 1.9821831471837585\n",
      "  model = cd_fast.enet_coordinate_descent_gram(\n",
      "C:\\Users\\Alvaro\\anaconda3\\lib\\site-packages\\sklearn\\linear_model\\_coordinate_descent.py:633: ConvergenceWarning: Objective did not converge. You might want to increase the number of iterations. Duality gap: 7.50195147665363, tolerance: 1.9821831471837585\n",
      "  model = cd_fast.enet_coordinate_descent_gram(\n",
      "C:\\Users\\Alvaro\\anaconda3\\lib\\site-packages\\sklearn\\linear_model\\_coordinate_descent.py:633: ConvergenceWarning: Objective did not converge. You might want to increase the number of iterations. Duality gap: 10.619391623280535, tolerance: 1.9821831471837585\n",
      "  model = cd_fast.enet_coordinate_descent_gram(\n",
      "C:\\Users\\Alvaro\\anaconda3\\lib\\site-packages\\sklearn\\linear_model\\_coordinate_descent.py:633: ConvergenceWarning: Objective did not converge. You might want to increase the number of iterations. Duality gap: 12.162825604886166, tolerance: 1.9821831471837585\n",
      "  model = cd_fast.enet_coordinate_descent_gram(\n",
      "C:\\Users\\Alvaro\\anaconda3\\lib\\site-packages\\sklearn\\linear_model\\_coordinate_descent.py:633: ConvergenceWarning: Objective did not converge. You might want to increase the number of iterations. Duality gap: 14.250264047808741, tolerance: 1.9821831471837585\n",
      "  model = cd_fast.enet_coordinate_descent_gram(\n",
      "C:\\Users\\Alvaro\\anaconda3\\lib\\site-packages\\sklearn\\linear_model\\_coordinate_descent.py:633: ConvergenceWarning: Objective did not converge. You might want to increase the number of iterations. Duality gap: 7.076595735157753, tolerance: 1.9652440676093055\n",
      "  model = cd_fast.enet_coordinate_descent_gram(\n",
      "C:\\Users\\Alvaro\\anaconda3\\lib\\site-packages\\sklearn\\linear_model\\_coordinate_descent.py:633: ConvergenceWarning: Objective did not converge. You might want to increase the number of iterations. Duality gap: 10.306246607586218, tolerance: 1.9652440676093055\n",
      "  model = cd_fast.enet_coordinate_descent_gram(\n",
      "C:\\Users\\Alvaro\\anaconda3\\lib\\site-packages\\sklearn\\linear_model\\_coordinate_descent.py:633: ConvergenceWarning: Objective did not converge. You might want to increase the number of iterations. Duality gap: 11.919077405582357, tolerance: 1.9652440676093055\n",
      "  model = cd_fast.enet_coordinate_descent_gram(\n"
     ]
    },
    {
     "name": "stderr",
     "output_type": "stream",
     "text": [
      "C:\\Users\\Alvaro\\anaconda3\\lib\\site-packages\\sklearn\\linear_model\\_coordinate_descent.py:633: ConvergenceWarning: Objective did not converge. You might want to increase the number of iterations. Duality gap: 12.662690054730774, tolerance: 1.9652440676093055\n",
      "  model = cd_fast.enet_coordinate_descent_gram(\n",
      "C:\\Users\\Alvaro\\anaconda3\\lib\\site-packages\\sklearn\\linear_model\\_coordinate_descent.py:633: ConvergenceWarning: Objective did not converge. You might want to increase the number of iterations. Duality gap: 3.603362851721613, tolerance: 1.9865578216463444\n",
      "  model = cd_fast.enet_coordinate_descent_gram(\n",
      "C:\\Users\\Alvaro\\anaconda3\\lib\\site-packages\\sklearn\\linear_model\\_coordinate_descent.py:633: ConvergenceWarning: Objective did not converge. You might want to increase the number of iterations. Duality gap: 8.260714084255596, tolerance: 1.9865578216463444\n",
      "  model = cd_fast.enet_coordinate_descent_gram(\n",
      "C:\\Users\\Alvaro\\anaconda3\\lib\\site-packages\\sklearn\\linear_model\\_coordinate_descent.py:633: ConvergenceWarning: Objective did not converge. You might want to increase the number of iterations. Duality gap: 10.896896834732615, tolerance: 1.9865578216463444\n",
      "  model = cd_fast.enet_coordinate_descent_gram(\n",
      "C:\\Users\\Alvaro\\anaconda3\\lib\\site-packages\\sklearn\\linear_model\\_coordinate_descent.py:633: ConvergenceWarning: Objective did not converge. You might want to increase the number of iterations. Duality gap: 12.169713880670315, tolerance: 1.9865578216463444\n",
      "  model = cd_fast.enet_coordinate_descent_gram(\n",
      "C:\\Users\\Alvaro\\anaconda3\\lib\\site-packages\\sklearn\\linear_model\\_coordinate_descent.py:633: ConvergenceWarning: Objective did not converge. You might want to increase the number of iterations. Duality gap: 6.891665288727381, tolerance: 1.9494271907381053\n",
      "  model = cd_fast.enet_coordinate_descent_gram(\n",
      "C:\\Users\\Alvaro\\anaconda3\\lib\\site-packages\\sklearn\\linear_model\\_coordinate_descent.py:633: ConvergenceWarning: Objective did not converge. You might want to increase the number of iterations. Duality gap: 9.969629772778717, tolerance: 1.9494271907381053\n",
      "  model = cd_fast.enet_coordinate_descent_gram(\n",
      "C:\\Users\\Alvaro\\anaconda3\\lib\\site-packages\\sklearn\\linear_model\\_coordinate_descent.py:633: ConvergenceWarning: Objective did not converge. You might want to increase the number of iterations. Duality gap: 11.489422148519225, tolerance: 1.9494271907381053\n",
      "  model = cd_fast.enet_coordinate_descent_gram(\n",
      "C:\\Users\\Alvaro\\anaconda3\\lib\\site-packages\\sklearn\\linear_model\\_coordinate_descent.py:633: ConvergenceWarning: Objective did not converge. You might want to increase the number of iterations. Duality gap: 12.18291654843415, tolerance: 1.9494271907381053\n",
      "  model = cd_fast.enet_coordinate_descent_gram(\n",
      "C:\\Users\\Alvaro\\anaconda3\\lib\\site-packages\\sklearn\\linear_model\\_base.py:141: FutureWarning: 'normalize' was deprecated in version 1.0 and will be removed in 1.2.\n",
      "If you wish to scale the data, use Pipeline with a StandardScaler in a preprocessing stage. To reproduce the previous behavior:\n",
      "\n",
      "from sklearn.pipeline import make_pipeline\n",
      "\n",
      "model = make_pipeline(StandardScaler(with_mean=False), Lasso())\n",
      "\n",
      "If you wish to pass a sample_weight parameter, you need to pass it as a fit parameter to each step of the pipeline as follows:\n",
      "\n",
      "kwargs = {s[0] + '__sample_weight': sample_weight for s in model.steps}\n",
      "model.fit(X, y, **kwargs)\n",
      "\n",
      "Set parameter alpha to: original_alpha * np.sqrt(n_samples). \n",
      "  warnings.warn(\n",
      "C:\\Users\\Alvaro\\anaconda3\\lib\\site-packages\\sklearn\\linear_model\\_coordinate_descent.py:647: ConvergenceWarning: Objective did not converge. You might want to increase the number of iterations, check the scale of the features or consider increasing regularisation. Duality gap: 9.156e+01, tolerance: 2.191e+00\n",
      "  model = cd_fast.enet_coordinate_descent(\n",
      "C:\\Users\\Alvaro\\anaconda3\\lib\\site-packages\\sklearn\\linear_model\\_coordinate_descent.py:1571: DataConversionWarning: A column-vector y was passed when a 1d array was expected. Please change the shape of y to (n_samples, ), for example using ravel().\n",
      "  y = column_or_1d(y, warn=True)\n",
      "C:\\Users\\Alvaro\\anaconda3\\lib\\site-packages\\sklearn\\linear_model\\_base.py:141: FutureWarning: 'normalize' was deprecated in version 1.0 and will be removed in 1.2.\n",
      "If you wish to scale the data, use Pipeline with a StandardScaler in a preprocessing stage. To reproduce the previous behavior:\n",
      "\n",
      "from sklearn.pipeline import make_pipeline\n",
      "\n",
      "model = make_pipeline(StandardScaler(with_mean=False), ElasticNet())\n",
      "\n",
      "If you wish to pass a sample_weight parameter, you need to pass it as a fit parameter to each step of the pipeline as follows:\n",
      "\n",
      "kwargs = {s[0] + '__sample_weight': sample_weight for s in model.steps}\n",
      "model.fit(X, y, **kwargs)\n",
      "\n",
      "Set parameter alpha to original_alpha * np.sqrt(n_samples) if l1_ratio is 1, and to original_alpha * n_samples if l1_ratio is 0. For other values of l1_ratio, no analytic formula is available.\n",
      "  warnings.warn(\n",
      "C:\\Users\\Alvaro\\anaconda3\\lib\\site-packages\\sklearn\\linear_model\\_coordinate_descent.py:1571: DataConversionWarning: A column-vector y was passed when a 1d array was expected. Please change the shape of y to (n_samples, ), for example using ravel().\n",
      "  y = column_or_1d(y, warn=True)\n",
      "C:\\Users\\Alvaro\\anaconda3\\lib\\site-packages\\sklearn\\linear_model\\_base.py:141: FutureWarning: 'normalize' was deprecated in version 1.0 and will be removed in 1.2.\n",
      "If you wish to scale the data, use Pipeline with a StandardScaler in a preprocessing stage. To reproduce the previous behavior:\n",
      "\n",
      "from sklearn.pipeline import make_pipeline\n",
      "\n",
      "model = make_pipeline(StandardScaler(with_mean=False), ElasticNet())\n",
      "\n",
      "If you wish to pass a sample_weight parameter, you need to pass it as a fit parameter to each step of the pipeline as follows:\n",
      "\n",
      "kwargs = {s[0] + '__sample_weight': sample_weight for s in model.steps}\n",
      "model.fit(X, y, **kwargs)\n",
      "\n",
      "Set parameter alpha to original_alpha * np.sqrt(n_samples) if l1_ratio is 1, and to original_alpha * n_samples if l1_ratio is 0. For other values of l1_ratio, no analytic formula is available.\n",
      "  warnings.warn(\n"
     ]
    }
   ],
   "source": [
    "# now stadarrize X\n",
    "\n",
    "# Reshaping Y variable\n",
    "Y_vec = Y_train.to_numpy().reshape(-1, 1)\n",
    "\n",
    "# Scalar distribution\n",
    "scaler = StandardScaler()\n",
    "scaler.fit( Y_vec )  # mean and standar deviation\n",
    "std_Y = scaler.transform( Y_vec )  # scale \n",
    "\n",
    "# Regressions cv = Cross Validation (10 folds)\n",
    "fit_lasso_cv_basic = LassoCV(cv = 10 , random_state = 0 , normalize = True ).fit( model_X_basic_train, std_Y )\n",
    "\n",
    "#these two models require theory not seen in class\n",
    "fit_ridge_basic = ElasticNetCV( cv = 10 , normalize = True , random_state = 0 , l1_ratio = 0.0001 ).fit( model_X_basic_train , std_Y )\n",
    "fit_elnet_basic = ElasticNetCV( cv = 10 , normalize = True , random_state = 0 , l1_ratio = 0.5, max_iter = 100000 ).fit( model_X_basic_train , std_Y )\n",
    "\n",
    "# Predictions using test data\n",
    "\n",
    "yhat_lasso_cv_basic = scaler.inverse_transform( fit_lasso_cv_basic.predict( model_X_basic_test ).reshape(-1, 1) )\n",
    "yhat_ridge_basic = scaler.inverse_transform( fit_ridge_basic.predict( model_X_basic_test ).reshape(-1, 1) )\n",
    "yhat_elnet_basic = scaler.inverse_transform( fit_elnet_basic.predict( model_X_basic_test ).reshape(-1, 1) )"
   ]
  },
  {
   "cell_type": "code",
   "execution_count": 49,
   "id": "62349e84",
   "metadata": {},
   "outputs": [],
   "source": [
    "# MSE for each method\n",
    "\n",
    "MSE_lasso_cv_basic = sm.OLS( ((Y_test.to_numpy().reshape(-1,1) - yhat_lasso_cv_basic)**2 ) , np.ones( yhat_lasso_cv_basic.shape )  ).fit().summary2().tables[1].round(3)\n",
    "MSE_ridge_basic = sm.OLS( ((Y_test.to_numpy().reshape(-1,1) - yhat_ridge_basic)**2 ) , np.ones( yhat_ridge_basic.size )  ).fit().summary2().tables[1].round(3)\n",
    "MSE_elnet_basic = sm.OLS( ((Y_test.to_numpy().reshape(-1,1) - yhat_elnet_basic)**2 ) , np.ones( yhat_elnet_basic.size )  ).fit().summary2().tables[1].round(3)"
   ]
  },
  {
   "cell_type": "code",
   "execution_count": 50,
   "id": "9318b6ff",
   "metadata": {},
   "outputs": [
    {
     "name": "stdout",
     "output_type": "stream",
     "text": [
      "R^2 using cross-validation for lasso, ridge and elastic net in the basic model: 0.0009325813693256135,0.11898431136069632,0.11679816821270794\n"
     ]
    }
   ],
   "source": [
    "# R Squared for each method\n",
    "\n",
    "R2_lasso_cv_basic = 1- MSE_ridge_basic.iloc[0,0] / np.var( Y_test )\n",
    "R2_ridge_basic = 1- MSE_lasso_cv_basic.iloc[0,0] / np.var( Y_test )\n",
    "R2_elnet_basic = 1- MSE_elnet_basic.iloc[0,0] / np.var( Y_test )\n",
    "print( f\"R^2 using cross-validation for lasso, ridge and elastic net in the basic model: {R2_lasso_cv_basic},{R2_ridge_basic},{R2_elnet_basic}\")\n"
   ]
  },
  {
   "cell_type": "markdown",
   "id": "5e0e65bb",
   "metadata": {},
   "source": [
    "#### Flex Model"
   ]
  },
  {
   "cell_type": "code",
   "execution_count": 51,
   "id": "39399945",
   "metadata": {},
   "outputs": [
    {
     "name": "stderr",
     "output_type": "stream",
     "text": [
      "C:\\Users\\Alvaro\\anaconda3\\lib\\site-packages\\sklearn\\linear_model\\_coordinate_descent.py:1571: DataConversionWarning: A column-vector y was passed when a 1d array was expected. Please change the shape of y to (n_samples, ), for example using ravel().\n",
      "  y = column_or_1d(y, warn=True)\n",
      "C:\\Users\\Alvaro\\anaconda3\\lib\\site-packages\\sklearn\\linear_model\\_coordinate_descent.py:633: ConvergenceWarning: Objective did not converge. You might want to increase the number of iterations. Duality gap: 2.2090117258576356, tolerance: 1.970715298077397\n",
      "  model = cd_fast.enet_coordinate_descent_gram(\n",
      "C:\\Users\\Alvaro\\anaconda3\\lib\\site-packages\\sklearn\\linear_model\\_coordinate_descent.py:633: ConvergenceWarning: Objective did not converge. You might want to increase the number of iterations. Duality gap: 3.1394947957378463, tolerance: 1.970715298077397\n",
      "  model = cd_fast.enet_coordinate_descent_gram(\n",
      "C:\\Users\\Alvaro\\anaconda3\\lib\\site-packages\\sklearn\\linear_model\\_coordinate_descent.py:633: ConvergenceWarning: Objective did not converge. You might want to increase the number of iterations. Duality gap: 3.555241231861146, tolerance: 1.970715298077397\n",
      "  model = cd_fast.enet_coordinate_descent_gram(\n",
      "C:\\Users\\Alvaro\\anaconda3\\lib\\site-packages\\sklearn\\linear_model\\_coordinate_descent.py:633: ConvergenceWarning: Objective did not converge. You might want to increase the number of iterations. Duality gap: 3.7323119811408105, tolerance: 1.970715298077397\n",
      "  model = cd_fast.enet_coordinate_descent_gram(\n",
      "C:\\Users\\Alvaro\\anaconda3\\lib\\site-packages\\sklearn\\linear_model\\_coordinate_descent.py:633: ConvergenceWarning: Objective did not converge. You might want to increase the number of iterations. Duality gap: 2.9049700163341186, tolerance: 1.970715298077397\n",
      "  model = cd_fast.enet_coordinate_descent_gram(\n",
      "C:\\Users\\Alvaro\\anaconda3\\lib\\site-packages\\sklearn\\linear_model\\_coordinate_descent.py:633: ConvergenceWarning: Objective did not converge. You might want to increase the number of iterations. Duality gap: 4.309272192609569, tolerance: 1.970715298077397\n",
      "  model = cd_fast.enet_coordinate_descent_gram(\n",
      "C:\\Users\\Alvaro\\anaconda3\\lib\\site-packages\\sklearn\\linear_model\\_coordinate_descent.py:633: ConvergenceWarning: Objective did not converge. You might want to increase the number of iterations. Duality gap: 5.066644908592934, tolerance: 1.970715298077397\n",
      "  model = cd_fast.enet_coordinate_descent_gram(\n",
      "C:\\Users\\Alvaro\\anaconda3\\lib\\site-packages\\sklearn\\linear_model\\_coordinate_descent.py:633: ConvergenceWarning: Objective did not converge. You might want to increase the number of iterations. Duality gap: 2.639859714838167, tolerance: 1.9328848865693418\n",
      "  model = cd_fast.enet_coordinate_descent_gram(\n",
      "C:\\Users\\Alvaro\\anaconda3\\lib\\site-packages\\sklearn\\linear_model\\_coordinate_descent.py:633: ConvergenceWarning: Objective did not converge. You might want to increase the number of iterations. Duality gap: 3.181653853998796, tolerance: 1.9328848865693418\n",
      "  model = cd_fast.enet_coordinate_descent_gram(\n",
      "C:\\Users\\Alvaro\\anaconda3\\lib\\site-packages\\sklearn\\linear_model\\_coordinate_descent.py:633: ConvergenceWarning: Objective did not converge. You might want to increase the number of iterations. Duality gap: 3.6500579737530643, tolerance: 1.9328848865693418\n",
      "  model = cd_fast.enet_coordinate_descent_gram(\n",
      "C:\\Users\\Alvaro\\anaconda3\\lib\\site-packages\\sklearn\\linear_model\\_coordinate_descent.py:633: ConvergenceWarning: Objective did not converge. You might want to increase the number of iterations. Duality gap: 4.30170417273257, tolerance: 1.9328848865693418\n",
      "  model = cd_fast.enet_coordinate_descent_gram(\n",
      "C:\\Users\\Alvaro\\anaconda3\\lib\\site-packages\\sklearn\\linear_model\\_coordinate_descent.py:633: ConvergenceWarning: Objective did not converge. You might want to increase the number of iterations. Duality gap: 4.59213949810146, tolerance: 1.9328848865693418\n",
      "  model = cd_fast.enet_coordinate_descent_gram(\n",
      "C:\\Users\\Alvaro\\anaconda3\\lib\\site-packages\\sklearn\\linear_model\\_coordinate_descent.py:633: ConvergenceWarning: Objective did not converge. You might want to increase the number of iterations. Duality gap: 3.5752037627698883, tolerance: 1.9328848865693418\n",
      "  model = cd_fast.enet_coordinate_descent_gram(\n",
      "C:\\Users\\Alvaro\\anaconda3\\lib\\site-packages\\sklearn\\linear_model\\_coordinate_descent.py:633: ConvergenceWarning: Objective did not converge. You might want to increase the number of iterations. Duality gap: 2.4893226690692245, tolerance: 1.9328848865693418\n",
      "  model = cd_fast.enet_coordinate_descent_gram(\n",
      "C:\\Users\\Alvaro\\anaconda3\\lib\\site-packages\\sklearn\\linear_model\\_coordinate_descent.py:633: ConvergenceWarning: Objective did not converge. You might want to increase the number of iterations. Duality gap: 4.015106476141227, tolerance: 1.9328848865693418\n",
      "  model = cd_fast.enet_coordinate_descent_gram(\n",
      "C:\\Users\\Alvaro\\anaconda3\\lib\\site-packages\\sklearn\\linear_model\\_coordinate_descent.py:633: ConvergenceWarning: Objective did not converge. You might want to increase the number of iterations. Duality gap: 4.902027116473619, tolerance: 1.9328848865693418\n",
      "  model = cd_fast.enet_coordinate_descent_gram(\n",
      "C:\\Users\\Alvaro\\anaconda3\\lib\\site-packages\\sklearn\\linear_model\\_coordinate_descent.py:633: ConvergenceWarning: Objective did not converge. You might want to increase the number of iterations. Duality gap: 5.413802390878118, tolerance: 1.9328848865693418\n",
      "  model = cd_fast.enet_coordinate_descent_gram(\n",
      "C:\\Users\\Alvaro\\anaconda3\\lib\\site-packages\\sklearn\\linear_model\\_coordinate_descent.py:633: ConvergenceWarning: Objective did not converge. You might want to increase the number of iterations. Duality gap: 3.1073283639088913, tolerance: 1.988229892557816\n",
      "  model = cd_fast.enet_coordinate_descent_gram(\n",
      "C:\\Users\\Alvaro\\anaconda3\\lib\\site-packages\\sklearn\\linear_model\\_coordinate_descent.py:633: ConvergenceWarning: Objective did not converge. You might want to increase the number of iterations. Duality gap: 3.721268523015169, tolerance: 1.988229892557816\n",
      "  model = cd_fast.enet_coordinate_descent_gram(\n",
      "C:\\Users\\Alvaro\\anaconda3\\lib\\site-packages\\sklearn\\linear_model\\_coordinate_descent.py:633: ConvergenceWarning: Objective did not converge. You might want to increase the number of iterations. Duality gap: 4.410608801714261, tolerance: 1.988229892557816\n",
      "  model = cd_fast.enet_coordinate_descent_gram(\n",
      "C:\\Users\\Alvaro\\anaconda3\\lib\\site-packages\\sklearn\\linear_model\\_coordinate_descent.py:633: ConvergenceWarning: Objective did not converge. You might want to increase the number of iterations. Duality gap: 4.709598765020928, tolerance: 1.988229892557816\n",
      "  model = cd_fast.enet_coordinate_descent_gram(\n",
      "C:\\Users\\Alvaro\\anaconda3\\lib\\site-packages\\sklearn\\linear_model\\_coordinate_descent.py:633: ConvergenceWarning: Objective did not converge. You might want to increase the number of iterations. Duality gap: 3.554555028607865, tolerance: 1.988229892557816\n",
      "  model = cd_fast.enet_coordinate_descent_gram(\n",
      "C:\\Users\\Alvaro\\anaconda3\\lib\\site-packages\\sklearn\\linear_model\\_coordinate_descent.py:633: ConvergenceWarning: Objective did not converge. You might want to increase the number of iterations. Duality gap: 3.6808673698578787, tolerance: 2.017608044719375\n",
      "  model = cd_fast.enet_coordinate_descent_gram(\n",
      "C:\\Users\\Alvaro\\anaconda3\\lib\\site-packages\\sklearn\\linear_model\\_coordinate_descent.py:633: ConvergenceWarning: Objective did not converge. You might want to increase the number of iterations. Duality gap: 4.54445047119043, tolerance: 2.017608044719375\n",
      "  model = cd_fast.enet_coordinate_descent_gram(\n",
      "C:\\Users\\Alvaro\\anaconda3\\lib\\site-packages\\sklearn\\linear_model\\_coordinate_descent.py:633: ConvergenceWarning: Objective did not converge. You might want to increase the number of iterations. Duality gap: 4.437746651441557, tolerance: 2.017608044719375\n",
      "  model = cd_fast.enet_coordinate_descent_gram(\n",
      "C:\\Users\\Alvaro\\anaconda3\\lib\\site-packages\\sklearn\\linear_model\\_coordinate_descent.py:633: ConvergenceWarning: Objective did not converge. You might want to increase the number of iterations. Duality gap: 2.1625034579465137, tolerance: 2.017608044719375\n",
      "  model = cd_fast.enet_coordinate_descent_gram(\n",
      "C:\\Users\\Alvaro\\anaconda3\\lib\\site-packages\\sklearn\\linear_model\\_coordinate_descent.py:633: ConvergenceWarning: Objective did not converge. You might want to increase the number of iterations. Duality gap: 4.056337368852837, tolerance: 2.017608044719375\n",
      "  model = cd_fast.enet_coordinate_descent_gram(\n",
      "C:\\Users\\Alvaro\\anaconda3\\lib\\site-packages\\sklearn\\linear_model\\_coordinate_descent.py:633: ConvergenceWarning: Objective did not converge. You might want to increase the number of iterations. Duality gap: 5.053145890367887, tolerance: 2.017608044719375\n",
      "  model = cd_fast.enet_coordinate_descent_gram(\n",
      "C:\\Users\\Alvaro\\anaconda3\\lib\\site-packages\\sklearn\\linear_model\\_coordinate_descent.py:633: ConvergenceWarning: Objective did not converge. You might want to increase the number of iterations. Duality gap: 5.567904666188042, tolerance: 2.017608044719375\n",
      "  model = cd_fast.enet_coordinate_descent_gram(\n"
     ]
    },
    {
     "name": "stderr",
     "output_type": "stream",
     "text": [
      "C:\\Users\\Alvaro\\anaconda3\\lib\\site-packages\\sklearn\\linear_model\\_coordinate_descent.py:633: ConvergenceWarning: Objective did not converge. You might want to increase the number of iterations. Duality gap: 3.579331016400829, tolerance: 1.9787922157094826\n",
      "  model = cd_fast.enet_coordinate_descent_gram(\n",
      "C:\\Users\\Alvaro\\anaconda3\\lib\\site-packages\\sklearn\\linear_model\\_coordinate_descent.py:633: ConvergenceWarning: Objective did not converge. You might want to increase the number of iterations. Duality gap: 4.413702335132257, tolerance: 1.9787922157094826\n",
      "  model = cd_fast.enet_coordinate_descent_gram(\n",
      "C:\\Users\\Alvaro\\anaconda3\\lib\\site-packages\\sklearn\\linear_model\\_coordinate_descent.py:633: ConvergenceWarning: Objective did not converge. You might want to increase the number of iterations. Duality gap: 4.787547800329776, tolerance: 1.9787922157094826\n",
      "  model = cd_fast.enet_coordinate_descent_gram(\n",
      "C:\\Users\\Alvaro\\anaconda3\\lib\\site-packages\\sklearn\\linear_model\\_coordinate_descent.py:633: ConvergenceWarning: Objective did not converge. You might want to increase the number of iterations. Duality gap: 4.336252833936669, tolerance: 1.9787922157094826\n",
      "  model = cd_fast.enet_coordinate_descent_gram(\n",
      "C:\\Users\\Alvaro\\anaconda3\\lib\\site-packages\\sklearn\\linear_model\\_coordinate_descent.py:633: ConvergenceWarning: Objective did not converge. You might want to increase the number of iterations. Duality gap: 2.99637692217766, tolerance: 1.944875160546617\n",
      "  model = cd_fast.enet_coordinate_descent_gram(\n",
      "C:\\Users\\Alvaro\\anaconda3\\lib\\site-packages\\sklearn\\linear_model\\_coordinate_descent.py:633: ConvergenceWarning: Objective did not converge. You might want to increase the number of iterations. Duality gap: 3.4889170330679917, tolerance: 1.944875160546617\n",
      "  model = cd_fast.enet_coordinate_descent_gram(\n",
      "C:\\Users\\Alvaro\\anaconda3\\lib\\site-packages\\sklearn\\linear_model\\_coordinate_descent.py:633: ConvergenceWarning: Objective did not converge. You might want to increase the number of iterations. Duality gap: 3.638954240916064, tolerance: 1.944875160546617\n",
      "  model = cd_fast.enet_coordinate_descent_gram(\n",
      "C:\\Users\\Alvaro\\anaconda3\\lib\\site-packages\\sklearn\\linear_model\\_coordinate_descent.py:633: ConvergenceWarning: Objective did not converge. You might want to increase the number of iterations. Duality gap: 3.9112445111750276, tolerance: 1.944875160546617\n",
      "  model = cd_fast.enet_coordinate_descent_gram(\n",
      "C:\\Users\\Alvaro\\anaconda3\\lib\\site-packages\\sklearn\\linear_model\\_coordinate_descent.py:633: ConvergenceWarning: Objective did not converge. You might want to increase the number of iterations. Duality gap: 5.381698434073769, tolerance: 1.944875160546617\n",
      "  model = cd_fast.enet_coordinate_descent_gram(\n",
      "C:\\Users\\Alvaro\\anaconda3\\lib\\site-packages\\sklearn\\linear_model\\_coordinate_descent.py:633: ConvergenceWarning: Objective did not converge. You might want to increase the number of iterations. Duality gap: 6.17853228261265, tolerance: 1.944875160546617\n",
      "  model = cd_fast.enet_coordinate_descent_gram(\n",
      "C:\\Users\\Alvaro\\anaconda3\\lib\\site-packages\\sklearn\\linear_model\\_coordinate_descent.py:633: ConvergenceWarning: Objective did not converge. You might want to increase the number of iterations. Duality gap: 6.429534783021154, tolerance: 1.944875160546617\n",
      "  model = cd_fast.enet_coordinate_descent_gram(\n",
      "C:\\Users\\Alvaro\\anaconda3\\lib\\site-packages\\sklearn\\linear_model\\_coordinate_descent.py:633: ConvergenceWarning: Objective did not converge. You might want to increase the number of iterations. Duality gap: 3.9005949506627076, tolerance: 1.9821831471837585\n",
      "  model = cd_fast.enet_coordinate_descent_gram(\n",
      "C:\\Users\\Alvaro\\anaconda3\\lib\\site-packages\\sklearn\\linear_model\\_coordinate_descent.py:633: ConvergenceWarning: Objective did not converge. You might want to increase the number of iterations. Duality gap: 4.247035444739595, tolerance: 1.9821831471837585\n",
      "  model = cd_fast.enet_coordinate_descent_gram(\n",
      "C:\\Users\\Alvaro\\anaconda3\\lib\\site-packages\\sklearn\\linear_model\\_coordinate_descent.py:633: ConvergenceWarning: Objective did not converge. You might want to increase the number of iterations. Duality gap: 4.032502445854334, tolerance: 1.9821831471837585\n",
      "  model = cd_fast.enet_coordinate_descent_gram(\n",
      "C:\\Users\\Alvaro\\anaconda3\\lib\\site-packages\\sklearn\\linear_model\\_coordinate_descent.py:633: ConvergenceWarning: Objective did not converge. You might want to increase the number of iterations. Duality gap: 3.9213158864695288, tolerance: 1.9821831471837585\n",
      "  model = cd_fast.enet_coordinate_descent_gram(\n",
      "C:\\Users\\Alvaro\\anaconda3\\lib\\site-packages\\sklearn\\linear_model\\_coordinate_descent.py:633: ConvergenceWarning: Objective did not converge. You might want to increase the number of iterations. Duality gap: 2.2635263765423588, tolerance: 1.9652440676093055\n",
      "  model = cd_fast.enet_coordinate_descent_gram(\n",
      "C:\\Users\\Alvaro\\anaconda3\\lib\\site-packages\\sklearn\\linear_model\\_coordinate_descent.py:633: ConvergenceWarning: Objective did not converge. You might want to increase the number of iterations. Duality gap: 3.0970799329043075, tolerance: 1.9652440676093055\n",
      "  model = cd_fast.enet_coordinate_descent_gram(\n",
      "C:\\Users\\Alvaro\\anaconda3\\lib\\site-packages\\sklearn\\linear_model\\_coordinate_descent.py:633: ConvergenceWarning: Objective did not converge. You might want to increase the number of iterations. Duality gap: 4.008871936102878, tolerance: 1.9652440676093055\n",
      "  model = cd_fast.enet_coordinate_descent_gram(\n",
      "C:\\Users\\Alvaro\\anaconda3\\lib\\site-packages\\sklearn\\linear_model\\_coordinate_descent.py:633: ConvergenceWarning: Objective did not converge. You might want to increase the number of iterations. Duality gap: 5.035973229661977, tolerance: 1.9652440676093055\n",
      "  model = cd_fast.enet_coordinate_descent_gram(\n",
      "C:\\Users\\Alvaro\\anaconda3\\lib\\site-packages\\sklearn\\linear_model\\_coordinate_descent.py:633: ConvergenceWarning: Objective did not converge. You might want to increase the number of iterations. Duality gap: 5.842935850079812, tolerance: 1.9652440676093055\n",
      "  model = cd_fast.enet_coordinate_descent_gram(\n",
      "C:\\Users\\Alvaro\\anaconda3\\lib\\site-packages\\sklearn\\linear_model\\_coordinate_descent.py:633: ConvergenceWarning: Objective did not converge. You might want to increase the number of iterations. Duality gap: 5.906430692106369, tolerance: 1.9652440676093055\n",
      "  model = cd_fast.enet_coordinate_descent_gram(\n",
      "C:\\Users\\Alvaro\\anaconda3\\lib\\site-packages\\sklearn\\linear_model\\_coordinate_descent.py:633: ConvergenceWarning: Objective did not converge. You might want to increase the number of iterations. Duality gap: 3.042495585657889, tolerance: 1.9865578216463444\n",
      "  model = cd_fast.enet_coordinate_descent_gram(\n",
      "C:\\Users\\Alvaro\\anaconda3\\lib\\site-packages\\sklearn\\linear_model\\_coordinate_descent.py:633: ConvergenceWarning: Objective did not converge. You might want to increase the number of iterations. Duality gap: 3.4432376664517506, tolerance: 1.9865578216463444\n",
      "  model = cd_fast.enet_coordinate_descent_gram(\n",
      "C:\\Users\\Alvaro\\anaconda3\\lib\\site-packages\\sklearn\\linear_model\\_coordinate_descent.py:633: ConvergenceWarning: Objective did not converge. You might want to increase the number of iterations. Duality gap: 3.585750136857314, tolerance: 1.9865578216463444\n",
      "  model = cd_fast.enet_coordinate_descent_gram(\n",
      "C:\\Users\\Alvaro\\anaconda3\\lib\\site-packages\\sklearn\\linear_model\\_coordinate_descent.py:633: ConvergenceWarning: Objective did not converge. You might want to increase the number of iterations. Duality gap: 3.616401756848063, tolerance: 1.9865578216463444\n",
      "  model = cd_fast.enet_coordinate_descent_gram(\n",
      "C:\\Users\\Alvaro\\anaconda3\\lib\\site-packages\\sklearn\\linear_model\\_coordinate_descent.py:633: ConvergenceWarning: Objective did not converge. You might want to increase the number of iterations. Duality gap: 3.6019606561749242, tolerance: 1.9865578216463444\n",
      "  model = cd_fast.enet_coordinate_descent_gram(\n",
      "C:\\Users\\Alvaro\\anaconda3\\lib\\site-packages\\sklearn\\linear_model\\_coordinate_descent.py:633: ConvergenceWarning: Objective did not converge. You might want to increase the number of iterations. Duality gap: 3.959442270528598, tolerance: 1.9865578216463444\n",
      "  model = cd_fast.enet_coordinate_descent_gram(\n",
      "C:\\Users\\Alvaro\\anaconda3\\lib\\site-packages\\sklearn\\linear_model\\_coordinate_descent.py:633: ConvergenceWarning: Objective did not converge. You might want to increase the number of iterations. Duality gap: 5.195236290588582, tolerance: 1.9865578216463444\n",
      "  model = cd_fast.enet_coordinate_descent_gram(\n"
     ]
    },
    {
     "name": "stderr",
     "output_type": "stream",
     "text": [
      "C:\\Users\\Alvaro\\anaconda3\\lib\\site-packages\\sklearn\\linear_model\\_coordinate_descent.py:633: ConvergenceWarning: Objective did not converge. You might want to increase the number of iterations. Duality gap: 2.4107070807076525, tolerance: 1.9494271907381053\n",
      "  model = cd_fast.enet_coordinate_descent_gram(\n",
      "C:\\Users\\Alvaro\\anaconda3\\lib\\site-packages\\sklearn\\linear_model\\_coordinate_descent.py:633: ConvergenceWarning: Objective did not converge. You might want to increase the number of iterations. Duality gap: 2.9059245965327136, tolerance: 1.9494271907381053\n",
      "  model = cd_fast.enet_coordinate_descent_gram(\n",
      "C:\\Users\\Alvaro\\anaconda3\\lib\\site-packages\\sklearn\\linear_model\\_coordinate_descent.py:633: ConvergenceWarning: Objective did not converge. You might want to increase the number of iterations. Duality gap: 3.3922530651907437, tolerance: 1.9494271907381053\n",
      "  model = cd_fast.enet_coordinate_descent_gram(\n",
      "C:\\Users\\Alvaro\\anaconda3\\lib\\site-packages\\sklearn\\linear_model\\_coordinate_descent.py:633: ConvergenceWarning: Objective did not converge. You might want to increase the number of iterations. Duality gap: 4.125401989054808, tolerance: 1.9494271907381053\n",
      "  model = cd_fast.enet_coordinate_descent_gram(\n",
      "C:\\Users\\Alvaro\\anaconda3\\lib\\site-packages\\sklearn\\linear_model\\_coordinate_descent.py:633: ConvergenceWarning: Objective did not converge. You might want to increase the number of iterations. Duality gap: 4.938746825386261, tolerance: 1.9494271907381053\n",
      "  model = cd_fast.enet_coordinate_descent_gram(\n",
      "C:\\Users\\Alvaro\\anaconda3\\lib\\site-packages\\sklearn\\linear_model\\_coordinate_descent.py:633: ConvergenceWarning: Objective did not converge. You might want to increase the number of iterations. Duality gap: 6.037073879160744, tolerance: 1.9494271907381053\n",
      "  model = cd_fast.enet_coordinate_descent_gram(\n",
      "C:\\Users\\Alvaro\\anaconda3\\lib\\site-packages\\sklearn\\linear_model\\_coordinate_descent.py:633: ConvergenceWarning: Objective did not converge. You might want to increase the number of iterations. Duality gap: 6.540539560854086, tolerance: 1.9494271907381053\n",
      "  model = cd_fast.enet_coordinate_descent_gram(\n",
      "C:\\Users\\Alvaro\\anaconda3\\lib\\site-packages\\sklearn\\linear_model\\_base.py:141: FutureWarning: 'normalize' was deprecated in version 1.0 and will be removed in 1.2.\n",
      "If you wish to scale the data, use Pipeline with a StandardScaler in a preprocessing stage. To reproduce the previous behavior:\n",
      "\n",
      "from sklearn.pipeline import make_pipeline\n",
      "\n",
      "model = make_pipeline(StandardScaler(with_mean=False), Lasso())\n",
      "\n",
      "If you wish to pass a sample_weight parameter, you need to pass it as a fit parameter to each step of the pipeline as follows:\n",
      "\n",
      "kwargs = {s[0] + '__sample_weight': sample_weight for s in model.steps}\n",
      "model.fit(X, y, **kwargs)\n",
      "\n",
      "Set parameter alpha to: original_alpha * np.sqrt(n_samples). \n",
      "  warnings.warn(\n",
      "C:\\Users\\Alvaro\\anaconda3\\lib\\site-packages\\sklearn\\linear_model\\_coordinate_descent.py:1571: DataConversionWarning: A column-vector y was passed when a 1d array was expected. Please change the shape of y to (n_samples, ), for example using ravel().\n",
      "  y = column_or_1d(y, warn=True)\n",
      "C:\\Users\\Alvaro\\anaconda3\\lib\\site-packages\\sklearn\\linear_model\\_base.py:141: FutureWarning: 'normalize' was deprecated in version 1.0 and will be removed in 1.2.\n",
      "If you wish to scale the data, use Pipeline with a StandardScaler in a preprocessing stage. To reproduce the previous behavior:\n",
      "\n",
      "from sklearn.pipeline import make_pipeline\n",
      "\n",
      "model = make_pipeline(StandardScaler(with_mean=False), ElasticNet())\n",
      "\n",
      "If you wish to pass a sample_weight parameter, you need to pass it as a fit parameter to each step of the pipeline as follows:\n",
      "\n",
      "kwargs = {s[0] + '__sample_weight': sample_weight for s in model.steps}\n",
      "model.fit(X, y, **kwargs)\n",
      "\n",
      "Set parameter alpha to original_alpha * np.sqrt(n_samples) if l1_ratio is 1, and to original_alpha * n_samples if l1_ratio is 0. For other values of l1_ratio, no analytic formula is available.\n",
      "  warnings.warn(\n",
      "C:\\Users\\Alvaro\\anaconda3\\lib\\site-packages\\sklearn\\linear_model\\_coordinate_descent.py:1571: DataConversionWarning: A column-vector y was passed when a 1d array was expected. Please change the shape of y to (n_samples, ), for example using ravel().\n",
      "  y = column_or_1d(y, warn=True)\n",
      "C:\\Users\\Alvaro\\anaconda3\\lib\\site-packages\\sklearn\\linear_model\\_base.py:141: FutureWarning: 'normalize' was deprecated in version 1.0 and will be removed in 1.2.\n",
      "If you wish to scale the data, use Pipeline with a StandardScaler in a preprocessing stage. To reproduce the previous behavior:\n",
      "\n",
      "from sklearn.pipeline import make_pipeline\n",
      "\n",
      "model = make_pipeline(StandardScaler(with_mean=False), ElasticNet())\n",
      "\n",
      "If you wish to pass a sample_weight parameter, you need to pass it as a fit parameter to each step of the pipeline as follows:\n",
      "\n",
      "kwargs = {s[0] + '__sample_weight': sample_weight for s in model.steps}\n",
      "model.fit(X, y, **kwargs)\n",
      "\n",
      "Set parameter alpha to original_alpha * np.sqrt(n_samples) if l1_ratio is 1, and to original_alpha * n_samples if l1_ratio is 0. For other values of l1_ratio, no analytic formula is available.\n",
      "  warnings.warn(\n"
     ]
    }
   ],
   "source": [
    "# now use the same methods but for our flexible model \n",
    "\n",
    "# Reshaping Y variable\n",
    "Y_vec = Y_train.to_numpy().reshape( -1, 1)\n",
    "\n",
    "# Scalar distribution\n",
    "scaler = StandardScaler()\n",
    "scaler.fit( Y_vec )\n",
    "std_Y = scaler.transform( Y_vec )\n",
    "\n",
    "# Regressions\n",
    "fit_lasso_cv_flex = LassoCV(cv = 10 , random_state = 0 , normalize = True ).fit( model_X_flex_train, std_Y )\n",
    "fit_ridge_flex = ElasticNetCV( cv = 10 , normalize = True , random_state = 0 , l1_ratio = 0.0001 ).fit( model_X_flex_train , std_Y )\n",
    "fit_elnet_flex = ElasticNetCV( cv = 10 , normalize = True , random_state = 0 , l1_ratio = 0.5, max_iter = 100000 ).fit( model_X_flex_train , std_Y )\n",
    "\n",
    "# Predictions\n",
    "yhat_lasso_cv_flex = scaler.inverse_transform( fit_lasso_cv_flex.predict( model_X_flex_test ).reshape(-1,1) )\n",
    "yhat_ridge_flex = scaler.inverse_transform( fit_ridge_flex.predict( model_X_flex_test ).reshape(-1,1) )\n",
    "yhat_elnet_flex = scaler.inverse_transform( fit_elnet_flex.predict( model_X_flex_test ).reshape(-1,1) )"
   ]
  },
  {
   "cell_type": "code",
   "execution_count": 52,
   "id": "c3a87152",
   "metadata": {},
   "outputs": [],
   "source": [
    "#MSE for each method in flex model\n",
    "\n",
    "MSE_lasso_cv_flex = sm.OLS( ((Y_test.to_numpy().reshape(-1,1) - yhat_lasso_cv_flex)**2 ) , np.ones( yhat_lasso_cv_flex.shape )  ).fit().summary2().tables[1].round(3)\n",
    "MSE_ridge_flex = sm.OLS( ((Y_test.to_numpy().reshape(-1,1) - yhat_ridge_flex)**2 ) , np.ones( yhat_ridge_flex.size )  ).fit().summary2().tables[1].round(3)\n",
    "MSE_elnet_flex = sm.OLS( ((Y_test.to_numpy().reshape(-1,1) - yhat_elnet_flex)**2 ) , np.ones( yhat_elnet_flex.size )  ).fit().summary2().tables[1].round(3)"
   ]
  },
  {
   "cell_type": "code",
   "execution_count": 53,
   "id": "f1d4bbf5",
   "metadata": {},
   "outputs": [
    {
     "name": "stdout",
     "output_type": "stream",
     "text": [
      "R^2 using cross-validation for lasso, ridge and elastic net in the basic model: 0.005304867665302249,0.2392221845000554,0.2392221845000554\n"
     ]
    }
   ],
   "source": [
    "# R squared for each method\n",
    "R2_lasso_cv_flex = 1- MSE_ridge_flex.iloc[0,0] / np.var( Y_test )\n",
    "R2_ridge_flex = 1- MSE_lasso_cv_flex.iloc[0,0] / np.var( Y_test )\n",
    "R2_elnet_flex = 1- MSE_elnet_flex.iloc[0,0] / np.var( Y_test )\n",
    "\n",
    "print( f\"R^2 using cross-validation for lasso, ridge and elastic net in the basic model: {R2_lasso_cv_flex},{R2_ridge_flex},{R2_elnet_flex}\")"
   ]
  },
  {
   "cell_type": "markdown",
   "id": "86b9c30e",
   "metadata": {},
   "source": [
    "### Non-Linear Models"
   ]
  },
  {
   "cell_type": "code",
   "execution_count": 54,
   "id": "aca476d5",
   "metadata": {},
   "outputs": [],
   "source": [
    "import os\n",
    "import pandas as pd\n",
    "import numpy as np\n",
    "import matplotlib.pyplot as plt\n",
    "from sklearn.model_selection import train_test_split\n",
    "from sklearn.tree import DecisionTreeRegressor\n",
    "from sklearn.ensemble import RandomForestRegressor #Not used this time\n",
    "from sklearn import tree\n",
    "from scipy.sparse import diags\n",
    "from IPython.display import Image, display\n",
    "from sklearn.model_selection import cross_val_score"
   ]
  },
  {
   "cell_type": "markdown",
   "id": "68c7d314",
   "metadata": {},
   "source": [
    "#### Tree Regression"
   ]
  },
  {
   "cell_type": "code",
   "execution_count": 55,
   "id": "e0a42854",
   "metadata": {},
   "outputs": [],
   "source": [
    "trees = DecisionTreeRegressor( random_state = 0, min_impurity_decrease = 0 )"
   ]
  },
  {
   "cell_type": "code",
   "execution_count": 56,
   "id": "84e3041f",
   "metadata": {},
   "outputs": [],
   "source": [
    "trees_fit =  trees.fit( model_X_basic_train, y_basic_train )"
   ]
  },
  {
   "cell_type": "code",
   "execution_count": 57,
   "id": "8ebecbe2",
   "metadata": {},
   "outputs": [
    {
     "data": {
      "text/plain": [
       "[0.0,\n",
       " 5.267316896581348e-06,\n",
       " 0.01234657110046922,\n",
       " 0.06110203207082164,\n",
       " 0.01572277823553036,\n",
       " 0.03403342522198951,\n",
       " 0.005531450298482324,\n",
       " 0.015154653778033723,\n",
       " 0.2671876429919655,\n",
       " 0.09382464221058891,\n",
       " 0.12742028717150364,\n",
       " 0.021199882447144224,\n",
       " 0.016731667063970515,\n",
       " 0.017545194316781847,\n",
       " 0.07849520401834043,\n",
       " 0.1489355421548987,\n",
       " 0.0847637596025829]"
      ]
     },
     "execution_count": 57,
     "metadata": {},
     "output_type": "execute_result"
    }
   ],
   "source": [
    "list(trees_fit.feature_importances_)"
   ]
  },
  {
   "cell_type": "code",
   "execution_count": 58,
   "id": "be482c1c",
   "metadata": {},
   "outputs": [
    {
     "data": {
      "text/plain": [
       "31"
      ]
     },
     "execution_count": 58,
     "metadata": {},
     "output_type": "execute_result"
    }
   ],
   "source": [
    "trees_fit.get_depth()  "
   ]
  },
  {
   "cell_type": "code",
   "execution_count": 59,
   "id": "723ee887",
   "metadata": {},
   "outputs": [
    {
     "data": {
      "text/plain": [
       "1976"
      ]
     },
     "execution_count": 59,
     "metadata": {},
     "output_type": "execute_result"
    }
   ],
   "source": [
    "trees_fit.get_n_leaves() # number os leaves tree\n",
    "\n",
    "# As we can see, our tree is to deep and needs to be prune."
   ]
  },
  {
   "cell_type": "code",
   "execution_count": 60,
   "id": "4b2102b9",
   "metadata": {},
   "outputs": [
    {
     "name": "stdout",
     "output_type": "stream",
     "text": [
      "R^2 using prune tree: 0.04465544432909252\n"
     ]
    }
   ],
   "source": [
    "y_hat_tree = trees_fit.predict(model_X_basic_test)\n",
    "\n",
    "# MSE of NOT prune tree\n",
    "\n",
    "MSE_tree= sm.OLS( ((Y_test.to_numpy().reshape(-1,1) - y_hat_tree.reshape(-1,1))**2 ) , np.ones( y_hat_tree.shape )  ).fit().summary2().tables[1].round(3)\n",
    "\n",
    "# R squared using NOT prune tree\n",
    "\n",
    "R2_tree = 1- MSE_tree.iloc[0,0] / np.var( Y_test )\n",
    "\n",
    "print( f\"R^2 using prune tree: {R2_tree}\")"
   ]
  },
  {
   "cell_type": "markdown",
   "id": "29d178b8",
   "metadata": {},
   "source": [
    "#### Pruned tree regression"
   ]
  },
  {
   "cell_type": "code",
   "execution_count": 61,
   "id": "afdeab5a",
   "metadata": {},
   "outputs": [],
   "source": [
    "#Prunning. \n",
    "\n",
    "#We get a list of optimal alphas to penalize leafs.\n",
    "# each alpha is assosiate to the deph of the tree.\n",
    "path = trees.cost_complexity_pruning_path( model_X_basic_train, y_basic_train )\n",
    "\n",
    "alphas, impurities = path.ccp_alphas, path.impurities"
   ]
  },
  {
   "cell_type": "code",
   "execution_count": 62,
   "id": "cd2f8d23",
   "metadata": {},
   "outputs": [
    {
     "data": {
      "text/plain": [
       "array([0.00000000e+00, 1.62135528e-19, 3.24271055e-19, ...,\n",
       "       7.32629470e-03, 8.09608592e-03, 2.08633400e-02])"
      ]
     },
     "execution_count": 62,
     "metadata": {},
     "output_type": "execute_result"
    }
   ],
   "source": [
    "alphas"
   ]
  },
  {
   "cell_type": "code",
   "execution_count": 63,
   "id": "1785d424",
   "metadata": {},
   "outputs": [
    {
     "data": {
      "text/html": [
       "<div>\n",
       "<style scoped>\n",
       "    .dataframe tbody tr th:only-of-type {\n",
       "        vertical-align: middle;\n",
       "    }\n",
       "\n",
       "    .dataframe tbody tr th {\n",
       "        vertical-align: top;\n",
       "    }\n",
       "\n",
       "    .dataframe thead th {\n",
       "        text-align: right;\n",
       "    }\n",
       "</style>\n",
       "<table border=\"1\" class=\"dataframe\">\n",
       "  <thead>\n",
       "    <tr style=\"text-align: right;\">\n",
       "      <th></th>\n",
       "      <th>alpha</th>\n",
       "      <th>mean</th>\n",
       "      <th>std</th>\n",
       "    </tr>\n",
       "  </thead>\n",
       "  <tbody>\n",
       "    <tr>\n",
       "      <th>1340</th>\n",
       "      <td>0.000810</td>\n",
       "      <td>0.387063</td>\n",
       "      <td>0.044031</td>\n",
       "    </tr>\n",
       "    <tr>\n",
       "      <th>1342</th>\n",
       "      <td>0.001194</td>\n",
       "      <td>0.389338</td>\n",
       "      <td>0.043962</td>\n",
       "    </tr>\n",
       "    <tr>\n",
       "      <th>1341</th>\n",
       "      <td>0.001183</td>\n",
       "      <td>0.389338</td>\n",
       "      <td>0.043962</td>\n",
       "    </tr>\n",
       "    <tr>\n",
       "      <th>1335</th>\n",
       "      <td>0.000251</td>\n",
       "      <td>0.391413</td>\n",
       "      <td>0.044241</td>\n",
       "    </tr>\n",
       "    <tr>\n",
       "      <th>1338</th>\n",
       "      <td>0.000414</td>\n",
       "      <td>0.391688</td>\n",
       "      <td>0.044372</td>\n",
       "    </tr>\n",
       "    <tr>\n",
       "      <th>1337</th>\n",
       "      <td>0.000396</td>\n",
       "      <td>0.391695</td>\n",
       "      <td>0.044297</td>\n",
       "    </tr>\n",
       "    <tr>\n",
       "      <th>1336</th>\n",
       "      <td>0.000346</td>\n",
       "      <td>0.391710</td>\n",
       "      <td>0.044308</td>\n",
       "    </tr>\n",
       "    <tr>\n",
       "      <th>1339</th>\n",
       "      <td>0.000432</td>\n",
       "      <td>0.392130</td>\n",
       "      <td>0.044727</td>\n",
       "    </tr>\n",
       "    <tr>\n",
       "      <th>1331</th>\n",
       "      <td>0.000138</td>\n",
       "      <td>0.392200</td>\n",
       "      <td>0.044366</td>\n",
       "    </tr>\n",
       "    <tr>\n",
       "      <th>1330</th>\n",
       "      <td>0.000133</td>\n",
       "      <td>0.392252</td>\n",
       "      <td>0.044321</td>\n",
       "    </tr>\n",
       "  </tbody>\n",
       "</table>\n",
       "</div>"
      ],
      "text/plain": [
       "         alpha      mean       std\n",
       "1340  0.000810  0.387063  0.044031\n",
       "1342  0.001194  0.389338  0.043962\n",
       "1341  0.001183  0.389338  0.043962\n",
       "1335  0.000251  0.391413  0.044241\n",
       "1338  0.000414  0.391688  0.044372\n",
       "1337  0.000396  0.391695  0.044297\n",
       "1336  0.000346  0.391710  0.044308\n",
       "1339  0.000432  0.392130  0.044727\n",
       "1331  0.000138  0.392200  0.044366\n",
       "1330  0.000133  0.392252  0.044321"
      ]
     },
     "execution_count": 63,
     "metadata": {},
     "output_type": "execute_result"
    }
   ],
   "source": [
    "# Build alphas table\n",
    "\n",
    "mean1, std1 = [], []\n",
    "\n",
    "# Loop\n",
    "for i in alphas:\n",
    "     tree_initial = DecisionTreeRegressor(ccp_alpha=i, random_state=0)\n",
    "# 10 fold cross validation for each alpha value\n",
    "     scores = cross_val_score(tree_initial, model_X_basic_train, y_basic_train, scoring='neg_mean_squared_error', cv=10)\n",
    "     mean1.append(scores.mean()), std1.append(scores.std())\n",
    "            \n",
    "# keep a record of the values of alpha, mean accuracy rate, standard deviation of accuracies\n",
    "\n",
    "table = pd.DataFrame({\"alpha\": alphas, \"mean\": mean1, \"std\": std1})\n",
    "table[\"mean\"] = (-1)*table[\"mean\"] # *-1 because Python gets results in negative.\n",
    "table = table.sort_values([\"mean\"], ascending = True) #order ascending. First in the min MSE\n",
    "table.head(10)"
   ]
  },
  {
   "cell_type": "code",
   "execution_count": 64,
   "id": "af4268d1",
   "metadata": {},
   "outputs": [],
   "source": [
    "# we set then the alpha with min MSE. table.iloc[1,0]\n",
    "\n",
    "prune_tree =  DecisionTreeRegressor(ccp_alpha=table.iloc[1,0], random_state=0)\n",
    "\n",
    "prune_tree_fit = prune_tree.fit(model_X_basic_train, y_basic_train)"
   ]
  },
  {
   "cell_type": "code",
   "execution_count": 65,
   "id": "74bbd2d9",
   "metadata": {},
   "outputs": [
    {
     "data": {
      "text/plain": [
       "4"
      ]
     },
     "execution_count": 65,
     "metadata": {},
     "output_type": "execute_result"
    }
   ],
   "source": [
    "prune_tree_fit.get_depth()  # depth's tree"
   ]
  },
  {
   "cell_type": "code",
   "execution_count": 66,
   "id": "cbdcf022",
   "metadata": {},
   "outputs": [
    {
     "data": {
      "text/plain": [
       "5"
      ]
     },
     "execution_count": 66,
     "metadata": {},
     "output_type": "execute_result"
    }
   ],
   "source": [
    "prune_tree_fit.get_n_leaves() # number leaves tree"
   ]
  },
  {
   "cell_type": "code",
   "execution_count": 67,
   "id": "cbfc1567",
   "metadata": {},
   "outputs": [
    {
     "data": {
      "image/png": "[encoded data removed]",
      "text/plain": [
       "<Figure size 1080x720 with 1 Axes>"
      ]
     },
     "metadata": {
      "needs_background": "light"
     },
     "output_type": "display_data"
    }
   ],
   "source": [
    "#Tree plot\n",
    "\n",
    "fig = plt.figure(figsize=(15,10))\n",
    "_ = tree.plot_tree( prune_tree_fit , filled = True , rounded = True  )"
   ]
  },
  {
   "cell_type": "code",
   "execution_count": 68,
   "id": "b1a4ccce",
   "metadata": {},
   "outputs": [
    {
     "data": {
      "text/plain": [
       "'female:hsg'"
      ]
     },
     "execution_count": 68,
     "metadata": {},
     "output_type": "execute_result"
    }
   ],
   "source": [
    "list(model_X_basic_train.columns)[8]"
   ]
  },
  {
   "cell_type": "code",
   "execution_count": 69,
   "id": "691044f7",
   "metadata": {},
   "outputs": [
    {
     "data": {
      "text/plain": [
       "'female:exp2'"
      ]
     },
     "execution_count": 69,
     "metadata": {},
     "output_type": "execute_result"
    }
   ],
   "source": [
    "list(model_X_basic_train.columns)[15]"
   ]
  },
  {
   "cell_type": "code",
   "execution_count": 70,
   "id": "97315687",
   "metadata": {},
   "outputs": [
    {
     "data": {
      "text/plain": [
       "'female:ad'"
      ]
     },
     "execution_count": 70,
     "metadata": {},
     "output_type": "execute_result"
    }
   ],
   "source": [
    "list(model_X_basic_train.columns)[10]"
   ]
  },
  {
   "cell_type": "code",
   "execution_count": 71,
   "id": "183e1665",
   "metadata": {},
   "outputs": [
    {
     "data": {
      "text/plain": [
       "'female:cg'"
      ]
     },
     "execution_count": 71,
     "metadata": {},
     "output_type": "execute_result"
    }
   ],
   "source": [
    "list(model_X_basic_train.columns)[9]"
   ]
  },
  {
   "cell_type": "code",
   "execution_count": 72,
   "id": "5be877ef",
   "metadata": {},
   "outputs": [
    {
     "name": "stdout",
     "output_type": "stream",
     "text": [
      "R^2 using prune tree: 0.10368130932477793\n"
     ]
    }
   ],
   "source": [
    "y_hat_pt = prune_tree_fit.predict(model_X_basic_test)\n",
    "\n",
    "# MSE of prune tree\n",
    "\n",
    "MSE_pt= sm.OLS( ((Y_test.to_numpy().reshape(-1,1) - y_hat_pt.reshape(-1,1))**2 ) , np.ones( y_hat_pt.shape )  ).fit().summary2().tables[1].round(3)\n",
    "\n",
    "# R squared using prune tree\n",
    "\n",
    "R2_pt = 1- MSE_pt.iloc[0,0] / np.var( Y_test )\n",
    "\n",
    "print( f\"R^2 using prune tree: {R2_pt}\")"
   ]
  },
  {
   "cell_type": "markdown",
   "id": "12e1a97b",
   "metadata": {},
   "source": [
    "### Results"
   ]
  },
  {
   "cell_type": "code",
   "execution_count": 73,
   "id": "e089a309",
   "metadata": {},
   "outputs": [
    {
     "name": "stderr",
     "output_type": "stream",
     "text": [
      "C:\\Users\\Alvaro\\AppData\\Local\\Temp/ipykernel_26668/3085057259.py:45: FutureWarning: In future versions `DataFrame.to_latex` is expected to utilise the base implementation of `Styler.to_latex` for formatting and rendering. The arguments signature may therefore change. It is recommended instead to use `DataFrame.style.to_latex` which also contains additional functionality.\n",
      "  table_html = table_pandas.to_latex()\n"
     ]
    },
    {
     "data": {
      "text/html": [
       "<div>\n",
       "<style scoped>\n",
       "    .dataframe tbody tr th:only-of-type {\n",
       "        vertical-align: middle;\n",
       "    }\n",
       "\n",
       "    .dataframe tbody tr th {\n",
       "        vertical-align: top;\n",
       "    }\n",
       "\n",
       "    .dataframe thead th {\n",
       "        text-align: right;\n",
       "    }\n",
       "</style>\n",
       "<table border=\"1\" class=\"dataframe\">\n",
       "  <thead>\n",
       "    <tr style=\"text-align: right;\">\n",
       "      <th></th>\n",
       "      <th>MSE</th>\n",
       "      <th>S_E_ for MSE</th>\n",
       "      <th>R-squared</th>\n",
       "    </tr>\n",
       "  </thead>\n",
       "  <tbody>\n",
       "    <tr>\n",
       "      <th>Least Squares (basic)</th>\n",
       "      <td>0.403</td>\n",
       "      <td>0.022</td>\n",
       "      <td>0.119</td>\n",
       "    </tr>\n",
       "    <tr>\n",
       "      <th>Least Squares (flexible)</th>\n",
       "      <td>0.347</td>\n",
       "      <td>0.022</td>\n",
       "      <td>0.242</td>\n",
       "    </tr>\n",
       "    <tr>\n",
       "      <th>Lasso</th>\n",
       "      <td>0.405</td>\n",
       "      <td>0.022</td>\n",
       "      <td>0.115</td>\n",
       "    </tr>\n",
       "    <tr>\n",
       "      <th>Post-Lasso</th>\n",
       "      <td>0.405</td>\n",
       "      <td>0.022</td>\n",
       "      <td>0.115</td>\n",
       "    </tr>\n",
       "    <tr>\n",
       "      <th>Lasso (flexible)</th>\n",
       "      <td>0.349</td>\n",
       "      <td>0.022</td>\n",
       "      <td>0.115</td>\n",
       "    </tr>\n",
       "    <tr>\n",
       "      <th>Post-Lasso (flexible)</th>\n",
       "      <td>0.350</td>\n",
       "      <td>0.022</td>\n",
       "      <td>0.235</td>\n",
       "    </tr>\n",
       "    <tr>\n",
       "      <th>Cross-Validated lasso</th>\n",
       "      <td>0.403</td>\n",
       "      <td>0.022</td>\n",
       "      <td>0.001</td>\n",
       "    </tr>\n",
       "    <tr>\n",
       "      <th>Cross-Validated ridge</th>\n",
       "      <td>0.457</td>\n",
       "      <td>0.022</td>\n",
       "      <td>0.119</td>\n",
       "    </tr>\n",
       "    <tr>\n",
       "      <th>Cross-Validated elnet</th>\n",
       "      <td>0.404</td>\n",
       "      <td>0.022</td>\n",
       "      <td>0.117</td>\n",
       "    </tr>\n",
       "    <tr>\n",
       "      <th>Cross-Validated lasso (flexible)</th>\n",
       "      <td>0.348</td>\n",
       "      <td>0.022</td>\n",
       "      <td>0.005</td>\n",
       "    </tr>\n",
       "    <tr>\n",
       "      <th>Cross-Validated ridge (flexible)</th>\n",
       "      <td>0.455</td>\n",
       "      <td>0.022</td>\n",
       "      <td>0.239</td>\n",
       "    </tr>\n",
       "    <tr>\n",
       "      <th>Cross-Validated elnet (flexible)</th>\n",
       "      <td>0.348</td>\n",
       "      <td>0.022</td>\n",
       "      <td>0.239</td>\n",
       "    </tr>\n",
       "    <tr>\n",
       "      <th>Unpruned Tree</th>\n",
       "      <td>0.437</td>\n",
       "      <td>0.022</td>\n",
       "      <td>0.045</td>\n",
       "    </tr>\n",
       "    <tr>\n",
       "      <th>Pruned Tree</th>\n",
       "      <td>0.410</td>\n",
       "      <td>0.022</td>\n",
       "      <td>0.104</td>\n",
       "    </tr>\n",
       "  </tbody>\n",
       "</table>\n",
       "</div>"
      ],
      "text/plain": [
       "                                    MSE  S_E_ for MSE  R-squared\n",
       "Least Squares (basic)             0.403         0.022      0.119\n",
       "Least Squares (flexible)          0.347         0.022      0.242\n",
       "Lasso                             0.405         0.022      0.115\n",
       "Post-Lasso                        0.405         0.022      0.115\n",
       "Lasso (flexible)                  0.349         0.022      0.115\n",
       "Post-Lasso (flexible)             0.350         0.022      0.235\n",
       "Cross-Validated lasso             0.403         0.022      0.001\n",
       "Cross-Validated ridge             0.457         0.022      0.119\n",
       "Cross-Validated elnet             0.404         0.022      0.117\n",
       "Cross-Validated lasso (flexible)  0.348         0.022      0.005\n",
       "Cross-Validated ridge (flexible)  0.455         0.022      0.239\n",
       "Cross-Validated elnet (flexible)  0.348         0.022      0.239\n",
       "Unpruned Tree                     0.437         0.022      0.045\n",
       "Pruned Tree                       0.410         0.022      0.104"
      ]
     },
     "execution_count": 73,
     "metadata": {},
     "output_type": "execute_result"
    }
   ],
   "source": [
    "table= np.zeros( (14, 3) )\n",
    "table[0,0:2]   = MSE_lm_basic\n",
    "table[1,0:2]   = MSE_lm_flex\n",
    "table[2,0:2]   = MSE_lasso.iloc[0, [0, 1]]\n",
    "table[3,0:2]   = MSE_lasso_post.iloc[0, [0, 1]]\n",
    "table[4,0:2]   = MSE_lasso_flex.iloc[0, [0, 1]]\n",
    "table[5,0:2]   = MSE_lasso_post_flex.iloc[0, [0, 1]]\n",
    "table[6,0:2]   = MSE_lasso_cv_basic.iloc[0, [0, 1]]\n",
    "table[7,0:2]   = MSE_ridge_basic.iloc[0, [0, 1]]\n",
    "table[8,0:2]   = MSE_elnet_basic.iloc[0, [0, 1]]\n",
    "table[9,0:2]   = MSE_lasso_cv_flex.iloc[0, [0, 1]]\n",
    "table[10,0:2]  = MSE_ridge_flex.iloc[0, [0, 1]]\n",
    "table[11,0:2]  = MSE_elnet_flex.iloc[0, [0, 1]]\n",
    "table[12,0:2]  = MSE_tree.iloc[0, [0, 1]]\n",
    "table[13,0:2]  = MSE_pt.iloc[0, [0, 1]]\n",
    "\n",
    "\n",
    "\n",
    "table[0,2]   = R2_lm_basic\n",
    "table[1,2]   = R2_lm_flex\n",
    "table[2,2]   = R2_lasso\n",
    "table[3,2]   = R2_lasso_post\n",
    "table[4,2]   = R2_lasso_flex\n",
    "table[5,2]   = R2_lasso_post_flex\n",
    "table[6,2]   = R2_lasso_cv_basic\n",
    "table[7,2]   = R2_ridge_basic\n",
    "table[8,2]   = R2_elnet_basic\n",
    "table[9,2]   = R2_lasso_cv_flex\n",
    "table[10,2]  = R2_ridge_flex\n",
    "table[11,2]  = R2_elnet_flex\n",
    "table[12,2]  = R2_tree\n",
    "table[13,2]  = R2_pt\n",
    "\n",
    "\n",
    "\n",
    "\n",
    "colnames_table= [\"MSE\", \"S_E_ for MSE\", \"R-squared\"]\n",
    "rownames_table= [\"Least Squares (basic)\",\"Least Squares (flexible)\", \"Lasso\", \"Post-Lasso\",\"Lasso (flexible)\",\"Post-Lasso (flexible)\", \\\n",
    "                    \"Cross-Validated lasso\", \"Cross-Validated ridge\",\"Cross-Validated elnet\",\"Cross-Validated lasso (flexible)\",\"Cross-Validated ridge (flexible)\",\"Cross-Validated elnet (flexible)\"\n",
    "                    ,\"Unpruned Tree\", \"Pruned Tree\"]\n",
    "table_pandas = pd.DataFrame( table, columns = colnames_table )\n",
    "table_pandas.index = rownames_table\n",
    "\n",
    "table_pandas = table_pandas.round(3)\n",
    "table_html = table_pandas.to_latex()\n",
    "table_pandas"
   ]
  },
  {
   "cell_type": "code",
   "execution_count": 74,
   "id": "718b434a",
   "metadata": {},
   "outputs": [
    {
     "data": {
      "text/plain": [
       "Least Squares (flexible)            0.347\n",
       "Cross-Validated lasso (flexible)    0.348\n",
       "Cross-Validated elnet (flexible)    0.348\n",
       "Lasso (flexible)                    0.349\n",
       "Post-Lasso (flexible)               0.350\n",
       "Least Squares (basic)               0.403\n",
       "Cross-Validated lasso               0.403\n",
       "Cross-Validated elnet               0.404\n",
       "Lasso                               0.405\n",
       "Post-Lasso                          0.405\n",
       "Pruned Tree                         0.410\n",
       "Unpruned Tree                       0.437\n",
       "Cross-Validated ridge (flexible)    0.455\n",
       "Cross-Validated ridge               0.457\n",
       "Name: MSE, dtype: float64"
      ]
     },
     "execution_count": 74,
     "metadata": {},
     "output_type": "execute_result"
    }
   ],
   "source": [
    "table_pandas.MSE.sort_values(ascending=True)"
   ]
  },
  {
   "cell_type": "markdown",
   "id": "da69ff49",
   "metadata": {},
   "source": [
    "### Conclusions:\n",
    "The methods with the lowest MSE are Cross Validated Elastic Net and the Cross Validated lasso. Both using the Flexible Model and their MSE = 0.316.\n",
    "The second best methods are OLS (flexible), Lasso (flexible) and Post-Lasso (flexible). These 3 methods have a MSE = 0.317."
   ]
  },
  {
   "cell_type": "markdown",
   "id": "4b956ba2",
   "metadata": {},
   "source": [
    "# Tree Regression \n",
    "\n",
    "Usually, to make regressions we assume a linear relation between variables. In the case where clusters might be found in the data, a linear regression is not the best way to estimate a prediction model. The best way is to use a Tree regression since it captures non-linear relations between the Y and the X regressors. For instance, a regression tree allows us to make a prediction using continuous or categorical variables. However, a regression tree always tries to predict a continuous value. \n",
    "The main concept of regression tree (also classifier tree) is to split the data in a binary criterion until it reaches pure leaf. Finally, each leaf represents a relevant cluster in our dataset. This allows to predict a in which group a new observation in the data corresponds by following the conditions node by node. \n",
    "\n",
    "The first step consists in determine under which value we split the first node. Therefore, we need to find the best splitting condition. For this step the computer tests each possible value to split the data and propose a set of candidates. In a scenario with multiple covariates, the algorithm evaluates each covariate one at time, and for each covariate estimates the proper split value by choosing the one with lowest sum squared errors. The variable that goes in the first node is the one with the lowest sum squared errors. This process repeats for each node. \n",
    "\n",
    "This step repeats for each possible split. However, the number of final leaves will depend on if it is needed to do an extra split in each leaf. This process can result in an overfitting of the data and the model can´t be generalize. To solve this, we have to prune the tree by setting penalization parameters on the impurities of the leaf.\n",
    "\n",
    "First, we have to determine the optimal complexity of the tree. To do this we set the algorithm to prune or “cut” the leaf with a relatively small alpha. The smallest alphas are pruned first. We set an algorithm that returns the effective alphas and the corresponding total leaf impurities at each step of the pruning process. Larger alphas mean more of the tree is pruned, which increases the total impurity of its leaves.\n",
    "\n",
    "Next, we make a cross validation process for al the alphas proposed and calculate the accuracy mean for each alpha. The optimal alpha for our tree would be the one with the lowest mean accuracy rate. \n",
    "\n",
    "Finally. We set that value of alpha in the DecisionTreeRegressor function in Python to get our optimal depth and number of leaves. \n",
    "\n"
   ]
  }
 ],
 "metadata": {
  "kernelspec": {
   "display_name": "Python 3 (ipykernel)",
   "language": "python",
   "name": "python3"
  },
  "language_info": {
   "codemirror_mode": {
    "name": "ipython",
    "version": 3
   },
   "file_extension": ".py",
   "mimetype": "text/x-python",
   "name": "python",
   "nbconvert_exporter": "python",
   "pygments_lexer": "ipython3",
   "version": "3.9.7"
  }
 },
 "nbformat": 4,
 "nbformat_minor": 5
}
