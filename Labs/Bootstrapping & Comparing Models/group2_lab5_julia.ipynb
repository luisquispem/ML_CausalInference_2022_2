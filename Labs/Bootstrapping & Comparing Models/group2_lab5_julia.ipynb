{
 "cells": [
  {
   "cell_type": "markdown",
   "id": "4733c574",
   "metadata": {},
   "source": [
    "# 1.Bootstrapping"
   ]
  },
  {
   "cell_type": "code",
   "execution_count": 1,
   "id": "ebbc5374",
   "metadata": {},
   "outputs": [],
   "source": [
    "#import Pkg; Pkg.add(\"DataStructures\")"
   ]
  },
  {
   "cell_type": "code",
   "execution_count": 2,
   "id": "2fcb3cc7",
   "metadata": {},
   "outputs": [],
   "source": [
    "using RData, LinearAlgebra, GLM, DataFrames, Statistics, Random, Distributions, \n",
    "DataStructures, NamedArrays, PrettyTables, StatsModels, Combinatorics, CSV, DelimitedFiles"
   ]
  },
  {
   "cell_type": "code",
   "execution_count": 3,
   "id": "9c6f6125",
   "metadata": {},
   "outputs": [
    {
     "data": {
      "text/plain": [
       "([10824.0 0.0 … 1.0 0.0; 10635.0 2.0 … 0.0 0.0; … ; 10691.0 0.0 … 0.0 0.0; 10677.0 5.0 … 1.0 0.0], AbstractString[\"abdt\" \"tg\" … \"husd\" \"muld\"])"
      ]
     },
     "execution_count": 3,
     "metadata": {},
     "output_type": "execute_result"
    }
   ],
   "source": [
    "mat, head = readdlm(\"../../data/penn_jae.dat\",header=true)"
   ]
  },
  {
   "cell_type": "code",
   "execution_count": 4,
   "id": "f5dac9e4",
   "metadata": {},
   "outputs": [
    {
     "data": {
      "text/html": [
       "<table class=\"data-frame\"><thead><tr><th></th><th>abdt</th><th>tg</th><th>inuidur1</th><th>inuidur2</th><th>female</th><th>black</th><th>hispanic</th><th>othrace</th><th>dep</th></tr><tr><th></th><th>Float64</th><th>Float64</th><th>Float64</th><th>Float64</th><th>Float64</th><th>Float64</th><th>Float64</th><th>Float64</th><th>Float64</th></tr></thead><tbody><p>13,913 rows × 23 columns (omitted printing of 14 columns)</p><tr><th>1</th><td>10824.0</td><td>0.0</td><td>18.0</td><td>18.0</td><td>0.0</td><td>0.0</td><td>0.0</td><td>0.0</td><td>2.0</td></tr><tr><th>2</th><td>10635.0</td><td>2.0</td><td>7.0</td><td>3.0</td><td>0.0</td><td>0.0</td><td>0.0</td><td>0.0</td><td>0.0</td></tr><tr><th>3</th><td>10551.0</td><td>5.0</td><td>18.0</td><td>6.0</td><td>1.0</td><td>0.0</td><td>0.0</td><td>0.0</td><td>0.0</td></tr><tr><th>4</th><td>10824.0</td><td>0.0</td><td>1.0</td><td>1.0</td><td>0.0</td><td>0.0</td><td>0.0</td><td>0.0</td><td>0.0</td></tr><tr><th>5</th><td>10747.0</td><td>0.0</td><td>27.0</td><td>27.0</td><td>0.0</td><td>0.0</td><td>0.0</td><td>0.0</td><td>0.0</td></tr><tr><th>6</th><td>10544.0</td><td>6.0</td><td>7.0</td><td>7.0</td><td>0.0</td><td>0.0</td><td>0.0</td><td>0.0</td><td>0.0</td></tr><tr><th>7</th><td>10845.0</td><td>1.0</td><td>1.0</td><td>1.0</td><td>0.0</td><td>0.0</td><td>0.0</td><td>0.0</td><td>0.0</td></tr><tr><th>8</th><td>10670.0</td><td>3.0</td><td>3.0</td><td>3.0</td><td>1.0</td><td>0.0</td><td>0.0</td><td>0.0</td><td>2.0</td></tr><tr><th>9</th><td>10768.0</td><td>3.0</td><td>28.0</td><td>11.0</td><td>1.0</td><td>0.0</td><td>0.0</td><td>0.0</td><td>0.0</td></tr><tr><th>10</th><td>10754.0</td><td>2.0</td><td>20.0</td><td>20.0</td><td>1.0</td><td>0.0</td><td>0.0</td><td>0.0</td><td>0.0</td></tr><tr><th>11</th><td>10712.0</td><td>3.0</td><td>6.0</td><td>6.0</td><td>0.0</td><td>0.0</td><td>0.0</td><td>0.0</td><td>2.0</td></tr><tr><th>12</th><td>10607.0</td><td>4.0</td><td>9.0</td><td>9.0</td><td>0.0</td><td>0.0</td><td>0.0</td><td>0.0</td><td>0.0</td></tr><tr><th>13</th><td>10831.0</td><td>0.0</td><td>27.0</td><td>27.0</td><td>0.0</td><td>0.0</td><td>0.0</td><td>0.0</td><td>1.0</td></tr><tr><th>14</th><td>10845.0</td><td>0.0</td><td>27.0</td><td>27.0</td><td>1.0</td><td>0.0</td><td>0.0</td><td>0.0</td><td>0.0</td></tr><tr><th>15</th><td>10831.0</td><td>0.0</td><td>9.0</td><td>9.0</td><td>1.0</td><td>0.0</td><td>0.0</td><td>0.0</td><td>1.0</td></tr><tr><th>16</th><td>10551.0</td><td>3.0</td><td>27.0</td><td>27.0</td><td>1.0</td><td>0.0</td><td>0.0</td><td>0.0</td><td>0.0</td></tr><tr><th>17</th><td>10859.0</td><td>0.0</td><td>27.0</td><td>27.0</td><td>1.0</td><td>0.0</td><td>0.0</td><td>0.0</td><td>1.0</td></tr><tr><th>18</th><td>10740.0</td><td>1.0</td><td>15.0</td><td>15.0</td><td>1.0</td><td>0.0</td><td>0.0</td><td>0.0</td><td>2.0</td></tr><tr><th>19</th><td>10537.0</td><td>1.0</td><td>1.0</td><td>1.0</td><td>0.0</td><td>1.0</td><td>0.0</td><td>0.0</td><td>0.0</td></tr><tr><th>20</th><td>10663.0</td><td>6.0</td><td>26.0</td><td>26.0</td><td>1.0</td><td>0.0</td><td>0.0</td><td>0.0</td><td>0.0</td></tr><tr><th>21</th><td>10656.0</td><td>5.0</td><td>30.0</td><td>9.0</td><td>0.0</td><td>0.0</td><td>0.0</td><td>0.0</td><td>1.0</td></tr><tr><th>22</th><td>10628.0</td><td>2.0</td><td>27.0</td><td>27.0</td><td>0.0</td><td>0.0</td><td>0.0</td><td>0.0</td><td>0.0</td></tr><tr><th>23</th><td>10516.0</td><td>0.0</td><td>15.0</td><td>15.0</td><td>1.0</td><td>0.0</td><td>0.0</td><td>0.0</td><td>0.0</td></tr><tr><th>24</th><td>10803.0</td><td>2.0</td><td>3.0</td><td>3.0</td><td>1.0</td><td>0.0</td><td>0.0</td><td>0.0</td><td>0.0</td></tr><tr><th>25</th><td>10663.0</td><td>0.0</td><td>28.0</td><td>11.0</td><td>1.0</td><td>0.0</td><td>0.0</td><td>0.0</td><td>0.0</td></tr><tr><th>26</th><td>10747.0</td><td>0.0</td><td>12.0</td><td>12.0</td><td>1.0</td><td>0.0</td><td>0.0</td><td>0.0</td><td>2.0</td></tr><tr><th>27</th><td>10551.0</td><td>4.0</td><td>22.0</td><td>22.0</td><td>1.0</td><td>0.0</td><td>1.0</td><td>0.0</td><td>2.0</td></tr><tr><th>28</th><td>10635.0</td><td>2.0</td><td>17.0</td><td>10.0</td><td>1.0</td><td>0.0</td><td>0.0</td><td>0.0</td><td>0.0</td></tr><tr><th>29</th><td>10761.0</td><td>2.0</td><td>13.0</td><td>13.0</td><td>0.0</td><td>0.0</td><td>0.0</td><td>0.0</td><td>0.0</td></tr><tr><th>30</th><td>10586.0</td><td>1.0</td><td>8.0</td><td>8.0</td><td>1.0</td><td>0.0</td><td>0.0</td><td>0.0</td><td>1.0</td></tr><tr><th>&vellip;</th><td>&vellip;</td><td>&vellip;</td><td>&vellip;</td><td>&vellip;</td><td>&vellip;</td><td>&vellip;</td><td>&vellip;</td><td>&vellip;</td><td>&vellip;</td></tr></tbody></table>"
      ],
      "text/latex": [
       "\\begin{tabular}{r|cccccccccc}\n",
       "\t& abdt & tg & inuidur1 & inuidur2 & female & black & hispanic & othrace & dep & \\\\\n",
       "\t\\hline\n",
       "\t& Float64 & Float64 & Float64 & Float64 & Float64 & Float64 & Float64 & Float64 & Float64 & \\\\\n",
       "\t\\hline\n",
       "\t1 & 10824.0 & 0.0 & 18.0 & 18.0 & 0.0 & 0.0 & 0.0 & 0.0 & 2.0 & $\\dots$ \\\\\n",
       "\t2 & 10635.0 & 2.0 & 7.0 & 3.0 & 0.0 & 0.0 & 0.0 & 0.0 & 0.0 & $\\dots$ \\\\\n",
       "\t3 & 10551.0 & 5.0 & 18.0 & 6.0 & 1.0 & 0.0 & 0.0 & 0.0 & 0.0 & $\\dots$ \\\\\n",
       "\t4 & 10824.0 & 0.0 & 1.0 & 1.0 & 0.0 & 0.0 & 0.0 & 0.0 & 0.0 & $\\dots$ \\\\\n",
       "\t5 & 10747.0 & 0.0 & 27.0 & 27.0 & 0.0 & 0.0 & 0.0 & 0.0 & 0.0 & $\\dots$ \\\\\n",
       "\t6 & 10544.0 & 6.0 & 7.0 & 7.0 & 0.0 & 0.0 & 0.0 & 0.0 & 0.0 & $\\dots$ \\\\\n",
       "\t7 & 10845.0 & 1.0 & 1.0 & 1.0 & 0.0 & 0.0 & 0.0 & 0.0 & 0.0 & $\\dots$ \\\\\n",
       "\t8 & 10670.0 & 3.0 & 3.0 & 3.0 & 1.0 & 0.0 & 0.0 & 0.0 & 2.0 & $\\dots$ \\\\\n",
       "\t9 & 10768.0 & 3.0 & 28.0 & 11.0 & 1.0 & 0.0 & 0.0 & 0.0 & 0.0 & $\\dots$ \\\\\n",
       "\t10 & 10754.0 & 2.0 & 20.0 & 20.0 & 1.0 & 0.0 & 0.0 & 0.0 & 0.0 & $\\dots$ \\\\\n",
       "\t11 & 10712.0 & 3.0 & 6.0 & 6.0 & 0.0 & 0.0 & 0.0 & 0.0 & 2.0 & $\\dots$ \\\\\n",
       "\t12 & 10607.0 & 4.0 & 9.0 & 9.0 & 0.0 & 0.0 & 0.0 & 0.0 & 0.0 & $\\dots$ \\\\\n",
       "\t13 & 10831.0 & 0.0 & 27.0 & 27.0 & 0.0 & 0.0 & 0.0 & 0.0 & 1.0 & $\\dots$ \\\\\n",
       "\t14 & 10845.0 & 0.0 & 27.0 & 27.0 & 1.0 & 0.0 & 0.0 & 0.0 & 0.0 & $\\dots$ \\\\\n",
       "\t15 & 10831.0 & 0.0 & 9.0 & 9.0 & 1.0 & 0.0 & 0.0 & 0.0 & 1.0 & $\\dots$ \\\\\n",
       "\t16 & 10551.0 & 3.0 & 27.0 & 27.0 & 1.0 & 0.0 & 0.0 & 0.0 & 0.0 & $\\dots$ \\\\\n",
       "\t17 & 10859.0 & 0.0 & 27.0 & 27.0 & 1.0 & 0.0 & 0.0 & 0.0 & 1.0 & $\\dots$ \\\\\n",
       "\t18 & 10740.0 & 1.0 & 15.0 & 15.0 & 1.0 & 0.0 & 0.0 & 0.0 & 2.0 & $\\dots$ \\\\\n",
       "\t19 & 10537.0 & 1.0 & 1.0 & 1.0 & 0.0 & 1.0 & 0.0 & 0.0 & 0.0 & $\\dots$ \\\\\n",
       "\t20 & 10663.0 & 6.0 & 26.0 & 26.0 & 1.0 & 0.0 & 0.0 & 0.0 & 0.0 & $\\dots$ \\\\\n",
       "\t21 & 10656.0 & 5.0 & 30.0 & 9.0 & 0.0 & 0.0 & 0.0 & 0.0 & 1.0 & $\\dots$ \\\\\n",
       "\t22 & 10628.0 & 2.0 & 27.0 & 27.0 & 0.0 & 0.0 & 0.0 & 0.0 & 0.0 & $\\dots$ \\\\\n",
       "\t23 & 10516.0 & 0.0 & 15.0 & 15.0 & 1.0 & 0.0 & 0.0 & 0.0 & 0.0 & $\\dots$ \\\\\n",
       "\t24 & 10803.0 & 2.0 & 3.0 & 3.0 & 1.0 & 0.0 & 0.0 & 0.0 & 0.0 & $\\dots$ \\\\\n",
       "\t25 & 10663.0 & 0.0 & 28.0 & 11.0 & 1.0 & 0.0 & 0.0 & 0.0 & 0.0 & $\\dots$ \\\\\n",
       "\t26 & 10747.0 & 0.0 & 12.0 & 12.0 & 1.0 & 0.0 & 0.0 & 0.0 & 2.0 & $\\dots$ \\\\\n",
       "\t27 & 10551.0 & 4.0 & 22.0 & 22.0 & 1.0 & 0.0 & 1.0 & 0.0 & 2.0 & $\\dots$ \\\\\n",
       "\t28 & 10635.0 & 2.0 & 17.0 & 10.0 & 1.0 & 0.0 & 0.0 & 0.0 & 0.0 & $\\dots$ \\\\\n",
       "\t29 & 10761.0 & 2.0 & 13.0 & 13.0 & 0.0 & 0.0 & 0.0 & 0.0 & 0.0 & $\\dots$ \\\\\n",
       "\t30 & 10586.0 & 1.0 & 8.0 & 8.0 & 1.0 & 0.0 & 0.0 & 0.0 & 1.0 & $\\dots$ \\\\\n",
       "\t$\\dots$ & $\\dots$ & $\\dots$ & $\\dots$ & $\\dots$ & $\\dots$ & $\\dots$ & $\\dots$ & $\\dots$ & $\\dots$ &  \\\\\n",
       "\\end{tabular}\n"
      ],
      "text/plain": [
       "\u001b[1m13913×23 DataFrame\u001b[0m\n",
       "\u001b[1m   Row \u001b[0m│\u001b[1m abdt    \u001b[0m\u001b[1m tg      \u001b[0m\u001b[1m inuidur1 \u001b[0m\u001b[1m inuidur2 \u001b[0m\u001b[1m female  \u001b[0m\u001b[1m black   \u001b[0m\u001b[1m hispanic \u001b[0m\u001b[1m oth\u001b[0m ⋯\n",
       "\u001b[1m       \u001b[0m│\u001b[90m Float64 \u001b[0m\u001b[90m Float64 \u001b[0m\u001b[90m Float64  \u001b[0m\u001b[90m Float64  \u001b[0m\u001b[90m Float64 \u001b[0m\u001b[90m Float64 \u001b[0m\u001b[90m Float64  \u001b[0m\u001b[90m Flo\u001b[0m ⋯\n",
       "───────┼────────────────────────────────────────────────────────────────────────\n",
       "     1 │ 10824.0      0.0      18.0      18.0      0.0      0.0       0.0      ⋯\n",
       "     2 │ 10635.0      2.0       7.0       3.0      0.0      0.0       0.0\n",
       "     3 │ 10551.0      5.0      18.0       6.0      1.0      0.0       0.0\n",
       "     4 │ 10824.0      0.0       1.0       1.0      0.0      0.0       0.0\n",
       "     5 │ 10747.0      0.0      27.0      27.0      0.0      0.0       0.0      ⋯\n",
       "     6 │ 10544.0      6.0       7.0       7.0      0.0      0.0       0.0\n",
       "     7 │ 10845.0      1.0       1.0       1.0      0.0      0.0       0.0\n",
       "     8 │ 10670.0      3.0       3.0       3.0      1.0      0.0       0.0\n",
       "     9 │ 10768.0      3.0      28.0      11.0      1.0      0.0       0.0      ⋯\n",
       "    10 │ 10754.0      2.0      20.0      20.0      1.0      0.0       0.0\n",
       "    11 │ 10712.0      3.0       6.0       6.0      0.0      0.0       0.0\n",
       "   ⋮   │    ⋮        ⋮        ⋮         ⋮         ⋮        ⋮        ⋮          ⋱\n",
       " 13904 │ 10747.0      3.0      15.0      15.0      1.0      0.0       1.0\n",
       " 13905 │ 10628.0      4.0      10.0      10.0      0.0      0.0       1.0      ⋯\n",
       " 13906 │ 10523.0      4.0       4.0       4.0      0.0      0.0       1.0\n",
       " 13907 │ 10558.0      0.0       9.0       9.0      0.0      0.0       0.0\n",
       " 13908 │ 10621.0      1.0       1.0       1.0      0.0      0.0       0.0\n",
       " 13909 │ 10831.0      5.0      27.0      27.0      0.0      0.0       0.0      ⋯\n",
       " 13910 │ 10677.0      2.0       4.0       4.0      1.0      0.0       0.0\n",
       " 13911 │ 10817.0      4.0       4.0       4.0      0.0      0.0       0.0\n",
       " 13912 │ 10691.0      0.0      27.0      27.0      0.0      0.0       0.0\n",
       " 13913 │ 10677.0      5.0      25.0      25.0      0.0      0.0       0.0      ⋯\n",
       "\u001b[36m                                               16 columns and 13892 rows omitted\u001b[0m"
      ]
     },
     "execution_count": 4,
     "metadata": {},
     "output_type": "execute_result"
    }
   ],
   "source": [
    "Penn = DataFrame(mat, vec(head))"
   ]
  },
  {
   "cell_type": "code",
   "execution_count": 5,
   "id": "0a3c8883",
   "metadata": {},
   "outputs": [
    {
     "data": {
      "text/html": [
       "<table class=\"data-frame\"><thead><tr><th></th><th>variable</th><th>mean</th><th>min</th><th>median</th><th>max</th><th>nmissing</th><th>eltype</th></tr><tr><th></th><th>Symbol</th><th>Union…</th><th>Any</th><th>Union…</th><th>Any</th><th>Int64</th><th>DataType</th></tr></thead><tbody><p>23 rows × 7 columns</p><tr><th>1</th><td>abdt</td><td>10695.4</td><td>10404.0</td><td>10698.0</td><td>10880.0</td><td>0</td><td>Float64</td></tr><tr><th>2</th><td>T4</td><td>0.342224</td><td>0.0</td><td>0.0</td><td>1.0</td><td>0</td><td>Float64</td></tr><tr><th>3</th><td>inuidur1</td><td>13.053</td><td>1.0</td><td>11.0</td><td>52.0</td><td>0</td><td>Float64</td></tr><tr><th>4</th><td>inuidur2</td><td>12.2812</td><td>0.0</td><td>10.0</td><td>52.0</td><td>0</td><td>Float64</td></tr><tr><th>5</th><td>female</td><td>0.404001</td><td>0.0</td><td>0.0</td><td>1.0</td><td>0</td><td>Float64</td></tr><tr><th>6</th><td>black</td><td>0.121985</td><td>0.0</td><td>0.0</td><td>1.0</td><td>0</td><td>Float64</td></tr><tr><th>7</th><td>hispanic</td><td>0.0325554</td><td>0.0</td><td>0.0</td><td>1.0</td><td>0</td><td>Float64</td></tr><tr><th>8</th><td>othrace</td><td>0.00725632</td><td>0.0</td><td>0.0</td><td>1.0</td><td>0</td><td>Float64</td></tr><tr><th>9</th><td>dep</td><td></td><td>0.0</td><td></td><td>2.0</td><td>0</td><td>CategoricalValue{Float64, UInt32}</td></tr><tr><th>10</th><td>q1</td><td>0.0127476</td><td>0.0</td><td>0.0</td><td>1.0</td><td>0</td><td>Float64</td></tr><tr><th>11</th><td>q2</td><td>0.203765</td><td>0.0</td><td>0.0</td><td>1.0</td><td>0</td><td>Float64</td></tr><tr><th>12</th><td>q3</td><td>0.235536</td><td>0.0</td><td>0.0</td><td>1.0</td><td>0</td><td>Float64</td></tr><tr><th>13</th><td>q4</td><td>0.225927</td><td>0.0</td><td>0.0</td><td>1.0</td><td>0</td><td>Float64</td></tr><tr><th>14</th><td>q5</td><td>0.25907</td><td>0.0</td><td>0.0</td><td>1.0</td><td>0</td><td>Float64</td></tr><tr><th>15</th><td>q6</td><td>0.0629535</td><td>0.0</td><td>0.0</td><td>1.0</td><td>0</td><td>Float64</td></tr><tr><th>16</th><td>recall</td><td>0.110414</td><td>0.0</td><td>0.0</td><td>1.0</td><td>0</td><td>Float64</td></tr><tr><th>17</th><td>agelt35</td><td>0.545009</td><td>0.0</td><td>1.0</td><td>1.0</td><td>0</td><td>Float64</td></tr><tr><th>18</th><td>agegt54</td><td>0.109433</td><td>0.0</td><td>0.0</td><td>1.0</td><td>0</td><td>Float64</td></tr><tr><th>19</th><td>durable</td><td>0.148068</td><td>0.0</td><td>0.0</td><td>1.0</td><td>0</td><td>Float64</td></tr><tr><th>20</th><td>nondurable</td><td>0.109237</td><td>0.0</td><td>0.0</td><td>1.0</td><td>0</td><td>Float64</td></tr><tr><th>21</th><td>lusd</td><td>0.261032</td><td>0.0</td><td>0.0</td><td>1.0</td><td>0</td><td>Float64</td></tr><tr><th>22</th><td>husd</td><td>0.21867</td><td>0.0</td><td>0.0</td><td>1.0</td><td>0</td><td>Float64</td></tr><tr><th>23</th><td>muld</td><td>0.444205</td><td>0.0</td><td>0.0</td><td>1.0</td><td>0</td><td>Float64</td></tr></tbody></table>"
      ],
      "text/latex": [
       "\\begin{tabular}{r|ccccccc}\n",
       "\t& variable & mean & min & median & max & nmissing & eltype\\\\\n",
       "\t\\hline\n",
       "\t& Symbol & Union… & Any & Union… & Any & Int64 & DataType\\\\\n",
       "\t\\hline\n",
       "\t1 & abdt & 10695.4 & 10404.0 & 10698.0 & 10880.0 & 0 & Float64 \\\\\n",
       "\t2 & T4 & 0.342224 & 0.0 & 0.0 & 1.0 & 0 & Float64 \\\\\n",
       "\t3 & inuidur1 & 13.053 & 1.0 & 11.0 & 52.0 & 0 & Float64 \\\\\n",
       "\t4 & inuidur2 & 12.2812 & 0.0 & 10.0 & 52.0 & 0 & Float64 \\\\\n",
       "\t5 & female & 0.404001 & 0.0 & 0.0 & 1.0 & 0 & Float64 \\\\\n",
       "\t6 & black & 0.121985 & 0.0 & 0.0 & 1.0 & 0 & Float64 \\\\\n",
       "\t7 & hispanic & 0.0325554 & 0.0 & 0.0 & 1.0 & 0 & Float64 \\\\\n",
       "\t8 & othrace & 0.00725632 & 0.0 & 0.0 & 1.0 & 0 & Float64 \\\\\n",
       "\t9 & dep &  & 0.0 &  & 2.0 & 0 & CategoricalValue\\{Float64, UInt32\\} \\\\\n",
       "\t10 & q1 & 0.0127476 & 0.0 & 0.0 & 1.0 & 0 & Float64 \\\\\n",
       "\t11 & q2 & 0.203765 & 0.0 & 0.0 & 1.0 & 0 & Float64 \\\\\n",
       "\t12 & q3 & 0.235536 & 0.0 & 0.0 & 1.0 & 0 & Float64 \\\\\n",
       "\t13 & q4 & 0.225927 & 0.0 & 0.0 & 1.0 & 0 & Float64 \\\\\n",
       "\t14 & q5 & 0.25907 & 0.0 & 0.0 & 1.0 & 0 & Float64 \\\\\n",
       "\t15 & q6 & 0.0629535 & 0.0 & 0.0 & 1.0 & 0 & Float64 \\\\\n",
       "\t16 & recall & 0.110414 & 0.0 & 0.0 & 1.0 & 0 & Float64 \\\\\n",
       "\t17 & agelt35 & 0.545009 & 0.0 & 1.0 & 1.0 & 0 & Float64 \\\\\n",
       "\t18 & agegt54 & 0.109433 & 0.0 & 0.0 & 1.0 & 0 & Float64 \\\\\n",
       "\t19 & durable & 0.148068 & 0.0 & 0.0 & 1.0 & 0 & Float64 \\\\\n",
       "\t20 & nondurable & 0.109237 & 0.0 & 0.0 & 1.0 & 0 & Float64 \\\\\n",
       "\t21 & lusd & 0.261032 & 0.0 & 0.0 & 1.0 & 0 & Float64 \\\\\n",
       "\t22 & husd & 0.21867 & 0.0 & 0.0 & 1.0 & 0 & Float64 \\\\\n",
       "\t23 & muld & 0.444205 & 0.0 & 0.0 & 1.0 & 0 & Float64 \\\\\n",
       "\\end{tabular}\n"
      ],
      "text/plain": [
       "\u001b[1m23×7 DataFrame\u001b[0m\n",
       "\u001b[1m Row \u001b[0m│\u001b[1m variable   \u001b[0m\u001b[1m mean       \u001b[0m\u001b[1m min     \u001b[0m\u001b[1m median  \u001b[0m\u001b[1m max     \u001b[0m\u001b[1m nmissing \u001b[0m\u001b[1m eltype    \u001b[0m ⋯\n",
       "\u001b[1m     \u001b[0m│\u001b[90m Symbol     \u001b[0m\u001b[90m Union…     \u001b[0m\u001b[90m Any     \u001b[0m\u001b[90m Union…  \u001b[0m\u001b[90m Any     \u001b[0m\u001b[90m Int64    \u001b[0m\u001b[90m DataType  \u001b[0m ⋯\n",
       "─────┼──────────────────────────────────────────────────────────────────────────\n",
       "   1 │ abdt        10695.4     10404.0  10698.0  10880.0         0  Float64    ⋯\n",
       "   2 │ T4          0.342224    0.0      0.0      1.0             0  Float64\n",
       "   3 │ inuidur1    13.053      1.0      11.0     52.0            0  Float64\n",
       "   4 │ inuidur2    12.2812     0.0      10.0     52.0            0  Float64\n",
       "   5 │ female      0.404001    0.0      0.0      1.0             0  Float64    ⋯\n",
       "   6 │ black       0.121985    0.0      0.0      1.0             0  Float64\n",
       "   7 │ hispanic    0.0325554   0.0      0.0      1.0             0  Float64\n",
       "   8 │ othrace     0.00725632  0.0      0.0      1.0             0  Float64\n",
       "   9 │ dep        \u001b[90m            \u001b[0m 0.0     \u001b[90m         \u001b[0m 2.0             0  Categorica ⋯\n",
       "  10 │ q1          0.0127476   0.0      0.0      1.0             0  Float64\n",
       "  11 │ q2          0.203765    0.0      0.0      1.0             0  Float64\n",
       "  ⋮  │     ⋮           ⋮          ⋮        ⋮        ⋮        ⋮                 ⋱\n",
       "  14 │ q5          0.25907     0.0      0.0      1.0             0  Float64\n",
       "  15 │ q6          0.0629535   0.0      0.0      1.0             0  Float64    ⋯\n",
       "  16 │ recall      0.110414    0.0      0.0      1.0             0  Float64\n",
       "  17 │ agelt35     0.545009    0.0      1.0      1.0             0  Float64\n",
       "  18 │ agegt54     0.109433    0.0      0.0      1.0             0  Float64\n",
       "  19 │ durable     0.148068    0.0      0.0      1.0             0  Float64    ⋯\n",
       "  20 │ nondurable  0.109237    0.0      0.0      1.0             0  Float64\n",
       "  21 │ lusd        0.261032    0.0      0.0      1.0             0  Float64\n",
       "  22 │ husd        0.21867     0.0      0.0      1.0             0  Float64\n",
       "  23 │ muld        0.444205    0.0      0.0      1.0             0  Float64    ⋯\n",
       "\u001b[36m                                                     1 column and 2 rows omitted\u001b[0m"
      ]
     },
     "execution_count": 5,
     "metadata": {},
     "output_type": "execute_result"
    }
   ],
   "source": [
    "# Filter control group and just treatment group number 4\n",
    "\n",
    "Penn = filter(row -> row[:tg] in [4,0], Penn)\n",
    "replace!(Penn.tg, 4 => 1)\n",
    "rename!(Penn, \"tg\" => \"T4\")\n",
    "Penn[!,:dep] = categorical(Penn[!,:dep])\n",
    "describe(Penn)"
   ]
  },
  {
   "cell_type": "code",
   "execution_count": 6,
   "id": "c909f7e4",
   "metadata": {},
   "outputs": [
    {
     "data": {
      "text/html": [
       "<table class=\"data-frame\"><thead><tr><th></th><th>abdt</th><th>T4</th><th>inuidur1</th><th>inuidur2</th><th>female</th><th>black</th><th>hispanic</th><th>othrace</th><th>dep</th></tr><tr><th></th><th>Float64</th><th>Float64</th><th>Float64</th><th>Float64</th><th>Float64</th><th>Float64</th><th>Float64</th><th>Float64</th><th>Cat…</th></tr></thead><tbody><p>5,099 rows × 23 columns (omitted printing of 14 columns)</p><tr><th>1</th><td>10824.0</td><td>0.0</td><td>18.0</td><td>18.0</td><td>0.0</td><td>0.0</td><td>0.0</td><td>0.0</td><td>2.0</td></tr><tr><th>2</th><td>10824.0</td><td>0.0</td><td>1.0</td><td>1.0</td><td>0.0</td><td>0.0</td><td>0.0</td><td>0.0</td><td>0.0</td></tr><tr><th>3</th><td>10747.0</td><td>0.0</td><td>27.0</td><td>27.0</td><td>0.0</td><td>0.0</td><td>0.0</td><td>0.0</td><td>0.0</td></tr><tr><th>4</th><td>10607.0</td><td>1.0</td><td>9.0</td><td>9.0</td><td>0.0</td><td>0.0</td><td>0.0</td><td>0.0</td><td>0.0</td></tr><tr><th>5</th><td>10831.0</td><td>0.0</td><td>27.0</td><td>27.0</td><td>0.0</td><td>0.0</td><td>0.0</td><td>0.0</td><td>1.0</td></tr><tr><th>6</th><td>10845.0</td><td>0.0</td><td>27.0</td><td>27.0</td><td>1.0</td><td>0.0</td><td>0.0</td><td>0.0</td><td>0.0</td></tr><tr><th>7</th><td>10831.0</td><td>0.0</td><td>9.0</td><td>9.0</td><td>1.0</td><td>0.0</td><td>0.0</td><td>0.0</td><td>1.0</td></tr><tr><th>8</th><td>10859.0</td><td>0.0</td><td>27.0</td><td>27.0</td><td>1.0</td><td>0.0</td><td>0.0</td><td>0.0</td><td>1.0</td></tr><tr><th>9</th><td>10516.0</td><td>0.0</td><td>15.0</td><td>15.0</td><td>1.0</td><td>0.0</td><td>0.0</td><td>0.0</td><td>0.0</td></tr><tr><th>10</th><td>10663.0</td><td>0.0</td><td>28.0</td><td>11.0</td><td>1.0</td><td>0.0</td><td>0.0</td><td>0.0</td><td>0.0</td></tr><tr><th>11</th><td>10747.0</td><td>0.0</td><td>12.0</td><td>12.0</td><td>1.0</td><td>0.0</td><td>0.0</td><td>0.0</td><td>2.0</td></tr><tr><th>12</th><td>10551.0</td><td>1.0</td><td>22.0</td><td>22.0</td><td>1.0</td><td>0.0</td><td>1.0</td><td>0.0</td><td>2.0</td></tr><tr><th>13</th><td>10768.0</td><td>0.0</td><td>18.0</td><td>18.0</td><td>1.0</td><td>0.0</td><td>0.0</td><td>0.0</td><td>0.0</td></tr><tr><th>14</th><td>10537.0</td><td>0.0</td><td>1.0</td><td>1.0</td><td>1.0</td><td>0.0</td><td>0.0</td><td>0.0</td><td>2.0</td></tr><tr><th>15</th><td>10600.0</td><td>1.0</td><td>7.0</td><td>7.0</td><td>1.0</td><td>0.0</td><td>0.0</td><td>0.0</td><td>0.0</td></tr><tr><th>16</th><td>10866.0</td><td>0.0</td><td>18.0</td><td>18.0</td><td>0.0</td><td>0.0</td><td>0.0</td><td>0.0</td><td>0.0</td></tr><tr><th>17</th><td>10572.0</td><td>0.0</td><td>14.0</td><td>14.0</td><td>0.0</td><td>0.0</td><td>0.0</td><td>0.0</td><td>2.0</td></tr><tr><th>18</th><td>10663.0</td><td>0.0</td><td>5.0</td><td>5.0</td><td>0.0</td><td>0.0</td><td>0.0</td><td>0.0</td><td>0.0</td></tr><tr><th>19</th><td>10789.0</td><td>0.0</td><td>9.0</td><td>9.0</td><td>0.0</td><td>0.0</td><td>0.0</td><td>0.0</td><td>0.0</td></tr><tr><th>20</th><td>10768.0</td><td>0.0</td><td>3.0</td><td>3.0</td><td>0.0</td><td>1.0</td><td>0.0</td><td>0.0</td><td>0.0</td></tr><tr><th>21</th><td>10649.0</td><td>0.0</td><td>27.0</td><td>27.0</td><td>0.0</td><td>0.0</td><td>0.0</td><td>0.0</td><td>1.0</td></tr><tr><th>22</th><td>10670.0</td><td>1.0</td><td>27.0</td><td>27.0</td><td>1.0</td><td>0.0</td><td>0.0</td><td>0.0</td><td>2.0</td></tr><tr><th>23</th><td>10796.0</td><td>0.0</td><td>10.0</td><td>10.0</td><td>0.0</td><td>0.0</td><td>0.0</td><td>0.0</td><td>0.0</td></tr><tr><th>24</th><td>10558.0</td><td>0.0</td><td>25.0</td><td>25.0</td><td>0.0</td><td>0.0</td><td>1.0</td><td>0.0</td><td>2.0</td></tr><tr><th>25</th><td>10831.0</td><td>1.0</td><td>1.0</td><td>1.0</td><td>0.0</td><td>0.0</td><td>0.0</td><td>0.0</td><td>0.0</td></tr><tr><th>26</th><td>10810.0</td><td>1.0</td><td>3.0</td><td>3.0</td><td>0.0</td><td>0.0</td><td>0.0</td><td>0.0</td><td>0.0</td></tr><tr><th>27</th><td>10551.0</td><td>1.0</td><td>13.0</td><td>13.0</td><td>0.0</td><td>0.0</td><td>0.0</td><td>0.0</td><td>2.0</td></tr><tr><th>28</th><td>10796.0</td><td>0.0</td><td>1.0</td><td>1.0</td><td>0.0</td><td>0.0</td><td>0.0</td><td>0.0</td><td>0.0</td></tr><tr><th>29</th><td>10719.0</td><td>0.0</td><td>27.0</td><td>27.0</td><td>0.0</td><td>0.0</td><td>0.0</td><td>0.0</td><td>0.0</td></tr><tr><th>30</th><td>10726.0</td><td>1.0</td><td>14.0</td><td>14.0</td><td>0.0</td><td>0.0</td><td>0.0</td><td>0.0</td><td>2.0</td></tr><tr><th>&vellip;</th><td>&vellip;</td><td>&vellip;</td><td>&vellip;</td><td>&vellip;</td><td>&vellip;</td><td>&vellip;</td><td>&vellip;</td><td>&vellip;</td><td>&vellip;</td></tr></tbody></table>"
      ],
      "text/latex": [
       "\\begin{tabular}{r|cccccccccc}\n",
       "\t& abdt & T4 & inuidur1 & inuidur2 & female & black & hispanic & othrace & dep & \\\\\n",
       "\t\\hline\n",
       "\t& Float64 & Float64 & Float64 & Float64 & Float64 & Float64 & Float64 & Float64 & Cat… & \\\\\n",
       "\t\\hline\n",
       "\t1 & 10824.0 & 0.0 & 18.0 & 18.0 & 0.0 & 0.0 & 0.0 & 0.0 & 2.0 & $\\dots$ \\\\\n",
       "\t2 & 10824.0 & 0.0 & 1.0 & 1.0 & 0.0 & 0.0 & 0.0 & 0.0 & 0.0 & $\\dots$ \\\\\n",
       "\t3 & 10747.0 & 0.0 & 27.0 & 27.0 & 0.0 & 0.0 & 0.0 & 0.0 & 0.0 & $\\dots$ \\\\\n",
       "\t4 & 10607.0 & 1.0 & 9.0 & 9.0 & 0.0 & 0.0 & 0.0 & 0.0 & 0.0 & $\\dots$ \\\\\n",
       "\t5 & 10831.0 & 0.0 & 27.0 & 27.0 & 0.0 & 0.0 & 0.0 & 0.0 & 1.0 & $\\dots$ \\\\\n",
       "\t6 & 10845.0 & 0.0 & 27.0 & 27.0 & 1.0 & 0.0 & 0.0 & 0.0 & 0.0 & $\\dots$ \\\\\n",
       "\t7 & 10831.0 & 0.0 & 9.0 & 9.0 & 1.0 & 0.0 & 0.0 & 0.0 & 1.0 & $\\dots$ \\\\\n",
       "\t8 & 10859.0 & 0.0 & 27.0 & 27.0 & 1.0 & 0.0 & 0.0 & 0.0 & 1.0 & $\\dots$ \\\\\n",
       "\t9 & 10516.0 & 0.0 & 15.0 & 15.0 & 1.0 & 0.0 & 0.0 & 0.0 & 0.0 & $\\dots$ \\\\\n",
       "\t10 & 10663.0 & 0.0 & 28.0 & 11.0 & 1.0 & 0.0 & 0.0 & 0.0 & 0.0 & $\\dots$ \\\\\n",
       "\t11 & 10747.0 & 0.0 & 12.0 & 12.0 & 1.0 & 0.0 & 0.0 & 0.0 & 2.0 & $\\dots$ \\\\\n",
       "\t12 & 10551.0 & 1.0 & 22.0 & 22.0 & 1.0 & 0.0 & 1.0 & 0.0 & 2.0 & $\\dots$ \\\\\n",
       "\t13 & 10768.0 & 0.0 & 18.0 & 18.0 & 1.0 & 0.0 & 0.0 & 0.0 & 0.0 & $\\dots$ \\\\\n",
       "\t14 & 10537.0 & 0.0 & 1.0 & 1.0 & 1.0 & 0.0 & 0.0 & 0.0 & 2.0 & $\\dots$ \\\\\n",
       "\t15 & 10600.0 & 1.0 & 7.0 & 7.0 & 1.0 & 0.0 & 0.0 & 0.0 & 0.0 & $\\dots$ \\\\\n",
       "\t16 & 10866.0 & 0.0 & 18.0 & 18.0 & 0.0 & 0.0 & 0.0 & 0.0 & 0.0 & $\\dots$ \\\\\n",
       "\t17 & 10572.0 & 0.0 & 14.0 & 14.0 & 0.0 & 0.0 & 0.0 & 0.0 & 2.0 & $\\dots$ \\\\\n",
       "\t18 & 10663.0 & 0.0 & 5.0 & 5.0 & 0.0 & 0.0 & 0.0 & 0.0 & 0.0 & $\\dots$ \\\\\n",
       "\t19 & 10789.0 & 0.0 & 9.0 & 9.0 & 0.0 & 0.0 & 0.0 & 0.0 & 0.0 & $\\dots$ \\\\\n",
       "\t20 & 10768.0 & 0.0 & 3.0 & 3.0 & 0.0 & 1.0 & 0.0 & 0.0 & 0.0 & $\\dots$ \\\\\n",
       "\t21 & 10649.0 & 0.0 & 27.0 & 27.0 & 0.0 & 0.0 & 0.0 & 0.0 & 1.0 & $\\dots$ \\\\\n",
       "\t22 & 10670.0 & 1.0 & 27.0 & 27.0 & 1.0 & 0.0 & 0.0 & 0.0 & 2.0 & $\\dots$ \\\\\n",
       "\t23 & 10796.0 & 0.0 & 10.0 & 10.0 & 0.0 & 0.0 & 0.0 & 0.0 & 0.0 & $\\dots$ \\\\\n",
       "\t24 & 10558.0 & 0.0 & 25.0 & 25.0 & 0.0 & 0.0 & 1.0 & 0.0 & 2.0 & $\\dots$ \\\\\n",
       "\t25 & 10831.0 & 1.0 & 1.0 & 1.0 & 0.0 & 0.0 & 0.0 & 0.0 & 0.0 & $\\dots$ \\\\\n",
       "\t26 & 10810.0 & 1.0 & 3.0 & 3.0 & 0.0 & 0.0 & 0.0 & 0.0 & 0.0 & $\\dots$ \\\\\n",
       "\t27 & 10551.0 & 1.0 & 13.0 & 13.0 & 0.0 & 0.0 & 0.0 & 0.0 & 2.0 & $\\dots$ \\\\\n",
       "\t28 & 10796.0 & 0.0 & 1.0 & 1.0 & 0.0 & 0.0 & 0.0 & 0.0 & 0.0 & $\\dots$ \\\\\n",
       "\t29 & 10719.0 & 0.0 & 27.0 & 27.0 & 0.0 & 0.0 & 0.0 & 0.0 & 0.0 & $\\dots$ \\\\\n",
       "\t30 & 10726.0 & 1.0 & 14.0 & 14.0 & 0.0 & 0.0 & 0.0 & 0.0 & 2.0 & $\\dots$ \\\\\n",
       "\t$\\dots$ & $\\dots$ & $\\dots$ & $\\dots$ & $\\dots$ & $\\dots$ & $\\dots$ & $\\dots$ & $\\dots$ & $\\dots$ &  \\\\\n",
       "\\end{tabular}\n"
      ],
      "text/plain": [
       "\u001b[1m5099×23 DataFrame\u001b[0m\n",
       "\u001b[1m  Row \u001b[0m│\u001b[1m abdt    \u001b[0m\u001b[1m T4      \u001b[0m\u001b[1m inuidur1 \u001b[0m\u001b[1m inuidur2 \u001b[0m\u001b[1m female  \u001b[0m\u001b[1m black   \u001b[0m\u001b[1m hispanic \u001b[0m\u001b[1m othr\u001b[0m ⋯\n",
       "\u001b[1m      \u001b[0m│\u001b[90m Float64 \u001b[0m\u001b[90m Float64 \u001b[0m\u001b[90m Float64  \u001b[0m\u001b[90m Float64  \u001b[0m\u001b[90m Float64 \u001b[0m\u001b[90m Float64 \u001b[0m\u001b[90m Float64  \u001b[0m\u001b[90m Floa\u001b[0m ⋯\n",
       "──────┼─────────────────────────────────────────────────────────────────────────\n",
       "    1 │ 10824.0      0.0      18.0      18.0      0.0      0.0       0.0       ⋯\n",
       "    2 │ 10824.0      0.0       1.0       1.0      0.0      0.0       0.0\n",
       "    3 │ 10747.0      0.0      27.0      27.0      0.0      0.0       0.0\n",
       "    4 │ 10607.0      1.0       9.0       9.0      0.0      0.0       0.0\n",
       "    5 │ 10831.0      0.0      27.0      27.0      0.0      0.0       0.0       ⋯\n",
       "    6 │ 10845.0      0.0      27.0      27.0      1.0      0.0       0.0\n",
       "    7 │ 10831.0      0.0       9.0       9.0      1.0      0.0       0.0\n",
       "    8 │ 10859.0      0.0      27.0      27.0      1.0      0.0       0.0\n",
       "    9 │ 10516.0      0.0      15.0      15.0      1.0      0.0       0.0       ⋯\n",
       "   10 │ 10663.0      0.0      28.0      11.0      1.0      0.0       0.0\n",
       "   11 │ 10747.0      0.0      12.0      12.0      1.0      0.0       0.0\n",
       "  ⋮   │    ⋮        ⋮        ⋮         ⋮         ⋮        ⋮        ⋮         ⋮ ⋱\n",
       " 5090 │ 10635.0      1.0      20.0      20.0      0.0      0.0       0.0\n",
       " 5091 │ 10859.0      0.0       1.0       1.0      1.0      0.0       0.0       ⋯\n",
       " 5092 │ 10796.0      0.0      23.0      23.0      0.0      1.0       0.0\n",
       " 5093 │ 10740.0      1.0      13.0      13.0      1.0      1.0       0.0\n",
       " 5094 │ 10845.0      0.0       6.0       6.0      1.0      0.0       0.0\n",
       " 5095 │ 10628.0      1.0      10.0      10.0      0.0      0.0       1.0       ⋯\n",
       " 5096 │ 10523.0      1.0       4.0       4.0      0.0      0.0       1.0\n",
       " 5097 │ 10558.0      0.0       9.0       9.0      0.0      0.0       0.0\n",
       " 5098 │ 10817.0      1.0       4.0       4.0      0.0      0.0       0.0\n",
       " 5099 │ 10691.0      0.0      27.0      27.0      0.0      0.0       0.0       ⋯\n",
       "\u001b[36m                                                16 columns and 5078 rows omitted\u001b[0m"
      ]
     },
     "execution_count": 6,
     "metadata": {},
     "output_type": "execute_result"
    }
   ],
   "source": [
    "Penn"
   ]
  },
  {
   "cell_type": "code",
   "execution_count": 7,
   "id": "862b3a40",
   "metadata": {},
   "outputs": [
    {
     "data": {
      "text/plain": [
       "StatsModels.TableRegressionModel{LinearModel{GLM.LmResp{Vector{Float64}}, GLM.DensePredChol{Float64, CholeskyPivoted{Float64, Matrix{Float64}}}}, Matrix{Float64}}\n",
       "\n",
       ":(log(inuidur1)) ~ 1 + T4 + female + black + othrace + dep + q2 + q3 + q4 + q5 + q6 + agelt35 + agegt54 + durable + lusd + husd\n",
       "\n",
       "Coefficients:\n",
       "───────────────────────────────────────────────────────────────────────────────\n",
       "                   Coef.  Std. Error      t  Pr(>|t|)    Lower 95%    Upper 95%\n",
       "───────────────────────────────────────────────────────────────────────────────\n",
       "(Intercept)   2.17846      0.159015   13.70    <1e-41   1.86672      2.4902\n",
       "T4           -0.0716925    0.0354633  -2.02    0.0433  -0.141216    -0.00216922\n",
       "female        0.126368     0.0348249   3.63    0.0003   0.0580965    0.19464\n",
       "black        -0.293768     0.0529756  -5.55    <1e-07  -0.397623    -0.189913\n",
       "othrace      -0.472445     0.198398   -2.38    0.0173  -0.86139     -0.0835005\n",
       "dep: 1.0      0.0298669    0.0541402   0.55    0.5812  -0.0762713    0.136005\n",
       "dep: 2.0      0.0961865    0.0468623   2.05    0.0402   0.00431626   0.188057\n",
       "q2            0.0736781    0.156826    0.47    0.6385  -0.233768     0.381124\n",
       "q3           -0.0385065    0.156478   -0.25    0.8056  -0.345271     0.268258\n",
       "q4           -0.0549492    0.15656    -0.35    0.7256  -0.361875     0.251976\n",
       "q5           -0.144178     0.155888   -0.92    0.3551  -0.449785     0.16143\n",
       "q6            0.00336132   0.166456    0.02    0.9839  -0.322964     0.329686\n",
       "agelt35      -0.162772     0.036965   -4.40    <1e-04  -0.23524     -0.0903048\n",
       "agegt54       0.229667     0.0591717   3.88    0.0001   0.113665     0.345669\n",
       "durable       0.126557     0.0481459   2.63    0.0086   0.0321707    0.220944\n",
       "lusd         -0.175353     0.0409825  -4.28    <1e-04  -0.255696    -0.0950092\n",
       "husd         -0.105225     0.0449086  -2.34    0.0192  -0.193265    -0.0171844\n",
       "───────────────────────────────────────────────────────────────────────────────"
      ]
     },
     "execution_count": 7,
     "metadata": {},
     "output_type": "execute_result"
    }
   ],
   "source": [
    "formula1 =@formula( log(inuidur1)~ T4+ (female+black+othrace+dep+q2+q3+q4+q5+q6+agelt35+agegt54+durable+lusd+husd))\n",
    "ols1 = lm(formula1, Penn)"
   ]
  },
  {
   "cell_type": "code",
   "execution_count": 8,
   "id": "959163d2",
   "metadata": {},
   "outputs": [
    {
     "data": {
      "text/plain": [
       "0.052975562178876896"
      ]
     },
     "execution_count": 8,
     "metadata": {},
     "output_type": "execute_result"
    }
   ],
   "source": [
    "std_T4 = GLM.coeftable(ols1).cols[2][2]\n",
    "std_female = GLM.coeftable(ols1).cols[2][3]\n",
    "std_black = GLM.coeftable(ols1).cols[2][4]\n"
   ]
  },
  {
   "cell_type": "code",
   "execution_count": 9,
   "id": "2314c871",
   "metadata": {},
   "outputs": [
    {
     "data": {
      "text/plain": [
       "boot_fn1 (generic function with 1 method)"
      ]
     },
     "execution_count": 9,
     "metadata": {},
     "output_type": "execute_result"
    }
   ],
   "source": [
    "function boot_fn1(data,index)\n",
    "            formula1 =@formula( log(inuidur1)~ T4+ (female+black+othrace+dep+q2+q3+q4+q5+q6+agelt35+agegt54+durable+lusd+husd))\n",
    "            ols1 = lm(formula1, Penn[index,:])\n",
    "            coef_T4 = GLM.coeftable(ols1).cols[1][2]\n",
    "            coef_female = GLM.coeftable(ols1).cols[1][3]\n",
    "            coef_black = GLM.coeftable(ols1).cols[1][4]\n",
    "            return [coef_T4, coef_female, coef_black]\n",
    "end"
   ]
  },
  {
   "cell_type": "code",
   "execution_count": 10,
   "id": "8545c617",
   "metadata": {},
   "outputs": [
    {
     "data": {
      "text/plain": [
       "boot_1 (generic function with 1 method)"
      ]
     },
     "execution_count": 10,
     "metadata": {},
     "output_type": "execute_result"
    }
   ],
   "source": [
    "function boot_1(data,func,R)\n",
    "            Random.seed!(1)\n",
    "            n = size(Penn)[1]\n",
    "            coef_T4 = []\n",
    "            coef_female = []\n",
    "            coef_black = []\n",
    "            for i in 1:R\n",
    "                append!(coef_T4,func(data,sample([1:5099 ;], n, replace = true))[1])\n",
    "                append!(coef_female,func(data,sample([1:5099;], n, replace = true))[2])\n",
    "                append!(coef_black,func(data,sample([1:5099;], n, replace = true))[3])\n",
    "            end\n",
    "        table = NamedArray(zeros(3, 3))\n",
    "\n",
    "        table[1,2] = mean(coef_T4)\n",
    "        table[1,3] = std(coef_T4, corrected=true)\n",
    "        table[2,2] = mean(coef_female)\n",
    "        table[2,3] = std(coef_female, corrected=true)\n",
    "        table[3,2] = mean(coef_black)\n",
    "        table[3,3] = std(coef_black, corrected=true)\n",
    "    \n",
    "        T = DataFrame(table, [ :\"Variable\", :\"Mean Coefficient (boostrap)\", :\"Standar error Coefficient (boostrap)\"]) \n",
    "        T[!,:Variable] = string.(T[!,:Variable]) \n",
    "\n",
    "        T[1,1] = \"Treatment (T4)\"\n",
    "        T[2,1] = \"Female\"\n",
    "        T[3,1] = \"Black\"\n",
    "        \n",
    "        bootstrap_statistics = Dict{String,Any}(\"Table\" => T, \"Treatment (T4)\" => coef_T4, \"Female\" => coef_female,\n",
    "        \"Black\" => coef_black)\n",
    "    return bootstrap_statistics\n",
    "end"
   ]
  },
  {
   "cell_type": "code",
   "execution_count": 11,
   "id": "cd080fe5",
   "metadata": {
    "scrolled": true
   },
   "outputs": [
    {
     "data": {
      "text/html": [
       "<table class=\"data-frame\"><thead><tr><th></th><th>Variable</th><th>Mean Coefficient (boostrap)</th><th>Standar error Coefficient (boostrap)</th></tr><tr><th></th><th>String</th><th>Float64</th><th>Float64</th></tr></thead><tbody><p>3 rows × 3 columns</p><tr><th>1</th><td>Treatment (T4)</td><td>-0.0718697</td><td>0.0355158</td></tr><tr><th>2</th><td>Female</td><td>0.12608</td><td>0.0344085</td></tr><tr><th>3</th><td>Black</td><td>-0.295361</td><td>0.0609133</td></tr></tbody></table>"
      ],
      "text/latex": [
       "\\begin{tabular}{r|ccc}\n",
       "\t& Variable & Mean Coefficient (boostrap) & Standar error Coefficient (boostrap)\\\\\n",
       "\t\\hline\n",
       "\t& String & Float64 & Float64\\\\\n",
       "\t\\hline\n",
       "\t1 & Treatment (T4) & -0.0718697 & 0.0355158 \\\\\n",
       "\t2 & Female & 0.12608 & 0.0344085 \\\\\n",
       "\t3 & Black & -0.295361 & 0.0609133 \\\\\n",
       "\\end{tabular}\n"
      ],
      "text/plain": [
       "\u001b[1m3×3 DataFrame\u001b[0m\n",
       "\u001b[1m Row \u001b[0m│\u001b[1m Variable       \u001b[0m\u001b[1m Mean Coefficient (boostrap) \u001b[0m\u001b[1m Standar error Coefficient \u001b[0m ⋯\n",
       "\u001b[1m     \u001b[0m│\u001b[90m String         \u001b[0m\u001b[90m Float64                     \u001b[0m\u001b[90m Float64                   \u001b[0m ⋯\n",
       "─────┼──────────────────────────────────────────────────────────────────────────\n",
       "   1 │ Treatment (T4)                   -0.0718697                             ⋯\n",
       "   2 │ Female                            0.12608\n",
       "   3 │ Black                            -0.295361\n",
       "\u001b[36m                                                                1 column omitted\u001b[0m"
      ]
     },
     "execution_count": 11,
     "metadata": {},
     "output_type": "execute_result"
    }
   ],
   "source": [
    "boot_1(Penn,boot_fn1,1000)[\"Table\"]"
   ]
  },
  {
   "cell_type": "markdown",
   "id": "0e7e3b43",
   "metadata": {},
   "source": [
    "# 2. Comparative models"
   ]
  },
  {
   "cell_type": "markdown",
   "id": "b95b043d",
   "metadata": {},
   "source": [
    "**Basic Model** \\\n",
    "lnw ~ female + female : (widowed + divorced + separated + nevermarried +\n",
    "hsd08 + hsd911 + hsg + cg + ad + mw + so + we + exp1 + exp2 + exp3\n",
    "\n",
    "**Flexible  Model** (revisar problemas de muchas variables) \\\n",
    "lnw ~ female + female : (widowed + divorced + separated + nevermarried +\n",
    "hsd08 + hsd911 + hsg + cg + ad + mw + so + we + exp1 + exp2 + exp3) + (widowed + divorced + separated + nevermarried + hsd08 + hsd911 + hsg + cg + ad + mw + so +we + exp1 + exp2 + exp3) ^ 2"
   ]
  },
  {
   "cell_type": "markdown",
   "id": "677a5b5c",
   "metadata": {},
   "source": [
    "**Models:**\\\n",
    "\\\n",
    "*Lineal Models*\n",
    "- OLS\n",
    "- Lasso HDM\n",
    "- Lasso CV\n",
    "- Elastic Net - CV\n",
    "- Ridge Lasso - CV\n",
    "\n",
    "\n",
    "\n",
    "*No Lineal Models*\n",
    "- Tree regression\n",
    "- Pruned tree regression"
   ]
  },
  {
   "cell_type": "code",
   "execution_count": 12,
   "id": "3aea8764",
   "metadata": {},
   "outputs": [],
   "source": [
    "using RData"
   ]
  },
  {
   "cell_type": "code",
   "execution_count": 13,
   "id": "e2ebbfda",
   "metadata": {},
   "outputs": [
    {
     "data": {
      "text/plain": [
       "23-element Vector{String}:\n",
       " \"year\"\n",
       " \"lnw\"\n",
       " \"female\"\n",
       " \"widowed\"\n",
       " \"divorced\"\n",
       " \"separated\"\n",
       " \"nevermarried\"\n",
       " \"hsd08\"\n",
       " \"hsd911\"\n",
       " \"hsg\"\n",
       " \"cg\"\n",
       " \"ad\"\n",
       " \"mw\"\n",
       " \"so\"\n",
       " \"we\"\n",
       " \"exp1\"\n",
       " \"exp2\"\n",
       " \"exp3\"\n",
       " \"exp4\"\n",
       " \"weight\"\n",
       " \"married\"\n",
       " \"ne\"\n",
       " \"sc\""
      ]
     },
     "execution_count": 13,
     "metadata": {},
     "output_type": "execute_result"
    }
   ],
   "source": [
    "cps = load(\"../../data/cps2012.RData\")\n",
    "data=cps[\"data\"]\n",
    "names(data)"
   ]
  },
  {
   "cell_type": "code",
   "execution_count": 14,
   "id": "8d5403c6",
   "metadata": {},
   "outputs": [
    {
     "name": "stdout",
     "output_type": "stream",
     "text": [
      "Number of Rows : 29217\n",
      "Number of Columns : 23\n"
     ]
    }
   ],
   "source": [
    "println(\"Number of Rows : \", size(data)[1],\"\\n\",\"Number of Columns : \", size(data)[2],) #rows and columns"
   ]
  },
  {
   "cell_type": "code",
   "execution_count": 15,
   "id": "e51fdcec",
   "metadata": {},
   "outputs": [
    {
     "data": {
      "text/html": [
       "<table class=\"data-frame\"><thead><tr><th></th><th>year</th><th>lnw</th><th>female</th><th>widowed</th><th>divorced</th><th>separated</th><th>nevermarried</th><th>hsd08</th></tr><tr><th></th><th>Float64</th><th>Float64</th><th>Float64</th><th>Float64</th><th>Float64</th><th>Float64</th><th>Float64</th><th>Float64</th></tr></thead><tbody><p>5 rows × 23 columns (omitted printing of 15 columns)</p><tr><th>1</th><td>2012.0</td><td>1.90954</td><td>1.0</td><td>0.0</td><td>0.0</td><td>0.0</td><td>0.0</td><td>0.0</td></tr><tr><th>2</th><td>2012.0</td><td>1.36577</td><td>1.0</td><td>0.0</td><td>0.0</td><td>0.0</td><td>0.0</td><td>0.0</td></tr><tr><th>3</th><td>2012.0</td><td>2.54022</td><td>0.0</td><td>0.0</td><td>0.0</td><td>0.0</td><td>0.0</td><td>0.0</td></tr><tr><th>4</th><td>2012.0</td><td>1.80109</td><td>1.0</td><td>0.0</td><td>0.0</td><td>0.0</td><td>0.0</td><td>0.0</td></tr><tr><th>5</th><td>2012.0</td><td>3.3499</td><td>0.0</td><td>0.0</td><td>0.0</td><td>0.0</td><td>0.0</td><td>0.0</td></tr></tbody></table>"
      ],
      "text/latex": [
       "\\begin{tabular}{r|ccccccccc}\n",
       "\t& year & lnw & female & widowed & divorced & separated & nevermarried & hsd08 & \\\\\n",
       "\t\\hline\n",
       "\t& Float64 & Float64 & Float64 & Float64 & Float64 & Float64 & Float64 & Float64 & \\\\\n",
       "\t\\hline\n",
       "\t1 & 2012.0 & 1.90954 & 1.0 & 0.0 & 0.0 & 0.0 & 0.0 & 0.0 & $\\dots$ \\\\\n",
       "\t2 & 2012.0 & 1.36577 & 1.0 & 0.0 & 0.0 & 0.0 & 0.0 & 0.0 & $\\dots$ \\\\\n",
       "\t3 & 2012.0 & 2.54022 & 0.0 & 0.0 & 0.0 & 0.0 & 0.0 & 0.0 & $\\dots$ \\\\\n",
       "\t4 & 2012.0 & 1.80109 & 1.0 & 0.0 & 0.0 & 0.0 & 0.0 & 0.0 & $\\dots$ \\\\\n",
       "\t5 & 2012.0 & 3.3499 & 0.0 & 0.0 & 0.0 & 0.0 & 0.0 & 0.0 & $\\dots$ \\\\\n",
       "\\end{tabular}\n"
      ],
      "text/plain": [
       "\u001b[1m5×23 DataFrame\u001b[0m\n",
       "\u001b[1m Row \u001b[0m│\u001b[1m year    \u001b[0m\u001b[1m lnw     \u001b[0m\u001b[1m female  \u001b[0m\u001b[1m widowed \u001b[0m\u001b[1m divorced \u001b[0m\u001b[1m separated \u001b[0m\u001b[1m nevermarried \u001b[0m\u001b[1m \u001b[0m ⋯\n",
       "\u001b[1m     \u001b[0m│\u001b[90m Float64 \u001b[0m\u001b[90m Float64 \u001b[0m\u001b[90m Float64 \u001b[0m\u001b[90m Float64 \u001b[0m\u001b[90m Float64  \u001b[0m\u001b[90m Float64   \u001b[0m\u001b[90m Float64      \u001b[0m\u001b[90m \u001b[0m ⋯\n",
       "─────┼──────────────────────────────────────────────────────────────────────────\n",
       "   1 │  2012.0  1.90954      1.0      0.0       0.0        0.0           0.0   ⋯\n",
       "   2 │  2012.0  1.36577      1.0      0.0       0.0        0.0           0.0\n",
       "   3 │  2012.0  2.54022      0.0      0.0       0.0        0.0           0.0\n",
       "   4 │  2012.0  1.80109      1.0      0.0       0.0        0.0           0.0\n",
       "   5 │  2012.0  3.3499       0.0      0.0       0.0        0.0           0.0   ⋯\n",
       "\u001b[36m                                                              16 columns omitted\u001b[0m"
      ]
     },
     "execution_count": 15,
     "metadata": {},
     "output_type": "execute_result"
    }
   ],
   "source": [
    "first(data,5)"
   ]
  },
  {
   "cell_type": "code",
   "execution_count": 16,
   "id": "0f7dd30b",
   "metadata": {},
   "outputs": [
    {
     "data": {
      "text/html": [
       "<table class=\"data-frame\"><thead><tr><th></th><th>variable</th><th>mean</th><th>min</th><th>median</th><th>max</th><th>nmissing</th><th>eltype</th></tr><tr><th></th><th>Symbol</th><th>Float64</th><th>Real</th><th>Float64</th><th>Real</th><th>Int64</th><th>DataType</th></tr></thead><tbody><p>23 rows × 7 columns</p><tr><th>1</th><td>year</td><td>2012.0</td><td>2012.0</td><td>2012.0</td><td>2012.0</td><td>0</td><td>Float64</td></tr><tr><th>2</th><td>lnw</td><td>2.79701</td><td>-7.46987</td><td>2.77454</td><td>5.97094</td><td>0</td><td>Float64</td></tr><tr><th>3</th><td>female</td><td>0.428757</td><td>0.0</td><td>0.0</td><td>1.0</td><td>0</td><td>Float64</td></tr><tr><th>4</th><td>widowed</td><td>0.00797481</td><td>0.0</td><td>0.0</td><td>1.0</td><td>0</td><td>Float64</td></tr><tr><th>5</th><td>divorced</td><td>0.113393</td><td>0.0</td><td>0.0</td><td>1.0</td><td>0</td><td>Float64</td></tr><tr><th>6</th><td>separated</td><td>0.0165999</td><td>0.0</td><td>0.0</td><td>1.0</td><td>0</td><td>Float64</td></tr><tr><th>7</th><td>nevermarried</td><td>0.156347</td><td>0.0</td><td>0.0</td><td>1.0</td><td>0</td><td>Float64</td></tr><tr><th>8</th><td>hsd08</td><td>0.0041072</td><td>0.0</td><td>0.0</td><td>1.0</td><td>0</td><td>Float64</td></tr><tr><th>9</th><td>hsd911</td><td>0.0221789</td><td>0.0</td><td>0.0</td><td>1.0</td><td>0</td><td>Float64</td></tr><tr><th>10</th><td>hsg</td><td>0.247288</td><td>0.0</td><td>0.0</td><td>1.0</td><td>0</td><td>Float64</td></tr><tr><th>11</th><td>cg</td><td>0.283431</td><td>0.0</td><td>0.0</td><td>1.0</td><td>0</td><td>Float64</td></tr><tr><th>12</th><td>ad</td><td>0.1558</td><td>0.0</td><td>0.0</td><td>1.0</td><td>0</td><td>Float64</td></tr><tr><th>13</th><td>mw</td><td>0.291645</td><td>0.0</td><td>0.0</td><td>1.0</td><td>0</td><td>Float64</td></tr><tr><th>14</th><td>so</td><td>0.282849</td><td>0.0</td><td>0.0</td><td>1.0</td><td>0</td><td>Float64</td></tr><tr><th>15</th><td>we</td><td>0.199644</td><td>0.0</td><td>0.0</td><td>1.0</td><td>0</td><td>Float64</td></tr><tr><th>16</th><td>exp1</td><td>18.7569</td><td>0.0</td><td>19.0</td><td>43.5</td><td>0</td><td>Float64</td></tr><tr><th>17</th><td>exp2</td><td>4.28681</td><td>0.0</td><td>3.61</td><td>18.9225</td><td>0</td><td>Float64</td></tr><tr><th>18</th><td>exp3</td><td>10.876</td><td>0.0</td><td>6.859</td><td>82.3129</td><td>0</td><td>Float64</td></tr><tr><th>19</th><td>exp4</td><td>29.4088</td><td>0.0</td><td>13.0321</td><td>358.061</td><td>0</td><td>Float64</td></tr><tr><th>20</th><td>weight</td><td>1513.84</td><td>106.79</td><td>1472.1</td><td>6444.15</td><td>0</td><td>Float64</td></tr><tr><th>21</th><td>married</td><td>0.705685</td><td>0</td><td>1.0</td><td>1</td><td>0</td><td>Bool</td></tr><tr><th>22</th><td>ne</td><td>0.225862</td><td>0</td><td>0.0</td><td>1</td><td>0</td><td>Bool</td></tr><tr><th>23</th><td>sc</td><td>0.287196</td><td>0</td><td>0.0</td><td>1</td><td>0</td><td>Bool</td></tr></tbody></table>"
      ],
      "text/latex": [
       "\\begin{tabular}{r|ccccccc}\n",
       "\t& variable & mean & min & median & max & nmissing & eltype\\\\\n",
       "\t\\hline\n",
       "\t& Symbol & Float64 & Real & Float64 & Real & Int64 & DataType\\\\\n",
       "\t\\hline\n",
       "\t1 & year & 2012.0 & 2012.0 & 2012.0 & 2012.0 & 0 & Float64 \\\\\n",
       "\t2 & lnw & 2.79701 & -7.46987 & 2.77454 & 5.97094 & 0 & Float64 \\\\\n",
       "\t3 & female & 0.428757 & 0.0 & 0.0 & 1.0 & 0 & Float64 \\\\\n",
       "\t4 & widowed & 0.00797481 & 0.0 & 0.0 & 1.0 & 0 & Float64 \\\\\n",
       "\t5 & divorced & 0.113393 & 0.0 & 0.0 & 1.0 & 0 & Float64 \\\\\n",
       "\t6 & separated & 0.0165999 & 0.0 & 0.0 & 1.0 & 0 & Float64 \\\\\n",
       "\t7 & nevermarried & 0.156347 & 0.0 & 0.0 & 1.0 & 0 & Float64 \\\\\n",
       "\t8 & hsd08 & 0.0041072 & 0.0 & 0.0 & 1.0 & 0 & Float64 \\\\\n",
       "\t9 & hsd911 & 0.0221789 & 0.0 & 0.0 & 1.0 & 0 & Float64 \\\\\n",
       "\t10 & hsg & 0.247288 & 0.0 & 0.0 & 1.0 & 0 & Float64 \\\\\n",
       "\t11 & cg & 0.283431 & 0.0 & 0.0 & 1.0 & 0 & Float64 \\\\\n",
       "\t12 & ad & 0.1558 & 0.0 & 0.0 & 1.0 & 0 & Float64 \\\\\n",
       "\t13 & mw & 0.291645 & 0.0 & 0.0 & 1.0 & 0 & Float64 \\\\\n",
       "\t14 & so & 0.282849 & 0.0 & 0.0 & 1.0 & 0 & Float64 \\\\\n",
       "\t15 & we & 0.199644 & 0.0 & 0.0 & 1.0 & 0 & Float64 \\\\\n",
       "\t16 & exp1 & 18.7569 & 0.0 & 19.0 & 43.5 & 0 & Float64 \\\\\n",
       "\t17 & exp2 & 4.28681 & 0.0 & 3.61 & 18.9225 & 0 & Float64 \\\\\n",
       "\t18 & exp3 & 10.876 & 0.0 & 6.859 & 82.3129 & 0 & Float64 \\\\\n",
       "\t19 & exp4 & 29.4088 & 0.0 & 13.0321 & 358.061 & 0 & Float64 \\\\\n",
       "\t20 & weight & 1513.84 & 106.79 & 1472.1 & 6444.15 & 0 & Float64 \\\\\n",
       "\t21 & married & 0.705685 & 0 & 1.0 & 1 & 0 & Bool \\\\\n",
       "\t22 & ne & 0.225862 & 0 & 0.0 & 1 & 0 & Bool \\\\\n",
       "\t23 & sc & 0.287196 & 0 & 0.0 & 1 & 0 & Bool \\\\\n",
       "\\end{tabular}\n"
      ],
      "text/plain": [
       "\u001b[1m23×7 DataFrame\u001b[0m\n",
       "\u001b[1m Row \u001b[0m│\u001b[1m variable     \u001b[0m\u001b[1m mean          \u001b[0m\u001b[1m min      \u001b[0m\u001b[1m median     \u001b[0m\u001b[1m max     \u001b[0m\u001b[1m nmissing \u001b[0m\u001b[1m e\u001b[0m ⋯\n",
       "\u001b[1m     \u001b[0m│\u001b[90m Symbol       \u001b[0m\u001b[90m Float64       \u001b[0m\u001b[90m Real     \u001b[0m\u001b[90m Float64    \u001b[0m\u001b[90m Real    \u001b[0m\u001b[90m Int64    \u001b[0m\u001b[90m D\u001b[0m ⋯\n",
       "─────┼──────────────────────────────────────────────────────────────────────────\n",
       "   1 │ year          2012.0           2012.0  2012.0       2012.0         0  F ⋯\n",
       "   2 │ lnw              2.79701     -7.46987     2.77454  5.97094         0  F\n",
       "   3 │ female           0.428757         0.0     0.0          1.0         0  F\n",
       "   4 │ widowed          0.00797481       0.0     0.0          1.0         0  F\n",
       "   5 │ divorced         0.113393         0.0     0.0          1.0         0  F ⋯\n",
       "   6 │ separated        0.0165999        0.0     0.0          1.0         0  F\n",
       "   7 │ nevermarried     0.156347         0.0     0.0          1.0         0  F\n",
       "   8 │ hsd08            0.0041072        0.0     0.0          1.0         0  F\n",
       "   9 │ hsd911           0.0221789        0.0     0.0          1.0         0  F ⋯\n",
       "  10 │ hsg              0.247288         0.0     0.0          1.0         0  F\n",
       "  11 │ cg               0.283431         0.0     0.0          1.0         0  F\n",
       "  ⋮  │      ⋮              ⋮           ⋮          ⋮          ⋮        ⋮        ⋱\n",
       "  14 │ so               0.282849         0.0     0.0          1.0         0  F\n",
       "  15 │ we               0.199644         0.0     0.0          1.0         0  F ⋯\n",
       "  16 │ exp1            18.7569           0.0    19.0         43.5         0  F\n",
       "  17 │ exp2             4.28681          0.0     3.61     18.9225         0  F\n",
       "  18 │ exp3            10.876            0.0     6.859    82.3129         0  F\n",
       "  19 │ exp4            29.4088           0.0    13.0321   358.061         0  F ⋯\n",
       "  20 │ weight        1513.84          106.79  1472.1      6444.15         0  F\n",
       "  21 │ married          0.705685       false     1.0         true         0  B\n",
       "  22 │ ne               0.225862       false     0.0         true         0  B\n",
       "  23 │ sc               0.287196       false     0.0         true         0  B ⋯\n",
       "\u001b[36m                                                     1 column and 2 rows omitted\u001b[0m"
      ]
     },
     "execution_count": 16,
     "metadata": {},
     "output_type": "execute_result"
    }
   ],
   "source": [
    "describe(data)"
   ]
  },
  {
   "cell_type": "code",
   "execution_count": 17,
   "id": "a6632090",
   "metadata": {},
   "outputs": [
    {
     "data": {
      "text/html": [
       "<table class=\"data-frame\"><thead><tr><th></th><th>year</th><th>lnw</th><th>female</th><th>widowed</th><th>divorced</th><th>separated</th><th>nevermarried</th><th>hsd08</th></tr><tr><th></th><th>Float64</th><th>Float64</th><th>Float64</th><th>Float64</th><th>Float64</th><th>Float64</th><th>Float64</th><th>Float64</th></tr></thead><tbody><p>7,305 rows × 23 columns (omitted printing of 15 columns)</p><tr><th>1</th><td>2012.0</td><td>2.54022</td><td>0.0</td><td>0.0</td><td>0.0</td><td>0.0</td><td>0.0</td><td>0.0</td></tr><tr><th>2</th><td>2012.0</td><td>2.00283</td><td>0.0</td><td>0.0</td><td>0.0</td><td>0.0</td><td>0.0</td><td>0.0</td></tr><tr><th>3</th><td>2012.0</td><td>2.45609</td><td>0.0</td><td>0.0</td><td>0.0</td><td>0.0</td><td>1.0</td><td>0.0</td></tr><tr><th>4</th><td>2012.0</td><td>3.57305</td><td>0.0</td><td>0.0</td><td>0.0</td><td>0.0</td><td>0.0</td><td>0.0</td></tr><tr><th>5</th><td>2012.0</td><td>2.51366</td><td>0.0</td><td>0.0</td><td>0.0</td><td>0.0</td><td>0.0</td><td>0.0</td></tr><tr><th>6</th><td>2012.0</td><td>3.14226</td><td>1.0</td><td>0.0</td><td>1.0</td><td>0.0</td><td>0.0</td><td>0.0</td></tr><tr><th>7</th><td>2012.0</td><td>2.91912</td><td>1.0</td><td>0.0</td><td>0.0</td><td>0.0</td><td>1.0</td><td>0.0</td></tr><tr><th>8</th><td>2012.0</td><td>2.82039</td><td>0.0</td><td>0.0</td><td>0.0</td><td>0.0</td><td>0.0</td><td>0.0</td></tr><tr><th>9</th><td>2012.0</td><td>2.05094</td><td>1.0</td><td>0.0</td><td>0.0</td><td>0.0</td><td>1.0</td><td>0.0</td></tr><tr><th>10</th><td>2012.0</td><td>3.00506</td><td>0.0</td><td>0.0</td><td>0.0</td><td>0.0</td><td>0.0</td><td>0.0</td></tr><tr><th>11</th><td>2012.0</td><td>2.52323</td><td>1.0</td><td>0.0</td><td>0.0</td><td>0.0</td><td>0.0</td><td>0.0</td></tr><tr><th>12</th><td>2012.0</td><td>2.70555</td><td>0.0</td><td>0.0</td><td>0.0</td><td>0.0</td><td>0.0</td><td>0.0</td></tr><tr><th>13</th><td>2012.0</td><td>3.16758</td><td>0.0</td><td>0.0</td><td>0.0</td><td>0.0</td><td>0.0</td><td>0.0</td></tr><tr><th>14</th><td>2012.0</td><td>1.99178</td><td>1.0</td><td>0.0</td><td>0.0</td><td>0.0</td><td>0.0</td><td>0.0</td></tr><tr><th>15</th><td>2012.0</td><td>2.77454</td><td>0.0</td><td>0.0</td><td>0.0</td><td>0.0</td><td>1.0</td><td>0.0</td></tr><tr><th>16</th><td>2012.0</td><td>2.27727</td><td>0.0</td><td>0.0</td><td>0.0</td><td>0.0</td><td>1.0</td><td>0.0</td></tr><tr><th>17</th><td>2012.0</td><td>2.43361</td><td>0.0</td><td>0.0</td><td>0.0</td><td>0.0</td><td>0.0</td><td>0.0</td></tr><tr><th>18</th><td>2012.0</td><td>2.70121</td><td>1.0</td><td>0.0</td><td>0.0</td><td>0.0</td><td>0.0</td><td>0.0</td></tr><tr><th>19</th><td>2012.0</td><td>2.97521</td><td>1.0</td><td>0.0</td><td>0.0</td><td>0.0</td><td>0.0</td><td>0.0</td></tr><tr><th>20</th><td>2012.0</td><td>2.18675</td><td>1.0</td><td>0.0</td><td>1.0</td><td>0.0</td><td>0.0</td><td>0.0</td></tr><tr><th>21</th><td>2012.0</td><td>2.85765</td><td>1.0</td><td>0.0</td><td>0.0</td><td>0.0</td><td>0.0</td><td>0.0</td></tr><tr><th>22</th><td>2012.0</td><td>2.91912</td><td>0.0</td><td>0.0</td><td>0.0</td><td>0.0</td><td>0.0</td><td>0.0</td></tr><tr><th>23</th><td>2012.0</td><td>2.7352</td><td>1.0</td><td>0.0</td><td>0.0</td><td>0.0</td><td>0.0</td><td>0.0</td></tr><tr><th>24</th><td>2012.0</td><td>2.43361</td><td>1.0</td><td>0.0</td><td>0.0</td><td>0.0</td><td>0.0</td><td>0.0</td></tr><tr><th>25</th><td>2012.0</td><td>2.95686</td><td>0.0</td><td>0.0</td><td>0.0</td><td>0.0</td><td>0.0</td><td>0.0</td></tr><tr><th>26</th><td>2012.0</td><td>2.87545</td><td>1.0</td><td>0.0</td><td>0.0</td><td>0.0</td><td>1.0</td><td>0.0</td></tr><tr><th>27</th><td>2012.0</td><td>3.33873</td><td>0.0</td><td>0.0</td><td>0.0</td><td>0.0</td><td>0.0</td><td>0.0</td></tr><tr><th>28</th><td>2012.0</td><td>2.22597</td><td>0.0</td><td>0.0</td><td>1.0</td><td>0.0</td><td>0.0</td><td>0.0</td></tr><tr><th>29</th><td>2012.0</td><td>2.43361</td><td>1.0</td><td>0.0</td><td>0.0</td><td>0.0</td><td>0.0</td><td>0.0</td></tr><tr><th>30</th><td>2012.0</td><td>2.00283</td><td>0.0</td><td>0.0</td><td>0.0</td><td>0.0</td><td>0.0</td><td>0.0</td></tr><tr><th>&vellip;</th><td>&vellip;</td><td>&vellip;</td><td>&vellip;</td><td>&vellip;</td><td>&vellip;</td><td>&vellip;</td><td>&vellip;</td><td>&vellip;</td></tr></tbody></table>"
      ],
      "text/latex": [
       "\\begin{tabular}{r|ccccccccc}\n",
       "\t& year & lnw & female & widowed & divorced & separated & nevermarried & hsd08 & \\\\\n",
       "\t\\hline\n",
       "\t& Float64 & Float64 & Float64 & Float64 & Float64 & Float64 & Float64 & Float64 & \\\\\n",
       "\t\\hline\n",
       "\t1 & 2012.0 & 2.54022 & 0.0 & 0.0 & 0.0 & 0.0 & 0.0 & 0.0 & $\\dots$ \\\\\n",
       "\t2 & 2012.0 & 2.00283 & 0.0 & 0.0 & 0.0 & 0.0 & 0.0 & 0.0 & $\\dots$ \\\\\n",
       "\t3 & 2012.0 & 2.45609 & 0.0 & 0.0 & 0.0 & 0.0 & 1.0 & 0.0 & $\\dots$ \\\\\n",
       "\t4 & 2012.0 & 3.57305 & 0.0 & 0.0 & 0.0 & 0.0 & 0.0 & 0.0 & $\\dots$ \\\\\n",
       "\t5 & 2012.0 & 2.51366 & 0.0 & 0.0 & 0.0 & 0.0 & 0.0 & 0.0 & $\\dots$ \\\\\n",
       "\t6 & 2012.0 & 3.14226 & 1.0 & 0.0 & 1.0 & 0.0 & 0.0 & 0.0 & $\\dots$ \\\\\n",
       "\t7 & 2012.0 & 2.91912 & 1.0 & 0.0 & 0.0 & 0.0 & 1.0 & 0.0 & $\\dots$ \\\\\n",
       "\t8 & 2012.0 & 2.82039 & 0.0 & 0.0 & 0.0 & 0.0 & 0.0 & 0.0 & $\\dots$ \\\\\n",
       "\t9 & 2012.0 & 2.05094 & 1.0 & 0.0 & 0.0 & 0.0 & 1.0 & 0.0 & $\\dots$ \\\\\n",
       "\t10 & 2012.0 & 3.00506 & 0.0 & 0.0 & 0.0 & 0.0 & 0.0 & 0.0 & $\\dots$ \\\\\n",
       "\t11 & 2012.0 & 2.52323 & 1.0 & 0.0 & 0.0 & 0.0 & 0.0 & 0.0 & $\\dots$ \\\\\n",
       "\t12 & 2012.0 & 2.70555 & 0.0 & 0.0 & 0.0 & 0.0 & 0.0 & 0.0 & $\\dots$ \\\\\n",
       "\t13 & 2012.0 & 3.16758 & 0.0 & 0.0 & 0.0 & 0.0 & 0.0 & 0.0 & $\\dots$ \\\\\n",
       "\t14 & 2012.0 & 1.99178 & 1.0 & 0.0 & 0.0 & 0.0 & 0.0 & 0.0 & $\\dots$ \\\\\n",
       "\t15 & 2012.0 & 2.77454 & 0.0 & 0.0 & 0.0 & 0.0 & 1.0 & 0.0 & $\\dots$ \\\\\n",
       "\t16 & 2012.0 & 2.27727 & 0.0 & 0.0 & 0.0 & 0.0 & 1.0 & 0.0 & $\\dots$ \\\\\n",
       "\t17 & 2012.0 & 2.43361 & 0.0 & 0.0 & 0.0 & 0.0 & 0.0 & 0.0 & $\\dots$ \\\\\n",
       "\t18 & 2012.0 & 2.70121 & 1.0 & 0.0 & 0.0 & 0.0 & 0.0 & 0.0 & $\\dots$ \\\\\n",
       "\t19 & 2012.0 & 2.97521 & 1.0 & 0.0 & 0.0 & 0.0 & 0.0 & 0.0 & $\\dots$ \\\\\n",
       "\t20 & 2012.0 & 2.18675 & 1.0 & 0.0 & 1.0 & 0.0 & 0.0 & 0.0 & $\\dots$ \\\\\n",
       "\t21 & 2012.0 & 2.85765 & 1.0 & 0.0 & 0.0 & 0.0 & 0.0 & 0.0 & $\\dots$ \\\\\n",
       "\t22 & 2012.0 & 2.91912 & 0.0 & 0.0 & 0.0 & 0.0 & 0.0 & 0.0 & $\\dots$ \\\\\n",
       "\t23 & 2012.0 & 2.7352 & 1.0 & 0.0 & 0.0 & 0.0 & 0.0 & 0.0 & $\\dots$ \\\\\n",
       "\t24 & 2012.0 & 2.43361 & 1.0 & 0.0 & 0.0 & 0.0 & 0.0 & 0.0 & $\\dots$ \\\\\n",
       "\t25 & 2012.0 & 2.95686 & 0.0 & 0.0 & 0.0 & 0.0 & 0.0 & 0.0 & $\\dots$ \\\\\n",
       "\t26 & 2012.0 & 2.87545 & 1.0 & 0.0 & 0.0 & 0.0 & 1.0 & 0.0 & $\\dots$ \\\\\n",
       "\t27 & 2012.0 & 3.33873 & 0.0 & 0.0 & 0.0 & 0.0 & 0.0 & 0.0 & $\\dots$ \\\\\n",
       "\t28 & 2012.0 & 2.22597 & 0.0 & 0.0 & 1.0 & 0.0 & 0.0 & 0.0 & $\\dots$ \\\\\n",
       "\t29 & 2012.0 & 2.43361 & 1.0 & 0.0 & 0.0 & 0.0 & 0.0 & 0.0 & $\\dots$ \\\\\n",
       "\t30 & 2012.0 & 2.00283 & 0.0 & 0.0 & 0.0 & 0.0 & 0.0 & 0.0 & $\\dots$ \\\\\n",
       "\t$\\dots$ & $\\dots$ & $\\dots$ & $\\dots$ & $\\dots$ & $\\dots$ & $\\dots$ & $\\dots$ & $\\dots$ &  \\\\\n",
       "\\end{tabular}\n"
      ],
      "text/plain": [
       "\u001b[1m7305×23 DataFrame\u001b[0m\n",
       "\u001b[1m  Row \u001b[0m│\u001b[1m year    \u001b[0m\u001b[1m lnw     \u001b[0m\u001b[1m female  \u001b[0m\u001b[1m widowed \u001b[0m\u001b[1m divorced \u001b[0m\u001b[1m separated \u001b[0m\u001b[1m nevermarried \u001b[0m\u001b[1m\u001b[0m ⋯\n",
       "\u001b[1m      \u001b[0m│\u001b[90m Float64 \u001b[0m\u001b[90m Float64 \u001b[0m\u001b[90m Float64 \u001b[0m\u001b[90m Float64 \u001b[0m\u001b[90m Float64  \u001b[0m\u001b[90m Float64   \u001b[0m\u001b[90m Float64      \u001b[0m\u001b[90m\u001b[0m ⋯\n",
       "──────┼─────────────────────────────────────────────────────────────────────────\n",
       "    1 │  2012.0  2.54022      0.0      0.0       0.0        0.0           0.0  ⋯\n",
       "    2 │  2012.0  2.00283      0.0      0.0       0.0        0.0           0.0\n",
       "    3 │  2012.0  2.45609      0.0      0.0       0.0        0.0           1.0\n",
       "    4 │  2012.0  3.57305      0.0      0.0       0.0        0.0           0.0\n",
       "    5 │  2012.0  2.51366      0.0      0.0       0.0        0.0           0.0  ⋯\n",
       "    6 │  2012.0  3.14226      1.0      0.0       1.0        0.0           0.0\n",
       "    7 │  2012.0  2.91912      1.0      0.0       0.0        0.0           1.0\n",
       "    8 │  2012.0  2.82039      0.0      0.0       0.0        0.0           0.0\n",
       "    9 │  2012.0  2.05094      1.0      0.0       0.0        0.0           1.0  ⋯\n",
       "   10 │  2012.0  3.00506      0.0      0.0       0.0        0.0           0.0\n",
       "   11 │  2012.0  2.52323      1.0      0.0       0.0        0.0           0.0\n",
       "  ⋮   │    ⋮        ⋮        ⋮        ⋮        ⋮          ⋮           ⋮        ⋱\n",
       " 7296 │  2012.0  2.91912      0.0      0.0       0.0        0.0           0.0\n",
       " 7297 │  2012.0  3.68638      0.0      0.0       0.0        0.0           0.0  ⋯\n",
       " 7298 │  2012.0  3.12676      0.0      0.0       0.0        0.0           1.0\n",
       " 7299 │  2012.0  2.18675      0.0      0.0       0.0        0.0           1.0\n",
       " 7300 │  2012.0  3.75537      0.0      0.0       0.0        0.0           0.0\n",
       " 7301 │  2012.0  2.77454      1.0      0.0       0.0        0.0           0.0  ⋯\n",
       " 7302 │  2012.0  3.57105      0.0      0.0       0.0        0.0           0.0\n",
       " 7303 │  2012.0  2.18675      0.0      0.0       0.0        0.0           0.0\n",
       " 7304 │  2012.0  2.5514       0.0      0.0       0.0        0.0           1.0\n",
       " 7305 │  2012.0  2.72562      1.0      0.0       0.0        0.0           0.0  ⋯\n",
       "\u001b[36m                                                16 columns and 7284 rows omitted\u001b[0m"
      ]
     },
     "execution_count": 17,
     "metadata": {},
     "output_type": "execute_result"
    }
   ],
   "source": [
    "training = sample( collect(1:nrow( data ) ), trunc(Int, 3 * nrow( data ) / 4 ),  replace= false )\n",
    "\n",
    "data_train = data[ vec(training), : ]\n",
    "data_test = data[ Not(training), : ]"
   ]
  },
  {
   "cell_type": "code",
   "execution_count": 18,
   "id": "7ce8ed26",
   "metadata": {},
   "outputs": [
    {
     "data": {
      "text/html": [
       "<table class=\"data-frame\"><thead><tr><th></th><th>year</th><th>lnw</th><th>female</th><th>widowed</th><th>divorced</th><th>separated</th><th>nevermarried</th><th>hsd08</th></tr><tr><th></th><th>Float64</th><th>Float64</th><th>Float64</th><th>Float64</th><th>Float64</th><th>Float64</th><th>Float64</th><th>Float64</th></tr></thead><tbody><p>21,912 rows × 23 columns (omitted printing of 15 columns)</p><tr><th>1</th><td>2012.0</td><td>3.96509</td><td>0.0</td><td>0.0</td><td>0.0</td><td>0.0</td><td>0.0</td><td>0.0</td></tr><tr><th>2</th><td>2012.0</td><td>4.67166</td><td>1.0</td><td>0.0</td><td>0.0</td><td>0.0</td><td>0.0</td><td>0.0</td></tr><tr><th>3</th><td>2012.0</td><td>2.81803</td><td>0.0</td><td>0.0</td><td>1.0</td><td>0.0</td><td>0.0</td><td>0.0</td></tr><tr><th>4</th><td>2012.0</td><td>2.58776</td><td>0.0</td><td>0.0</td><td>0.0</td><td>0.0</td><td>0.0</td><td>0.0</td></tr><tr><th>5</th><td>2012.0</td><td>1.85825</td><td>1.0</td><td>0.0</td><td>0.0</td><td>0.0</td><td>1.0</td><td>0.0</td></tr><tr><th>6</th><td>2012.0</td><td>1.335</td><td>0.0</td><td>0.0</td><td>0.0</td><td>0.0</td><td>0.0</td><td>0.0</td></tr><tr><th>7</th><td>2012.0</td><td>3.21637</td><td>0.0</td><td>0.0</td><td>0.0</td><td>0.0</td><td>0.0</td><td>0.0</td></tr><tr><th>8</th><td>2012.0</td><td>3.14226</td><td>1.0</td><td>0.0</td><td>0.0</td><td>0.0</td><td>0.0</td><td>0.0</td></tr><tr><th>9</th><td>2012.0</td><td>3.46769</td><td>0.0</td><td>0.0</td><td>0.0</td><td>0.0</td><td>0.0</td><td>0.0</td></tr><tr><th>10</th><td>2012.0</td><td>2.77632</td><td>0.0</td><td>0.0</td><td>0.0</td><td>0.0</td><td>1.0</td><td>0.0</td></tr><tr><th>11</th><td>2012.0</td><td>2.5788</td><td>0.0</td><td>0.0</td><td>0.0</td><td>0.0</td><td>0.0</td><td>0.0</td></tr><tr><th>12</th><td>2012.0</td><td>2.22597</td><td>1.0</td><td>0.0</td><td>0.0</td><td>0.0</td><td>0.0</td><td>0.0</td></tr><tr><th>13</th><td>2012.0</td><td>3.28537</td><td>0.0</td><td>0.0</td><td>0.0</td><td>0.0</td><td>0.0</td><td>0.0</td></tr><tr><th>14</th><td>2012.0</td><td>2.49424</td><td>0.0</td><td>0.0</td><td>0.0</td><td>0.0</td><td>0.0</td><td>0.0</td></tr><tr><th>15</th><td>2012.0</td><td>2.8997</td><td>0.0</td><td>0.0</td><td>1.0</td><td>0.0</td><td>0.0</td><td>0.0</td></tr><tr><th>16</th><td>2012.0</td><td>3.09501</td><td>0.0</td><td>0.0</td><td>0.0</td><td>0.0</td><td>0.0</td><td>0.0</td></tr><tr><th>17</th><td>2012.0</td><td>2.53897</td><td>0.0</td><td>0.0</td><td>0.0</td><td>0.0</td><td>0.0</td><td>0.0</td></tr><tr><th>18</th><td>2012.0</td><td>2.18675</td><td>1.0</td><td>0.0</td><td>0.0</td><td>0.0</td><td>0.0</td><td>0.0</td></tr><tr><th>19</th><td>2012.0</td><td>2.65676</td><td>1.0</td><td>0.0</td><td>0.0</td><td>0.0</td><td>1.0</td><td>0.0</td></tr><tr><th>20</th><td>2012.0</td><td>3.06222</td><td>1.0</td><td>0.0</td><td>0.0</td><td>0.0</td><td>0.0</td><td>0.0</td></tr><tr><th>21</th><td>2012.0</td><td>3.06222</td><td>0.0</td><td>0.0</td><td>0.0</td><td>1.0</td><td>0.0</td><td>0.0</td></tr><tr><th>22</th><td>2012.0</td><td>3.55057</td><td>0.0</td><td>0.0</td><td>0.0</td><td>0.0</td><td>0.0</td><td>0.0</td></tr><tr><th>23</th><td>2012.0</td><td>1.65345</td><td>0.0</td><td>0.0</td><td>0.0</td><td>0.0</td><td>0.0</td><td>0.0</td></tr><tr><th>24</th><td>2012.0</td><td>3.01093</td><td>0.0</td><td>0.0</td><td>0.0</td><td>0.0</td><td>0.0</td><td>0.0</td></tr><tr><th>25</th><td>2012.0</td><td>2.65676</td><td>0.0</td><td>0.0</td><td>0.0</td><td>0.0</td><td>0.0</td><td>0.0</td></tr><tr><th>26</th><td>2012.0</td><td>3.21954</td><td>0.0</td><td>0.0</td><td>0.0</td><td>0.0</td><td>1.0</td><td>0.0</td></tr><tr><th>27</th><td>2012.0</td><td>2.68493</td><td>1.0</td><td>0.0</td><td>0.0</td><td>0.0</td><td>1.0</td><td>0.0</td></tr><tr><th>28</th><td>2012.0</td><td>2.75207</td><td>0.0</td><td>0.0</td><td>0.0</td><td>0.0</td><td>0.0</td><td>0.0</td></tr><tr><th>29</th><td>2012.0</td><td>2.14593</td><td>1.0</td><td>0.0</td><td>0.0</td><td>0.0</td><td>1.0</td><td>0.0</td></tr><tr><th>30</th><td>2012.0</td><td>2.83908</td><td>0.0</td><td>0.0</td><td>0.0</td><td>0.0</td><td>1.0</td><td>0.0</td></tr><tr><th>&vellip;</th><td>&vellip;</td><td>&vellip;</td><td>&vellip;</td><td>&vellip;</td><td>&vellip;</td><td>&vellip;</td><td>&vellip;</td><td>&vellip;</td></tr></tbody></table>"
      ],
      "text/latex": [
       "\\begin{tabular}{r|ccccccccc}\n",
       "\t& year & lnw & female & widowed & divorced & separated & nevermarried & hsd08 & \\\\\n",
       "\t\\hline\n",
       "\t& Float64 & Float64 & Float64 & Float64 & Float64 & Float64 & Float64 & Float64 & \\\\\n",
       "\t\\hline\n",
       "\t1 & 2012.0 & 3.96509 & 0.0 & 0.0 & 0.0 & 0.0 & 0.0 & 0.0 & $\\dots$ \\\\\n",
       "\t2 & 2012.0 & 4.67166 & 1.0 & 0.0 & 0.0 & 0.0 & 0.0 & 0.0 & $\\dots$ \\\\\n",
       "\t3 & 2012.0 & 2.81803 & 0.0 & 0.0 & 1.0 & 0.0 & 0.0 & 0.0 & $\\dots$ \\\\\n",
       "\t4 & 2012.0 & 2.58776 & 0.0 & 0.0 & 0.0 & 0.0 & 0.0 & 0.0 & $\\dots$ \\\\\n",
       "\t5 & 2012.0 & 1.85825 & 1.0 & 0.0 & 0.0 & 0.0 & 1.0 & 0.0 & $\\dots$ \\\\\n",
       "\t6 & 2012.0 & 1.335 & 0.0 & 0.0 & 0.0 & 0.0 & 0.0 & 0.0 & $\\dots$ \\\\\n",
       "\t7 & 2012.0 & 3.21637 & 0.0 & 0.0 & 0.0 & 0.0 & 0.0 & 0.0 & $\\dots$ \\\\\n",
       "\t8 & 2012.0 & 3.14226 & 1.0 & 0.0 & 0.0 & 0.0 & 0.0 & 0.0 & $\\dots$ \\\\\n",
       "\t9 & 2012.0 & 3.46769 & 0.0 & 0.0 & 0.0 & 0.0 & 0.0 & 0.0 & $\\dots$ \\\\\n",
       "\t10 & 2012.0 & 2.77632 & 0.0 & 0.0 & 0.0 & 0.0 & 1.0 & 0.0 & $\\dots$ \\\\\n",
       "\t11 & 2012.0 & 2.5788 & 0.0 & 0.0 & 0.0 & 0.0 & 0.0 & 0.0 & $\\dots$ \\\\\n",
       "\t12 & 2012.0 & 2.22597 & 1.0 & 0.0 & 0.0 & 0.0 & 0.0 & 0.0 & $\\dots$ \\\\\n",
       "\t13 & 2012.0 & 3.28537 & 0.0 & 0.0 & 0.0 & 0.0 & 0.0 & 0.0 & $\\dots$ \\\\\n",
       "\t14 & 2012.0 & 2.49424 & 0.0 & 0.0 & 0.0 & 0.0 & 0.0 & 0.0 & $\\dots$ \\\\\n",
       "\t15 & 2012.0 & 2.8997 & 0.0 & 0.0 & 1.0 & 0.0 & 0.0 & 0.0 & $\\dots$ \\\\\n",
       "\t16 & 2012.0 & 3.09501 & 0.0 & 0.0 & 0.0 & 0.0 & 0.0 & 0.0 & $\\dots$ \\\\\n",
       "\t17 & 2012.0 & 2.53897 & 0.0 & 0.0 & 0.0 & 0.0 & 0.0 & 0.0 & $\\dots$ \\\\\n",
       "\t18 & 2012.0 & 2.18675 & 1.0 & 0.0 & 0.0 & 0.0 & 0.0 & 0.0 & $\\dots$ \\\\\n",
       "\t19 & 2012.0 & 2.65676 & 1.0 & 0.0 & 0.0 & 0.0 & 1.0 & 0.0 & $\\dots$ \\\\\n",
       "\t20 & 2012.0 & 3.06222 & 1.0 & 0.0 & 0.0 & 0.0 & 0.0 & 0.0 & $\\dots$ \\\\\n",
       "\t21 & 2012.0 & 3.06222 & 0.0 & 0.0 & 0.0 & 1.0 & 0.0 & 0.0 & $\\dots$ \\\\\n",
       "\t22 & 2012.0 & 3.55057 & 0.0 & 0.0 & 0.0 & 0.0 & 0.0 & 0.0 & $\\dots$ \\\\\n",
       "\t23 & 2012.0 & 1.65345 & 0.0 & 0.0 & 0.0 & 0.0 & 0.0 & 0.0 & $\\dots$ \\\\\n",
       "\t24 & 2012.0 & 3.01093 & 0.0 & 0.0 & 0.0 & 0.0 & 0.0 & 0.0 & $\\dots$ \\\\\n",
       "\t25 & 2012.0 & 2.65676 & 0.0 & 0.0 & 0.0 & 0.0 & 0.0 & 0.0 & $\\dots$ \\\\\n",
       "\t26 & 2012.0 & 3.21954 & 0.0 & 0.0 & 0.0 & 0.0 & 1.0 & 0.0 & $\\dots$ \\\\\n",
       "\t27 & 2012.0 & 2.68493 & 1.0 & 0.0 & 0.0 & 0.0 & 1.0 & 0.0 & $\\dots$ \\\\\n",
       "\t28 & 2012.0 & 2.75207 & 0.0 & 0.0 & 0.0 & 0.0 & 0.0 & 0.0 & $\\dots$ \\\\\n",
       "\t29 & 2012.0 & 2.14593 & 1.0 & 0.0 & 0.0 & 0.0 & 1.0 & 0.0 & $\\dots$ \\\\\n",
       "\t30 & 2012.0 & 2.83908 & 0.0 & 0.0 & 0.0 & 0.0 & 1.0 & 0.0 & $\\dots$ \\\\\n",
       "\t$\\dots$ & $\\dots$ & $\\dots$ & $\\dots$ & $\\dots$ & $\\dots$ & $\\dots$ & $\\dots$ & $\\dots$ &  \\\\\n",
       "\\end{tabular}\n"
      ],
      "text/plain": [
       "\u001b[1m21912×23 DataFrame\u001b[0m\n",
       "\u001b[1m   Row \u001b[0m│\u001b[1m year    \u001b[0m\u001b[1m lnw     \u001b[0m\u001b[1m female  \u001b[0m\u001b[1m widowed \u001b[0m\u001b[1m divorced \u001b[0m\u001b[1m separated \u001b[0m\u001b[1m nevermarried\u001b[0m ⋯\n",
       "\u001b[1m       \u001b[0m│\u001b[90m Float64 \u001b[0m\u001b[90m Float64 \u001b[0m\u001b[90m Float64 \u001b[0m\u001b[90m Float64 \u001b[0m\u001b[90m Float64  \u001b[0m\u001b[90m Float64   \u001b[0m\u001b[90m Float64     \u001b[0m ⋯\n",
       "───────┼────────────────────────────────────────────────────────────────────────\n",
       "     1 │  2012.0  3.96509      0.0      0.0       0.0        0.0           0.0 ⋯\n",
       "     2 │  2012.0  4.67166      1.0      0.0       0.0        0.0           0.0\n",
       "     3 │  2012.0  2.81803      0.0      0.0       1.0        0.0           0.0\n",
       "     4 │  2012.0  2.58776      0.0      0.0       0.0        0.0           0.0\n",
       "     5 │  2012.0  1.85825      1.0      0.0       0.0        0.0           1.0 ⋯\n",
       "     6 │  2012.0  1.335        0.0      0.0       0.0        0.0           0.0\n",
       "     7 │  2012.0  3.21637      0.0      0.0       0.0        0.0           0.0\n",
       "     8 │  2012.0  3.14226      1.0      0.0       0.0        0.0           0.0\n",
       "     9 │  2012.0  3.46769      0.0      0.0       0.0        0.0           0.0 ⋯\n",
       "    10 │  2012.0  2.77632      0.0      0.0       0.0        0.0           1.0\n",
       "    11 │  2012.0  2.5788       0.0      0.0       0.0        0.0           0.0\n",
       "   ⋮   │    ⋮        ⋮        ⋮        ⋮        ⋮          ⋮           ⋮       ⋱\n",
       " 21903 │  2012.0  2.71082      1.0      0.0       0.0        0.0           0.0\n",
       " 21904 │  2012.0  3.69527      0.0      0.0       0.0        0.0           0.0 ⋯\n",
       " 21905 │  2012.0  1.91232      1.0      0.0       0.0        0.0           0.0\n",
       " 21906 │  2012.0  3.09347      0.0      0.0       0.0        0.0           0.0\n",
       " 21907 │  2012.0  3.33873      0.0      0.0       0.0        0.0           0.0\n",
       " 21908 │  2012.0  2.8597       1.0      0.0       1.0        0.0           0.0 ⋯\n",
       " 21909 │  2012.0  3.04541      0.0      0.0       0.0        0.0           0.0\n",
       " 21910 │  2012.0  2.30008      1.0      0.0       0.0        0.0           0.0\n",
       " 21911 │  2012.0  2.53346      1.0      0.0       1.0        0.0           0.0\n",
       " 21912 │  2012.0  2.8597       1.0      0.0       0.0        0.0           0.0 ⋯\n",
       "\u001b[36m                                               16 columns and 21891 rows omitted\u001b[0m"
      ]
     },
     "execution_count": 18,
     "metadata": {},
     "output_type": "execute_result"
    }
   ],
   "source": [
    "data_train"
   ]
  },
  {
   "cell_type": "code",
   "execution_count": 19,
   "id": "a14eadb4",
   "metadata": {},
   "outputs": [
    {
     "data": {
      "text/plain": [
       "(7305, 23)"
      ]
     },
     "execution_count": 19,
     "metadata": {},
     "output_type": "execute_result"
    }
   ],
   "source": [
    "size(data_test)"
   ]
  },
  {
   "cell_type": "code",
   "execution_count": 20,
   "id": "b104d3e2",
   "metadata": {},
   "outputs": [
    {
     "data": {
      "text/plain": [
       "(21912, 23)"
      ]
     },
     "execution_count": 20,
     "metadata": {},
     "output_type": "execute_result"
    }
   ],
   "source": [
    "size(data_train)"
   ]
  },
  {
   "cell_type": "code",
   "execution_count": 21,
   "id": "be6788be",
   "metadata": {},
   "outputs": [
    {
     "data": {
      "text/plain": [
       "\"female + female * (widowed + divorced + separated + nevermarried +\\nhsd08 + hsd911 + hsg + cg + ad + mw + so + we + exp1 + exp2 + exp3) + (widowed + divorced + separated + nevermarried + hsd08 + hsd911 + hsg + cg + ad + mw + so +we + exp1 + exp2 + exp3) ^ 2\""
      ]
     },
     "execution_count": 21,
     "metadata": {},
     "output_type": "execute_result"
    }
   ],
   "source": [
    "X_basic =  \"female + female * (widowed + divorced + separated + nevermarried +\n",
    "hsd08 + hsd911 + hsg + cg + ad + mw + so + we + exp1 + exp2 + exp3)\"\n",
    "X_flex = \"female + female * (widowed + divorced + separated + nevermarried +\n",
    "hsd08 + hsd911 + hsg + cg + ad + mw + so + we + exp1 + exp2 + exp3) + (widowed + divorced + separated + nevermarried + hsd08 + hsd911 + hsg + cg + ad + mw + so +we + exp1 + exp2 + exp3) ^ 2\""
   ]
  },
  {
   "cell_type": "code",
   "execution_count": 22,
   "id": "200f953e",
   "metadata": {},
   "outputs": [
    {
     "data": {
      "text/plain": [
       "FormulaTerm\n",
       "Response:\n",
       "  lnw(unknown)\n",
       "Predictors:\n",
       "  female(unknown)\n",
       "  widowed(unknown)\n",
       "  divorced(unknown)\n",
       "  separated(unknown)\n",
       "  nevermarried(unknown)\n",
       "  hsd08(unknown)\n",
       "  hsd911(unknown)\n",
       "  hsg(unknown)\n",
       "  cg(unknown)\n",
       "  ad(unknown)\n",
       "  mw(unknown)\n",
       "  so(unknown)\n",
       "  we(unknown)\n",
       "  exp1(unknown)\n",
       "  exp2(unknown)\n",
       "  exp3(unknown)\n",
       "  (widowed,divorced,separated,nevermarried,hsd08,hsd911,hsg,cg,ad,mw,so,we,exp1,exp2,exp3)->(widowed + divorced + separated + nevermarried + hsd08 + hsd911 + hsg + cg + ad + mw + so + we + exp1 + exp2 + exp3) ^ 2\n",
       "  female(unknown) & widowed(unknown)\n",
       "  female(unknown) & divorced(unknown)\n",
       "  female(unknown) & separated(unknown)\n",
       "  female(unknown) & nevermarried(unknown)\n",
       "  female(unknown) & hsd08(unknown)\n",
       "  female(unknown) & hsd911(unknown)\n",
       "  female(unknown) & hsg(unknown)\n",
       "  female(unknown) & cg(unknown)\n",
       "  female(unknown) & ad(unknown)\n",
       "  female(unknown) & mw(unknown)\n",
       "  female(unknown) & so(unknown)\n",
       "  female(unknown) & we(unknown)\n",
       "  female(unknown) & exp1(unknown)\n",
       "  female(unknown) & exp2(unknown)\n",
       "  female(unknown) & exp3(unknown)"
      ]
     },
     "execution_count": 22,
     "metadata": {},
     "output_type": "execute_result"
    }
   ],
   "source": [
    "formula_basic = @formula(lnw ~ (female + female * (widowed + divorced + separated + nevermarried +\n",
    "hsd08 + hsd911 + hsg + cg + ad + mw + so + we + exp1 + exp2 + exp3) ))\n",
    "formula_flex = @formula(lnw ~ female + female * (widowed + divorced + separated + nevermarried +\n",
    "hsd08 + hsd911 + hsg + cg + ad + mw + so + we + exp1 + exp2 + exp3) + (widowed + divorced + separated + nevermarried + hsd08 + hsd911 + hsg + cg + ad + mw + so +we + exp1 + exp2 + exp3) ^ 2)"
   ]
  },
  {
   "cell_type": "code",
   "execution_count": 23,
   "id": "f6f35c97",
   "metadata": {},
   "outputs": [
    {
     "data": {
      "text/plain": [
       "32"
      ]
     },
     "execution_count": 23,
     "metadata": {},
     "output_type": "execute_result"
    }
   ],
   "source": [
    "model_X_basic_train = ModelMatrix(ModelFrame(formula_basic,data_train)).m\n",
    "model_X_basic_test = ModelMatrix(ModelFrame(formula_basic,data_test)).m\n",
    "p_basic = size(model_X_basic_test)[2]"
   ]
  },
  {
   "cell_type": "code",
   "execution_count": 24,
   "id": "7ccb0411",
   "metadata": {},
   "outputs": [
    {
     "data": {
      "text/plain": [
       "33"
      ]
     },
     "execution_count": 24,
     "metadata": {},
     "output_type": "execute_result"
    }
   ],
   "source": [
    "model_X_flex_train = ModelMatrix(ModelFrame(formula_flex,data_train)).m\n",
    "model_X_flex_test = ModelMatrix(ModelFrame(formula_flex,data_test)).m\n",
    "p_flex = size(model_X_flex_test)[2]"
   ]
  },
  {
   "cell_type": "code",
   "execution_count": 25,
   "id": "7247f3e9",
   "metadata": {},
   "outputs": [],
   "source": [
    "Y_train = data_train[!, [\"lnw\"]] # Dataframe format\n",
    "Y_test = data_test[ !,  [\"lnw\"]];"
   ]
  },
  {
   "cell_type": "markdown",
   "id": "a4d93168",
   "metadata": {},
   "source": [
    "### OLS"
   ]
  },
  {
   "cell_type": "markdown",
   "id": "515470a3",
   "metadata": {},
   "source": [
    "Basic Model"
   ]
  },
  {
   "cell_type": "code",
   "execution_count": 26,
   "id": "f3d079b8",
   "metadata": {},
   "outputs": [
    {
     "data": {
      "text/plain": [
       "StatsModels.TableRegressionModel{LinearModel{GLM.LmResp{Vector{Float64}}, GLM.DensePredChol{Float64, CholeskyPivoted{Float64, Matrix{Float64}}}}, Matrix{Float64}}\n",
       "\n",
       "lnw ~ 1 + female + widowed + divorced + separated + nevermarried + hsd08 + hsd911 + hsg + cg + ad + mw + so + we + exp1 + exp2 + exp3 + female & widowed + female & divorced + female & separated + female & nevermarried + female & hsd08 + female & hsd911 + female & hsg + female & cg + female & ad + female & mw + female & so + female & we + female & exp1 + female & exp2 + female & exp3\n",
       "\n",
       "Coefficients:\n",
       "───────────────────────────────────────────────────────────────────────────────────────────\n",
       "                             Coef.  Std. Error       t  Pr(>|t|)    Lower 95%     Upper 95%\n",
       "───────────────────────────────────────────────────────────────────────────────────────────\n",
       "(Intercept)             2.34132     0.0419836    55.77    <1e-99   2.25903      2.42361\n",
       "female                 -0.116525    0.0601993    -1.94    0.0529  -0.234521     0.00146957\n",
       "widowed                -0.264326    0.0875488    -3.02    0.0025  -0.435928    -0.0927239\n",
       "divorced               -0.160589    0.0186157    -8.63    <1e-17  -0.197077    -0.124101\n",
       "separated              -0.0934448   0.0438854    -2.13    0.0332  -0.179463    -0.00742619\n",
       "nevermarried           -0.196611    0.0153672   -12.79    <1e-36  -0.226732    -0.16649\n",
       "hsd08                  -0.633344    0.0696625    -9.09    <1e-18  -0.769888    -0.4968\n",
       "hsd911                 -0.382264    0.0324642   -11.77    <1e-31  -0.445896    -0.318632\n",
       "hsg                    -0.162259    0.0141999   -11.43    <1e-29  -0.190092    -0.134426\n",
       "cg                      0.347729    0.0141383    24.59    <1e-99   0.320017     0.375441\n",
       "ad                      0.606021    0.0170873    35.47    <1e-99   0.572529     0.639513\n",
       "mw                     -0.102292    0.0146671    -6.97    <1e-11  -0.13104     -0.073543\n",
       "so                     -0.0501665   0.0146704    -3.42    0.0006  -0.0789215   -0.0214114\n",
       "we                     -0.00939775  0.015787     -0.60    0.5517  -0.0403414    0.0215459\n",
       "exp1                    0.0658131   0.00757947    8.68    <1e-17   0.0509568    0.0806694\n",
       "exp2                   -0.248389    0.0443372    -5.60    <1e-07  -0.335293    -0.161485\n",
       "exp3                    0.032791    0.00781917    4.19    <1e-04   0.0174648    0.0481171\n",
       "female & widowed        0.206595    0.100868      2.05    0.0406   0.00888719   0.404303\n",
       "female & divorced       0.152986    0.0255602     5.99    <1e-08   0.102886     0.203086\n",
       "female & separated      0.00295954  0.0607213     0.05    0.9611  -0.116059     0.121978\n",
       "female & nevermarried   0.160875    0.0232724     6.91    <1e-11   0.11526      0.206491\n",
       "female & hsd08         -0.0439725   0.145722     -0.30    0.7628  -0.329598     0.241653\n",
       "female & hsd911        -0.17561     0.059001     -2.98    0.0029  -0.291256    -0.0599634\n",
       "female & hsg           -0.0402239   0.0221791    -1.81    0.0698  -0.0836965    0.0032488\n",
       "female & cg             0.00889507  0.0212463     0.42    0.6755  -0.0327492    0.0505394\n",
       "female & ad            -0.0129181   0.0253504    -0.51    0.6103  -0.0626067    0.0367704\n",
       "female & mw            -0.014039    0.0222394    -0.63    0.5279  -0.0576299    0.0295519\n",
       "female & so            -0.00860687  0.0223545    -0.39    0.7002  -0.0524233    0.0352095\n",
       "female & we            -0.00351238  0.0244777    -0.14    0.8859  -0.0514905    0.0444658\n",
       "female & exp1          -0.0215324   0.011048     -1.95    0.0513  -0.0431872    0.000122523\n",
       "female & exp2           0.0667108   0.0658428     1.01    0.3110  -0.0623459    0.195768\n",
       "female & exp3          -0.00591077  0.0117609    -0.50    0.6153  -0.0289629    0.0171414\n",
       "───────────────────────────────────────────────────────────────────────────────────────────"
      ]
     },
     "execution_count": 26,
     "metadata": {},
     "output_type": "execute_result"
    }
   ],
   "source": [
    "fit_lm_basic = lm(formula_basic, data_train)"
   ]
  },
  {
   "cell_type": "code",
   "execution_count": 27,
   "id": "c0aba63a",
   "metadata": {},
   "outputs": [
    {
     "name": "stdout",
     "output_type": "stream",
     "text": [
      "The mean squared error (MSE) using the basic model is equal to 0.3197191827586173"
     ]
    }
   ],
   "source": [
    "# Compute the Out-Of-Sample Performance\n",
    "yhat_lm_basic = GLM.predict( fit_lm_basic , data_test )\n",
    "res_lm_basic = ( Y_test[!,1] - yhat_lm_basic ).^ 2\n",
    "print(\"The mean squared error (MSE) using the basic model is equal to \" , mean( res_lm_basic ) )"
   ]
  },
  {
   "cell_type": "code",
   "execution_count": 28,
   "id": "880dfc60",
   "metadata": {},
   "outputs": [
    {
     "data": {
      "text/plain": [
       "2-element Vector{Vector{Float64}}:\n",
       " [0.31971918275861716]\n",
       " [0.01426787337774709]"
      ]
     },
     "execution_count": 28,
     "metadata": {},
     "output_type": "execute_result"
    }
   ],
   "source": [
    "matrix_ones = ones( size(res_lm_basic)[1] ,1 )\n",
    "mean_residuals = lm(  matrix_ones, res_lm_basic )   # first argument (X), second argument (Y)\n",
    "MSE_lm_basic = [ coef( mean_residuals ) , stderror( mean_residuals ) ]\n",
    "MSE_lm_basic"
   ]
  },
  {
   "cell_type": "code",
   "execution_count": 29,
   "id": "76710ebe",
   "metadata": {},
   "outputs": [
    {
     "name": "stdout",
     "output_type": "stream",
     "text": [
      "The R^2 using the basic model is equal to 0.2460196456463355"
     ]
    }
   ],
   "source": [
    "R2_lm_basic = 1 .- ( MSE_lm_basic[1] / var( Y_test[!,1] ) )\n",
    "print( \"The R^2 using the basic model is equal to \", R2_lm_basic[1] ) # MSE OLS (basic model)"
   ]
  },
  {
   "cell_type": "markdown",
   "id": "eacd72da",
   "metadata": {},
   "source": [
    "Flexible Model"
   ]
  },
  {
   "cell_type": "code",
   "execution_count": 30,
   "id": "9c2b09a4",
   "metadata": {
    "scrolled": true
   },
   "outputs": [
    {
     "name": "stdout",
     "output_type": "stream",
     "text": [
      "The R^2 using the basic model is equal to 0.2459184061661842"
     ]
    }
   ],
   "source": [
    "# ols (flexible model)\n",
    "fit_lm_flex = lm( formula_flex, data_train ) \n",
    "yhat_lm_flex = GLM.predict( fit_lm_flex, data_test)\n",
    "\n",
    "res_lm_flex = ( Y_test[!,1] - yhat_lm_flex ) .^ 2\n",
    "mean_residuals = lm(  matrix_ones, res_lm_flex )\n",
    "MSE_lm_flex = [ coef( mean_residuals ) , stderror( mean_residuals ) ]\n",
    "\n",
    "R2_lm_flex = 1 .- ( MSE_lm_flex[1] / var( Y_test[!,1] ) )\n",
    "print( \"The R^2 using the basic model is equal to \", R2_lm_flex[1] ) # MSE OLS (flex model)"
   ]
  },
  {
   "cell_type": "markdown",
   "id": "a8b5ab4c",
   "metadata": {},
   "source": [
    "### Lasso, Ridge and Elastic Net"
   ]
  },
  {
   "cell_type": "code",
   "execution_count": 31,
   "id": "5b9013da",
   "metadata": {},
   "outputs": [],
   "source": [
    "# load HDM package\n",
    "\n",
    "include(\"../Julia_Notebooks/hdmjl/hdmjl.jl\")"
   ]
  },
  {
   "cell_type": "markdown",
   "id": "da1482a7",
   "metadata": {},
   "source": [
    "Basic Model"
   ]
  },
  {
   "cell_type": "code",
   "execution_count": 32,
   "id": "ddbae7bf",
   "metadata": {},
   "outputs": [
    {
     "data": {
      "text/html": [
       "<table class=\"data-frame\"><thead><tr><th></th><th>(Intercept)</th><th>female</th><th>widowed</th><th>divorced</th><th>separated</th><th>nevermarried</th><th>hsd08</th><th>hsd911</th></tr><tr><th></th><th>Float64</th><th>Float64</th><th>Float64</th><th>Float64</th><th>Float64</th><th>Float64</th><th>Float64</th><th>Float64</th></tr></thead><tbody><p>21,912 rows × 32 columns (omitted printing of 24 columns)</p><tr><th>1</th><td>1.0</td><td>0.0</td><td>0.0</td><td>0.0</td><td>0.0</td><td>0.0</td><td>0.0</td><td>0.0</td></tr><tr><th>2</th><td>1.0</td><td>1.0</td><td>0.0</td><td>0.0</td><td>0.0</td><td>0.0</td><td>0.0</td><td>0.0</td></tr><tr><th>3</th><td>1.0</td><td>0.0</td><td>0.0</td><td>1.0</td><td>0.0</td><td>0.0</td><td>0.0</td><td>0.0</td></tr><tr><th>4</th><td>1.0</td><td>0.0</td><td>0.0</td><td>0.0</td><td>0.0</td><td>0.0</td><td>0.0</td><td>0.0</td></tr><tr><th>5</th><td>1.0</td><td>1.0</td><td>0.0</td><td>0.0</td><td>0.0</td><td>1.0</td><td>0.0</td><td>0.0</td></tr><tr><th>6</th><td>1.0</td><td>0.0</td><td>0.0</td><td>0.0</td><td>0.0</td><td>0.0</td><td>0.0</td><td>0.0</td></tr><tr><th>7</th><td>1.0</td><td>0.0</td><td>0.0</td><td>0.0</td><td>0.0</td><td>0.0</td><td>0.0</td><td>0.0</td></tr><tr><th>8</th><td>1.0</td><td>1.0</td><td>0.0</td><td>0.0</td><td>0.0</td><td>0.0</td><td>0.0</td><td>0.0</td></tr><tr><th>9</th><td>1.0</td><td>0.0</td><td>0.0</td><td>0.0</td><td>0.0</td><td>0.0</td><td>0.0</td><td>0.0</td></tr><tr><th>10</th><td>1.0</td><td>0.0</td><td>0.0</td><td>0.0</td><td>0.0</td><td>1.0</td><td>0.0</td><td>0.0</td></tr><tr><th>11</th><td>1.0</td><td>0.0</td><td>0.0</td><td>0.0</td><td>0.0</td><td>0.0</td><td>0.0</td><td>0.0</td></tr><tr><th>12</th><td>1.0</td><td>1.0</td><td>0.0</td><td>0.0</td><td>0.0</td><td>0.0</td><td>0.0</td><td>0.0</td></tr><tr><th>13</th><td>1.0</td><td>0.0</td><td>0.0</td><td>0.0</td><td>0.0</td><td>0.0</td><td>0.0</td><td>0.0</td></tr><tr><th>14</th><td>1.0</td><td>0.0</td><td>0.0</td><td>0.0</td><td>0.0</td><td>0.0</td><td>0.0</td><td>0.0</td></tr><tr><th>15</th><td>1.0</td><td>0.0</td><td>0.0</td><td>1.0</td><td>0.0</td><td>0.0</td><td>0.0</td><td>0.0</td></tr><tr><th>16</th><td>1.0</td><td>0.0</td><td>0.0</td><td>0.0</td><td>0.0</td><td>0.0</td><td>0.0</td><td>0.0</td></tr><tr><th>17</th><td>1.0</td><td>0.0</td><td>0.0</td><td>0.0</td><td>0.0</td><td>0.0</td><td>0.0</td><td>0.0</td></tr><tr><th>18</th><td>1.0</td><td>1.0</td><td>0.0</td><td>0.0</td><td>0.0</td><td>0.0</td><td>0.0</td><td>0.0</td></tr><tr><th>19</th><td>1.0</td><td>1.0</td><td>0.0</td><td>0.0</td><td>0.0</td><td>1.0</td><td>0.0</td><td>0.0</td></tr><tr><th>20</th><td>1.0</td><td>1.0</td><td>0.0</td><td>0.0</td><td>0.0</td><td>0.0</td><td>0.0</td><td>0.0</td></tr><tr><th>21</th><td>1.0</td><td>0.0</td><td>0.0</td><td>0.0</td><td>1.0</td><td>0.0</td><td>0.0</td><td>0.0</td></tr><tr><th>22</th><td>1.0</td><td>0.0</td><td>0.0</td><td>0.0</td><td>0.0</td><td>0.0</td><td>0.0</td><td>0.0</td></tr><tr><th>23</th><td>1.0</td><td>0.0</td><td>0.0</td><td>0.0</td><td>0.0</td><td>0.0</td><td>0.0</td><td>0.0</td></tr><tr><th>24</th><td>1.0</td><td>0.0</td><td>0.0</td><td>0.0</td><td>0.0</td><td>0.0</td><td>0.0</td><td>0.0</td></tr><tr><th>25</th><td>1.0</td><td>0.0</td><td>0.0</td><td>0.0</td><td>0.0</td><td>0.0</td><td>0.0</td><td>0.0</td></tr><tr><th>26</th><td>1.0</td><td>0.0</td><td>0.0</td><td>0.0</td><td>0.0</td><td>1.0</td><td>0.0</td><td>0.0</td></tr><tr><th>27</th><td>1.0</td><td>1.0</td><td>0.0</td><td>0.0</td><td>0.0</td><td>1.0</td><td>0.0</td><td>0.0</td></tr><tr><th>28</th><td>1.0</td><td>0.0</td><td>0.0</td><td>0.0</td><td>0.0</td><td>0.0</td><td>0.0</td><td>0.0</td></tr><tr><th>29</th><td>1.0</td><td>1.0</td><td>0.0</td><td>0.0</td><td>0.0</td><td>1.0</td><td>0.0</td><td>0.0</td></tr><tr><th>30</th><td>1.0</td><td>0.0</td><td>0.0</td><td>0.0</td><td>0.0</td><td>1.0</td><td>0.0</td><td>0.0</td></tr><tr><th>&vellip;</th><td>&vellip;</td><td>&vellip;</td><td>&vellip;</td><td>&vellip;</td><td>&vellip;</td><td>&vellip;</td><td>&vellip;</td><td>&vellip;</td></tr></tbody></table>"
      ],
      "text/latex": [
       "\\begin{tabular}{r|ccccccccc}\n",
       "\t& (Intercept) & female & widowed & divorced & separated & nevermarried & hsd08 & hsd911 & \\\\\n",
       "\t\\hline\n",
       "\t& Float64 & Float64 & Float64 & Float64 & Float64 & Float64 & Float64 & Float64 & \\\\\n",
       "\t\\hline\n",
       "\t1 & 1.0 & 0.0 & 0.0 & 0.0 & 0.0 & 0.0 & 0.0 & 0.0 & $\\dots$ \\\\\n",
       "\t2 & 1.0 & 1.0 & 0.0 & 0.0 & 0.0 & 0.0 & 0.0 & 0.0 & $\\dots$ \\\\\n",
       "\t3 & 1.0 & 0.0 & 0.0 & 1.0 & 0.0 & 0.0 & 0.0 & 0.0 & $\\dots$ \\\\\n",
       "\t4 & 1.0 & 0.0 & 0.0 & 0.0 & 0.0 & 0.0 & 0.0 & 0.0 & $\\dots$ \\\\\n",
       "\t5 & 1.0 & 1.0 & 0.0 & 0.0 & 0.0 & 1.0 & 0.0 & 0.0 & $\\dots$ \\\\\n",
       "\t6 & 1.0 & 0.0 & 0.0 & 0.0 & 0.0 & 0.0 & 0.0 & 0.0 & $\\dots$ \\\\\n",
       "\t7 & 1.0 & 0.0 & 0.0 & 0.0 & 0.0 & 0.0 & 0.0 & 0.0 & $\\dots$ \\\\\n",
       "\t8 & 1.0 & 1.0 & 0.0 & 0.0 & 0.0 & 0.0 & 0.0 & 0.0 & $\\dots$ \\\\\n",
       "\t9 & 1.0 & 0.0 & 0.0 & 0.0 & 0.0 & 0.0 & 0.0 & 0.0 & $\\dots$ \\\\\n",
       "\t10 & 1.0 & 0.0 & 0.0 & 0.0 & 0.0 & 1.0 & 0.0 & 0.0 & $\\dots$ \\\\\n",
       "\t11 & 1.0 & 0.0 & 0.0 & 0.0 & 0.0 & 0.0 & 0.0 & 0.0 & $\\dots$ \\\\\n",
       "\t12 & 1.0 & 1.0 & 0.0 & 0.0 & 0.0 & 0.0 & 0.0 & 0.0 & $\\dots$ \\\\\n",
       "\t13 & 1.0 & 0.0 & 0.0 & 0.0 & 0.0 & 0.0 & 0.0 & 0.0 & $\\dots$ \\\\\n",
       "\t14 & 1.0 & 0.0 & 0.0 & 0.0 & 0.0 & 0.0 & 0.0 & 0.0 & $\\dots$ \\\\\n",
       "\t15 & 1.0 & 0.0 & 0.0 & 1.0 & 0.0 & 0.0 & 0.0 & 0.0 & $\\dots$ \\\\\n",
       "\t16 & 1.0 & 0.0 & 0.0 & 0.0 & 0.0 & 0.0 & 0.0 & 0.0 & $\\dots$ \\\\\n",
       "\t17 & 1.0 & 0.0 & 0.0 & 0.0 & 0.0 & 0.0 & 0.0 & 0.0 & $\\dots$ \\\\\n",
       "\t18 & 1.0 & 1.0 & 0.0 & 0.0 & 0.0 & 0.0 & 0.0 & 0.0 & $\\dots$ \\\\\n",
       "\t19 & 1.0 & 1.0 & 0.0 & 0.0 & 0.0 & 1.0 & 0.0 & 0.0 & $\\dots$ \\\\\n",
       "\t20 & 1.0 & 1.0 & 0.0 & 0.0 & 0.0 & 0.0 & 0.0 & 0.0 & $\\dots$ \\\\\n",
       "\t21 & 1.0 & 0.0 & 0.0 & 0.0 & 1.0 & 0.0 & 0.0 & 0.0 & $\\dots$ \\\\\n",
       "\t22 & 1.0 & 0.0 & 0.0 & 0.0 & 0.0 & 0.0 & 0.0 & 0.0 & $\\dots$ \\\\\n",
       "\t23 & 1.0 & 0.0 & 0.0 & 0.0 & 0.0 & 0.0 & 0.0 & 0.0 & $\\dots$ \\\\\n",
       "\t24 & 1.0 & 0.0 & 0.0 & 0.0 & 0.0 & 0.0 & 0.0 & 0.0 & $\\dots$ \\\\\n",
       "\t25 & 1.0 & 0.0 & 0.0 & 0.0 & 0.0 & 0.0 & 0.0 & 0.0 & $\\dots$ \\\\\n",
       "\t26 & 1.0 & 0.0 & 0.0 & 0.0 & 0.0 & 1.0 & 0.0 & 0.0 & $\\dots$ \\\\\n",
       "\t27 & 1.0 & 1.0 & 0.0 & 0.0 & 0.0 & 1.0 & 0.0 & 0.0 & $\\dots$ \\\\\n",
       "\t28 & 1.0 & 0.0 & 0.0 & 0.0 & 0.0 & 0.0 & 0.0 & 0.0 & $\\dots$ \\\\\n",
       "\t29 & 1.0 & 1.0 & 0.0 & 0.0 & 0.0 & 1.0 & 0.0 & 0.0 & $\\dots$ \\\\\n",
       "\t30 & 1.0 & 0.0 & 0.0 & 0.0 & 0.0 & 1.0 & 0.0 & 0.0 & $\\dots$ \\\\\n",
       "\t$\\dots$ & $\\dots$ & $\\dots$ & $\\dots$ & $\\dots$ & $\\dots$ & $\\dots$ & $\\dots$ & $\\dots$ &  \\\\\n",
       "\\end{tabular}\n"
      ],
      "text/plain": [
       "\u001b[1m21912×32 DataFrame\u001b[0m\n",
       "\u001b[1m   Row \u001b[0m│\u001b[1m (Intercept) \u001b[0m\u001b[1m female  \u001b[0m\u001b[1m widowed \u001b[0m\u001b[1m divorced \u001b[0m\u001b[1m separated \u001b[0m\u001b[1m nevermarried \u001b[0m\u001b[1m hsd\u001b[0m ⋯\n",
       "\u001b[1m       \u001b[0m│\u001b[90m Float64     \u001b[0m\u001b[90m Float64 \u001b[0m\u001b[90m Float64 \u001b[0m\u001b[90m Float64  \u001b[0m\u001b[90m Float64   \u001b[0m\u001b[90m Float64      \u001b[0m\u001b[90m Flo\u001b[0m ⋯\n",
       "───────┼────────────────────────────────────────────────────────────────────────\n",
       "     1 │         1.0      0.0      0.0       0.0        0.0           0.0      ⋯\n",
       "     2 │         1.0      1.0      0.0       0.0        0.0           0.0\n",
       "     3 │         1.0      0.0      0.0       1.0        0.0           0.0\n",
       "     4 │         1.0      0.0      0.0       0.0        0.0           0.0\n",
       "     5 │         1.0      1.0      0.0       0.0        0.0           1.0      ⋯\n",
       "     6 │         1.0      0.0      0.0       0.0        0.0           0.0\n",
       "     7 │         1.0      0.0      0.0       0.0        0.0           0.0\n",
       "     8 │         1.0      1.0      0.0       0.0        0.0           0.0\n",
       "     9 │         1.0      0.0      0.0       0.0        0.0           0.0      ⋯\n",
       "    10 │         1.0      0.0      0.0       0.0        0.0           1.0\n",
       "    11 │         1.0      0.0      0.0       0.0        0.0           0.0\n",
       "   ⋮   │      ⋮          ⋮        ⋮        ⋮          ⋮           ⋮            ⋱\n",
       " 21903 │         1.0      1.0      0.0       0.0        0.0           0.0\n",
       " 21904 │         1.0      0.0      0.0       0.0        0.0           0.0      ⋯\n",
       " 21905 │         1.0      1.0      0.0       0.0        0.0           0.0\n",
       " 21906 │         1.0      0.0      0.0       0.0        0.0           0.0\n",
       " 21907 │         1.0      0.0      0.0       0.0        0.0           0.0\n",
       " 21908 │         1.0      1.0      0.0       1.0        0.0           0.0      ⋯\n",
       " 21909 │         1.0      0.0      0.0       0.0        0.0           0.0\n",
       " 21910 │         1.0      1.0      0.0       0.0        0.0           0.0\n",
       " 21911 │         1.0      1.0      0.0       1.0        0.0           0.0\n",
       " 21912 │         1.0      1.0      0.0       0.0        0.0           0.0      ⋯\n",
       "\u001b[36m                                               26 columns and 21891 rows omitted\u001b[0m"
      ]
     },
     "execution_count": 32,
     "metadata": {},
     "output_type": "execute_result"
    }
   ],
   "source": [
    "names_col1 = Symbol.(coefnames(fit_lm_basic))\n",
    "X1 = DataFrame(model_X_basic_train, names_col1 )"
   ]
  },
  {
   "cell_type": "code",
   "execution_count": 33,
   "id": "3e165bd2",
   "metadata": {},
   "outputs": [
    {
     "data": {
      "text/plain": [
       "1-element Vector{Float64}:\n",
       " 0.23478001021164974"
      ]
     },
     "execution_count": 33,
     "metadata": {},
     "output_type": "execute_result"
    }
   ],
   "source": [
    "# basic model \n",
    "# not post - lasso (HDM)\n",
    "# first false for Not post lasso, second false for not intercetp\n",
    "\n",
    "\n",
    "rlasso_basic  = rlasso_arg( X1, Y_train, nothing, false, false, true, false, false, \n",
    "                    nothing, 1.1, nothing, 5000, 15, 10^(-5), -Inf, true, Inf, true )\n",
    "\n",
    "fit_rlasso_basic = rlasso(rlasso_basic)\n",
    "\n",
    "\n",
    "# post - lasso (HDM)\n",
    "rlasso_basic_post  = rlasso_arg( X1, Y_train, nothing, true, false, true, false, false, \n",
    "                    nothing, 1.1, nothing, 5000, 15, 10^(-5), -Inf, true, Inf, true )\n",
    "\n",
    "fit_rlasso_basic_post = rlasso(rlasso_basic_post)\n",
    "\n",
    "yhat_rlasso = model_X_basic_test*fit_rlasso_basic[\"coefficients\"] \n",
    "yhat_rlasso_post = model_X_basic_test*fit_rlasso_basic_post[\"coefficients\"] \n",
    "\n",
    "\n",
    "res_rlasso_basic = ( Y_test[!,1] - yhat_rlasso ).^ 2\n",
    "matrix_ones = ones( size(res_rlasso_basic)[1] ,1 )\n",
    "mean_residuals = lm(  matrix_ones, res_rlasso_basic )  \n",
    "MSE_rlasso_basic = [ coef( mean_residuals ) , stderror( mean_residuals ) ]\n",
    "R2_rlasso_basic = 1 .- ( MSE_rlasso_basic[1] / var(Y_test[!,1]) ) \n",
    "\n",
    "res_rlasso_basic_post = ( Y_test[!,1] - yhat_rlasso_post ).^ 2\n",
    "matrix_ones = ones( size(res_rlasso_basic_post)[1] ,1 )\n",
    "mean_residuals = lm(  matrix_ones, res_rlasso_basic_post )  \n",
    "MSE_rlasso_basic_post = [ coef( mean_residuals ) , stderror( mean_residuals ) ]\n",
    "R2_rlasso_basic_post = 1 .- ( MSE_rlasso_basic_post[1] / var(Y_test[!,1]) )"
   ]
  },
  {
   "cell_type": "code",
   "execution_count": 34,
   "id": "fa05b292",
   "metadata": {},
   "outputs": [
    {
     "name": "stdout",
     "output_type": "stream",
     "text": [
      "The R^2 using the basic model is  0.22476106776662064 for lasso and 0.23478001021164974 for Post - lasso"
     ]
    }
   ],
   "source": [
    "print( \"The R^2 using the basic model is  \", R2_rlasso_basic[1] ,\" for lasso and \", R2_rlasso_basic_post[1] , \" for Post - lasso\") # MSE OLS (basic model) "
   ]
  },
  {
   "cell_type": "markdown",
   "id": "86b7a42d",
   "metadata": {},
   "source": [
    "Flexible Model"
   ]
  },
  {
   "cell_type": "code",
   "execution_count": 35,
   "id": "da518bbe",
   "metadata": {},
   "outputs": [
    {
     "data": {
      "text/html": [
       "<table class=\"data-frame\"><thead><tr><th></th><th>(Intercept)</th><th>female</th><th>widowed</th><th>divorced</th><th>separated</th><th>nevermarried</th><th>hsd08</th><th>hsd911</th></tr><tr><th></th><th>Float64</th><th>Float64</th><th>Float64</th><th>Float64</th><th>Float64</th><th>Float64</th><th>Float64</th><th>Float64</th></tr></thead><tbody><p>21,912 rows × 33 columns (omitted printing of 25 columns)</p><tr><th>1</th><td>1.0</td><td>0.0</td><td>0.0</td><td>0.0</td><td>0.0</td><td>0.0</td><td>0.0</td><td>0.0</td></tr><tr><th>2</th><td>1.0</td><td>1.0</td><td>0.0</td><td>0.0</td><td>0.0</td><td>0.0</td><td>0.0</td><td>0.0</td></tr><tr><th>3</th><td>1.0</td><td>0.0</td><td>0.0</td><td>1.0</td><td>0.0</td><td>0.0</td><td>0.0</td><td>0.0</td></tr><tr><th>4</th><td>1.0</td><td>0.0</td><td>0.0</td><td>0.0</td><td>0.0</td><td>0.0</td><td>0.0</td><td>0.0</td></tr><tr><th>5</th><td>1.0</td><td>1.0</td><td>0.0</td><td>0.0</td><td>0.0</td><td>1.0</td><td>0.0</td><td>0.0</td></tr><tr><th>6</th><td>1.0</td><td>0.0</td><td>0.0</td><td>0.0</td><td>0.0</td><td>0.0</td><td>0.0</td><td>0.0</td></tr><tr><th>7</th><td>1.0</td><td>0.0</td><td>0.0</td><td>0.0</td><td>0.0</td><td>0.0</td><td>0.0</td><td>0.0</td></tr><tr><th>8</th><td>1.0</td><td>1.0</td><td>0.0</td><td>0.0</td><td>0.0</td><td>0.0</td><td>0.0</td><td>0.0</td></tr><tr><th>9</th><td>1.0</td><td>0.0</td><td>0.0</td><td>0.0</td><td>0.0</td><td>0.0</td><td>0.0</td><td>0.0</td></tr><tr><th>10</th><td>1.0</td><td>0.0</td><td>0.0</td><td>0.0</td><td>0.0</td><td>1.0</td><td>0.0</td><td>0.0</td></tr><tr><th>11</th><td>1.0</td><td>0.0</td><td>0.0</td><td>0.0</td><td>0.0</td><td>0.0</td><td>0.0</td><td>0.0</td></tr><tr><th>12</th><td>1.0</td><td>1.0</td><td>0.0</td><td>0.0</td><td>0.0</td><td>0.0</td><td>0.0</td><td>0.0</td></tr><tr><th>13</th><td>1.0</td><td>0.0</td><td>0.0</td><td>0.0</td><td>0.0</td><td>0.0</td><td>0.0</td><td>0.0</td></tr><tr><th>14</th><td>1.0</td><td>0.0</td><td>0.0</td><td>0.0</td><td>0.0</td><td>0.0</td><td>0.0</td><td>0.0</td></tr><tr><th>15</th><td>1.0</td><td>0.0</td><td>0.0</td><td>1.0</td><td>0.0</td><td>0.0</td><td>0.0</td><td>0.0</td></tr><tr><th>16</th><td>1.0</td><td>0.0</td><td>0.0</td><td>0.0</td><td>0.0</td><td>0.0</td><td>0.0</td><td>0.0</td></tr><tr><th>17</th><td>1.0</td><td>0.0</td><td>0.0</td><td>0.0</td><td>0.0</td><td>0.0</td><td>0.0</td><td>0.0</td></tr><tr><th>18</th><td>1.0</td><td>1.0</td><td>0.0</td><td>0.0</td><td>0.0</td><td>0.0</td><td>0.0</td><td>0.0</td></tr><tr><th>19</th><td>1.0</td><td>1.0</td><td>0.0</td><td>0.0</td><td>0.0</td><td>1.0</td><td>0.0</td><td>0.0</td></tr><tr><th>20</th><td>1.0</td><td>1.0</td><td>0.0</td><td>0.0</td><td>0.0</td><td>0.0</td><td>0.0</td><td>0.0</td></tr><tr><th>21</th><td>1.0</td><td>0.0</td><td>0.0</td><td>0.0</td><td>1.0</td><td>0.0</td><td>0.0</td><td>0.0</td></tr><tr><th>22</th><td>1.0</td><td>0.0</td><td>0.0</td><td>0.0</td><td>0.0</td><td>0.0</td><td>0.0</td><td>0.0</td></tr><tr><th>23</th><td>1.0</td><td>0.0</td><td>0.0</td><td>0.0</td><td>0.0</td><td>0.0</td><td>0.0</td><td>0.0</td></tr><tr><th>24</th><td>1.0</td><td>0.0</td><td>0.0</td><td>0.0</td><td>0.0</td><td>0.0</td><td>0.0</td><td>0.0</td></tr><tr><th>25</th><td>1.0</td><td>0.0</td><td>0.0</td><td>0.0</td><td>0.0</td><td>0.0</td><td>0.0</td><td>0.0</td></tr><tr><th>26</th><td>1.0</td><td>0.0</td><td>0.0</td><td>0.0</td><td>0.0</td><td>1.0</td><td>0.0</td><td>0.0</td></tr><tr><th>27</th><td>1.0</td><td>1.0</td><td>0.0</td><td>0.0</td><td>0.0</td><td>1.0</td><td>0.0</td><td>0.0</td></tr><tr><th>28</th><td>1.0</td><td>0.0</td><td>0.0</td><td>0.0</td><td>0.0</td><td>0.0</td><td>0.0</td><td>0.0</td></tr><tr><th>29</th><td>1.0</td><td>1.0</td><td>0.0</td><td>0.0</td><td>0.0</td><td>1.0</td><td>0.0</td><td>0.0</td></tr><tr><th>30</th><td>1.0</td><td>0.0</td><td>0.0</td><td>0.0</td><td>0.0</td><td>1.0</td><td>0.0</td><td>0.0</td></tr><tr><th>&vellip;</th><td>&vellip;</td><td>&vellip;</td><td>&vellip;</td><td>&vellip;</td><td>&vellip;</td><td>&vellip;</td><td>&vellip;</td><td>&vellip;</td></tr></tbody></table>"
      ],
      "text/latex": [
       "\\begin{tabular}{r|ccccccccc}\n",
       "\t& (Intercept) & female & widowed & divorced & separated & nevermarried & hsd08 & hsd911 & \\\\\n",
       "\t\\hline\n",
       "\t& Float64 & Float64 & Float64 & Float64 & Float64 & Float64 & Float64 & Float64 & \\\\\n",
       "\t\\hline\n",
       "\t1 & 1.0 & 0.0 & 0.0 & 0.0 & 0.0 & 0.0 & 0.0 & 0.0 & $\\dots$ \\\\\n",
       "\t2 & 1.0 & 1.0 & 0.0 & 0.0 & 0.0 & 0.0 & 0.0 & 0.0 & $\\dots$ \\\\\n",
       "\t3 & 1.0 & 0.0 & 0.0 & 1.0 & 0.0 & 0.0 & 0.0 & 0.0 & $\\dots$ \\\\\n",
       "\t4 & 1.0 & 0.0 & 0.0 & 0.0 & 0.0 & 0.0 & 0.0 & 0.0 & $\\dots$ \\\\\n",
       "\t5 & 1.0 & 1.0 & 0.0 & 0.0 & 0.0 & 1.0 & 0.0 & 0.0 & $\\dots$ \\\\\n",
       "\t6 & 1.0 & 0.0 & 0.0 & 0.0 & 0.0 & 0.0 & 0.0 & 0.0 & $\\dots$ \\\\\n",
       "\t7 & 1.0 & 0.0 & 0.0 & 0.0 & 0.0 & 0.0 & 0.0 & 0.0 & $\\dots$ \\\\\n",
       "\t8 & 1.0 & 1.0 & 0.0 & 0.0 & 0.0 & 0.0 & 0.0 & 0.0 & $\\dots$ \\\\\n",
       "\t9 & 1.0 & 0.0 & 0.0 & 0.0 & 0.0 & 0.0 & 0.0 & 0.0 & $\\dots$ \\\\\n",
       "\t10 & 1.0 & 0.0 & 0.0 & 0.0 & 0.0 & 1.0 & 0.0 & 0.0 & $\\dots$ \\\\\n",
       "\t11 & 1.0 & 0.0 & 0.0 & 0.0 & 0.0 & 0.0 & 0.0 & 0.0 & $\\dots$ \\\\\n",
       "\t12 & 1.0 & 1.0 & 0.0 & 0.0 & 0.0 & 0.0 & 0.0 & 0.0 & $\\dots$ \\\\\n",
       "\t13 & 1.0 & 0.0 & 0.0 & 0.0 & 0.0 & 0.0 & 0.0 & 0.0 & $\\dots$ \\\\\n",
       "\t14 & 1.0 & 0.0 & 0.0 & 0.0 & 0.0 & 0.0 & 0.0 & 0.0 & $\\dots$ \\\\\n",
       "\t15 & 1.0 & 0.0 & 0.0 & 1.0 & 0.0 & 0.0 & 0.0 & 0.0 & $\\dots$ \\\\\n",
       "\t16 & 1.0 & 0.0 & 0.0 & 0.0 & 0.0 & 0.0 & 0.0 & 0.0 & $\\dots$ \\\\\n",
       "\t17 & 1.0 & 0.0 & 0.0 & 0.0 & 0.0 & 0.0 & 0.0 & 0.0 & $\\dots$ \\\\\n",
       "\t18 & 1.0 & 1.0 & 0.0 & 0.0 & 0.0 & 0.0 & 0.0 & 0.0 & $\\dots$ \\\\\n",
       "\t19 & 1.0 & 1.0 & 0.0 & 0.0 & 0.0 & 1.0 & 0.0 & 0.0 & $\\dots$ \\\\\n",
       "\t20 & 1.0 & 1.0 & 0.0 & 0.0 & 0.0 & 0.0 & 0.0 & 0.0 & $\\dots$ \\\\\n",
       "\t21 & 1.0 & 0.0 & 0.0 & 0.0 & 1.0 & 0.0 & 0.0 & 0.0 & $\\dots$ \\\\\n",
       "\t22 & 1.0 & 0.0 & 0.0 & 0.0 & 0.0 & 0.0 & 0.0 & 0.0 & $\\dots$ \\\\\n",
       "\t23 & 1.0 & 0.0 & 0.0 & 0.0 & 0.0 & 0.0 & 0.0 & 0.0 & $\\dots$ \\\\\n",
       "\t24 & 1.0 & 0.0 & 0.0 & 0.0 & 0.0 & 0.0 & 0.0 & 0.0 & $\\dots$ \\\\\n",
       "\t25 & 1.0 & 0.0 & 0.0 & 0.0 & 0.0 & 0.0 & 0.0 & 0.0 & $\\dots$ \\\\\n",
       "\t26 & 1.0 & 0.0 & 0.0 & 0.0 & 0.0 & 1.0 & 0.0 & 0.0 & $\\dots$ \\\\\n",
       "\t27 & 1.0 & 1.0 & 0.0 & 0.0 & 0.0 & 1.0 & 0.0 & 0.0 & $\\dots$ \\\\\n",
       "\t28 & 1.0 & 0.0 & 0.0 & 0.0 & 0.0 & 0.0 & 0.0 & 0.0 & $\\dots$ \\\\\n",
       "\t29 & 1.0 & 1.0 & 0.0 & 0.0 & 0.0 & 1.0 & 0.0 & 0.0 & $\\dots$ \\\\\n",
       "\t30 & 1.0 & 0.0 & 0.0 & 0.0 & 0.0 & 1.0 & 0.0 & 0.0 & $\\dots$ \\\\\n",
       "\t$\\dots$ & $\\dots$ & $\\dots$ & $\\dots$ & $\\dots$ & $\\dots$ & $\\dots$ & $\\dots$ & $\\dots$ &  \\\\\n",
       "\\end{tabular}\n"
      ],
      "text/plain": [
       "\u001b[1m21912×33 DataFrame\u001b[0m\n",
       "\u001b[1m   Row \u001b[0m│\u001b[1m (Intercept) \u001b[0m\u001b[1m female  \u001b[0m\u001b[1m widowed \u001b[0m\u001b[1m divorced \u001b[0m\u001b[1m separated \u001b[0m\u001b[1m nevermarried \u001b[0m\u001b[1m hsd\u001b[0m ⋯\n",
       "\u001b[1m       \u001b[0m│\u001b[90m Float64     \u001b[0m\u001b[90m Float64 \u001b[0m\u001b[90m Float64 \u001b[0m\u001b[90m Float64  \u001b[0m\u001b[90m Float64   \u001b[0m\u001b[90m Float64      \u001b[0m\u001b[90m Flo\u001b[0m ⋯\n",
       "───────┼────────────────────────────────────────────────────────────────────────\n",
       "     1 │         1.0      0.0      0.0       0.0        0.0           0.0      ⋯\n",
       "     2 │         1.0      1.0      0.0       0.0        0.0           0.0\n",
       "     3 │         1.0      0.0      0.0       1.0        0.0           0.0\n",
       "     4 │         1.0      0.0      0.0       0.0        0.0           0.0\n",
       "     5 │         1.0      1.0      0.0       0.0        0.0           1.0      ⋯\n",
       "     6 │         1.0      0.0      0.0       0.0        0.0           0.0\n",
       "     7 │         1.0      0.0      0.0       0.0        0.0           0.0\n",
       "     8 │         1.0      1.0      0.0       0.0        0.0           0.0\n",
       "     9 │         1.0      0.0      0.0       0.0        0.0           0.0      ⋯\n",
       "    10 │         1.0      0.0      0.0       0.0        0.0           1.0\n",
       "    11 │         1.0      0.0      0.0       0.0        0.0           0.0\n",
       "   ⋮   │      ⋮          ⋮        ⋮        ⋮          ⋮           ⋮            ⋱\n",
       " 21903 │         1.0      1.0      0.0       0.0        0.0           0.0\n",
       " 21904 │         1.0      0.0      0.0       0.0        0.0           0.0      ⋯\n",
       " 21905 │         1.0      1.0      0.0       0.0        0.0           0.0\n",
       " 21906 │         1.0      0.0      0.0       0.0        0.0           0.0\n",
       " 21907 │         1.0      0.0      0.0       0.0        0.0           0.0\n",
       " 21908 │         1.0      1.0      0.0       1.0        0.0           0.0      ⋯\n",
       " 21909 │         1.0      0.0      0.0       0.0        0.0           0.0\n",
       " 21910 │         1.0      1.0      0.0       0.0        0.0           0.0\n",
       " 21911 │         1.0      1.0      0.0       1.0        0.0           0.0\n",
       " 21912 │         1.0      1.0      0.0       0.0        0.0           0.0      ⋯\n",
       "\u001b[36m                                               27 columns and 21891 rows omitted\u001b[0m"
      ]
     },
     "execution_count": 35,
     "metadata": {},
     "output_type": "execute_result"
    }
   ],
   "source": [
    "names_col2 = Symbol.(coefnames(fit_lm_flex))\n",
    "X2 = DataFrame(model_X_flex_train, names_col2 )"
   ]
  },
  {
   "cell_type": "code",
   "execution_count": 36,
   "id": "c83fd8d0",
   "metadata": {},
   "outputs": [
    {
     "data": {
      "text/plain": [
       "1-element Vector{Float64}:\n",
       " 0.23478001021164974"
      ]
     },
     "execution_count": 36,
     "metadata": {},
     "output_type": "execute_result"
    }
   ],
   "source": [
    "# Flex - model\n",
    "# Not post - lasso (HDM)\n",
    "\n",
    "\n",
    "rlasso_flex  = rlasso_arg( X2, Y_train, nothing, false, false, true, false, false, \n",
    "                    nothing, 1.1, nothing, 5000, 15, 10^(-5), -Inf, true, Inf, true )\n",
    "\n",
    "fit_rlasso_flex = rlasso(rlasso_flex)\n",
    "\n",
    "\n",
    "# post - lasso (HDM)\n",
    "rlasso_flex_post  = rlasso_arg( X2, Y_train, nothing, true, false, true, false, false, \n",
    "                    nothing, 1.1, nothing, 5000, 15, 10^(-5), -Inf, true, Inf, true )\n",
    "\n",
    "fit_rlasso_flex_post = rlasso(rlasso_flex_post)\n",
    "\n",
    "yhat_rlasso_flex = model_X_flex_test*fit_rlasso_flex[\"coefficients\"] \n",
    "yhat_rlasso_flex_post = model_X_flex_test*fit_rlasso_flex_post[\"coefficients\"] \n",
    "\n",
    "\n",
    "res_rlasso_flex = ( Y_test[!,1] - yhat_rlasso_flex ).^ 2\n",
    "matrix_ones = ones( size(res_rlasso_flex)[1] ,1 )\n",
    "mean_residuals = lm(  matrix_ones, res_rlasso_flex )  \n",
    "MSE_rlasso_flex = [ coef( mean_residuals ) , stderror( mean_residuals ) ]\n",
    "R2_rlasso_flex = 1 .- ( MSE_rlasso_flex[1] / var(Y_test[!,1]) ) \n",
    "\n",
    "res_rlasso_flex_post = ( Y_test[!,1] - yhat_rlasso_flex_post ).^ 2\n",
    "matrix_ones = ones( size(res_rlasso_flex_post)[1] ,1 )\n",
    "mean_residuals = lm(  matrix_ones, res_rlasso_flex_post )  \n",
    "MSE_rlasso_flex_post = [ coef( mean_residuals ) , stderror( mean_residuals ) ]\n",
    "R2_rlasso_flex_post = 1 .- ( MSE_rlasso_flex_post[1] / var(Y_test[!,1]) ) \n"
   ]
  },
  {
   "cell_type": "code",
   "execution_count": 37,
   "id": "222c25b4",
   "metadata": {},
   "outputs": [
    {
     "name": "stdout",
     "output_type": "stream",
     "text": [
      "The R^2 using the basic model is  0.22471248477767736 for lasso and 0.23478001021164974 for Post - lasso"
     ]
    }
   ],
   "source": [
    "print( \"The R^2 using the basic model is  \", R2_rlasso_flex[1] ,\" for lasso and \", R2_rlasso_flex_post[1] , \" for Post - lasso\")"
   ]
  },
  {
   "cell_type": "markdown",
   "id": "2ecbe565",
   "metadata": {},
   "source": [
    "**Cross Validation**"
   ]
  },
  {
   "cell_type": "code",
   "execution_count": 38,
   "id": "7b2fe77b",
   "metadata": {},
   "outputs": [
    {
     "name": "stderr",
     "output_type": "stream",
     "text": [
      "WARNING: using GLMNet.predict in module Main conflicts with an existing identifier.\n",
      "WARNING: using GLMNet.coef in module Main conflicts with an existing identifier.\n"
     ]
    }
   ],
   "source": [
    "#import Pkg; Pkg.add(\"GLMNet\")\n",
    "using GLMNet"
   ]
  },
  {
   "cell_type": "code",
   "execution_count": 39,
   "id": "150c17d8",
   "metadata": {},
   "outputs": [
    {
     "name": "stdout",
     "output_type": "stream",
     "text": [
      "R^2 using cross-validation for lasso, ridge and elastic net in the basic model:0.2460061199664303; 0.24271782475426762 y \n",
      "0.24597863334567593"
     ]
    }
   ],
   "source": [
    "fit_lasso_cv   = GLMNet.glmnetcv(model_X_basic_train, Y_train[!,1], alpha=1)\n",
    "fit_ridge   = GLMNet.glmnetcv(model_X_basic_train, Y_train[!,1], alpha=0)\n",
    "fit_elnet   = GLMNet.glmnetcv(model_X_basic_train, Y_train[!,1], alpha= 0.5)\n",
    "\n",
    "yhat_lasso_cv    = GLMNet.predict(fit_lasso_cv,  model_X_basic_test)\n",
    "yhat_ridge   = GLMNet.predict(fit_ridge,  model_X_basic_test)\n",
    "yhat_elnet   = GLMNet.predict(fit_elnet,  model_X_basic_test)\n",
    "\n",
    "res_lasso_cv = ( Y_test[!,1] - yhat_lasso_cv ) .^ 2\n",
    "mean_residuals = lm(  matrix_ones, res_lasso_cv )\n",
    "MSE_lasso_cv = [ coef( mean_residuals ) , stderror( mean_residuals ) ]\n",
    "\n",
    "res_ridge = ( Y_test[!,1] - yhat_ridge ) .^ 2\n",
    "mean_residuals = lm(  matrix_ones, res_ridge )\n",
    "MSE_ridge = [ coef( mean_residuals ) , stderror( mean_residuals ) ]\n",
    "\n",
    "res_elnet = ( Y_test[!,1] - yhat_elnet ) .^ 2\n",
    "mean_residuals = lm(  matrix_ones, res_elnet )\n",
    "MSE_elnet = [ coef( mean_residuals ) , stderror( mean_residuals ) ]\n",
    "\n",
    "R2_lasso_cv = 1 .- ( MSE_lasso_cv[1] / var( Y_test[!,1] ) )\n",
    "R2_ridge = 1 .- ( MSE_ridge[1] / var( Y_test[!,1] ) )\n",
    "R2_elnet = 1 .- ( MSE_elnet[1] / var( Y_test[!,1] ) )\n",
    "\n",
    "print(\"R^2 using cross-validation for lasso, ridge and elastic net in the basic model:\"\n",
    "    , R2_lasso_cv[1],\"; \",R2_ridge[1],\" y \\n\",R2_elnet[1])"
   ]
  },
  {
   "cell_type": "code",
   "execution_count": 40,
   "id": "1c55a387",
   "metadata": {},
   "outputs": [
    {
     "name": "stdout",
     "output_type": "stream",
     "text": [
      "R^2 using cross-validation for lasso, ridge and elastic net in the flex model:0.24574988105844897; 0.24272856311678748y \n",
      "0.2456049335505296"
     ]
    }
   ],
   "source": [
    "fit_lasso_cv_flex   = GLMNet.glmnetcv(model_X_flex_train, Y_train[!,1], alpha=1)\n",
    "fit_ridge_flex   = GLMNet.glmnetcv(model_X_flex_train, Y_train[!,1], alpha=0)\n",
    "fit_elnet_flex   = GLMNet.glmnetcv(model_X_flex_train, Y_train[!,1], alpha= 0.5)\n",
    "\n",
    "yhat_lasso_cv_flex    = GLMNet.predict(fit_lasso_cv_flex,  model_X_flex_test)\n",
    "yhat_ridge_flex   = GLMNet.predict(fit_ridge_flex,  model_X_flex_test)\n",
    "yhat_elnet_flex   = GLMNet.predict(fit_elnet_flex,  model_X_flex_test)\n",
    "\n",
    "res_lasso_cv_flex = ( Y_test[!,1] - yhat_lasso_cv_flex ) .^ 2\n",
    "mean_residuals = lm(  matrix_ones, res_lasso_cv_flex )\n",
    "MSE_lasso_cv_flex = [ coef( mean_residuals ) , stderror( mean_residuals ) ]\n",
    "\n",
    "res_ridge_flex = ( Y_test[!,1] - yhat_ridge_flex ) .^ 2\n",
    "mean_residuals = lm(  matrix_ones, res_ridge_flex )\n",
    "MSE_ridge_flex = [ coef( mean_residuals ) , stderror( mean_residuals ) ]\n",
    "\n",
    "res_elnet_flex = ( Y_test[!,1] - yhat_elnet_flex ) .^ 2\n",
    "mean_residuals = lm(  matrix_ones, res_elnet_flex )\n",
    "MSE_elnet_flex = [ coef( mean_residuals ) , stderror( mean_residuals ) ]\n",
    "\n",
    "R2_lasso_cv_flex = ( 1 .- ( MSE_lasso_cv_flex[1] / var( Y_test[!,1] ) ) )[1]\n",
    "R2_ridge_flex = ( 1 .- ( MSE_ridge_flex[1] / var( Y_test[!,1] ) ) )[1]\n",
    "R2_elnet_flex = ( 1 .- ( MSE_elnet_flex[1] / var( Y_test[!,1] ) ) )[1]\n",
    "\n",
    "print(\"R^2 using cross-validation for lasso, ridge and elastic net in the flex model:\"\n",
    "    ,R2_lasso_cv_flex[1],\"; \",R2_ridge_flex[1],\"y \\n\",R2_elnet_flex[1])"
   ]
  },
  {
   "cell_type": "markdown",
   "id": "a8c6e1cf",
   "metadata": {},
   "source": [
    "### Non linear models"
   ]
  },
  {
   "cell_type": "code",
   "execution_count": 41,
   "id": "f5c655ea",
   "metadata": {},
   "outputs": [],
   "source": [
    "#import Pkg; Pkg.add( \"ScikitLearn\" )\n",
    "#import Pkg; Pkg.add(\"DecisionTree\")"
   ]
  },
  {
   "cell_type": "code",
   "execution_count": 42,
   "id": "b7a9fb0c",
   "metadata": {},
   "outputs": [
    {
     "name": "stderr",
     "output_type": "stream",
     "text": [
      "WARNING: using DecisionTree.predict in module Main conflicts with an existing identifier.\n"
     ]
    }
   ],
   "source": [
    "using ScikitLearn, DecisionTree"
   ]
  },
  {
   "cell_type": "code",
   "execution_count": 43,
   "id": "31a7255d",
   "metadata": {},
   "outputs": [
    {
     "data": {
      "text/plain": [
       "DecisionTreeRegressor\n",
       "max_depth:                -1\n",
       "min_samples_leaf:         1\n",
       "min_samples_split:        2\n",
       "min_purity_increase:      0.0\n",
       "pruning_purity_threshold: 1.0\n",
       "n_subfeatures:            0\n",
       "root:                     nothing"
      ]
     },
     "execution_count": 43,
     "metadata": {},
     "output_type": "execute_result"
    }
   ],
   "source": [
    "tree = DecisionTreeRegressor(min_purity_increase = 0, min_samples_leaf=1, min_samples_split = 2,rng = 0)"
   ]
  },
  {
   "cell_type": "code",
   "execution_count": 44,
   "id": "c213f5f3",
   "metadata": {},
   "outputs": [
    {
     "data": {
      "text/plain": [
       "DecisionTreeRegressor\n",
       "max_depth:                -1\n",
       "min_samples_leaf:         1\n",
       "min_samples_split:        2\n",
       "min_purity_increase:      0.01\n",
       "pruning_purity_threshold: 1.0\n",
       "n_subfeatures:            0\n",
       "root:                     Decision Tree\n",
       "Leaves: 10\n",
       "Depth:  5"
      ]
     },
     "execution_count": 44,
     "metadata": {},
     "output_type": "execute_result"
    }
   ],
   "source": [
    "# Using prun purity parameter = 0.010\n",
    "\n",
    "tree1 = DecisionTreeRegressor( min_samples_leaf=1, min_samples_split = 2, rng = 0, min_purity_increase = 0.01)\n",
    "trees_fit1 =  ScikitLearn.fit!(tree1, model_X_basic_train, Y_train[!,1] )"
   ]
  },
  {
   "cell_type": "code",
   "execution_count": 45,
   "id": "1277afa0",
   "metadata": {},
   "outputs": [
    {
     "ename": "LoadError",
     "evalue": "UndefVarError: y_hat_tree not defined",
     "output_type": "error",
     "traceback": [
      "UndefVarError: y_hat_tree not defined",
      "",
      "Stacktrace:",
      " [1] top-level scope",
      "   @ In[45]:3",
      " [2] eval",
      "   @ .\\boot.jl:360 [inlined]",
      " [3] include_string(mapexpr::typeof(REPL.softscope), mod::Module, code::String, filename::String)",
      "   @ Base .\\loading.jl:1116"
     ]
    }
   ],
   "source": [
    "y_hat_pt = ScikitLearn.predict(trees_fit1, model_X_basic_test)\n",
    "\n",
    "res_tree = ( Y_test[!,1] - y_hat_tree ) .^ 2\n",
    "mean_residuals = lm(  matrix_ones, res_tree )\n",
    "MSE_tree = [ coef( mean_residuals ) , stderror( mean_residuals ) ]\n",
    "\n",
    "R2_tree = ( 1 .- ( MSE_tree[1] / var( Y_test[!,1] ) ) )[1]\n",
    "\n",
    "print(\"R^2 using Prune - tree:\", R2_tree)"
   ]
  },
  {
   "cell_type": "code",
   "execution_count": 46,
   "id": "b9178dec",
   "metadata": {},
   "outputs": [],
   "source": [
    "using ScikitLearn.GridSearch: GridSearchCV"
   ]
  },
  {
   "cell_type": "code",
   "execution_count": 47,
   "id": "1052d09c",
   "metadata": {},
   "outputs": [
    {
     "data": {
      "text/plain": [
       "GridSearchCV\n",
       "  estimator: DecisionTreeRegressor\n",
       "  param_grid: Dict{Symbol, AbstractRange}\n",
       "  scoring: Nothing nothing\n",
       "  loss_func: Nothing nothing\n",
       "  score_func: Nothing nothing\n",
       "  fit_params: Dict{Any, Any}\n",
       "  n_jobs: Int64 1\n",
       "  iid: Bool true\n",
       "  refit: Bool true\n",
       "  cv: Nothing nothing\n",
       "  verbose: Int64 0\n",
       "  error_score: String \"raise\"\n",
       "  scorer_: Nothing nothing\n",
       "  best_params_: Nothing nothing\n",
       "  best_score_: Nothing nothing\n",
       "  grid_scores_: Nothing nothing\n",
       "  best_estimator_: Nothing nothing\n"
      ]
     },
     "execution_count": 47,
     "metadata": {},
     "output_type": "execute_result"
    }
   ],
   "source": [
    "gridsearch = GridSearchCV(DecisionTreeRegressor(), Dict(:max_depth => 5:2:15 , :min_samples_split => 2:10:300,\n",
    "                                            :min_purity_increase => 0.001:0.001:0.005))"
   ]
  },
  {
   "cell_type": "code",
   "execution_count": 48,
   "id": "79fe2297",
   "metadata": {},
   "outputs": [
    {
     "data": {
      "text/plain": [
       "GridSearchCV\n",
       "  estimator: DecisionTreeRegressor\n",
       "  param_grid: Dict{Symbol, AbstractRange}\n",
       "  scoring: Nothing nothing\n",
       "  loss_func: Nothing nothing\n",
       "  score_func: Nothing nothing\n",
       "  fit_params: Dict{Any, Any}\n",
       "  n_jobs: Int64 1\n",
       "  iid: Bool true\n",
       "  refit: Bool true\n",
       "  cv: Nothing nothing\n",
       "  verbose: Int64 0\n",
       "  error_score: String \"raise\"\n",
       "  scorer_: score (function of type typeof(ScikitLearnBase.score))\n",
       "  best_params_: Dict{Symbol, Any}\n",
       "  best_score_: Float64 -0.3419186484844505\n",
       "  grid_scores_: Array{ScikitLearn.Skcore.CVScoreTuple}((900,))\n",
       "  best_estimator_: DecisionTreeRegressor\n"
      ]
     },
     "execution_count": 48,
     "metadata": {},
     "output_type": "execute_result"
    }
   ],
   "source": [
    "ScikitLearn.fit!(gridsearch,  model_X_basic_train, Y_train[!,1])"
   ]
  },
  {
   "cell_type": "code",
   "execution_count": 49,
   "id": "93b8a7ba",
   "metadata": {},
   "outputs": [
    {
     "name": "stdout",
     "output_type": "stream",
     "text": [
      "Best hyper-parameters: Dict{Symbol, Any}(:min_samples_split => 242, :min_purity_increase => 0.002, :max_depth => 9)\n"
     ]
    }
   ],
   "source": [
    "println(\"Best hyper-parameters: $(gridsearch.best_params_)\")"
   ]
  },
  {
   "cell_type": "code",
   "execution_count": 50,
   "id": "c2efeafc",
   "metadata": {},
   "outputs": [
    {
     "data": {
      "text/plain": [
       "DecisionTreeRegressor\n",
       "max_depth:                15\n",
       "min_samples_leaf:         1\n",
       "min_samples_split:        152\n",
       "min_purity_increase:      0.002\n",
       "pruning_purity_threshold: 1.0\n",
       "n_subfeatures:            0\n",
       "root:                     Decision Tree\n",
       "Leaves: 102\n",
       "Depth:  12"
      ]
     },
     "execution_count": 50,
     "metadata": {},
     "output_type": "execute_result"
    }
   ],
   "source": [
    "tree_prune = DecisionTreeRegressor(max_depth =15, min_samples_leaf=1, min_samples_split = 152, \n",
    "                                    min_purity_increase = 0.002 )\n",
    "tree_prune_tree =  ScikitLearn.fit!(tree_prune, model_X_basic_train, Y_train[!,1] )"
   ]
  },
  {
   "cell_type": "code",
   "execution_count": 51,
   "id": "f040114b",
   "metadata": {},
   "outputs": [
    {
     "ename": "LoadError",
     "evalue": "UndefVarError: trees_fit not defined",
     "output_type": "error",
     "traceback": [
      "UndefVarError: trees_fit not defined",
      "",
      "Stacktrace:",
      " [1] top-level scope",
      "   @ In[51]:1",
      " [2] eval",
      "   @ .\\boot.jl:360 [inlined]",
      " [3] include_string(mapexpr::typeof(REPL.softscope), mod::Module, code::String, filename::String)",
      "   @ Base .\\loading.jl:1116"
     ]
    }
   ],
   "source": [
    "y_hat_pt = ScikitLearn.predict(trees_fit, model_X_basic_test)"
   ]
  },
  {
   "cell_type": "code",
   "execution_count": 52,
   "id": "5f3c5785",
   "metadata": {},
   "outputs": [
    {
     "name": "stdout",
     "output_type": "stream",
     "text": [
      "R^2 using Prune - tree:0.21235211705299983"
     ]
    }
   ],
   "source": [
    "res_tree = ( Y_test[!,1] - y_hat_pt ) .^ 2\n",
    "mean_residuals = lm(  matrix_ones, res_tree )\n",
    "MSE_tree = [ coef( mean_residuals ) , stderror( mean_residuals ) ]\n",
    "\n",
    "R2_tree = ( 1 .- ( MSE_tree[1] / var( Y_test[!,1] ) ) )[1]\n",
    "\n",
    "print(\"R^2 using Prune - tree:\", R2_tree)"
   ]
  },
  {
   "cell_type": "markdown",
   "id": "fa9f1326",
   "metadata": {},
   "source": [
    "**Using build_tree**"
   ]
  },
  {
   "cell_type": "code",
   "execution_count": 53,
   "id": "8c0fcd99",
   "metadata": {},
   "outputs": [
    {
     "data": {
      "text/plain": [
       "Decision Tree\n",
       "Leaves: 1879\n",
       "Depth:  25"
      ]
     },
     "execution_count": 53,
     "metadata": {},
     "output_type": "execute_result"
    }
   ],
   "source": [
    "model = build_tree(Y_train[!,1], model_X_basic_train)"
   ]
  },
  {
   "cell_type": "code",
   "execution_count": 54,
   "id": "fe428f20",
   "metadata": {},
   "outputs": [
    {
     "data": {
      "text/plain": [
       "Decision Tree\n",
       "Leaves: 941\n",
       "Depth:  11"
      ]
     },
     "execution_count": 54,
     "metadata": {},
     "output_type": "execute_result"
    }
   ],
   "source": [
    "model = build_tree(Y_train[!,1], model_X_basic_train, 0, 11,1,2,0)\n",
    "\n",
    "#n_subfeatures = 0\n",
    "#max_depth = 11\n",
    "# min_samples_leaf = 1\n",
    "# min_samples_split = 2\n",
    "# min_purity_increase = 0"
   ]
  },
  {
   "cell_type": "code",
   "execution_count": 55,
   "id": "e2a6d73c",
   "metadata": {},
   "outputs": [
    {
     "data": {
      "text/plain": [
       "Decision Tree\n",
       "Leaves: 10\n",
       "Depth:  5"
      ]
     },
     "execution_count": 55,
     "metadata": {},
     "output_type": "execute_result"
    }
   ],
   "source": [
    "#Prune tree\n",
    "\n",
    "model = build_tree(Y_train[!,1], model_X_basic_train, 0, 11,1,2,0.01)\n",
    "\n",
    "#n_subfeatures = 0\n",
    "#max_depth = 11\n",
    "# min_samples_leaf = 1\n",
    "# min_samples_split = 2\n",
    "# min_purity_increase = 0.01"
   ]
  },
  {
   "cell_type": "code",
   "execution_count": 56,
   "id": "c29626d1",
   "metadata": {},
   "outputs": [
    {
     "data": {
      "text/plain": [
       "7305-element Vector{Float64}:\n",
       " 2.6955988109122275\n",
       " 2.6955988109122275\n",
       " 2.6955988109122275\n",
       " 2.6955988109122275\n",
       " 3.222688294853932\n",
       " 2.423164308478937\n",
       " 2.834001448389702\n",
       " 2.6955988109122275\n",
       " 2.423164308478937\n",
       " 2.6955988109122275\n",
       " 3.0647980084116844\n",
       " 2.6955988109122275\n",
       " 2.6955988109122275\n",
       " ⋮\n",
       " 3.222688294853932\n",
       " 3.4531752187015887\n",
       " 2.6955988109122275\n",
       " 3.222688294853932\n",
       " 3.4531752187015887\n",
       " 2.6955988109122275\n",
       " 2.6955988109122275\n",
       " 2.834001448389702\n",
       " 2.6955988109122275\n",
       " 3.4531752187015887\n",
       " 2.6955988109122275\n",
       " 2.423164308478937"
      ]
     },
     "execution_count": 56,
     "metadata": {},
     "output_type": "execute_result"
    }
   ],
   "source": [
    "y_hat_tree = apply_tree(model, model_X_basic_test)"
   ]
  },
  {
   "cell_type": "code",
   "execution_count": 62,
   "id": "5060eb49",
   "metadata": {},
   "outputs": [
    {
     "name": "stdout",
     "output_type": "stream",
     "text": [
      "R^2 using Prune - tree:0.2123521170529995"
     ]
    }
   ],
   "source": [
    "res_tree = ( Y_test[!,1] - y_hat_tree ) .^ 2\n",
    "mean_residuals = lm(  matrix_ones, res_tree )\n",
    "MSE_prune_tree = [ coef( mean_residuals ) , stderror( mean_residuals ) ]\n",
    "\n",
    "R2_prune_tree = ( 1 .- ( MSE_prune_tree[1] / var( Y_test[!,1] ) ) )[1]\n",
    "\n",
    "print(\"R^2 using Prune - tree:\", R2_tree)"
   ]
  },
  {
   "cell_type": "markdown",
   "id": "87724d35",
   "metadata": {},
   "source": [
    "### Random Forest and Boosted Trees"
   ]
  },
  {
   "cell_type": "code",
   "execution_count": 70,
   "id": "3d2db7a0",
   "metadata": {},
   "outputs": [
    {
     "data": {
      "text/plain": [
       "RandomForestRegressor\n",
       "n_trees:             500\n",
       "n_subfeatures:       32\n",
       "partial_sampling:    0.7\n",
       "max_depth:           -1\n",
       "min_samples_leaf:    5\n",
       "min_samples_split:   2\n",
       "min_purity_increase: 0.0\n",
       "ensemble:            Ensemble of Decision Trees\n",
       "Trees:      500\n",
       "Avg Leaves: 1524.938\n",
       "Avg Depth:  25.378"
      ]
     },
     "execution_count": 70,
     "metadata": {},
     "output_type": "execute_result"
    }
   ],
   "source": [
    "rf = RandomForestRegressor(n_trees = 500, n_subfeatures = p_basic, min_samples_leaf = 5, rng =0)\n",
    "rf_fit = ScikitLearn.fit!(rf, model_X_basic_train, Y_train[!,1] )"
   ]
  },
  {
   "cell_type": "code",
   "execution_count": 71,
   "id": "f160ce20",
   "metadata": {},
   "outputs": [
    {
     "name": "stdout",
     "output_type": "stream",
     "text": [
      "R^2 using Random Forest:0.20790124685106515"
     ]
    }
   ],
   "source": [
    "y_hat_rf = ScikitLearn.predict(rf_fit, model_X_basic_test)\n",
    "#y_hat_boost = ScikitLearn.predict(rf_fit, model_X_basic_test)\n",
    "\n",
    "res_rf = ( Y_test[!,1] - y_hat_rf ) .^ 2\n",
    "mean_residuals = lm(  matrix_ones, res_rf )\n",
    "MSE_rf = [ coef( mean_residuals ) , stderror( mean_residuals ) ]\n",
    "R2_rf = ( 1 .- ( MSE_rf[1] / var( Y_test[!,1] ) ) )[1]\n",
    "\n",
    "print(\"R^2 using Random Forest:\", R2_rf)"
   ]
  },
  {
   "cell_type": "markdown",
   "id": "09d55d10",
   "metadata": {},
   "source": [
    "### Results"
   ]
  },
  {
   "cell_type": "code",
   "execution_count": 108,
   "id": "f3625802",
   "metadata": {},
   "outputs": [
    {
     "data": {
      "text/html": [
       "<table class=\"data-frame\"><thead><tr><th></th><th>Model</th><th>MSE</th><th>S.E. for MSE</th><th>R-squared</th></tr><tr><th></th><th>String</th><th>Float64</th><th>Float64</th><th>Float64</th></tr></thead><tbody><p>14 rows × 4 columns</p><tr><th>1</th><td>Least Squares (basic)</td><td>0.319719</td><td>0.0142679</td><td>0.24602</td></tr><tr><th>2</th><td>Least Squares (flexible)</td><td>0.319762</td><td>0.0142668</td><td>0.245918</td></tr><tr><th>3</th><td>Lasso</td><td>0.328734</td><td>0.0142522</td><td>0.224761</td></tr><tr><th>4</th><td>Post-Lasso</td><td>0.324485</td><td>0.014334</td><td>0.23478</td></tr><tr><th>5</th><td>Lasso (flexible)</td><td>0.328754</td><td>0.0142522</td><td>0.224712</td></tr><tr><th>6</th><td>Post-Lasso (flexible)</td><td>0.324485</td><td>0.014334</td><td>0.23478</td></tr><tr><th>7</th><td>Cross-Validated lasso</td><td>0.319725</td><td>0.0142679</td><td>0.246006</td></tr><tr><th>8</th><td>Cross-Validated ridge</td><td>0.321119</td><td>0.014294</td><td>0.242718</td></tr><tr><th>9</th><td>Cross-Validated elnet</td><td>0.319737</td><td>0.0142685</td><td>0.245979</td></tr><tr><th>10</th><td>Cross-Validated lasso (flexible)</td><td>0.319834</td><td>0.0142675</td><td>0.24575</td></tr><tr><th>11</th><td>Cross-Validated ridge (flexible)</td><td>0.321115</td><td>0.0142924</td><td>0.242729</td></tr><tr><th>12</th><td>Cross-Validated elnet (flexible)</td><td>0.319895</td><td>0.014266</td><td>0.245605</td></tr><tr><th>13</th><td>Pruned Tree</td><td>0.333996</td><td>0.0142041</td><td>0.212352</td></tr><tr><th>14</th><td>Random Forest</td><td>0.335883</td><td>0.0144787</td><td>0.207901</td></tr></tbody></table>"
      ],
      "text/latex": [
       "\\begin{tabular}{r|cccc}\n",
       "\t& Model & MSE & S.E. for MSE & R-squared\\\\\n",
       "\t\\hline\n",
       "\t& String & Float64 & Float64 & Float64\\\\\n",
       "\t\\hline\n",
       "\t1 & Least Squares (basic) & 0.319719 & 0.0142679 & 0.24602 \\\\\n",
       "\t2 & Least Squares (flexible) & 0.319762 & 0.0142668 & 0.245918 \\\\\n",
       "\t3 & Lasso & 0.328734 & 0.0142522 & 0.224761 \\\\\n",
       "\t4 & Post-Lasso & 0.324485 & 0.014334 & 0.23478 \\\\\n",
       "\t5 & Lasso (flexible) & 0.328754 & 0.0142522 & 0.224712 \\\\\n",
       "\t6 & Post-Lasso (flexible) & 0.324485 & 0.014334 & 0.23478 \\\\\n",
       "\t7 & Cross-Validated lasso & 0.319725 & 0.0142679 & 0.246006 \\\\\n",
       "\t8 & Cross-Validated ridge & 0.321119 & 0.014294 & 0.242718 \\\\\n",
       "\t9 & Cross-Validated elnet & 0.319737 & 0.0142685 & 0.245979 \\\\\n",
       "\t10 & Cross-Validated lasso (flexible) & 0.319834 & 0.0142675 & 0.24575 \\\\\n",
       "\t11 & Cross-Validated ridge (flexible) & 0.321115 & 0.0142924 & 0.242729 \\\\\n",
       "\t12 & Cross-Validated elnet (flexible) & 0.319895 & 0.014266 & 0.245605 \\\\\n",
       "\t13 & Pruned Tree & 0.333996 & 0.0142041 & 0.212352 \\\\\n",
       "\t14 & Random Forest & 0.335883 & 0.0144787 & 0.207901 \\\\\n",
       "\\end{tabular}\n"
      ],
      "text/plain": [
       "\u001b[1m14×4 DataFrame\u001b[0m\n",
       "\u001b[1m Row \u001b[0m│\u001b[1m Model                            \u001b[0m\u001b[1m MSE      \u001b[0m\u001b[1m S.E. for MSE \u001b[0m\u001b[1m R-squared \u001b[0m\n",
       "\u001b[1m     \u001b[0m│\u001b[90m String                           \u001b[0m\u001b[90m Float64  \u001b[0m\u001b[90m Float64      \u001b[0m\u001b[90m Float64   \u001b[0m\n",
       "─────┼─────────────────────────────────────────────────────────────────────\n",
       "   1 │ Least Squares (basic)             0.319719     0.0142679   0.24602\n",
       "   2 │ Least Squares (flexible)          0.319762     0.0142668   0.245918\n",
       "   3 │ Lasso                             0.328734     0.0142522   0.224761\n",
       "   4 │ Post-Lasso                        0.324485     0.014334    0.23478\n",
       "   5 │ Lasso (flexible)                  0.328754     0.0142522   0.224712\n",
       "   6 │ Post-Lasso (flexible)             0.324485     0.014334    0.23478\n",
       "   7 │ Cross-Validated lasso             0.319725     0.0142679   0.246006\n",
       "   8 │ Cross-Validated ridge             0.321119     0.014294    0.242718\n",
       "   9 │ Cross-Validated elnet             0.319737     0.0142685   0.245979\n",
       "  10 │ Cross-Validated lasso (flexible)  0.319834     0.0142675   0.24575\n",
       "  11 │ Cross-Validated ridge (flexible)  0.321115     0.0142924   0.242729\n",
       "  12 │ Cross-Validated elnet (flexible)  0.319895     0.014266    0.245605\n",
       "  13 │ Pruned Tree                       0.333996     0.0142041   0.212352\n",
       "  14 │ Random Forest                     0.335883     0.0144787   0.207901"
      ]
     },
     "execution_count": 108,
     "metadata": {},
     "output_type": "execute_result"
    }
   ],
   "source": [
    "table = NamedArray(zeros(14, 4))\n",
    "\n",
    "table[1,2:3] = [MSE_lm_basic[1][1], MSE_lm_basic[2][1]]\n",
    "table[2,2:3] = [MSE_lm_flex[1][1], MSE_lm_flex[2][1]]\n",
    "table[3,2:3] = [MSE_rlasso_basic[1][1], MSE_rlasso_basic[2][1]]\n",
    "table[4,2:3] = [MSE_rlasso_basic_post[1][1], MSE_rlasso_basic_post[2][1]]\n",
    "table[5,2:3] = [MSE_rlasso_flex[1][1], MSE_rlasso_flex[2][1]]\n",
    "table[6,2:3] = [MSE_rlasso_flex_post[1][1], MSE_rlasso_flex_post[2][1]]\n",
    "table[7,2:3] = [MSE_lasso_cv[1][1], MSE_lasso_cv[2][1]]\n",
    "table[8,2:3] = [MSE_ridge[1][1], MSE_ridge[2][1]]\n",
    "table[9,2:3] = [MSE_elnet[1][1], MSE_elnet[2][1]]\n",
    "table[10,2:3] = [MSE_lasso_cv_flex[1][1], MSE_lasso_cv_flex[2][1]]\n",
    "table[11,2:3] = [MSE_ridge_flex[1][1], MSE_ridge_flex[2][1]]\n",
    "table[12,2:3] = [MSE_elnet_flex[1][1], MSE_elnet_flex[2][1]]\n",
    "table[13,2:3] = [MSE_prune_tree[1][1], MSE_prune_tree[2][1]]\n",
    "table[14,2:3] = reduce(vcat,[MSE_rf[1], MSE_rf[2]])\n",
    "\n",
    "\n",
    "table[1,4] = R2_lm_basic[1]\n",
    "table[2,4] = R2_lm_flex[1]\n",
    "table[3,4] = R2_rlasso_basic[1]\n",
    "table[4,4] = R2_rlasso_basic_post[1]\n",
    "table[5,4] = R2_rlasso_flex[1]\n",
    "table[6,4] = R2_rlasso_flex_post[1]\n",
    "table[7,4] = R2_lasso_cv[1]\n",
    "table[8,4] = R2_ridge[1]\n",
    "table[9,4] = R2_elnet[1]\n",
    "table[10,4] = R2_lasso_cv_flex[1]\n",
    "table[11,4] = R2_ridge_flex[1]\n",
    "table[12,4] = R2_elnet_flex[1]\n",
    "table[13,4] = R2_prune_tree[1]\n",
    "table[14,4] = R2_rf[1]\n",
    "\n",
    "\n",
    "T = DataFrame(table, [ :\"Model\",:\"MSE\", :\"S.E. for MSE\", :\"R-squared\"]) \n",
    "T[!,:Model] = string.(T[!,:Model]) \n",
    "\n",
    "T[1,1] = \"Least Squares (basic)\"\n",
    "T[2,1] = \"Least Squares (flexible)\"\n",
    "T[3,1] = \"Lasso\"\n",
    "T[4,1] = \"Post-Lasso\"\n",
    "T[5,1] = \"Lasso (flexible)\"\n",
    "T[6,1] = \"Post-Lasso (flexible)\"\n",
    "T[7,1] = \"Cross-Validated lasso\"\n",
    "T[8,1] = \"Cross-Validated ridge\"\n",
    "T[9,1] = \"Cross-Validated elnet\"\n",
    "T[10,1] = \"Cross-Validated lasso (flexible)\"\n",
    "T[11,1] = \"Cross-Validated ridge (flexible)\"\n",
    "T[12,1] = \"Cross-Validated elnet (flexible)\"\n",
    "T[13,1] = \"Pruned Tree\"\n",
    "T[14,1] = \"Random Forest\"\n",
    "\n",
    "\n",
    "T"
   ]
  },
  {
   "cell_type": "markdown",
   "id": "1969b5b1",
   "metadata": {},
   "source": [
    "# 3.Tree regression"
   ]
  },
  {
   "cell_type": "markdown",
   "id": "6329e995",
   "metadata": {},
   "source": [
    "Usually, to make regressions we assume a linear relation between variables. In the case where clusters might be found in the data, a linear regression is not the best way to estimate a prediction model. The best way is to use a Tree regression since it captures non-linear relations between the Y and the X regressors. For instance, a regression tree allows us to make a prediction using continuous or categorical variables. However, a regression tree always tries to predict a continuous value. \\\n",
    "The main concept of regression tree (also classifier tree) is to split the data in a binary criterion until it reaches pure leaf. Finally, each leaf represents a relevant cluster in our dataset. This allows to predict a in which group a new observation in the data corresponds by following the conditions node by node. \\\n",
    "The first step consists in determine under which value we split the first node. Therefore, we need to find the best splitting condition. For this step the computer tests each possible value to split the data and propose a set of candidates. In a scenario with multiple covariates, the algorithm evaluates each covariate one at time, and for each covariate estimates the proper split value by choosing the one with lowest sum squared errors. The variable that goes in the first node is the one with the lowest sum squared errors. This process repeats for each node. \\\n",
    "This step repeats for each possible split. However, the number of final leaves will depend on if it is needed to do an extra split in each leaf. This process can result in an overfitting of the data and the model can´t be generalize. To solve this, we have to prune the tree by setting penalization parameters on the impurities of the leaf.\\\n",
    "First, we have to determine the optimal complexity of the tree. To do this we set the algorithm to prune or “cut” the leaf with a relatively small alpha. The smallest alphas are pruned first. We set an algorithm that returns the effective alphas and the corresponding total leaf impurities at each step of the pruning process. Larger alphas mean more of the tree is pruned, which increases the total impurity of its leaves.\\\n",
    "Next, we make a cross validation process for al the alphas proposed and calculate the accuracy mean for each alpha. The optimal alpha for our tree would be the one with the lowest mean accuracy rate. \\\n",
    "Finally. We set that value of alpha in the DecisionTreeRegressor function in Python to get our optimal depth and number of leaves."
   ]
  }
 ],
 "metadata": {
  "kernelspec": {
   "display_name": "Julia 1.7.2",
   "language": "julia",
   "name": "julia-1.7"
  },
  "language_info": {
   "file_extension": ".jl",
   "mimetype": "application/julia",
   "name": "julia",
   "version": "1.7.2"
  }
 },
 "nbformat": 4,
 "nbformat_minor": 5
}
