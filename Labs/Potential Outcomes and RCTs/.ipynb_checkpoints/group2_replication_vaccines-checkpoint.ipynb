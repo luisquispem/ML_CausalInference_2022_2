{
 "cells": [
  {
   "cell_type": "markdown",
   "id": "30b5b224",
   "metadata": {},
   "source": [
    "# Replication to Vaccines RCTs"
   ]
  },
  {
   "cell_type": "markdown",
   "id": "f65597ac",
   "metadata": {},
   "source": [
    "Group 2"
   ]
  },
  {
   "cell_type": "markdown",
   "id": "d660f06e",
   "metadata": {},
   "source": [
    "## Polio"
   ]
  },
  {
   "cell_type": "code",
   "execution_count": 1,
   "id": "024105ad",
   "metadata": {},
   "outputs": [],
   "source": [
    "using Pkg\n",
    "#Pkg.build(\"PyCall\")\n",
    "#Pkg.add(\"KernelDensity\")\n",
    "#Pkg.add(\"PyCall\")\n",
    "#Pkg.add(\"Gadfly\")\n",
    "#import Pkg; Pkg.add(\"CairoMakie\")\n",
    "using CairoMakie\n",
    "using Distributions\n",
    "using CairoMakie "
   ]
  },
  {
   "cell_type": "code",
   "execution_count": 2,
   "id": "16ad42ef",
   "metadata": {},
   "outputs": [],
   "source": [
    "#np = pyimport(\"numpy\")"
   ]
  },
  {
   "cell_type": "code",
   "execution_count": 3,
   "id": "acd0e506",
   "metadata": {},
   "outputs": [
    {
     "name": "stdout",
     "output_type": "stream",
     "text": [
      "Incidence per 100000 among treated:16.438765598146905%.\n",
      "Incidence per 100000 among controlled:57.14882049803955%.\n"
     ]
    }
   ],
   "source": [
    "NT = 200745 #number of treated\n",
    "\n",
    "NC = 201229 #number of controlled\n",
    "\n",
    "YT = 33/NT  #average outcome for treated\n",
    "\n",
    "YC =115/NC  #average outcome for controlled\n",
    "\n",
    "#incidence per 100000 \n",
    "\n",
    "println(\"Incidence per 100000 among treated:\", (YT*100000), \"%.\")\n",
    "\n",
    "println( \"Incidence per 100000 among controlled:\", (YC*100000),\"%.\")"
   ]
  },
  {
   "cell_type": "code",
   "execution_count": 4,
   "id": "1242e1e3",
   "metadata": {},
   "outputs": [
    {
     "name": "stdout",
     "output_type": "stream",
     "text": [
      "Overall VE is 0.7123516206478694"
     ]
    }
   ],
   "source": [
    "# Here we calculate the overall effectiveness of the vaccine and construct confidence intervals for it\n",
    "\n",
    "RV = 33/NT; # average outcome for vaccinated\n",
    "RU = 115/NC; # average outcome for unvaccinated\n",
    "VE = (RU - RV)/RU;\n",
    "print(\"Overall VE is \",(VE) )"
   ]
  },
  {
   "cell_type": "code",
   "execution_count": 5,
   "id": "daa73cd0",
   "metadata": {},
   "outputs": [
    {
     "name": "stdout",
     "output_type": "stream",
     "text": [
      "Estimate TE of occurances per 100,000 -40.71005489989265"
     ]
    }
   ],
   "source": [
    "# treatment effect estimate reduction in incidence  per 100000 people\n",
    "\n",
    "delta_hat = 100000*(YT-YC)\n",
    "\n",
    "print(\"Estimate TE of occurances per 100,000 \", (100000*(YT-YC)))"
   ]
  },
  {
   "cell_type": "code",
   "execution_count": 6,
   "id": "a5f69733",
   "metadata": {},
   "outputs": [
    {
     "name": "stdout",
     "output_type": "stream",
     "text": [
      "Standard deviation for ATE 6.047412320702958"
     ]
    }
   ],
   "source": [
    "Var_delta_hat =  (100000^2)*(YT*(1-YT)/NT +  YC*(1-YC)/NC)\n",
    "\n",
    "# standard deviation\n",
    "\n",
    "print(\"Standard deviation for ATE \",(Var_delta_hat^.5))"
   ]
  },
  {
   "cell_type": "code",
   "execution_count": 7,
   "id": "d001bd87",
   "metadata": {},
   "outputs": [
    {
     "name": "stdout",
     "output_type": "stream",
     "text": [
      "95 % confidence interval is [-52.56298304847044, -28.85712675131485]"
     ]
    }
   ],
   "source": [
    "# here we are using the fact that outcomes are Bernoulli \n",
    "\n",
    "CI_delta0 = delta_hat -1.96*Var_delta_hat^.5\n",
    "CI_delta1 = delta_hat +1.96*Var_delta_hat^.5\n",
    "\n",
    "print(\"95 % confidence interval is [\" ,(CI_delta0), \", \",(CI_delta1), \"]\"   )"
   ]
  },
  {
   "cell_type": "code",
   "execution_count": 8,
   "id": "458ef5e2",
   "metadata": {},
   "outputs": [
    {
     "name": "stdout",
     "output_type": "stream",
     "text": [
      "Overall VE is 0.7123516206478694"
     ]
    }
   ],
   "source": [
    "# Here we calculate the overall effectiveness of the vaccine and construct confidence intervals for it\n",
    "\n",
    "RV = 33/NT; # average outcome for vaccinated\n",
    "RU = 115/NC; # average outcome for unvaccinated\n",
    "VE = (RU - RV)/RU;\n",
    "print(\"Overall VE is \",(VE) )"
   ]
  },
  {
   "cell_type": "code",
   "execution_count": 9,
   "id": "299c8b15",
   "metadata": {},
   "outputs": [
    {
     "data": {
      "text/plain": [
       "2.8383662703286493e-9"
      ]
     },
     "execution_count": 9,
     "metadata": {},
     "output_type": "execute_result"
    }
   ],
   "source": [
    "# this recovers the number in the table.\n",
    "\n",
    "# we set up a simulation example.\n",
    "\n",
    "# calulate variance of risk estimates:\n",
    "\n",
    "Var_RV = RV*(1-RV)/NT\n",
    "Var_RU = RU*(1-RU)/NC"
   ]
  },
  {
   "cell_type": "code",
   "execution_count": 10,
   "id": "dd40ae14",
   "metadata": {},
   "outputs": [
    {
     "data": {
      "text/plain": [
       "10000-element Vector{Float64}:\n",
       " -0.9346015727778989\n",
       "  0.5068856863538478\n",
       " -0.011766892270500788\n",
       "  2.134458818505801\n",
       "  0.9317019080017807\n",
       "  0.01331496854133518\n",
       " -1.4164860515547193\n",
       " -0.939503954667675\n",
       " -0.9600542687189247\n",
       "  1.1926988070378093\n",
       " -0.48539357401406213\n",
       "  0.908945387069385\n",
       "  0.2850271375273363\n",
       "  ⋮\n",
       " -0.5838309624666044\n",
       "  0.8751033103035878\n",
       " -1.3127136120017007\n",
       " -0.6972535294540626\n",
       "  0.6608341063045268\n",
       "  1.4785545291387399\n",
       " -1.274985779157238\n",
       " -0.08391164423244901\n",
       "  0.4175070880301983\n",
       "  0.40030081954674723\n",
       " -0.7184596756121957\n",
       " -0.0364706778809509"
      ]
     },
     "execution_count": 10,
     "metadata": {},
     "output_type": "execute_result"
    }
   ],
   "source": [
    "using Random\n",
    "\n",
    "B = 10000  #  number of boostraps\n",
    "\n",
    "x = rand(Normal(),B)\n",
    "y = rand(Normal(),B)"
   ]
  },
  {
   "cell_type": "code",
   "execution_count": 11,
   "id": "3e20e9c4",
   "metadata": {},
   "outputs": [
    {
     "name": "stdout",
     "output_type": "stream",
     "text": [
      "95 % confidence interval is [0.5888638132741929,0.8156643398070765]"
     ]
    }
   ],
   "source": [
    "# Confidence interval based on approximate bootstrap\n",
    "\n",
    "# set-up MC draws:\n",
    "#Pkg.add(\"Statistics\")\n",
    "using Statistics\n",
    "\n",
    "RVs = RV .+ x*((Var_RV)^0.5)\n",
    "RUs = RU .+ y*((Var_RU)^0.5)\n",
    "VEs= (RUs - RVs) ./ RUs\n",
    "\n",
    "\n",
    "CI_VE_L = quantile!(VEs, 0.025)\n",
    "CI_VE_U = quantile!(VEs, 0.975)\n",
    "\n",
    "print(\"95 % confidence interval is [\", (CI_VE_L), \",\", (CI_VE_U), \"]\"   )"
   ]
  },
  {
   "cell_type": "code",
   "execution_count": 12,
   "id": "ad694bde",
   "metadata": {},
   "outputs": [
    {
     "name": "stdout",
     "output_type": "stream",
     "text": [
      "two-sided 95% confidence interval of VE is [0.5889, 0.8157]\n"
     ]
    },
    {
     "data": {
      "image/png": "[encoded data removed]",
      "text/plain": [
       "Figure()"
      ]
     },
     "execution_count": 12,
     "metadata": {},
     "output_type": "execute_result"
    }
   ],
   "source": [
    "## Confidence interval of VEs\n",
    "\n",
    "CI_VE = [round(quantile!(VEs, 0.025); digits = 4 ), round(quantile!(VEs, 0.975); digits = 4)]\n",
    "\n",
    "println(\"two-sided 95% confidence interval of VE is $CI_VE\")\n",
    "\n",
    "## Approximate distribution of VEs estimates \n",
    "\n",
    "fig = Figure(resolution = (600, 400))\n",
    "Axis(fig[1,1], title = \"Approximate distribution of VEs estimates \")\n",
    "    \n",
    "density!(VEs, color = (:red, 0.1), strokecolor = :red, strokewidth = 1, strokearound = true, bandwidth = 0.008257) \n",
    "\n",
    "fig"
   ]
  },
  {
   "cell_type": "markdown",
   "id": "bd3cb9df",
   "metadata": {},
   "source": [
    "## 2.0 Pfizer/BNTX Covid-19 RCT application\n"
   ]
  },
  {
   "cell_type": "code",
   "execution_count": 13,
   "id": "cdc7c179",
   "metadata": {},
   "outputs": [],
   "source": [
    "#Pkg.add(\"Distributions\")\n",
    "#Pkg.add(\"StatsBase\")\n",
    "#Pkg.add(\"CSV\")\n",
    "#Pkg.add(\"DataFrames\")\n",
    "#Pkg.add(\"StatsPlots\")\n",
    "\n",
    "using Distributions  \n",
    "using StatsBase\n",
    "using CSV  \n",
    "using DataFrames    \n",
    "#a= filter(t ->  quantile!(VEs, 0.025) < t <  quantile!(VEs, 0.975), VEs)\n",
    "#a\n",
    "#summarystats(a)"
   ]
  },
  {
   "cell_type": "code",
   "execution_count": 14,
   "id": "e281578a",
   "metadata": {},
   "outputs": [],
   "source": [
    "NV =  19965; # number vaccinated\n",
    "NU =  20172; # number unvaccinated\n",
    "RV = 9/NV; # average outcome for vaccinated\n",
    "RU = 169/NU; # average outcome for unvaccinated\n",
    "VE = (RU - RV)/RU; # vaccine efficacy"
   ]
  },
  {
   "cell_type": "code",
   "execution_count": 15,
   "id": "e666e418",
   "metadata": {},
   "outputs": [
    {
     "name": "stdout",
     "output_type": "stream",
     "text": [
      "Incidence per 100000 among vaccinated:45.07888805409467.\n",
      "Incidence per 100000 among unvaccinated:837.7949633154868\n"
     ]
    }
   ],
   "source": [
    "# incidence per 100000\n",
    "Incidence_RV=RV*100000\n",
    "Incidence_RU=RU*100000\n",
    "\n",
    "println(\"Incidence per 100000 among vaccinated:\", Incidence_RV, \".\")\n",
    "\n",
    "println(\"Incidence per 100000 among unvaccinated:\", Incidence_RU)"
   ]
  },
  {
   "cell_type": "code",
   "execution_count": 16,
   "id": "48d1733c",
   "metadata": {},
   "outputs": [
    {
     "name": "stdout",
     "output_type": "stream",
     "text": [
      "Estimated ATE of occurances per 100,000 is-792.7160752613921"
     ]
    }
   ],
   "source": [
    "# treatment effect - estimated reduction in incidence per 100000 people\n",
    "delta_hat = 100000*(RV-RU)\n",
    "\n",
    "print(\"Estimated ATE of occurances per 100,000 is\",  delta_hat)"
   ]
  },
  {
   "cell_type": "code",
   "execution_count": 17,
   "id": "df20a649",
   "metadata": {},
   "outputs": [
    {
     "name": "stdout",
     "output_type": "stream",
     "text": [
      "Standard deviation for ATE is 65.91015718590171"
     ]
    }
   ],
   "source": [
    "# variance, standard deviation and confidence interval of ATE using that outcomes are Bernoulli\n",
    "\n",
    "Var_RV = RV*(1-RV)/NV\n",
    "Var_RU = RU*(1-RU)/NU\n",
    "Var_delta_hat =  100000^2*(Var_RV + Var_RU)\n",
    "Std_delta_hat = sqrt(Var_delta_hat)\n",
    "\n",
    "print(\"Standard deviation for ATE is \", Std_delta_hat)\n"
   ]
  },
  {
   "cell_type": "code",
   "execution_count": 18,
   "id": "10bf487a",
   "metadata": {},
   "outputs": [
    {
     "name": "stdout",
     "output_type": "stream",
     "text": [
      "95 % confidence interval of ATE is [-921.8999833457594,-663.5321671770248].\n",
      "Overall VE is0.9461934124362605\n"
     ]
    }
   ],
   "source": [
    "\n",
    "CI_b_delta = delta_hat -1.96*sqrt(Var_delta_hat)\n",
    "CI_u_delta = delta_hat +1.96*sqrt(Var_delta_hat)\n",
    "\n",
    "println(\"95 % confidence interval of ATE is [\", (CI_b_delta), \",\", (CI_u_delta), \"]\" ,\".\"  )\n",
    "\n",
    "println(\"Overall VE is\", VE)"
   ]
  },
  {
   "cell_type": "code",
   "execution_count": 19,
   "id": "c783ebb4",
   "metadata": {},
   "outputs": [
    {
     "name": "stdout",
     "output_type": "stream",
     "text": [
      "95 % confidence interval is [0.9083254711908284,0.9817406534663852]"
     ]
    }
   ],
   "source": [
    "# we use an approximate bootstrap to find the VE confidence interval\n",
    "# using Monte Carlo draws as before\n",
    "\n",
    "using Random\n",
    "\n",
    "B = 10000\n",
    "\n",
    "x = rand(Normal(),B)\n",
    "y = rand(Normal(),B)\n",
    "\n",
    "\n",
    "RVs = RV .+ x*((Var_RV)^0.5)\n",
    "RUs = RU .+ y*((Var_RU)^0.5)\n",
    "VEs= (RUs - RVs) ./ RUs\n",
    "\n",
    "\n",
    "CI_VE_L = quantile!(VEs, 0.025)\n",
    "CI_VE_U = quantile!(VEs, 0.975)\n",
    "\n",
    "print(\"95 % confidence interval is [\", (CI_VE_L), \",\", (CI_VE_U), \"]\"   )"
   ]
  },
  {
   "cell_type": "code",
   "execution_count": 20,
   "id": "372135bb",
   "metadata": {},
   "outputs": [
    {
     "name": "stdout",
     "output_type": "stream",
     "text": [
      "two-sided 95% confidence interval of VE is [0.9083, 0.9817]\n"
     ]
    },
    {
     "data": {
      "image/png": "[encoded data removed]",
      "text/plain": [
       "Figure()"
      ]
     },
     "execution_count": 20,
     "metadata": {},
     "output_type": "execute_result"
    }
   ],
   "source": [
    "## Confidence interval of VEs\n",
    "\n",
    "CI_VE = [round(quantile!(VEs, 0.025); digits = 4 ), round(quantile!(VEs, 0.975); digits = 4)]\n",
    "\n",
    "println(\"two-sided 95% confidence interval of VE is $CI_VE\")\n",
    "\n",
    "## Approximate distribution of VEs estimates \n",
    "\n",
    "fig1 = Figure(resolution = (500, 400))\n",
    "Axis(fig1[1,1], title = \"Approximate distribution of VEs estimates \")\n",
    "    \n",
    "density!(VEs, color = (:blue, 0.1), strokecolor = :blue, strokewidth = 1, strokearound = true) \n",
    "\n",
    "fig1"
   ]
  },
  {
   "cell_type": "code",
   "execution_count": 21,
   "id": "af995cd2",
   "metadata": {},
   "outputs": [
    {
     "name": "stdout",
     "output_type": "stream",
     "text": [
      "Incidence per 100000 among vaccinated:45.07888805409467.         \n",
      "Incidence per 100000 among unvaccinated:837.7949633154868\n",
      "Estimated ATE of occurances per 100,000 is-792.7160752613921\n",
      "Standard deviation for ATE is 65.91015718590171\n",
      "95 % confidence interval of ATE is [-921.8999833457594,-663.5321671770248].         \n",
      "Overall VE is0.9461934124362605\n",
      "95 % confidence interval is [0.9083254711908284,0.9817406534663852]"
     ]
    }
   ],
   "source": [
    "#Resumen\n",
    "\n",
    "print(\"Incidence per 100000 among vaccinated:\", Incidence_RV, \".         \")\n",
    "print(\"\\nIncidence per 100000 among unvaccinated:\", Incidence_RU)\n",
    "print(\"\\nEstimated ATE of occurances per 100,000 is\",  delta_hat)\n",
    "print(\"\\nStandard deviation for ATE is \", Std_delta_hat)\n",
    "print(\"\\n95 % confidence interval of ATE is [\", (CI_b_delta), \",\", (CI_u_delta), \"]\" ,\".         \"  )\n",
    "print(\"\\nOverall VE is\", VE)\n",
    "print(\"\\n95 % confidence interval is [\", (CI_VE_L), \",\", (CI_VE_U), \"]\"   )"
   ]
  },
  {
   "cell_type": "markdown",
   "id": "9a09bf81",
   "metadata": {},
   "source": [
    "####  groups that are 65 or older"
   ]
  },
  {
   "cell_type": "code",
   "execution_count": 22,
   "id": "661ef852",
   "metadata": {},
   "outputs": [
    {
     "name": "stdout",
     "output_type": "stream",
     "text": [
      "Overall VE is 0.9470690822010516"
     ]
    }
   ],
   "source": [
    "# Here we calculate the overall effectiveness of the vaccine for the two groups that are 65 or older\n",
    "NV =  3239+805;\n",
    "NU =  3255+812;\n",
    "RV = 1/NV;\n",
    "RU = (14+5)/NU;\n",
    "VE = (RU - RV)/RU;\n",
    "\n",
    "Var_RV = RV*(1-RV)/NV\n",
    "Var_RU = RU*(1-RU)/NU\n",
    "\n",
    "print(\"Overall VE is \", VE)"
   ]
  },
  {
   "cell_type": "code",
   "execution_count": 23,
   "id": "0f772d3d",
   "metadata": {},
   "outputs": [],
   "source": [
    "# this recovers the number in the table.\n",
    "\n",
    "# we set up a simulation example.\n",
    "\n",
    "# calulate variance of risk estimates:\n",
    "\n",
    "\n",
    "Var_RV = RV*(1-RV)/NV\n",
    "Var_RU = RU*(1-RU)/NU;"
   ]
  },
  {
   "cell_type": "code",
   "execution_count": 24,
   "id": "afe34eb8",
   "metadata": {},
   "outputs": [
    {
     "name": "stdout",
     "output_type": "stream",
     "text": [
      "95 % confidence interval is [0.8158858134042043,1.0544273413154275]"
     ]
    }
   ],
   "source": [
    "\n",
    "using Random\n",
    "\n",
    "B = 10000 #number of bootstraps\n",
    "\n",
    "x = rand(Normal(),B)\n",
    "y = rand(Normal(),B)\n",
    "\n",
    "\n",
    "RVs = RV .+ x*((Var_RV)^0.5)\n",
    "RUs = RU .+ y*((Var_RU)^0.5)\n",
    "VEs= (RUs - RVs) ./ RUs\n",
    "\n",
    "\n",
    "CI_VE_L = quantile!(VEs, 0.025)\n",
    "CI_VE_U = quantile!(VEs, 0.975)\n",
    "\n",
    "print(\"95 % confidence interval is [\", (CI_VE_L), \",\", (CI_VE_U), \"]\"   )"
   ]
  },
  {
   "cell_type": "code",
   "execution_count": 25,
   "id": "45d9f50b",
   "metadata": {},
   "outputs": [
    {
     "data": {
      "text/plain": [
       "10000-element Vector{Float64}:\n",
       " 0.9286374701019094\n",
       " 0.9306318821603504\n",
       " 0.9807062047067295\n",
       " 0.932227928439073\n",
       " 0.8497213956232972\n",
       " 1.0341633458705015\n",
       " 0.8826086276184276\n",
       " 0.8908920202231071\n",
       " 1.1204683874016654\n",
       " 1.0436392904285337\n",
       " 0.9269669930323389\n",
       " 0.978832510418485\n",
       " 0.9274269094457963\n",
       " ⋮\n",
       " 0.9941031787120717\n",
       " 0.9865853448694472\n",
       " 0.8630160479950865\n",
       " 0.939002630393595\n",
       " 0.9561668577648301\n",
       " 0.8166249965881008\n",
       " 0.9157406832836444\n",
       " 0.9583524341261762\n",
       " 0.983253521851282\n",
       " 0.9668034744043027\n",
       " 0.9578251425652174\n",
       " 1.0144231014448826"
      ]
     },
     "execution_count": 25,
     "metadata": {},
     "output_type": "execute_result"
    }
   ],
   "source": [
    "### 3.1  Approximate bootstrap to find the VE confidence interval\n",
    "\n",
    "Random.seed!(1)\n",
    "\n",
    "B = 10000 #  number of boostraps\n",
    "\n",
    "RVs = RV*ones(Float16, B)  + randn(B)*sqrt(Var_RV) + 10^(-10)*ones(Float16, B) \n",
    "RUs = RU*ones(Float16, B)  + randn(B)*sqrt(Var_RU) + 10^(-10)*ones(Float16, B) \n",
    "VEs= (RUs - RVs)./RUs\n"
   ]
  },
  {
   "cell_type": "code",
   "execution_count": 26,
   "id": "e27ebb4f",
   "metadata": {},
   "outputs": [
    {
     "name": "stdout",
     "output_type": "stream",
     "text": [
      "two-sided  95% confidence interval of VE is [0.8162, 1.0532]\n",
      "one side 95% confidence interval of VE is [0.8422, 1.0]\n"
     ]
    },
    {
     "data": {
      "image/png": "[encoded data removed]",
      "text/plain": [
       "Figure()"
      ]
     },
     "execution_count": 26,
     "metadata": {},
     "output_type": "execute_result"
    }
   ],
   "source": [
    "## Confidence interval of VEs\n",
    "\n",
    "CI_VE = [round(quantile!(VEs, 0.025); digits = 4 ), round(quantile!(VEs, 0.975); digits = 4)]\n",
    "\n",
    "OneSidedCI_VE = [round(quantile!(VEs, 0.05); digits = 4 ), 1]\n",
    "\n",
    "println(\"two-sided  95% confidence interval of VE is $CI_VE\")\n",
    "\n",
    "println(\"one side 95% confidence interval of VE is $OneSidedCI_VE\")\n",
    "\n",
    "## Approximate distribution of VEs estimates \n",
    "\n",
    "fig2 = Figure(resolution = (500, 400))\n",
    "Axis(fig2[1,1], title = \"Approximate distribution of VEs estimates \")\n",
    "    \n",
    "density!(VEs, color = (:gray, 0.1), strokewidth = 1, strokearound = true) \n",
    "\n",
    "fig2"
   ]
  },
  {
   "cell_type": "markdown",
   "id": "c36eb3eb",
   "metadata": {},
   "source": [
    "### parametric boostrap using the fact that the outcome is Bernouli."
   ]
  },
  {
   "cell_type": "code",
   "execution_count": 27,
   "id": "98fa71cc",
   "metadata": {},
   "outputs": [
    {
     "name": "stdout",
     "output_type": "stream",
     "text": [
      "Overall VE is 0.9470690822010516"
     ]
    }
   ],
   "source": [
    "NV_b =  3239+805;\n",
    "NU_b =  3255+812;\n",
    "RV_b = 1/NV_b;\n",
    "RU_b = (14+5)/NU_b;\n",
    "VE_b = (RU_b - RV_b)/RU_b;\n",
    "\n",
    "print(\"Overall VE is \", VE_b)"
   ]
  },
  {
   "cell_type": "code",
   "execution_count": 28,
   "id": "3c8b1e59",
   "metadata": {},
   "outputs": [
    {
     "name": "stdout",
     "output_type": "stream",
     "text": [
      "Two-sided 95 % confidence interval is [0.8,1.0]"
     ]
    }
   ],
   "source": [
    "using Random\n",
    "\n",
    "B = 10000 #  number of boostraps\n",
    "\n",
    "RVs_b = rand(Binomial(NV_b, RV_b),B)  # Binomial distribution for n trials with success rate p\n",
    "RUs_b = rand(Binomial(NU_b, RU_b),B)\n",
    "\n",
    "VEs_b = (RUs_b-RVs_b)./ RUs_b\n",
    "\n",
    "CI_VE_b = quantile!(VEs_b, 0.025)\n",
    "CI_VE_c = quantile!(VEs_b, 0.975)\n",
    "\n",
    "\n",
    "print(\"Two-sided 95 % confidence interval is [\", (CI_VE_b), \",\", (CI_VE_c), \"]\"   )"
   ]
  },
  {
   "cell_type": "code",
   "execution_count": 29,
   "id": "48b56f36",
   "metadata": {},
   "outputs": [
    {
     "name": "stdout",
     "output_type": "stream",
     "text": [
      "one-sided 95 % confidence interval is [0.8333333333333334, 1]"
     ]
    }
   ],
   "source": [
    "CI_VE_b_1 = quantile!(VEs_b, 0.05)\n",
    "\n",
    "\n",
    "print(\"one-sided 95 % confidence interval is [\", (CI_VE_b_1), \",\",  \" 1]\"   )"
   ]
  },
  {
   "cell_type": "code",
   "execution_count": 33,
   "id": "9c970fa2",
   "metadata": {},
   "outputs": [
    {
     "data": {
      "text/plain": [
       "2-element Vector{Float64}:\n",
       " 0.8\n",
       " 1.0"
      ]
     },
     "execution_count": 33,
     "metadata": {},
     "output_type": "execute_result"
    }
   ],
   "source": [
    "CI_VE"
   ]
  },
  {
   "cell_type": "code",
   "execution_count": 34,
   "id": "c0564db9",
   "metadata": {},
   "outputs": [
    {
     "name": "stdout",
     "output_type": "stream",
     "text": [
      "two-sided 95% confidence interval of VE is 0.8\n",
      "one sided 95% confidence interval of VE is [0.8333, 1.0]\n"
     ]
    },
    {
     "data": {
      "image/png": "[encoded data removed]",
      "text/plain": [
       "Figure()"
      ]
     },
     "execution_count": 34,
     "metadata": {},
     "output_type": "execute_result"
    }
   ],
   "source": [
    "## Confidence interval of VEs\n",
    "\n",
    "CI_VE = [round(quantile!(VEs_b, 0.025); digits = 4 ), round(quantile!(VEs_b, 0.975); digits = 4)]\n",
    "\n",
    "OneSidedCI_VE = [round(quantile!(VEs_b, 0.05); digits = 4 ), 1]\n",
    "\n",
    "println(\"two-sided 95% confidence interval of VE is $CI_VE_b\")\n",
    "\n",
    "println(\"one sided 95% confidence interval of VE is $OneSidedCI_VE\")\n",
    "\n",
    "## Approximate distribution of VEs estimates \n",
    "\n",
    "fig3 = Figure(resolution = (500, 400))\n",
    "Axis(fig3[1,1], title = \"Approximate distribution of VEs estimates \")\n",
    "    \n",
    "density!(VEs_b, color = (:gray, 0.1), strokewidth = 1, strokearound = true) \n",
    "\n",
    "fig3"
   ]
  },
  {
   "cell_type": "markdown",
   "id": "5dfc114c",
   "metadata": {},
   "source": [
    "## Exact Binomial Test Inversion"
   ]
  },
  {
   "cell_type": "code",
   "execution_count": 39,
   "id": "c39b3d0a",
   "metadata": {},
   "outputs": [
    {
     "name": "stderr",
     "output_type": "stream",
     "text": [
      "\u001b[32m\u001b[1m    Updating\u001b[22m\u001b[39m registry at `C:\\Users\\Alvaro\\.julia\\registries\\General.toml`\n",
      "\u001b[32m\u001b[1m   Resolving\u001b[22m\u001b[39m package versions...\n",
      "\u001b[32m\u001b[1m  No Changes\u001b[22m\u001b[39m to `C:\\Users\\Alvaro\\.julia\\environments\\v1.7\\Project.toml`\n",
      "\u001b[32m\u001b[1m  No Changes\u001b[22m\u001b[39m to `C:\\Users\\Alvaro\\.julia\\environments\\v1.7\\Manifest.toml`\n",
      "┌ Info: Precompiling ClinicalTrialUtilities [535c2557-d7d0-564d-8ff9-4ae146c18cfe]\n",
      "└ @ Base loading.jl:1423\n",
      "\u001b[33m\u001b[1m┌ \u001b[22m\u001b[39m\u001b[33m\u001b[1mWarning: \u001b[22m\u001b[39mModule Distributions with build ID 504575664901101 is missing from the cache.\n",
      "\u001b[33m\u001b[1m│ \u001b[22m\u001b[39mThis may mean Distributions [31c24e10-a181-5473-b8eb-7969acd0382f] does not support precompilation but is imported by a module that does.\n",
      "\u001b[33m\u001b[1m└ \u001b[22m\u001b[39m\u001b[90m@ Base loading.jl:1107\u001b[39m\n",
      "┌ Info: Skipping precompilation since __precompile__(false). Importing ClinicalTrialUtilities [535c2557-d7d0-564d-8ff9-4ae146c18cfe].\n",
      "└ @ Base loading.jl:1124\n",
      "WARNING: using ClinicalTrialUtilities.confint in module Main conflicts with an existing identifier.\n"
     ]
    }
   ],
   "source": [
    "#Pkg.add(\"ClinicalTrialUtilities\")\n",
    "using ClinicalTrialUtilities\n"
   ]
  },
  {
   "cell_type": "code",
   "execution_count": 40,
   "id": "36d0c92d",
   "metadata": {},
   "outputs": [
    {
     "data": {
      "text/plain": [
       "Estimate: 0.053379861731311845 (0.027616272602670834 - 0.10317864685976501)"
      ]
     },
     "execution_count": 40,
     "metadata": {},
     "output_type": "execute_result"
    }
   ],
   "source": [
    "# Exact CI exploiting Bernoulli outcome using the Cornfield Procedure\n",
    "\n",
    "NV =  19965;\n",
    "NU =  20172;\n",
    "RV = 9/NV;\n",
    "RU = 169/NU;\n",
    "VE = (RU - RV)/RU;\n",
    "\n",
    "confint = orpropci(9::Int, NV::Int, 169::Int, NU::Int; alpha = 0.05)::ConfInt\n"
   ]
  },
  {
   "cell_type": "code",
   "execution_count": 41,
   "id": "e8f4de9e",
   "metadata": {},
   "outputs": [
    {
     "data": {
      "text/plain": [
       "(0.9723837273973291, 0.896821353140235)"
      ]
     },
     "execution_count": 41,
     "metadata": {},
     "output_type": "execute_result"
    }
   ],
   "source": [
    "l=1-0.027616272602670834\n",
    "u=1-0.10317864685976501\n",
    "confint = (l,u)"
   ]
  },
  {
   "cell_type": "code",
   "execution_count": 42,
   "id": "5ca20555",
   "metadata": {},
   "outputs": [
    {
     "data": {
      "text/plain": [
       "Estimate: 0.05269666870614577 (0.00896277602085047 - 0.30983022294266616)"
      ]
     },
     "execution_count": 42,
     "metadata": {},
     "output_type": "execute_result"
    }
   ],
   "source": [
    "# Exact CI exploiting Bernoulli outcome for the two groups that are 65 or older\n",
    "\n",
    "NV =  3239+805;\n",
    "NU =  3255+812;\n",
    "RV = 1/NV;\n",
    "RU = (14+5)/NU;\n",
    "VE = (RU - RV)/RU;\n",
    "\n",
    "confint = orpropci(1::Int, NV::Int, 19::Int, NU::Int; alpha = 0.05)::ConfInt\n"
   ]
  },
  {
   "cell_type": "code",
   "execution_count": 43,
   "id": "fa4e2aec",
   "metadata": {},
   "outputs": [
    {
     "data": {
      "text/plain": [
       "(0.9910372239791495, 0.6901697770573338)"
      ]
     },
     "execution_count": 43,
     "metadata": {},
     "output_type": "execute_result"
    }
   ],
   "source": [
    "l=1-0.00896277602085047\n",
    "u=1-0.30983022294266616\n",
    "confint = (l,u)"
   ]
  }
 ],
 "metadata": {
  "kernelspec": {
   "display_name": "Julia 1.7.2",
   "language": "julia",
   "name": "julia-1.7"
  },
  "language_info": {
   "file_extension": ".jl",
   "mimetype": "application/julia",
   "name": "julia",
   "version": "1.7.2"
  }
 },
 "nbformat": 4,
 "nbformat_minor": 5
}
