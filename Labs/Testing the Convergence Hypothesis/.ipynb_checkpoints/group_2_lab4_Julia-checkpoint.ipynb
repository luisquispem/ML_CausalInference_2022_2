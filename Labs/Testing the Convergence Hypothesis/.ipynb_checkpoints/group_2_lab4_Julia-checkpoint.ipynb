{
 "cells": [
  {
   "cell_type": "markdown",
   "id": "7e5e6906",
   "metadata": {},
   "source": [
    "## Double Lasso - Testing the Convergence Hypothesis"
   ]
  },
  {
   "cell_type": "markdown",
   "id": "51dc4c6c",
   "metadata": {},
   "source": [
    "Explain what is the Double Lasso Approach in a markdown cell. "
   ]
  },
  {
   "cell_type": "markdown",
   "id": "272a3157",
   "metadata": {},
   "source": [
    "# Double Lasso\n",
    "\n",
    "The Lasso approach is useful for estimating a model with a large number of covariates relative to the number of observations. The Double Lasso method  selects the relevant covariates through two Lasso regression and an OLS one. \n",
    "\n",
    "Select variables by two step, finding those that predict the dependent variable and those relative to independent variable.\n",
    "\n",
    "\n",
    "First we estimate the following equation where  D is our variable of interest, and W is a set of control variables.So first we implement a Lasso regression of all covariates on D, to find direct relations between covariates and D.\n",
    "\n",
    "\\begin{equation}\\label{original}\n",
    "Y = \\alpha D + \\beta 'W+ \\epsilon_1 \\tag{1}.\n",
    "\\end{equation}\n",
    "\n",
    "A lasso regression find parameters which minimize the sum of squared errors in the regression equation with an additional penalty term which reducess the¿ose near to zero and avoid overfitting. Somethime a non-zero coeficient can be omited. to ovid that we use double Lasso. First do a lasso regression predicting the dependent variable, and keeping the variables with non-zero estimated coefficients. An then doing the same but for predicting the focal variable D. Finaly we set a linear regression of the dependent variable on the focal independent variable, including the covariates selected in either of the previous two steps.\n"
   ]
  },
  {
   "cell_type": "markdown",
   "id": "be73809d",
   "metadata": {},
   "source": [
    "### Replication"
   ]
  },
  {
   "cell_type": "code",
   "execution_count": 1,
   "id": "27326f8c",
   "metadata": {},
   "outputs": [],
   "source": [
    "using RData, LinearAlgebra, GLM, DataFrames, Statistics, Random, Distributions, DataStructures, NamedArrays, PrettyTables\n",
    "import CodecBzip2"
   ]
  },
  {
   "cell_type": "code",
   "execution_count": 2,
   "id": "49a454c9",
   "metadata": {},
   "outputs": [],
   "source": [
    "using StatsModels"
   ]
  },
  {
   "cell_type": "code",
   "execution_count": 3,
   "id": "f914cf0b",
   "metadata": {},
   "outputs": [
    {
     "data": {
      "text/plain": [
       "Dict{String, Any} with 1 entry:\n",
       "  \"GrowthData\" => 90×63 DataFrame. Omitted printing of 57 columns…"
      ]
     },
     "execution_count": 3,
     "metadata": {},
     "output_type": "execute_result"
    }
   ],
   "source": [
    "# Importing .Rdata file\n",
    "growth_read = load(\"GrowthData.RData\")"
   ]
  },
  {
   "cell_type": "code",
   "execution_count": 4,
   "id": "a1baae55",
   "metadata": {},
   "outputs": [
    {
     "data": {
      "text/plain": [
       "true"
      ]
     },
     "execution_count": 4,
     "metadata": {},
     "output_type": "execute_result"
    }
   ],
   "source": [
    "# Since growth_read is a dictionary, we check if there is a key called \"GrowthData\", the one we need for our analyze\n",
    "haskey(growth_read, \"GrowthData\")"
   ]
  },
  {
   "cell_type": "code",
   "execution_count": 5,
   "id": "a95797c6",
   "metadata": {},
   "outputs": [
    {
     "data": {
      "text/plain": [
       "63-element Vector{String}:\n",
       " \"Outcome\"\n",
       " \"intercept\"\n",
       " \"gdpsh465\"\n",
       " \"bmp1l\"\n",
       " \"freeop\"\n",
       " \"freetar\"\n",
       " \"h65\"\n",
       " \"hm65\"\n",
       " \"hf65\"\n",
       " \"p65\"\n",
       " \"pm65\"\n",
       " \"pf65\"\n",
       " \"s65\"\n",
       " ⋮\n",
       " \"secc65\"\n",
       " \"seccm65\"\n",
       " \"seccf65\"\n",
       " \"syr65\"\n",
       " \"syrm65\"\n",
       " \"syrf65\"\n",
       " \"teapri65\"\n",
       " \"teasec65\"\n",
       " \"ex1\"\n",
       " \"im1\"\n",
       " \"xr65\"\n",
       " \"tot1\""
      ]
     },
     "execution_count": 5,
     "metadata": {},
     "output_type": "execute_result"
    }
   ],
   "source": [
    "# Now we save that dataframe with a new name\n",
    "growth = growth_read[\"GrowthData\"]\n",
    "names(growth)"
   ]
  },
  {
   "cell_type": "code",
   "execution_count": 6,
   "id": "567706c0",
   "metadata": {},
   "outputs": [
    {
     "data": {
      "text/plain": [
       "(DataFrame, (90, 63))"
      ]
     },
     "execution_count": 6,
     "metadata": {},
     "output_type": "execute_result"
    }
   ],
   "source": [
    "typeof(growth), size(growth)"
   ]
  },
  {
   "cell_type": "code",
   "execution_count": 7,
   "id": "9c0b8163",
   "metadata": {},
   "outputs": [
    {
     "name": "stdout",
     "output_type": "stream",
     "text": [
      "This DataFrame has 90 observations (countries) and 63 variables"
     ]
    }
   ],
   "source": [
    "#dimenntions of dataframe \n",
    "\n",
    "a = size(growth,1)\n",
    "b =  size(growth,2)\n",
    "\n",
    "print(\"This DataFrame has \",a, \" observations (countries) and \",b,\" variables\")"
   ]
  },
  {
   "cell_type": "code",
   "execution_count": 8,
   "id": "19c00c97",
   "metadata": {},
   "outputs": [
    {
     "data": {
      "text/html": [
       "<table class=\"data-frame\"><thead><tr><th></th><th>y</th></tr><tr><th></th><th>Float64</th></tr></thead><tbody><p>90 rows × 1 columns</p><tr><th>1</th><td>-0.0243358</td></tr><tr><th>2</th><td>0.100473</td></tr><tr><th>3</th><td>0.0670515</td></tr><tr><th>4</th><td>0.0640892</td></tr><tr><th>5</th><td>0.0279295</td></tr><tr><th>6</th><td>0.0464074</td></tr><tr><th>7</th><td>0.0673323</td></tr><tr><th>8</th><td>0.0209777</td></tr><tr><th>9</th><td>0.0335512</td></tr><tr><th>10</th><td>0.0391465</td></tr><tr><th>11</th><td>0.0761265</td></tr><tr><th>12</th><td>0.127951</td></tr><tr><th>13</th><td>-0.0243261</td></tr><tr><th>14</th><td>0.0782934</td></tr><tr><th>15</th><td>0.112912</td></tr><tr><th>16</th><td>0.0523082</td></tr><tr><th>17</th><td>0.0363909</td></tr><tr><th>18</th><td>0.0297382</td></tr><tr><th>19</th><td>-0.0566436</td></tr><tr><th>20</th><td>0.0192048</td></tr><tr><th>21</th><td>0.085206</td></tr><tr><th>22</th><td>0.133982</td></tr><tr><th>23</th><td>0.173025</td></tr><tr><th>24</th><td>0.109699</td></tr><tr><th>25</th><td>0.0159899</td></tr><tr><th>26</th><td>0.0622498</td></tr><tr><th>27</th><td>0.109871</td></tr><tr><th>28</th><td>0.0921063</td></tr><tr><th>29</th><td>0.083376</td></tr><tr><th>30</th><td>0.0762335</td></tr><tr><th>&vellip;</th><td>&vellip;</td></tr></tbody></table>"
      ],
      "text/latex": [
       "\\begin{tabular}{r|c}\n",
       "\t& y\\\\\n",
       "\t\\hline\n",
       "\t& Float64\\\\\n",
       "\t\\hline\n",
       "\t1 & -0.0243358 \\\\\n",
       "\t2 & 0.100473 \\\\\n",
       "\t3 & 0.0670515 \\\\\n",
       "\t4 & 0.0640892 \\\\\n",
       "\t5 & 0.0279295 \\\\\n",
       "\t6 & 0.0464074 \\\\\n",
       "\t7 & 0.0673323 \\\\\n",
       "\t8 & 0.0209777 \\\\\n",
       "\t9 & 0.0335512 \\\\\n",
       "\t10 & 0.0391465 \\\\\n",
       "\t11 & 0.0761265 \\\\\n",
       "\t12 & 0.127951 \\\\\n",
       "\t13 & -0.0243261 \\\\\n",
       "\t14 & 0.0782934 \\\\\n",
       "\t15 & 0.112912 \\\\\n",
       "\t16 & 0.0523082 \\\\\n",
       "\t17 & 0.0363909 \\\\\n",
       "\t18 & 0.0297382 \\\\\n",
       "\t19 & -0.0566436 \\\\\n",
       "\t20 & 0.0192048 \\\\\n",
       "\t21 & 0.085206 \\\\\n",
       "\t22 & 0.133982 \\\\\n",
       "\t23 & 0.173025 \\\\\n",
       "\t24 & 0.109699 \\\\\n",
       "\t25 & 0.0159899 \\\\\n",
       "\t26 & 0.0622498 \\\\\n",
       "\t27 & 0.109871 \\\\\n",
       "\t28 & 0.0921063 \\\\\n",
       "\t29 & 0.083376 \\\\\n",
       "\t30 & 0.0762335 \\\\\n",
       "\t$\\dots$ & $\\dots$ \\\\\n",
       "\\end{tabular}\n"
      ],
      "text/plain": [
       "90×1 DataFrame\n",
       "│ Row │ y          │\n",
       "│     │ \u001b[90mFloat64\u001b[39m    │\n",
       "├─────┼────────────┤\n",
       "│ 1   │ -0.0243358 │\n",
       "│ 2   │ 0.100473   │\n",
       "│ 3   │ 0.0670515  │\n",
       "│ 4   │ 0.0640892  │\n",
       "│ 5   │ 0.0279295  │\n",
       "│ 6   │ 0.0464074  │\n",
       "│ 7   │ 0.0673323  │\n",
       "│ 8   │ 0.0209777  │\n",
       "│ 9   │ 0.0335512  │\n",
       "│ 10  │ 0.0391465  │\n",
       "⋮\n",
       "│ 80  │ 0.0652286  │\n",
       "│ 81  │ 0.038095   │\n",
       "│ 82  │ 0.034213   │\n",
       "│ 83  │ 0.0527591  │\n",
       "│ 84  │ 0.0384156  │\n",
       "│ 85  │ 0.0318948  │\n",
       "│ 86  │ 0.031196   │\n",
       "│ 87  │ 0.0340957  │\n",
       "│ 88  │ 0.0469005  │\n",
       "│ 89  │ 0.0397734  │\n",
       "│ 90  │ 0.0406415  │"
      ]
     },
     "execution_count": 8,
     "metadata": {},
     "output_type": "execute_result"
    }
   ],
   "source": [
    "# set variable of interest\n",
    "\n",
    "y = growth[!, \"Outcome\"]\n",
    "y = DataFrame([y], [:y])"
   ]
  },
  {
   "cell_type": "code",
   "execution_count": 9,
   "id": "f2537256",
   "metadata": {},
   "outputs": [
    {
     "data": {
      "text/html": [
       "<table class=\"data-frame\"><thead><tr><th></th><th>intercept</th><th>gdpsh465</th><th>bmp1l</th><th>freeop</th><th>freetar</th><th>h65</th><th>hm65</th><th>hf65</th><th>p65</th></tr><tr><th></th><th>Int32</th><th>Float64</th><th>Float64</th><th>Float64</th><th>Float64</th><th>Float64</th><th>Float64</th><th>Float64</th><th>Float64</th></tr></thead><tbody><p>90 rows × 62 columns (omitted printing of 53 columns)</p><tr><th>1</th><td>1</td><td>6.59167</td><td>0.2837</td><td>0.153491</td><td>0.043888</td><td>0.007</td><td>0.013</td><td>0.001</td><td>0.29</td></tr><tr><th>2</th><td>1</td><td>6.82979</td><td>0.6141</td><td>0.313509</td><td>0.061827</td><td>0.019</td><td>0.032</td><td>0.007</td><td>0.91</td></tr><tr><th>3</th><td>1</td><td>8.89508</td><td>0.0</td><td>0.204244</td><td>0.009186</td><td>0.26</td><td>0.325</td><td>0.201</td><td>1.0</td></tr><tr><th>4</th><td>1</td><td>7.56528</td><td>0.1997</td><td>0.248714</td><td>0.03627</td><td>0.061</td><td>0.07</td><td>0.051</td><td>1.0</td></tr><tr><th>5</th><td>1</td><td>7.1624</td><td>0.174</td><td>0.299252</td><td>0.037367</td><td>0.017</td><td>0.027</td><td>0.007</td><td>0.82</td></tr><tr><th>6</th><td>1</td><td>7.21891</td><td>0.0</td><td>0.258865</td><td>0.02088</td><td>0.023</td><td>0.038</td><td>0.006</td><td>0.5</td></tr><tr><th>7</th><td>1</td><td>7.8536</td><td>0.0</td><td>0.182525</td><td>0.014385</td><td>0.039</td><td>0.063</td><td>0.014</td><td>0.92</td></tr><tr><th>8</th><td>1</td><td>7.70391</td><td>0.2776</td><td>0.215275</td><td>0.029713</td><td>0.024</td><td>0.035</td><td>0.013</td><td>0.69</td></tr><tr><th>9</th><td>1</td><td>9.06346</td><td>0.0</td><td>0.109614</td><td>0.002171</td><td>0.402</td><td>0.488</td><td>0.314</td><td>1.0</td></tr><tr><th>10</th><td>1</td><td>8.15191</td><td>0.1484</td><td>0.110885</td><td>0.028579</td><td>0.145</td><td>0.173</td><td>0.114</td><td>1.0</td></tr><tr><th>11</th><td>1</td><td>6.92952</td><td>0.0296</td><td>0.165784</td><td>0.020115</td><td>0.046</td><td>0.066</td><td>0.025</td><td>0.73</td></tr><tr><th>12</th><td>1</td><td>7.23778</td><td>0.2151</td><td>0.078488</td><td>0.011581</td><td>0.022</td><td>0.031</td><td>0.014</td><td>1.0</td></tr><tr><th>13</th><td>1</td><td>8.11582</td><td>0.4318</td><td>0.137482</td><td>0.026547</td><td>0.059</td><td>0.073</td><td>0.045</td><td>1.0</td></tr><tr><th>14</th><td>1</td><td>7.2717</td><td>0.1689</td><td>0.164598</td><td>0.044446</td><td>0.029</td><td>0.045</td><td>0.013</td><td>0.84</td></tr><tr><th>15</th><td>1</td><td>7.12125</td><td>0.1832</td><td>0.188016</td><td>0.045678</td><td>0.033</td><td>0.051</td><td>0.015</td><td>0.91</td></tr><tr><th>16</th><td>1</td><td>6.97728</td><td>0.0962</td><td>0.204611</td><td>0.077852</td><td>0.037</td><td>0.043</td><td>0.03</td><td>1.0</td></tr><tr><th>17</th><td>1</td><td>7.64969</td><td>0.0227</td><td>0.136287</td><td>0.04673</td><td>0.081</td><td>0.105</td><td>0.056</td><td>0.99</td></tr><tr><th>18</th><td>1</td><td>8.05674</td><td>0.0208</td><td>0.197853</td><td>0.037224</td><td>0.083</td><td>0.097</td><td>0.069</td><td>1.0</td></tr><tr><th>19</th><td>1</td><td>8.78094</td><td>0.2654</td><td>0.189867</td><td>0.031747</td><td>0.068</td><td>0.089</td><td>0.046</td><td>0.94</td></tr><tr><th>20</th><td>1</td><td>6.28786</td><td>0.4207</td><td>0.130682</td><td>0.109921</td><td>0.053</td><td>0.039</td><td>0.011</td><td>0.74</td></tr><tr><th>21</th><td>1</td><td>6.13773</td><td>0.1371</td><td>0.123818</td><td>0.015897</td><td>0.028</td><td>0.025</td><td>0.007</td><td>0.72</td></tr><tr><th>22</th><td>1</td><td>8.12888</td><td>0.0</td><td>0.16721</td><td>0.003311</td><td>0.129</td><td>0.196</td><td>0.063</td><td>1.0</td></tr><tr><th>23</th><td>1</td><td>6.68085</td><td>0.4713</td><td>0.228424</td><td>0.029328</td><td>0.062</td><td>0.09</td><td>0.032</td><td>1.0</td></tr><tr><th>24</th><td>1</td><td>7.17702</td><td>0.0178</td><td>0.18524</td><td>0.015453</td><td>0.02</td><td>0.026</td><td>0.013</td><td>0.9</td></tr><tr><th>25</th><td>1</td><td>6.64898</td><td>0.4762</td><td>0.171181</td><td>0.058937</td><td>0.018</td><td>0.028</td><td>0.007</td><td>0.4</td></tr><tr><th>26</th><td>1</td><td>6.87936</td><td>0.2927</td><td>0.179508</td><td>0.035842</td><td>0.188</td><td>0.169</td><td>0.208</td><td>1.0</td></tr><tr><th>27</th><td>1</td><td>7.3473</td><td>0.1017</td><td>0.247626</td><td>0.037392</td><td>0.08</td><td>0.133</td><td>0.027</td><td>0.78</td></tr><tr><th>28</th><td>1</td><td>6.72503</td><td>0.0266</td><td>0.179933</td><td>0.046376</td><td>0.015</td><td>0.02</td><td>0.01</td><td>0.78</td></tr><tr><th>29</th><td>1</td><td>8.45105</td><td>0.0</td><td>0.358556</td><td>0.016468</td><td>0.09</td><td>0.133</td><td>0.044</td><td>1.0</td></tr><tr><th>30</th><td>1</td><td>8.60245</td><td>0.0</td><td>0.416234</td><td>0.014721</td><td>0.148</td><td>0.194</td><td>0.1</td><td>1.0</td></tr><tr><th>&vellip;</th><td>&vellip;</td><td>&vellip;</td><td>&vellip;</td><td>&vellip;</td><td>&vellip;</td><td>&vellip;</td><td>&vellip;</td><td>&vellip;</td><td>&vellip;</td></tr></tbody></table>"
      ],
      "text/latex": [
       "\\begin{tabular}{r|cccccccccc}\n",
       "\t& intercept & gdpsh465 & bmp1l & freeop & freetar & h65 & hm65 & hf65 & p65 & \\\\\n",
       "\t\\hline\n",
       "\t& Int32 & Float64 & Float64 & Float64 & Float64 & Float64 & Float64 & Float64 & Float64 & \\\\\n",
       "\t\\hline\n",
       "\t1 & 1 & 6.59167 & 0.2837 & 0.153491 & 0.043888 & 0.007 & 0.013 & 0.001 & 0.29 & $\\dots$ \\\\\n",
       "\t2 & 1 & 6.82979 & 0.6141 & 0.313509 & 0.061827 & 0.019 & 0.032 & 0.007 & 0.91 & $\\dots$ \\\\\n",
       "\t3 & 1 & 8.89508 & 0.0 & 0.204244 & 0.009186 & 0.26 & 0.325 & 0.201 & 1.0 & $\\dots$ \\\\\n",
       "\t4 & 1 & 7.56528 & 0.1997 & 0.248714 & 0.03627 & 0.061 & 0.07 & 0.051 & 1.0 & $\\dots$ \\\\\n",
       "\t5 & 1 & 7.1624 & 0.174 & 0.299252 & 0.037367 & 0.017 & 0.027 & 0.007 & 0.82 & $\\dots$ \\\\\n",
       "\t6 & 1 & 7.21891 & 0.0 & 0.258865 & 0.02088 & 0.023 & 0.038 & 0.006 & 0.5 & $\\dots$ \\\\\n",
       "\t7 & 1 & 7.8536 & 0.0 & 0.182525 & 0.014385 & 0.039 & 0.063 & 0.014 & 0.92 & $\\dots$ \\\\\n",
       "\t8 & 1 & 7.70391 & 0.2776 & 0.215275 & 0.029713 & 0.024 & 0.035 & 0.013 & 0.69 & $\\dots$ \\\\\n",
       "\t9 & 1 & 9.06346 & 0.0 & 0.109614 & 0.002171 & 0.402 & 0.488 & 0.314 & 1.0 & $\\dots$ \\\\\n",
       "\t10 & 1 & 8.15191 & 0.1484 & 0.110885 & 0.028579 & 0.145 & 0.173 & 0.114 & 1.0 & $\\dots$ \\\\\n",
       "\t11 & 1 & 6.92952 & 0.0296 & 0.165784 & 0.020115 & 0.046 & 0.066 & 0.025 & 0.73 & $\\dots$ \\\\\n",
       "\t12 & 1 & 7.23778 & 0.2151 & 0.078488 & 0.011581 & 0.022 & 0.031 & 0.014 & 1.0 & $\\dots$ \\\\\n",
       "\t13 & 1 & 8.11582 & 0.4318 & 0.137482 & 0.026547 & 0.059 & 0.073 & 0.045 & 1.0 & $\\dots$ \\\\\n",
       "\t14 & 1 & 7.2717 & 0.1689 & 0.164598 & 0.044446 & 0.029 & 0.045 & 0.013 & 0.84 & $\\dots$ \\\\\n",
       "\t15 & 1 & 7.12125 & 0.1832 & 0.188016 & 0.045678 & 0.033 & 0.051 & 0.015 & 0.91 & $\\dots$ \\\\\n",
       "\t16 & 1 & 6.97728 & 0.0962 & 0.204611 & 0.077852 & 0.037 & 0.043 & 0.03 & 1.0 & $\\dots$ \\\\\n",
       "\t17 & 1 & 7.64969 & 0.0227 & 0.136287 & 0.04673 & 0.081 & 0.105 & 0.056 & 0.99 & $\\dots$ \\\\\n",
       "\t18 & 1 & 8.05674 & 0.0208 & 0.197853 & 0.037224 & 0.083 & 0.097 & 0.069 & 1.0 & $\\dots$ \\\\\n",
       "\t19 & 1 & 8.78094 & 0.2654 & 0.189867 & 0.031747 & 0.068 & 0.089 & 0.046 & 0.94 & $\\dots$ \\\\\n",
       "\t20 & 1 & 6.28786 & 0.4207 & 0.130682 & 0.109921 & 0.053 & 0.039 & 0.011 & 0.74 & $\\dots$ \\\\\n",
       "\t21 & 1 & 6.13773 & 0.1371 & 0.123818 & 0.015897 & 0.028 & 0.025 & 0.007 & 0.72 & $\\dots$ \\\\\n",
       "\t22 & 1 & 8.12888 & 0.0 & 0.16721 & 0.003311 & 0.129 & 0.196 & 0.063 & 1.0 & $\\dots$ \\\\\n",
       "\t23 & 1 & 6.68085 & 0.4713 & 0.228424 & 0.029328 & 0.062 & 0.09 & 0.032 & 1.0 & $\\dots$ \\\\\n",
       "\t24 & 1 & 7.17702 & 0.0178 & 0.18524 & 0.015453 & 0.02 & 0.026 & 0.013 & 0.9 & $\\dots$ \\\\\n",
       "\t25 & 1 & 6.64898 & 0.4762 & 0.171181 & 0.058937 & 0.018 & 0.028 & 0.007 & 0.4 & $\\dots$ \\\\\n",
       "\t26 & 1 & 6.87936 & 0.2927 & 0.179508 & 0.035842 & 0.188 & 0.169 & 0.208 & 1.0 & $\\dots$ \\\\\n",
       "\t27 & 1 & 7.3473 & 0.1017 & 0.247626 & 0.037392 & 0.08 & 0.133 & 0.027 & 0.78 & $\\dots$ \\\\\n",
       "\t28 & 1 & 6.72503 & 0.0266 & 0.179933 & 0.046376 & 0.015 & 0.02 & 0.01 & 0.78 & $\\dots$ \\\\\n",
       "\t29 & 1 & 8.45105 & 0.0 & 0.358556 & 0.016468 & 0.09 & 0.133 & 0.044 & 1.0 & $\\dots$ \\\\\n",
       "\t30 & 1 & 8.60245 & 0.0 & 0.416234 & 0.014721 & 0.148 & 0.194 & 0.1 & 1.0 & $\\dots$ \\\\\n",
       "\t$\\dots$ & $\\dots$ & $\\dots$ & $\\dots$ & $\\dots$ & $\\dots$ & $\\dots$ & $\\dots$ & $\\dots$ & $\\dots$ &  \\\\\n",
       "\\end{tabular}\n"
      ],
      "text/plain": [
       "90×62 DataFrame. Omitted printing of 56 columns\n",
       "│ Row │ intercept │ gdpsh465 │ bmp1l   │ freeop   │ freetar  │ h65     │\n",
       "│     │ \u001b[90mInt32\u001b[39m     │ \u001b[90mFloat64\u001b[39m  │ \u001b[90mFloat64\u001b[39m │ \u001b[90mFloat64\u001b[39m  │ \u001b[90mFloat64\u001b[39m  │ \u001b[90mFloat64\u001b[39m │\n",
       "├─────┼───────────┼──────────┼─────────┼──────────┼──────────┼─────────┤\n",
       "│ 1   │ 1         │ 6.59167  │ 0.2837  │ 0.153491 │ 0.043888 │ 0.007   │\n",
       "│ 2   │ 1         │ 6.82979  │ 0.6141  │ 0.313509 │ 0.061827 │ 0.019   │\n",
       "│ 3   │ 1         │ 8.89508  │ 0.0     │ 0.204244 │ 0.009186 │ 0.26    │\n",
       "│ 4   │ 1         │ 7.56528  │ 0.1997  │ 0.248714 │ 0.03627  │ 0.061   │\n",
       "│ 5   │ 1         │ 7.1624   │ 0.174   │ 0.299252 │ 0.037367 │ 0.017   │\n",
       "│ 6   │ 1         │ 7.21891  │ 0.0     │ 0.258865 │ 0.02088  │ 0.023   │\n",
       "│ 7   │ 1         │ 7.8536   │ 0.0     │ 0.182525 │ 0.014385 │ 0.039   │\n",
       "│ 8   │ 1         │ 7.70391  │ 0.2776  │ 0.215275 │ 0.029713 │ 0.024   │\n",
       "│ 9   │ 1         │ 9.06346  │ 0.0     │ 0.109614 │ 0.002171 │ 0.402   │\n",
       "│ 10  │ 1         │ 8.15191  │ 0.1484  │ 0.110885 │ 0.028579 │ 0.145   │\n",
       "⋮\n",
       "│ 80  │ 1         │ 7.17549  │ 0.0     │ 0.179933 │ 0.046376 │ 0.035   │\n",
       "│ 81  │ 1         │ 9.03097  │ 0.0     │ 0.293138 │ 0.005517 │ 0.245   │\n",
       "│ 82  │ 1         │ 8.99554  │ 0.0     │ 0.30472  │ 0.011658 │ 0.246   │\n",
       "│ 83  │ 1         │ 8.23483  │ 0.0363  │ 0.288405 │ 0.011589 │ 0.183   │\n",
       "│ 84  │ 1         │ 8.33255  │ 0.0     │ 0.345485 │ 0.006503 │ 0.188   │\n",
       "│ 85  │ 1         │ 8.64559  │ 0.0     │ 0.28844  │ 0.005995 │ 0.256   │\n",
       "│ 86  │ 1         │ 8.99106  │ 0.0     │ 0.371898 │ 0.014586 │ 0.255   │\n",
       "│ 87  │ 1         │ 8.02519  │ 0.005   │ 0.296437 │ 0.013615 │ 0.108   │\n",
       "│ 88  │ 1         │ 9.03014  │ 0.0     │ 0.265778 │ 0.008629 │ 0.288   │\n",
       "│ 89  │ 1         │ 8.86531  │ 0.0     │ 0.282939 │ 0.005048 │ 0.188   │\n",
       "│ 90  │ 1         │ 8.91234  │ 0.0     │ 0.150366 │ 0.024377 │ 0.257   │"
      ]
     },
     "execution_count": 9,
     "metadata": {},
     "output_type": "execute_result"
    }
   ],
   "source": [
    "#set the rest of the regressors\n",
    "\n",
    "X = select(growth, Not([\"Outcome\"]))"
   ]
  },
  {
   "cell_type": "code",
   "execution_count": 10,
   "id": "89c4befb",
   "metadata": {},
   "outputs": [
    {
     "data": {
      "text/html": [
       "<table class=\"data-frame\"><thead><tr><th></th><th>y</th><th>intercept</th><th>gdpsh465</th><th>bmp1l</th><th>freeop</th><th>freetar</th><th>h65</th><th>hm65</th></tr><tr><th></th><th>Float64</th><th>Int32</th><th>Float64</th><th>Float64</th><th>Float64</th><th>Float64</th><th>Float64</th><th>Float64</th></tr></thead><tbody><p>90 rows × 63 columns (omitted printing of 55 columns)</p><tr><th>1</th><td>-0.0243358</td><td>1</td><td>6.59167</td><td>0.2837</td><td>0.153491</td><td>0.043888</td><td>0.007</td><td>0.013</td></tr><tr><th>2</th><td>0.100473</td><td>1</td><td>6.82979</td><td>0.6141</td><td>0.313509</td><td>0.061827</td><td>0.019</td><td>0.032</td></tr><tr><th>3</th><td>0.0670515</td><td>1</td><td>8.89508</td><td>0.0</td><td>0.204244</td><td>0.009186</td><td>0.26</td><td>0.325</td></tr><tr><th>4</th><td>0.0640892</td><td>1</td><td>7.56528</td><td>0.1997</td><td>0.248714</td><td>0.03627</td><td>0.061</td><td>0.07</td></tr><tr><th>5</th><td>0.0279295</td><td>1</td><td>7.1624</td><td>0.174</td><td>0.299252</td><td>0.037367</td><td>0.017</td><td>0.027</td></tr><tr><th>6</th><td>0.0464074</td><td>1</td><td>7.21891</td><td>0.0</td><td>0.258865</td><td>0.02088</td><td>0.023</td><td>0.038</td></tr><tr><th>7</th><td>0.0673323</td><td>1</td><td>7.8536</td><td>0.0</td><td>0.182525</td><td>0.014385</td><td>0.039</td><td>0.063</td></tr><tr><th>8</th><td>0.0209777</td><td>1</td><td>7.70391</td><td>0.2776</td><td>0.215275</td><td>0.029713</td><td>0.024</td><td>0.035</td></tr><tr><th>9</th><td>0.0335512</td><td>1</td><td>9.06346</td><td>0.0</td><td>0.109614</td><td>0.002171</td><td>0.402</td><td>0.488</td></tr><tr><th>10</th><td>0.0391465</td><td>1</td><td>8.15191</td><td>0.1484</td><td>0.110885</td><td>0.028579</td><td>0.145</td><td>0.173</td></tr><tr><th>11</th><td>0.0761265</td><td>1</td><td>6.92952</td><td>0.0296</td><td>0.165784</td><td>0.020115</td><td>0.046</td><td>0.066</td></tr><tr><th>12</th><td>0.127951</td><td>1</td><td>7.23778</td><td>0.2151</td><td>0.078488</td><td>0.011581</td><td>0.022</td><td>0.031</td></tr><tr><th>13</th><td>-0.0243261</td><td>1</td><td>8.11582</td><td>0.4318</td><td>0.137482</td><td>0.026547</td><td>0.059</td><td>0.073</td></tr><tr><th>14</th><td>0.0782934</td><td>1</td><td>7.2717</td><td>0.1689</td><td>0.164598</td><td>0.044446</td><td>0.029</td><td>0.045</td></tr><tr><th>15</th><td>0.112912</td><td>1</td><td>7.12125</td><td>0.1832</td><td>0.188016</td><td>0.045678</td><td>0.033</td><td>0.051</td></tr><tr><th>16</th><td>0.0523082</td><td>1</td><td>6.97728</td><td>0.0962</td><td>0.204611</td><td>0.077852</td><td>0.037</td><td>0.043</td></tr><tr><th>17</th><td>0.0363909</td><td>1</td><td>7.64969</td><td>0.0227</td><td>0.136287</td><td>0.04673</td><td>0.081</td><td>0.105</td></tr><tr><th>18</th><td>0.0297382</td><td>1</td><td>8.05674</td><td>0.0208</td><td>0.197853</td><td>0.037224</td><td>0.083</td><td>0.097</td></tr><tr><th>19</th><td>-0.0566436</td><td>1</td><td>8.78094</td><td>0.2654</td><td>0.189867</td><td>0.031747</td><td>0.068</td><td>0.089</td></tr><tr><th>20</th><td>0.0192048</td><td>1</td><td>6.28786</td><td>0.4207</td><td>0.130682</td><td>0.109921</td><td>0.053</td><td>0.039</td></tr><tr><th>21</th><td>0.085206</td><td>1</td><td>6.13773</td><td>0.1371</td><td>0.123818</td><td>0.015897</td><td>0.028</td><td>0.025</td></tr><tr><th>22</th><td>0.133982</td><td>1</td><td>8.12888</td><td>0.0</td><td>0.16721</td><td>0.003311</td><td>0.129</td><td>0.196</td></tr><tr><th>23</th><td>0.173025</td><td>1</td><td>6.68085</td><td>0.4713</td><td>0.228424</td><td>0.029328</td><td>0.062</td><td>0.09</td></tr><tr><th>24</th><td>0.109699</td><td>1</td><td>7.17702</td><td>0.0178</td><td>0.18524</td><td>0.015453</td><td>0.02</td><td>0.026</td></tr><tr><th>25</th><td>0.0159899</td><td>1</td><td>6.64898</td><td>0.4762</td><td>0.171181</td><td>0.058937</td><td>0.018</td><td>0.028</td></tr><tr><th>26</th><td>0.0622498</td><td>1</td><td>6.87936</td><td>0.2927</td><td>0.179508</td><td>0.035842</td><td>0.188</td><td>0.169</td></tr><tr><th>27</th><td>0.109871</td><td>1</td><td>7.3473</td><td>0.1017</td><td>0.247626</td><td>0.037392</td><td>0.08</td><td>0.133</td></tr><tr><th>28</th><td>0.0921063</td><td>1</td><td>6.72503</td><td>0.0266</td><td>0.179933</td><td>0.046376</td><td>0.015</td><td>0.02</td></tr><tr><th>29</th><td>0.083376</td><td>1</td><td>8.45105</td><td>0.0</td><td>0.358556</td><td>0.016468</td><td>0.09</td><td>0.133</td></tr><tr><th>30</th><td>0.0762335</td><td>1</td><td>8.60245</td><td>0.0</td><td>0.416234</td><td>0.014721</td><td>0.148</td><td>0.194</td></tr><tr><th>&vellip;</th><td>&vellip;</td><td>&vellip;</td><td>&vellip;</td><td>&vellip;</td><td>&vellip;</td><td>&vellip;</td><td>&vellip;</td><td>&vellip;</td></tr></tbody></table>"
      ],
      "text/latex": [
       "\\begin{tabular}{r|ccccccccc}\n",
       "\t& y & intercept & gdpsh465 & bmp1l & freeop & freetar & h65 & hm65 & \\\\\n",
       "\t\\hline\n",
       "\t& Float64 & Int32 & Float64 & Float64 & Float64 & Float64 & Float64 & Float64 & \\\\\n",
       "\t\\hline\n",
       "\t1 & -0.0243358 & 1 & 6.59167 & 0.2837 & 0.153491 & 0.043888 & 0.007 & 0.013 & $\\dots$ \\\\\n",
       "\t2 & 0.100473 & 1 & 6.82979 & 0.6141 & 0.313509 & 0.061827 & 0.019 & 0.032 & $\\dots$ \\\\\n",
       "\t3 & 0.0670515 & 1 & 8.89508 & 0.0 & 0.204244 & 0.009186 & 0.26 & 0.325 & $\\dots$ \\\\\n",
       "\t4 & 0.0640892 & 1 & 7.56528 & 0.1997 & 0.248714 & 0.03627 & 0.061 & 0.07 & $\\dots$ \\\\\n",
       "\t5 & 0.0279295 & 1 & 7.1624 & 0.174 & 0.299252 & 0.037367 & 0.017 & 0.027 & $\\dots$ \\\\\n",
       "\t6 & 0.0464074 & 1 & 7.21891 & 0.0 & 0.258865 & 0.02088 & 0.023 & 0.038 & $\\dots$ \\\\\n",
       "\t7 & 0.0673323 & 1 & 7.8536 & 0.0 & 0.182525 & 0.014385 & 0.039 & 0.063 & $\\dots$ \\\\\n",
       "\t8 & 0.0209777 & 1 & 7.70391 & 0.2776 & 0.215275 & 0.029713 & 0.024 & 0.035 & $\\dots$ \\\\\n",
       "\t9 & 0.0335512 & 1 & 9.06346 & 0.0 & 0.109614 & 0.002171 & 0.402 & 0.488 & $\\dots$ \\\\\n",
       "\t10 & 0.0391465 & 1 & 8.15191 & 0.1484 & 0.110885 & 0.028579 & 0.145 & 0.173 & $\\dots$ \\\\\n",
       "\t11 & 0.0761265 & 1 & 6.92952 & 0.0296 & 0.165784 & 0.020115 & 0.046 & 0.066 & $\\dots$ \\\\\n",
       "\t12 & 0.127951 & 1 & 7.23778 & 0.2151 & 0.078488 & 0.011581 & 0.022 & 0.031 & $\\dots$ \\\\\n",
       "\t13 & -0.0243261 & 1 & 8.11582 & 0.4318 & 0.137482 & 0.026547 & 0.059 & 0.073 & $\\dots$ \\\\\n",
       "\t14 & 0.0782934 & 1 & 7.2717 & 0.1689 & 0.164598 & 0.044446 & 0.029 & 0.045 & $\\dots$ \\\\\n",
       "\t15 & 0.112912 & 1 & 7.12125 & 0.1832 & 0.188016 & 0.045678 & 0.033 & 0.051 & $\\dots$ \\\\\n",
       "\t16 & 0.0523082 & 1 & 6.97728 & 0.0962 & 0.204611 & 0.077852 & 0.037 & 0.043 & $\\dots$ \\\\\n",
       "\t17 & 0.0363909 & 1 & 7.64969 & 0.0227 & 0.136287 & 0.04673 & 0.081 & 0.105 & $\\dots$ \\\\\n",
       "\t18 & 0.0297382 & 1 & 8.05674 & 0.0208 & 0.197853 & 0.037224 & 0.083 & 0.097 & $\\dots$ \\\\\n",
       "\t19 & -0.0566436 & 1 & 8.78094 & 0.2654 & 0.189867 & 0.031747 & 0.068 & 0.089 & $\\dots$ \\\\\n",
       "\t20 & 0.0192048 & 1 & 6.28786 & 0.4207 & 0.130682 & 0.109921 & 0.053 & 0.039 & $\\dots$ \\\\\n",
       "\t21 & 0.085206 & 1 & 6.13773 & 0.1371 & 0.123818 & 0.015897 & 0.028 & 0.025 & $\\dots$ \\\\\n",
       "\t22 & 0.133982 & 1 & 8.12888 & 0.0 & 0.16721 & 0.003311 & 0.129 & 0.196 & $\\dots$ \\\\\n",
       "\t23 & 0.173025 & 1 & 6.68085 & 0.4713 & 0.228424 & 0.029328 & 0.062 & 0.09 & $\\dots$ \\\\\n",
       "\t24 & 0.109699 & 1 & 7.17702 & 0.0178 & 0.18524 & 0.015453 & 0.02 & 0.026 & $\\dots$ \\\\\n",
       "\t25 & 0.0159899 & 1 & 6.64898 & 0.4762 & 0.171181 & 0.058937 & 0.018 & 0.028 & $\\dots$ \\\\\n",
       "\t26 & 0.0622498 & 1 & 6.87936 & 0.2927 & 0.179508 & 0.035842 & 0.188 & 0.169 & $\\dots$ \\\\\n",
       "\t27 & 0.109871 & 1 & 7.3473 & 0.1017 & 0.247626 & 0.037392 & 0.08 & 0.133 & $\\dots$ \\\\\n",
       "\t28 & 0.0921063 & 1 & 6.72503 & 0.0266 & 0.179933 & 0.046376 & 0.015 & 0.02 & $\\dots$ \\\\\n",
       "\t29 & 0.083376 & 1 & 8.45105 & 0.0 & 0.358556 & 0.016468 & 0.09 & 0.133 & $\\dots$ \\\\\n",
       "\t30 & 0.0762335 & 1 & 8.60245 & 0.0 & 0.416234 & 0.014721 & 0.148 & 0.194 & $\\dots$ \\\\\n",
       "\t$\\dots$ & $\\dots$ & $\\dots$ & $\\dots$ & $\\dots$ & $\\dots$ & $\\dots$ & $\\dots$ & $\\dots$ &  \\\\\n",
       "\\end{tabular}\n"
      ],
      "text/plain": [
       "90×63 DataFrame. Omitted printing of 57 columns\n",
       "│ Row │ y          │ intercept │ gdpsh465 │ bmp1l   │ freeop   │ freetar  │\n",
       "│     │ \u001b[90mFloat64\u001b[39m    │ \u001b[90mInt32\u001b[39m     │ \u001b[90mFloat64\u001b[39m  │ \u001b[90mFloat64\u001b[39m │ \u001b[90mFloat64\u001b[39m  │ \u001b[90mFloat64\u001b[39m  │\n",
       "├─────┼────────────┼───────────┼──────────┼─────────┼──────────┼──────────┤\n",
       "│ 1   │ -0.0243358 │ 1         │ 6.59167  │ 0.2837  │ 0.153491 │ 0.043888 │\n",
       "│ 2   │ 0.100473   │ 1         │ 6.82979  │ 0.6141  │ 0.313509 │ 0.061827 │\n",
       "│ 3   │ 0.0670515  │ 1         │ 8.89508  │ 0.0     │ 0.204244 │ 0.009186 │\n",
       "│ 4   │ 0.0640892  │ 1         │ 7.56528  │ 0.1997  │ 0.248714 │ 0.03627  │\n",
       "│ 5   │ 0.0279295  │ 1         │ 7.1624   │ 0.174   │ 0.299252 │ 0.037367 │\n",
       "│ 6   │ 0.0464074  │ 1         │ 7.21891  │ 0.0     │ 0.258865 │ 0.02088  │\n",
       "│ 7   │ 0.0673323  │ 1         │ 7.8536   │ 0.0     │ 0.182525 │ 0.014385 │\n",
       "│ 8   │ 0.0209777  │ 1         │ 7.70391  │ 0.2776  │ 0.215275 │ 0.029713 │\n",
       "│ 9   │ 0.0335512  │ 1         │ 9.06346  │ 0.0     │ 0.109614 │ 0.002171 │\n",
       "│ 10  │ 0.0391465  │ 1         │ 8.15191  │ 0.1484  │ 0.110885 │ 0.028579 │\n",
       "⋮\n",
       "│ 80  │ 0.0652286  │ 1         │ 7.17549  │ 0.0     │ 0.179933 │ 0.046376 │\n",
       "│ 81  │ 0.038095   │ 1         │ 9.03097  │ 0.0     │ 0.293138 │ 0.005517 │\n",
       "│ 82  │ 0.034213   │ 1         │ 8.99554  │ 0.0     │ 0.30472  │ 0.011658 │\n",
       "│ 83  │ 0.0527591  │ 1         │ 8.23483  │ 0.0363  │ 0.288405 │ 0.011589 │\n",
       "│ 84  │ 0.0384156  │ 1         │ 8.33255  │ 0.0     │ 0.345485 │ 0.006503 │\n",
       "│ 85  │ 0.0318948  │ 1         │ 8.64559  │ 0.0     │ 0.28844  │ 0.005995 │\n",
       "│ 86  │ 0.031196   │ 1         │ 8.99106  │ 0.0     │ 0.371898 │ 0.014586 │\n",
       "│ 87  │ 0.0340957  │ 1         │ 8.02519  │ 0.005   │ 0.296437 │ 0.013615 │\n",
       "│ 88  │ 0.0469005  │ 1         │ 9.03014  │ 0.0     │ 0.265778 │ 0.008629 │\n",
       "│ 89  │ 0.0397734  │ 1         │ 8.86531  │ 0.0     │ 0.282939 │ 0.005048 │\n",
       "│ 90  │ 0.0406415  │ 1         │ 8.91234  │ 0.0     │ 0.150366 │ 0.024377 │"
      ]
     },
     "execution_count": 10,
     "metadata": {},
     "output_type": "execute_result"
    }
   ],
   "source": [
    "data = [y X]"
   ]
  },
  {
   "cell_type": "markdown",
   "id": "9ec40a97",
   "metadata": {},
   "source": [
    "### 1. OLS regression"
   ]
  },
  {
   "cell_type": "code",
   "execution_count": 11,
   "id": "0254bbd0",
   "metadata": {},
   "outputs": [
    {
     "data": {
      "text/plain": [
       "StatsModels.TableRegressionModel{LinearModel{GLM.LmResp{Vector{Float64}}, GLM.DensePredChol{Float64, Cholesky{Float64, Matrix{Float64}}}}, Matrix{Float64}}\n",
       "\n",
       "y ~ 1 + gdpsh465 + bmp1l + freeop + freetar + h65 + hm65 + hf65 + p65 + pm65 + pf65 + s65 + sm65 + sf65 + fert65 + mort65 + lifee065 + gpop1 + fert1 + mort1 + invsh41 + geetot1 + geerec1 + gde1 + govwb1 + govsh41 + gvxdxe41 + high65 + highm65 + highf65 + highc65 + highcm65 + highcf65 + human65 + humanm65 + humanf65 + hyr65 + hyrm65 + hyrf65 + no65 + nom65 + nof65 + pinstab1 + pop65 + worker65 + pop1565 + pop6565 + sec65 + secm65 + secf65 + secc65 + seccm65 + seccf65 + syr65 + syrm65 + syrf65 + teapri65 + teasec65 + ex1 + im1 + xr65 + tot1\n",
       "\n",
       "Coefficients:\n",
       "─────────────────────────────────────────────────────────────────────────────────────\n",
       "                    Coef.    Std. Error      t  Pr(>|t|)      Lower 95%     Upper 95%\n",
       "─────────────────────────────────────────────────────────────────────────────────────\n",
       "(Intercept)   0.247161      0.784502      0.32    0.7551   -1.35982        1.85414\n",
       "gdpsh465     -0.00937799    0.0298877    -0.31    0.7560   -0.0706002      0.0518442\n",
       "bmp1l        -0.0688627     0.0325307    -2.12    0.0433   -0.135499      -0.00222666\n",
       "freeop        0.080069      0.207864      0.39    0.7030   -0.345721       0.505859\n",
       "freetar      -0.488963      0.418163     -1.17    0.2521   -1.34553        0.367605\n",
       "h65          -2.3621        0.857292     -2.76    0.0102   -4.11818       -0.606016\n",
       "hm65          0.707143      0.523145      1.35    0.1873   -0.364471       1.77876\n",
       "hf65          1.69345       0.503189      3.37    0.0022    0.662713       2.72418\n",
       "p65           0.265527      0.164294      1.62    0.1173   -0.0710144      0.602068\n",
       "pm65          0.136953      0.151217      0.91    0.3728   -0.172802       0.446708\n",
       "pf65         -0.331267      0.165123     -2.01    0.0546   -0.669506       0.00697217\n",
       "s65           0.0390793     0.185522      0.21    0.8347   -0.340946       0.419105\n",
       "sm65         -0.0306685     0.116794     -0.26    0.7948   -0.26991        0.208573\n",
       "sf65         -0.179917      0.118099     -1.52    0.1389   -0.421832       0.0619974\n",
       "fert65        0.00688083    0.0270514     0.25    0.8011   -0.0485315      0.0622932\n",
       "mort65       -0.233455      0.817422     -0.29    0.7773   -1.90787        1.44096\n",
       "lifee065     -0.0149145     0.193336     -0.08    0.9391   -0.410944       0.381116\n",
       "gpop1         0.970185      1.81221       0.54    0.5966   -2.74196        4.68233\n",
       "fert1         0.00883819    0.0350415     0.25    0.8027   -0.062941       0.0806174\n",
       "mort1         0.0665629     0.68481       0.10    0.9233   -1.33621        1.46933\n",
       "invsh41       0.0744611     0.108447      0.69    0.4980   -0.147682       0.296605\n",
       "geetot1      -0.715105      1.68014      -0.43    0.6736   -4.15671        2.7265\n",
       "geerec1       0.630005      2.44738       0.26    0.7987   -4.38322        5.64323\n",
       "gde1         -0.443575      1.67121      -0.27    0.7926   -3.86689        2.97974\n",
       "govwb1        0.337452      0.437987      0.77    0.4475   -0.559723       1.23463\n",
       "govsh41       0.463175      1.92544       0.24    0.8117   -3.4809         4.40725\n",
       "gvxdxe41     -0.793382      2.0594       -0.39    0.7030   -5.01187        3.4251\n",
       "high65       -0.752484      0.905722     -0.83    0.4131   -2.60777        1.1028\n",
       "highm65      -0.390262      0.681249     -0.57    0.5713   -1.78574        1.00521\n",
       "highf65      -0.417749      0.56149      -0.74    0.4631   -1.56791        0.732412\n",
       "highc65      -2.21579       1.48081      -1.50    0.1458   -5.24909        0.817506\n",
       "highcm65      0.279718      0.658239      0.42    0.6741   -1.06862        1.62806\n",
       "highcf65      0.392077      0.766025      0.51    0.6128   -1.17705        1.96121\n",
       "human65       2.33727       3.30727       0.71    0.4856   -4.43736        9.1119\n",
       "humanm65     -1.20925       1.61852      -0.75    0.4612   -4.52463        2.10613\n",
       "humanf65     -1.10395       1.68469      -0.66    0.5176   -4.55489        2.34699\n",
       "hyr65        54.9139       23.8873        2.30    0.0292    5.98298      103.845\n",
       "hyrm65       12.935        23.1714        0.56    0.5811  -34.5295        60.3996\n",
       "hyrf65        9.09258      17.6696        0.51    0.6109  -27.1019        45.2871\n",
       "no65          0.0372099     0.131973      0.28    0.7801   -0.233125       0.307545\n",
       "nom65        -0.0211977     0.0649598    -0.33    0.7466   -0.154262       0.111866\n",
       "nof65        -0.0168578     0.0670026    -0.25    0.8032   -0.154106       0.120391\n",
       "pinstab1     -0.0499711     0.0309208    -1.62    0.1173   -0.11331        0.0133673\n",
       "pop65         1.0318e-7     1.31795e-7    0.78    0.4403   -1.6679e-7      3.7315e-7\n",
       "worker65      0.034079      0.156191      0.22    0.8289   -0.285864       0.354022\n",
       "pop1565      -0.465535      0.471334     -0.99    0.3318   -1.43102        0.499949\n",
       "pop6565      -1.35745       0.634942     -2.14    0.0414   -2.65807       -0.0568295\n",
       "sec65        -0.0108928     0.307662     -0.04    0.9720   -0.641109       0.619324\n",
       "secm65        0.00334366    0.151192      0.02    0.9825   -0.30636        0.313047\n",
       "secf65       -0.00230433    0.157972     -0.01    0.9885   -0.325894       0.321286\n",
       "secc65       -0.491528      0.729041     -0.67    0.5057   -1.9849         1.00184\n",
       "seccm65       0.259602      0.355653      0.73    0.4715   -0.468921       0.988124\n",
       "seccf65       0.220652      0.373333      0.59    0.5592   -0.544086       0.985391\n",
       "syr65        -0.755581      7.97676      -0.09    0.9252  -17.0952        15.5841\n",
       "syrm65        0.310901      3.89673       0.08    0.9370   -7.67119        8.29299\n",
       "syrf65        0.759281      4.11063       0.18    0.8548   -7.66097        9.17953\n",
       "teapri65      3.95452e-5    0.000770041   0.05    0.9594   -0.00153781     0.0016169\n",
       "teasec65      0.000249667   0.00117123    0.21    0.8327   -0.00214949     0.00264882\n",
       "ex1          -0.580408      0.241847     -2.40    0.0233   -1.07581       -0.0850066\n",
       "im1           0.591445      0.250298      2.36    0.0253    0.0787333      1.10416\n",
       "xr65         -0.000103777   5.41676e-5   -1.92    0.0656   -0.000214734    7.18049e-6\n",
       "tot1         -0.127901      0.112595     -1.14    0.2656   -0.358542       0.10274\n",
       "─────────────────────────────────────────────────────────────────────────────────────"
      ]
     },
     "execution_count": 11,
     "metadata": {},
     "output_type": "execute_result"
    }
   ],
   "source": [
    "#basic Model\n",
    "reg_ols  = lm(term(:y) ~ sum(term.(names(data[!, Not([\"y\", \"intercept\"])]))), data, dropcollinear=false)"
   ]
  },
  {
   "cell_type": "code",
   "execution_count": 12,
   "id": "92c6128b",
   "metadata": {},
   "outputs": [
    {
     "data": {
      "text/plain": [
       "StatsModels.TableRegressionModel{LinearModel{GLM.LmResp{Vector{Float64}}, GLM.DensePredChol{Float64, Cholesky{Float64, Matrix{Float64}}}}, Matrix{Float64}}\n",
       "\n",
       "Outcome ~ 1 + gdpsh465 + bmp1l + freeop + freetar + h65 + hm65 + hf65 + p65 + pm65 + pf65 + s65 + sm65 + sf65 + fert65 + mort65 + lifee065 + gpop1 + fert1 + mort1 + invsh41 + geetot1 + geerec1 + gde1 + govwb1 + govsh41 + gvxdxe41 + high65 + highm65 + highf65 + highc65 + highcm65 + highcf65 + human65 + humanm65 + humanf65 + hyr65 + hyrm65 + hyrf65 + no65 + nom65 + nof65 + pinstab1 + pop65 + worker65 + pop1565 + pop6565 + sec65 + secm65 + secf65 + secc65 + seccm65 + seccf65 + syr65 + syrm65 + syrf65 + teapri65 + teasec65 + ex1 + im1 + xr65 + tot1\n",
       "\n",
       "Coefficients:\n",
       "─────────────────────────────────────────────────────────────────────────────────────\n",
       "                    Coef.    Std. Error      t  Pr(>|t|)      Lower 95%     Upper 95%\n",
       "─────────────────────────────────────────────────────────────────────────────────────\n",
       "(Intercept)   0.247161      0.784502      0.32    0.7551   -1.35982        1.85414\n",
       "gdpsh465     -0.00937799    0.0298877    -0.31    0.7560   -0.0706002      0.0518442\n",
       "bmp1l        -0.0688627     0.0325307    -2.12    0.0433   -0.135499      -0.00222666\n",
       "freeop        0.080069      0.207864      0.39    0.7030   -0.345721       0.505859\n",
       "freetar      -0.488963      0.418163     -1.17    0.2521   -1.34553        0.367605\n",
       "h65          -2.3621        0.857292     -2.76    0.0102   -4.11818       -0.606016\n",
       "hm65          0.707143      0.523145      1.35    0.1873   -0.364471       1.77876\n",
       "hf65          1.69345       0.503189      3.37    0.0022    0.662713       2.72418\n",
       "p65           0.265527      0.164294      1.62    0.1173   -0.0710144      0.602068\n",
       "pm65          0.136953      0.151217      0.91    0.3728   -0.172802       0.446708\n",
       "pf65         -0.331267      0.165123     -2.01    0.0546   -0.669506       0.00697217\n",
       "s65           0.0390793     0.185522      0.21    0.8347   -0.340946       0.419105\n",
       "sm65         -0.0306685     0.116794     -0.26    0.7948   -0.26991        0.208573\n",
       "sf65         -0.179917      0.118099     -1.52    0.1389   -0.421832       0.0619974\n",
       "fert65        0.00688083    0.0270514     0.25    0.8011   -0.0485315      0.0622932\n",
       "mort65       -0.233455      0.817422     -0.29    0.7773   -1.90787        1.44096\n",
       "lifee065     -0.0149145     0.193336     -0.08    0.9391   -0.410944       0.381116\n",
       "gpop1         0.970185      1.81221       0.54    0.5966   -2.74196        4.68233\n",
       "fert1         0.00883819    0.0350415     0.25    0.8027   -0.062941       0.0806174\n",
       "mort1         0.0665629     0.68481       0.10    0.9233   -1.33621        1.46933\n",
       "invsh41       0.0744611     0.108447      0.69    0.4980   -0.147682       0.296605\n",
       "geetot1      -0.715105      1.68014      -0.43    0.6736   -4.15671        2.7265\n",
       "geerec1       0.630005      2.44738       0.26    0.7987   -4.38322        5.64323\n",
       "gde1         -0.443575      1.67121      -0.27    0.7926   -3.86689        2.97974\n",
       "govwb1        0.337452      0.437987      0.77    0.4475   -0.559723       1.23463\n",
       "govsh41       0.463175      1.92544       0.24    0.8117   -3.4809         4.40725\n",
       "gvxdxe41     -0.793382      2.0594       -0.39    0.7030   -5.01187        3.4251\n",
       "high65       -0.752484      0.905722     -0.83    0.4131   -2.60777        1.1028\n",
       "highm65      -0.390262      0.681249     -0.57    0.5713   -1.78574        1.00521\n",
       "highf65      -0.417749      0.56149      -0.74    0.4631   -1.56791        0.732412\n",
       "highc65      -2.21579       1.48081      -1.50    0.1458   -5.24909        0.817506\n",
       "highcm65      0.279718      0.658239      0.42    0.6741   -1.06862        1.62806\n",
       "highcf65      0.392077      0.766025      0.51    0.6128   -1.17705        1.96121\n",
       "human65       2.33727       3.30727       0.71    0.4856   -4.43736        9.1119\n",
       "humanm65     -1.20925       1.61852      -0.75    0.4612   -4.52463        2.10613\n",
       "humanf65     -1.10395       1.68469      -0.66    0.5176   -4.55489        2.34699\n",
       "hyr65        54.9139       23.8873        2.30    0.0292    5.98298      103.845\n",
       "hyrm65       12.935        23.1714        0.56    0.5811  -34.5295        60.3996\n",
       "hyrf65        9.09258      17.6696        0.51    0.6109  -27.1019        45.2871\n",
       "no65          0.0372099     0.131973      0.28    0.7801   -0.233125       0.307545\n",
       "nom65        -0.0211977     0.0649598    -0.33    0.7466   -0.154262       0.111866\n",
       "nof65        -0.0168578     0.0670026    -0.25    0.8032   -0.154106       0.120391\n",
       "pinstab1     -0.0499711     0.0309208    -1.62    0.1173   -0.11331        0.0133673\n",
       "pop65         1.0318e-7     1.31795e-7    0.78    0.4403   -1.6679e-7      3.7315e-7\n",
       "worker65      0.034079      0.156191      0.22    0.8289   -0.285864       0.354022\n",
       "pop1565      -0.465535      0.471334     -0.99    0.3318   -1.43102        0.499949\n",
       "pop6565      -1.35745       0.634942     -2.14    0.0414   -2.65807       -0.0568295\n",
       "sec65        -0.0108928     0.307662     -0.04    0.9720   -0.641109       0.619324\n",
       "secm65        0.00334366    0.151192      0.02    0.9825   -0.30636        0.313047\n",
       "secf65       -0.00230433    0.157972     -0.01    0.9885   -0.325894       0.321286\n",
       "secc65       -0.491528      0.729041     -0.67    0.5057   -1.9849         1.00184\n",
       "seccm65       0.259602      0.355653      0.73    0.4715   -0.468921       0.988124\n",
       "seccf65       0.220652      0.373333      0.59    0.5592   -0.544086       0.985391\n",
       "syr65        -0.755581      7.97676      -0.09    0.9252  -17.0952        15.5841\n",
       "syrm65        0.310901      3.89673       0.08    0.9370   -7.67119        8.29299\n",
       "syrf65        0.759281      4.11063       0.18    0.8548   -7.66097        9.17953\n",
       "teapri65      3.95452e-5    0.000770041   0.05    0.9594   -0.00153781     0.0016169\n",
       "teasec65      0.000249667   0.00117123    0.21    0.8327   -0.00214949     0.00264882\n",
       "ex1          -0.580408      0.241847     -2.40    0.0233   -1.07581       -0.0850066\n",
       "im1           0.591445      0.250298      2.36    0.0253    0.0787333      1.10416\n",
       "xr65         -0.000103777   5.41676e-5   -1.92    0.0656   -0.000214734    7.18049e-6\n",
       "tot1         -0.127901      0.112595     -1.14    0.2656   -0.358542       0.10274\n",
       "─────────────────────────────────────────────────────────────────────────────────────"
      ]
     },
     "execution_count": 12,
     "metadata": {},
     "output_type": "execute_result"
    }
   ],
   "source": [
    "#basic model Function\n",
    "\n",
    "basic = @formula Outcome ~ gdpsh465 + bmp1l + freeop + freetar + h65 + hm65 + hf65 + p65 + pm65 + pf65 + s65 + sm65 + sf65 +\n",
    "    fert65 + mort65 + lifee065 + gpop1 + fert1 + mort1 + invsh41 + geetot1 + geerec1 + gde1 + govwb1 + govsh41 + gvxdxe41 + \n",
    "    high65 + highm65 + highf65 + highc65 + highcm65 + highcf65 + human65 + humanm65 + humanf65 + hyr65 + hyrm65 + hyrf65 + \n",
    "    no65 + nom65 + nof65 + pinstab1 + pop65 + worker65 + pop1565 + pop6565 + sec65 + secm65 + secf65 + secc65 + seccm65 + \n",
    "    seccf65 + syr65 + syrm65 + syrf65 + teapri65 + teasec65 + ex1 + im1 + xr65 + tot1\n",
    "\n",
    "basic_results = lm(basic,growth,dropcollinear=false)"
   ]
  },
  {
   "cell_type": "code",
   "execution_count": 13,
   "id": "e89414a9",
   "metadata": {},
   "outputs": [
    {
     "data": {
      "text/plain": [
       "0.05184424331685134"
      ]
     },
     "execution_count": 13,
     "metadata": {},
     "output_type": "execute_result"
    }
   ],
   "source": [
    "# output: estimated regression coefficient corresponding to the target regressor\n",
    "est_ols = coef(reg_ols)[2]\n",
    "\n",
    "# output: std. error\n",
    "std_ols = stderror(reg_ols)[2]\n",
    "\n",
    "# output: 95% confidence interval\n",
    "lower_ci = coeftable(reg_ols).cols[5][2]\n",
    "upper_ci = coeftable(reg_ols).cols[6][2]"
   ]
  },
  {
   "cell_type": "markdown",
   "id": "9663bc8c",
   "metadata": {},
   "source": [
    "#### OLS Summary"
   ]
  },
  {
   "cell_type": "code",
   "execution_count": 14,
   "id": "6e7ebbfd",
   "metadata": {},
   "outputs": [
    {
     "data": {
      "text/plain": [
       "1×4 Named Matrix{Float64}\n",
       "A ╲ B │   1    2    3    4\n",
       "──────┼───────────────────\n",
       "OLS   │ 0.0  0.0  0.0  0.0"
      ]
     },
     "execution_count": 14,
     "metadata": {},
     "output_type": "execute_result"
    }
   ],
   "source": [
    "table_1 = NamedArray(zeros(1, 4))\n",
    "setnames!(table_1, [\"OLS\"], 1)\n",
    "table_1"
   ]
  },
  {
   "cell_type": "code",
   "execution_count": 15,
   "id": "8be93ba2",
   "metadata": {},
   "outputs": [
    {
     "data": {
      "text/plain": [
       "1×4 Named Matrix{Float64}\n",
       "A ╲ B │           1            2            3            4\n",
       "──────┼───────────────────────────────────────────────────\n",
       "OLS   │ -0.00937799    0.0298877   -0.0706002    0.0518442"
      ]
     },
     "execution_count": 15,
     "metadata": {},
     "output_type": "execute_result"
    }
   ],
   "source": [
    "table_1[1] = est_ols\n",
    "table_1[2] = std_ols   \n",
    "table_1[3] = lower_ci\n",
    "table_1[4] = upper_ci    \n",
    " \n",
    "table_1"
   ]
  },
  {
   "cell_type": "code",
   "execution_count": 16,
   "id": "78689fc0",
   "metadata": {},
   "outputs": [
    {
     "data": {
      "text/html": [
       "<table class=\"data-frame\"><thead><tr><th></th><th>model</th><th>Estimator</th><th>Std. Error</th><th>lower bound CI</th><th>upper bound CI</th></tr><tr><th></th><th>String</th><th>Float64</th><th>Float64</th><th>Float64</th><th>Float64</th></tr></thead><tbody><p>1 rows × 5 columns</p><tr><th>1</th><td>OLS</td><td>-0.00937799</td><td>0.0298877</td><td>-0.0706002</td><td>0.0518442</td></tr></tbody></table>"
      ],
      "text/latex": [
       "\\begin{tabular}{r|ccccc}\n",
       "\t& model & Estimator & Std. Error & lower bound CI & upper bound CI\\\\\n",
       "\t\\hline\n",
       "\t& String & Float64 & Float64 & Float64 & Float64\\\\\n",
       "\t\\hline\n",
       "\t1 & OLS & -0.00937799 & 0.0298877 & -0.0706002 & 0.0518442 \\\\\n",
       "\\end{tabular}\n"
      ],
      "text/plain": [
       "1×5 DataFrame\n",
       "│ Row │ model  │ Estimator   │ Std. Error │ lower bound CI │ upper bound CI │\n",
       "│     │ \u001b[90mString\u001b[39m │ \u001b[90mFloat64\u001b[39m     │ \u001b[90mFloat64\u001b[39m    │ \u001b[90mFloat64\u001b[39m        │ \u001b[90mFloat64\u001b[39m        │\n",
       "├─────┼────────┼─────────────┼────────────┼────────────────┼────────────────┤\n",
       "│ 1   │ OLS    │ -0.00937799 │ 0.0298877  │ -0.0706002     │ 0.0518442      │"
      ]
     },
     "execution_count": 16,
     "metadata": {},
     "output_type": "execute_result"
    }
   ],
   "source": [
    "table_1_pandas = DataFrame( table_1, [ :\"Estimator\", :\"Std. Error\", :\"lower bound CI\", :\"upper bound CI\"])\n",
    "model_1 = DataFrame(model = [\"OLS\"])\n",
    "table_1_pandas = hcat(model_1,table_1_pandas)\n",
    "table_1_pandas"
   ]
  },
  {
   "cell_type": "code",
   "execution_count": 17,
   "id": "1331fc2e",
   "metadata": {},
   "outputs": [
    {
     "data": {
      "text/html": [
       "<!DOCTYPE html>\n",
       "<html>\n",
       "<meta charset=\"UTF-8\">\n",
       "<style>\n",
       "  table, td, th {\n",
       "      border-collapse: collapse;\n",
       "      font-family: sans-serif;\n",
       "  }\n",
       "\n",
       "  td, th {\n",
       "      border-bottom: 0;\n",
       "      padding: 4px\n",
       "  }\n",
       "\n",
       "  tr:nth-child(odd) {\n",
       "      background: #eee;\n",
       "  }\n",
       "\n",
       "  tr:nth-child(even) {\n",
       "      background: #fff;\n",
       "  }\n",
       "\n",
       "  tr.header {\n",
       "      background: navy !important;\n",
       "      color: white;\n",
       "      font-weight: bold;\n",
       "  }\n",
       "\n",
       "  tr.subheader {\n",
       "      background: lightgray !important;\n",
       "      color: black;\n",
       "  }\n",
       "\n",
       "  tr.headerLastRow {\n",
       "      border-bottom: 2px solid black;\n",
       "  }\n",
       "\n",
       "  th.rowNumber, td.rowNumber {\n",
       "      text-align: right;\n",
       "  }\n",
       "\n",
       "</style>\n",
       "<body>\n",
       "<table>\n",
       "  <thead>\n",
       "    <tr class = \"header headerLastRow\">\n",
       "      <th style = \"text-align: center;\">Model</th>\n",
       "      <th style = \"text-align: center;\">Estimator</th>\n",
       "      <th style = \"text-align: center;\">Std. Error</th>\n",
       "      <th style = \"text-align: center;\">lower bound CI</th>\n",
       "      <th style = \"text-align: center;\">upper bound CI</th>\n",
       "    </tr>\n",
       "  </thead>\n",
       "  <tbody>\n",
       "    <tr>\n",
       "      <td style = \"text-align: center;\">OLS</td>\n",
       "      <td style = \"text-align: center;\">-0.009378</td>\n",
       "      <td style = \"text-align: center;\">0.029888</td>\n",
       "      <td style = \"text-align: center;\">-0.0706</td>\n",
       "      <td style = \"text-align: center;\">0.051844</td>\n",
       "    </tr>\n",
       "  </tbody>\n",
       "</table>\n",
       "</body>\n",
       "</html>\n"
      ]
     },
     "metadata": {},
     "output_type": "display_data"
    }
   ],
   "source": [
    "header = ([\"Model\", \"Estimator\", \"Std. Error\", \"lower bound CI\", \"upper bound CI\"])\n",
    "pretty_table(table_1_pandas; backend = Val(:html), header = header, formatters=ft_round(6), alignment=:c)\n",
    "\n",
    "#The Confidence Interval includes zero. we can´t jump into conlcusions."
   ]
  },
  {
   "cell_type": "markdown",
   "id": "d3424725",
   "metadata": {},
   "source": [
    "### 2. Double LASSO using cross Validation"
   ]
  },
  {
   "cell_type": "code",
   "execution_count": 18,
   "id": "e95f2a26",
   "metadata": {},
   "outputs": [
    {
     "name": "stderr",
     "output_type": "stream",
     "text": [
      "WARNING: using Lasso.coeftable in module Main conflicts with an existing identifier.\n"
     ]
    }
   ],
   "source": [
    "using Lasso, GLM"
   ]
  },
  {
   "cell_type": "code",
   "execution_count": 19,
   "id": "2e78bacd",
   "metadata": {},
   "outputs": [
    {
     "data": {
      "text/html": [
       "<table class=\"data-frame\"><thead><tr><th></th><th>Y</th><th>D</th><th>bmp1l</th><th>freeop</th><th>freetar</th><th>h65</th><th>hm65</th><th>hf65</th><th>p65</th></tr><tr><th></th><th>Float64</th><th>Float64</th><th>Float64</th><th>Float64</th><th>Float64</th><th>Float64</th><th>Float64</th><th>Float64</th><th>Float64</th></tr></thead><tbody><p>90 rows × 62 columns (omitted printing of 53 columns)</p><tr><th>1</th><td>-0.0243358</td><td>6.59167</td><td>0.2837</td><td>0.153491</td><td>0.043888</td><td>0.007</td><td>0.013</td><td>0.001</td><td>0.29</td></tr><tr><th>2</th><td>0.100473</td><td>6.82979</td><td>0.6141</td><td>0.313509</td><td>0.061827</td><td>0.019</td><td>0.032</td><td>0.007</td><td>0.91</td></tr><tr><th>3</th><td>0.0670515</td><td>8.89508</td><td>0.0</td><td>0.204244</td><td>0.009186</td><td>0.26</td><td>0.325</td><td>0.201</td><td>1.0</td></tr><tr><th>4</th><td>0.0640892</td><td>7.56528</td><td>0.1997</td><td>0.248714</td><td>0.03627</td><td>0.061</td><td>0.07</td><td>0.051</td><td>1.0</td></tr><tr><th>5</th><td>0.0279295</td><td>7.1624</td><td>0.174</td><td>0.299252</td><td>0.037367</td><td>0.017</td><td>0.027</td><td>0.007</td><td>0.82</td></tr><tr><th>6</th><td>0.0464074</td><td>7.21891</td><td>0.0</td><td>0.258865</td><td>0.02088</td><td>0.023</td><td>0.038</td><td>0.006</td><td>0.5</td></tr><tr><th>7</th><td>0.0673323</td><td>7.8536</td><td>0.0</td><td>0.182525</td><td>0.014385</td><td>0.039</td><td>0.063</td><td>0.014</td><td>0.92</td></tr><tr><th>8</th><td>0.0209777</td><td>7.70391</td><td>0.2776</td><td>0.215275</td><td>0.029713</td><td>0.024</td><td>0.035</td><td>0.013</td><td>0.69</td></tr><tr><th>9</th><td>0.0335512</td><td>9.06346</td><td>0.0</td><td>0.109614</td><td>0.002171</td><td>0.402</td><td>0.488</td><td>0.314</td><td>1.0</td></tr><tr><th>10</th><td>0.0391465</td><td>8.15191</td><td>0.1484</td><td>0.110885</td><td>0.028579</td><td>0.145</td><td>0.173</td><td>0.114</td><td>1.0</td></tr><tr><th>11</th><td>0.0761265</td><td>6.92952</td><td>0.0296</td><td>0.165784</td><td>0.020115</td><td>0.046</td><td>0.066</td><td>0.025</td><td>0.73</td></tr><tr><th>12</th><td>0.127951</td><td>7.23778</td><td>0.2151</td><td>0.078488</td><td>0.011581</td><td>0.022</td><td>0.031</td><td>0.014</td><td>1.0</td></tr><tr><th>13</th><td>-0.0243261</td><td>8.11582</td><td>0.4318</td><td>0.137482</td><td>0.026547</td><td>0.059</td><td>0.073</td><td>0.045</td><td>1.0</td></tr><tr><th>14</th><td>0.0782934</td><td>7.2717</td><td>0.1689</td><td>0.164598</td><td>0.044446</td><td>0.029</td><td>0.045</td><td>0.013</td><td>0.84</td></tr><tr><th>15</th><td>0.112912</td><td>7.12125</td><td>0.1832</td><td>0.188016</td><td>0.045678</td><td>0.033</td><td>0.051</td><td>0.015</td><td>0.91</td></tr><tr><th>16</th><td>0.0523082</td><td>6.97728</td><td>0.0962</td><td>0.204611</td><td>0.077852</td><td>0.037</td><td>0.043</td><td>0.03</td><td>1.0</td></tr><tr><th>17</th><td>0.0363909</td><td>7.64969</td><td>0.0227</td><td>0.136287</td><td>0.04673</td><td>0.081</td><td>0.105</td><td>0.056</td><td>0.99</td></tr><tr><th>18</th><td>0.0297382</td><td>8.05674</td><td>0.0208</td><td>0.197853</td><td>0.037224</td><td>0.083</td><td>0.097</td><td>0.069</td><td>1.0</td></tr><tr><th>19</th><td>-0.0566436</td><td>8.78094</td><td>0.2654</td><td>0.189867</td><td>0.031747</td><td>0.068</td><td>0.089</td><td>0.046</td><td>0.94</td></tr><tr><th>20</th><td>0.0192048</td><td>6.28786</td><td>0.4207</td><td>0.130682</td><td>0.109921</td><td>0.053</td><td>0.039</td><td>0.011</td><td>0.74</td></tr><tr><th>21</th><td>0.085206</td><td>6.13773</td><td>0.1371</td><td>0.123818</td><td>0.015897</td><td>0.028</td><td>0.025</td><td>0.007</td><td>0.72</td></tr><tr><th>22</th><td>0.133982</td><td>8.12888</td><td>0.0</td><td>0.16721</td><td>0.003311</td><td>0.129</td><td>0.196</td><td>0.063</td><td>1.0</td></tr><tr><th>23</th><td>0.173025</td><td>6.68085</td><td>0.4713</td><td>0.228424</td><td>0.029328</td><td>0.062</td><td>0.09</td><td>0.032</td><td>1.0</td></tr><tr><th>24</th><td>0.109699</td><td>7.17702</td><td>0.0178</td><td>0.18524</td><td>0.015453</td><td>0.02</td><td>0.026</td><td>0.013</td><td>0.9</td></tr><tr><th>25</th><td>0.0159899</td><td>6.64898</td><td>0.4762</td><td>0.171181</td><td>0.058937</td><td>0.018</td><td>0.028</td><td>0.007</td><td>0.4</td></tr><tr><th>26</th><td>0.0622498</td><td>6.87936</td><td>0.2927</td><td>0.179508</td><td>0.035842</td><td>0.188</td><td>0.169</td><td>0.208</td><td>1.0</td></tr><tr><th>27</th><td>0.109871</td><td>7.3473</td><td>0.1017</td><td>0.247626</td><td>0.037392</td><td>0.08</td><td>0.133</td><td>0.027</td><td>0.78</td></tr><tr><th>28</th><td>0.0921063</td><td>6.72503</td><td>0.0266</td><td>0.179933</td><td>0.046376</td><td>0.015</td><td>0.02</td><td>0.01</td><td>0.78</td></tr><tr><th>29</th><td>0.083376</td><td>8.45105</td><td>0.0</td><td>0.358556</td><td>0.016468</td><td>0.09</td><td>0.133</td><td>0.044</td><td>1.0</td></tr><tr><th>30</th><td>0.0762335</td><td>8.60245</td><td>0.0</td><td>0.416234</td><td>0.014721</td><td>0.148</td><td>0.194</td><td>0.1</td><td>1.0</td></tr><tr><th>&vellip;</th><td>&vellip;</td><td>&vellip;</td><td>&vellip;</td><td>&vellip;</td><td>&vellip;</td><td>&vellip;</td><td>&vellip;</td><td>&vellip;</td><td>&vellip;</td></tr></tbody></table>"
      ],
      "text/latex": [
       "\\begin{tabular}{r|cccccccccc}\n",
       "\t& Y & D & bmp1l & freeop & freetar & h65 & hm65 & hf65 & p65 & \\\\\n",
       "\t\\hline\n",
       "\t& Float64 & Float64 & Float64 & Float64 & Float64 & Float64 & Float64 & Float64 & Float64 & \\\\\n",
       "\t\\hline\n",
       "\t1 & -0.0243358 & 6.59167 & 0.2837 & 0.153491 & 0.043888 & 0.007 & 0.013 & 0.001 & 0.29 & $\\dots$ \\\\\n",
       "\t2 & 0.100473 & 6.82979 & 0.6141 & 0.313509 & 0.061827 & 0.019 & 0.032 & 0.007 & 0.91 & $\\dots$ \\\\\n",
       "\t3 & 0.0670515 & 8.89508 & 0.0 & 0.204244 & 0.009186 & 0.26 & 0.325 & 0.201 & 1.0 & $\\dots$ \\\\\n",
       "\t4 & 0.0640892 & 7.56528 & 0.1997 & 0.248714 & 0.03627 & 0.061 & 0.07 & 0.051 & 1.0 & $\\dots$ \\\\\n",
       "\t5 & 0.0279295 & 7.1624 & 0.174 & 0.299252 & 0.037367 & 0.017 & 0.027 & 0.007 & 0.82 & $\\dots$ \\\\\n",
       "\t6 & 0.0464074 & 7.21891 & 0.0 & 0.258865 & 0.02088 & 0.023 & 0.038 & 0.006 & 0.5 & $\\dots$ \\\\\n",
       "\t7 & 0.0673323 & 7.8536 & 0.0 & 0.182525 & 0.014385 & 0.039 & 0.063 & 0.014 & 0.92 & $\\dots$ \\\\\n",
       "\t8 & 0.0209777 & 7.70391 & 0.2776 & 0.215275 & 0.029713 & 0.024 & 0.035 & 0.013 & 0.69 & $\\dots$ \\\\\n",
       "\t9 & 0.0335512 & 9.06346 & 0.0 & 0.109614 & 0.002171 & 0.402 & 0.488 & 0.314 & 1.0 & $\\dots$ \\\\\n",
       "\t10 & 0.0391465 & 8.15191 & 0.1484 & 0.110885 & 0.028579 & 0.145 & 0.173 & 0.114 & 1.0 & $\\dots$ \\\\\n",
       "\t11 & 0.0761265 & 6.92952 & 0.0296 & 0.165784 & 0.020115 & 0.046 & 0.066 & 0.025 & 0.73 & $\\dots$ \\\\\n",
       "\t12 & 0.127951 & 7.23778 & 0.2151 & 0.078488 & 0.011581 & 0.022 & 0.031 & 0.014 & 1.0 & $\\dots$ \\\\\n",
       "\t13 & -0.0243261 & 8.11582 & 0.4318 & 0.137482 & 0.026547 & 0.059 & 0.073 & 0.045 & 1.0 & $\\dots$ \\\\\n",
       "\t14 & 0.0782934 & 7.2717 & 0.1689 & 0.164598 & 0.044446 & 0.029 & 0.045 & 0.013 & 0.84 & $\\dots$ \\\\\n",
       "\t15 & 0.112912 & 7.12125 & 0.1832 & 0.188016 & 0.045678 & 0.033 & 0.051 & 0.015 & 0.91 & $\\dots$ \\\\\n",
       "\t16 & 0.0523082 & 6.97728 & 0.0962 & 0.204611 & 0.077852 & 0.037 & 0.043 & 0.03 & 1.0 & $\\dots$ \\\\\n",
       "\t17 & 0.0363909 & 7.64969 & 0.0227 & 0.136287 & 0.04673 & 0.081 & 0.105 & 0.056 & 0.99 & $\\dots$ \\\\\n",
       "\t18 & 0.0297382 & 8.05674 & 0.0208 & 0.197853 & 0.037224 & 0.083 & 0.097 & 0.069 & 1.0 & $\\dots$ \\\\\n",
       "\t19 & -0.0566436 & 8.78094 & 0.2654 & 0.189867 & 0.031747 & 0.068 & 0.089 & 0.046 & 0.94 & $\\dots$ \\\\\n",
       "\t20 & 0.0192048 & 6.28786 & 0.4207 & 0.130682 & 0.109921 & 0.053 & 0.039 & 0.011 & 0.74 & $\\dots$ \\\\\n",
       "\t21 & 0.085206 & 6.13773 & 0.1371 & 0.123818 & 0.015897 & 0.028 & 0.025 & 0.007 & 0.72 & $\\dots$ \\\\\n",
       "\t22 & 0.133982 & 8.12888 & 0.0 & 0.16721 & 0.003311 & 0.129 & 0.196 & 0.063 & 1.0 & $\\dots$ \\\\\n",
       "\t23 & 0.173025 & 6.68085 & 0.4713 & 0.228424 & 0.029328 & 0.062 & 0.09 & 0.032 & 1.0 & $\\dots$ \\\\\n",
       "\t24 & 0.109699 & 7.17702 & 0.0178 & 0.18524 & 0.015453 & 0.02 & 0.026 & 0.013 & 0.9 & $\\dots$ \\\\\n",
       "\t25 & 0.0159899 & 6.64898 & 0.4762 & 0.171181 & 0.058937 & 0.018 & 0.028 & 0.007 & 0.4 & $\\dots$ \\\\\n",
       "\t26 & 0.0622498 & 6.87936 & 0.2927 & 0.179508 & 0.035842 & 0.188 & 0.169 & 0.208 & 1.0 & $\\dots$ \\\\\n",
       "\t27 & 0.109871 & 7.3473 & 0.1017 & 0.247626 & 0.037392 & 0.08 & 0.133 & 0.027 & 0.78 & $\\dots$ \\\\\n",
       "\t28 & 0.0921063 & 6.72503 & 0.0266 & 0.179933 & 0.046376 & 0.015 & 0.02 & 0.01 & 0.78 & $\\dots$ \\\\\n",
       "\t29 & 0.083376 & 8.45105 & 0.0 & 0.358556 & 0.016468 & 0.09 & 0.133 & 0.044 & 1.0 & $\\dots$ \\\\\n",
       "\t30 & 0.0762335 & 8.60245 & 0.0 & 0.416234 & 0.014721 & 0.148 & 0.194 & 0.1 & 1.0 & $\\dots$ \\\\\n",
       "\t$\\dots$ & $\\dots$ & $\\dots$ & $\\dots$ & $\\dots$ & $\\dots$ & $\\dots$ & $\\dots$ & $\\dots$ & $\\dots$ &  \\\\\n",
       "\\end{tabular}\n"
      ],
      "text/plain": [
       "90×62 DataFrame. Omitted printing of 56 columns\n",
       "│ Row │ Y          │ D       │ bmp1l   │ freeop   │ freetar  │ h65     │\n",
       "│     │ \u001b[90mFloat64\u001b[39m    │ \u001b[90mFloat64\u001b[39m │ \u001b[90mFloat64\u001b[39m │ \u001b[90mFloat64\u001b[39m  │ \u001b[90mFloat64\u001b[39m  │ \u001b[90mFloat64\u001b[39m │\n",
       "├─────┼────────────┼─────────┼─────────┼──────────┼──────────┼─────────┤\n",
       "│ 1   │ -0.0243358 │ 6.59167 │ 0.2837  │ 0.153491 │ 0.043888 │ 0.007   │\n",
       "│ 2   │ 0.100473   │ 6.82979 │ 0.6141  │ 0.313509 │ 0.061827 │ 0.019   │\n",
       "│ 3   │ 0.0670515  │ 8.89508 │ 0.0     │ 0.204244 │ 0.009186 │ 0.26    │\n",
       "│ 4   │ 0.0640892  │ 7.56528 │ 0.1997  │ 0.248714 │ 0.03627  │ 0.061   │\n",
       "│ 5   │ 0.0279295  │ 7.1624  │ 0.174   │ 0.299252 │ 0.037367 │ 0.017   │\n",
       "│ 6   │ 0.0464074  │ 7.21891 │ 0.0     │ 0.258865 │ 0.02088  │ 0.023   │\n",
       "│ 7   │ 0.0673323  │ 7.8536  │ 0.0     │ 0.182525 │ 0.014385 │ 0.039   │\n",
       "│ 8   │ 0.0209777  │ 7.70391 │ 0.2776  │ 0.215275 │ 0.029713 │ 0.024   │\n",
       "│ 9   │ 0.0335512  │ 9.06346 │ 0.0     │ 0.109614 │ 0.002171 │ 0.402   │\n",
       "│ 10  │ 0.0391465  │ 8.15191 │ 0.1484  │ 0.110885 │ 0.028579 │ 0.145   │\n",
       "⋮\n",
       "│ 80  │ 0.0652286  │ 7.17549 │ 0.0     │ 0.179933 │ 0.046376 │ 0.035   │\n",
       "│ 81  │ 0.038095   │ 9.03097 │ 0.0     │ 0.293138 │ 0.005517 │ 0.245   │\n",
       "│ 82  │ 0.034213   │ 8.99554 │ 0.0     │ 0.30472  │ 0.011658 │ 0.246   │\n",
       "│ 83  │ 0.0527591  │ 8.23483 │ 0.0363  │ 0.288405 │ 0.011589 │ 0.183   │\n",
       "│ 84  │ 0.0384156  │ 8.33255 │ 0.0     │ 0.345485 │ 0.006503 │ 0.188   │\n",
       "│ 85  │ 0.0318948  │ 8.64559 │ 0.0     │ 0.28844  │ 0.005995 │ 0.256   │\n",
       "│ 86  │ 0.031196   │ 8.99106 │ 0.0     │ 0.371898 │ 0.014586 │ 0.255   │\n",
       "│ 87  │ 0.0340957  │ 8.02519 │ 0.005   │ 0.296437 │ 0.013615 │ 0.108   │\n",
       "│ 88  │ 0.0469005  │ 9.03014 │ 0.0     │ 0.265778 │ 0.008629 │ 0.288   │\n",
       "│ 89  │ 0.0397734  │ 8.86531 │ 0.0     │ 0.282939 │ 0.005048 │ 0.188   │\n",
       "│ 90  │ 0.0406415  │ 8.91234 │ 0.0     │ 0.150366 │ 0.024377 │ 0.257   │"
      ]
     },
     "execution_count": 19,
     "metadata": {},
     "output_type": "execute_result"
    }
   ],
   "source": [
    "# Create main variables\n",
    "Y = growth[!, \"Outcome\"]\n",
    "Y = DataFrame([Y], [:Y])\n",
    "D = growth[!, \"gdpsh465\"]\n",
    "D = DataFrame([D], [:D])\n",
    "W = select(growth, Not([\"Outcome\", \"intercept\", \"gdpsh465\"]))\n",
    "data = [Y D W]"
   ]
  },
  {
   "cell_type": "markdown",
   "id": "ffcda0cb",
   "metadata": {},
   "source": [
    "Data Splitting"
   ]
  },
  {
   "cell_type": "code",
   "execution_count": 20,
   "id": "b70a0528",
   "metadata": {},
   "outputs": [
    {
     "data": {
      "text/plain": [
       "TaskLocalRNG()"
      ]
     },
     "execution_count": 20,
     "metadata": {},
     "output_type": "execute_result"
    }
   ],
   "source": [
    "using Random\n",
    "using Pkg\n",
    "Random.seed!(3)"
   ]
  },
  {
   "cell_type": "code",
   "execution_count": 21,
   "id": "44f41ce3",
   "metadata": {},
   "outputs": [
    {
     "name": "stdout",
     "output_type": "stream",
     "text": [
      "# observations train sample: 72.0\n",
      "# observations test sample: 18.0"
     ]
    },
    {
     "data": {
      "text/html": [
       "<table class=\"data-frame\"><thead><tr><th></th><th>Y_s</th><th>D_s</th><th>bmp1l</th><th>freeop</th><th>freetar</th><th>h65</th><th>hm65</th><th>hf65</th><th>p65</th></tr><tr><th></th><th>Float64</th><th>Float64</th><th>Float64</th><th>Float64</th><th>Float64</th><th>Float64</th><th>Float64</th><th>Float64</th><th>Float64</th></tr></thead><tbody><p>18 rows × 62 columns (omitted printing of 53 columns)</p><tr><th>1</th><td>-0.0639929</td><td>6.20456</td><td>0.3723</td><td>0.2037</td><td>0.058091</td><td>0.011</td><td>0.018</td><td>0.003</td><td>0.71</td></tr><tr><th>2</th><td>0.0652286</td><td>7.17549</td><td>0.0</td><td>0.179933</td><td>0.046376</td><td>0.035</td><td>0.04</td><td>0.027</td><td>0.83</td></tr><tr><th>3</th><td>0.0118973</td><td>7.80832</td><td>0.1756</td><td>0.215275</td><td>0.029713</td><td>0.083</td><td>0.112</td><td>0.058</td><td>0.82</td></tr><tr><th>4</th><td>-0.10099</td><td>8.49862</td><td>0.001</td><td>0.189867</td><td>0.031747</td><td>0.181</td><td>0.19</td><td>0.159</td><td>0.97</td></tr><tr><th>5</th><td>0.141445</td><td>7.51152</td><td>0.1053</td><td>0.228424</td><td>0.029328</td><td>0.103</td><td>0.139</td><td>0.054</td><td>1.0</td></tr><tr><th>6</th><td>0.0654911</td><td>8.78232</td><td>0.0</td><td>0.16721</td><td>0.003311</td><td>0.246</td><td>0.331</td><td>0.16</td><td>0.99</td></tr><tr><th>7</th><td>0.0406415</td><td>8.91234</td><td>0.0</td><td>0.150366</td><td>0.024377</td><td>0.257</td><td>0.338</td><td>0.215</td><td>1.0</td></tr><tr><th>8</th><td>0.0946182</td><td>8.4145</td><td>0.0</td><td>0.374328</td><td>0.0</td><td>0.101</td><td>0.147</td><td>0.053</td><td>1.0</td></tr><tr><th>9</th><td>0.109699</td><td>7.17702</td><td>0.0178</td><td>0.18524</td><td>0.015453</td><td>0.02</td><td>0.026</td><td>0.013</td><td>0.9</td></tr><tr><th>10</th><td>0.0341724</td><td>9.22985</td><td>0.0</td><td>0.109614</td><td>0.002171</td><td>0.573</td><td>0.635</td><td>0.527</td><td>1.0</td></tr><tr><th>11</th><td>0.127951</td><td>7.23778</td><td>0.2151</td><td>0.078488</td><td>0.011581</td><td>0.022</td><td>0.031</td><td>0.014</td><td>1.0</td></tr><tr><th>12</th><td>0.031196</td><td>8.99106</td><td>0.0</td><td>0.371898</td><td>0.014586</td><td>0.255</td><td>0.336</td><td>0.17</td><td>0.98</td></tr><tr><th>13</th><td>-0.0243261</td><td>8.11582</td><td>0.4318</td><td>0.137482</td><td>0.026547</td><td>0.059</td><td>0.073</td><td>0.045</td><td>1.0</td></tr><tr><th>14</th><td>0.0209777</td><td>7.70391</td><td>0.2776</td><td>0.215275</td><td>0.029713</td><td>0.024</td><td>0.035</td><td>0.013</td><td>0.69</td></tr><tr><th>15</th><td>0.173025</td><td>6.68085</td><td>0.4713</td><td>0.228424</td><td>0.029328</td><td>0.062</td><td>0.09</td><td>0.032</td><td>1.0</td></tr><tr><th>16</th><td>0.0931049</td><td>7.89469</td><td>0.1062</td><td>0.247626</td><td>0.037392</td><td>0.121</td><td>0.175</td><td>0.063</td><td>0.96</td></tr><tr><th>17</th><td>-0.0817256</td><td>7.99834</td><td>1.6378</td><td>0.137482</td><td>0.026547</td><td>0.156</td><td>0.181</td><td>0.15</td><td>1.0</td></tr><tr><th>18</th><td>-0.0243358</td><td>6.59167</td><td>0.2837</td><td>0.153491</td><td>0.043888</td><td>0.007</td><td>0.013</td><td>0.001</td><td>0.29</td></tr></tbody></table>"
      ],
      "text/latex": [
       "\\begin{tabular}{r|cccccccccc}\n",
       "\t& Y\\_s & D\\_s & bmp1l & freeop & freetar & h65 & hm65 & hf65 & p65 & \\\\\n",
       "\t\\hline\n",
       "\t& Float64 & Float64 & Float64 & Float64 & Float64 & Float64 & Float64 & Float64 & Float64 & \\\\\n",
       "\t\\hline\n",
       "\t1 & -0.0639929 & 6.20456 & 0.3723 & 0.2037 & 0.058091 & 0.011 & 0.018 & 0.003 & 0.71 & $\\dots$ \\\\\n",
       "\t2 & 0.0652286 & 7.17549 & 0.0 & 0.179933 & 0.046376 & 0.035 & 0.04 & 0.027 & 0.83 & $\\dots$ \\\\\n",
       "\t3 & 0.0118973 & 7.80832 & 0.1756 & 0.215275 & 0.029713 & 0.083 & 0.112 & 0.058 & 0.82 & $\\dots$ \\\\\n",
       "\t4 & -0.10099 & 8.49862 & 0.001 & 0.189867 & 0.031747 & 0.181 & 0.19 & 0.159 & 0.97 & $\\dots$ \\\\\n",
       "\t5 & 0.141445 & 7.51152 & 0.1053 & 0.228424 & 0.029328 & 0.103 & 0.139 & 0.054 & 1.0 & $\\dots$ \\\\\n",
       "\t6 & 0.0654911 & 8.78232 & 0.0 & 0.16721 & 0.003311 & 0.246 & 0.331 & 0.16 & 0.99 & $\\dots$ \\\\\n",
       "\t7 & 0.0406415 & 8.91234 & 0.0 & 0.150366 & 0.024377 & 0.257 & 0.338 & 0.215 & 1.0 & $\\dots$ \\\\\n",
       "\t8 & 0.0946182 & 8.4145 & 0.0 & 0.374328 & 0.0 & 0.101 & 0.147 & 0.053 & 1.0 & $\\dots$ \\\\\n",
       "\t9 & 0.109699 & 7.17702 & 0.0178 & 0.18524 & 0.015453 & 0.02 & 0.026 & 0.013 & 0.9 & $\\dots$ \\\\\n",
       "\t10 & 0.0341724 & 9.22985 & 0.0 & 0.109614 & 0.002171 & 0.573 & 0.635 & 0.527 & 1.0 & $\\dots$ \\\\\n",
       "\t11 & 0.127951 & 7.23778 & 0.2151 & 0.078488 & 0.011581 & 0.022 & 0.031 & 0.014 & 1.0 & $\\dots$ \\\\\n",
       "\t12 & 0.031196 & 8.99106 & 0.0 & 0.371898 & 0.014586 & 0.255 & 0.336 & 0.17 & 0.98 & $\\dots$ \\\\\n",
       "\t13 & -0.0243261 & 8.11582 & 0.4318 & 0.137482 & 0.026547 & 0.059 & 0.073 & 0.045 & 1.0 & $\\dots$ \\\\\n",
       "\t14 & 0.0209777 & 7.70391 & 0.2776 & 0.215275 & 0.029713 & 0.024 & 0.035 & 0.013 & 0.69 & $\\dots$ \\\\\n",
       "\t15 & 0.173025 & 6.68085 & 0.4713 & 0.228424 & 0.029328 & 0.062 & 0.09 & 0.032 & 1.0 & $\\dots$ \\\\\n",
       "\t16 & 0.0931049 & 7.89469 & 0.1062 & 0.247626 & 0.037392 & 0.121 & 0.175 & 0.063 & 0.96 & $\\dots$ \\\\\n",
       "\t17 & -0.0817256 & 7.99834 & 1.6378 & 0.137482 & 0.026547 & 0.156 & 0.181 & 0.15 & 1.0 & $\\dots$ \\\\\n",
       "\t18 & -0.0243358 & 6.59167 & 0.2837 & 0.153491 & 0.043888 & 0.007 & 0.013 & 0.001 & 0.29 & $\\dots$ \\\\\n",
       "\\end{tabular}\n"
      ],
      "text/plain": [
       "18×62 DataFrame. Omitted printing of 56 columns\n",
       "│ Row │ Y_s        │ D_s     │ bmp1l   │ freeop   │ freetar  │ h65     │\n",
       "│     │ \u001b[90mFloat64\u001b[39m    │ \u001b[90mFloat64\u001b[39m │ \u001b[90mFloat64\u001b[39m │ \u001b[90mFloat64\u001b[39m  │ \u001b[90mFloat64\u001b[39m  │ \u001b[90mFloat64\u001b[39m │\n",
       "├─────┼────────────┼─────────┼─────────┼──────────┼──────────┼─────────┤\n",
       "│ 1   │ -0.0639929 │ 6.20456 │ 0.3723  │ 0.2037   │ 0.058091 │ 0.011   │\n",
       "│ 2   │ 0.0652286  │ 7.17549 │ 0.0     │ 0.179933 │ 0.046376 │ 0.035   │\n",
       "│ 3   │ 0.0118973  │ 7.80832 │ 0.1756  │ 0.215275 │ 0.029713 │ 0.083   │\n",
       "│ 4   │ -0.10099   │ 8.49862 │ 0.001   │ 0.189867 │ 0.031747 │ 0.181   │\n",
       "│ 5   │ 0.141445   │ 7.51152 │ 0.1053  │ 0.228424 │ 0.029328 │ 0.103   │\n",
       "│ 6   │ 0.0654911  │ 8.78232 │ 0.0     │ 0.16721  │ 0.003311 │ 0.246   │\n",
       "│ 7   │ 0.0406415  │ 8.91234 │ 0.0     │ 0.150366 │ 0.024377 │ 0.257   │\n",
       "│ 8   │ 0.0946182  │ 8.4145  │ 0.0     │ 0.374328 │ 0.0      │ 0.101   │\n",
       "│ 9   │ 0.109699   │ 7.17702 │ 0.0178  │ 0.18524  │ 0.015453 │ 0.02    │\n",
       "│ 10  │ 0.0341724  │ 9.22985 │ 0.0     │ 0.109614 │ 0.002171 │ 0.573   │\n",
       "│ 11  │ 0.127951   │ 7.23778 │ 0.2151  │ 0.078488 │ 0.011581 │ 0.022   │\n",
       "│ 12  │ 0.031196   │ 8.99106 │ 0.0     │ 0.371898 │ 0.014586 │ 0.255   │\n",
       "│ 13  │ -0.0243261 │ 8.11582 │ 0.4318  │ 0.137482 │ 0.026547 │ 0.059   │\n",
       "│ 14  │ 0.0209777  │ 7.70391 │ 0.2776  │ 0.215275 │ 0.029713 │ 0.024   │\n",
       "│ 15  │ 0.173025   │ 6.68085 │ 0.4713  │ 0.228424 │ 0.029328 │ 0.062   │\n",
       "│ 16  │ 0.0931049  │ 7.89469 │ 0.1062  │ 0.247626 │ 0.037392 │ 0.121   │\n",
       "│ 17  │ -0.0817256 │ 7.99834 │ 1.6378  │ 0.137482 │ 0.026547 │ 0.156   │\n",
       "│ 18  │ -0.0243358 │ 6.59167 │ 0.2837  │ 0.153491 │ 0.043888 │ 0.007   │"
      ]
     },
     "execution_count": 21,
     "metadata": {},
     "output_type": "execute_result"
    }
   ],
   "source": [
    "# By default we split the data in 5 folds.\n",
    "\n",
    "data_comp_random = growth[shuffle(1:nrow(data)),:];\n",
    "a = floor(nrow(data_comp_random)*4/5)\n",
    "b = floor(nrow(data_comp_random)*1/5)\n",
    "print(\"# observations train sample: \",a)\n",
    "print(\"\\n# observations test sample: \",b)\n",
    "train = data_comp_random[1:72,:]\n",
    "test = data_comp_random[73:end,:]\n",
    "\n",
    "\n",
    "# Create main variables for training sample \n",
    "Y_t = train[!, \"Outcome\"]\n",
    "Y_t = DataFrame([Y_t], [:Y_t])\n",
    "D_t = train[!, \"gdpsh465\"]\n",
    "D_t = DataFrame([D_t], [:D_t])\n",
    "W_t = select(train, Not([\"Outcome\", \"intercept\", \"gdpsh465\"]))\n",
    "data_t = [Y_t D_t W_t]\n",
    "\n",
    "# Create main variables for test sample \n",
    "Y_s = test[!, \"Outcome\"]\n",
    "Y_s = DataFrame([Y_s], [:Y_s])\n",
    "D_s = test[!, \"gdpsh465\"]\n",
    "D_s = DataFrame([D_s], [:D_s])\n",
    "W_s = select(test, Not([\"Outcome\", \"intercept\", \"gdpsh465\"]))\n",
    "data_s = [Y_s D_s W_s]"
   ]
  },
  {
   "cell_type": "code",
   "execution_count": 37,
   "id": "9e0b69af",
   "metadata": {},
   "outputs": [
    {
     "data": {
      "text/plain": [
       "StatsModels.TableRegressionModel{LinearModel{GLM.LmResp{Vector{Float64}}, GLM.DensePredChol{Float64, CholeskyPivoted{Float64, Matrix{Float64}}}}, Matrix{Float64}}\n",
       "\n",
       "r_Y_t ~ 1 + r_D_t\n",
       "\n",
       "Coefficients:\n",
       "──────────────────────────────────────────────────────────────────────────────\n",
       "                    Coef.  Std. Error      t  Pr(>|t|)    Lower 95%  Upper 95%\n",
       "──────────────────────────────────────────────────────────────────────────────\n",
       "(Intercept)  -2.44346e-17  0.00507556  -0.00    1.0000  -0.0101229   0.0101229\n",
       "r_D_t         0.0042931    0.00565451   0.76    0.4503  -0.00698446  0.0155707\n",
       "──────────────────────────────────────────────────────────────────────────────"
      ]
     },
     "execution_count": 37,
     "metadata": {},
     "output_type": "execute_result"
    }
   ],
   "source": [
    "# Seat values for Lasso Train\n",
    "\n",
    "lasso_model_t = fit(LassoModel, term(:Y_t) ~  sum(term.(names(data_t[!, Not([\"Y_t\", \"D_t\"])]))), data_t; α = 0.00077)\n",
    "r_Y_t = residuals(lasso_model_t)\n",
    "r_Y_t = DataFrame([r_Y_t], [:r_Y_t])\n",
    "\n",
    "# Part. out d\n",
    "\n",
    "lasso_model_t = fit(LassoModel, term(:D_t) ~  sum(term.(names(data_t[!, Not([\"Y_t\", \"D_t\"])]))), data_t;  α = 0.00077)\n",
    "r_D_t = residuals(lasso_model_t)\n",
    "r_D_t = DataFrame([r_D_t], [:r_D_t])\n",
    "\n",
    "# ols \n",
    "data_aux1 = [r_Y_t r_D_t]\n",
    "fm_1 = @formula(r_Y_t ~ r_D_t)\n",
    "partial_lasso_fit = lm(fm_1, data_aux1)"
   ]
  },
  {
   "cell_type": "code",
   "execution_count": 23,
   "id": "de7d8032",
   "metadata": {},
   "outputs": [
    {
     "ename": "LoadError",
     "evalue": "BoundsError: attempt to access 36×60 Matrix{Float64} at index [37, 6]",
     "output_type": "error",
     "traceback": [
      "BoundsError: attempt to access 36×60 Matrix{Float64} at index [37, 6]",
      "",
      "Stacktrace:",
      "  [1] getindex",
      "    @ .\\array.jl:862 [inlined]",
      "  [2] getXtX",
      "    @ C:\\Users\\Alvaro\\.julia\\packages\\Lasso\\H8WCl\\src\\coordinate_descent.jl:493 [inlined]",
      "  [3] macro expansion",
      "    @ C:\\Users\\Alvaro\\.julia\\packages\\Lasso\\H8WCl\\src\\coordinate_descent.jl:498 [inlined]",
      "  [4] macro expansion",
      "    @ .\\simdloop.jl:77 [inlined]",
      "  [5] compute_gradient",
      "    @ C:\\Users\\Alvaro\\.julia\\packages\\Lasso\\H8WCl\\src\\coordinate_descent.jl:497 [inlined]",
      "  [6] cycle!(coef::Lasso.SparseCoefficients{Float64}, cd::CovarianceCoordinateDescent{Float64, true, Matrix{Float64}, Lasso.RandomCoefficientIterator, Nothing}, λ::Float64, all::Bool)",
      "    @ Lasso C:\\Users\\Alvaro\\.julia\\packages\\Lasso\\H8WCl\\src\\coordinate_descent.jl:511",
      "  [7] cdfit!(coef::Lasso.SparseCoefficients{Float64}, cd::CovarianceCoordinateDescent{Float64, true, Matrix{Float64}, Lasso.RandomCoefficientIterator, Nothing}, λ::Float64, criterion::Symbol)",
      "    @ Lasso C:\\Users\\Alvaro\\.julia\\packages\\Lasso\\H8WCl\\src\\coordinate_descent.jl:598",
      "  [8] fit!(path::LassoPath{LinearModel{GLM.LmResp{Vector{Float64}}, CovarianceCoordinateDescent{Float64, true, Matrix{Float64}, Lasso.RandomCoefficientIterator, Nothing}}, Float64}; verbose::Bool, cd_maxiter::Int64, cd_tol::Float64, irls_tol::Float64, stopearly::Bool, criterion::Symbol, minStepFac::Float64)",
      "    @ Lasso C:\\Users\\Alvaro\\.julia\\packages\\Lasso\\H8WCl\\src\\coordinate_descent.jl:827",
      "  [9] fit(::Type{LassoPath}, X::Matrix{Float64}, y::Vector{Float64}, d::Normal{Float64}, l::IdentityLink; wts::Vector{Float64}, offset::Vector{Float64}, α::Float64, nλ::Int64, λminratio::Float64, λ::Nothing, standardize::Bool, intercept::Bool, algorithm::Type, dofit::Bool, irls_tol::Float64, randomize::Bool, rng::Nothing, maxncoef::Int64, penalty_factor::Nothing, standardizeω::Bool, fitargs::Base.Pairs{Symbol, Union{}, Tuple{}, NamedTuple{(), Tuple{}}})",
      "    @ Lasso C:\\Users\\Alvaro\\.julia\\packages\\Lasso\\H8WCl\\src\\Lasso.jl:498",
      " [10] fit(::Type{LassoModel}, X::Matrix{Float64}, y::Vector{Float64}, d::Normal{Float64}, l::IdentityLink; select::MinAICc, intercept::Bool, kwargs::Base.Pairs{Symbol, Float64, Tuple{Symbol}, NamedTuple{(:α,), Tuple{Float64}}})",
      "    @ Lasso C:\\Users\\Alvaro\\.julia\\packages\\Lasso\\H8WCl\\src\\segselect.jl:288",
      " [11] fit(::Type{LassoModel}, ::FormulaTerm{Term, NTuple{60, Term}}, ::DataFrame; contrasts::Dict{Symbol, Any}, kwargs::Base.Pairs{Symbol, Float64, Tuple{Symbol}, NamedTuple{(:α,), Tuple{Float64}}})",
      "    @ StatsModels C:\\Users\\Alvaro\\.julia\\packages\\StatsModels\\57Kc9\\src\\statsmodel.jl:88",
      " [12] top-level scope",
      "    @ In[23]:3",
      " [13] eval",
      "    @ .\\boot.jl:373 [inlined]",
      " [14] include_string(mapexpr::typeof(REPL.softscope), mod::Module, code::String, filename::String)",
      "    @ Base .\\loading.jl:1196"
     ]
    }
   ],
   "source": [
    "# Seat values for Lasso Test\n",
    "\n",
    "lasso_model_s = fit(LassoModel, term(:Y_s) ~  sum(term.(names(data_s[!, Not([\"Y_s\", \"D_s\"])]))), data_s; α = 0.00077)\n",
    "r_Y_s = residuals(lasso_model)\n",
    "r_Y_s = DataFrame([r_Y_s], [:r_Y_s])\n",
    "\n",
    "# Part. out d\n",
    "\n",
    "lasso_model_s = fit(LassoModel, term(:D_s) ~  sum(term.(names(data_s[!, Not([\"Y_s\", \"D_s\"])]))), data_s;  α = 0.00077)\n",
    "r_D_s = residuals(lasso_model)\n",
    "r_D_s = DataFrame([r_D_s], [:r_D_s])\n",
    "\n",
    "# ols \n",
    "data_aux2 = [r_Y_s r_D_s]\n",
    "fm_1 = @formula(r_Y_s ~ r_D_s)\n",
    "partial_lasso_fit = lm(fm_1, data_aux2)"
   ]
  },
  {
   "cell_type": "code",
   "execution_count": 24,
   "id": "c83bd75c",
   "metadata": {},
   "outputs": [
    {
     "data": {
      "text/plain": [
       "StatsModels.TableRegressionModel{LassoModel{LinearModel{GLM.LmResp{Vector{Float64}}, GLM.DensePredChol{Float64, CholeskyPivoted{Float64, Matrix{Float64}}}}, MinAICc}, Matrix{Float64}}\n",
       "\n",
       "Outcome ~ gdpsh465 + bmp1l + freeop + freetar + h65 + hm65 + hf65 + p65 + pm65 + pf65 + s65 + sm65 + sf65 + fert65 + mort65 + lifee065 + gpop1 + fert1 + mort1 + invsh41 + geetot1 + geerec1 + gde1 + govwb1 + govsh41 + gvxdxe41 + high65 + highm65 + highf65 + highc65 + highcm65 + highcf65 + human65 + humanm65 + humanf65 + hyr65 + hyrm65 + hyrf65 + no65 + nom65 + nof65 + pinstab1 + pop65 + worker65 + pop1565 + pop6565 + sec65 + secm65 + secf65 + secc65 + seccm65 + seccf65 + syr65 + syrm65 + syrf65 + teapri65 + teasec65 + ex1 + im1 + xr65 + tot1\n",
       "\n",
       "Coefficients:\n",
       "LassoModel using MinAICc(2) segment of the regularization path.\n",
       "\n",
       "Coefficients:\n",
       "─────────────────\n",
       "         Estimate\n",
       "─────────────────\n",
       "x1    0.228153\n",
       "x2   -0.0234331\n",
       "x3   -0.0697234\n",
       "x4    0.0\n",
       "x5    0.0\n",
       "x6    0.0\n",
       "x7    0.0\n",
       "x8   -0.111508\n",
       "x9    0.0\n",
       "x10   0.107615\n",
       "x11  -0.0391745\n",
       "x12   0.0\n",
       "x13   0.0\n",
       "x14  -0.00460495\n",
       "x15   0.0\n",
       "x16   0.0\n",
       "x17   0.0\n",
       "x18  -0.0668011\n",
       "x19   0.0\n",
       "x20   0.0\n",
       "x21   0.0790991\n",
       "x22   0.0\n",
       "x23  -0.123294\n",
       "x24   0.124541\n",
       "x25  -0.105302\n",
       "x26   0.0\n",
       "x27  -0.266185\n",
       "x28   0.0\n",
       "x29   0.0\n",
       "x30   0.0\n",
       "x31   0.0\n",
       "x32   0.0\n",
       "x33   0.0\n",
       "x34   0.0\n",
       "x35   0.0\n",
       "x36   0.0\n",
       "x37   0.0\n",
       "x38   0.0\n",
       "x39   0.0\n",
       "x40   0.0\n",
       "x41   0.0\n",
       "x42   0.0\n",
       "x43  -0.054248\n",
       "x44   0.0\n",
       "x45   0.0\n",
       "x46  -0.0665324\n",
       "x47   0.0\n",
       "x48   0.0\n",
       "x49   0.0\n",
       "x50   0.0\n",
       "x51   0.0\n",
       "x52   0.0\n",
       "x53   0.0\n",
       "x54   0.0\n",
       "x55   0.0114461\n",
       "x56   0.0\n",
       "x57   0.0\n",
       "x58  -0.000403296\n",
       "x59   0.0\n",
       "x60   0.0484933\n",
       "x61   0.0\n",
       "x62   0.0\n",
       "─────────────────\n"
      ]
     },
     "execution_count": 24,
     "metadata": {},
     "output_type": "execute_result"
    }
   ],
   "source": [
    "#Basic model using Lasso with TRAIN data\n",
    "basic_model_lasso_train=fit(LassoModel,basic,train)"
   ]
  },
  {
   "cell_type": "code",
   "execution_count": 25,
   "id": "a86504c9",
   "metadata": {},
   "outputs": [
    {
     "name": "stdout",
     "output_type": "stream",
     "text": [
      "BASIC MODEL Train:\n",
      "R2: 0.7958906570383271,\n",
      "MSE: 0.05357588861644463"
     ]
    }
   ],
   "source": [
    "basic_model_lasso_train_e = sum(residuals(basic_model_lasso_train).^2)\n",
    "basic_model_lasso_train_p = sum(predict(basic_model_lasso_train).^2)\n",
    "basic_model_lasso_train_r2 =basic_model_lasso_train_p /(basic_model_lasso_train_e + basic_model_lasso_train_p)\n",
    "\n",
    "print(\"BASIC MODEL Train:\",\"\\n\")\n",
    "print(\"R2: \",basic_model_lasso_train_r2,\",\",\"\\n\")\n",
    "print(\"MSE: \",basic_model_lasso_train_e)"
   ]
  },
  {
   "cell_type": "code",
   "execution_count": 26,
   "id": "869b74f6",
   "metadata": {},
   "outputs": [
    {
     "data": {
      "text/plain": [
       "StatsModels.TableRegressionModel{LassoModel{LinearModel{GLM.LmResp{Vector{Float64}}, GLM.DensePredChol{Float64, CholeskyPivoted{Float64, Matrix{Float64}}}}, MinAICc}, Matrix{Float64}}\n",
       "\n",
       "Outcome ~ gdpsh465 + bmp1l + freeop + freetar + h65 + hm65 + hf65 + p65 + pm65 + pf65 + s65 + sm65 + sf65 + fert65 + mort65 + lifee065 + gpop1 + fert1 + mort1 + invsh41 + geetot1 + geerec1 + gde1 + govwb1 + govsh41 + gvxdxe41 + high65 + highm65 + highf65 + highc65 + highcm65 + highcf65 + human65 + humanm65 + humanf65 + hyr65 + hyrm65 + hyrf65 + no65 + nom65 + nof65 + pinstab1 + pop65 + worker65 + pop1565 + pop6565 + sec65 + secm65 + secf65 + secc65 + seccm65 + seccf65 + syr65 + syrm65 + syrf65 + teapri65 + teasec65 + ex1 + im1 + xr65 + tot1\n",
       "\n",
       "Coefficients:\n",
       "LassoModel using MinAICc(2) segment of the regularization path.\n",
       "\n",
       "Coefficients:\n",
       "─────────────\n",
       "     Estimate\n",
       "─────────────\n",
       "x1   0.039671\n",
       "x2   0.0\n",
       "x3   0.0\n",
       "x4   0.0\n",
       "x5   0.0\n",
       "x6   0.0\n",
       "x7   0.0\n",
       "x8   0.0\n",
       "x9   0.0\n",
       "x10  0.0\n",
       "x11  0.0\n",
       "x12  0.0\n",
       "x13  0.0\n",
       "x14  0.0\n",
       "x15  0.0\n",
       "x16  0.0\n",
       "x17  0.0\n",
       "x18  0.0\n",
       "x19  0.0\n",
       "x20  0.0\n",
       "x21  0.0\n",
       "x22  0.0\n",
       "x23  0.0\n",
       "x24  0.0\n",
       "x25  0.0\n",
       "x26  0.0\n",
       "x27  0.0\n",
       "x28  0.0\n",
       "x29  0.0\n",
       "x30  0.0\n",
       "x31  0.0\n",
       "x32  0.0\n",
       "x33  0.0\n",
       "x34  0.0\n",
       "x35  0.0\n",
       "x36  0.0\n",
       "x37  0.0\n",
       "x38  0.0\n",
       "x39  0.0\n",
       "x40  0.0\n",
       "x41  0.0\n",
       "x42  0.0\n",
       "x43  0.0\n",
       "x44  0.0\n",
       "x45  0.0\n",
       "x46  0.0\n",
       "x47  0.0\n",
       "x48  0.0\n",
       "x49  0.0\n",
       "x50  0.0\n",
       "x51  0.0\n",
       "x52  0.0\n",
       "x53  0.0\n",
       "x54  0.0\n",
       "x55  0.0\n",
       "x56  0.0\n",
       "x57  0.0\n",
       "x58  0.0\n",
       "x59  0.0\n",
       "x60  0.0\n",
       "x61  0.0\n",
       "x62  0.0\n",
       "─────────────\n"
      ]
     },
     "execution_count": 26,
     "metadata": {},
     "output_type": "execute_result"
    }
   ],
   "source": [
    "#Basic model using Lasso with TEST data\n",
    "\n",
    "basic_model_lasso_test=fit(LassoModel,basic,test)"
   ]
  },
  {
   "cell_type": "code",
   "execution_count": 27,
   "id": "76df3c03",
   "metadata": {},
   "outputs": [
    {
     "name": "stdout",
     "output_type": "stream",
     "text": [
      "BASIC MODEL\n",
      "R2: 0.2161695052605391,\n",
      "MSE: 0.10271798737333554"
     ]
    }
   ],
   "source": [
    "basic_model_lasso_test_e = sum(residuals(basic_model_lasso_test).^2)\n",
    "basic_model_lasso_test_p = sum(predict(basic_model_lasso_test).^2)\n",
    "basic_model_lasso_test_r2 =basic_model_lasso_test_p /(basic_model_lasso_test_e + basic_model_lasso_test_p)\n",
    "\n",
    "print(\"BASIC MODEL\",\"\\n\")\n",
    "print(\"R2: \",basic_model_lasso_test_r2,\",\",\"\\n\")\n",
    "print(\"MSE: \",basic_model_lasso_test_e)\n"
   ]
  },
  {
   "cell_type": "markdown",
   "id": "aeb7303c",
   "metadata": {},
   "source": [
    "### 3. Double Lasso using theoretical Lambda (HDM package)"
   ]
  },
  {
   "cell_type": "code",
   "execution_count": 28,
   "id": "d625c536",
   "metadata": {},
   "outputs": [],
   "source": [
    "include(\"hdmjl.jl\")"
   ]
  },
  {
   "cell_type": "code",
   "execution_count": 29,
   "id": "a66bc288",
   "metadata": {},
   "outputs": [
    {
     "data": {
      "text/plain": [
       "rlasso_arg(90×60 DataFrame. Omitted printing of 53 columns\n",
       "│ Row │ bmp1l   │ freeop   │ freetar  │ h65     │ hm65    │ hf65    │ p65     │\n",
       "│     │ \u001b[90mFloat64\u001b[39m │ \u001b[90mFloat64\u001b[39m  │ \u001b[90mFloat64\u001b[39m  │ \u001b[90mFloat64\u001b[39m │ \u001b[90mFloat64\u001b[39m │ \u001b[90mFloat64\u001b[39m │ \u001b[90mFloat64\u001b[39m │\n",
       "├─────┼─────────┼──────────┼──────────┼─────────┼─────────┼─────────┼─────────┤\n",
       "│ 1   │ 0.2837  │ 0.153491 │ 0.043888 │ 0.007   │ 0.013   │ 0.001   │ 0.29    │\n",
       "│ 2   │ 0.6141  │ 0.313509 │ 0.061827 │ 0.019   │ 0.032   │ 0.007   │ 0.91    │\n",
       "│ 3   │ 0.0     │ 0.204244 │ 0.009186 │ 0.26    │ 0.325   │ 0.201   │ 1.0     │\n",
       "│ 4   │ 0.1997  │ 0.248714 │ 0.03627  │ 0.061   │ 0.07    │ 0.051   │ 1.0     │\n",
       "│ 5   │ 0.174   │ 0.299252 │ 0.037367 │ 0.017   │ 0.027   │ 0.007   │ 0.82    │\n",
       "│ 6   │ 0.0     │ 0.258865 │ 0.02088  │ 0.023   │ 0.038   │ 0.006   │ 0.5     │\n",
       "│ 7   │ 0.0     │ 0.182525 │ 0.014385 │ 0.039   │ 0.063   │ 0.014   │ 0.92    │\n",
       "│ 8   │ 0.2776  │ 0.215275 │ 0.029713 │ 0.024   │ 0.035   │ 0.013   │ 0.69    │\n",
       "│ 9   │ 0.0     │ 0.109614 │ 0.002171 │ 0.402   │ 0.488   │ 0.314   │ 1.0     │\n",
       "│ 10  │ 0.1484  │ 0.110885 │ 0.028579 │ 0.145   │ 0.173   │ 0.114   │ 1.0     │\n",
       "⋮\n",
       "│ 80  │ 0.0     │ 0.179933 │ 0.046376 │ 0.035   │ 0.04    │ 0.027   │ 0.83    │\n",
       "│ 81  │ 0.0     │ 0.293138 │ 0.005517 │ 0.245   │ 0.251   │ 0.238   │ 1.0     │\n",
       "│ 82  │ 0.0     │ 0.30472  │ 0.011658 │ 0.246   │ 0.26    │ 0.19    │ 1.0     │\n",
       "│ 83  │ 0.0363  │ 0.288405 │ 0.011589 │ 0.183   │ 0.222   │ 0.142   │ 1.0     │\n",
       "│ 84  │ 0.0     │ 0.345485 │ 0.006503 │ 0.188   │ 0.248   │ 0.136   │ 1.0     │\n",
       "│ 85  │ 0.0     │ 0.28844  │ 0.005995 │ 0.256   │ 0.301   │ 0.199   │ 1.0     │\n",
       "│ 86  │ 0.0     │ 0.371898 │ 0.014586 │ 0.255   │ 0.336   │ 0.17    │ 0.98    │\n",
       "│ 87  │ 0.005   │ 0.296437 │ 0.013615 │ 0.108   │ 0.117   │ 0.093   │ 1.0     │\n",
       "│ 88  │ 0.0     │ 0.265778 │ 0.008629 │ 0.288   │ 0.337   │ 0.237   │ 1.0     │\n",
       "│ 89  │ 0.0     │ 0.282939 │ 0.005048 │ 0.188   │ 0.236   │ 0.139   │ 1.0     │\n",
       "│ 90  │ 0.0     │ 0.150366 │ 0.024377 │ 0.257   │ 0.338   │ 0.215   │ 1.0     │, 90×1 DataFrame\n",
       "│ Row │ Y          │\n",
       "│     │ \u001b[90mFloat64\u001b[39m    │\n",
       "├─────┼────────────┤\n",
       "│ 1   │ -0.0243358 │\n",
       "│ 2   │ 0.100473   │\n",
       "│ 3   │ 0.0670515  │\n",
       "│ 4   │ 0.0640892  │\n",
       "│ 5   │ 0.0279295  │\n",
       "│ 6   │ 0.0464074  │\n",
       "│ 7   │ 0.0673323  │\n",
       "│ 8   │ 0.0209777  │\n",
       "│ 9   │ 0.0335512  │\n",
       "│ 10  │ 0.0391465  │\n",
       "⋮\n",
       "│ 80  │ 0.0652286  │\n",
       "│ 81  │ 0.038095   │\n",
       "│ 82  │ 0.034213   │\n",
       "│ 83  │ 0.0527591  │\n",
       "│ 84  │ 0.0384156  │\n",
       "│ 85  │ 0.0318948  │\n",
       "│ 86  │ 0.031196   │\n",
       "│ 87  │ 0.0340957  │\n",
       "│ 88  │ 0.0469005  │\n",
       "│ 89  │ 0.0397734  │\n",
       "│ 90  │ 0.0406415  │, nothing, true, true, true, false, false, nothing, 1.1, nothing, 5000, 15, 1.0000000000000003e-5, -Inf, true, Inf, true)"
      ]
     },
     "execution_count": 29,
     "metadata": {},
     "output_type": "execute_result"
    }
   ],
   "source": [
    "res_Y_0 = rlasso_arg( W, Y, nothing, true, true, true, false, false, \n",
    "                    nothing, 1.1, nothing, 5000, 15, 10^(-5), -Inf, true, Inf, true )"
   ]
  },
  {
   "cell_type": "code",
   "execution_count": 30,
   "id": "74726aae",
   "metadata": {},
   "outputs": [],
   "source": [
    "# res_Y = rlasso(res_Y_0)\n",
    "# res_Y = res_Y[\"residuals\"]\n",
    "# res_D_0 = rlasso_arg( W, D, nothing, true, true, true, false, false, \n",
    "#                    nothing, 1.1, nothing, 5000, 15, 10^(-5), -Inf, true, Inf, true )\n",
    "#res_D = rlasso(res_D_0)[\"residuals\"]\n",
    "# We need to convert the vector into matrix because the lm function requires \"X\" to be matrix \n",
    "#res_D = reshape(res_D, length(res_D), 1)\n",
    "#reg3 = lm(res_D, res_Y)"
   ]
  },
  {
   "cell_type": "markdown",
   "id": "21fead05",
   "metadata": {},
   "source": [
    "### 4. Double Lasso using method=\"partialling out\""
   ]
  },
  {
   "cell_type": "code",
   "execution_count": 31,
   "id": "255a5224",
   "metadata": {},
   "outputs": [
    {
     "data": {
      "text/plain": [
       "StatsModels.TableRegressionModel{LinearModel{GLM.LmResp{Vector{Float64}}, GLM.DensePredChol{Float64, CholeskyPivoted{Float64, Matrix{Float64}}}}, Matrix{Float64}}\n",
       "\n",
       "r_Y ~ 1 + r_D\n",
       "\n",
       "Coefficients:\n",
       "────────────────────────────────────────────────────────────────────────────────\n",
       "                    Coef.  Std. Error      t  Pr(>|t|)    Lower 95%    Upper 95%\n",
       "────────────────────────────────────────────────────────────────────────────────\n",
       "(Intercept)  -2.69696e-17  0.00417979  -0.00    1.0000  -0.00830646   0.00830646\n",
       "r_D          -0.0500007    0.0152165   -3.29    0.0015  -0.0802403   -0.0197611\n",
       "────────────────────────────────────────────────────────────────────────────────"
      ]
     },
     "execution_count": 31,
     "metadata": {},
     "output_type": "execute_result"
    }
   ],
   "source": [
    "# Seat values for Lasso\n",
    "\n",
    "lasso_model = fit(LassoModel, term(:Y) ~  sum(term.(names(data[!, Not([\"Y\", \"D\"])]))), data; α = 0.8)\n",
    "r_Y = residuals(lasso_model)\n",
    "r_Y = DataFrame([r_Y], [:r_Y])\n",
    "\n",
    "# Part. out d\n",
    "\n",
    "lasso_model = fit(LassoModel, term(:D) ~  sum(term.(names(data[!, Not([\"Y\", \"D\"])]))), data;  α = 0.8)\n",
    "r_D = residuals(lasso_model)\n",
    "r_D = DataFrame([r_D], [:r_D])\n",
    "\n",
    "# ols \n",
    "data_aux = [r_Y r_D]\n",
    "fm_1 = @formula(r_Y ~ r_D)\n",
    "partial_lasso_fit = lm(fm_1, data_aux)"
   ]
  },
  {
   "cell_type": "code",
   "execution_count": 32,
   "id": "ea78bdc6",
   "metadata": {},
   "outputs": [
    {
     "data": {
      "text/plain": [
       "-0.019761084189004997"
      ]
     },
     "execution_count": 32,
     "metadata": {},
     "output_type": "execute_result"
    }
   ],
   "source": [
    "# output: estimated regression coefficient corresponding to the target regressor\n",
    "est_lasso = coef(partial_lasso_fit)[2]\n",
    "\n",
    "# output: std. error\n",
    "std_lasso = stderror(partial_lasso_fit)[2]\n",
    "\n",
    "# output: 95% confidence interval\n",
    "lower_ci_lasso = coeftable(partial_lasso_fit).cols[5][2]\n",
    "upper_ci_lasso = coeftable(partial_lasso_fit).cols[6][2]"
   ]
  },
  {
   "cell_type": "code",
   "execution_count": 33,
   "id": "1a22250b",
   "metadata": {},
   "outputs": [
    {
     "name": "stdout",
     "output_type": "stream",
     "text": [
      "Coefficient for D via partialling-out using lasso is: -0.05000069917512768\n"
     ]
    }
   ],
   "source": [
    "# Regress residuales\n",
    "partial_lasso_fit = lm(fm_1, data_aux)\n",
    "partial_lasso_est = coef(partial_lasso_fit)[2]\n",
    "\n",
    "println(\"Coefficient for D via partialling-out using lasso is: \", partial_lasso_est )"
   ]
  },
  {
   "cell_type": "code",
   "execution_count": 34,
   "id": "f7bbd8f7",
   "metadata": {},
   "outputs": [],
   "source": [
    "# Summary"
   ]
  },
  {
   "cell_type": "code",
   "execution_count": 35,
   "id": "4df8156a",
   "metadata": {},
   "outputs": [
    {
     "data": {
      "text/html": [
       "<!DOCTYPE html>\n",
       "<html>\n",
       "<meta charset=\"UTF-8\">\n",
       "<style>\n",
       "  table, td, th {\n",
       "      border-collapse: collapse;\n",
       "      font-family: sans-serif;\n",
       "  }\n",
       "\n",
       "  td, th {\n",
       "      border-bottom: 0;\n",
       "      padding: 4px\n",
       "  }\n",
       "\n",
       "  tr:nth-child(odd) {\n",
       "      background: #eee;\n",
       "  }\n",
       "\n",
       "  tr:nth-child(even) {\n",
       "      background: #fff;\n",
       "  }\n",
       "\n",
       "  tr.header {\n",
       "      background: navy !important;\n",
       "      color: white;\n",
       "      font-weight: bold;\n",
       "  }\n",
       "\n",
       "  tr.subheader {\n",
       "      background: lightgray !important;\n",
       "      color: black;\n",
       "  }\n",
       "\n",
       "  tr.headerLastRow {\n",
       "      border-bottom: 2px solid black;\n",
       "  }\n",
       "\n",
       "  th.rowNumber, td.rowNumber {\n",
       "      text-align: right;\n",
       "  }\n",
       "\n",
       "</style>\n",
       "<body>\n",
       "<table>\n",
       "  <thead>\n",
       "    <tr class = \"header headerLastRow\">\n",
       "      <th style = \"text-align: center;\">Model</th>\n",
       "      <th style = \"text-align: center;\">Estimator</th>\n",
       "      <th style = \"text-align: center;\">Std. Error</th>\n",
       "      <th style = \"text-align: center;\">lower bound CI</th>\n",
       "      <th style = \"text-align: center;\">upper bound CI</th>\n",
       "    </tr>\n",
       "  </thead>\n",
       "  <tbody>\n",
       "    <tr>\n",
       "      <td style = \"text-align: center;\">DOUBLE LASSO</td>\n",
       "      <td style = \"text-align: center;\">-0.050001</td>\n",
       "      <td style = \"text-align: center;\">0.015217</td>\n",
       "      <td style = \"text-align: center;\">-0.08024</td>\n",
       "      <td style = \"text-align: center;\">-0.019761</td>\n",
       "    </tr>\n",
       "  </tbody>\n",
       "</table>\n",
       "</body>\n",
       "</html>\n"
      ]
     },
     "metadata": {},
     "output_type": "display_data"
    }
   ],
   "source": [
    "table_2 = NamedArray(zeros(1, 4))\n",
    "setnames!(table_2, [\"DOUBLE LASSO\"], 1)\n",
    "\n",
    "table_2[1] = est_lasso\n",
    "table_2[2] = std_lasso   \n",
    "table_2[3] = lower_ci_lasso\n",
    "table_2[4] = upper_ci_lasso    \n",
    " \n",
    "table_2_pandas = DataFrame( table_2, [ :\"Estimator\", :\"Std. Error\", :\"lower bound CI\", :\"upper bound CI\"])\n",
    "model_2 = DataFrame(model = [\"DOUBLE LASSO\"])\n",
    "table_2_pandas = hcat(model_2,table_2_pandas)\n",
    "\n",
    "header = ([\"Model\", \"Estimator\", \"Std. Error\", \"lower bound CI\", \"upper bound CI\"])\n",
    "pretty_table(table_2_pandas; backend = Val(:html), header = header, formatters=ft_round(6), alignment=:c)"
   ]
  },
  {
   "cell_type": "code",
   "execution_count": 36,
   "id": "8cf97410",
   "metadata": {},
   "outputs": [
    {
     "data": {
      "text/html": [
       "<!DOCTYPE html>\n",
       "<html>\n",
       "<meta charset=\"UTF-8\">\n",
       "<style>\n",
       "  table, td, th {\n",
       "      border-collapse: collapse;\n",
       "      font-family: sans-serif;\n",
       "  }\n",
       "\n",
       "  td, th {\n",
       "      border-bottom: 0;\n",
       "      padding: 4px\n",
       "  }\n",
       "\n",
       "  tr:nth-child(odd) {\n",
       "      background: #eee;\n",
       "  }\n",
       "\n",
       "  tr:nth-child(even) {\n",
       "      background: #fff;\n",
       "  }\n",
       "\n",
       "  tr.header {\n",
       "      background: navy !important;\n",
       "      color: white;\n",
       "      font-weight: bold;\n",
       "  }\n",
       "\n",
       "  tr.subheader {\n",
       "      background: lightgray !important;\n",
       "      color: black;\n",
       "  }\n",
       "\n",
       "  tr.headerLastRow {\n",
       "      border-bottom: 2px solid black;\n",
       "  }\n",
       "\n",
       "  th.rowNumber, td.rowNumber {\n",
       "      text-align: right;\n",
       "  }\n",
       "\n",
       "</style>\n",
       "<body>\n",
       "<table>\n",
       "  <thead>\n",
       "    <tr class = \"header headerLastRow\">\n",
       "      <th style = \"text-align: center;\">Model</th>\n",
       "      <th style = \"text-align: center;\">Estimator</th>\n",
       "      <th style = \"text-align: center;\">Std. Error</th>\n",
       "      <th style = \"text-align: center;\">lower bound CI</th>\n",
       "      <th style = \"text-align: center;\">upper bound CI</th>\n",
       "    </tr>\n",
       "  </thead>\n",
       "  <tbody>\n",
       "    <tr>\n",
       "      <td style = \"text-align: center;\">OLS</td>\n",
       "      <td style = \"text-align: center;\">-0.009378</td>\n",
       "      <td style = \"text-align: center;\">0.029888</td>\n",
       "      <td style = \"text-align: center;\">-0.0706</td>\n",
       "      <td style = \"text-align: center;\">0.051844</td>\n",
       "    </tr>\n",
       "    <tr>\n",
       "      <td style = \"text-align: center;\">DOUBLE LASSO</td>\n",
       "      <td style = \"text-align: center;\">-0.050001</td>\n",
       "      <td style = \"text-align: center;\">0.015217</td>\n",
       "      <td style = \"text-align: center;\">-0.08024</td>\n",
       "      <td style = \"text-align: center;\">-0.019761</td>\n",
       "    </tr>\n",
       "  </tbody>\n",
       "</table>\n",
       "</body>\n",
       "</html>\n"
      ]
     },
     "metadata": {},
     "output_type": "display_data"
    }
   ],
   "source": [
    "table_3 = vcat(table_1, table_2)\n",
    "setnames!(table_3, [\"OLS\", \"DOUBLE LASSO\"], 1)\n",
    "\n",
    "table_3_pandas = DataFrame( table_3, [ :\"Estimator\", :\"Std. Error\", :\"lower bound CI\", :\"upper bound CI\"])\n",
    "model_3 = DataFrame(model = [\"OLS\", \"DOUBLE LASSO\"])\n",
    "table_3_pandas = hcat(model_3, table_3_pandas)\n",
    "\n",
    "header = ([\"Model\", \"Estimator\", \"Std. Error\", \"lower bound CI\", \"upper bound CI\"])\n",
    "pretty_table(table_3_pandas; backend = Val(:html), header = header, formatters=ft_round(6), alignment=:c)"
   ]
  },
  {
   "cell_type": "markdown",
   "id": "99a7df7e",
   "metadata": {},
   "source": [
    "### Plots"
   ]
  },
  {
   "cell_type": "code",
   "execution_count": 39,
   "id": "ad945369",
   "metadata": {},
   "outputs": [],
   "source": [
    "using Plots"
   ]
  },
  {
   "cell_type": "code",
   "execution_count": 40,
   "id": "08f6c633",
   "metadata": {},
   "outputs": [
    {
     "data": {
      "image/svg+xml": [
       "<?xml version=\"1.0\" encoding=\"utf-8\"?>\n",
       "<svg xmlns=\"http://www.w3.org/2000/svg\" xmlns:xlink=\"http://www.w3.org/1999/xlink\" width=\"950\" height=\"400\" viewBox=\"0 0 3800 1600\">\n",
       "<defs>\n",
       "  <clipPath id=\"clip490\">\n",
       "    <rect x=\"0\" y=\"0\" width=\"3800\" height=\"1600\"/>\n",
       "  </clipPath>\n",
       "</defs>\n",
       "<path clip-path=\"url(#clip490)\" d=\"\n",
       "M0 1600 L3800 1600 L3800 0 L0 0  Z\n",
       "  \" fill=\"#ffffff\" fill-rule=\"evenodd\" fill-opacity=\"1\"/>\n",
       "<defs>\n",
       "  <clipPath id=\"clip491\">\n",
       "    <rect x=\"760\" y=\"0\" width=\"2661\" height=\"1600\"/>\n",
       "  </clipPath>\n",
       "</defs>\n",
       "<path clip-path=\"url(#clip490)\" d=\"\n",
       "M536.754 1499.18 L3752.76 1499.18 L3752.76 47.2441 L536.754 47.2441  Z\n",
       "  \" fill=\"#ffffff\" fill-rule=\"evenodd\" fill-opacity=\"1\"/>\n",
       "<defs>\n",
       "  <clipPath id=\"clip492\">\n",
       "    <rect x=\"536\" y=\"47\" width=\"3217\" height=\"1453\"/>\n",
       "  </clipPath>\n",
       "</defs>\n",
       "<polyline clip-path=\"url(#clip492)\" style=\"stroke:#000000; stroke-linecap:butt; stroke-linejoin:round; stroke-width:2; stroke-opacity:0.1; fill:none\" points=\"\n",
       "  633.293,1499.18 633.293,47.2441 \n",
       "  \"/>\n",
       "<polyline clip-path=\"url(#clip492)\" style=\"stroke:#000000; stroke-linecap:butt; stroke-linejoin:round; stroke-width:2; stroke-opacity:0.1; fill:none\" points=\"\n",
       "  817.052,1499.18 817.052,47.2441 \n",
       "  \"/>\n",
       "<polyline clip-path=\"url(#clip492)\" style=\"stroke:#000000; stroke-linecap:butt; stroke-linejoin:round; stroke-width:2; stroke-opacity:0.1; fill:none\" points=\"\n",
       "  1000.81,1499.18 1000.81,47.2441 \n",
       "  \"/>\n",
       "<polyline clip-path=\"url(#clip492)\" style=\"stroke:#000000; stroke-linecap:butt; stroke-linejoin:round; stroke-width:2; stroke-opacity:0.1; fill:none\" points=\"\n",
       "  1184.57,1499.18 1184.57,47.2441 \n",
       "  \"/>\n",
       "<polyline clip-path=\"url(#clip492)\" style=\"stroke:#000000; stroke-linecap:butt; stroke-linejoin:round; stroke-width:2; stroke-opacity:0.1; fill:none\" points=\"\n",
       "  1368.33,1499.18 1368.33,47.2441 \n",
       "  \"/>\n",
       "<polyline clip-path=\"url(#clip492)\" style=\"stroke:#000000; stroke-linecap:butt; stroke-linejoin:round; stroke-width:2; stroke-opacity:0.1; fill:none\" points=\"\n",
       "  1552.09,1499.18 1552.09,47.2441 \n",
       "  \"/>\n",
       "<polyline clip-path=\"url(#clip492)\" style=\"stroke:#000000; stroke-linecap:butt; stroke-linejoin:round; stroke-width:2; stroke-opacity:0.1; fill:none\" points=\"\n",
       "  1735.85,1499.18 1735.85,47.2441 \n",
       "  \"/>\n",
       "<polyline clip-path=\"url(#clip492)\" style=\"stroke:#000000; stroke-linecap:butt; stroke-linejoin:round; stroke-width:2; stroke-opacity:0.1; fill:none\" points=\"\n",
       "  1919.6,1499.18 1919.6,47.2441 \n",
       "  \"/>\n",
       "<polyline clip-path=\"url(#clip492)\" style=\"stroke:#000000; stroke-linecap:butt; stroke-linejoin:round; stroke-width:2; stroke-opacity:0.1; fill:none\" points=\"\n",
       "  2103.36,1499.18 2103.36,47.2441 \n",
       "  \"/>\n",
       "<polyline clip-path=\"url(#clip492)\" style=\"stroke:#000000; stroke-linecap:butt; stroke-linejoin:round; stroke-width:2; stroke-opacity:0.1; fill:none\" points=\"\n",
       "  2287.12,1499.18 2287.12,47.2441 \n",
       "  \"/>\n",
       "<polyline clip-path=\"url(#clip492)\" style=\"stroke:#000000; stroke-linecap:butt; stroke-linejoin:round; stroke-width:2; stroke-opacity:0.1; fill:none\" points=\"\n",
       "  2470.88,1499.18 2470.88,47.2441 \n",
       "  \"/>\n",
       "<polyline clip-path=\"url(#clip492)\" style=\"stroke:#000000; stroke-linecap:butt; stroke-linejoin:round; stroke-width:2; stroke-opacity:0.1; fill:none\" points=\"\n",
       "  2654.64,1499.18 2654.64,47.2441 \n",
       "  \"/>\n",
       "<polyline clip-path=\"url(#clip492)\" style=\"stroke:#000000; stroke-linecap:butt; stroke-linejoin:round; stroke-width:2; stroke-opacity:0.1; fill:none\" points=\"\n",
       "  2838.4,1499.18 2838.4,47.2441 \n",
       "  \"/>\n",
       "<polyline clip-path=\"url(#clip492)\" style=\"stroke:#000000; stroke-linecap:butt; stroke-linejoin:round; stroke-width:2; stroke-opacity:0.1; fill:none\" points=\"\n",
       "  3022.16,1499.18 3022.16,47.2441 \n",
       "  \"/>\n",
       "<polyline clip-path=\"url(#clip492)\" style=\"stroke:#000000; stroke-linecap:butt; stroke-linejoin:round; stroke-width:2; stroke-opacity:0.1; fill:none\" points=\"\n",
       "  3205.92,1499.18 3205.92,47.2441 \n",
       "  \"/>\n",
       "<polyline clip-path=\"url(#clip492)\" style=\"stroke:#000000; stroke-linecap:butt; stroke-linejoin:round; stroke-width:2; stroke-opacity:0.1; fill:none\" points=\"\n",
       "  3389.68,1499.18 3389.68,47.2441 \n",
       "  \"/>\n",
       "<polyline clip-path=\"url(#clip492)\" style=\"stroke:#000000; stroke-linecap:butt; stroke-linejoin:round; stroke-width:2; stroke-opacity:0.1; fill:none\" points=\"\n",
       "  3573.44,1499.18 3573.44,47.2441 \n",
       "  \"/>\n",
       "<polyline clip-path=\"url(#clip490)\" style=\"stroke:#000000; stroke-linecap:butt; stroke-linejoin:round; stroke-width:4; stroke-opacity:1; fill:none\" points=\"\n",
       "  536.754,1499.18 3752.76,1499.18 \n",
       "  \"/>\n",
       "<polyline clip-path=\"url(#clip490)\" style=\"stroke:#000000; stroke-linecap:butt; stroke-linejoin:round; stroke-width:4; stroke-opacity:1; fill:none\" points=\"\n",
       "  633.293,1499.18 633.293,1480.28 \n",
       "  \"/>\n",
       "<polyline clip-path=\"url(#clip490)\" style=\"stroke:#000000; stroke-linecap:butt; stroke-linejoin:round; stroke-width:4; stroke-opacity:1; fill:none\" points=\"\n",
       "  817.052,1499.18 817.052,1480.28 \n",
       "  \"/>\n",
       "<polyline clip-path=\"url(#clip490)\" style=\"stroke:#000000; stroke-linecap:butt; stroke-linejoin:round; stroke-width:4; stroke-opacity:1; fill:none\" points=\"\n",
       "  1000.81,1499.18 1000.81,1480.28 \n",
       "  \"/>\n",
       "<polyline clip-path=\"url(#clip490)\" style=\"stroke:#000000; stroke-linecap:butt; stroke-linejoin:round; stroke-width:4; stroke-opacity:1; fill:none\" points=\"\n",
       "  1184.57,1499.18 1184.57,1480.28 \n",
       "  \"/>\n",
       "<polyline clip-path=\"url(#clip490)\" style=\"stroke:#000000; stroke-linecap:butt; stroke-linejoin:round; stroke-width:4; stroke-opacity:1; fill:none\" points=\"\n",
       "  1368.33,1499.18 1368.33,1480.28 \n",
       "  \"/>\n",
       "<polyline clip-path=\"url(#clip490)\" style=\"stroke:#000000; stroke-linecap:butt; stroke-linejoin:round; stroke-width:4; stroke-opacity:1; fill:none\" points=\"\n",
       "  1552.09,1499.18 1552.09,1480.28 \n",
       "  \"/>\n",
       "<polyline clip-path=\"url(#clip490)\" style=\"stroke:#000000; stroke-linecap:butt; stroke-linejoin:round; stroke-width:4; stroke-opacity:1; fill:none\" points=\"\n",
       "  1735.85,1499.18 1735.85,1480.28 \n",
       "  \"/>\n",
       "<polyline clip-path=\"url(#clip490)\" style=\"stroke:#000000; stroke-linecap:butt; stroke-linejoin:round; stroke-width:4; stroke-opacity:1; fill:none\" points=\"\n",
       "  1919.6,1499.18 1919.6,1480.28 \n",
       "  \"/>\n",
       "<polyline clip-path=\"url(#clip490)\" style=\"stroke:#000000; stroke-linecap:butt; stroke-linejoin:round; stroke-width:4; stroke-opacity:1; fill:none\" points=\"\n",
       "  2103.36,1499.18 2103.36,1480.28 \n",
       "  \"/>\n",
       "<polyline clip-path=\"url(#clip490)\" style=\"stroke:#000000; stroke-linecap:butt; stroke-linejoin:round; stroke-width:4; stroke-opacity:1; fill:none\" points=\"\n",
       "  2287.12,1499.18 2287.12,1480.28 \n",
       "  \"/>\n",
       "<polyline clip-path=\"url(#clip490)\" style=\"stroke:#000000; stroke-linecap:butt; stroke-linejoin:round; stroke-width:4; stroke-opacity:1; fill:none\" points=\"\n",
       "  2470.88,1499.18 2470.88,1480.28 \n",
       "  \"/>\n",
       "<polyline clip-path=\"url(#clip490)\" style=\"stroke:#000000; stroke-linecap:butt; stroke-linejoin:round; stroke-width:4; stroke-opacity:1; fill:none\" points=\"\n",
       "  2654.64,1499.18 2654.64,1480.28 \n",
       "  \"/>\n",
       "<polyline clip-path=\"url(#clip490)\" style=\"stroke:#000000; stroke-linecap:butt; stroke-linejoin:round; stroke-width:4; stroke-opacity:1; fill:none\" points=\"\n",
       "  2838.4,1499.18 2838.4,1480.28 \n",
       "  \"/>\n",
       "<polyline clip-path=\"url(#clip490)\" style=\"stroke:#000000; stroke-linecap:butt; stroke-linejoin:round; stroke-width:4; stroke-opacity:1; fill:none\" points=\"\n",
       "  3022.16,1499.18 3022.16,1480.28 \n",
       "  \"/>\n",
       "<polyline clip-path=\"url(#clip490)\" style=\"stroke:#000000; stroke-linecap:butt; stroke-linejoin:round; stroke-width:4; stroke-opacity:1; fill:none\" points=\"\n",
       "  3205.92,1499.18 3205.92,1480.28 \n",
       "  \"/>\n",
       "<polyline clip-path=\"url(#clip490)\" style=\"stroke:#000000; stroke-linecap:butt; stroke-linejoin:round; stroke-width:4; stroke-opacity:1; fill:none\" points=\"\n",
       "  3389.68,1499.18 3389.68,1480.28 \n",
       "  \"/>\n",
       "<polyline clip-path=\"url(#clip490)\" style=\"stroke:#000000; stroke-linecap:butt; stroke-linejoin:round; stroke-width:4; stroke-opacity:1; fill:none\" points=\"\n",
       "  3573.44,1499.18 3573.44,1480.28 \n",
       "  \"/>\n",
       "<path clip-path=\"url(#clip490)\" d=\"M549.659 1555.95 L579.335 1555.95 L579.335 1559.89 L549.659 1559.89 L549.659 1555.95 Z\" fill=\"#000000\" fill-rule=\"evenodd\" fill-opacity=\"1\" /><path clip-path=\"url(#clip490)\" d=\"M599.427 1541.3 Q595.816 1541.3 593.987 1544.86 Q592.182 1548.41 592.182 1555.54 Q592.182 1562.64 593.987 1566.21 Q595.816 1569.75 599.427 1569.75 Q603.061 1569.75 604.867 1566.21 Q606.696 1562.64 606.696 1555.54 Q606.696 1548.41 604.867 1544.86 Q603.061 1541.3 599.427 1541.3 M599.427 1537.6 Q605.237 1537.6 608.293 1542.2 Q611.371 1546.79 611.371 1555.54 Q611.371 1564.26 608.293 1568.87 Q605.237 1573.45 599.427 1573.45 Q593.617 1573.45 590.538 1568.87 Q587.483 1564.26 587.483 1555.54 Q587.483 1546.79 590.538 1542.2 Q593.617 1537.6 599.427 1537.6 Z\" fill=\"#000000\" fill-rule=\"evenodd\" fill-opacity=\"1\" /><path clip-path=\"url(#clip490)\" d=\"M619.589 1566.9 L624.473 1566.9 L624.473 1572.78 L619.589 1572.78 L619.589 1566.9 Z\" fill=\"#000000\" fill-rule=\"evenodd\" fill-opacity=\"1\" /><path clip-path=\"url(#clip490)\" d=\"M644.658 1541.3 Q641.047 1541.3 639.218 1544.86 Q637.413 1548.41 637.413 1555.54 Q637.413 1562.64 639.218 1566.21 Q641.047 1569.75 644.658 1569.75 Q648.293 1569.75 650.098 1566.21 Q651.927 1562.64 651.927 1555.54 Q651.927 1548.41 650.098 1544.86 Q648.293 1541.3 644.658 1541.3 M644.658 1537.6 Q650.468 1537.6 653.524 1542.2 Q656.603 1546.79 656.603 1555.54 Q656.603 1564.26 653.524 1568.87 Q650.468 1573.45 644.658 1573.45 Q638.848 1573.45 635.769 1568.87 Q632.714 1564.26 632.714 1555.54 Q632.714 1546.79 635.769 1542.2 Q638.848 1537.6 644.658 1537.6 Z\" fill=\"#000000\" fill-rule=\"evenodd\" fill-opacity=\"1\" /><path clip-path=\"url(#clip490)\" d=\"M674.82 1556.37 Q671.487 1556.37 669.566 1558.15 Q667.667 1559.93 667.667 1563.06 Q667.667 1566.18 669.566 1567.97 Q671.487 1569.75 674.82 1569.75 Q678.153 1569.75 680.075 1567.97 Q681.996 1566.16 681.996 1563.06 Q681.996 1559.93 680.075 1558.15 Q678.177 1556.37 674.82 1556.37 M670.144 1554.38 Q667.135 1553.64 665.445 1551.58 Q663.779 1549.52 663.779 1546.55 Q663.779 1542.41 666.718 1540 Q669.681 1537.6 674.82 1537.6 Q679.982 1537.6 682.922 1540 Q685.862 1542.41 685.862 1546.55 Q685.862 1549.52 684.172 1551.58 Q682.505 1553.64 679.519 1554.38 Q682.899 1555.16 684.774 1557.46 Q686.672 1559.75 686.672 1563.06 Q686.672 1568.08 683.593 1570.77 Q680.538 1573.45 674.82 1573.45 Q669.103 1573.45 666.024 1570.77 Q662.968 1568.08 662.968 1563.06 Q662.968 1559.75 664.866 1557.46 Q666.765 1555.16 670.144 1554.38 M668.431 1546.99 Q668.431 1549.68 670.098 1551.18 Q671.788 1552.69 674.82 1552.69 Q677.829 1552.69 679.519 1551.18 Q681.232 1549.68 681.232 1546.99 Q681.232 1544.31 679.519 1542.8 Q677.829 1541.3 674.82 1541.3 Q671.788 1541.3 670.098 1542.8 Q668.431 1544.31 668.431 1546.99 Z\" fill=\"#000000\" fill-rule=\"evenodd\" fill-opacity=\"1\" /><path clip-path=\"url(#clip490)\" d=\"M704.982 1541.3 Q701.371 1541.3 699.542 1544.86 Q697.737 1548.41 697.737 1555.54 Q697.737 1562.64 699.542 1566.21 Q701.371 1569.75 704.982 1569.75 Q708.616 1569.75 710.422 1566.21 Q712.251 1562.64 712.251 1555.54 Q712.251 1548.41 710.422 1544.86 Q708.616 1541.3 704.982 1541.3 M704.982 1537.6 Q710.792 1537.6 713.848 1542.2 Q716.926 1546.79 716.926 1555.54 Q716.926 1564.26 713.848 1568.87 Q710.792 1573.45 704.982 1573.45 Q699.172 1573.45 696.093 1568.87 Q693.038 1564.26 693.038 1555.54 Q693.038 1546.79 696.093 1542.2 Q699.172 1537.6 704.982 1537.6 Z\" fill=\"#000000\" fill-rule=\"evenodd\" fill-opacity=\"1\" /><path clip-path=\"url(#clip490)\" d=\"M734.216 1555.95 L763.892 1555.95 L763.892 1559.89 L734.216 1559.89 L734.216 1555.95 Z\" fill=\"#000000\" fill-rule=\"evenodd\" fill-opacity=\"1\" /><path clip-path=\"url(#clip490)\" d=\"M783.985 1541.3 Q780.373 1541.3 778.545 1544.86 Q776.739 1548.41 776.739 1555.54 Q776.739 1562.64 778.545 1566.21 Q780.373 1569.75 783.985 1569.75 Q787.619 1569.75 789.424 1566.21 Q791.253 1562.64 791.253 1555.54 Q791.253 1548.41 789.424 1544.86 Q787.619 1541.3 783.985 1541.3 M783.985 1537.6 Q789.795 1537.6 792.85 1542.2 Q795.929 1546.79 795.929 1555.54 Q795.929 1564.26 792.85 1568.87 Q789.795 1573.45 783.985 1573.45 Q778.174 1573.45 775.096 1568.87 Q772.04 1564.26 772.04 1555.54 Q772.04 1546.79 775.096 1542.2 Q778.174 1537.6 783.985 1537.6 Z\" fill=\"#000000\" fill-rule=\"evenodd\" fill-opacity=\"1\" /><path clip-path=\"url(#clip490)\" d=\"M804.146 1566.9 L809.031 1566.9 L809.031 1572.78 L804.146 1572.78 L804.146 1566.9 Z\" fill=\"#000000\" fill-rule=\"evenodd\" fill-opacity=\"1\" /><path clip-path=\"url(#clip490)\" d=\"M829.216 1541.3 Q825.605 1541.3 823.776 1544.86 Q821.97 1548.41 821.97 1555.54 Q821.97 1562.64 823.776 1566.21 Q825.605 1569.75 829.216 1569.75 Q832.85 1569.75 834.656 1566.21 Q836.484 1562.64 836.484 1555.54 Q836.484 1548.41 834.656 1544.86 Q832.85 1541.3 829.216 1541.3 M829.216 1537.6 Q835.026 1537.6 838.081 1542.2 Q841.16 1546.79 841.16 1555.54 Q841.16 1564.26 838.081 1568.87 Q835.026 1573.45 829.216 1573.45 Q823.406 1573.45 820.327 1568.87 Q817.271 1564.26 817.271 1555.54 Q817.271 1546.79 820.327 1542.2 Q823.406 1537.6 829.216 1537.6 Z\" fill=\"#000000\" fill-rule=\"evenodd\" fill-opacity=\"1\" /><path clip-path=\"url(#clip490)\" d=\"M848.197 1538.22 L870.419 1538.22 L870.419 1540.21 L857.873 1572.78 L852.989 1572.78 L864.794 1542.16 L848.197 1542.16 L848.197 1538.22 Z\" fill=\"#000000\" fill-rule=\"evenodd\" fill-opacity=\"1\" /><path clip-path=\"url(#clip490)\" d=\"M883.567 1568.85 L899.887 1568.85 L899.887 1572.78 L877.942 1572.78 L877.942 1568.85 Q880.604 1566.09 885.188 1561.46 Q889.794 1556.81 890.975 1555.47 Q893.22 1552.94 894.1 1551.21 Q895.002 1549.45 895.002 1547.76 Q895.002 1545 893.058 1543.27 Q891.137 1541.53 888.035 1541.53 Q885.836 1541.53 883.382 1542.29 Q880.952 1543.06 878.174 1544.61 L878.174 1539.89 Q880.998 1538.75 883.452 1538.17 Q885.905 1537.6 887.942 1537.6 Q893.313 1537.6 896.507 1540.28 Q899.702 1542.97 899.702 1547.46 Q899.702 1549.59 898.891 1551.51 Q898.104 1553.41 895.998 1556 Q895.419 1556.67 892.317 1559.89 Q889.215 1563.08 883.567 1568.85 Z\" fill=\"#000000\" fill-rule=\"evenodd\" fill-opacity=\"1\" /><path clip-path=\"url(#clip490)\" d=\"M916.934 1555.95 L946.609 1555.95 L946.609 1559.89 L916.934 1559.89 L916.934 1555.95 Z\" fill=\"#000000\" fill-rule=\"evenodd\" fill-opacity=\"1\" /><path clip-path=\"url(#clip490)\" d=\"M966.702 1541.3 Q963.091 1541.3 961.262 1544.86 Q959.456 1548.41 959.456 1555.54 Q959.456 1562.64 961.262 1566.21 Q963.091 1569.75 966.702 1569.75 Q970.336 1569.75 972.142 1566.21 Q973.97 1562.64 973.97 1555.54 Q973.97 1548.41 972.142 1544.86 Q970.336 1541.3 966.702 1541.3 M966.702 1537.6 Q972.512 1537.6 975.568 1542.2 Q978.646 1546.79 978.646 1555.54 Q978.646 1564.26 975.568 1568.87 Q972.512 1573.45 966.702 1573.45 Q960.892 1573.45 957.813 1568.87 Q954.757 1564.26 954.757 1555.54 Q954.757 1546.79 957.813 1542.2 Q960.892 1537.6 966.702 1537.6 Z\" fill=\"#000000\" fill-rule=\"evenodd\" fill-opacity=\"1\" /><path clip-path=\"url(#clip490)\" d=\"M986.864 1566.9 L991.748 1566.9 L991.748 1572.78 L986.864 1572.78 L986.864 1566.9 Z\" fill=\"#000000\" fill-rule=\"evenodd\" fill-opacity=\"1\" /><path clip-path=\"url(#clip490)\" d=\"M1011.93 1541.3 Q1008.32 1541.3 1006.49 1544.86 Q1004.69 1548.41 1004.69 1555.54 Q1004.69 1562.64 1006.49 1566.21 Q1008.32 1569.75 1011.93 1569.75 Q1015.57 1569.75 1017.37 1566.21 Q1019.2 1562.64 1019.2 1555.54 Q1019.2 1548.41 1017.37 1544.86 Q1015.57 1541.3 1011.93 1541.3 M1011.93 1537.6 Q1017.74 1537.6 1020.8 1542.2 Q1023.88 1546.79 1023.88 1555.54 Q1023.88 1564.26 1020.8 1568.87 Q1017.74 1573.45 1011.93 1573.45 Q1006.12 1573.45 1003.04 1568.87 Q999.989 1564.26 999.989 1555.54 Q999.989 1546.79 1003.04 1542.2 Q1006.12 1537.6 1011.93 1537.6 Z\" fill=\"#000000\" fill-rule=\"evenodd\" fill-opacity=\"1\" /><path clip-path=\"url(#clip490)\" d=\"M1042.67 1553.64 Q1039.53 1553.64 1037.67 1555.79 Q1035.84 1557.94 1035.84 1561.69 Q1035.84 1565.42 1037.67 1567.6 Q1039.53 1569.75 1042.67 1569.75 Q1045.82 1569.75 1047.65 1567.6 Q1049.5 1565.42 1049.5 1561.69 Q1049.5 1557.94 1047.65 1555.79 Q1045.82 1553.64 1042.67 1553.64 M1051.96 1538.98 L1051.96 1543.24 Q1050.2 1542.41 1048.39 1541.97 Q1046.61 1541.53 1044.85 1541.53 Q1040.22 1541.53 1037.77 1544.66 Q1035.34 1547.78 1034.99 1554.1 Q1036.35 1552.09 1038.41 1551.02 Q1040.47 1549.93 1042.95 1549.93 Q1048.16 1549.93 1051.17 1553.1 Q1054.2 1556.25 1054.2 1561.69 Q1054.2 1567.02 1051.05 1570.23 Q1047.91 1573.45 1042.67 1573.45 Q1036.68 1573.45 1033.51 1568.87 Q1030.34 1564.26 1030.34 1555.54 Q1030.34 1547.34 1034.22 1542.48 Q1038.11 1537.6 1044.66 1537.6 Q1046.42 1537.6 1048.21 1537.94 Q1050.01 1538.29 1051.96 1538.98 Z\" fill=\"#000000\" fill-rule=\"evenodd\" fill-opacity=\"1\" /><path clip-path=\"url(#clip490)\" d=\"M1075.1 1542.29 L1063.3 1560.74 L1075.1 1560.74 L1075.1 1542.29 M1073.88 1538.22 L1079.76 1538.22 L1079.76 1560.74 L1084.69 1560.74 L1084.69 1564.63 L1079.76 1564.63 L1079.76 1572.78 L1075.1 1572.78 L1075.1 1564.63 L1059.5 1564.63 L1059.5 1560.12 L1073.88 1538.22 Z\" fill=\"#000000\" fill-rule=\"evenodd\" fill-opacity=\"1\" /><path clip-path=\"url(#clip490)\" d=\"M1100.85 1555.95 L1130.53 1555.95 L1130.53 1559.89 L1100.85 1559.89 L1100.85 1555.95 Z\" fill=\"#000000\" fill-rule=\"evenodd\" fill-opacity=\"1\" /><path clip-path=\"url(#clip490)\" d=\"M1150.62 1541.3 Q1147.01 1541.3 1145.18 1544.86 Q1143.38 1548.41 1143.38 1555.54 Q1143.38 1562.64 1145.18 1566.21 Q1147.01 1569.75 1150.62 1569.75 Q1154.26 1569.75 1156.06 1566.21 Q1157.89 1562.64 1157.89 1555.54 Q1157.89 1548.41 1156.06 1544.86 Q1154.26 1541.3 1150.62 1541.3 M1150.62 1537.6 Q1156.43 1537.6 1159.49 1542.2 Q1162.57 1546.79 1162.57 1555.54 Q1162.57 1564.26 1159.49 1568.87 Q1156.43 1573.45 1150.62 1573.45 Q1144.81 1573.45 1141.73 1568.87 Q1138.68 1564.26 1138.68 1555.54 Q1138.68 1546.79 1141.73 1542.2 Q1144.81 1537.6 1150.62 1537.6 Z\" fill=\"#000000\" fill-rule=\"evenodd\" fill-opacity=\"1\" /><path clip-path=\"url(#clip490)\" d=\"M1170.78 1566.9 L1175.67 1566.9 L1175.67 1572.78 L1170.78 1572.78 L1170.78 1566.9 Z\" fill=\"#000000\" fill-rule=\"evenodd\" fill-opacity=\"1\" /><path clip-path=\"url(#clip490)\" d=\"M1195.85 1541.3 Q1192.24 1541.3 1190.41 1544.86 Q1188.61 1548.41 1188.61 1555.54 Q1188.61 1562.64 1190.41 1566.21 Q1192.24 1569.75 1195.85 1569.75 Q1199.49 1569.75 1201.29 1566.21 Q1203.12 1562.64 1203.12 1555.54 Q1203.12 1548.41 1201.29 1544.86 Q1199.49 1541.3 1195.85 1541.3 M1195.85 1537.6 Q1201.66 1537.6 1204.72 1542.2 Q1207.8 1546.79 1207.8 1555.54 Q1207.8 1564.26 1204.72 1568.87 Q1201.66 1573.45 1195.85 1573.45 Q1190.04 1573.45 1186.97 1568.87 Q1183.91 1564.26 1183.91 1555.54 Q1183.91 1546.79 1186.97 1542.2 Q1190.04 1537.6 1195.85 1537.6 Z\" fill=\"#000000\" fill-rule=\"evenodd\" fill-opacity=\"1\" /><path clip-path=\"url(#clip490)\" d=\"M1216.06 1538.22 L1234.42 1538.22 L1234.42 1542.16 L1220.34 1542.16 L1220.34 1550.63 Q1221.36 1550.28 1222.38 1550.12 Q1223.4 1549.93 1224.42 1549.93 Q1230.21 1549.93 1233.59 1553.1 Q1236.96 1556.28 1236.96 1561.69 Q1236.96 1567.27 1233.49 1570.37 Q1230.02 1573.45 1223.7 1573.45 Q1221.53 1573.45 1219.26 1573.08 Q1217.01 1572.71 1214.6 1571.97 L1214.6 1567.27 Q1216.69 1568.41 1218.91 1568.96 Q1221.13 1569.52 1223.61 1569.52 Q1227.61 1569.52 1229.95 1567.41 Q1232.29 1565.3 1232.29 1561.69 Q1232.29 1558.08 1229.95 1555.98 Q1227.61 1553.87 1223.61 1553.87 Q1221.73 1553.87 1219.86 1554.29 Q1218.01 1554.7 1216.06 1555.58 L1216.06 1538.22 Z\" fill=\"#000000\" fill-rule=\"evenodd\" fill-opacity=\"1\" /><path clip-path=\"url(#clip490)\" d=\"M1256.76 1553.64 Q1253.61 1553.64 1251.76 1555.79 Q1249.93 1557.94 1249.93 1561.69 Q1249.93 1565.42 1251.76 1567.6 Q1253.61 1569.75 1256.76 1569.75 Q1259.9 1569.75 1261.73 1567.6 Q1263.59 1565.42 1263.59 1561.69 Q1263.59 1557.94 1261.73 1555.79 Q1259.9 1553.64 1256.76 1553.64 M1266.04 1538.98 L1266.04 1543.24 Q1264.28 1542.41 1262.47 1541.97 Q1260.69 1541.53 1258.93 1541.53 Q1254.3 1541.53 1251.85 1544.66 Q1249.42 1547.78 1249.07 1554.1 Q1250.44 1552.09 1252.5 1551.02 Q1254.56 1549.93 1257.03 1549.93 Q1262.24 1549.93 1265.25 1553.1 Q1268.28 1556.25 1268.28 1561.69 Q1268.28 1567.02 1265.14 1570.23 Q1261.99 1573.45 1256.76 1573.45 Q1250.76 1573.45 1247.59 1568.87 Q1244.42 1564.26 1244.42 1555.54 Q1244.42 1547.34 1248.31 1542.48 Q1252.2 1537.6 1258.75 1537.6 Q1260.51 1537.6 1262.29 1537.94 Q1264.09 1538.29 1266.04 1538.98 Z\" fill=\"#000000\" fill-rule=\"evenodd\" fill-opacity=\"1\" /><path clip-path=\"url(#clip490)\" d=\"M1284.74 1555.95 L1314.42 1555.95 L1314.42 1559.89 L1284.74 1559.89 L1284.74 1555.95 Z\" fill=\"#000000\" fill-rule=\"evenodd\" fill-opacity=\"1\" /><path clip-path=\"url(#clip490)\" d=\"M1334.51 1541.3 Q1330.9 1541.3 1329.07 1544.86 Q1327.26 1548.41 1327.26 1555.54 Q1327.26 1562.64 1329.07 1566.21 Q1330.9 1569.75 1334.51 1569.75 Q1338.14 1569.75 1339.95 1566.21 Q1341.78 1562.64 1341.78 1555.54 Q1341.78 1548.41 1339.95 1544.86 Q1338.14 1541.3 1334.51 1541.3 M1334.51 1537.6 Q1340.32 1537.6 1343.37 1542.2 Q1346.45 1546.79 1346.45 1555.54 Q1346.45 1564.26 1343.37 1568.87 Q1340.32 1573.45 1334.51 1573.45 Q1328.7 1573.45 1325.62 1568.87 Q1322.56 1564.26 1322.56 1555.54 Q1322.56 1546.79 1325.62 1542.2 Q1328.7 1537.6 1334.51 1537.6 Z\" fill=\"#000000\" fill-rule=\"evenodd\" fill-opacity=\"1\" /><path clip-path=\"url(#clip490)\" d=\"M1354.67 1566.9 L1359.56 1566.9 L1359.56 1572.78 L1354.67 1572.78 L1354.67 1566.9 Z\" fill=\"#000000\" fill-rule=\"evenodd\" fill-opacity=\"1\" /><path clip-path=\"url(#clip490)\" d=\"M1379.74 1541.3 Q1376.13 1541.3 1374.3 1544.86 Q1372.49 1548.41 1372.49 1555.54 Q1372.49 1562.64 1374.3 1566.21 Q1376.13 1569.75 1379.74 1569.75 Q1383.37 1569.75 1385.18 1566.21 Q1387.01 1562.64 1387.01 1555.54 Q1387.01 1548.41 1385.18 1544.86 Q1383.37 1541.3 1379.74 1541.3 M1379.74 1537.6 Q1385.55 1537.6 1388.61 1542.2 Q1391.68 1546.79 1391.68 1555.54 Q1391.68 1564.26 1388.61 1568.87 Q1385.55 1573.45 1379.74 1573.45 Q1373.93 1573.45 1370.85 1568.87 Q1367.8 1564.26 1367.8 1555.54 Q1367.8 1546.79 1370.85 1542.2 Q1373.93 1537.6 1379.74 1537.6 Z\" fill=\"#000000\" fill-rule=\"evenodd\" fill-opacity=\"1\" /><path clip-path=\"url(#clip490)\" d=\"M1412.75 1542.29 L1400.94 1560.74 L1412.75 1560.74 L1412.75 1542.29 M1411.52 1538.22 L1417.4 1538.22 L1417.4 1560.74 L1422.33 1560.74 L1422.33 1564.63 L1417.4 1564.63 L1417.4 1572.78 L1412.75 1572.78 L1412.75 1564.63 L1397.15 1564.63 L1397.15 1560.12 L1411.52 1538.22 Z\" fill=\"#000000\" fill-rule=\"evenodd\" fill-opacity=\"1\" /><path clip-path=\"url(#clip490)\" d=\"M1440.06 1556.37 Q1436.73 1556.37 1434.81 1558.15 Q1432.91 1559.93 1432.91 1563.06 Q1432.91 1566.18 1434.81 1567.97 Q1436.73 1569.75 1440.06 1569.75 Q1443.4 1569.75 1445.32 1567.97 Q1447.24 1566.16 1447.24 1563.06 Q1447.24 1559.93 1445.32 1558.15 Q1443.42 1556.37 1440.06 1556.37 M1435.39 1554.38 Q1432.38 1553.64 1430.69 1551.58 Q1429.02 1549.52 1429.02 1546.55 Q1429.02 1542.41 1431.96 1540 Q1434.93 1537.6 1440.06 1537.6 Q1445.23 1537.6 1448.17 1540 Q1451.11 1542.41 1451.11 1546.55 Q1451.11 1549.52 1449.42 1551.58 Q1447.75 1553.64 1444.76 1554.38 Q1448.14 1555.16 1450.02 1557.46 Q1451.92 1559.75 1451.92 1563.06 Q1451.92 1568.08 1448.84 1570.77 Q1445.78 1573.45 1440.06 1573.45 Q1434.35 1573.45 1431.27 1570.77 Q1428.21 1568.08 1428.21 1563.06 Q1428.21 1559.75 1430.11 1557.46 Q1432.01 1555.16 1435.39 1554.38 M1433.68 1546.99 Q1433.68 1549.68 1435.34 1551.18 Q1437.03 1552.69 1440.06 1552.69 Q1443.07 1552.69 1444.76 1551.18 Q1446.48 1549.68 1446.48 1546.99 Q1446.48 1544.31 1444.76 1542.8 Q1443.07 1541.3 1440.06 1541.3 Q1437.03 1541.3 1435.34 1542.8 Q1433.68 1544.31 1433.68 1546.99 Z\" fill=\"#000000\" fill-rule=\"evenodd\" fill-opacity=\"1\" /><path clip-path=\"url(#clip490)\" d=\"M1468.45 1555.95 L1498.13 1555.95 L1498.13 1559.89 L1468.45 1559.89 L1468.45 1555.95 Z\" fill=\"#000000\" fill-rule=\"evenodd\" fill-opacity=\"1\" /><path clip-path=\"url(#clip490)\" d=\"M1518.22 1541.3 Q1514.61 1541.3 1512.78 1544.86 Q1510.98 1548.41 1510.98 1555.54 Q1510.98 1562.64 1512.78 1566.21 Q1514.61 1569.75 1518.22 1569.75 Q1521.86 1569.75 1523.66 1566.21 Q1525.49 1562.64 1525.49 1555.54 Q1525.49 1548.41 1523.66 1544.86 Q1521.86 1541.3 1518.22 1541.3 M1518.22 1537.6 Q1524.03 1537.6 1527.09 1542.2 Q1530.17 1546.79 1530.17 1555.54 Q1530.17 1564.26 1527.09 1568.87 Q1524.03 1573.45 1518.22 1573.45 Q1512.41 1573.45 1509.33 1568.87 Q1506.28 1564.26 1506.28 1555.54 Q1506.28 1546.79 1509.33 1542.2 Q1512.41 1537.6 1518.22 1537.6 Z\" fill=\"#000000\" fill-rule=\"evenodd\" fill-opacity=\"1\" /><path clip-path=\"url(#clip490)\" d=\"M1538.38 1566.9 L1543.27 1566.9 L1543.27 1572.78 L1538.38 1572.78 L1538.38 1566.9 Z\" fill=\"#000000\" fill-rule=\"evenodd\" fill-opacity=\"1\" /><path clip-path=\"url(#clip490)\" d=\"M1563.45 1541.3 Q1559.84 1541.3 1558.01 1544.86 Q1556.21 1548.41 1556.21 1555.54 Q1556.21 1562.64 1558.01 1566.21 Q1559.84 1569.75 1563.45 1569.75 Q1567.09 1569.75 1568.89 1566.21 Q1570.72 1562.64 1570.72 1555.54 Q1570.72 1548.41 1568.89 1544.86 Q1567.09 1541.3 1563.45 1541.3 M1563.45 1537.6 Q1569.26 1537.6 1572.32 1542.2 Q1575.4 1546.79 1575.4 1555.54 Q1575.4 1564.26 1572.32 1568.87 Q1569.26 1573.45 1563.45 1573.45 Q1557.64 1573.45 1554.56 1568.87 Q1551.51 1564.26 1551.51 1555.54 Q1551.51 1546.79 1554.56 1542.2 Q1557.64 1537.6 1563.45 1537.6 Z\" fill=\"#000000\" fill-rule=\"evenodd\" fill-opacity=\"1\" /><path clip-path=\"url(#clip490)\" d=\"M1596.46 1542.29 L1584.66 1560.74 L1596.46 1560.74 L1596.46 1542.29 M1595.24 1538.22 L1601.11 1538.22 L1601.11 1560.74 L1606.05 1560.74 L1606.05 1564.63 L1601.11 1564.63 L1601.11 1572.78 L1596.46 1572.78 L1596.46 1564.63 L1580.86 1564.63 L1580.86 1560.12 L1595.24 1538.22 Z\" fill=\"#000000\" fill-rule=\"evenodd\" fill-opacity=\"1\" /><path clip-path=\"url(#clip490)\" d=\"M1623.78 1541.3 Q1620.17 1541.3 1618.34 1544.86 Q1616.53 1548.41 1616.53 1555.54 Q1616.53 1562.64 1618.34 1566.21 Q1620.17 1569.75 1623.78 1569.75 Q1627.41 1569.75 1629.22 1566.21 Q1631.05 1562.64 1631.05 1555.54 Q1631.05 1548.41 1629.22 1544.86 Q1627.41 1541.3 1623.78 1541.3 M1623.78 1537.6 Q1629.59 1537.6 1632.64 1542.2 Q1635.72 1546.79 1635.72 1555.54 Q1635.72 1564.26 1632.64 1568.87 Q1629.59 1573.45 1623.78 1573.45 Q1617.97 1573.45 1614.89 1568.87 Q1611.83 1564.26 1611.83 1555.54 Q1611.83 1546.79 1614.89 1542.2 Q1617.97 1537.6 1623.78 1537.6 Z\" fill=\"#000000\" fill-rule=\"evenodd\" fill-opacity=\"1\" /><path clip-path=\"url(#clip490)\" d=\"M1653.01 1555.95 L1682.69 1555.95 L1682.69 1559.89 L1653.01 1559.89 L1653.01 1555.95 Z\" fill=\"#000000\" fill-rule=\"evenodd\" fill-opacity=\"1\" /><path clip-path=\"url(#clip490)\" d=\"M1702.78 1541.3 Q1699.17 1541.3 1697.34 1544.86 Q1695.53 1548.41 1695.53 1555.54 Q1695.53 1562.64 1697.34 1566.21 Q1699.17 1569.75 1702.78 1569.75 Q1706.41 1569.75 1708.22 1566.21 Q1710.05 1562.64 1710.05 1555.54 Q1710.05 1548.41 1708.22 1544.86 Q1706.41 1541.3 1702.78 1541.3 M1702.78 1537.6 Q1708.59 1537.6 1711.64 1542.2 Q1714.72 1546.79 1714.72 1555.54 Q1714.72 1564.26 1711.64 1568.87 Q1708.59 1573.45 1702.78 1573.45 Q1696.97 1573.45 1693.89 1568.87 Q1690.83 1564.26 1690.83 1555.54 Q1690.83 1546.79 1693.89 1542.2 Q1696.97 1537.6 1702.78 1537.6 Z\" fill=\"#000000\" fill-rule=\"evenodd\" fill-opacity=\"1\" /><path clip-path=\"url(#clip490)\" d=\"M1722.94 1566.9 L1727.83 1566.9 L1727.83 1572.78 L1722.94 1572.78 L1722.94 1566.9 Z\" fill=\"#000000\" fill-rule=\"evenodd\" fill-opacity=\"1\" /><path clip-path=\"url(#clip490)\" d=\"M1748.01 1541.3 Q1744.4 1541.3 1742.57 1544.86 Q1740.77 1548.41 1740.77 1555.54 Q1740.77 1562.64 1742.57 1566.21 Q1744.4 1569.75 1748.01 1569.75 Q1751.64 1569.75 1753.45 1566.21 Q1755.28 1562.64 1755.28 1555.54 Q1755.28 1548.41 1753.45 1544.86 Q1751.64 1541.3 1748.01 1541.3 M1748.01 1537.6 Q1753.82 1537.6 1756.88 1542.2 Q1759.95 1546.79 1759.95 1555.54 Q1759.95 1564.26 1756.88 1568.87 Q1753.82 1573.45 1748.01 1573.45 Q1742.2 1573.45 1739.12 1568.87 Q1736.07 1564.26 1736.07 1555.54 Q1736.07 1546.79 1739.12 1542.2 Q1742.2 1537.6 1748.01 1537.6 Z\" fill=\"#000000\" fill-rule=\"evenodd\" fill-opacity=\"1\" /><path clip-path=\"url(#clip490)\" d=\"M1782.34 1554.15 Q1785.7 1554.86 1787.57 1557.13 Q1789.47 1559.4 1789.47 1562.73 Q1789.47 1567.85 1785.95 1570.65 Q1782.43 1573.45 1775.95 1573.45 Q1773.77 1573.45 1771.46 1573.01 Q1769.17 1572.6 1766.71 1571.74 L1766.71 1567.22 Q1768.66 1568.36 1770.97 1568.94 Q1773.29 1569.52 1775.81 1569.52 Q1780.21 1569.52 1782.5 1567.78 Q1784.82 1566.04 1784.82 1562.73 Q1784.82 1559.68 1782.66 1557.97 Q1780.53 1556.23 1776.71 1556.23 L1772.69 1556.23 L1772.69 1552.39 L1776.9 1552.39 Q1780.35 1552.39 1782.18 1551.02 Q1784.01 1549.63 1784.01 1547.04 Q1784.01 1544.38 1782.11 1542.97 Q1780.23 1541.53 1776.71 1541.53 Q1774.79 1541.53 1772.59 1541.95 Q1770.39 1542.36 1767.76 1543.24 L1767.76 1539.08 Q1770.42 1538.34 1772.73 1537.97 Q1775.07 1537.6 1777.13 1537.6 Q1782.45 1537.6 1785.56 1540.03 Q1788.66 1542.43 1788.66 1546.55 Q1788.66 1549.42 1787.01 1551.41 Q1785.37 1553.38 1782.34 1554.15 Z\" fill=\"#000000\" fill-rule=\"evenodd\" fill-opacity=\"1\" /><path clip-path=\"url(#clip490)\" d=\"M1802.36 1568.85 L1818.68 1568.85 L1818.68 1572.78 L1796.74 1572.78 L1796.74 1568.85 Q1799.4 1566.09 1803.98 1561.46 Q1808.59 1556.81 1809.77 1555.47 Q1812.01 1552.94 1812.89 1551.21 Q1813.8 1549.45 1813.8 1547.76 Q1813.8 1545 1811.85 1543.27 Q1809.93 1541.53 1806.83 1541.53 Q1804.63 1541.53 1802.18 1542.29 Q1799.75 1543.06 1796.97 1544.61 L1796.97 1539.89 Q1799.79 1538.75 1802.25 1538.17 Q1804.7 1537.6 1806.74 1537.6 Q1812.11 1537.6 1815.3 1540.28 Q1818.5 1542.97 1818.5 1547.46 Q1818.5 1549.59 1817.69 1551.51 Q1816.9 1553.41 1814.79 1556 Q1814.21 1556.67 1811.11 1559.89 Q1808.01 1563.08 1802.36 1568.85 Z\" fill=\"#000000\" fill-rule=\"evenodd\" fill-opacity=\"1\" /><path clip-path=\"url(#clip490)\" d=\"M1835.73 1555.95 L1865.4 1555.95 L1865.4 1559.89 L1835.73 1559.89 L1835.73 1555.95 Z\" fill=\"#000000\" fill-rule=\"evenodd\" fill-opacity=\"1\" /><path clip-path=\"url(#clip490)\" d=\"M1885.5 1541.3 Q1881.89 1541.3 1880.06 1544.86 Q1878.25 1548.41 1878.25 1555.54 Q1878.25 1562.64 1880.06 1566.21 Q1881.89 1569.75 1885.5 1569.75 Q1889.13 1569.75 1890.94 1566.21 Q1892.76 1562.64 1892.76 1555.54 Q1892.76 1548.41 1890.94 1544.86 Q1889.13 1541.3 1885.5 1541.3 M1885.5 1537.6 Q1891.31 1537.6 1894.36 1542.2 Q1897.44 1546.79 1897.44 1555.54 Q1897.44 1564.26 1894.36 1568.87 Q1891.31 1573.45 1885.5 1573.45 Q1879.69 1573.45 1876.61 1568.87 Q1873.55 1564.26 1873.55 1555.54 Q1873.55 1546.79 1876.61 1542.2 Q1879.69 1537.6 1885.5 1537.6 Z\" fill=\"#000000\" fill-rule=\"evenodd\" fill-opacity=\"1\" /><path clip-path=\"url(#clip490)\" d=\"M1905.66 1566.9 L1910.54 1566.9 L1910.54 1572.78 L1905.66 1572.78 L1905.66 1566.9 Z\" fill=\"#000000\" fill-rule=\"evenodd\" fill-opacity=\"1\" /><path clip-path=\"url(#clip490)\" d=\"M1930.73 1541.3 Q1927.12 1541.3 1925.29 1544.86 Q1923.48 1548.41 1923.48 1555.54 Q1923.48 1562.64 1925.29 1566.21 Q1927.12 1569.75 1930.73 1569.75 Q1934.36 1569.75 1936.17 1566.21 Q1938 1562.64 1938 1555.54 Q1938 1548.41 1936.17 1544.86 Q1934.36 1541.3 1930.73 1541.3 M1930.73 1537.6 Q1936.54 1537.6 1939.59 1542.2 Q1942.67 1546.79 1942.67 1555.54 Q1942.67 1564.26 1939.59 1568.87 Q1936.54 1573.45 1930.73 1573.45 Q1924.92 1573.45 1921.84 1568.87 Q1918.78 1564.26 1918.78 1555.54 Q1918.78 1546.79 1921.84 1542.2 Q1924.92 1537.6 1930.73 1537.6 Z\" fill=\"#000000\" fill-rule=\"evenodd\" fill-opacity=\"1\" /><path clip-path=\"url(#clip490)\" d=\"M1954.92 1568.85 L1971.24 1568.85 L1971.24 1572.78 L1949.29 1572.78 L1949.29 1568.85 Q1951.95 1566.09 1956.54 1561.46 Q1961.14 1556.81 1962.32 1555.47 Q1964.57 1552.94 1965.45 1551.21 Q1966.35 1549.45 1966.35 1547.76 Q1966.35 1545 1964.41 1543.27 Q1962.49 1541.53 1959.38 1541.53 Q1957.19 1541.53 1954.73 1542.29 Q1952.3 1543.06 1949.52 1544.61 L1949.52 1539.89 Q1952.35 1538.75 1954.8 1538.17 Q1957.26 1537.6 1959.29 1537.6 Q1964.66 1537.6 1967.86 1540.28 Q1971.05 1542.97 1971.05 1547.46 Q1971.05 1549.59 1970.24 1551.51 Q1969.45 1553.41 1967.35 1556 Q1966.77 1556.67 1963.67 1559.89 Q1960.57 1563.08 1954.92 1568.85 Z\" fill=\"#000000\" fill-rule=\"evenodd\" fill-opacity=\"1\" /><path clip-path=\"url(#clip490)\" d=\"M1993.9 1542.29 L1982.09 1560.74 L1993.9 1560.74 L1993.9 1542.29 M1992.67 1538.22 L1998.55 1538.22 L1998.55 1560.74 L2003.48 1560.74 L2003.48 1564.63 L1998.55 1564.63 L1998.55 1572.78 L1993.9 1572.78 L1993.9 1564.63 L1978.3 1564.63 L1978.3 1560.12 L1992.67 1538.22 Z\" fill=\"#000000\" fill-rule=\"evenodd\" fill-opacity=\"1\" /><path clip-path=\"url(#clip490)\" d=\"M2019.65 1555.95 L2049.32 1555.95 L2049.32 1559.89 L2019.65 1559.89 L2019.65 1555.95 Z\" fill=\"#000000\" fill-rule=\"evenodd\" fill-opacity=\"1\" /><path clip-path=\"url(#clip490)\" d=\"M2069.42 1541.3 Q2065.81 1541.3 2063.98 1544.86 Q2062.17 1548.41 2062.17 1555.54 Q2062.17 1562.64 2063.98 1566.21 Q2065.81 1569.75 2069.42 1569.75 Q2073.05 1569.75 2074.86 1566.21 Q2076.69 1562.64 2076.69 1555.54 Q2076.69 1548.41 2074.86 1544.86 Q2073.05 1541.3 2069.42 1541.3 M2069.42 1537.6 Q2075.23 1537.6 2078.28 1542.2 Q2081.36 1546.79 2081.36 1555.54 Q2081.36 1564.26 2078.28 1568.87 Q2075.23 1573.45 2069.42 1573.45 Q2063.61 1573.45 2060.53 1568.87 Q2057.47 1564.26 2057.47 1555.54 Q2057.47 1546.79 2060.53 1542.2 Q2063.61 1537.6 2069.42 1537.6 Z\" fill=\"#000000\" fill-rule=\"evenodd\" fill-opacity=\"1\" /><path clip-path=\"url(#clip490)\" d=\"M2089.58 1566.9 L2094.46 1566.9 L2094.46 1572.78 L2089.58 1572.78 L2089.58 1566.9 Z\" fill=\"#000000\" fill-rule=\"evenodd\" fill-opacity=\"1\" /><path clip-path=\"url(#clip490)\" d=\"M2114.65 1541.3 Q2111.04 1541.3 2109.21 1544.86 Q2107.4 1548.41 2107.4 1555.54 Q2107.4 1562.64 2109.21 1566.21 Q2111.04 1569.75 2114.65 1569.75 Q2118.28 1569.75 2120.09 1566.21 Q2121.92 1562.64 2121.92 1555.54 Q2121.92 1548.41 2120.09 1544.86 Q2118.28 1541.3 2114.65 1541.3 M2114.65 1537.6 Q2120.46 1537.6 2123.51 1542.2 Q2126.59 1546.79 2126.59 1555.54 Q2126.59 1564.26 2123.51 1568.87 Q2120.46 1573.45 2114.65 1573.45 Q2108.84 1573.45 2105.76 1568.87 Q2102.7 1564.26 2102.7 1555.54 Q2102.7 1546.79 2105.76 1542.2 Q2108.84 1537.6 2114.65 1537.6 Z\" fill=\"#000000\" fill-rule=\"evenodd\" fill-opacity=\"1\" /><path clip-path=\"url(#clip490)\" d=\"M2135.62 1568.85 L2143.26 1568.85 L2143.26 1542.48 L2134.95 1544.15 L2134.95 1539.89 L2143.21 1538.22 L2147.89 1538.22 L2147.89 1568.85 L2155.53 1568.85 L2155.53 1572.78 L2135.62 1572.78 L2135.62 1568.85 Z\" fill=\"#000000\" fill-rule=\"evenodd\" fill-opacity=\"1\" /><path clip-path=\"url(#clip490)\" d=\"M2175.55 1553.64 Q2172.4 1553.64 2170.55 1555.79 Q2168.72 1557.94 2168.72 1561.69 Q2168.72 1565.42 2170.55 1567.6 Q2172.4 1569.75 2175.55 1569.75 Q2178.7 1569.75 2180.53 1567.6 Q2182.38 1565.42 2182.38 1561.69 Q2182.38 1557.94 2180.53 1555.79 Q2178.7 1553.64 2175.55 1553.64 M2184.83 1538.98 L2184.83 1543.24 Q2183.07 1542.41 2181.27 1541.97 Q2179.49 1541.53 2177.73 1541.53 Q2173.1 1541.53 2170.64 1544.66 Q2168.21 1547.78 2167.87 1554.1 Q2169.23 1552.09 2171.29 1551.02 Q2173.35 1549.93 2175.83 1549.93 Q2181.04 1549.93 2184.05 1553.1 Q2187.08 1556.25 2187.08 1561.69 Q2187.08 1567.02 2183.93 1570.23 Q2180.78 1573.45 2175.55 1573.45 Q2169.56 1573.45 2166.38 1568.87 Q2163.21 1564.26 2163.21 1555.54 Q2163.21 1547.34 2167.1 1542.48 Q2170.99 1537.6 2177.54 1537.6 Q2179.3 1537.6 2181.08 1537.94 Q2182.89 1538.29 2184.83 1538.98 Z\" fill=\"#000000\" fill-rule=\"evenodd\" fill-opacity=\"1\" /><path clip-path=\"url(#clip490)\" d=\"M2203.54 1555.95 L2233.21 1555.95 L2233.21 1559.89 L2203.54 1559.89 L2203.54 1555.95 Z\" fill=\"#000000\" fill-rule=\"evenodd\" fill-opacity=\"1\" /><path clip-path=\"url(#clip490)\" d=\"M2253.3 1541.3 Q2249.69 1541.3 2247.86 1544.86 Q2246.06 1548.41 2246.06 1555.54 Q2246.06 1562.64 2247.86 1566.21 Q2249.69 1569.75 2253.3 1569.75 Q2256.94 1569.75 2258.74 1566.21 Q2260.57 1562.64 2260.57 1555.54 Q2260.57 1548.41 2258.74 1544.86 Q2256.94 1541.3 2253.3 1541.3 M2253.3 1537.6 Q2259.11 1537.6 2262.17 1542.2 Q2265.25 1546.79 2265.25 1555.54 Q2265.25 1564.26 2262.17 1568.87 Q2259.11 1573.45 2253.3 1573.45 Q2247.49 1573.45 2244.41 1568.87 Q2241.36 1564.26 2241.36 1555.54 Q2241.36 1546.79 2244.41 1542.2 Q2247.49 1537.6 2253.3 1537.6 Z\" fill=\"#000000\" fill-rule=\"evenodd\" fill-opacity=\"1\" /><path clip-path=\"url(#clip490)\" d=\"M2273.47 1566.9 L2278.35 1566.9 L2278.35 1572.78 L2273.47 1572.78 L2273.47 1566.9 Z\" fill=\"#000000\" fill-rule=\"evenodd\" fill-opacity=\"1\" /><path clip-path=\"url(#clip490)\" d=\"M2298.53 1541.3 Q2294.92 1541.3 2293.1 1544.86 Q2291.29 1548.41 2291.29 1555.54 Q2291.29 1562.64 2293.1 1566.21 Q2294.92 1569.75 2298.53 1569.75 Q2302.17 1569.75 2303.97 1566.21 Q2305.8 1562.64 2305.8 1555.54 Q2305.8 1548.41 2303.97 1544.86 Q2302.17 1541.3 2298.53 1541.3 M2298.53 1537.6 Q2304.34 1537.6 2307.4 1542.2 Q2310.48 1546.79 2310.48 1555.54 Q2310.48 1564.26 2307.4 1568.87 Q2304.34 1573.45 2298.53 1573.45 Q2292.72 1573.45 2289.65 1568.87 Q2286.59 1564.26 2286.59 1555.54 Q2286.59 1546.79 2289.65 1542.2 Q2292.72 1537.6 2298.53 1537.6 Z\" fill=\"#000000\" fill-rule=\"evenodd\" fill-opacity=\"1\" /><path clip-path=\"url(#clip490)\" d=\"M2328.7 1541.3 Q2325.09 1541.3 2323.26 1544.86 Q2321.45 1548.41 2321.45 1555.54 Q2321.45 1562.64 2323.26 1566.21 Q2325.09 1569.75 2328.7 1569.75 Q2332.33 1569.75 2334.14 1566.21 Q2335.97 1562.64 2335.97 1555.54 Q2335.97 1548.41 2334.14 1544.86 Q2332.33 1541.3 2328.7 1541.3 M2328.7 1537.6 Q2334.51 1537.6 2337.56 1542.2 Q2340.64 1546.79 2340.64 1555.54 Q2340.64 1564.26 2337.56 1568.87 Q2334.51 1573.45 2328.7 1573.45 Q2322.89 1573.45 2319.81 1568.87 Q2316.75 1564.26 2316.75 1555.54 Q2316.75 1546.79 2319.81 1542.2 Q2322.89 1537.6 2328.7 1537.6 Z\" fill=\"#000000\" fill-rule=\"evenodd\" fill-opacity=\"1\" /><path clip-path=\"url(#clip490)\" d=\"M2358.86 1556.37 Q2355.53 1556.37 2353.6 1558.15 Q2351.71 1559.93 2351.71 1563.06 Q2351.71 1566.18 2353.6 1567.97 Q2355.53 1569.75 2358.86 1569.75 Q2362.19 1569.75 2364.11 1567.97 Q2366.03 1566.16 2366.03 1563.06 Q2366.03 1559.93 2364.11 1558.15 Q2362.22 1556.37 2358.86 1556.37 M2354.18 1554.38 Q2351.17 1553.64 2349.48 1551.58 Q2347.82 1549.52 2347.82 1546.55 Q2347.82 1542.41 2350.76 1540 Q2353.72 1537.6 2358.86 1537.6 Q2364.02 1537.6 2366.96 1540 Q2369.9 1542.41 2369.9 1546.55 Q2369.9 1549.52 2368.21 1551.58 Q2366.54 1553.64 2363.56 1554.38 Q2366.94 1555.16 2368.81 1557.46 Q2370.71 1559.75 2370.71 1563.06 Q2370.71 1568.08 2367.63 1570.77 Q2364.58 1573.45 2358.86 1573.45 Q2353.14 1573.45 2350.06 1570.77 Q2347.01 1568.08 2347.01 1563.06 Q2347.01 1559.75 2348.9 1557.46 Q2350.8 1555.16 2354.18 1554.38 M2352.47 1546.99 Q2352.47 1549.68 2354.14 1551.18 Q2355.83 1552.69 2358.86 1552.69 Q2361.87 1552.69 2363.56 1551.18 Q2365.27 1549.68 2365.27 1546.99 Q2365.27 1544.31 2363.56 1542.8 Q2361.87 1541.3 2358.86 1541.3 Q2355.83 1541.3 2354.14 1542.8 Q2352.47 1544.31 2352.47 1546.99 Z\" fill=\"#000000\" fill-rule=\"evenodd\" fill-opacity=\"1\" /><path clip-path=\"url(#clip490)\" d=\"M2418.1 1541.3 Q2414.49 1541.3 2412.66 1544.86 Q2410.86 1548.41 2410.86 1555.54 Q2410.86 1562.64 2412.66 1566.21 Q2414.49 1569.75 2418.1 1569.75 Q2421.74 1569.75 2423.54 1566.21 Q2425.37 1562.64 2425.37 1555.54 Q2425.37 1548.41 2423.54 1544.86 Q2421.74 1541.3 2418.1 1541.3 M2418.1 1537.6 Q2423.91 1537.6 2426.97 1542.2 Q2430.05 1546.79 2430.05 1555.54 Q2430.05 1564.26 2426.97 1568.87 Q2423.91 1573.45 2418.1 1573.45 Q2412.29 1573.45 2409.22 1568.87 Q2406.16 1564.26 2406.16 1555.54 Q2406.16 1546.79 2409.22 1542.2 Q2412.29 1537.6 2418.1 1537.6 Z\" fill=\"#000000\" fill-rule=\"evenodd\" fill-opacity=\"1\" /><path clip-path=\"url(#clip490)\" d=\"M2438.27 1566.9 L2443.15 1566.9 L2443.15 1572.78 L2438.27 1572.78 L2438.27 1566.9 Z\" fill=\"#000000\" fill-rule=\"evenodd\" fill-opacity=\"1\" /><path clip-path=\"url(#clip490)\" d=\"M2463.34 1541.3 Q2459.72 1541.3 2457.9 1544.86 Q2456.09 1548.41 2456.09 1555.54 Q2456.09 1562.64 2457.9 1566.21 Q2459.72 1569.75 2463.34 1569.75 Q2466.97 1569.75 2468.78 1566.21 Q2470.6 1562.64 2470.6 1555.54 Q2470.6 1548.41 2468.78 1544.86 Q2466.97 1541.3 2463.34 1541.3 M2463.34 1537.6 Q2469.15 1537.6 2472.2 1542.2 Q2475.28 1546.79 2475.28 1555.54 Q2475.28 1564.26 2472.2 1568.87 Q2469.15 1573.45 2463.34 1573.45 Q2457.53 1573.45 2454.45 1568.87 Q2451.39 1564.26 2451.39 1555.54 Q2451.39 1546.79 2454.45 1542.2 Q2457.53 1537.6 2463.34 1537.6 Z\" fill=\"#000000\" fill-rule=\"evenodd\" fill-opacity=\"1\" /><path clip-path=\"url(#clip490)\" d=\"M2493.5 1541.3 Q2489.89 1541.3 2488.06 1544.86 Q2486.25 1548.41 2486.25 1555.54 Q2486.25 1562.64 2488.06 1566.21 Q2489.89 1569.75 2493.5 1569.75 Q2497.13 1569.75 2498.94 1566.21 Q2500.77 1562.64 2500.77 1555.54 Q2500.77 1548.41 2498.94 1544.86 Q2497.13 1541.3 2493.5 1541.3 M2493.5 1537.6 Q2499.31 1537.6 2502.36 1542.2 Q2505.44 1546.79 2505.44 1555.54 Q2505.44 1564.26 2502.36 1568.87 Q2499.31 1573.45 2493.5 1573.45 Q2487.69 1573.45 2484.61 1568.87 Q2481.55 1564.26 2481.55 1555.54 Q2481.55 1546.79 2484.61 1542.2 Q2487.69 1537.6 2493.5 1537.6 Z\" fill=\"#000000\" fill-rule=\"evenodd\" fill-opacity=\"1\" /><path clip-path=\"url(#clip490)\" d=\"M2523.66 1541.3 Q2520.05 1541.3 2518.22 1544.86 Q2516.41 1548.41 2516.41 1555.54 Q2516.41 1562.64 2518.22 1566.21 Q2520.05 1569.75 2523.66 1569.75 Q2527.29 1569.75 2529.1 1566.21 Q2530.93 1562.64 2530.93 1555.54 Q2530.93 1548.41 2529.1 1544.86 Q2527.29 1541.3 2523.66 1541.3 M2523.66 1537.6 Q2529.47 1537.6 2532.52 1542.2 Q2535.6 1546.79 2535.6 1555.54 Q2535.6 1564.26 2532.52 1568.87 Q2529.47 1573.45 2523.66 1573.45 Q2517.85 1573.45 2514.77 1568.87 Q2511.71 1564.26 2511.71 1555.54 Q2511.71 1546.79 2514.77 1542.2 Q2517.85 1537.6 2523.66 1537.6 Z\" fill=\"#000000\" fill-rule=\"evenodd\" fill-opacity=\"1\" /><path clip-path=\"url(#clip490)\" d=\"M2601.91 1541.3 Q2598.3 1541.3 2596.47 1544.86 Q2594.66 1548.41 2594.66 1555.54 Q2594.66 1562.64 2596.47 1566.21 Q2598.3 1569.75 2601.91 1569.75 Q2605.54 1569.75 2607.35 1566.21 Q2609.18 1562.64 2609.18 1555.54 Q2609.18 1548.41 2607.35 1544.86 Q2605.54 1541.3 2601.91 1541.3 M2601.91 1537.6 Q2607.72 1537.6 2610.78 1542.2 Q2613.85 1546.79 2613.85 1555.54 Q2613.85 1564.26 2610.78 1568.87 Q2607.72 1573.45 2601.91 1573.45 Q2596.1 1573.45 2593.02 1568.87 Q2589.97 1564.26 2589.97 1555.54 Q2589.97 1546.79 2593.02 1542.2 Q2596.1 1537.6 2601.91 1537.6 Z\" fill=\"#000000\" fill-rule=\"evenodd\" fill-opacity=\"1\" /><path clip-path=\"url(#clip490)\" d=\"M2622.07 1566.9 L2626.96 1566.9 L2626.96 1572.78 L2622.07 1572.78 L2622.07 1566.9 Z\" fill=\"#000000\" fill-rule=\"evenodd\" fill-opacity=\"1\" /><path clip-path=\"url(#clip490)\" d=\"M2647.14 1541.3 Q2643.53 1541.3 2641.7 1544.86 Q2639.9 1548.41 2639.9 1555.54 Q2639.9 1562.64 2641.7 1566.21 Q2643.53 1569.75 2647.14 1569.75 Q2650.77 1569.75 2652.58 1566.21 Q2654.41 1562.64 2654.41 1555.54 Q2654.41 1548.41 2652.58 1544.86 Q2650.77 1541.3 2647.14 1541.3 M2647.14 1537.6 Q2652.95 1537.6 2656.01 1542.2 Q2659.09 1546.79 2659.09 1555.54 Q2659.09 1564.26 2656.01 1568.87 Q2652.95 1573.45 2647.14 1573.45 Q2641.33 1573.45 2638.25 1568.87 Q2635.2 1564.26 2635.2 1555.54 Q2635.2 1546.79 2638.25 1542.2 Q2641.33 1537.6 2647.14 1537.6 Z\" fill=\"#000000\" fill-rule=\"evenodd\" fill-opacity=\"1\" /><path clip-path=\"url(#clip490)\" d=\"M2677.3 1541.3 Q2673.69 1541.3 2671.86 1544.86 Q2670.06 1548.41 2670.06 1555.54 Q2670.06 1562.64 2671.86 1566.21 Q2673.69 1569.75 2677.3 1569.75 Q2680.94 1569.75 2682.74 1566.21 Q2684.57 1562.64 2684.57 1555.54 Q2684.57 1548.41 2682.74 1544.86 Q2680.94 1541.3 2677.3 1541.3 M2677.3 1537.6 Q2683.11 1537.6 2686.17 1542.2 Q2689.25 1546.79 2689.25 1555.54 Q2689.25 1564.26 2686.17 1568.87 Q2683.11 1573.45 2677.3 1573.45 Q2671.49 1573.45 2668.41 1568.87 Q2665.36 1564.26 2665.36 1555.54 Q2665.36 1546.79 2668.41 1542.2 Q2671.49 1537.6 2677.3 1537.6 Z\" fill=\"#000000\" fill-rule=\"evenodd\" fill-opacity=\"1\" /><path clip-path=\"url(#clip490)\" d=\"M2707.46 1556.37 Q2704.13 1556.37 2702.21 1558.15 Q2700.31 1559.93 2700.31 1563.06 Q2700.31 1566.18 2702.21 1567.97 Q2704.13 1569.75 2707.46 1569.75 Q2710.8 1569.75 2712.72 1567.97 Q2714.64 1566.16 2714.64 1563.06 Q2714.64 1559.93 2712.72 1558.15 Q2710.82 1556.37 2707.46 1556.37 M2702.79 1554.38 Q2699.78 1553.64 2698.09 1551.58 Q2696.42 1549.52 2696.42 1546.55 Q2696.42 1542.41 2699.36 1540 Q2702.33 1537.6 2707.46 1537.6 Q2712.63 1537.6 2715.57 1540 Q2718.51 1542.41 2718.51 1546.55 Q2718.51 1549.52 2716.82 1551.58 Q2715.15 1553.64 2712.16 1554.38 Q2715.54 1555.16 2717.42 1557.46 Q2719.32 1559.75 2719.32 1563.06 Q2719.32 1568.08 2716.24 1570.77 Q2713.18 1573.45 2707.46 1573.45 Q2701.75 1573.45 2698.67 1570.77 Q2695.61 1568.08 2695.61 1563.06 Q2695.61 1559.75 2697.51 1557.46 Q2699.41 1555.16 2702.79 1554.38 M2701.08 1546.99 Q2701.08 1549.68 2702.74 1551.18 Q2704.43 1552.69 2707.46 1552.69 Q2710.47 1552.69 2712.16 1551.18 Q2713.88 1549.68 2713.88 1546.99 Q2713.88 1544.31 2712.16 1542.8 Q2710.47 1541.3 2707.46 1541.3 Q2704.43 1541.3 2702.74 1542.8 Q2701.08 1544.31 2701.08 1546.99 Z\" fill=\"#000000\" fill-rule=\"evenodd\" fill-opacity=\"1\" /><path clip-path=\"url(#clip490)\" d=\"M2785.54 1541.3 Q2781.93 1541.3 2780.1 1544.86 Q2778.3 1548.41 2778.3 1555.54 Q2778.3 1562.64 2780.1 1566.21 Q2781.93 1569.75 2785.54 1569.75 Q2789.18 1569.75 2790.98 1566.21 Q2792.81 1562.64 2792.81 1555.54 Q2792.81 1548.41 2790.98 1544.86 Q2789.18 1541.3 2785.54 1541.3 M2785.54 1537.6 Q2791.35 1537.6 2794.41 1542.2 Q2797.49 1546.79 2797.49 1555.54 Q2797.49 1564.26 2794.41 1568.87 Q2791.35 1573.45 2785.54 1573.45 Q2779.73 1573.45 2776.65 1568.87 Q2773.6 1564.26 2773.6 1555.54 Q2773.6 1546.79 2776.65 1542.2 Q2779.73 1537.6 2785.54 1537.6 Z\" fill=\"#000000\" fill-rule=\"evenodd\" fill-opacity=\"1\" /><path clip-path=\"url(#clip490)\" d=\"M2805.7 1566.9 L2810.59 1566.9 L2810.59 1572.78 L2805.7 1572.78 L2805.7 1566.9 Z\" fill=\"#000000\" fill-rule=\"evenodd\" fill-opacity=\"1\" /><path clip-path=\"url(#clip490)\" d=\"M2830.77 1541.3 Q2827.16 1541.3 2825.33 1544.86 Q2823.53 1548.41 2823.53 1555.54 Q2823.53 1562.64 2825.33 1566.21 Q2827.16 1569.75 2830.77 1569.75 Q2834.41 1569.75 2836.21 1566.21 Q2838.04 1562.64 2838.04 1555.54 Q2838.04 1548.41 2836.21 1544.86 Q2834.41 1541.3 2830.77 1541.3 M2830.77 1537.6 Q2836.58 1537.6 2839.64 1542.2 Q2842.72 1546.79 2842.72 1555.54 Q2842.72 1564.26 2839.64 1568.87 Q2836.58 1573.45 2830.77 1573.45 Q2824.96 1573.45 2821.88 1568.87 Q2818.83 1564.26 2818.83 1555.54 Q2818.83 1546.79 2821.88 1542.2 Q2824.96 1537.6 2830.77 1537.6 Z\" fill=\"#000000\" fill-rule=\"evenodd\" fill-opacity=\"1\" /><path clip-path=\"url(#clip490)\" d=\"M2851.74 1568.85 L2859.38 1568.85 L2859.38 1542.48 L2851.07 1544.15 L2851.07 1539.89 L2859.34 1538.22 L2864.01 1538.22 L2864.01 1568.85 L2871.65 1568.85 L2871.65 1572.78 L2851.74 1572.78 L2851.74 1568.85 Z\" fill=\"#000000\" fill-rule=\"evenodd\" fill-opacity=\"1\" /><path clip-path=\"url(#clip490)\" d=\"M2891.67 1553.64 Q2888.53 1553.64 2886.67 1555.79 Q2884.85 1557.94 2884.85 1561.69 Q2884.85 1565.42 2886.67 1567.6 Q2888.53 1569.75 2891.67 1569.75 Q2894.82 1569.75 2896.65 1567.6 Q2898.5 1565.42 2898.5 1561.69 Q2898.5 1557.94 2896.65 1555.79 Q2894.82 1553.64 2891.67 1553.64 M2900.96 1538.98 L2900.96 1543.24 Q2899.2 1542.41 2897.39 1541.97 Q2895.61 1541.53 2893.85 1541.53 Q2889.22 1541.53 2886.77 1544.66 Q2884.34 1547.78 2883.99 1554.1 Q2885.36 1552.09 2887.42 1551.02 Q2889.48 1549.93 2891.95 1549.93 Q2897.16 1549.93 2900.17 1553.1 Q2903.2 1556.25 2903.2 1561.69 Q2903.2 1567.02 2900.05 1570.23 Q2896.91 1573.45 2891.67 1573.45 Q2885.68 1573.45 2882.51 1568.87 Q2879.34 1564.26 2879.34 1555.54 Q2879.34 1547.34 2883.23 1542.48 Q2887.11 1537.6 2893.67 1537.6 Q2895.42 1537.6 2897.21 1537.94 Q2899.01 1538.29 2900.96 1538.98 Z\" fill=\"#000000\" fill-rule=\"evenodd\" fill-opacity=\"1\" /><path clip-path=\"url(#clip490)\" d=\"M2969.14 1541.3 Q2965.53 1541.3 2963.7 1544.86 Q2961.89 1548.41 2961.89 1555.54 Q2961.89 1562.64 2963.7 1566.21 Q2965.53 1569.75 2969.14 1569.75 Q2972.77 1569.75 2974.58 1566.21 Q2976.41 1562.64 2976.41 1555.54 Q2976.41 1548.41 2974.58 1544.86 Q2972.77 1541.3 2969.14 1541.3 M2969.14 1537.6 Q2974.95 1537.6 2978 1542.2 Q2981.08 1546.79 2981.08 1555.54 Q2981.08 1564.26 2978 1568.87 Q2974.95 1573.45 2969.14 1573.45 Q2963.33 1573.45 2960.25 1568.87 Q2957.19 1564.26 2957.19 1555.54 Q2957.19 1546.79 2960.25 1542.2 Q2963.33 1537.6 2969.14 1537.6 Z\" fill=\"#000000\" fill-rule=\"evenodd\" fill-opacity=\"1\" /><path clip-path=\"url(#clip490)\" d=\"M2989.3 1566.9 L2994.18 1566.9 L2994.18 1572.78 L2989.3 1572.78 L2989.3 1566.9 Z\" fill=\"#000000\" fill-rule=\"evenodd\" fill-opacity=\"1\" /><path clip-path=\"url(#clip490)\" d=\"M3014.37 1541.3 Q3010.76 1541.3 3008.93 1544.86 Q3007.12 1548.41 3007.12 1555.54 Q3007.12 1562.64 3008.93 1566.21 Q3010.76 1569.75 3014.37 1569.75 Q3018 1569.75 3019.81 1566.21 Q3021.64 1562.64 3021.64 1555.54 Q3021.64 1548.41 3019.81 1544.86 Q3018 1541.3 3014.37 1541.3 M3014.37 1537.6 Q3020.18 1537.6 3023.23 1542.2 Q3026.31 1546.79 3026.31 1555.54 Q3026.31 1564.26 3023.23 1568.87 Q3020.18 1573.45 3014.37 1573.45 Q3008.56 1573.45 3005.48 1568.87 Q3002.42 1564.26 3002.42 1555.54 Q3002.42 1546.79 3005.48 1542.2 Q3008.56 1537.6 3014.37 1537.6 Z\" fill=\"#000000\" fill-rule=\"evenodd\" fill-opacity=\"1\" /><path clip-path=\"url(#clip490)\" d=\"M3038.56 1568.85 L3054.88 1568.85 L3054.88 1572.78 L3032.93 1572.78 L3032.93 1568.85 Q3035.6 1566.09 3040.18 1561.46 Q3044.79 1556.81 3045.97 1555.47 Q3048.21 1552.94 3049.09 1551.21 Q3049.99 1549.45 3049.99 1547.76 Q3049.99 1545 3048.05 1543.27 Q3046.13 1541.53 3043.03 1541.53 Q3040.83 1541.53 3038.37 1542.29 Q3035.94 1543.06 3033.17 1544.61 L3033.17 1539.89 Q3035.99 1538.75 3038.44 1538.17 Q3040.9 1537.6 3042.93 1537.6 Q3048.3 1537.6 3051.5 1540.28 Q3054.69 1542.97 3054.69 1547.46 Q3054.69 1549.59 3053.88 1551.51 Q3053.1 1553.41 3050.99 1556 Q3050.41 1556.67 3047.31 1559.89 Q3044.21 1563.08 3038.56 1568.85 Z\" fill=\"#000000\" fill-rule=\"evenodd\" fill-opacity=\"1\" /><path clip-path=\"url(#clip490)\" d=\"M3077.54 1542.29 L3065.73 1560.74 L3077.54 1560.74 L3077.54 1542.29 M3076.31 1538.22 L3082.19 1538.22 L3082.19 1560.74 L3087.12 1560.74 L3087.12 1564.63 L3082.19 1564.63 L3082.19 1572.78 L3077.54 1572.78 L3077.54 1564.63 L3061.94 1564.63 L3061.94 1560.12 L3076.31 1538.22 Z\" fill=\"#000000\" fill-rule=\"evenodd\" fill-opacity=\"1\" /><path clip-path=\"url(#clip490)\" d=\"M3153.94 1541.3 Q3150.33 1541.3 3148.5 1544.86 Q3146.69 1548.41 3146.69 1555.54 Q3146.69 1562.64 3148.5 1566.21 Q3150.33 1569.75 3153.94 1569.75 Q3157.57 1569.75 3159.38 1566.21 Q3161.21 1562.64 3161.21 1555.54 Q3161.21 1548.41 3159.38 1544.86 Q3157.57 1541.3 3153.94 1541.3 M3153.94 1537.6 Q3159.75 1537.6 3162.8 1542.2 Q3165.88 1546.79 3165.88 1555.54 Q3165.88 1564.26 3162.8 1568.87 Q3159.75 1573.45 3153.94 1573.45 Q3148.13 1573.45 3145.05 1568.87 Q3141.99 1564.26 3141.99 1555.54 Q3141.99 1546.79 3145.05 1542.2 Q3148.13 1537.6 3153.94 1537.6 Z\" fill=\"#000000\" fill-rule=\"evenodd\" fill-opacity=\"1\" /><path clip-path=\"url(#clip490)\" d=\"M3174.1 1566.9 L3178.98 1566.9 L3178.98 1572.78 L3174.1 1572.78 L3174.1 1566.9 Z\" fill=\"#000000\" fill-rule=\"evenodd\" fill-opacity=\"1\" /><path clip-path=\"url(#clip490)\" d=\"M3199.17 1541.3 Q3195.56 1541.3 3193.73 1544.86 Q3191.92 1548.41 3191.92 1555.54 Q3191.92 1562.64 3193.73 1566.21 Q3195.56 1569.75 3199.17 1569.75 Q3202.8 1569.75 3204.61 1566.21 Q3206.44 1562.64 3206.44 1555.54 Q3206.44 1548.41 3204.61 1544.86 Q3202.8 1541.3 3199.17 1541.3 M3199.17 1537.6 Q3204.98 1537.6 3208.04 1542.2 Q3211.11 1546.79 3211.11 1555.54 Q3211.11 1564.26 3208.04 1568.87 Q3204.98 1573.45 3199.17 1573.45 Q3193.36 1573.45 3190.28 1568.87 Q3187.23 1564.26 3187.23 1555.54 Q3187.23 1546.79 3190.28 1542.2 Q3193.36 1537.6 3199.17 1537.6 Z\" fill=\"#000000\" fill-rule=\"evenodd\" fill-opacity=\"1\" /><path clip-path=\"url(#clip490)\" d=\"M3233.5 1554.15 Q3236.85 1554.86 3238.73 1557.13 Q3240.63 1559.4 3240.63 1562.73 Q3240.63 1567.85 3237.11 1570.65 Q3233.59 1573.45 3227.11 1573.45 Q3224.93 1573.45 3222.62 1573.01 Q3220.33 1572.6 3217.87 1571.74 L3217.87 1567.22 Q3219.82 1568.36 3222.13 1568.94 Q3224.45 1569.52 3226.97 1569.52 Q3231.37 1569.52 3233.66 1567.78 Q3235.98 1566.04 3235.98 1562.73 Q3235.98 1559.68 3233.82 1557.97 Q3231.69 1556.23 3227.87 1556.23 L3223.85 1556.23 L3223.85 1552.39 L3228.06 1552.39 Q3231.51 1552.39 3233.34 1551.02 Q3235.16 1549.63 3235.16 1547.04 Q3235.16 1544.38 3233.27 1542.97 Q3231.39 1541.53 3227.87 1541.53 Q3225.95 1541.53 3223.75 1541.95 Q3221.55 1542.36 3218.92 1543.24 L3218.92 1539.08 Q3221.58 1538.34 3223.89 1537.97 Q3226.23 1537.6 3228.29 1537.6 Q3233.61 1537.6 3236.72 1540.03 Q3239.82 1542.43 3239.82 1546.55 Q3239.82 1549.42 3238.17 1551.41 Q3236.53 1553.38 3233.5 1554.15 Z\" fill=\"#000000\" fill-rule=\"evenodd\" fill-opacity=\"1\" /><path clip-path=\"url(#clip490)\" d=\"M3253.52 1568.85 L3269.84 1568.85 L3269.84 1572.78 L3247.9 1572.78 L3247.9 1568.85 Q3250.56 1566.09 3255.14 1561.46 Q3259.75 1556.81 3260.93 1555.47 Q3263.17 1552.94 3264.05 1551.21 Q3264.96 1549.45 3264.96 1547.76 Q3264.96 1545 3263.01 1543.27 Q3261.09 1541.53 3257.99 1541.53 Q3255.79 1541.53 3253.34 1542.29 Q3250.91 1543.06 3248.13 1544.61 L3248.13 1539.89 Q3250.95 1538.75 3253.41 1538.17 Q3255.86 1537.6 3257.9 1537.6 Q3263.27 1537.6 3266.46 1540.28 Q3269.66 1542.97 3269.66 1547.46 Q3269.66 1549.59 3268.85 1551.51 Q3268.06 1553.41 3265.95 1556 Q3265.37 1556.67 3262.27 1559.89 Q3259.17 1563.08 3253.52 1568.85 Z\" fill=\"#000000\" fill-rule=\"evenodd\" fill-opacity=\"1\" /><path clip-path=\"url(#clip490)\" d=\"M3336.9 1541.3 Q3333.29 1541.3 3331.46 1544.86 Q3329.65 1548.41 3329.65 1555.54 Q3329.65 1562.64 3331.46 1566.21 Q3333.29 1569.75 3336.9 1569.75 Q3340.53 1569.75 3342.34 1566.21 Q3344.17 1562.64 3344.17 1555.54 Q3344.17 1548.41 3342.34 1544.86 Q3340.53 1541.3 3336.9 1541.3 M3336.9 1537.6 Q3342.71 1537.6 3345.76 1542.2 Q3348.84 1546.79 3348.84 1555.54 Q3348.84 1564.26 3345.76 1568.87 Q3342.71 1573.45 3336.9 1573.45 Q3331.09 1573.45 3328.01 1568.87 Q3324.95 1564.26 3324.95 1555.54 Q3324.95 1546.79 3328.01 1542.2 Q3331.09 1537.6 3336.9 1537.6 Z\" fill=\"#000000\" fill-rule=\"evenodd\" fill-opacity=\"1\" /><path clip-path=\"url(#clip490)\" d=\"M3357.06 1566.9 L3361.94 1566.9 L3361.94 1572.78 L3357.06 1572.78 L3357.06 1566.9 Z\" fill=\"#000000\" fill-rule=\"evenodd\" fill-opacity=\"1\" /><path clip-path=\"url(#clip490)\" d=\"M3382.13 1541.3 Q3378.52 1541.3 3376.69 1544.86 Q3374.88 1548.41 3374.88 1555.54 Q3374.88 1562.64 3376.69 1566.21 Q3378.52 1569.75 3382.13 1569.75 Q3385.76 1569.75 3387.57 1566.21 Q3389.4 1562.64 3389.4 1555.54 Q3389.4 1548.41 3387.57 1544.86 Q3385.76 1541.3 3382.13 1541.3 M3382.13 1537.6 Q3387.94 1537.6 3391 1542.2 Q3394.07 1546.79 3394.07 1555.54 Q3394.07 1564.26 3391 1568.87 Q3387.94 1573.45 3382.13 1573.45 Q3376.32 1573.45 3373.24 1568.87 Q3370.19 1564.26 3370.19 1555.54 Q3370.19 1546.79 3373.24 1542.2 Q3376.32 1537.6 3382.13 1537.6 Z\" fill=\"#000000\" fill-rule=\"evenodd\" fill-opacity=\"1\" /><path clip-path=\"url(#clip490)\" d=\"M3415.14 1542.29 L3403.33 1560.74 L3415.14 1560.74 L3415.14 1542.29 M3413.91 1538.22 L3419.79 1538.22 L3419.79 1560.74 L3424.72 1560.74 L3424.72 1564.63 L3419.79 1564.63 L3419.79 1572.78 L3415.14 1572.78 L3415.14 1564.63 L3399.54 1564.63 L3399.54 1560.12 L3413.91 1538.22 Z\" fill=\"#000000\" fill-rule=\"evenodd\" fill-opacity=\"1\" /><path clip-path=\"url(#clip490)\" d=\"M3442.45 1541.3 Q3438.84 1541.3 3437.01 1544.86 Q3435.21 1548.41 3435.21 1555.54 Q3435.21 1562.64 3437.01 1566.21 Q3438.84 1569.75 3442.45 1569.75 Q3446.09 1569.75 3447.89 1566.21 Q3449.72 1562.64 3449.72 1555.54 Q3449.72 1548.41 3447.89 1544.86 Q3446.09 1541.3 3442.45 1541.3 M3442.45 1537.6 Q3448.26 1537.6 3451.32 1542.2 Q3454.4 1546.79 3454.4 1555.54 Q3454.4 1564.26 3451.32 1568.87 Q3448.26 1573.45 3442.45 1573.45 Q3436.64 1573.45 3433.56 1568.87 Q3430.51 1564.26 3430.51 1555.54 Q3430.51 1546.79 3433.56 1542.2 Q3436.64 1537.6 3442.45 1537.6 Z\" fill=\"#000000\" fill-rule=\"evenodd\" fill-opacity=\"1\" /><path clip-path=\"url(#clip490)\" d=\"M3520.7 1541.3 Q3517.09 1541.3 3515.26 1544.86 Q3513.46 1548.41 3513.46 1555.54 Q3513.46 1562.64 3515.26 1566.21 Q3517.09 1569.75 3520.7 1569.75 Q3524.34 1569.75 3526.14 1566.21 Q3527.97 1562.64 3527.97 1555.54 Q3527.97 1548.41 3526.14 1544.86 Q3524.34 1541.3 3520.7 1541.3 M3520.7 1537.6 Q3526.51 1537.6 3529.57 1542.2 Q3532.65 1546.79 3532.65 1555.54 Q3532.65 1564.26 3529.57 1568.87 Q3526.51 1573.45 3520.7 1573.45 Q3514.89 1573.45 3511.82 1568.87 Q3508.76 1564.26 3508.76 1555.54 Q3508.76 1546.79 3511.82 1542.2 Q3514.89 1537.6 3520.7 1537.6 Z\" fill=\"#000000\" fill-rule=\"evenodd\" fill-opacity=\"1\" /><path clip-path=\"url(#clip490)\" d=\"M3540.87 1566.9 L3545.75 1566.9 L3545.75 1572.78 L3540.87 1572.78 L3540.87 1566.9 Z\" fill=\"#000000\" fill-rule=\"evenodd\" fill-opacity=\"1\" /><path clip-path=\"url(#clip490)\" d=\"M3565.94 1541.3 Q3562.32 1541.3 3560.5 1544.86 Q3558.69 1548.41 3558.69 1555.54 Q3558.69 1562.64 3560.5 1566.21 Q3562.32 1569.75 3565.94 1569.75 Q3569.57 1569.75 3571.38 1566.21 Q3573.2 1562.64 3573.2 1555.54 Q3573.2 1548.41 3571.38 1544.86 Q3569.57 1541.3 3565.94 1541.3 M3565.94 1537.6 Q3571.75 1537.6 3574.8 1542.2 Q3577.88 1546.79 3577.88 1555.54 Q3577.88 1564.26 3574.8 1568.87 Q3571.75 1573.45 3565.94 1573.45 Q3560.13 1573.45 3557.05 1568.87 Q3553.99 1564.26 3553.99 1555.54 Q3553.99 1546.79 3557.05 1542.2 Q3560.13 1537.6 3565.94 1537.6 Z\" fill=\"#000000\" fill-rule=\"evenodd\" fill-opacity=\"1\" /><path clip-path=\"url(#clip490)\" d=\"M3598.94 1542.29 L3587.14 1560.74 L3598.94 1560.74 L3598.94 1542.29 M3597.72 1538.22 L3603.6 1538.22 L3603.6 1560.74 L3608.53 1560.74 L3608.53 1564.63 L3603.6 1564.63 L3603.6 1572.78 L3598.94 1572.78 L3598.94 1564.63 L3583.34 1564.63 L3583.34 1560.12 L3597.72 1538.22 Z\" fill=\"#000000\" fill-rule=\"evenodd\" fill-opacity=\"1\" /><path clip-path=\"url(#clip490)\" d=\"M3626.26 1556.37 Q3622.93 1556.37 3621 1558.15 Q3619.11 1559.93 3619.11 1563.06 Q3619.11 1566.18 3621 1567.97 Q3622.93 1569.75 3626.26 1569.75 Q3629.59 1569.75 3631.51 1567.97 Q3633.43 1566.16 3633.43 1563.06 Q3633.43 1559.93 3631.51 1558.15 Q3629.62 1556.37 3626.26 1556.37 M3621.58 1554.38 Q3618.57 1553.64 3616.88 1551.58 Q3615.22 1549.52 3615.22 1546.55 Q3615.22 1542.41 3618.16 1540 Q3621.12 1537.6 3626.26 1537.6 Q3631.42 1537.6 3634.36 1540 Q3637.3 1542.41 3637.3 1546.55 Q3637.3 1549.52 3635.61 1551.58 Q3633.94 1553.64 3630.96 1554.38 Q3634.34 1555.16 3636.21 1557.46 Q3638.11 1559.75 3638.11 1563.06 Q3638.11 1568.08 3635.03 1570.77 Q3631.98 1573.45 3626.26 1573.45 Q3620.54 1573.45 3617.46 1570.77 Q3614.41 1568.08 3614.41 1563.06 Q3614.41 1559.75 3616.31 1557.46 Q3618.2 1555.16 3621.58 1554.38 M3619.87 1546.99 Q3619.87 1549.68 3621.54 1551.18 Q3623.23 1552.69 3626.26 1552.69 Q3629.27 1552.69 3630.96 1551.18 Q3632.67 1549.68 3632.67 1546.99 Q3632.67 1544.31 3630.96 1542.8 Q3629.27 1541.3 3626.26 1541.3 Q3623.23 1541.3 3621.54 1542.8 Q3619.87 1544.31 3619.87 1546.99 Z\" fill=\"#000000\" fill-rule=\"evenodd\" fill-opacity=\"1\" /><polyline clip-path=\"url(#clip492)\" style=\"stroke:#000000; stroke-linecap:butt; stroke-linejoin:round; stroke-width:2; stroke-opacity:0.1; fill:none\" points=\"\n",
       "  536.754,1458.09 3752.76,1458.09 \n",
       "  \"/>\n",
       "<polyline clip-path=\"url(#clip492)\" style=\"stroke:#000000; stroke-linecap:butt; stroke-linejoin:round; stroke-width:2; stroke-opacity:0.1; fill:none\" points=\"\n",
       "  536.754,773.212 3752.76,773.212 \n",
       "  \"/>\n",
       "<polyline clip-path=\"url(#clip492)\" style=\"stroke:#000000; stroke-linecap:butt; stroke-linejoin:round; stroke-width:2; stroke-opacity:0.1; fill:none\" points=\"\n",
       "  536.754,88.3366 3752.76,88.3366 \n",
       "  \"/>\n",
       "<polyline clip-path=\"url(#clip490)\" style=\"stroke:#000000; stroke-linecap:butt; stroke-linejoin:round; stroke-width:4; stroke-opacity:1; fill:none\" points=\"\n",
       "  536.754,1499.18 536.754,47.2441 \n",
       "  \"/>\n",
       "<polyline clip-path=\"url(#clip490)\" style=\"stroke:#000000; stroke-linecap:butt; stroke-linejoin:round; stroke-width:4; stroke-opacity:1; fill:none\" points=\"\n",
       "  536.754,1458.09 555.651,1458.09 \n",
       "  \"/>\n",
       "<polyline clip-path=\"url(#clip490)\" style=\"stroke:#000000; stroke-linecap:butt; stroke-linejoin:round; stroke-width:4; stroke-opacity:1; fill:none\" points=\"\n",
       "  536.754,773.212 555.651,773.212 \n",
       "  \"/>\n",
       "<polyline clip-path=\"url(#clip490)\" style=\"stroke:#000000; stroke-linecap:butt; stroke-linejoin:round; stroke-width:4; stroke-opacity:1; fill:none\" points=\"\n",
       "  536.754,88.3366 555.651,88.3366 \n",
       "  \"/>\n",
       "<path clip-path=\"url(#clip490)\" d=\"M407.254 1443.98 Q402.162 1443.98 399.152 1447.78 Q396.166 1451.57 396.166 1458.12 Q396.166 1464.65 399.152 1468.45 Q402.162 1472.24 407.254 1472.24 Q412.347 1472.24 415.31 1468.45 Q418.296 1464.65 418.296 1458.12 Q418.296 1451.57 415.31 1447.78 Q412.347 1443.98 407.254 1443.98 M407.254 1440.18 Q414.523 1440.18 418.874 1445.07 Q423.226 1449.93 423.226 1458.12 Q423.226 1466.29 418.874 1471.18 Q414.523 1476.04 407.254 1476.04 Q399.962 1476.04 395.587 1471.18 Q391.236 1466.32 391.236 1458.12 Q391.236 1449.93 395.587 1445.07 Q399.962 1440.18 407.254 1440.18 Z\" fill=\"#000000\" fill-rule=\"evenodd\" fill-opacity=\"1\" /><path clip-path=\"url(#clip490)\" d=\"M430.541 1440.81 L435.217 1440.81 L435.217 1471.43 L452.045 1471.43 L452.045 1475.37 L430.541 1475.37 L430.541 1440.81 Z\" fill=\"#000000\" fill-rule=\"evenodd\" fill-opacity=\"1\" /><path clip-path=\"url(#clip490)\" d=\"M477.67 1441.94 L477.67 1446.5 Q475.008 1445.23 472.647 1444.6 Q470.286 1443.98 468.087 1443.98 Q464.268 1443.98 462.184 1445.46 Q460.124 1446.94 460.124 1449.67 Q460.124 1451.97 461.49 1453.15 Q462.879 1454.3 466.721 1455.02 L469.545 1455.6 Q474.777 1456.59 477.254 1459.12 Q479.754 1461.62 479.754 1465.83 Q479.754 1470.85 476.374 1473.45 Q473.018 1476.04 466.513 1476.04 Q464.059 1476.04 461.282 1475.48 Q458.527 1474.93 455.564 1473.84 L455.564 1469.03 Q458.411 1470.62 461.143 1471.43 Q463.874 1472.24 466.513 1472.24 Q470.518 1472.24 472.694 1470.67 Q474.869 1469.09 474.869 1466.18 Q474.869 1463.63 473.295 1462.2 Q471.744 1460.76 468.18 1460.04 L465.332 1459.49 Q460.101 1458.45 457.763 1456.22 Q455.425 1454 455.425 1450.04 Q455.425 1445.46 458.643 1442.82 Q461.883 1440.18 467.555 1440.18 Q469.985 1440.18 472.508 1440.62 Q475.031 1441.06 477.67 1441.94 Z\" fill=\"#000000\" fill-rule=\"evenodd\" fill-opacity=\"1\" /><path clip-path=\"url(#clip490)\" d=\"M174.755 759.775 L174.755 786.65 L180.403 786.65 Q187.556 786.65 190.866 783.409 Q194.2 780.168 194.2 773.178 Q194.2 766.233 190.866 763.016 Q187.556 759.775 180.403 759.775 L174.755 759.775 M170.079 755.932 L179.686 755.932 Q189.732 755.932 194.431 760.122 Q199.13 764.289 199.13 773.178 Q199.13 782.113 194.408 786.303 Q189.686 790.492 179.686 790.492 L170.079 790.492 L170.079 755.932 Z\" fill=\"#000000\" fill-rule=\"evenodd\" fill-opacity=\"1\" /><path clip-path=\"url(#clip490)\" d=\"M216.445 767.553 Q213.019 767.553 211.028 770.238 Q209.038 772.9 209.038 777.553 Q209.038 782.205 211.005 784.89 Q212.996 787.553 216.445 787.553 Q219.848 787.553 221.838 784.867 Q223.829 782.182 223.829 777.553 Q223.829 772.946 221.838 770.261 Q219.848 767.553 216.445 767.553 M216.445 763.942 Q222 763.942 225.172 767.553 Q228.343 771.164 228.343 777.553 Q228.343 783.918 225.172 787.553 Q222 791.164 216.445 791.164 Q210.866 791.164 207.695 787.553 Q204.547 783.918 204.547 777.553 Q204.547 771.164 207.695 767.553 Q210.866 763.942 216.445 763.942 Z\" fill=\"#000000\" fill-rule=\"evenodd\" fill-opacity=\"1\" /><path clip-path=\"url(#clip490)\" d=\"M234.963 780.261 L234.963 764.567 L239.223 764.567 L239.223 780.099 Q239.223 783.779 240.658 785.631 Q242.093 787.46 244.963 787.46 Q248.412 787.46 250.403 785.261 Q252.417 783.062 252.417 779.266 L252.417 764.567 L256.676 764.567 L256.676 790.492 L252.417 790.492 L252.417 786.511 Q250.866 788.872 248.806 790.029 Q246.769 791.164 244.06 791.164 Q239.593 791.164 237.278 788.386 Q234.963 785.608 234.963 780.261 M245.681 763.942 L245.681 763.942 Z\" fill=\"#000000\" fill-rule=\"evenodd\" fill-opacity=\"1\" /><path clip-path=\"url(#clip490)\" d=\"M284.06 777.553 Q284.06 772.854 282.116 770.191 Q280.195 767.506 276.815 767.506 Q273.435 767.506 271.491 770.191 Q269.57 772.854 269.57 777.553 Q269.57 782.252 271.491 784.937 Q273.435 787.599 276.815 787.599 Q280.195 787.599 282.116 784.937 Q284.06 782.252 284.06 777.553 M269.57 768.502 Q270.912 766.187 272.949 765.076 Q275.009 763.942 277.857 763.942 Q282.579 763.942 285.519 767.691 Q288.482 771.441 288.482 777.553 Q288.482 783.664 285.519 787.414 Q282.579 791.164 277.857 791.164 Q275.009 791.164 272.949 790.052 Q270.912 788.918 269.57 786.603 L269.57 790.492 L265.287 790.492 L265.287 754.474 L269.57 754.474 L269.57 768.502 Z\" fill=\"#000000\" fill-rule=\"evenodd\" fill-opacity=\"1\" /><path clip-path=\"url(#clip490)\" d=\"M295.542 754.474 L299.801 754.474 L299.801 790.492 L295.542 790.492 L295.542 754.474 Z\" fill=\"#000000\" fill-rule=\"evenodd\" fill-opacity=\"1\" /><path clip-path=\"url(#clip490)\" d=\"M330.889 776.465 L330.889 778.548 L311.306 778.548 Q311.583 782.946 313.944 785.261 Q316.329 787.553 320.565 787.553 Q323.018 787.553 325.31 786.951 Q327.625 786.349 329.893 785.145 L329.893 789.173 Q327.602 790.145 325.194 790.654 Q322.787 791.164 320.31 791.164 Q314.106 791.164 310.472 787.553 Q306.861 783.941 306.861 777.784 Q306.861 771.418 310.287 767.691 Q313.736 763.942 319.569 763.942 Q324.801 763.942 327.833 767.321 Q330.889 770.678 330.889 776.465 M326.63 775.215 Q326.583 771.719 324.662 769.636 Q322.764 767.553 319.616 767.553 Q316.051 767.553 313.898 769.566 Q311.768 771.58 311.444 775.238 L326.63 775.215 Z\" fill=\"#000000\" fill-rule=\"evenodd\" fill-opacity=\"1\" /><path clip-path=\"url(#clip490)\" d=\"M353.134 755.932 L357.81 755.932 L357.81 786.557 L374.639 786.557 L374.639 790.492 L353.134 790.492 L353.134 755.932 Z\" fill=\"#000000\" fill-rule=\"evenodd\" fill-opacity=\"1\" /><path clip-path=\"url(#clip490)\" d=\"M391.143 777.46 Q385.981 777.46 383.99 778.641 Q382 779.821 382 782.668 Q382 784.937 383.481 786.279 Q384.986 787.599 387.555 787.599 Q391.097 787.599 393.226 785.099 Q395.379 782.576 395.379 778.409 L395.379 777.46 L391.143 777.46 M399.638 775.701 L399.638 790.492 L395.379 790.492 L395.379 786.557 Q393.921 788.918 391.745 790.052 Q389.569 791.164 386.421 791.164 Q382.439 791.164 380.078 788.941 Q377.74 786.696 377.74 782.946 Q377.74 778.571 380.657 776.349 Q383.597 774.127 389.407 774.127 L395.379 774.127 L395.379 773.71 Q395.379 770.77 393.435 769.173 Q391.513 767.553 388.018 767.553 Q385.796 767.553 383.689 768.085 Q381.583 768.617 379.638 769.682 L379.638 765.747 Q381.976 764.844 384.175 764.404 Q386.375 763.942 388.458 763.942 Q394.083 763.942 396.861 766.858 Q399.638 769.775 399.638 775.701 Z\" fill=\"#000000\" fill-rule=\"evenodd\" fill-opacity=\"1\" /><path clip-path=\"url(#clip490)\" d=\"M424.939 765.33 L424.939 769.358 Q423.134 768.432 421.189 767.969 Q419.245 767.506 417.161 767.506 Q413.99 767.506 412.393 768.479 Q410.819 769.451 410.819 771.395 Q410.819 772.877 411.953 773.733 Q413.087 774.566 416.513 775.33 L417.972 775.654 Q422.509 776.627 424.407 778.409 Q426.328 780.168 426.328 783.34 Q426.328 786.951 423.458 789.057 Q420.61 791.164 415.611 791.164 Q413.527 791.164 411.259 790.747 Q409.013 790.353 406.513 789.543 L406.513 785.145 Q408.874 786.372 411.166 786.997 Q413.458 787.599 415.703 787.599 Q418.712 787.599 420.333 786.58 Q421.953 785.539 421.953 783.664 Q421.953 781.928 420.773 781.002 Q419.615 780.076 415.657 779.219 L414.175 778.872 Q410.217 778.039 408.458 776.326 Q406.699 774.59 406.699 771.58 Q406.699 767.923 409.291 765.932 Q411.884 763.942 416.652 763.942 Q419.013 763.942 421.097 764.289 Q423.18 764.636 424.939 765.33 Z\" fill=\"#000000\" fill-rule=\"evenodd\" fill-opacity=\"1\" /><path clip-path=\"url(#clip490)\" d=\"M449.638 765.33 L449.638 769.358 Q447.833 768.432 445.888 767.969 Q443.944 767.506 441.86 767.506 Q438.689 767.506 437.092 768.479 Q435.518 769.451 435.518 771.395 Q435.518 772.877 436.652 773.733 Q437.786 774.566 441.212 775.33 L442.671 775.654 Q447.208 776.627 449.106 778.409 Q451.027 780.168 451.027 783.34 Q451.027 786.951 448.157 789.057 Q445.309 791.164 440.309 791.164 Q438.226 791.164 435.958 790.747 Q433.712 790.353 431.212 789.543 L431.212 785.145 Q433.573 786.372 435.865 786.997 Q438.157 787.599 440.402 787.599 Q443.411 787.599 445.032 786.58 Q446.652 785.539 446.652 783.664 Q446.652 781.928 445.471 781.002 Q444.314 780.076 440.356 779.219 L438.874 778.872 Q434.916 778.039 433.157 776.326 Q431.397 774.59 431.397 771.58 Q431.397 767.923 433.99 765.932 Q436.583 763.942 441.351 763.942 Q443.712 763.942 445.796 764.289 Q447.879 764.636 449.638 765.33 Z\" fill=\"#000000\" fill-rule=\"evenodd\" fill-opacity=\"1\" /><path clip-path=\"url(#clip490)\" d=\"M467.856 767.553 Q464.43 767.553 462.439 770.238 Q460.448 772.9 460.448 777.553 Q460.448 782.205 462.416 784.89 Q464.407 787.553 467.856 787.553 Q471.258 787.553 473.249 784.867 Q475.24 782.182 475.24 777.553 Q475.24 772.946 473.249 770.261 Q471.258 767.553 467.856 767.553 M467.856 763.942 Q473.411 763.942 476.582 767.553 Q479.754 771.164 479.754 777.553 Q479.754 783.918 476.582 787.553 Q473.411 791.164 467.856 791.164 Q462.277 791.164 459.106 787.553 Q455.958 783.918 455.958 777.553 Q455.958 771.164 459.106 767.553 Q462.277 763.942 467.856 763.942 Z\" fill=\"#000000\" fill-rule=\"evenodd\" fill-opacity=\"1\" /><path clip-path=\"url(#clip490)\" d=\"M48.668 74.8992 L48.668 101.774 L54.3161 101.774 Q61.4689 101.774 64.7791 98.5333 Q68.1124 95.2926 68.1124 88.3019 Q68.1124 81.3575 64.7791 78.1399 Q61.4689 74.8992 54.3161 74.8992 L48.668 74.8992 M43.9921 71.0566 L53.5986 71.0566 Q63.6448 71.0566 68.3438 75.2464 Q73.0429 79.4131 73.0429 88.3019 Q73.0429 97.237 68.3207 101.427 Q63.5985 105.617 53.5986 105.617 L43.9921 105.617 L43.9921 71.0566 Z\" fill=\"#000000\" fill-rule=\"evenodd\" fill-opacity=\"1\" /><path clip-path=\"url(#clip490)\" d=\"M90.3576 82.6769 Q86.9317 82.6769 84.941 85.3621 Q82.9503 88.0241 82.9503 92.6769 Q82.9503 97.3296 84.9178 100.015 Q86.9086 102.677 90.3576 102.677 Q93.7604 102.677 95.7511 99.9917 Q97.7418 97.3065 97.7418 92.6769 Q97.7418 88.0704 95.7511 85.3853 Q93.7604 82.6769 90.3576 82.6769 M90.3576 79.0659 Q95.9131 79.0659 99.0844 82.6769 Q102.256 86.288 102.256 92.6769 Q102.256 99.0426 99.0844 102.677 Q95.9131 106.288 90.3576 106.288 Q84.7789 106.288 81.6077 102.677 Q78.4595 99.0426 78.4595 92.6769 Q78.4595 86.288 81.6077 82.6769 Q84.7789 79.0659 90.3576 79.0659 Z\" fill=\"#000000\" fill-rule=\"evenodd\" fill-opacity=\"1\" /><path clip-path=\"url(#clip490)\" d=\"M108.876 95.3852 L108.876 79.6908 L113.135 79.6908 L113.135 95.2232 Q113.135 98.9037 114.57 100.756 Q116.006 102.584 118.876 102.584 Q122.325 102.584 124.316 100.385 Q126.33 98.1861 126.33 94.3898 L126.33 79.6908 L130.589 79.6908 L130.589 105.617 L126.33 105.617 L126.33 101.635 Q124.779 103.996 122.719 105.154 Q120.682 106.288 117.973 106.288 Q113.506 106.288 111.191 103.51 Q108.876 100.732 108.876 95.3852 M119.594 79.0659 L119.594 79.0659 Z\" fill=\"#000000\" fill-rule=\"evenodd\" fill-opacity=\"1\" /><path clip-path=\"url(#clip490)\" d=\"M157.973 92.6769 Q157.973 87.9778 156.029 85.3158 Q154.107 82.6306 150.728 82.6306 Q147.348 82.6306 145.404 85.3158 Q143.482 87.9778 143.482 92.6769 Q143.482 97.3759 145.404 100.061 Q147.348 102.723 150.728 102.723 Q154.107 102.723 156.029 100.061 Q157.973 97.3759 157.973 92.6769 M143.482 83.626 Q144.825 81.3112 146.862 80.2001 Q148.922 79.0659 151.769 79.0659 Q156.492 79.0659 159.431 82.8158 Q162.394 86.5658 162.394 92.6769 Q162.394 98.788 159.431 102.538 Q156.492 106.288 151.769 106.288 Q148.922 106.288 146.862 105.177 Q144.825 104.043 143.482 101.728 L143.482 105.617 L139.2 105.617 L139.2 69.5983 L143.482 69.5983 L143.482 83.626 Z\" fill=\"#000000\" fill-rule=\"evenodd\" fill-opacity=\"1\" /><path clip-path=\"url(#clip490)\" d=\"M169.454 69.5983 L173.714 69.5983 L173.714 105.617 L169.454 105.617 L169.454 69.5983 Z\" fill=\"#000000\" fill-rule=\"evenodd\" fill-opacity=\"1\" /><path clip-path=\"url(#clip490)\" d=\"M204.801 91.5889 L204.801 93.6723 L185.218 93.6723 Q185.496 98.0704 187.857 100.385 Q190.241 102.677 194.477 102.677 Q196.931 102.677 199.223 102.075 Q201.538 101.473 203.806 100.269 L203.806 104.297 Q201.514 105.269 199.107 105.779 Q196.7 106.288 194.223 106.288 Q188.019 106.288 184.385 102.677 Q180.774 99.0657 180.774 92.9084 Q180.774 86.5427 184.2 82.8158 Q187.649 79.0659 193.482 79.0659 Q198.714 79.0659 201.746 82.4455 Q204.801 85.8019 204.801 91.5889 M200.542 90.3389 Q200.496 86.8436 198.575 84.7603 Q196.676 82.6769 193.528 82.6769 Q189.964 82.6769 187.811 84.6908 Q185.681 86.7047 185.357 90.3621 L200.542 90.3389 Z\" fill=\"#000000\" fill-rule=\"evenodd\" fill-opacity=\"1\" /><path clip-path=\"url(#clip490)\" d=\"M227.047 71.0566 L231.723 71.0566 L231.723 101.681 L248.551 101.681 L248.551 105.617 L227.047 105.617 L227.047 71.0566 Z\" fill=\"#000000\" fill-rule=\"evenodd\" fill-opacity=\"1\" /><path clip-path=\"url(#clip490)\" d=\"M265.056 92.5843 Q259.894 92.5843 257.903 93.7648 Q255.912 94.9454 255.912 97.7926 Q255.912 100.061 257.394 101.404 Q258.898 102.723 261.468 102.723 Q265.009 102.723 267.139 100.223 Q269.292 97.7 269.292 93.5334 L269.292 92.5843 L265.056 92.5843 M273.551 90.825 L273.551 105.617 L269.292 105.617 L269.292 101.681 Q267.834 104.043 265.658 105.177 Q263.482 106.288 260.334 106.288 Q256.352 106.288 253.991 104.066 Q251.653 101.82 251.653 98.0704 Q251.653 93.6954 254.57 91.4732 Q257.51 89.251 263.32 89.251 L269.292 89.251 L269.292 88.8343 Q269.292 85.8945 267.347 84.2973 Q265.426 82.6769 261.931 82.6769 Q259.709 82.6769 257.602 83.2093 Q255.496 83.7418 253.551 84.8066 L253.551 80.8714 Q255.889 79.9686 258.088 79.5288 Q260.287 79.0659 262.371 79.0659 Q267.996 79.0659 270.773 81.9825 Q273.551 84.8992 273.551 90.825 Z\" fill=\"#000000\" fill-rule=\"evenodd\" fill-opacity=\"1\" /><path clip-path=\"url(#clip490)\" d=\"M298.852 80.4547 L298.852 84.4825 Q297.046 83.5566 295.102 83.0936 Q293.157 82.6306 291.074 82.6306 Q287.903 82.6306 286.306 83.6029 Q284.732 84.5751 284.732 86.5195 Q284.732 88.001 285.866 88.8575 Q287 89.6908 290.426 90.4547 L291.884 90.7788 Q296.421 91.751 298.319 93.5334 Q300.241 95.2926 300.241 98.4639 Q300.241 102.075 297.37 104.181 Q294.523 106.288 289.523 106.288 Q287.44 106.288 285.171 105.871 Q282.926 105.478 280.426 104.668 L280.426 100.269 Q282.787 101.496 285.079 102.121 Q287.37 102.723 289.616 102.723 Q292.625 102.723 294.245 101.705 Q295.866 100.663 295.866 98.788 Q295.866 97.0519 294.685 96.1259 Q293.528 95.2 289.57 94.3435 L288.088 93.9963 Q284.13 93.163 282.37 91.45 Q280.611 89.7139 280.611 86.7047 Q280.611 83.0473 283.204 81.0566 Q285.796 79.0659 290.565 79.0659 Q292.926 79.0659 295.009 79.4131 Q297.093 79.7603 298.852 80.4547 Z\" fill=\"#000000\" fill-rule=\"evenodd\" fill-opacity=\"1\" /><path clip-path=\"url(#clip490)\" d=\"M323.551 80.4547 L323.551 84.4825 Q321.745 83.5566 319.801 83.0936 Q317.856 82.6306 315.773 82.6306 Q312.602 82.6306 311.005 83.6029 Q309.431 84.5751 309.431 86.5195 Q309.431 88.001 310.565 88.8575 Q311.699 89.6908 315.125 90.4547 L316.583 90.7788 Q321.12 91.751 323.018 93.5334 Q324.94 95.2926 324.94 98.4639 Q324.94 102.075 322.069 104.181 Q319.222 106.288 314.222 106.288 Q312.139 106.288 309.87 105.871 Q307.625 105.478 305.125 104.668 L305.125 100.269 Q307.486 101.496 309.778 102.121 Q312.069 102.723 314.315 102.723 Q317.324 102.723 318.944 101.705 Q320.565 100.663 320.565 98.788 Q320.565 97.0519 319.384 96.1259 Q318.227 95.2 314.268 94.3435 L312.787 93.9963 Q308.829 93.163 307.069 91.45 Q305.31 89.7139 305.31 86.7047 Q305.31 83.0473 307.903 81.0566 Q310.495 79.0659 315.264 79.0659 Q317.625 79.0659 319.708 79.4131 Q321.792 79.7603 323.551 80.4547 Z\" fill=\"#000000\" fill-rule=\"evenodd\" fill-opacity=\"1\" /><path clip-path=\"url(#clip490)\" d=\"M341.768 82.6769 Q338.342 82.6769 336.352 85.3621 Q334.361 88.0241 334.361 92.6769 Q334.361 97.3296 336.329 100.015 Q338.319 102.677 341.768 102.677 Q345.171 102.677 347.162 99.9917 Q349.153 97.3065 349.153 92.6769 Q349.153 88.0704 347.162 85.3853 Q345.171 82.6769 341.768 82.6769 M341.768 79.0659 Q347.324 79.0659 350.495 82.6769 Q353.666 86.288 353.666 92.6769 Q353.666 99.0426 350.495 102.677 Q347.324 106.288 341.768 106.288 Q336.19 106.288 333.018 102.677 Q329.87 99.0426 329.87 92.6769 Q329.87 86.288 333.018 82.6769 Q336.19 79.0659 341.768 79.0659 Z\" fill=\"#000000\" fill-rule=\"evenodd\" fill-opacity=\"1\" /><path clip-path=\"url(#clip490)\" d=\"M375.981 71.0566 L380.657 71.0566 L380.657 85.2232 L397.648 85.2232 L397.648 71.0566 L402.324 71.0566 L402.324 105.617 L397.648 105.617 L397.648 89.1584 L380.657 89.1584 L380.657 105.617 L375.981 105.617 L375.981 71.0566 Z\" fill=\"#000000\" fill-rule=\"evenodd\" fill-opacity=\"1\" /><path clip-path=\"url(#clip490)\" d=\"M416.305 74.8992 L416.305 101.774 L421.953 101.774 Q429.106 101.774 432.416 98.5333 Q435.749 95.2926 435.749 88.3019 Q435.749 81.3575 432.416 78.1399 Q429.106 74.8992 421.953 74.8992 L416.305 74.8992 M411.629 71.0566 L421.235 71.0566 Q431.282 71.0566 435.981 75.2464 Q440.68 79.4131 440.68 88.3019 Q440.68 97.237 435.958 101.427 Q431.235 105.617 421.235 105.617 L411.629 105.617 L411.629 71.0566 Z\" fill=\"#000000\" fill-rule=\"evenodd\" fill-opacity=\"1\" /><path clip-path=\"url(#clip490)\" d=\"M448.133 71.0566 L455.101 71.0566 L463.92 94.575 L472.786 71.0566 L479.754 71.0566 L479.754 105.617 L475.194 105.617 L475.194 75.2696 L466.282 98.9732 L461.582 98.9732 L452.67 75.2696 L452.67 105.617 L448.133 105.617 L448.133 71.0566 Z\" fill=\"#000000\" fill-rule=\"evenodd\" fill-opacity=\"1\" /><polyline clip-path=\"url(#clip492)\" style=\"stroke:#000000; stroke-linecap:butt; stroke-linejoin:round; stroke-width:4; stroke-opacity:1; fill:none\" stroke-dasharray=\"16, 10\" points=\"\n",
       "  849.204,1458.09 3661.74,1458.09 \n",
       "  \"/>\n",
       "<polyline clip-path=\"url(#clip492)\" style=\"stroke:#000000; stroke-linecap:butt; stroke-linejoin:round; stroke-width:4; stroke-opacity:1; fill:none\" stroke-dasharray=\"16, 10\" points=\"\n",
       "  627.773,773.212 2016.97,773.212 \n",
       "  \"/>\n",
       "<line clip-path=\"url(#clip492)\" x1=\"849.204\" y1=\"1474.09\" x2=\"849.204\" y2=\"1442.09\" style=\"stroke:#000000; stroke-width:3.2; stroke-opacity:1\"/>\n",
       "<line clip-path=\"url(#clip492)\" x1=\"3661.74\" y1=\"1474.09\" x2=\"3661.74\" y2=\"1442.09\" style=\"stroke:#000000; stroke-width:3.2; stroke-opacity:1\"/>\n",
       "<line clip-path=\"url(#clip492)\" x1=\"627.773\" y1=\"789.212\" x2=\"627.773\" y2=\"757.212\" style=\"stroke:#000000; stroke-width:3.2; stroke-opacity:1\"/>\n",
       "<line clip-path=\"url(#clip492)\" x1=\"2016.97\" y1=\"789.212\" x2=\"2016.97\" y2=\"757.212\" style=\"stroke:#000000; stroke-width:3.2; stroke-opacity:1\"/>\n",
       "<circle clip-path=\"url(#clip492)\" cx=\"2255.47\" cy=\"1458.09\" r=\"14\" fill=\"#ffa500\" fill-rule=\"evenodd\" fill-opacity=\"1\" stroke=\"#000000\" stroke-opacity=\"1\" stroke-width=\"3.2\"/>\n",
       "<circle clip-path=\"url(#clip492)\" cx=\"1322.37\" cy=\"773.212\" r=\"14\" fill=\"#ffa500\" fill-rule=\"evenodd\" fill-opacity=\"1\" stroke=\"#000000\" stroke-opacity=\"1\" stroke-width=\"3.2\"/>\n",
       "<polyline clip-path=\"url(#clip492)\" style=\"stroke:#009af9; stroke-linecap:butt; stroke-linejoin:round; stroke-width:4; stroke-opacity:1; fill:none\" stroke-dasharray=\"16, 10\" points=\"\n",
       "  2470.88,2951.12 2470.88,-1404.69 \n",
       "  \"/>\n",
       "<path clip-path=\"url(#clip490)\" d=\"\n",
       "M3064.15 251.162 L3645.56 251.162 L3645.56 95.642 L3064.15 95.642  Z\n",
       "  \" fill=\"#ffffff\" fill-rule=\"evenodd\" fill-opacity=\"1\"/>\n",
       "<polyline clip-path=\"url(#clip490)\" style=\"stroke:#000000; stroke-linecap:butt; stroke-linejoin:round; stroke-width:4; stroke-opacity:1; fill:none\" points=\"\n",
       "  3064.15,251.162 3645.56,251.162 3645.56,95.642 3064.15,95.642 3064.15,251.162 \n",
       "  \"/>\n",
       "<circle clip-path=\"url(#clip490)\" cx=\"3207.08\" cy=\"147.482\" r=\"23\" fill=\"#ffa500\" fill-rule=\"evenodd\" fill-opacity=\"1\" stroke=\"#000000\" stroke-opacity=\"1\" stroke-width=\"5.12\"/>\n",
       "<path clip-path=\"url(#clip490)\" d=\"M3350.02 130.202 L3371.87 130.202 L3371.87 134.137 L3354.69 134.137 L3354.69 144.369 L3371.15 144.369 L3371.15 148.304 L3354.69 148.304 L3354.69 160.827 L3372.28 160.827 L3372.28 164.762 L3350.02 164.762 L3350.02 130.202 Z\" fill=\"#000000\" fill-rule=\"evenodd\" fill-opacity=\"1\" /><path clip-path=\"url(#clip490)\" d=\"M3396.31 139.6 L3396.31 143.628 Q3394.51 142.702 3392.56 142.239 Q3390.62 141.776 3388.53 141.776 Q3385.36 141.776 3383.77 142.748 Q3382.19 143.72 3382.19 145.665 Q3382.19 147.146 3383.33 148.003 Q3384.46 148.836 3387.89 149.6 L3389.34 149.924 Q3393.88 150.896 3395.78 152.679 Q3397.7 154.438 3397.7 157.609 Q3397.7 161.22 3394.83 163.327 Q3391.98 165.433 3386.98 165.433 Q3384.9 165.433 3382.63 165.017 Q3380.39 164.623 3377.89 163.813 L3377.89 159.415 Q3380.25 160.642 3382.54 161.267 Q3384.83 161.868 3387.08 161.868 Q3390.09 161.868 3391.71 160.85 Q3393.33 159.808 3393.33 157.933 Q3393.33 156.197 3392.15 155.271 Q3390.99 154.345 3387.03 153.489 L3385.55 153.142 Q3381.59 152.308 3379.83 150.595 Q3378.07 148.859 3378.07 145.85 Q3378.07 142.193 3380.66 140.202 Q3383.26 138.211 3388.03 138.211 Q3390.39 138.211 3392.47 138.558 Q3394.55 138.906 3396.31 139.6 Z\" fill=\"#000000\" fill-rule=\"evenodd\" fill-opacity=\"1\" /><path clip-path=\"url(#clip490)\" d=\"M3408.7 131.475 L3408.7 138.836 L3417.47 138.836 L3417.47 142.146 L3408.7 142.146 L3408.7 156.22 Q3408.7 159.392 3409.55 160.294 Q3410.43 161.197 3413.09 161.197 L3417.47 161.197 L3417.47 164.762 L3413.09 164.762 Q3408.16 164.762 3406.29 162.933 Q3404.41 161.081 3404.41 156.22 L3404.41 142.146 L3401.29 142.146 L3401.29 138.836 L3404.41 138.836 L3404.41 131.475 L3408.7 131.475 Z\" fill=\"#000000\" fill-rule=\"evenodd\" fill-opacity=\"1\" /><path clip-path=\"url(#clip490)\" d=\"M3423.07 138.836 L3427.33 138.836 L3427.33 164.762 L3423.07 164.762 L3423.07 138.836 M3423.07 128.744 L3427.33 128.744 L3427.33 134.137 L3423.07 134.137 L3423.07 128.744 Z\" fill=\"#000000\" fill-rule=\"evenodd\" fill-opacity=\"1\" /><path clip-path=\"url(#clip490)\" d=\"M3456.43 143.813 Q3458.02 140.943 3460.25 139.577 Q3462.47 138.211 3465.48 138.211 Q3469.53 138.211 3471.73 141.058 Q3473.93 143.882 3473.93 149.114 L3473.93 164.762 L3469.65 164.762 L3469.65 149.253 Q3469.65 145.526 3468.33 143.72 Q3467.01 141.915 3464.3 141.915 Q3460.99 141.915 3459.07 144.114 Q3457.15 146.313 3457.15 150.109 L3457.15 164.762 L3452.86 164.762 L3452.86 149.253 Q3452.86 145.503 3451.54 143.72 Q3450.22 141.915 3447.47 141.915 Q3444.21 141.915 3442.28 144.137 Q3440.36 146.336 3440.36 150.109 L3440.36 164.762 L3436.08 164.762 L3436.08 138.836 L3440.36 138.836 L3440.36 142.864 Q3441.82 140.48 3443.86 139.345 Q3445.9 138.211 3448.7 138.211 Q3451.52 138.211 3453.49 139.646 Q3455.48 141.082 3456.43 143.813 Z\" fill=\"#000000\" fill-rule=\"evenodd\" fill-opacity=\"1\" /><path clip-path=\"url(#clip490)\" d=\"M3494.21 151.73 Q3489.04 151.73 3487.05 152.91 Q3485.06 154.091 3485.06 156.938 Q3485.06 159.206 3486.54 160.549 Q3488.05 161.868 3490.62 161.868 Q3494.16 161.868 3496.29 159.368 Q3498.44 156.845 3498.44 152.679 L3498.44 151.73 L3494.21 151.73 M3502.7 149.97 L3502.7 164.762 L3498.44 164.762 L3498.44 160.827 Q3496.98 163.188 3494.81 164.322 Q3492.63 165.433 3489.48 165.433 Q3485.5 165.433 3483.14 163.211 Q3480.8 160.966 3480.8 157.216 Q3480.8 152.841 3483.72 150.619 Q3486.66 148.396 3492.47 148.396 L3498.44 148.396 L3498.44 147.98 Q3498.44 145.04 3496.5 143.443 Q3494.58 141.822 3491.08 141.822 Q3488.86 141.822 3486.75 142.355 Q3484.65 142.887 3482.7 143.952 L3482.7 140.017 Q3485.04 139.114 3487.24 138.674 Q3489.44 138.211 3491.52 138.211 Q3497.15 138.211 3499.92 141.128 Q3502.7 144.044 3502.7 149.97 Z\" fill=\"#000000\" fill-rule=\"evenodd\" fill-opacity=\"1\" /><path clip-path=\"url(#clip490)\" d=\"M3515.69 131.475 L3515.69 138.836 L3524.46 138.836 L3524.46 142.146 L3515.69 142.146 L3515.69 156.22 Q3515.69 159.392 3516.54 160.294 Q3517.42 161.197 3520.08 161.197 L3524.46 161.197 L3524.46 164.762 L3520.08 164.762 Q3515.15 164.762 3513.28 162.933 Q3511.4 161.081 3511.4 156.22 L3511.4 142.146 L3508.28 142.146 L3508.28 138.836 L3511.4 138.836 L3511.4 131.475 L3515.69 131.475 Z\" fill=\"#000000\" fill-rule=\"evenodd\" fill-opacity=\"1\" /><path clip-path=\"url(#clip490)\" d=\"M3540.11 141.822 Q3536.68 141.822 3534.69 144.507 Q3532.7 147.169 3532.7 151.822 Q3532.7 156.475 3534.67 159.16 Q3536.66 161.822 3540.11 161.822 Q3543.51 161.822 3545.5 159.137 Q3547.49 156.452 3547.49 151.822 Q3547.49 147.216 3545.5 144.531 Q3543.51 141.822 3540.11 141.822 M3540.11 138.211 Q3545.66 138.211 3548.83 141.822 Q3552.01 145.433 3552.01 151.822 Q3552.01 158.188 3548.83 161.822 Q3545.66 165.433 3540.11 165.433 Q3534.53 165.433 3531.36 161.822 Q3528.21 158.188 3528.21 151.822 Q3528.21 145.433 3531.36 141.822 Q3534.53 138.211 3540.11 138.211 Z\" fill=\"#000000\" fill-rule=\"evenodd\" fill-opacity=\"1\" /><path clip-path=\"url(#clip490)\" d=\"M3574.09 142.818 Q3573.37 142.401 3572.52 142.216 Q3571.68 142.007 3570.66 142.007 Q3567.05 142.007 3565.11 144.369 Q3563.19 146.707 3563.19 151.105 L3563.19 164.762 L3558.9 164.762 L3558.9 138.836 L3563.19 138.836 L3563.19 142.864 Q3564.53 140.503 3566.68 139.369 Q3568.83 138.211 3571.91 138.211 Q3572.35 138.211 3572.89 138.281 Q3573.42 138.327 3574.07 138.443 L3574.09 142.818 Z\" fill=\"#000000\" fill-rule=\"evenodd\" fill-opacity=\"1\" /><polyline clip-path=\"url(#clip490)\" style=\"stroke:#009af9; stroke-linecap:butt; stroke-linejoin:round; stroke-width:4; stroke-opacity:1; fill:none\" stroke-dasharray=\"16, 10\" points=\"\n",
       "  3099.88,199.322 3314.28,199.322 \n",
       "  \"/>\n",
       "</svg>\n"
      ]
     },
     "execution_count": 40,
     "metadata": {},
     "output_type": "execute_result"
    }
   ],
   "source": [
    "xerror = table_3_pandas[!,2] .- table_3_pandas[!,4]\n",
    "scatter(table_3_pandas[!,2], [\"OLS\", \"Double Lasso\", \"Double Lasso HDM\"], label = \"Estimator\", xerrors = xerror, \n",
    "        xtick = -1:0.008:1, linestyle = :dash, seriescolor=:orange)\n",
    "plot!(size=(950,400))\n",
    "plot!([0], seriestype=\"vline\", linestyle = :dash, color = 1, label = \" \")"
   ]
  },
  {
   "cell_type": "code",
   "execution_count": null,
   "id": "a05328e9",
   "metadata": {},
   "outputs": [],
   "source": []
  }
 ],
 "metadata": {
  "kernelspec": {
   "display_name": "Julia 1.7.2",
   "language": "julia",
   "name": "julia-1.7"
  },
  "language_info": {
   "file_extension": ".jl",
   "mimetype": "application/julia",
   "name": "julia",
   "version": "1.7.2"
  }
 },
 "nbformat": 4,
 "nbformat_minor": 5
}
