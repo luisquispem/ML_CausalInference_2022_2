{
 "cells": [
  {
   "cell_type": "markdown",
   "id": "1a7623e1",
   "metadata": {},
   "source": [
    "# Double Lasso - heterogenous wage effects\n",
    "- Luis\n",
    "- Álvaro\n",
    "- Diego"
   ]
  },
  {
   "cell_type": "code",
   "execution_count": 2,
   "id": "23ce0c60",
   "metadata": {},
   "outputs": [],
   "source": [
    "using RData, LinearAlgebra, GLM, DataFrames, Statistics, Random, Distributions, \n",
    "DataStructures, NamedArrays, PrettyTables, StatsModels, Combinatorics\n",
    "\n",
    "import CodecBzip2"
   ]
  },
  {
   "cell_type": "code",
   "execution_count": null,
   "id": "ccb3e7b6",
   "metadata": {},
   "outputs": [],
   "source": [
    "using Pkg\n",
    "Pkg.add(\"Lasso\")\n",
    "using Lasso"
   ]
  },
  {
   "cell_type": "code",
   "execution_count": 4,
   "id": "3004c65b",
   "metadata": {},
   "outputs": [
    {
     "data": {
      "text/plain": [
       "Dict{String, Any} with 1 entry:\n",
       "  \"data\" => \u001b[1m29217×23 DataFrame\u001b[0m…"
      ]
     },
     "execution_count": 4,
     "metadata": {},
     "output_type": "execute_result"
    }
   ],
   "source": [
    "# Importing .Rdata file\n",
    "\n",
    "cps2012 = load(\"../../data/cps2012.RData\")"
   ]
  },
  {
   "cell_type": "code",
   "execution_count": 6,
   "id": "1f1e4822",
   "metadata": {},
   "outputs": [
    {
     "data": {
      "text/plain": [
       "23-element Vector{String}:\n",
       " \"year\"\n",
       " \"lnw\"\n",
       " \"female\"\n",
       " \"widowed\"\n",
       " \"divorced\"\n",
       " \"separated\"\n",
       " \"nevermarried\"\n",
       " \"hsd08\"\n",
       " \"hsd911\"\n",
       " \"hsg\"\n",
       " \"cg\"\n",
       " \"ad\"\n",
       " \"mw\"\n",
       " \"so\"\n",
       " \"we\"\n",
       " \"exp1\"\n",
       " \"exp2\"\n",
       " \"exp3\"\n",
       " \"exp4\"\n",
       " \"weight\"\n",
       " \"married\"\n",
       " \"ne\"\n",
       " \"sc\""
      ]
     },
     "execution_count": 6,
     "metadata": {},
     "output_type": "execute_result"
    }
   ],
   "source": [
    "cps2012 = cps2012[\"data\"]\n",
    "\n",
    "names(cps2012)\n",
    "#get names of each variable"
   ]
  },
  {
   "cell_type": "code",
   "execution_count": 7,
   "id": "adba15d3",
   "metadata": {},
   "outputs": [],
   "source": [
    "# couples variables combinations \n",
    "    combinations_upto(x, n) = Iterators.flatten(combinations(x, i) for i in 1:n)\n",
    "\n",
    "    # combinations without same couple\n",
    "    expand_exp(args, deg::ConstantTerm) =\n",
    "        tuple(((&)(terms...) for terms in combinations_upto(args, deg.n))...)\n",
    "\n",
    "    StatsModels.apply_schema(t::FunctionTerm{typeof(^)}, sch::StatsModels.Schema, ctx::Type) =\n",
    "        apply_schema.(expand_exp(t.args_parsed...), Ref(sch), ctx)"
   ]
  },
  {
   "cell_type": "code",
   "execution_count": 8,
   "id": "1a9f67ef",
   "metadata": {
    "collapsed": true
   },
   "outputs": [
    {
     "data": {
      "text/plain": [
       "FormulaTerm\n",
       "Response:\n",
       "  lnw(continuous)\n",
       "Predictors:\n",
       "  0\n",
       "  female(continuous)\n",
       "  widowed(continuous)\n",
       "  divorced(continuous)\n",
       "  separated(continuous)\n",
       "  nevermarried(continuous)\n",
       "  hsd08(continuous)\n",
       "  hsd911(continuous)\n",
       "  hsg(continuous)\n",
       "  cg(continuous)\n",
       "  ad(continuous)\n",
       "  mw(continuous)\n",
       "  so(continuous)\n",
       "  we(continuous)\n",
       "  exp1(continuous)\n",
       "  exp2(continuous)\n",
       "  exp3(continuous)\n",
       "  widowed(continuous) & divorced(continuous)\n",
       "  widowed(continuous) & separated(continuous)\n",
       "  widowed(continuous) & nevermarried(continuous)\n",
       "  widowed(continuous) & hsd08(continuous)\n",
       "  widowed(continuous) & hsd911(continuous)\n",
       "  widowed(continuous) & hsg(continuous)\n",
       "  widowed(continuous) & cg(continuous)\n",
       "  widowed(continuous) & ad(continuous)\n",
       "  widowed(continuous) & mw(continuous)\n",
       "  widowed(continuous) & so(continuous)\n",
       "  widowed(continuous) & we(continuous)\n",
       "  widowed(continuous) & exp1(continuous)\n",
       "  widowed(continuous) & exp2(continuous)\n",
       "  widowed(continuous) & exp3(continuous)\n",
       "  divorced(continuous) & separated(continuous)\n",
       "  divorced(continuous) & nevermarried(continuous)\n",
       "  divorced(continuous) & hsd08(continuous)\n",
       "  divorced(continuous) & hsd911(continuous)\n",
       "  divorced(continuous) & hsg(continuous)\n",
       "  divorced(continuous) & cg(continuous)\n",
       "  divorced(continuous) & ad(continuous)\n",
       "  divorced(continuous) & mw(continuous)\n",
       "  divorced(continuous) & so(continuous)\n",
       "  divorced(continuous) & we(continuous)\n",
       "  divorced(continuous) & exp1(continuous)\n",
       "  divorced(continuous) & exp2(continuous)\n",
       "  divorced(continuous) & exp3(continuous)\n",
       "  separated(continuous) & nevermarried(continuous)\n",
       "  separated(continuous) & hsd08(continuous)\n",
       "  separated(continuous) & hsd911(continuous)\n",
       "  separated(continuous) & hsg(continuous)\n",
       "  separated(continuous) & cg(continuous)\n",
       "  separated(continuous) & ad(continuous)\n",
       "  separated(continuous) & mw(continuous)\n",
       "  separated(continuous) & so(continuous)\n",
       "  separated(continuous) & we(continuous)\n",
       "  separated(continuous) & exp1(continuous)\n",
       "  separated(continuous) & exp2(continuous)\n",
       "  separated(continuous) & exp3(continuous)\n",
       "  nevermarried(continuous) & hsd08(continuous)\n",
       "  nevermarried(continuous) & hsd911(continuous)\n",
       "  nevermarried(continuous) & hsg(continuous)\n",
       "  nevermarried(continuous) & cg(continuous)\n",
       "  nevermarried(continuous) & ad(continuous)\n",
       "  nevermarried(continuous) & mw(continuous)\n",
       "  nevermarried(continuous) & so(continuous)\n",
       "  nevermarried(continuous) & we(continuous)\n",
       "  nevermarried(continuous) & exp1(continuous)\n",
       "  nevermarried(continuous) & exp2(continuous)\n",
       "  nevermarried(continuous) & exp3(continuous)\n",
       "  hsd08(continuous) & hsd911(continuous)\n",
       "  hsd08(continuous) & hsg(continuous)\n",
       "  hsd08(continuous) & cg(continuous)\n",
       "  hsd08(continuous) & ad(continuous)\n",
       "  hsd08(continuous) & mw(continuous)\n",
       "  hsd08(continuous) & so(continuous)\n",
       "  hsd08(continuous) & we(continuous)\n",
       "  hsd08(continuous) & exp1(continuous)\n",
       "  hsd08(continuous) & exp2(continuous)\n",
       "  hsd08(continuous) & exp3(continuous)\n",
       "  hsd911(continuous) & hsg(continuous)\n",
       "  hsd911(continuous) & cg(continuous)\n",
       "  hsd911(continuous) & ad(continuous)\n",
       "  hsd911(continuous) & mw(continuous)\n",
       "  hsd911(continuous) & so(continuous)\n",
       "  hsd911(continuous) & we(continuous)\n",
       "  hsd911(continuous) & exp1(continuous)\n",
       "  hsd911(continuous) & exp2(continuous)\n",
       "  hsd911(continuous) & exp3(continuous)\n",
       "  hsg(continuous) & cg(continuous)\n",
       "  hsg(continuous) & ad(continuous)\n",
       "  hsg(continuous) & mw(continuous)\n",
       "  hsg(continuous) & so(continuous)\n",
       "  hsg(continuous) & we(continuous)\n",
       "  hsg(continuous) & exp1(continuous)\n",
       "  hsg(continuous) & exp2(continuous)\n",
       "  hsg(continuous) & exp3(continuous)\n",
       "  cg(continuous) & ad(continuous)\n",
       "  cg(continuous) & mw(continuous)\n",
       "  cg(continuous) & so(continuous)\n",
       "  cg(continuous) & we(continuous)\n",
       "  cg(continuous) & exp1(continuous)\n",
       "  cg(continuous) & exp2(continuous)\n",
       "  cg(continuous) & exp3(continuous)\n",
       "  ad(continuous) & mw(continuous)\n",
       "  ad(continuous) & so(continuous)\n",
       "  ad(continuous) & we(continuous)\n",
       "  ad(continuous) & exp1(continuous)\n",
       "  ad(continuous) & exp2(continuous)\n",
       "  ad(continuous) & exp3(continuous)\n",
       "  mw(continuous) & so(continuous)\n",
       "  mw(continuous) & we(continuous)\n",
       "  mw(continuous) & exp1(continuous)\n",
       "  mw(continuous) & exp2(continuous)\n",
       "  mw(continuous) & exp3(continuous)\n",
       "  so(continuous) & we(continuous)\n",
       "  so(continuous) & exp1(continuous)\n",
       "  so(continuous) & exp2(continuous)\n",
       "  so(continuous) & exp3(continuous)\n",
       "  we(continuous) & exp1(continuous)\n",
       "  we(continuous) & exp2(continuous)\n",
       "  we(continuous) & exp3(continuous)\n",
       "  exp1(continuous) & exp2(continuous)\n",
       "  exp1(continuous) & exp3(continuous)\n",
       "  exp2(continuous) & exp3(continuous)\n",
       "  female(continuous) & widowed(continuous)\n",
       "  female(continuous) & divorced(continuous)\n",
       "  female(continuous) & separated(continuous)\n",
       "  female(continuous) & nevermarried(continuous)\n",
       "  female(continuous) & hsd08(continuous)\n",
       "  female(continuous) & hsd911(continuous)\n",
       "  female(continuous) & hsg(continuous)\n",
       "  female(continuous) & cg(continuous)\n",
       "  female(continuous) & ad(continuous)\n",
       "  female(continuous) & mw(continuous)\n",
       "  female(continuous) & so(continuous)\n",
       "  female(continuous) & we(continuous)\n",
       "  female(continuous) & exp1(continuous)\n",
       "  female(continuous) & exp2(continuous)\n",
       "  female(continuous) & exp3(continuous)"
      ]
     },
     "execution_count": 8,
     "metadata": {},
     "output_type": "execute_result"
    }
   ],
   "source": [
    "# Basic model \n",
    "\n",
    "\n",
    "reg = @formula(lnw ~ -1 + female + female&(widowed + divorced + separated + nevermarried +\n",
    "hsd08 + hsd911 + hsg + cg + ad + mw + so + we + exp1 + exp2 + exp3) + (widowed +\n",
    "divorced + separated + nevermarried + hsd08 + hsd911 + hsg + cg + ad + mw + so +\n",
    "we + exp1 + exp2 + exp3)^2 )\n",
    "\n",
    "\n",
    "formula_basic = apply_schema(reg, schema(reg, cps2012))"
   ]
  },
  {
   "cell_type": "code",
   "execution_count": 9,
   "id": "fbbfd5cf",
   "metadata": {},
   "outputs": [
    {
     "data": {
      "text/plain": [
       "(\"lnw\", Any[\"female\", \"widowed\", \"divorced\", \"separated\", \"nevermarried\", \"hsd08\", \"hsd911\", \"hsg\", \"cg\", \"ad\"  …  \"female & hsd911\", \"female & hsg\", \"female & cg\", \"female & ad\", \"female & mw\", \"female & so\", \"female & we\", \"female & exp1\", \"female & exp2\", \"female & exp3\"])"
      ]
     },
     "execution_count": 9,
     "metadata": {},
     "output_type": "execute_result"
    }
   ],
   "source": [
    "coefnames(formula_basic)\n",
    "#Y , and regressors"
   ]
  },
  {
   "cell_type": "code",
   "execution_count": 10,
   "id": "3ab9d707",
   "metadata": {},
   "outputs": [
    {
     "data": {
      "text/plain": [
       "136-element Vector{Symbol}:\n",
       " :female\n",
       " :widowed\n",
       " :divorced\n",
       " :separated\n",
       " :nevermarried\n",
       " :hsd08\n",
       " :hsd911\n",
       " :hsg\n",
       " :cg\n",
       " :ad\n",
       " :mw\n",
       " :so\n",
       " :we\n",
       " ⋮\n",
       " Symbol(\"female & nevermarried\")\n",
       " Symbol(\"female & hsd08\")\n",
       " Symbol(\"female & hsd911\")\n",
       " Symbol(\"female & hsg\")\n",
       " Symbol(\"female & cg\")\n",
       " Symbol(\"female & ad\")\n",
       " Symbol(\"female & mw\")\n",
       " Symbol(\"female & so\")\n",
       " Symbol(\"female & we\")\n",
       " Symbol(\"female & exp1\")\n",
       " Symbol(\"female & exp2\")\n",
       " Symbol(\"female & exp3\")"
      ]
     },
     "execution_count": 10,
     "metadata": {},
     "output_type": "execute_result"
    }
   ],
   "source": [
    "Y = select(cps2012,:lnw)  # uptcome variable\n",
    "control = coefnames(formula_basic)[2]  # regresors \n",
    "names_col = Symbol.(control)  # string to Symbol to create varaible's name"
   ]
  },
  {
   "cell_type": "code",
   "execution_count": 11,
   "id": "b31b71fc",
   "metadata": {
    "collapsed": true
   },
   "outputs": [
    {
     "data": {
      "text/plain": [
       "29217×136 Matrix{Float64}:\n",
       " 1.0  0.0  0.0  0.0  0.0  0.0  0.0  0.0  …  0.0  0.0  22.0  4.84    10.648\n",
       " 1.0  0.0  0.0  0.0  0.0  0.0  1.0  0.0     0.0  0.0  30.0  9.0     27.0\n",
       " 0.0  0.0  0.0  0.0  0.0  0.0  0.0  1.0     0.0  0.0   0.0  0.0      0.0\n",
       " 1.0  0.0  0.0  0.0  0.0  0.0  0.0  1.0     0.0  0.0  14.0  1.96     2.744\n",
       " 0.0  0.0  0.0  0.0  0.0  0.0  0.0  0.0     0.0  0.0   0.0  0.0      0.0\n",
       " 0.0  0.0  0.0  0.0  0.0  0.0  0.0  1.0  …  0.0  0.0   0.0  0.0      0.0\n",
       " 0.0  0.0  0.0  0.0  1.0  0.0  0.0  1.0     0.0  0.0   0.0  0.0      0.0\n",
       " 0.0  0.0  0.0  0.0  0.0  0.0  0.0  0.0     0.0  0.0   0.0  0.0      0.0\n",
       " 0.0  0.0  0.0  0.0  0.0  0.0  0.0  0.0     0.0  0.0   0.0  0.0      0.0\n",
       " 1.0  0.0  0.0  0.0  0.0  0.0  0.0  0.0     0.0  0.0  15.5  2.4025   3.72388\n",
       " 0.0  0.0  0.0  0.0  0.0  0.0  0.0  1.0  …  0.0  0.0   0.0  0.0      0.0\n",
       " 1.0  0.0  0.0  0.0  0.0  0.0  0.0  0.0     0.0  0.0   7.0  0.49     0.343\n",
       " 0.0  0.0  0.0  0.0  0.0  0.0  0.0  0.0     0.0  0.0   0.0  0.0      0.0\n",
       " ⋮                        ⋮              ⋱                           ⋮\n",
       " 1.0  0.0  0.0  0.0  0.0  0.0  0.0  0.0  …  0.0  1.0  15.0  2.25     3.375\n",
       " 0.0  0.0  0.0  0.0  1.0  0.0  0.0  1.0     0.0  0.0   0.0  0.0      0.0\n",
       " 1.0  0.0  0.0  0.0  1.0  0.0  0.0  0.0     0.0  1.0  18.0  3.24     5.832\n",
       " 1.0  0.0  0.0  0.0  1.0  0.0  0.0  0.0     0.0  1.0   5.0  0.25     0.125\n",
       " 0.0  0.0  0.0  0.0  0.0  0.0  0.0  1.0     0.0  0.0   0.0  0.0      0.0\n",
       " 0.0  0.0  0.0  0.0  0.0  0.0  0.0  0.0  …  0.0  0.0   0.0  0.0      0.0\n",
       " 1.0  0.0  0.0  0.0  0.0  0.0  0.0  1.0     0.0  1.0  16.0  2.56     4.096\n",
       " 0.0  0.0  0.0  0.0  1.0  0.0  0.0  0.0     0.0  0.0   0.0  0.0      0.0\n",
       " 1.0  0.0  0.0  0.0  1.0  0.0  0.0  0.0     0.0  1.0  16.0  2.56     4.096\n",
       " 1.0  0.0  0.0  0.0  0.0  0.0  0.0  0.0     0.0  1.0  21.0  4.41     9.261\n",
       " 0.0  0.0  0.0  0.0  0.0  0.0  0.0  0.0  …  0.0  0.0   0.0  0.0      0.0\n",
       " 1.0  0.0  0.0  0.0  0.0  0.0  0.0  0.0     0.0  1.0   2.0  0.04     0.008"
      ]
     },
     "execution_count": 11,
     "metadata": {},
     "output_type": "execute_result"
    }
   ],
   "source": [
    "X = StatsModels.modelmatrix(formula_basic,cps2012) #interaaction"
   ]
  },
  {
   "cell_type": "code",
   "execution_count": 12,
   "id": "8ee363cd",
   "metadata": {},
   "outputs": [
    {
     "data": {
      "text/html": [
       "<div class=\"data-frame\"><p>29,217 rows × 136 columns (omitted printing of 128 columns)</p><table class=\"data-frame\"><thead><tr><th></th><th>female</th><th>widowed</th><th>divorced</th><th>separated</th><th>nevermarried</th><th>hsd08</th><th>hsd911</th><th>hsg</th></tr><tr><th></th><th title=\"Float64\">Float64</th><th title=\"Float64\">Float64</th><th title=\"Float64\">Float64</th><th title=\"Float64\">Float64</th><th title=\"Float64\">Float64</th><th title=\"Float64\">Float64</th><th title=\"Float64\">Float64</th><th title=\"Float64\">Float64</th></tr></thead><tbody><tr><th>1</th><td>1.0</td><td>0.0</td><td>0.0</td><td>0.0</td><td>0.0</td><td>0.0</td><td>0.0</td><td>0.0</td></tr><tr><th>2</th><td>1.0</td><td>0.0</td><td>0.0</td><td>0.0</td><td>0.0</td><td>0.0</td><td>1.0</td><td>0.0</td></tr><tr><th>3</th><td>0.0</td><td>0.0</td><td>0.0</td><td>0.0</td><td>0.0</td><td>0.0</td><td>0.0</td><td>1.0</td></tr><tr><th>4</th><td>1.0</td><td>0.0</td><td>0.0</td><td>0.0</td><td>0.0</td><td>0.0</td><td>0.0</td><td>1.0</td></tr><tr><th>5</th><td>0.0</td><td>0.0</td><td>0.0</td><td>0.0</td><td>0.0</td><td>0.0</td><td>0.0</td><td>0.0</td></tr><tr><th>6</th><td>0.0</td><td>0.0</td><td>0.0</td><td>0.0</td><td>0.0</td><td>0.0</td><td>0.0</td><td>1.0</td></tr><tr><th>7</th><td>0.0</td><td>0.0</td><td>0.0</td><td>0.0</td><td>1.0</td><td>0.0</td><td>0.0</td><td>1.0</td></tr><tr><th>8</th><td>0.0</td><td>0.0</td><td>0.0</td><td>0.0</td><td>0.0</td><td>0.0</td><td>0.0</td><td>0.0</td></tr><tr><th>9</th><td>0.0</td><td>0.0</td><td>0.0</td><td>0.0</td><td>0.0</td><td>0.0</td><td>0.0</td><td>0.0</td></tr><tr><th>10</th><td>1.0</td><td>0.0</td><td>0.0</td><td>0.0</td><td>0.0</td><td>0.0</td><td>0.0</td><td>0.0</td></tr><tr><th>11</th><td>0.0</td><td>0.0</td><td>0.0</td><td>0.0</td><td>0.0</td><td>0.0</td><td>0.0</td><td>1.0</td></tr><tr><th>12</th><td>1.0</td><td>0.0</td><td>0.0</td><td>0.0</td><td>0.0</td><td>0.0</td><td>0.0</td><td>0.0</td></tr><tr><th>13</th><td>0.0</td><td>0.0</td><td>0.0</td><td>0.0</td><td>0.0</td><td>0.0</td><td>0.0</td><td>0.0</td></tr><tr><th>14</th><td>0.0</td><td>0.0</td><td>0.0</td><td>0.0</td><td>1.0</td><td>0.0</td><td>0.0</td><td>0.0</td></tr><tr><th>15</th><td>1.0</td><td>0.0</td><td>1.0</td><td>0.0</td><td>0.0</td><td>0.0</td><td>0.0</td><td>0.0</td></tr><tr><th>16</th><td>0.0</td><td>0.0</td><td>0.0</td><td>0.0</td><td>1.0</td><td>0.0</td><td>0.0</td><td>0.0</td></tr><tr><th>17</th><td>0.0</td><td>0.0</td><td>0.0</td><td>0.0</td><td>0.0</td><td>0.0</td><td>0.0</td><td>0.0</td></tr><tr><th>18</th><td>0.0</td><td>0.0</td><td>0.0</td><td>0.0</td><td>1.0</td><td>0.0</td><td>0.0</td><td>0.0</td></tr><tr><th>19</th><td>0.0</td><td>0.0</td><td>0.0</td><td>0.0</td><td>0.0</td><td>0.0</td><td>0.0</td><td>0.0</td></tr><tr><th>20</th><td>1.0</td><td>0.0</td><td>0.0</td><td>0.0</td><td>1.0</td><td>0.0</td><td>0.0</td><td>0.0</td></tr><tr><th>21</th><td>0.0</td><td>0.0</td><td>0.0</td><td>0.0</td><td>0.0</td><td>0.0</td><td>0.0</td><td>1.0</td></tr><tr><th>22</th><td>1.0</td><td>0.0</td><td>0.0</td><td>0.0</td><td>0.0</td><td>0.0</td><td>0.0</td><td>0.0</td></tr><tr><th>23</th><td>0.0</td><td>0.0</td><td>0.0</td><td>0.0</td><td>0.0</td><td>0.0</td><td>0.0</td><td>0.0</td></tr><tr><th>24</th><td>0.0</td><td>0.0</td><td>0.0</td><td>0.0</td><td>1.0</td><td>0.0</td><td>0.0</td><td>0.0</td></tr><tr><th>25</th><td>1.0</td><td>0.0</td><td>0.0</td><td>0.0</td><td>1.0</td><td>0.0</td><td>0.0</td><td>0.0</td></tr><tr><th>26</th><td>0.0</td><td>0.0</td><td>0.0</td><td>0.0</td><td>0.0</td><td>0.0</td><td>0.0</td><td>0.0</td></tr><tr><th>27</th><td>0.0</td><td>0.0</td><td>0.0</td><td>0.0</td><td>0.0</td><td>0.0</td><td>0.0</td><td>1.0</td></tr><tr><th>28</th><td>1.0</td><td>0.0</td><td>0.0</td><td>0.0</td><td>0.0</td><td>0.0</td><td>0.0</td><td>0.0</td></tr><tr><th>29</th><td>1.0</td><td>0.0</td><td>0.0</td><td>0.0</td><td>0.0</td><td>0.0</td><td>0.0</td><td>0.0</td></tr><tr><th>30</th><td>0.0</td><td>0.0</td><td>0.0</td><td>0.0</td><td>0.0</td><td>0.0</td><td>0.0</td><td>0.0</td></tr><tr><th>&vellip;</th><td>&vellip;</td><td>&vellip;</td><td>&vellip;</td><td>&vellip;</td><td>&vellip;</td><td>&vellip;</td><td>&vellip;</td><td>&vellip;</td></tr></tbody></table></div>"
      ],
      "text/latex": [
       "\\begin{tabular}{r|ccccccccc}\n",
       "\t& female & widowed & divorced & separated & nevermarried & hsd08 & hsd911 & hsg & \\\\\n",
       "\t\\hline\n",
       "\t& Float64 & Float64 & Float64 & Float64 & Float64 & Float64 & Float64 & Float64 & \\\\\n",
       "\t\\hline\n",
       "\t1 & 1.0 & 0.0 & 0.0 & 0.0 & 0.0 & 0.0 & 0.0 & 0.0 & $\\dots$ \\\\\n",
       "\t2 & 1.0 & 0.0 & 0.0 & 0.0 & 0.0 & 0.0 & 1.0 & 0.0 & $\\dots$ \\\\\n",
       "\t3 & 0.0 & 0.0 & 0.0 & 0.0 & 0.0 & 0.0 & 0.0 & 1.0 & $\\dots$ \\\\\n",
       "\t4 & 1.0 & 0.0 & 0.0 & 0.0 & 0.0 & 0.0 & 0.0 & 1.0 & $\\dots$ \\\\\n",
       "\t5 & 0.0 & 0.0 & 0.0 & 0.0 & 0.0 & 0.0 & 0.0 & 0.0 & $\\dots$ \\\\\n",
       "\t6 & 0.0 & 0.0 & 0.0 & 0.0 & 0.0 & 0.0 & 0.0 & 1.0 & $\\dots$ \\\\\n",
       "\t7 & 0.0 & 0.0 & 0.0 & 0.0 & 1.0 & 0.0 & 0.0 & 1.0 & $\\dots$ \\\\\n",
       "\t8 & 0.0 & 0.0 & 0.0 & 0.0 & 0.0 & 0.0 & 0.0 & 0.0 & $\\dots$ \\\\\n",
       "\t9 & 0.0 & 0.0 & 0.0 & 0.0 & 0.0 & 0.0 & 0.0 & 0.0 & $\\dots$ \\\\\n",
       "\t10 & 1.0 & 0.0 & 0.0 & 0.0 & 0.0 & 0.0 & 0.0 & 0.0 & $\\dots$ \\\\\n",
       "\t11 & 0.0 & 0.0 & 0.0 & 0.0 & 0.0 & 0.0 & 0.0 & 1.0 & $\\dots$ \\\\\n",
       "\t12 & 1.0 & 0.0 & 0.0 & 0.0 & 0.0 & 0.0 & 0.0 & 0.0 & $\\dots$ \\\\\n",
       "\t13 & 0.0 & 0.0 & 0.0 & 0.0 & 0.0 & 0.0 & 0.0 & 0.0 & $\\dots$ \\\\\n",
       "\t14 & 0.0 & 0.0 & 0.0 & 0.0 & 1.0 & 0.0 & 0.0 & 0.0 & $\\dots$ \\\\\n",
       "\t15 & 1.0 & 0.0 & 1.0 & 0.0 & 0.0 & 0.0 & 0.0 & 0.0 & $\\dots$ \\\\\n",
       "\t16 & 0.0 & 0.0 & 0.0 & 0.0 & 1.0 & 0.0 & 0.0 & 0.0 & $\\dots$ \\\\\n",
       "\t17 & 0.0 & 0.0 & 0.0 & 0.0 & 0.0 & 0.0 & 0.0 & 0.0 & $\\dots$ \\\\\n",
       "\t18 & 0.0 & 0.0 & 0.0 & 0.0 & 1.0 & 0.0 & 0.0 & 0.0 & $\\dots$ \\\\\n",
       "\t19 & 0.0 & 0.0 & 0.0 & 0.0 & 0.0 & 0.0 & 0.0 & 0.0 & $\\dots$ \\\\\n",
       "\t20 & 1.0 & 0.0 & 0.0 & 0.0 & 1.0 & 0.0 & 0.0 & 0.0 & $\\dots$ \\\\\n",
       "\t21 & 0.0 & 0.0 & 0.0 & 0.0 & 0.0 & 0.0 & 0.0 & 1.0 & $\\dots$ \\\\\n",
       "\t22 & 1.0 & 0.0 & 0.0 & 0.0 & 0.0 & 0.0 & 0.0 & 0.0 & $\\dots$ \\\\\n",
       "\t23 & 0.0 & 0.0 & 0.0 & 0.0 & 0.0 & 0.0 & 0.0 & 0.0 & $\\dots$ \\\\\n",
       "\t24 & 0.0 & 0.0 & 0.0 & 0.0 & 1.0 & 0.0 & 0.0 & 0.0 & $\\dots$ \\\\\n",
       "\t25 & 1.0 & 0.0 & 0.0 & 0.0 & 1.0 & 0.0 & 0.0 & 0.0 & $\\dots$ \\\\\n",
       "\t26 & 0.0 & 0.0 & 0.0 & 0.0 & 0.0 & 0.0 & 0.0 & 0.0 & $\\dots$ \\\\\n",
       "\t27 & 0.0 & 0.0 & 0.0 & 0.0 & 0.0 & 0.0 & 0.0 & 1.0 & $\\dots$ \\\\\n",
       "\t28 & 1.0 & 0.0 & 0.0 & 0.0 & 0.0 & 0.0 & 0.0 & 0.0 & $\\dots$ \\\\\n",
       "\t29 & 1.0 & 0.0 & 0.0 & 0.0 & 0.0 & 0.0 & 0.0 & 0.0 & $\\dots$ \\\\\n",
       "\t30 & 0.0 & 0.0 & 0.0 & 0.0 & 0.0 & 0.0 & 0.0 & 0.0 & $\\dots$ \\\\\n",
       "\t$\\dots$ & $\\dots$ & $\\dots$ & $\\dots$ & $\\dots$ & $\\dots$ & $\\dots$ & $\\dots$ & $\\dots$ &  \\\\\n",
       "\\end{tabular}\n"
      ],
      "text/plain": [
       "\u001b[1m29217×136 DataFrame\u001b[0m\n",
       "\u001b[1m   Row \u001b[0m│\u001b[1m female  \u001b[0m\u001b[1m widowed \u001b[0m\u001b[1m divorced \u001b[0m\u001b[1m separated \u001b[0m\u001b[1m nevermarried \u001b[0m\u001b[1m hsd08   \u001b[0m\u001b[1m hsd911 \u001b[0m ⋯\n",
       "\u001b[1m       \u001b[0m│\u001b[90m Float64 \u001b[0m\u001b[90m Float64 \u001b[0m\u001b[90m Float64  \u001b[0m\u001b[90m Float64   \u001b[0m\u001b[90m Float64      \u001b[0m\u001b[90m Float64 \u001b[0m\u001b[90m Float64\u001b[0m ⋯\n",
       "───────┼────────────────────────────────────────────────────────────────────────\n",
       "     1 │     1.0      0.0       0.0        0.0           0.0      0.0      0.0 ⋯\n",
       "     2 │     1.0      0.0       0.0        0.0           0.0      0.0      1.0\n",
       "     3 │     0.0      0.0       0.0        0.0           0.0      0.0      0.0\n",
       "     4 │     1.0      0.0       0.0        0.0           0.0      0.0      0.0\n",
       "     5 │     0.0      0.0       0.0        0.0           0.0      0.0      0.0 ⋯\n",
       "     6 │     0.0      0.0       0.0        0.0           0.0      0.0      0.0\n",
       "     7 │     0.0      0.0       0.0        0.0           1.0      0.0      0.0\n",
       "     8 │     0.0      0.0       0.0        0.0           0.0      0.0      0.0\n",
       "     9 │     0.0      0.0       0.0        0.0           0.0      0.0      0.0 ⋯\n",
       "    10 │     1.0      0.0       0.0        0.0           0.0      0.0      0.0\n",
       "    11 │     0.0      0.0       0.0        0.0           0.0      0.0      0.0\n",
       "   ⋮   │    ⋮        ⋮        ⋮          ⋮           ⋮           ⋮        ⋮    ⋱\n",
       " 29208 │     1.0      0.0       0.0        0.0           1.0      0.0      0.0\n",
       " 29209 │     1.0      0.0       0.0        0.0           1.0      0.0      0.0 ⋯\n",
       " 29210 │     0.0      0.0       0.0        0.0           0.0      0.0      0.0\n",
       " 29211 │     0.0      0.0       0.0        0.0           0.0      0.0      0.0\n",
       " 29212 │     1.0      0.0       0.0        0.0           0.0      0.0      0.0\n",
       " 29213 │     0.0      0.0       0.0        0.0           1.0      0.0      0.0 ⋯\n",
       " 29214 │     1.0      0.0       0.0        0.0           1.0      0.0      0.0\n",
       " 29215 │     1.0      0.0       0.0        0.0           0.0      0.0      0.0\n",
       " 29216 │     0.0      0.0       0.0        0.0           0.0      0.0      0.0\n",
       " 29217 │     1.0      0.0       0.0        0.0           0.0      0.0      0.0 ⋯\n",
       "\u001b[36m                                              129 columns and 29196 rows omitted\u001b[0m"
      ]
     },
     "execution_count": 12,
     "metadata": {},
     "output_type": "execute_result"
    }
   ],
   "source": [
    "X = DataFrame(X, names_col)"
   ]
  },
  {
   "cell_type": "code",
   "execution_count": 14,
   "id": "b6a3e1c6",
   "metadata": {},
   "outputs": [
    {
     "data": {
      "text/html": [
       "<div class=\"data-frame\"><p>29,217 rows × 116 columns (omitted printing of 108 columns)</p><table class=\"data-frame\"><thead><tr><th></th><th>female</th><th>widowed</th><th>divorced</th><th>separated</th><th>nevermarried</th><th>hsd08</th><th>hsd911</th><th>hsg</th></tr><tr><th></th><th title=\"Float64\">Float64</th><th title=\"Float64\">Float64</th><th title=\"Float64\">Float64</th><th title=\"Float64\">Float64</th><th title=\"Float64\">Float64</th><th title=\"Float64\">Float64</th><th title=\"Float64\">Float64</th><th title=\"Float64\">Float64</th></tr></thead><tbody><tr><th>1</th><td>1.0</td><td>0.0</td><td>0.0</td><td>0.0</td><td>0.0</td><td>0.0</td><td>0.0</td><td>0.0</td></tr><tr><th>2</th><td>1.0</td><td>0.0</td><td>0.0</td><td>0.0</td><td>0.0</td><td>0.0</td><td>1.0</td><td>0.0</td></tr><tr><th>3</th><td>0.0</td><td>0.0</td><td>0.0</td><td>0.0</td><td>0.0</td><td>0.0</td><td>0.0</td><td>1.0</td></tr><tr><th>4</th><td>1.0</td><td>0.0</td><td>0.0</td><td>0.0</td><td>0.0</td><td>0.0</td><td>0.0</td><td>1.0</td></tr><tr><th>5</th><td>0.0</td><td>0.0</td><td>0.0</td><td>0.0</td><td>0.0</td><td>0.0</td><td>0.0</td><td>0.0</td></tr><tr><th>6</th><td>0.0</td><td>0.0</td><td>0.0</td><td>0.0</td><td>0.0</td><td>0.0</td><td>0.0</td><td>1.0</td></tr><tr><th>7</th><td>0.0</td><td>0.0</td><td>0.0</td><td>0.0</td><td>1.0</td><td>0.0</td><td>0.0</td><td>1.0</td></tr><tr><th>8</th><td>0.0</td><td>0.0</td><td>0.0</td><td>0.0</td><td>0.0</td><td>0.0</td><td>0.0</td><td>0.0</td></tr><tr><th>9</th><td>0.0</td><td>0.0</td><td>0.0</td><td>0.0</td><td>0.0</td><td>0.0</td><td>0.0</td><td>0.0</td></tr><tr><th>10</th><td>1.0</td><td>0.0</td><td>0.0</td><td>0.0</td><td>0.0</td><td>0.0</td><td>0.0</td><td>0.0</td></tr><tr><th>11</th><td>0.0</td><td>0.0</td><td>0.0</td><td>0.0</td><td>0.0</td><td>0.0</td><td>0.0</td><td>1.0</td></tr><tr><th>12</th><td>1.0</td><td>0.0</td><td>0.0</td><td>0.0</td><td>0.0</td><td>0.0</td><td>0.0</td><td>0.0</td></tr><tr><th>13</th><td>0.0</td><td>0.0</td><td>0.0</td><td>0.0</td><td>0.0</td><td>0.0</td><td>0.0</td><td>0.0</td></tr><tr><th>14</th><td>0.0</td><td>0.0</td><td>0.0</td><td>0.0</td><td>1.0</td><td>0.0</td><td>0.0</td><td>0.0</td></tr><tr><th>15</th><td>1.0</td><td>0.0</td><td>1.0</td><td>0.0</td><td>0.0</td><td>0.0</td><td>0.0</td><td>0.0</td></tr><tr><th>16</th><td>0.0</td><td>0.0</td><td>0.0</td><td>0.0</td><td>1.0</td><td>0.0</td><td>0.0</td><td>0.0</td></tr><tr><th>17</th><td>0.0</td><td>0.0</td><td>0.0</td><td>0.0</td><td>0.0</td><td>0.0</td><td>0.0</td><td>0.0</td></tr><tr><th>18</th><td>0.0</td><td>0.0</td><td>0.0</td><td>0.0</td><td>1.0</td><td>0.0</td><td>0.0</td><td>0.0</td></tr><tr><th>19</th><td>0.0</td><td>0.0</td><td>0.0</td><td>0.0</td><td>0.0</td><td>0.0</td><td>0.0</td><td>0.0</td></tr><tr><th>20</th><td>1.0</td><td>0.0</td><td>0.0</td><td>0.0</td><td>1.0</td><td>0.0</td><td>0.0</td><td>0.0</td></tr><tr><th>21</th><td>0.0</td><td>0.0</td><td>0.0</td><td>0.0</td><td>0.0</td><td>0.0</td><td>0.0</td><td>1.0</td></tr><tr><th>22</th><td>1.0</td><td>0.0</td><td>0.0</td><td>0.0</td><td>0.0</td><td>0.0</td><td>0.0</td><td>0.0</td></tr><tr><th>23</th><td>0.0</td><td>0.0</td><td>0.0</td><td>0.0</td><td>0.0</td><td>0.0</td><td>0.0</td><td>0.0</td></tr><tr><th>24</th><td>0.0</td><td>0.0</td><td>0.0</td><td>0.0</td><td>1.0</td><td>0.0</td><td>0.0</td><td>0.0</td></tr><tr><th>25</th><td>1.0</td><td>0.0</td><td>0.0</td><td>0.0</td><td>1.0</td><td>0.0</td><td>0.0</td><td>0.0</td></tr><tr><th>26</th><td>0.0</td><td>0.0</td><td>0.0</td><td>0.0</td><td>0.0</td><td>0.0</td><td>0.0</td><td>0.0</td></tr><tr><th>27</th><td>0.0</td><td>0.0</td><td>0.0</td><td>0.0</td><td>0.0</td><td>0.0</td><td>0.0</td><td>1.0</td></tr><tr><th>28</th><td>1.0</td><td>0.0</td><td>0.0</td><td>0.0</td><td>0.0</td><td>0.0</td><td>0.0</td><td>0.0</td></tr><tr><th>29</th><td>1.0</td><td>0.0</td><td>0.0</td><td>0.0</td><td>0.0</td><td>0.0</td><td>0.0</td><td>0.0</td></tr><tr><th>30</th><td>0.0</td><td>0.0</td><td>0.0</td><td>0.0</td><td>0.0</td><td>0.0</td><td>0.0</td><td>0.0</td></tr><tr><th>&vellip;</th><td>&vellip;</td><td>&vellip;</td><td>&vellip;</td><td>&vellip;</td><td>&vellip;</td><td>&vellip;</td><td>&vellip;</td><td>&vellip;</td></tr></tbody></table></div>"
      ],
      "text/latex": [
       "\\begin{tabular}{r|ccccccccc}\n",
       "\t& female & widowed & divorced & separated & nevermarried & hsd08 & hsd911 & hsg & \\\\\n",
       "\t\\hline\n",
       "\t& Float64 & Float64 & Float64 & Float64 & Float64 & Float64 & Float64 & Float64 & \\\\\n",
       "\t\\hline\n",
       "\t1 & 1.0 & 0.0 & 0.0 & 0.0 & 0.0 & 0.0 & 0.0 & 0.0 & $\\dots$ \\\\\n",
       "\t2 & 1.0 & 0.0 & 0.0 & 0.0 & 0.0 & 0.0 & 1.0 & 0.0 & $\\dots$ \\\\\n",
       "\t3 & 0.0 & 0.0 & 0.0 & 0.0 & 0.0 & 0.0 & 0.0 & 1.0 & $\\dots$ \\\\\n",
       "\t4 & 1.0 & 0.0 & 0.0 & 0.0 & 0.0 & 0.0 & 0.0 & 1.0 & $\\dots$ \\\\\n",
       "\t5 & 0.0 & 0.0 & 0.0 & 0.0 & 0.0 & 0.0 & 0.0 & 0.0 & $\\dots$ \\\\\n",
       "\t6 & 0.0 & 0.0 & 0.0 & 0.0 & 0.0 & 0.0 & 0.0 & 1.0 & $\\dots$ \\\\\n",
       "\t7 & 0.0 & 0.0 & 0.0 & 0.0 & 1.0 & 0.0 & 0.0 & 1.0 & $\\dots$ \\\\\n",
       "\t8 & 0.0 & 0.0 & 0.0 & 0.0 & 0.0 & 0.0 & 0.0 & 0.0 & $\\dots$ \\\\\n",
       "\t9 & 0.0 & 0.0 & 0.0 & 0.0 & 0.0 & 0.0 & 0.0 & 0.0 & $\\dots$ \\\\\n",
       "\t10 & 1.0 & 0.0 & 0.0 & 0.0 & 0.0 & 0.0 & 0.0 & 0.0 & $\\dots$ \\\\\n",
       "\t11 & 0.0 & 0.0 & 0.0 & 0.0 & 0.0 & 0.0 & 0.0 & 1.0 & $\\dots$ \\\\\n",
       "\t12 & 1.0 & 0.0 & 0.0 & 0.0 & 0.0 & 0.0 & 0.0 & 0.0 & $\\dots$ \\\\\n",
       "\t13 & 0.0 & 0.0 & 0.0 & 0.0 & 0.0 & 0.0 & 0.0 & 0.0 & $\\dots$ \\\\\n",
       "\t14 & 0.0 & 0.0 & 0.0 & 0.0 & 1.0 & 0.0 & 0.0 & 0.0 & $\\dots$ \\\\\n",
       "\t15 & 1.0 & 0.0 & 1.0 & 0.0 & 0.0 & 0.0 & 0.0 & 0.0 & $\\dots$ \\\\\n",
       "\t16 & 0.0 & 0.0 & 0.0 & 0.0 & 1.0 & 0.0 & 0.0 & 0.0 & $\\dots$ \\\\\n",
       "\t17 & 0.0 & 0.0 & 0.0 & 0.0 & 0.0 & 0.0 & 0.0 & 0.0 & $\\dots$ \\\\\n",
       "\t18 & 0.0 & 0.0 & 0.0 & 0.0 & 1.0 & 0.0 & 0.0 & 0.0 & $\\dots$ \\\\\n",
       "\t19 & 0.0 & 0.0 & 0.0 & 0.0 & 0.0 & 0.0 & 0.0 & 0.0 & $\\dots$ \\\\\n",
       "\t20 & 1.0 & 0.0 & 0.0 & 0.0 & 1.0 & 0.0 & 0.0 & 0.0 & $\\dots$ \\\\\n",
       "\t21 & 0.0 & 0.0 & 0.0 & 0.0 & 0.0 & 0.0 & 0.0 & 1.0 & $\\dots$ \\\\\n",
       "\t22 & 1.0 & 0.0 & 0.0 & 0.0 & 0.0 & 0.0 & 0.0 & 0.0 & $\\dots$ \\\\\n",
       "\t23 & 0.0 & 0.0 & 0.0 & 0.0 & 0.0 & 0.0 & 0.0 & 0.0 & $\\dots$ \\\\\n",
       "\t24 & 0.0 & 0.0 & 0.0 & 0.0 & 1.0 & 0.0 & 0.0 & 0.0 & $\\dots$ \\\\\n",
       "\t25 & 1.0 & 0.0 & 0.0 & 0.0 & 1.0 & 0.0 & 0.0 & 0.0 & $\\dots$ \\\\\n",
       "\t26 & 0.0 & 0.0 & 0.0 & 0.0 & 0.0 & 0.0 & 0.0 & 0.0 & $\\dots$ \\\\\n",
       "\t27 & 0.0 & 0.0 & 0.0 & 0.0 & 0.0 & 0.0 & 0.0 & 1.0 & $\\dots$ \\\\\n",
       "\t28 & 1.0 & 0.0 & 0.0 & 0.0 & 0.0 & 0.0 & 0.0 & 0.0 & $\\dots$ \\\\\n",
       "\t29 & 1.0 & 0.0 & 0.0 & 0.0 & 0.0 & 0.0 & 0.0 & 0.0 & $\\dots$ \\\\\n",
       "\t30 & 0.0 & 0.0 & 0.0 & 0.0 & 0.0 & 0.0 & 0.0 & 0.0 & $\\dots$ \\\\\n",
       "\t$\\dots$ & $\\dots$ & $\\dots$ & $\\dots$ & $\\dots$ & $\\dots$ & $\\dots$ & $\\dots$ & $\\dots$ &  \\\\\n",
       "\\end{tabular}\n"
      ],
      "text/plain": [
       "\u001b[1m29217×116 DataFrame\u001b[0m\n",
       "\u001b[1m   Row \u001b[0m│\u001b[1m female  \u001b[0m\u001b[1m widowed \u001b[0m\u001b[1m divorced \u001b[0m\u001b[1m separated \u001b[0m\u001b[1m nevermarried \u001b[0m\u001b[1m hsd08   \u001b[0m\u001b[1m hsd911 \u001b[0m ⋯\n",
       "\u001b[1m       \u001b[0m│\u001b[90m Float64 \u001b[0m\u001b[90m Float64 \u001b[0m\u001b[90m Float64  \u001b[0m\u001b[90m Float64   \u001b[0m\u001b[90m Float64      \u001b[0m\u001b[90m Float64 \u001b[0m\u001b[90m Float64\u001b[0m ⋯\n",
       "───────┼────────────────────────────────────────────────────────────────────────\n",
       "     1 │     1.0      0.0       0.0        0.0           0.0      0.0      0.0 ⋯\n",
       "     2 │     1.0      0.0       0.0        0.0           0.0      0.0      1.0\n",
       "     3 │     0.0      0.0       0.0        0.0           0.0      0.0      0.0\n",
       "     4 │     1.0      0.0       0.0        0.0           0.0      0.0      0.0\n",
       "     5 │     0.0      0.0       0.0        0.0           0.0      0.0      0.0 ⋯\n",
       "     6 │     0.0      0.0       0.0        0.0           0.0      0.0      0.0\n",
       "     7 │     0.0      0.0       0.0        0.0           1.0      0.0      0.0\n",
       "     8 │     0.0      0.0       0.0        0.0           0.0      0.0      0.0\n",
       "     9 │     0.0      0.0       0.0        0.0           0.0      0.0      0.0 ⋯\n",
       "    10 │     1.0      0.0       0.0        0.0           0.0      0.0      0.0\n",
       "    11 │     0.0      0.0       0.0        0.0           0.0      0.0      0.0\n",
       "   ⋮   │    ⋮        ⋮        ⋮          ⋮           ⋮           ⋮        ⋮    ⋱\n",
       " 29208 │     1.0      0.0       0.0        0.0           1.0      0.0      0.0\n",
       " 29209 │     1.0      0.0       0.0        0.0           1.0      0.0      0.0 ⋯\n",
       " 29210 │     0.0      0.0       0.0        0.0           0.0      0.0      0.0\n",
       " 29211 │     0.0      0.0       0.0        0.0           0.0      0.0      0.0\n",
       " 29212 │     1.0      0.0       0.0        0.0           0.0      0.0      0.0\n",
       " 29213 │     0.0      0.0       0.0        0.0           1.0      0.0      0.0 ⋯\n",
       " 29214 │     1.0      0.0       0.0        0.0           1.0      0.0      0.0\n",
       " 29215 │     1.0      0.0       0.0        0.0           0.0      0.0      0.0\n",
       " 29216 │     0.0      0.0       0.0        0.0           0.0      0.0      0.0\n",
       " 29217 │     1.0      0.0       0.0        0.0           0.0      0.0      0.0 ⋯\n",
       "\u001b[36m                                              109 columns and 29196 rows omitted\u001b[0m"
      ]
     },
     "execution_count": 14,
     "metadata": {},
     "output_type": "execute_result"
    }
   ],
   "source": [
    "# Function to get index of constant columns   \n",
    "\n",
    "cons_column = []\n",
    "\n",
    "#recoge todos los valores que tengan varianza 0\n",
    "for i in 1:size(X,2)\n",
    "    if var(X[!,i]) == 0\n",
    "        append!(cons_column  , i)      \n",
    "    end       \n",
    "end\n",
    "\n",
    "\n",
    "# Drop constant columns \n",
    "\n",
    "names(X)[cons_column]\n",
    "select!(X, Not(names(X)[cons_column]))"
   ]
  },
  {
   "cell_type": "code",
   "execution_count": 16,
   "id": "a9f3a3c8",
   "metadata": {},
   "outputs": [
    {
     "data": {
      "text/html": [
       "<div class=\"data-frame\"><p>29,217 rows × 116 columns (omitted printing of 108 columns)</p><table class=\"data-frame\"><thead><tr><th></th><th>female</th><th>widowed</th><th>divorced</th><th>separated</th><th>nevermarried</th><th>hsd08</th><th>hsd911</th><th>hsg</th></tr><tr><th></th><th title=\"Float64\">Float64</th><th title=\"Float64\">Float64</th><th title=\"Float64\">Float64</th><th title=\"Float64\">Float64</th><th title=\"Float64\">Float64</th><th title=\"Float64\">Float64</th><th title=\"Float64\">Float64</th><th title=\"Float64\">Float64</th></tr></thead><tbody><tr><th>1</th><td>1.0</td><td>0.0</td><td>0.0</td><td>0.0</td><td>0.0</td><td>0.0</td><td>0.0</td><td>0.0</td></tr><tr><th>2</th><td>1.0</td><td>0.0</td><td>0.0</td><td>0.0</td><td>0.0</td><td>0.0</td><td>1.0</td><td>0.0</td></tr><tr><th>3</th><td>0.0</td><td>0.0</td><td>0.0</td><td>0.0</td><td>0.0</td><td>0.0</td><td>0.0</td><td>1.0</td></tr><tr><th>4</th><td>1.0</td><td>0.0</td><td>0.0</td><td>0.0</td><td>0.0</td><td>0.0</td><td>0.0</td><td>1.0</td></tr><tr><th>5</th><td>0.0</td><td>0.0</td><td>0.0</td><td>0.0</td><td>0.0</td><td>0.0</td><td>0.0</td><td>0.0</td></tr><tr><th>6</th><td>0.0</td><td>0.0</td><td>0.0</td><td>0.0</td><td>0.0</td><td>0.0</td><td>0.0</td><td>1.0</td></tr><tr><th>7</th><td>0.0</td><td>0.0</td><td>0.0</td><td>0.0</td><td>1.0</td><td>0.0</td><td>0.0</td><td>1.0</td></tr><tr><th>8</th><td>0.0</td><td>0.0</td><td>0.0</td><td>0.0</td><td>0.0</td><td>0.0</td><td>0.0</td><td>0.0</td></tr><tr><th>9</th><td>0.0</td><td>0.0</td><td>0.0</td><td>0.0</td><td>0.0</td><td>0.0</td><td>0.0</td><td>0.0</td></tr><tr><th>10</th><td>1.0</td><td>0.0</td><td>0.0</td><td>0.0</td><td>0.0</td><td>0.0</td><td>0.0</td><td>0.0</td></tr><tr><th>11</th><td>0.0</td><td>0.0</td><td>0.0</td><td>0.0</td><td>0.0</td><td>0.0</td><td>0.0</td><td>1.0</td></tr><tr><th>12</th><td>1.0</td><td>0.0</td><td>0.0</td><td>0.0</td><td>0.0</td><td>0.0</td><td>0.0</td><td>0.0</td></tr><tr><th>13</th><td>0.0</td><td>0.0</td><td>0.0</td><td>0.0</td><td>0.0</td><td>0.0</td><td>0.0</td><td>0.0</td></tr><tr><th>14</th><td>0.0</td><td>0.0</td><td>0.0</td><td>0.0</td><td>1.0</td><td>0.0</td><td>0.0</td><td>0.0</td></tr><tr><th>15</th><td>1.0</td><td>0.0</td><td>1.0</td><td>0.0</td><td>0.0</td><td>0.0</td><td>0.0</td><td>0.0</td></tr><tr><th>16</th><td>0.0</td><td>0.0</td><td>0.0</td><td>0.0</td><td>1.0</td><td>0.0</td><td>0.0</td><td>0.0</td></tr><tr><th>17</th><td>0.0</td><td>0.0</td><td>0.0</td><td>0.0</td><td>0.0</td><td>0.0</td><td>0.0</td><td>0.0</td></tr><tr><th>18</th><td>0.0</td><td>0.0</td><td>0.0</td><td>0.0</td><td>1.0</td><td>0.0</td><td>0.0</td><td>0.0</td></tr><tr><th>19</th><td>0.0</td><td>0.0</td><td>0.0</td><td>0.0</td><td>0.0</td><td>0.0</td><td>0.0</td><td>0.0</td></tr><tr><th>20</th><td>1.0</td><td>0.0</td><td>0.0</td><td>0.0</td><td>1.0</td><td>0.0</td><td>0.0</td><td>0.0</td></tr><tr><th>21</th><td>0.0</td><td>0.0</td><td>0.0</td><td>0.0</td><td>0.0</td><td>0.0</td><td>0.0</td><td>1.0</td></tr><tr><th>22</th><td>1.0</td><td>0.0</td><td>0.0</td><td>0.0</td><td>0.0</td><td>0.0</td><td>0.0</td><td>0.0</td></tr><tr><th>23</th><td>0.0</td><td>0.0</td><td>0.0</td><td>0.0</td><td>0.0</td><td>0.0</td><td>0.0</td><td>0.0</td></tr><tr><th>24</th><td>0.0</td><td>0.0</td><td>0.0</td><td>0.0</td><td>1.0</td><td>0.0</td><td>0.0</td><td>0.0</td></tr><tr><th>25</th><td>1.0</td><td>0.0</td><td>0.0</td><td>0.0</td><td>1.0</td><td>0.0</td><td>0.0</td><td>0.0</td></tr><tr><th>26</th><td>0.0</td><td>0.0</td><td>0.0</td><td>0.0</td><td>0.0</td><td>0.0</td><td>0.0</td><td>0.0</td></tr><tr><th>27</th><td>0.0</td><td>0.0</td><td>0.0</td><td>0.0</td><td>0.0</td><td>0.0</td><td>0.0</td><td>1.0</td></tr><tr><th>28</th><td>1.0</td><td>0.0</td><td>0.0</td><td>0.0</td><td>0.0</td><td>0.0</td><td>0.0</td><td>0.0</td></tr><tr><th>29</th><td>1.0</td><td>0.0</td><td>0.0</td><td>0.0</td><td>0.0</td><td>0.0</td><td>0.0</td><td>0.0</td></tr><tr><th>30</th><td>0.0</td><td>0.0</td><td>0.0</td><td>0.0</td><td>0.0</td><td>0.0</td><td>0.0</td><td>0.0</td></tr><tr><th>&vellip;</th><td>&vellip;</td><td>&vellip;</td><td>&vellip;</td><td>&vellip;</td><td>&vellip;</td><td>&vellip;</td><td>&vellip;</td><td>&vellip;</td></tr></tbody></table></div>"
      ],
      "text/latex": [
       "\\begin{tabular}{r|ccccccccc}\n",
       "\t& female & widowed & divorced & separated & nevermarried & hsd08 & hsd911 & hsg & \\\\\n",
       "\t\\hline\n",
       "\t& Float64 & Float64 & Float64 & Float64 & Float64 & Float64 & Float64 & Float64 & \\\\\n",
       "\t\\hline\n",
       "\t1 & 1.0 & 0.0 & 0.0 & 0.0 & 0.0 & 0.0 & 0.0 & 0.0 & $\\dots$ \\\\\n",
       "\t2 & 1.0 & 0.0 & 0.0 & 0.0 & 0.0 & 0.0 & 1.0 & 0.0 & $\\dots$ \\\\\n",
       "\t3 & 0.0 & 0.0 & 0.0 & 0.0 & 0.0 & 0.0 & 0.0 & 1.0 & $\\dots$ \\\\\n",
       "\t4 & 1.0 & 0.0 & 0.0 & 0.0 & 0.0 & 0.0 & 0.0 & 1.0 & $\\dots$ \\\\\n",
       "\t5 & 0.0 & 0.0 & 0.0 & 0.0 & 0.0 & 0.0 & 0.0 & 0.0 & $\\dots$ \\\\\n",
       "\t6 & 0.0 & 0.0 & 0.0 & 0.0 & 0.0 & 0.0 & 0.0 & 1.0 & $\\dots$ \\\\\n",
       "\t7 & 0.0 & 0.0 & 0.0 & 0.0 & 1.0 & 0.0 & 0.0 & 1.0 & $\\dots$ \\\\\n",
       "\t8 & 0.0 & 0.0 & 0.0 & 0.0 & 0.0 & 0.0 & 0.0 & 0.0 & $\\dots$ \\\\\n",
       "\t9 & 0.0 & 0.0 & 0.0 & 0.0 & 0.0 & 0.0 & 0.0 & 0.0 & $\\dots$ \\\\\n",
       "\t10 & 1.0 & 0.0 & 0.0 & 0.0 & 0.0 & 0.0 & 0.0 & 0.0 & $\\dots$ \\\\\n",
       "\t11 & 0.0 & 0.0 & 0.0 & 0.0 & 0.0 & 0.0 & 0.0 & 1.0 & $\\dots$ \\\\\n",
       "\t12 & 1.0 & 0.0 & 0.0 & 0.0 & 0.0 & 0.0 & 0.0 & 0.0 & $\\dots$ \\\\\n",
       "\t13 & 0.0 & 0.0 & 0.0 & 0.0 & 0.0 & 0.0 & 0.0 & 0.0 & $\\dots$ \\\\\n",
       "\t14 & 0.0 & 0.0 & 0.0 & 0.0 & 1.0 & 0.0 & 0.0 & 0.0 & $\\dots$ \\\\\n",
       "\t15 & 1.0 & 0.0 & 1.0 & 0.0 & 0.0 & 0.0 & 0.0 & 0.0 & $\\dots$ \\\\\n",
       "\t16 & 0.0 & 0.0 & 0.0 & 0.0 & 1.0 & 0.0 & 0.0 & 0.0 & $\\dots$ \\\\\n",
       "\t17 & 0.0 & 0.0 & 0.0 & 0.0 & 0.0 & 0.0 & 0.0 & 0.0 & $\\dots$ \\\\\n",
       "\t18 & 0.0 & 0.0 & 0.0 & 0.0 & 1.0 & 0.0 & 0.0 & 0.0 & $\\dots$ \\\\\n",
       "\t19 & 0.0 & 0.0 & 0.0 & 0.0 & 0.0 & 0.0 & 0.0 & 0.0 & $\\dots$ \\\\\n",
       "\t20 & 1.0 & 0.0 & 0.0 & 0.0 & 1.0 & 0.0 & 0.0 & 0.0 & $\\dots$ \\\\\n",
       "\t21 & 0.0 & 0.0 & 0.0 & 0.0 & 0.0 & 0.0 & 0.0 & 1.0 & $\\dots$ \\\\\n",
       "\t22 & 1.0 & 0.0 & 0.0 & 0.0 & 0.0 & 0.0 & 0.0 & 0.0 & $\\dots$ \\\\\n",
       "\t23 & 0.0 & 0.0 & 0.0 & 0.0 & 0.0 & 0.0 & 0.0 & 0.0 & $\\dots$ \\\\\n",
       "\t24 & 0.0 & 0.0 & 0.0 & 0.0 & 1.0 & 0.0 & 0.0 & 0.0 & $\\dots$ \\\\\n",
       "\t25 & 1.0 & 0.0 & 0.0 & 0.0 & 1.0 & 0.0 & 0.0 & 0.0 & $\\dots$ \\\\\n",
       "\t26 & 0.0 & 0.0 & 0.0 & 0.0 & 0.0 & 0.0 & 0.0 & 0.0 & $\\dots$ \\\\\n",
       "\t27 & 0.0 & 0.0 & 0.0 & 0.0 & 0.0 & 0.0 & 0.0 & 1.0 & $\\dots$ \\\\\n",
       "\t28 & 1.0 & 0.0 & 0.0 & 0.0 & 0.0 & 0.0 & 0.0 & 0.0 & $\\dots$ \\\\\n",
       "\t29 & 1.0 & 0.0 & 0.0 & 0.0 & 0.0 & 0.0 & 0.0 & 0.0 & $\\dots$ \\\\\n",
       "\t30 & 0.0 & 0.0 & 0.0 & 0.0 & 0.0 & 0.0 & 0.0 & 0.0 & $\\dots$ \\\\\n",
       "\t$\\dots$ & $\\dots$ & $\\dots$ & $\\dots$ & $\\dots$ & $\\dots$ & $\\dots$ & $\\dots$ & $\\dots$ &  \\\\\n",
       "\\end{tabular}\n"
      ],
      "text/plain": [
       "\u001b[1m29217×116 DataFrame\u001b[0m\n",
       "\u001b[1m   Row \u001b[0m│\u001b[1m female  \u001b[0m\u001b[1m widowed \u001b[0m\u001b[1m divorced \u001b[0m\u001b[1m separated \u001b[0m\u001b[1m nevermarried \u001b[0m\u001b[1m hsd08   \u001b[0m\u001b[1m hsd911 \u001b[0m ⋯\n",
       "\u001b[1m       \u001b[0m│\u001b[90m Float64 \u001b[0m\u001b[90m Float64 \u001b[0m\u001b[90m Float64  \u001b[0m\u001b[90m Float64   \u001b[0m\u001b[90m Float64      \u001b[0m\u001b[90m Float64 \u001b[0m\u001b[90m Float64\u001b[0m ⋯\n",
       "───────┼────────────────────────────────────────────────────────────────────────\n",
       "     1 │     1.0      0.0       0.0        0.0           0.0      0.0      0.0 ⋯\n",
       "     2 │     1.0      0.0       0.0        0.0           0.0      0.0      1.0\n",
       "     3 │     0.0      0.0       0.0        0.0           0.0      0.0      0.0\n",
       "     4 │     1.0      0.0       0.0        0.0           0.0      0.0      0.0\n",
       "     5 │     0.0      0.0       0.0        0.0           0.0      0.0      0.0 ⋯\n",
       "     6 │     0.0      0.0       0.0        0.0           0.0      0.0      0.0\n",
       "     7 │     0.0      0.0       0.0        0.0           1.0      0.0      0.0\n",
       "     8 │     0.0      0.0       0.0        0.0           0.0      0.0      0.0\n",
       "     9 │     0.0      0.0       0.0        0.0           0.0      0.0      0.0 ⋯\n",
       "    10 │     1.0      0.0       0.0        0.0           0.0      0.0      0.0\n",
       "    11 │     0.0      0.0       0.0        0.0           0.0      0.0      0.0\n",
       "   ⋮   │    ⋮        ⋮        ⋮          ⋮           ⋮           ⋮        ⋮    ⋱\n",
       " 29208 │     1.0      0.0       0.0        0.0           1.0      0.0      0.0\n",
       " 29209 │     1.0      0.0       0.0        0.0           1.0      0.0      0.0 ⋯\n",
       " 29210 │     0.0      0.0       0.0        0.0           0.0      0.0      0.0\n",
       " 29211 │     0.0      0.0       0.0        0.0           0.0      0.0      0.0\n",
       " 29212 │     1.0      0.0       0.0        0.0           0.0      0.0      0.0\n",
       " 29213 │     0.0      0.0       0.0        0.0           1.0      0.0      0.0 ⋯\n",
       " 29214 │     1.0      0.0       0.0        0.0           1.0      0.0      0.0\n",
       " 29215 │     1.0      0.0       0.0        0.0           0.0      0.0      0.0\n",
       " 29216 │     0.0      0.0       0.0        0.0           0.0      0.0      0.0\n",
       " 29217 │     1.0      0.0       0.0        0.0           0.0      0.0      0.0 ⋯\n",
       "\u001b[36m                                              109 columns and 29196 rows omitted\u001b[0m"
      ]
     },
     "execution_count": 16,
     "metadata": {},
     "output_type": "execute_result"
    }
   ],
   "source": [
    "#New matrix has dropped allconstants\n",
    "X"
   ]
  },
  {
   "cell_type": "code",
   "execution_count": 17,
   "id": "b4790480",
   "metadata": {},
   "outputs": [
    {
     "data": {
      "text/html": [
       "<div class=\"data-frame\"><p>29,217 rows × 116 columns (omitted printing of 109 columns)</p><table class=\"data-frame\"><thead><tr><th></th><th>female</th><th>widowed</th><th>divorced</th><th>separated</th><th>nevermarried</th><th>hsd08</th><th>hsd911</th></tr><tr><th></th><th title=\"Float64\">Float64</th><th title=\"Float64\">Float64</th><th title=\"Float64\">Float64</th><th title=\"Float64\">Float64</th><th title=\"Float64\">Float64</th><th title=\"Float64\">Float64</th><th title=\"Float64\">Float64</th></tr></thead><tbody><tr><th>1</th><td>0.571243</td><td>-0.00797481</td><td>-0.113393</td><td>-0.0165999</td><td>-0.156347</td><td>-0.0041072</td><td>-0.0221789</td></tr><tr><th>2</th><td>0.571243</td><td>-0.00797481</td><td>-0.113393</td><td>-0.0165999</td><td>-0.156347</td><td>-0.0041072</td><td>0.977821</td></tr><tr><th>3</th><td>-0.428757</td><td>-0.00797481</td><td>-0.113393</td><td>-0.0165999</td><td>-0.156347</td><td>-0.0041072</td><td>-0.0221789</td></tr><tr><th>4</th><td>0.571243</td><td>-0.00797481</td><td>-0.113393</td><td>-0.0165999</td><td>-0.156347</td><td>-0.0041072</td><td>-0.0221789</td></tr><tr><th>5</th><td>-0.428757</td><td>-0.00797481</td><td>-0.113393</td><td>-0.0165999</td><td>-0.156347</td><td>-0.0041072</td><td>-0.0221789</td></tr><tr><th>6</th><td>-0.428757</td><td>-0.00797481</td><td>-0.113393</td><td>-0.0165999</td><td>-0.156347</td><td>-0.0041072</td><td>-0.0221789</td></tr><tr><th>7</th><td>-0.428757</td><td>-0.00797481</td><td>-0.113393</td><td>-0.0165999</td><td>0.843653</td><td>-0.0041072</td><td>-0.0221789</td></tr><tr><th>8</th><td>-0.428757</td><td>-0.00797481</td><td>-0.113393</td><td>-0.0165999</td><td>-0.156347</td><td>-0.0041072</td><td>-0.0221789</td></tr><tr><th>9</th><td>-0.428757</td><td>-0.00797481</td><td>-0.113393</td><td>-0.0165999</td><td>-0.156347</td><td>-0.0041072</td><td>-0.0221789</td></tr><tr><th>10</th><td>0.571243</td><td>-0.00797481</td><td>-0.113393</td><td>-0.0165999</td><td>-0.156347</td><td>-0.0041072</td><td>-0.0221789</td></tr><tr><th>11</th><td>-0.428757</td><td>-0.00797481</td><td>-0.113393</td><td>-0.0165999</td><td>-0.156347</td><td>-0.0041072</td><td>-0.0221789</td></tr><tr><th>12</th><td>0.571243</td><td>-0.00797481</td><td>-0.113393</td><td>-0.0165999</td><td>-0.156347</td><td>-0.0041072</td><td>-0.0221789</td></tr><tr><th>13</th><td>-0.428757</td><td>-0.00797481</td><td>-0.113393</td><td>-0.0165999</td><td>-0.156347</td><td>-0.0041072</td><td>-0.0221789</td></tr><tr><th>14</th><td>-0.428757</td><td>-0.00797481</td><td>-0.113393</td><td>-0.0165999</td><td>0.843653</td><td>-0.0041072</td><td>-0.0221789</td></tr><tr><th>15</th><td>0.571243</td><td>-0.00797481</td><td>0.886607</td><td>-0.0165999</td><td>-0.156347</td><td>-0.0041072</td><td>-0.0221789</td></tr><tr><th>16</th><td>-0.428757</td><td>-0.00797481</td><td>-0.113393</td><td>-0.0165999</td><td>0.843653</td><td>-0.0041072</td><td>-0.0221789</td></tr><tr><th>17</th><td>-0.428757</td><td>-0.00797481</td><td>-0.113393</td><td>-0.0165999</td><td>-0.156347</td><td>-0.0041072</td><td>-0.0221789</td></tr><tr><th>18</th><td>-0.428757</td><td>-0.00797481</td><td>-0.113393</td><td>-0.0165999</td><td>0.843653</td><td>-0.0041072</td><td>-0.0221789</td></tr><tr><th>19</th><td>-0.428757</td><td>-0.00797481</td><td>-0.113393</td><td>-0.0165999</td><td>-0.156347</td><td>-0.0041072</td><td>-0.0221789</td></tr><tr><th>20</th><td>0.571243</td><td>-0.00797481</td><td>-0.113393</td><td>-0.0165999</td><td>0.843653</td><td>-0.0041072</td><td>-0.0221789</td></tr><tr><th>21</th><td>-0.428757</td><td>-0.00797481</td><td>-0.113393</td><td>-0.0165999</td><td>-0.156347</td><td>-0.0041072</td><td>-0.0221789</td></tr><tr><th>22</th><td>0.571243</td><td>-0.00797481</td><td>-0.113393</td><td>-0.0165999</td><td>-0.156347</td><td>-0.0041072</td><td>-0.0221789</td></tr><tr><th>23</th><td>-0.428757</td><td>-0.00797481</td><td>-0.113393</td><td>-0.0165999</td><td>-0.156347</td><td>-0.0041072</td><td>-0.0221789</td></tr><tr><th>24</th><td>-0.428757</td><td>-0.00797481</td><td>-0.113393</td><td>-0.0165999</td><td>0.843653</td><td>-0.0041072</td><td>-0.0221789</td></tr><tr><th>25</th><td>0.571243</td><td>-0.00797481</td><td>-0.113393</td><td>-0.0165999</td><td>0.843653</td><td>-0.0041072</td><td>-0.0221789</td></tr><tr><th>26</th><td>-0.428757</td><td>-0.00797481</td><td>-0.113393</td><td>-0.0165999</td><td>-0.156347</td><td>-0.0041072</td><td>-0.0221789</td></tr><tr><th>27</th><td>-0.428757</td><td>-0.00797481</td><td>-0.113393</td><td>-0.0165999</td><td>-0.156347</td><td>-0.0041072</td><td>-0.0221789</td></tr><tr><th>28</th><td>0.571243</td><td>-0.00797481</td><td>-0.113393</td><td>-0.0165999</td><td>-0.156347</td><td>-0.0041072</td><td>-0.0221789</td></tr><tr><th>29</th><td>0.571243</td><td>-0.00797481</td><td>-0.113393</td><td>-0.0165999</td><td>-0.156347</td><td>-0.0041072</td><td>-0.0221789</td></tr><tr><th>30</th><td>-0.428757</td><td>-0.00797481</td><td>-0.113393</td><td>-0.0165999</td><td>-0.156347</td><td>-0.0041072</td><td>-0.0221789</td></tr><tr><th>&vellip;</th><td>&vellip;</td><td>&vellip;</td><td>&vellip;</td><td>&vellip;</td><td>&vellip;</td><td>&vellip;</td><td>&vellip;</td></tr></tbody></table></div>"
      ],
      "text/latex": [
       "\\begin{tabular}{r|cccccccc}\n",
       "\t& female & widowed & divorced & separated & nevermarried & hsd08 & hsd911 & \\\\\n",
       "\t\\hline\n",
       "\t& Float64 & Float64 & Float64 & Float64 & Float64 & Float64 & Float64 & \\\\\n",
       "\t\\hline\n",
       "\t1 & 0.571243 & -0.00797481 & -0.113393 & -0.0165999 & -0.156347 & -0.0041072 & -0.0221789 & $\\dots$ \\\\\n",
       "\t2 & 0.571243 & -0.00797481 & -0.113393 & -0.0165999 & -0.156347 & -0.0041072 & 0.977821 & $\\dots$ \\\\\n",
       "\t3 & -0.428757 & -0.00797481 & -0.113393 & -0.0165999 & -0.156347 & -0.0041072 & -0.0221789 & $\\dots$ \\\\\n",
       "\t4 & 0.571243 & -0.00797481 & -0.113393 & -0.0165999 & -0.156347 & -0.0041072 & -0.0221789 & $\\dots$ \\\\\n",
       "\t5 & -0.428757 & -0.00797481 & -0.113393 & -0.0165999 & -0.156347 & -0.0041072 & -0.0221789 & $\\dots$ \\\\\n",
       "\t6 & -0.428757 & -0.00797481 & -0.113393 & -0.0165999 & -0.156347 & -0.0041072 & -0.0221789 & $\\dots$ \\\\\n",
       "\t7 & -0.428757 & -0.00797481 & -0.113393 & -0.0165999 & 0.843653 & -0.0041072 & -0.0221789 & $\\dots$ \\\\\n",
       "\t8 & -0.428757 & -0.00797481 & -0.113393 & -0.0165999 & -0.156347 & -0.0041072 & -0.0221789 & $\\dots$ \\\\\n",
       "\t9 & -0.428757 & -0.00797481 & -0.113393 & -0.0165999 & -0.156347 & -0.0041072 & -0.0221789 & $\\dots$ \\\\\n",
       "\t10 & 0.571243 & -0.00797481 & -0.113393 & -0.0165999 & -0.156347 & -0.0041072 & -0.0221789 & $\\dots$ \\\\\n",
       "\t11 & -0.428757 & -0.00797481 & -0.113393 & -0.0165999 & -0.156347 & -0.0041072 & -0.0221789 & $\\dots$ \\\\\n",
       "\t12 & 0.571243 & -0.00797481 & -0.113393 & -0.0165999 & -0.156347 & -0.0041072 & -0.0221789 & $\\dots$ \\\\\n",
       "\t13 & -0.428757 & -0.00797481 & -0.113393 & -0.0165999 & -0.156347 & -0.0041072 & -0.0221789 & $\\dots$ \\\\\n",
       "\t14 & -0.428757 & -0.00797481 & -0.113393 & -0.0165999 & 0.843653 & -0.0041072 & -0.0221789 & $\\dots$ \\\\\n",
       "\t15 & 0.571243 & -0.00797481 & 0.886607 & -0.0165999 & -0.156347 & -0.0041072 & -0.0221789 & $\\dots$ \\\\\n",
       "\t16 & -0.428757 & -0.00797481 & -0.113393 & -0.0165999 & 0.843653 & -0.0041072 & -0.0221789 & $\\dots$ \\\\\n",
       "\t17 & -0.428757 & -0.00797481 & -0.113393 & -0.0165999 & -0.156347 & -0.0041072 & -0.0221789 & $\\dots$ \\\\\n",
       "\t18 & -0.428757 & -0.00797481 & -0.113393 & -0.0165999 & 0.843653 & -0.0041072 & -0.0221789 & $\\dots$ \\\\\n",
       "\t19 & -0.428757 & -0.00797481 & -0.113393 & -0.0165999 & -0.156347 & -0.0041072 & -0.0221789 & $\\dots$ \\\\\n",
       "\t20 & 0.571243 & -0.00797481 & -0.113393 & -0.0165999 & 0.843653 & -0.0041072 & -0.0221789 & $\\dots$ \\\\\n",
       "\t21 & -0.428757 & -0.00797481 & -0.113393 & -0.0165999 & -0.156347 & -0.0041072 & -0.0221789 & $\\dots$ \\\\\n",
       "\t22 & 0.571243 & -0.00797481 & -0.113393 & -0.0165999 & -0.156347 & -0.0041072 & -0.0221789 & $\\dots$ \\\\\n",
       "\t23 & -0.428757 & -0.00797481 & -0.113393 & -0.0165999 & -0.156347 & -0.0041072 & -0.0221789 & $\\dots$ \\\\\n",
       "\t24 & -0.428757 & -0.00797481 & -0.113393 & -0.0165999 & 0.843653 & -0.0041072 & -0.0221789 & $\\dots$ \\\\\n",
       "\t25 & 0.571243 & -0.00797481 & -0.113393 & -0.0165999 & 0.843653 & -0.0041072 & -0.0221789 & $\\dots$ \\\\\n",
       "\t26 & -0.428757 & -0.00797481 & -0.113393 & -0.0165999 & -0.156347 & -0.0041072 & -0.0221789 & $\\dots$ \\\\\n",
       "\t27 & -0.428757 & -0.00797481 & -0.113393 & -0.0165999 & -0.156347 & -0.0041072 & -0.0221789 & $\\dots$ \\\\\n",
       "\t28 & 0.571243 & -0.00797481 & -0.113393 & -0.0165999 & -0.156347 & -0.0041072 & -0.0221789 & $\\dots$ \\\\\n",
       "\t29 & 0.571243 & -0.00797481 & -0.113393 & -0.0165999 & -0.156347 & -0.0041072 & -0.0221789 & $\\dots$ \\\\\n",
       "\t30 & -0.428757 & -0.00797481 & -0.113393 & -0.0165999 & -0.156347 & -0.0041072 & -0.0221789 & $\\dots$ \\\\\n",
       "\t$\\dots$ & $\\dots$ & $\\dots$ & $\\dots$ & $\\dots$ & $\\dots$ & $\\dots$ & $\\dots$ &  \\\\\n",
       "\\end{tabular}\n"
      ],
      "text/plain": [
       "\u001b[1m29217×116 DataFrame\u001b[0m\n",
       "\u001b[1m   Row \u001b[0m│\u001b[1m female    \u001b[0m\u001b[1m widowed     \u001b[0m\u001b[1m divorced  \u001b[0m\u001b[1m separated  \u001b[0m\u001b[1m nevermarried \u001b[0m\u001b[1m hsd08   \u001b[0m ⋯\n",
       "\u001b[1m       \u001b[0m│\u001b[90m Float64   \u001b[0m\u001b[90m Float64     \u001b[0m\u001b[90m Float64   \u001b[0m\u001b[90m Float64    \u001b[0m\u001b[90m Float64      \u001b[0m\u001b[90m Float64 \u001b[0m ⋯\n",
       "───────┼────────────────────────────────────────────────────────────────────────\n",
       "     1 │  0.571243  -0.00797481  -0.113393  -0.0165999     -0.156347  -0.00410 ⋯\n",
       "     2 │  0.571243  -0.00797481  -0.113393  -0.0165999     -0.156347  -0.00410\n",
       "     3 │ -0.428757  -0.00797481  -0.113393  -0.0165999     -0.156347  -0.00410\n",
       "     4 │  0.571243  -0.00797481  -0.113393  -0.0165999     -0.156347  -0.00410\n",
       "     5 │ -0.428757  -0.00797481  -0.113393  -0.0165999     -0.156347  -0.00410 ⋯\n",
       "     6 │ -0.428757  -0.00797481  -0.113393  -0.0165999     -0.156347  -0.00410\n",
       "     7 │ -0.428757  -0.00797481  -0.113393  -0.0165999      0.843653  -0.00410\n",
       "     8 │ -0.428757  -0.00797481  -0.113393  -0.0165999     -0.156347  -0.00410\n",
       "     9 │ -0.428757  -0.00797481  -0.113393  -0.0165999     -0.156347  -0.00410 ⋯\n",
       "    10 │  0.571243  -0.00797481  -0.113393  -0.0165999     -0.156347  -0.00410\n",
       "    11 │ -0.428757  -0.00797481  -0.113393  -0.0165999     -0.156347  -0.00410\n",
       "   ⋮   │     ⋮           ⋮           ⋮          ⋮            ⋮            ⋮    ⋱\n",
       " 29208 │  0.571243  -0.00797481  -0.113393  -0.0165999      0.843653  -0.00410\n",
       " 29209 │  0.571243  -0.00797481  -0.113393  -0.0165999      0.843653  -0.00410 ⋯\n",
       " 29210 │ -0.428757  -0.00797481  -0.113393  -0.0165999     -0.156347  -0.00410\n",
       " 29211 │ -0.428757  -0.00797481  -0.113393  -0.0165999     -0.156347  -0.00410\n",
       " 29212 │  0.571243  -0.00797481  -0.113393  -0.0165999     -0.156347  -0.00410\n",
       " 29213 │ -0.428757  -0.00797481  -0.113393  -0.0165999      0.843653  -0.00410 ⋯\n",
       " 29214 │  0.571243  -0.00797481  -0.113393  -0.0165999      0.843653  -0.00410\n",
       " 29215 │  0.571243  -0.00797481  -0.113393  -0.0165999     -0.156347  -0.00410\n",
       " 29216 │ -0.428757  -0.00797481  -0.113393  -0.0165999     -0.156347  -0.00410\n",
       " 29217 │  0.571243  -0.00797481  -0.113393  -0.0165999     -0.156347  -0.00410 ⋯\n",
       "\u001b[36m                                              111 columns and 29196 rows omitted\u001b[0m"
      ]
     },
     "execution_count": 17,
     "metadata": {},
     "output_type": "execute_result"
    }
   ],
   "source": [
    "# demean function\n",
    "function desv_mean(a)\n",
    "    a = Matrix(a)   # dataframe to matrix \n",
    "    A = mean(a, dims = 1)\n",
    "    M = zeros(Float64, size(X,1), size(X,2))\n",
    "    \n",
    "    for i in 1:size(a,2)\n",
    "          M[:,i] = a[:,i] .- A[i]\n",
    "    end\n",
    "    \n",
    "    return M\n",
    "end    \n",
    "\n",
    "\n",
    "# Matrix Model & demean\n",
    "\n",
    "X = DataFrame(desv_mean(X), names(X)) # Dataframe and names"
   ]
  },
  {
   "cell_type": "code",
   "execution_count": 18,
   "id": "63b5db02",
   "metadata": {},
   "outputs": [],
   "source": [
    "# index to get columns that contains female\n",
    "# f and interacions\n",
    "index = []\n",
    "\n",
    "for i in 1:size(X,2)  \n",
    "        if contains( names(X)[i] , \"female\")\n",
    "            append!(index, i)\n",
    "        end  \n",
    "end"
   ]
  },
  {
   "cell_type": "code",
   "execution_count": 24,
   "id": "1065c518",
   "metadata": {},
   "outputs": [
    {
     "data": {
      "text/plain": [
       "16-element Vector{Any}:\n",
       "   1\n",
       " 102\n",
       " 103\n",
       " 104\n",
       " 105\n",
       " 106\n",
       " 107\n",
       " 108\n",
       " 109\n",
       " 110\n",
       " 111\n",
       " 112\n",
       " 113\n",
       " 114\n",
       " 115\n",
       " 116"
      ]
     },
     "execution_count": 24,
     "metadata": {},
     "output_type": "execute_result"
    }
   ],
   "source": [
    "index\n",
    "# female y 15 interacciones"
   ]
  },
  {
   "cell_type": "code",
   "execution_count": 25,
   "id": "741b0d1f",
   "metadata": {},
   "outputs": [
    {
     "data": {
      "text/html": [
       "<div class=\"data-frame\"><p>29,217 rows × 100 columns (omitted printing of 93 columns)</p><table class=\"data-frame\"><thead><tr><th></th><th>widowed</th><th>divorced</th><th>separated</th><th>nevermarried</th><th>hsd08</th><th>hsd911</th><th>hsg</th></tr><tr><th></th><th title=\"Float64\">Float64</th><th title=\"Float64\">Float64</th><th title=\"Float64\">Float64</th><th title=\"Float64\">Float64</th><th title=\"Float64\">Float64</th><th title=\"Float64\">Float64</th><th title=\"Float64\">Float64</th></tr></thead><tbody><tr><th>1</th><td>-0.00797481</td><td>-0.113393</td><td>-0.0165999</td><td>-0.156347</td><td>-0.0041072</td><td>-0.0221789</td><td>-0.247288</td></tr><tr><th>2</th><td>-0.00797481</td><td>-0.113393</td><td>-0.0165999</td><td>-0.156347</td><td>-0.0041072</td><td>0.977821</td><td>-0.247288</td></tr><tr><th>3</th><td>-0.00797481</td><td>-0.113393</td><td>-0.0165999</td><td>-0.156347</td><td>-0.0041072</td><td>-0.0221789</td><td>0.752712</td></tr><tr><th>4</th><td>-0.00797481</td><td>-0.113393</td><td>-0.0165999</td><td>-0.156347</td><td>-0.0041072</td><td>-0.0221789</td><td>0.752712</td></tr><tr><th>5</th><td>-0.00797481</td><td>-0.113393</td><td>-0.0165999</td><td>-0.156347</td><td>-0.0041072</td><td>-0.0221789</td><td>-0.247288</td></tr><tr><th>6</th><td>-0.00797481</td><td>-0.113393</td><td>-0.0165999</td><td>-0.156347</td><td>-0.0041072</td><td>-0.0221789</td><td>0.752712</td></tr><tr><th>7</th><td>-0.00797481</td><td>-0.113393</td><td>-0.0165999</td><td>0.843653</td><td>-0.0041072</td><td>-0.0221789</td><td>0.752712</td></tr><tr><th>8</th><td>-0.00797481</td><td>-0.113393</td><td>-0.0165999</td><td>-0.156347</td><td>-0.0041072</td><td>-0.0221789</td><td>-0.247288</td></tr><tr><th>9</th><td>-0.00797481</td><td>-0.113393</td><td>-0.0165999</td><td>-0.156347</td><td>-0.0041072</td><td>-0.0221789</td><td>-0.247288</td></tr><tr><th>10</th><td>-0.00797481</td><td>-0.113393</td><td>-0.0165999</td><td>-0.156347</td><td>-0.0041072</td><td>-0.0221789</td><td>-0.247288</td></tr><tr><th>11</th><td>-0.00797481</td><td>-0.113393</td><td>-0.0165999</td><td>-0.156347</td><td>-0.0041072</td><td>-0.0221789</td><td>0.752712</td></tr><tr><th>12</th><td>-0.00797481</td><td>-0.113393</td><td>-0.0165999</td><td>-0.156347</td><td>-0.0041072</td><td>-0.0221789</td><td>-0.247288</td></tr><tr><th>13</th><td>-0.00797481</td><td>-0.113393</td><td>-0.0165999</td><td>-0.156347</td><td>-0.0041072</td><td>-0.0221789</td><td>-0.247288</td></tr><tr><th>14</th><td>-0.00797481</td><td>-0.113393</td><td>-0.0165999</td><td>0.843653</td><td>-0.0041072</td><td>-0.0221789</td><td>-0.247288</td></tr><tr><th>15</th><td>-0.00797481</td><td>0.886607</td><td>-0.0165999</td><td>-0.156347</td><td>-0.0041072</td><td>-0.0221789</td><td>-0.247288</td></tr><tr><th>16</th><td>-0.00797481</td><td>-0.113393</td><td>-0.0165999</td><td>0.843653</td><td>-0.0041072</td><td>-0.0221789</td><td>-0.247288</td></tr><tr><th>17</th><td>-0.00797481</td><td>-0.113393</td><td>-0.0165999</td><td>-0.156347</td><td>-0.0041072</td><td>-0.0221789</td><td>-0.247288</td></tr><tr><th>18</th><td>-0.00797481</td><td>-0.113393</td><td>-0.0165999</td><td>0.843653</td><td>-0.0041072</td><td>-0.0221789</td><td>-0.247288</td></tr><tr><th>19</th><td>-0.00797481</td><td>-0.113393</td><td>-0.0165999</td><td>-0.156347</td><td>-0.0041072</td><td>-0.0221789</td><td>-0.247288</td></tr><tr><th>20</th><td>-0.00797481</td><td>-0.113393</td><td>-0.0165999</td><td>0.843653</td><td>-0.0041072</td><td>-0.0221789</td><td>-0.247288</td></tr><tr><th>21</th><td>-0.00797481</td><td>-0.113393</td><td>-0.0165999</td><td>-0.156347</td><td>-0.0041072</td><td>-0.0221789</td><td>0.752712</td></tr><tr><th>22</th><td>-0.00797481</td><td>-0.113393</td><td>-0.0165999</td><td>-0.156347</td><td>-0.0041072</td><td>-0.0221789</td><td>-0.247288</td></tr><tr><th>23</th><td>-0.00797481</td><td>-0.113393</td><td>-0.0165999</td><td>-0.156347</td><td>-0.0041072</td><td>-0.0221789</td><td>-0.247288</td></tr><tr><th>24</th><td>-0.00797481</td><td>-0.113393</td><td>-0.0165999</td><td>0.843653</td><td>-0.0041072</td><td>-0.0221789</td><td>-0.247288</td></tr><tr><th>25</th><td>-0.00797481</td><td>-0.113393</td><td>-0.0165999</td><td>0.843653</td><td>-0.0041072</td><td>-0.0221789</td><td>-0.247288</td></tr><tr><th>26</th><td>-0.00797481</td><td>-0.113393</td><td>-0.0165999</td><td>-0.156347</td><td>-0.0041072</td><td>-0.0221789</td><td>-0.247288</td></tr><tr><th>27</th><td>-0.00797481</td><td>-0.113393</td><td>-0.0165999</td><td>-0.156347</td><td>-0.0041072</td><td>-0.0221789</td><td>0.752712</td></tr><tr><th>28</th><td>-0.00797481</td><td>-0.113393</td><td>-0.0165999</td><td>-0.156347</td><td>-0.0041072</td><td>-0.0221789</td><td>-0.247288</td></tr><tr><th>29</th><td>-0.00797481</td><td>-0.113393</td><td>-0.0165999</td><td>-0.156347</td><td>-0.0041072</td><td>-0.0221789</td><td>-0.247288</td></tr><tr><th>30</th><td>-0.00797481</td><td>-0.113393</td><td>-0.0165999</td><td>-0.156347</td><td>-0.0041072</td><td>-0.0221789</td><td>-0.247288</td></tr><tr><th>&vellip;</th><td>&vellip;</td><td>&vellip;</td><td>&vellip;</td><td>&vellip;</td><td>&vellip;</td><td>&vellip;</td><td>&vellip;</td></tr></tbody></table></div>"
      ],
      "text/latex": [
       "\\begin{tabular}{r|cccccccc}\n",
       "\t& widowed & divorced & separated & nevermarried & hsd08 & hsd911 & hsg & \\\\\n",
       "\t\\hline\n",
       "\t& Float64 & Float64 & Float64 & Float64 & Float64 & Float64 & Float64 & \\\\\n",
       "\t\\hline\n",
       "\t1 & -0.00797481 & -0.113393 & -0.0165999 & -0.156347 & -0.0041072 & -0.0221789 & -0.247288 & $\\dots$ \\\\\n",
       "\t2 & -0.00797481 & -0.113393 & -0.0165999 & -0.156347 & -0.0041072 & 0.977821 & -0.247288 & $\\dots$ \\\\\n",
       "\t3 & -0.00797481 & -0.113393 & -0.0165999 & -0.156347 & -0.0041072 & -0.0221789 & 0.752712 & $\\dots$ \\\\\n",
       "\t4 & -0.00797481 & -0.113393 & -0.0165999 & -0.156347 & -0.0041072 & -0.0221789 & 0.752712 & $\\dots$ \\\\\n",
       "\t5 & -0.00797481 & -0.113393 & -0.0165999 & -0.156347 & -0.0041072 & -0.0221789 & -0.247288 & $\\dots$ \\\\\n",
       "\t6 & -0.00797481 & -0.113393 & -0.0165999 & -0.156347 & -0.0041072 & -0.0221789 & 0.752712 & $\\dots$ \\\\\n",
       "\t7 & -0.00797481 & -0.113393 & -0.0165999 & 0.843653 & -0.0041072 & -0.0221789 & 0.752712 & $\\dots$ \\\\\n",
       "\t8 & -0.00797481 & -0.113393 & -0.0165999 & -0.156347 & -0.0041072 & -0.0221789 & -0.247288 & $\\dots$ \\\\\n",
       "\t9 & -0.00797481 & -0.113393 & -0.0165999 & -0.156347 & -0.0041072 & -0.0221789 & -0.247288 & $\\dots$ \\\\\n",
       "\t10 & -0.00797481 & -0.113393 & -0.0165999 & -0.156347 & -0.0041072 & -0.0221789 & -0.247288 & $\\dots$ \\\\\n",
       "\t11 & -0.00797481 & -0.113393 & -0.0165999 & -0.156347 & -0.0041072 & -0.0221789 & 0.752712 & $\\dots$ \\\\\n",
       "\t12 & -0.00797481 & -0.113393 & -0.0165999 & -0.156347 & -0.0041072 & -0.0221789 & -0.247288 & $\\dots$ \\\\\n",
       "\t13 & -0.00797481 & -0.113393 & -0.0165999 & -0.156347 & -0.0041072 & -0.0221789 & -0.247288 & $\\dots$ \\\\\n",
       "\t14 & -0.00797481 & -0.113393 & -0.0165999 & 0.843653 & -0.0041072 & -0.0221789 & -0.247288 & $\\dots$ \\\\\n",
       "\t15 & -0.00797481 & 0.886607 & -0.0165999 & -0.156347 & -0.0041072 & -0.0221789 & -0.247288 & $\\dots$ \\\\\n",
       "\t16 & -0.00797481 & -0.113393 & -0.0165999 & 0.843653 & -0.0041072 & -0.0221789 & -0.247288 & $\\dots$ \\\\\n",
       "\t17 & -0.00797481 & -0.113393 & -0.0165999 & -0.156347 & -0.0041072 & -0.0221789 & -0.247288 & $\\dots$ \\\\\n",
       "\t18 & -0.00797481 & -0.113393 & -0.0165999 & 0.843653 & -0.0041072 & -0.0221789 & -0.247288 & $\\dots$ \\\\\n",
       "\t19 & -0.00797481 & -0.113393 & -0.0165999 & -0.156347 & -0.0041072 & -0.0221789 & -0.247288 & $\\dots$ \\\\\n",
       "\t20 & -0.00797481 & -0.113393 & -0.0165999 & 0.843653 & -0.0041072 & -0.0221789 & -0.247288 & $\\dots$ \\\\\n",
       "\t21 & -0.00797481 & -0.113393 & -0.0165999 & -0.156347 & -0.0041072 & -0.0221789 & 0.752712 & $\\dots$ \\\\\n",
       "\t22 & -0.00797481 & -0.113393 & -0.0165999 & -0.156347 & -0.0041072 & -0.0221789 & -0.247288 & $\\dots$ \\\\\n",
       "\t23 & -0.00797481 & -0.113393 & -0.0165999 & -0.156347 & -0.0041072 & -0.0221789 & -0.247288 & $\\dots$ \\\\\n",
       "\t24 & -0.00797481 & -0.113393 & -0.0165999 & 0.843653 & -0.0041072 & -0.0221789 & -0.247288 & $\\dots$ \\\\\n",
       "\t25 & -0.00797481 & -0.113393 & -0.0165999 & 0.843653 & -0.0041072 & -0.0221789 & -0.247288 & $\\dots$ \\\\\n",
       "\t26 & -0.00797481 & -0.113393 & -0.0165999 & -0.156347 & -0.0041072 & -0.0221789 & -0.247288 & $\\dots$ \\\\\n",
       "\t27 & -0.00797481 & -0.113393 & -0.0165999 & -0.156347 & -0.0041072 & -0.0221789 & 0.752712 & $\\dots$ \\\\\n",
       "\t28 & -0.00797481 & -0.113393 & -0.0165999 & -0.156347 & -0.0041072 & -0.0221789 & -0.247288 & $\\dots$ \\\\\n",
       "\t29 & -0.00797481 & -0.113393 & -0.0165999 & -0.156347 & -0.0041072 & -0.0221789 & -0.247288 & $\\dots$ \\\\\n",
       "\t30 & -0.00797481 & -0.113393 & -0.0165999 & -0.156347 & -0.0041072 & -0.0221789 & -0.247288 & $\\dots$ \\\\\n",
       "\t$\\dots$ & $\\dots$ & $\\dots$ & $\\dots$ & $\\dots$ & $\\dots$ & $\\dots$ & $\\dots$ &  \\\\\n",
       "\\end{tabular}\n"
      ],
      "text/plain": [
       "\u001b[1m29217×100 DataFrame\u001b[0m\n",
       "\u001b[1m   Row \u001b[0m│\u001b[1m widowed     \u001b[0m\u001b[1m divorced  \u001b[0m\u001b[1m separated  \u001b[0m\u001b[1m nevermarried \u001b[0m\u001b[1m hsd08      \u001b[0m\u001b[1m hsd911 \u001b[0m ⋯\n",
       "\u001b[1m       \u001b[0m│\u001b[90m Float64     \u001b[0m\u001b[90m Float64   \u001b[0m\u001b[90m Float64    \u001b[0m\u001b[90m Float64      \u001b[0m\u001b[90m Float64    \u001b[0m\u001b[90m Float64\u001b[0m ⋯\n",
       "───────┼────────────────────────────────────────────────────────────────────────\n",
       "     1 │ -0.00797481  -0.113393  -0.0165999     -0.156347  -0.0041072  -0.0221 ⋯\n",
       "     2 │ -0.00797481  -0.113393  -0.0165999     -0.156347  -0.0041072   0.9778\n",
       "     3 │ -0.00797481  -0.113393  -0.0165999     -0.156347  -0.0041072  -0.0221\n",
       "     4 │ -0.00797481  -0.113393  -0.0165999     -0.156347  -0.0041072  -0.0221\n",
       "     5 │ -0.00797481  -0.113393  -0.0165999     -0.156347  -0.0041072  -0.0221 ⋯\n",
       "     6 │ -0.00797481  -0.113393  -0.0165999     -0.156347  -0.0041072  -0.0221\n",
       "     7 │ -0.00797481  -0.113393  -0.0165999      0.843653  -0.0041072  -0.0221\n",
       "     8 │ -0.00797481  -0.113393  -0.0165999     -0.156347  -0.0041072  -0.0221\n",
       "     9 │ -0.00797481  -0.113393  -0.0165999     -0.156347  -0.0041072  -0.0221 ⋯\n",
       "    10 │ -0.00797481  -0.113393  -0.0165999     -0.156347  -0.0041072  -0.0221\n",
       "    11 │ -0.00797481  -0.113393  -0.0165999     -0.156347  -0.0041072  -0.0221\n",
       "   ⋮   │      ⋮           ⋮          ⋮            ⋮            ⋮           ⋮   ⋱\n",
       " 29208 │ -0.00797481  -0.113393  -0.0165999      0.843653  -0.0041072  -0.0221\n",
       " 29209 │ -0.00797481  -0.113393  -0.0165999      0.843653  -0.0041072  -0.0221 ⋯\n",
       " 29210 │ -0.00797481  -0.113393  -0.0165999     -0.156347  -0.0041072  -0.0221\n",
       " 29211 │ -0.00797481  -0.113393  -0.0165999     -0.156347  -0.0041072  -0.0221\n",
       " 29212 │ -0.00797481  -0.113393  -0.0165999     -0.156347  -0.0041072  -0.0221\n",
       " 29213 │ -0.00797481  -0.113393  -0.0165999      0.843653  -0.0041072  -0.0221 ⋯\n",
       " 29214 │ -0.00797481  -0.113393  -0.0165999      0.843653  -0.0041072  -0.0221\n",
       " 29215 │ -0.00797481  -0.113393  -0.0165999     -0.156347  -0.0041072  -0.0221\n",
       " 29216 │ -0.00797481  -0.113393  -0.0165999     -0.156347  -0.0041072  -0.0221\n",
       " 29217 │ -0.00797481  -0.113393  -0.0165999     -0.156347  -0.0041072  -0.0221 ⋯\n",
       "\u001b[36m                                               95 columns and 29196 rows omitted\u001b[0m"
      ]
     },
     "execution_count": 25,
     "metadata": {},
     "output_type": "execute_result"
    }
   ],
   "source": [
    "# Control variables \n",
    "# do not considerate female and interactions variables\n",
    "W = select(X, Not(names(X)[index]))"
   ]
  },
  {
   "cell_type": "markdown",
   "id": "370f0e2c",
   "metadata": {},
   "source": [
    "## Partialling out (3 stages)\n",
    "\n",
    "We have the model:\n",
    "\n",
    "$ln(wage) = \\beta_1 + \\beta_2fem + \\beta_{3-17}(fem * D) + \\theta W + \\epsilon$ \n",
    "\n",
    "### First stage:\n",
    "Regress interest variable for covariates (W):\n",
    "\n",
    "Y ~ W.\n",
    "\n",
    "\n",
    "Then, we obtain $ \\hat{\\alpha_y} $ estimator, and we will use it to get residuals\n",
    "$ Y - \\hat{\\alpha_y} W =  \\hat{e_Y}$\n",
    "\n",
    "### Second stage:\n",
    "Regress regressors F (a matrix that contains fem and femxD) for covariates (W):\n",
    "\n",
    "F ~ W.\n",
    "Then, we obtain $ \\hat{\\alpha_f} $ estimator, and we will use it to get residuals\n",
    "$ F - \\hat{\\alpha_f} W =  \\hat{e_F}$\n",
    "\n",
    "### Third stage:\n",
    "\n",
    "Regress the residuals from F to Y, and get the $\\hat{\\beta}$ for each of F in the original equation.\n",
    "\n"
   ]
  },
  {
   "cell_type": "code",
   "execution_count": 40,
   "id": "6094c319",
   "metadata": {},
   "outputs": [
    {
     "ename": "LoadError",
     "evalue": "UndefVarError: rlasso_arg not defined",
     "output_type": "error",
     "traceback": [
      "UndefVarError: rlasso_arg not defined",
      "",
      "Stacktrace:",
      " [1] top-level scope",
      "   @ .\\In[40]:12",
      " [2] eval",
      "   @ .\\boot.jl:373 [inlined]",
      " [3] include_string(mapexpr::typeof(REPL.softscope), mod::Module, code::String, filename::String)",
      "   @ Base .\\loading.jl:1196"
     ]
    }
   ],
   "source": [
    "\n",
    "\n",
    "table = NamedArray(zeros(16, 2))\n",
    "\n",
    "j = 0\n",
    "\n",
    "for i in 1:length(index)\n",
    "\n",
    "j = j + 1\n",
    "    \n",
    "#first step\n",
    "D = select(X, names(X)[index[i]])\n",
    "    \n",
    "D_reg_0  = rlasso_arg( W, D, nothing, true, true, true, false, false, \n",
    "                    nothing, 1.1, nothing, 5000, 15, 10^(-5), -Inf, true, Inf, true )\n",
    "\n",
    "\n",
    "D_resid[!,j] = rlasso(D_reg_0)[\"residuals\"]\n",
    "\n",
    "#second step\n",
    "    \n",
    "# third step\n",
    "    \n",
    "#Lasso_HDM = lm(D_resid, Y_resid)\n",
    "\n",
    "#table[j,1] = GLM.coeftable(Lasso_HDM).cols[5][1]\n",
    "#table[j,2] = GLM.coeftable(Lasso_HDM).cols[6][1]\n",
    "\n",
    "    \n",
    "end"
   ]
  },
  {
   "cell_type": "code",
   "execution_count": null,
   "id": "899e0352",
   "metadata": {},
   "outputs": [],
   "source": []
  }
 ],
 "metadata": {
  "kernelspec": {
   "display_name": "Julia 1.7.2",
   "language": "julia",
   "name": "julia-1.7"
  },
  "language_info": {
   "file_extension": ".jl",
   "mimetype": "application/julia",
   "name": "julia",
   "version": "1.7.2"
  }
 },
 "nbformat": 4,
 "nbformat_minor": 5
}
