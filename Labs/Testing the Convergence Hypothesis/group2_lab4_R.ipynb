{
 "cells": [
  {
   "cell_type": "markdown",
   "id": "203e3efe",
   "metadata": {},
   "source": [
    "Explain what is the Double Lasso Approach in a markdown cell. Use equations for a better explanation."
   ]
  },
  {
   "cell_type": "markdown",
   "id": "c0fcc326",
   "metadata": {},
   "source": [
    "## Double Lasso - Testing the Convergence Hypothesis"
   ]
  },
  {
   "cell_type": "markdown",
   "id": "9ef7d3b0",
   "metadata": {},
   "source": [
    "### Introduction"
   ]
  },
  {
   "cell_type": "markdown",
   "id": "86403712",
   "metadata": {},
   "source": [
    "We provide an additional empirical example of partialling-out with Lasso to estimate the regression coefficient $\\beta_1$ in the high-dimensional linear regression model:\n",
    "  $$\n",
    "  Y = \\beta_1 D +  \\beta_2'W + \\epsilon.\n",
    "  $$\n",
    "  \n",
    "Specifically, we are interested in how the rates  at which economies of different countries grow ($Y$) are related to the initial wealth levels in each country ($D$) controlling for country's institutional, educational, and other similar characteristics ($W$).\n",
    "  \n",
    "The relationship is captured by $\\beta_1$, the *speed of convergence/divergence*, which measures the speed at which poor countries catch up $(\\beta_1< 0)$ or fall behind $(\\beta_1> 0)$ rich countries, after controlling for $W$. Our inference question here is: do poor countries grow faster than rich countries, controlling for educational and other characteristics? In other words, is the speed of convergence negative: $ \\beta_1 <0?$ This is the Convergence Hypothesis predicted by the Solow Growth Model. This is a structural economic model. Under some strong assumptions, that we won't state here, the predictive exercise we are doing here can be given causal interpretation."
   ]
  },
  {
   "cell_type": "markdown",
   "id": "073b9974",
   "metadata": {},
   "source": [
    "The outcome $Y$ is the realized annual growth rate of a country's wealth  (Gross Domestic Product per capita). The target regressor ($D$) is the initial level of the country's wealth. The target parameter $\\beta_1$ is the speed of convergence, which measures the speed at which poor countries catch up with rich countries. The controls ($W$) include measures of education levels, quality of institutions, trade openness, and political stability in the country."
   ]
  },
  {
   "cell_type": "markdown",
   "id": "97db2d88",
   "metadata": {},
   "source": [
    "### Data analysis"
   ]
  },
  {
   "cell_type": "markdown",
   "id": "e8cfbf07",
   "metadata": {},
   "source": [
    "We consider the data set GrowthData which is included in the package hdm. First, let us load the data set to get familiar with the data."
   ]
  },
  {
   "cell_type": "code",
   "execution_count": 1,
   "id": "a1d8cd34",
   "metadata": {},
   "outputs": [],
   "source": [
    "library(hdm)\n",
    "library(xtable)"
   ]
  },
  {
   "cell_type": "code",
   "execution_count": 2,
   "id": "14bc2cb2",
   "metadata": {},
   "outputs": [],
   "source": [
    "# Export data to read in python\n",
    "GrowthData <- GrowthData\n",
    "save(GrowthData, file = \"C:/Users/Alvaro/Documents/ML/data/GrowthData.RData\")"
   ]
  },
  {
   "cell_type": "code",
   "execution_count": 3,
   "id": "44b0d604",
   "metadata": {},
   "outputs": [
    {
     "data": {
      "text/html": [
       "<table class=\"dataframe\">\n",
       "<caption>A data.frame: 6 × 63</caption>\n",
       "<thead>\n",
       "\t<tr><th></th><th scope=col>Outcome</th><th scope=col>intercept</th><th scope=col>gdpsh465</th><th scope=col>bmp1l</th><th scope=col>freeop</th><th scope=col>freetar</th><th scope=col>h65</th><th scope=col>hm65</th><th scope=col>hf65</th><th scope=col>p65</th><th scope=col>...</th><th scope=col>seccf65</th><th scope=col>syr65</th><th scope=col>syrm65</th><th scope=col>syrf65</th><th scope=col>teapri65</th><th scope=col>teasec65</th><th scope=col>ex1</th><th scope=col>im1</th><th scope=col>xr65</th><th scope=col>tot1</th></tr>\n",
       "\t<tr><th></th><th scope=col>&lt;dbl&gt;</th><th scope=col>&lt;int&gt;</th><th scope=col>&lt;dbl&gt;</th><th scope=col>&lt;dbl&gt;</th><th scope=col>&lt;dbl&gt;</th><th scope=col>&lt;dbl&gt;</th><th scope=col>&lt;dbl&gt;</th><th scope=col>&lt;dbl&gt;</th><th scope=col>&lt;dbl&gt;</th><th scope=col>&lt;dbl&gt;</th><th scope=col>...</th><th scope=col>&lt;dbl&gt;</th><th scope=col>&lt;dbl&gt;</th><th scope=col>&lt;dbl&gt;</th><th scope=col>&lt;dbl&gt;</th><th scope=col>&lt;dbl&gt;</th><th scope=col>&lt;dbl&gt;</th><th scope=col>&lt;dbl&gt;</th><th scope=col>&lt;dbl&gt;</th><th scope=col>&lt;dbl&gt;</th><th scope=col>&lt;dbl&gt;</th></tr>\n",
       "</thead>\n",
       "<tbody>\n",
       "\t<tr><th scope=row>1</th><td>-0.02433575</td><td>1</td><td>6.591674</td><td>0.2837</td><td>0.153491</td><td>0.043888</td><td>0.007</td><td>0.013</td><td>0.001</td><td>0.29</td><td>...</td><td> 0.04</td><td>0.033</td><td>0.057</td><td>0.010</td><td>47.6</td><td>17.3</td><td>0.0729</td><td>0.0667</td><td>0.348</td><td>-0.014727</td></tr>\n",
       "\t<tr><th scope=row>2</th><td> 0.10047257</td><td>1</td><td>6.829794</td><td>0.6141</td><td>0.313509</td><td>0.061827</td><td>0.019</td><td>0.032</td><td>0.007</td><td>0.91</td><td>...</td><td> 0.64</td><td>0.173</td><td>0.274</td><td>0.067</td><td>57.1</td><td>18.0</td><td>0.0940</td><td>0.1438</td><td>0.525</td><td> 0.005750</td></tr>\n",
       "\t<tr><th scope=row>3</th><td> 0.06705148</td><td>1</td><td>8.895082</td><td>0.0000</td><td>0.204244</td><td>0.009186</td><td>0.260</td><td>0.325</td><td>0.201</td><td>1.00</td><td>...</td><td>18.14</td><td>2.573</td><td>2.478</td><td>2.667</td><td>26.5</td><td>20.7</td><td>0.1741</td><td>0.1750</td><td>1.082</td><td>-0.010040</td></tr>\n",
       "\t<tr><th scope=row>4</th><td> 0.06408917</td><td>1</td><td>7.565275</td><td>0.1997</td><td>0.248714</td><td>0.036270</td><td>0.061</td><td>0.070</td><td>0.051</td><td>1.00</td><td>...</td><td> 2.63</td><td>0.438</td><td>0.453</td><td>0.424</td><td>27.8</td><td>22.7</td><td>0.1265</td><td>0.1496</td><td>6.625</td><td>-0.002195</td></tr>\n",
       "\t<tr><th scope=row>5</th><td> 0.02792955</td><td>1</td><td>7.162397</td><td>0.1740</td><td>0.299252</td><td>0.037367</td><td>0.017</td><td>0.027</td><td>0.007</td><td>0.82</td><td>...</td><td> 2.11</td><td>0.257</td><td>0.287</td><td>0.229</td><td>34.5</td><td>17.6</td><td>0.1211</td><td>0.1308</td><td>2.500</td><td> 0.003283</td></tr>\n",
       "\t<tr><th scope=row>6</th><td> 0.04640744</td><td>1</td><td>7.218910</td><td>0.0000</td><td>0.258865</td><td>0.020880</td><td>0.023</td><td>0.038</td><td>0.006</td><td>0.50</td><td>...</td><td> 1.46</td><td>0.160</td><td>0.174</td><td>0.146</td><td>34.3</td><td> 8.1</td><td>0.0634</td><td>0.0762</td><td>1.000</td><td>-0.001747</td></tr>\n",
       "</tbody>\n",
       "</table>\n"
      ],
      "text/latex": [
       "A data.frame: 6 × 63\n",
       "\\begin{tabular}{r|lllllllllllllllllllll}\n",
       "  & Outcome & intercept & gdpsh465 & bmp1l & freeop & freetar & h65 & hm65 & hf65 & p65 & ... & seccf65 & syr65 & syrm65 & syrf65 & teapri65 & teasec65 & ex1 & im1 & xr65 & tot1\\\\\n",
       "  & <dbl> & <int> & <dbl> & <dbl> & <dbl> & <dbl> & <dbl> & <dbl> & <dbl> & <dbl> & ... & <dbl> & <dbl> & <dbl> & <dbl> & <dbl> & <dbl> & <dbl> & <dbl> & <dbl> & <dbl>\\\\\n",
       "\\hline\n",
       "\t1 & -0.02433575 & 1 & 6.591674 & 0.2837 & 0.153491 & 0.043888 & 0.007 & 0.013 & 0.001 & 0.29 & ... &  0.04 & 0.033 & 0.057 & 0.010 & 47.6 & 17.3 & 0.0729 & 0.0667 & 0.348 & -0.014727\\\\\n",
       "\t2 &  0.10047257 & 1 & 6.829794 & 0.6141 & 0.313509 & 0.061827 & 0.019 & 0.032 & 0.007 & 0.91 & ... &  0.64 & 0.173 & 0.274 & 0.067 & 57.1 & 18.0 & 0.0940 & 0.1438 & 0.525 &  0.005750\\\\\n",
       "\t3 &  0.06705148 & 1 & 8.895082 & 0.0000 & 0.204244 & 0.009186 & 0.260 & 0.325 & 0.201 & 1.00 & ... & 18.14 & 2.573 & 2.478 & 2.667 & 26.5 & 20.7 & 0.1741 & 0.1750 & 1.082 & -0.010040\\\\\n",
       "\t4 &  0.06408917 & 1 & 7.565275 & 0.1997 & 0.248714 & 0.036270 & 0.061 & 0.070 & 0.051 & 1.00 & ... &  2.63 & 0.438 & 0.453 & 0.424 & 27.8 & 22.7 & 0.1265 & 0.1496 & 6.625 & -0.002195\\\\\n",
       "\t5 &  0.02792955 & 1 & 7.162397 & 0.1740 & 0.299252 & 0.037367 & 0.017 & 0.027 & 0.007 & 0.82 & ... &  2.11 & 0.257 & 0.287 & 0.229 & 34.5 & 17.6 & 0.1211 & 0.1308 & 2.500 &  0.003283\\\\\n",
       "\t6 &  0.04640744 & 1 & 7.218910 & 0.0000 & 0.258865 & 0.020880 & 0.023 & 0.038 & 0.006 & 0.50 & ... &  1.46 & 0.160 & 0.174 & 0.146 & 34.3 &  8.1 & 0.0634 & 0.0762 & 1.000 & -0.001747\\\\\n",
       "\\end{tabular}\n"
      ],
      "text/markdown": [
       "\n",
       "A data.frame: 6 × 63\n",
       "\n",
       "| <!--/--> | Outcome &lt;dbl&gt; | intercept &lt;int&gt; | gdpsh465 &lt;dbl&gt; | bmp1l &lt;dbl&gt; | freeop &lt;dbl&gt; | freetar &lt;dbl&gt; | h65 &lt;dbl&gt; | hm65 &lt;dbl&gt; | hf65 &lt;dbl&gt; | p65 &lt;dbl&gt; | ... ... | seccf65 &lt;dbl&gt; | syr65 &lt;dbl&gt; | syrm65 &lt;dbl&gt; | syrf65 &lt;dbl&gt; | teapri65 &lt;dbl&gt; | teasec65 &lt;dbl&gt; | ex1 &lt;dbl&gt; | im1 &lt;dbl&gt; | xr65 &lt;dbl&gt; | tot1 &lt;dbl&gt; |\n",
       "|---|---|---|---|---|---|---|---|---|---|---|---|---|---|---|---|---|---|---|---|---|---|\n",
       "| 1 | -0.02433575 | 1 | 6.591674 | 0.2837 | 0.153491 | 0.043888 | 0.007 | 0.013 | 0.001 | 0.29 | ... |  0.04 | 0.033 | 0.057 | 0.010 | 47.6 | 17.3 | 0.0729 | 0.0667 | 0.348 | -0.014727 |\n",
       "| 2 |  0.10047257 | 1 | 6.829794 | 0.6141 | 0.313509 | 0.061827 | 0.019 | 0.032 | 0.007 | 0.91 | ... |  0.64 | 0.173 | 0.274 | 0.067 | 57.1 | 18.0 | 0.0940 | 0.1438 | 0.525 |  0.005750 |\n",
       "| 3 |  0.06705148 | 1 | 8.895082 | 0.0000 | 0.204244 | 0.009186 | 0.260 | 0.325 | 0.201 | 1.00 | ... | 18.14 | 2.573 | 2.478 | 2.667 | 26.5 | 20.7 | 0.1741 | 0.1750 | 1.082 | -0.010040 |\n",
       "| 4 |  0.06408917 | 1 | 7.565275 | 0.1997 | 0.248714 | 0.036270 | 0.061 | 0.070 | 0.051 | 1.00 | ... |  2.63 | 0.438 | 0.453 | 0.424 | 27.8 | 22.7 | 0.1265 | 0.1496 | 6.625 | -0.002195 |\n",
       "| 5 |  0.02792955 | 1 | 7.162397 | 0.1740 | 0.299252 | 0.037367 | 0.017 | 0.027 | 0.007 | 0.82 | ... |  2.11 | 0.257 | 0.287 | 0.229 | 34.5 | 17.6 | 0.1211 | 0.1308 | 2.500 |  0.003283 |\n",
       "| 6 |  0.04640744 | 1 | 7.218910 | 0.0000 | 0.258865 | 0.020880 | 0.023 | 0.038 | 0.006 | 0.50 | ... |  1.46 | 0.160 | 0.174 | 0.146 | 34.3 |  8.1 | 0.0634 | 0.0762 | 1.000 | -0.001747 |\n",
       "\n"
      ],
      "text/plain": [
       "  Outcome     intercept gdpsh465 bmp1l  freeop   freetar  h65   hm65  hf65 \n",
       "1 -0.02433575 1         6.591674 0.2837 0.153491 0.043888 0.007 0.013 0.001\n",
       "2  0.10047257 1         6.829794 0.6141 0.313509 0.061827 0.019 0.032 0.007\n",
       "3  0.06705148 1         8.895082 0.0000 0.204244 0.009186 0.260 0.325 0.201\n",
       "4  0.06408917 1         7.565275 0.1997 0.248714 0.036270 0.061 0.070 0.051\n",
       "5  0.02792955 1         7.162397 0.1740 0.299252 0.037367 0.017 0.027 0.007\n",
       "6  0.04640744 1         7.218910 0.0000 0.258865 0.020880 0.023 0.038 0.006\n",
       "  p65  ... seccf65 syr65 syrm65 syrf65 teapri65 teasec65 ex1    im1    xr65 \n",
       "1 0.29 ...  0.04   0.033 0.057  0.010  47.6     17.3     0.0729 0.0667 0.348\n",
       "2 0.91 ...  0.64   0.173 0.274  0.067  57.1     18.0     0.0940 0.1438 0.525\n",
       "3 1.00 ... 18.14   2.573 2.478  2.667  26.5     20.7     0.1741 0.1750 1.082\n",
       "4 1.00 ...  2.63   0.438 0.453  0.424  27.8     22.7     0.1265 0.1496 6.625\n",
       "5 0.82 ...  2.11   0.257 0.287  0.229  34.5     17.6     0.1211 0.1308 2.500\n",
       "6 0.50 ...  1.46   0.160 0.174  0.146  34.3      8.1     0.0634 0.0762 1.000\n",
       "  tot1     \n",
       "1 -0.014727\n",
       "2  0.005750\n",
       "3 -0.010040\n",
       "4 -0.002195\n",
       "5  0.003283\n",
       "6 -0.001747"
      ]
     },
     "metadata": {},
     "output_type": "display_data"
    }
   ],
   "source": [
    "head(GrowthData)"
   ]
  },
  {
   "cell_type": "code",
   "execution_count": 4,
   "id": "ec7a5b97",
   "metadata": {},
   "outputs": [
    {
     "data": {
      "text/html": [
       "<style>\n",
       ".list-inline {list-style: none; margin:0; padding: 0}\n",
       ".list-inline>li {display: inline-block}\n",
       ".list-inline>li:not(:last-child)::after {content: \"\\00b7\"; padding: 0 .5ex}\n",
       "</style>\n",
       "<ol class=list-inline><li>'Outcome'</li><li>'intercept'</li><li>'gdpsh465'</li><li>'bmp1l'</li><li>'freeop'</li><li>'freetar'</li><li>'h65'</li><li>'hm65'</li><li>'hf65'</li><li>'p65'</li><li>'pm65'</li><li>'pf65'</li><li>'s65'</li><li>'sm65'</li><li>'sf65'</li><li>'fert65'</li><li>'mort65'</li><li>'lifee065'</li><li>'gpop1'</li><li>'fert1'</li><li>'mort1'</li><li>'invsh41'</li><li>'geetot1'</li><li>'geerec1'</li><li>'gde1'</li><li>'govwb1'</li><li>'govsh41'</li><li>'gvxdxe41'</li><li>'high65'</li><li>'highm65'</li><li>'highf65'</li><li>'highc65'</li><li>'highcm65'</li><li>'highcf65'</li><li>'human65'</li><li>'humanm65'</li><li>'humanf65'</li><li>'hyr65'</li><li>'hyrm65'</li><li>'hyrf65'</li><li>'no65'</li><li>'nom65'</li><li>'nof65'</li><li>'pinstab1'</li><li>'pop65'</li><li>'worker65'</li><li>'pop1565'</li><li>'pop6565'</li><li>'sec65'</li><li>'secm65'</li><li>'secf65'</li><li>'secc65'</li><li>'seccm65'</li><li>'seccf65'</li><li>'syr65'</li><li>'syrm65'</li><li>'syrf65'</li><li>'teapri65'</li><li>'teasec65'</li><li>'ex1'</li><li>'im1'</li><li>'xr65'</li><li>'tot1'</li></ol>\n"
      ],
      "text/latex": [
       "\\begin{enumerate*}\n",
       "\\item 'Outcome'\n",
       "\\item 'intercept'\n",
       "\\item 'gdpsh465'\n",
       "\\item 'bmp1l'\n",
       "\\item 'freeop'\n",
       "\\item 'freetar'\n",
       "\\item 'h65'\n",
       "\\item 'hm65'\n",
       "\\item 'hf65'\n",
       "\\item 'p65'\n",
       "\\item 'pm65'\n",
       "\\item 'pf65'\n",
       "\\item 's65'\n",
       "\\item 'sm65'\n",
       "\\item 'sf65'\n",
       "\\item 'fert65'\n",
       "\\item 'mort65'\n",
       "\\item 'lifee065'\n",
       "\\item 'gpop1'\n",
       "\\item 'fert1'\n",
       "\\item 'mort1'\n",
       "\\item 'invsh41'\n",
       "\\item 'geetot1'\n",
       "\\item 'geerec1'\n",
       "\\item 'gde1'\n",
       "\\item 'govwb1'\n",
       "\\item 'govsh41'\n",
       "\\item 'gvxdxe41'\n",
       "\\item 'high65'\n",
       "\\item 'highm65'\n",
       "\\item 'highf65'\n",
       "\\item 'highc65'\n",
       "\\item 'highcm65'\n",
       "\\item 'highcf65'\n",
       "\\item 'human65'\n",
       "\\item 'humanm65'\n",
       "\\item 'humanf65'\n",
       "\\item 'hyr65'\n",
       "\\item 'hyrm65'\n",
       "\\item 'hyrf65'\n",
       "\\item 'no65'\n",
       "\\item 'nom65'\n",
       "\\item 'nof65'\n",
       "\\item 'pinstab1'\n",
       "\\item 'pop65'\n",
       "\\item 'worker65'\n",
       "\\item 'pop1565'\n",
       "\\item 'pop6565'\n",
       "\\item 'sec65'\n",
       "\\item 'secm65'\n",
       "\\item 'secf65'\n",
       "\\item 'secc65'\n",
       "\\item 'seccm65'\n",
       "\\item 'seccf65'\n",
       "\\item 'syr65'\n",
       "\\item 'syrm65'\n",
       "\\item 'syrf65'\n",
       "\\item 'teapri65'\n",
       "\\item 'teasec65'\n",
       "\\item 'ex1'\n",
       "\\item 'im1'\n",
       "\\item 'xr65'\n",
       "\\item 'tot1'\n",
       "\\end{enumerate*}\n"
      ],
      "text/markdown": [
       "1. 'Outcome'\n",
       "2. 'intercept'\n",
       "3. 'gdpsh465'\n",
       "4. 'bmp1l'\n",
       "5. 'freeop'\n",
       "6. 'freetar'\n",
       "7. 'h65'\n",
       "8. 'hm65'\n",
       "9. 'hf65'\n",
       "10. 'p65'\n",
       "11. 'pm65'\n",
       "12. 'pf65'\n",
       "13. 's65'\n",
       "14. 'sm65'\n",
       "15. 'sf65'\n",
       "16. 'fert65'\n",
       "17. 'mort65'\n",
       "18. 'lifee065'\n",
       "19. 'gpop1'\n",
       "20. 'fert1'\n",
       "21. 'mort1'\n",
       "22. 'invsh41'\n",
       "23. 'geetot1'\n",
       "24. 'geerec1'\n",
       "25. 'gde1'\n",
       "26. 'govwb1'\n",
       "27. 'govsh41'\n",
       "28. 'gvxdxe41'\n",
       "29. 'high65'\n",
       "30. 'highm65'\n",
       "31. 'highf65'\n",
       "32. 'highc65'\n",
       "33. 'highcm65'\n",
       "34. 'highcf65'\n",
       "35. 'human65'\n",
       "36. 'humanm65'\n",
       "37. 'humanf65'\n",
       "38. 'hyr65'\n",
       "39. 'hyrm65'\n",
       "40. 'hyrf65'\n",
       "41. 'no65'\n",
       "42. 'nom65'\n",
       "43. 'nof65'\n",
       "44. 'pinstab1'\n",
       "45. 'pop65'\n",
       "46. 'worker65'\n",
       "47. 'pop1565'\n",
       "48. 'pop6565'\n",
       "49. 'sec65'\n",
       "50. 'secm65'\n",
       "51. 'secf65'\n",
       "52. 'secc65'\n",
       "53. 'seccm65'\n",
       "54. 'seccf65'\n",
       "55. 'syr65'\n",
       "56. 'syrm65'\n",
       "57. 'syrf65'\n",
       "58. 'teapri65'\n",
       "59. 'teasec65'\n",
       "60. 'ex1'\n",
       "61. 'im1'\n",
       "62. 'xr65'\n",
       "63. 'tot1'\n",
       "\n",
       "\n"
      ],
      "text/plain": [
       " [1] \"Outcome\"   \"intercept\" \"gdpsh465\"  \"bmp1l\"     \"freeop\"    \"freetar\"  \n",
       " [7] \"h65\"       \"hm65\"      \"hf65\"      \"p65\"       \"pm65\"      \"pf65\"     \n",
       "[13] \"s65\"       \"sm65\"      \"sf65\"      \"fert65\"    \"mort65\"    \"lifee065\" \n",
       "[19] \"gpop1\"     \"fert1\"     \"mort1\"     \"invsh41\"   \"geetot1\"   \"geerec1\"  \n",
       "[25] \"gde1\"      \"govwb1\"    \"govsh41\"   \"gvxdxe41\"  \"high65\"    \"highm65\"  \n",
       "[31] \"highf65\"   \"highc65\"   \"highcm65\"  \"highcf65\"  \"human65\"   \"humanm65\" \n",
       "[37] \"humanf65\"  \"hyr65\"     \"hyrm65\"    \"hyrf65\"    \"no65\"      \"nom65\"    \n",
       "[43] \"nof65\"     \"pinstab1\"  \"pop65\"     \"worker65\"  \"pop1565\"   \"pop6565\"  \n",
       "[49] \"sec65\"     \"secm65\"    \"secf65\"    \"secc65\"    \"seccm65\"   \"seccf65\"  \n",
       "[55] \"syr65\"     \"syrm65\"    \"syrf65\"    \"teapri65\"  \"teasec65\"  \"ex1\"      \n",
       "[61] \"im1\"       \"xr65\"      \"tot1\"     "
      ]
     },
     "metadata": {},
     "output_type": "display_data"
    }
   ],
   "source": [
    "growth <- GrowthData\n",
    "attach(growth)\n",
    "names(growth)"
   ]
  },
  {
   "cell_type": "code",
   "execution_count": 5,
   "id": "c2e416e8",
   "metadata": {},
   "outputs": [
    {
     "data": {
      "text/html": [
       "<style>\n",
       ".list-inline {list-style: none; margin:0; padding: 0}\n",
       ".list-inline>li {display: inline-block}\n",
       ".list-inline>li:not(:last-child)::after {content: \"\\00b7\"; padding: 0 .5ex}\n",
       "</style>\n",
       "<ol class=list-inline><li>90</li><li>63</li></ol>\n"
      ],
      "text/latex": [
       "\\begin{enumerate*}\n",
       "\\item 90\n",
       "\\item 63\n",
       "\\end{enumerate*}\n"
      ],
      "text/markdown": [
       "1. 90\n",
       "2. 63\n",
       "\n",
       "\n"
      ],
      "text/plain": [
       "[1] 90 63"
      ]
     },
     "metadata": {},
     "output_type": "display_data"
    }
   ],
   "source": [
    "dim(growth)"
   ]
  },
  {
   "cell_type": "markdown",
   "id": "d7ca2453",
   "metadata": {},
   "source": [
    "### Methods"
   ]
  },
  {
   "cell_type": "markdown",
   "id": "59e5ea58",
   "metadata": {},
   "source": [
    "The sample contains $90$ countries and $63$ controls. Thus $p \\approx 60$, $n=90$ and $p/n$ is not small. We expect the least squares method to provide a poor estimate of $\\beta_1$.  We expect the method based on partialling-out with Lasso to provide a high quality estimate of $\\beta_1$."
   ]
  },
  {
   "cell_type": "markdown",
   "id": "a6cd26ff",
   "metadata": {},
   "source": [
    "To check this hypothesis, we analyze the relation between the output variable $Y$ and the other country's characteristics by running a linear regression in the first step."
   ]
  },
  {
   "cell_type": "markdown",
   "id": "eb2e513b",
   "metadata": {},
   "source": [
    "## 1. OLS"
   ]
  },
  {
   "cell_type": "code",
   "execution_count": 6,
   "id": "654ea228",
   "metadata": {},
   "outputs": [
    {
     "data": {
      "text/plain": [
       "\n",
       "Call:\n",
       "lm(formula = Outcome ~ . - 1, data = growth)\n",
       "\n",
       "Residuals:\n",
       "      Min        1Q    Median        3Q       Max \n",
       "-0.040338 -0.011298 -0.000863  0.011813  0.043247 \n",
       "\n",
       "Coefficients:\n",
       "            Estimate Std. Error t value Pr(>|t|)   \n",
       "intercept  2.472e-01  7.845e-01   0.315  0.75506   \n",
       "gdpsh465  -9.378e-03  2.989e-02  -0.314  0.75602   \n",
       "bmp1l     -6.886e-02  3.253e-02  -2.117  0.04329 * \n",
       "freeop     8.007e-02  2.079e-01   0.385  0.70300   \n",
       "freetar   -4.890e-01  4.182e-01  -1.169  0.25214   \n",
       "h65       -2.362e+00  8.573e-01  -2.755  0.01019 * \n",
       "hm65       7.071e-01  5.231e-01   1.352  0.18729   \n",
       "hf65       1.693e+00  5.032e-01   3.365  0.00223 **\n",
       "p65        2.655e-01  1.643e-01   1.616  0.11727   \n",
       "pm65       1.370e-01  1.512e-01   0.906  0.37284   \n",
       "pf65      -3.313e-01  1.651e-01  -2.006  0.05458 . \n",
       "s65        3.908e-02  1.855e-01   0.211  0.83469   \n",
       "sm65      -3.067e-02  1.168e-01  -0.263  0.79479   \n",
       "sf65      -1.799e-01  1.181e-01  -1.523  0.13886   \n",
       "fert65     6.881e-03  2.705e-02   0.254  0.80108   \n",
       "mort65    -2.335e-01  8.174e-01  -0.286  0.77729   \n",
       "lifee065  -1.491e-02  1.933e-01  -0.077  0.93906   \n",
       "gpop1      9.702e-01  1.812e+00   0.535  0.59663   \n",
       "fert1      8.838e-03  3.504e-02   0.252  0.80271   \n",
       "mort1      6.656e-02  6.848e-01   0.097  0.92326   \n",
       "invsh41    7.446e-02  1.084e-01   0.687  0.49797   \n",
       "geetot1   -7.151e-01  1.680e+00  -0.426  0.67364   \n",
       "geerec1    6.300e-01  2.447e+00   0.257  0.79874   \n",
       "gde1      -4.436e-01  1.671e+00  -0.265  0.79263   \n",
       "govwb1     3.375e-01  4.380e-01   0.770  0.44748   \n",
       "govsh41    4.632e-01  1.925e+00   0.241  0.81165   \n",
       "gvxdxe41  -7.934e-01  2.059e+00  -0.385  0.70296   \n",
       "high65    -7.525e-01  9.057e-01  -0.831  0.41311   \n",
       "highm65   -3.903e-01  6.812e-01  -0.573  0.57131   \n",
       "highf65   -4.177e-01  5.615e-01  -0.744  0.46308   \n",
       "highc65   -2.216e+00  1.481e+00  -1.496  0.14575   \n",
       "highcm65   2.797e-01  6.582e-01   0.425  0.67412   \n",
       "highcf65   3.921e-01  7.660e-01   0.512  0.61278   \n",
       "human65    2.337e+00  3.307e+00   0.707  0.48559   \n",
       "humanm65  -1.209e+00  1.619e+00  -0.747  0.46121   \n",
       "humanf65  -1.104e+00  1.685e+00  -0.655  0.51763   \n",
       "hyr65      5.491e+01  2.389e+01   2.299  0.02918 * \n",
       "hyrm65     1.294e+01  2.317e+01   0.558  0.58112   \n",
       "hyrf65     9.093e+00  1.767e+01   0.515  0.61088   \n",
       "no65       3.721e-02  1.320e-01   0.282  0.78006   \n",
       "nom65     -2.120e-02  6.496e-02  -0.326  0.74661   \n",
       "nof65     -1.686e-02  6.700e-02  -0.252  0.80319   \n",
       "pinstab1  -4.997e-02  3.092e-02  -1.616  0.11729   \n",
       "pop65      1.032e-07  1.318e-07   0.783  0.44027   \n",
       "worker65   3.408e-02  1.562e-01   0.218  0.82887   \n",
       "pop1565   -4.655e-01  4.713e-01  -0.988  0.33176   \n",
       "pop6565   -1.357e+00  6.349e-01  -2.138  0.04139 * \n",
       "sec65     -1.089e-02  3.077e-01  -0.035  0.97201   \n",
       "secm65     3.344e-03  1.512e-01   0.022  0.98251   \n",
       "secf65    -2.304e-03  1.580e-01  -0.015  0.98847   \n",
       "secc65    -4.915e-01  7.290e-01  -0.674  0.50570   \n",
       "seccm65    2.596e-01  3.557e-01   0.730  0.47150   \n",
       "seccf65    2.207e-01  3.733e-01   0.591  0.55924   \n",
       "syr65     -7.556e-01  7.977e+00  -0.095  0.92521   \n",
       "syrm65     3.109e-01  3.897e+00   0.080  0.93698   \n",
       "syrf65     7.593e-01  4.111e+00   0.185  0.85479   \n",
       "teapri65   3.955e-05  7.700e-04   0.051  0.95941   \n",
       "teasec65   2.497e-04  1.171e-03   0.213  0.83274   \n",
       "ex1       -5.804e-01  2.418e-01  -2.400  0.02329 * \n",
       "im1        5.914e-01  2.503e-01   2.363  0.02531 * \n",
       "xr65      -1.038e-04  5.417e-05  -1.916  0.06565 . \n",
       "tot1      -1.279e-01  1.126e-01  -1.136  0.26561   \n",
       "---\n",
       "Signif. codes:  0 '***' 0.001 '**' 0.01 '*' 0.05 '.' 0.1 ' ' 1\n",
       "\n",
       "Residual standard error: 0.03074 on 28 degrees of freedom\n",
       "Multiple R-squared:  0.9369,\tAdjusted R-squared:  0.7973 \n",
       "F-statistic: 6.708 on 62 and 28 DF,  p-value: 2.963e-07\n"
      ]
     },
     "metadata": {},
     "output_type": "display_data"
    }
   ],
   "source": [
    "reg.ols <- lm(Outcome~.-1,data=growth)\n",
    "summary(reg.ols)"
   ]
  },
  {
   "cell_type": "code",
   "execution_count": 7,
   "id": "164e500a",
   "metadata": {},
   "outputs": [],
   "source": [
    "est_ols <- summary(reg.ols)$coef[\"gdpsh465\",1]\n",
    "# output: estimated regression coefficient corresponding to the target regressor\n",
    "\n",
    "std_ols <- summary(reg.ols)$coef[\"gdpsh465\",2]\n",
    "# output: std. error\n",
    "\n",
    "ci_ols <- confint(reg.ols)[2,]\n",
    "# output: 95% confidence interval\n",
    "\n",
    "results_ols <- as.data.frame(cbind(est_ols,std_ols,ci_ols[1],ci_ols[2]))\n",
    "colnames(results_ols) <-c(\"estimator\",\"standard error\", \"lower bound CI\", \"upper bound CI\")\n",
    "rownames(results_ols) <-c(\"OLS\")"
   ]
  },
  {
   "cell_type": "code",
   "execution_count": 8,
   "id": "39d7c05d",
   "metadata": {},
   "outputs": [
    {
     "name": "stdout",
     "output_type": "stream",
     "text": [
      "[1] -0.009377989\n",
      "[1] 0.02988773\n",
      "      2.5 %      97.5 % \n",
      "-0.07060022  0.05184424 \n"
     ]
    }
   ],
   "source": [
    "print(est_ols)\n",
    "print(std_ols)\n",
    "print(ci_ols)"
   ]
  },
  {
   "cell_type": "code",
   "execution_count": 9,
   "id": "fa4a9df2",
   "metadata": {},
   "outputs": [
    {
     "data": {
      "text/html": [
       "<table class=\"dataframe\">\n",
       "<caption>A xtable: 1 × 4</caption>\n",
       "<thead>\n",
       "\t<tr><th></th><th scope=col>estimator</th><th scope=col>standard error</th><th scope=col>lower bound CI</th><th scope=col>upper bound CI</th></tr>\n",
       "\t<tr><th></th><th scope=col>&lt;dbl&gt;</th><th scope=col>&lt;dbl&gt;</th><th scope=col>&lt;dbl&gt;</th><th scope=col>&lt;dbl&gt;</th></tr>\n",
       "</thead>\n",
       "<tbody>\n",
       "\t<tr><th scope=row>OLS</th><td>-0.009377989</td><td>0.02988773</td><td>-0.07060022</td><td>0.05184424</td></tr>\n",
       "</tbody>\n",
       "</table>\n"
      ],
      "text/latex": [
       "A xtable: 1 × 4\n",
       "\\begin{tabular}{r|llll}\n",
       "  & estimator & standard error & lower bound CI & upper bound CI\\\\\n",
       "  & <dbl> & <dbl> & <dbl> & <dbl>\\\\\n",
       "\\hline\n",
       "\tOLS & -0.009377989 & 0.02988773 & -0.07060022 & 0.05184424\\\\\n",
       "\\end{tabular}\n"
      ],
      "text/markdown": [
       "\n",
       "A xtable: 1 × 4\n",
       "\n",
       "| <!--/--> | estimator &lt;dbl&gt; | standard error &lt;dbl&gt; | lower bound CI &lt;dbl&gt; | upper bound CI &lt;dbl&gt; |\n",
       "|---|---|---|---|---|\n",
       "| OLS | -0.009377989 | 0.02988773 | -0.07060022 | 0.05184424 |\n",
       "\n"
      ],
      "text/plain": [
       "    estimator    standard error lower bound CI upper bound CI\n",
       "OLS -0.009377989 0.02988773     -0.07060022    0.05184424    "
      ]
     },
     "metadata": {},
     "output_type": "display_data"
    }
   ],
   "source": [
    "#library(xtable)\n",
    "table <- matrix(0, 1, 4)\n",
    "table[1,1:4]   <- c(est_ols,std_ols,ci_ols[1],ci_ols[2])\n",
    "colnames(table) <-c(\"estimator\",\"standard error\", \"lower bound CI\", \"upper bound CI\")\n",
    "rownames(table) <-c(\"OLS\")\n",
    "tab1<- xtable(table, digits = 3)\n",
    "tab1"
   ]
  },
  {
   "cell_type": "markdown",
   "id": "7e07e315",
   "metadata": {},
   "source": [
    "## 1.2 OLS Partialling out"
   ]
  },
  {
   "cell_type": "code",
   "execution_count": 10,
   "id": "6b5e401f",
   "metadata": {},
   "outputs": [],
   "source": [
    "y = growth[,-c(3)]\n",
    "d = growth[,-c(1)]\n",
    "\n",
    "resY <- summary(lm(Outcome~.-1,data=y))$residuals\n",
    "resD <-summary(lm(gdpsh465~.-1,data=d))$residuals\n",
    "\n",
    "residuos <- data.frame(resY,resD)\n",
    "ols <- lm(resY~resD,data=residuos)\n",
    "part_out.ols <- summary(ols)"
   ]
  },
  {
   "cell_type": "code",
   "execution_count": 11,
   "id": "35713a06",
   "metadata": {},
   "outputs": [],
   "source": [
    "est_ols1 <- part_out.ols$coef[\"resD\",1]\n",
    "std_ols1 <- part_out.ols$coef[\"resD\",2]\n",
    "ci_ols1 <- confint(lm(resY~resD,data=residuos))[2,]\n"
   ]
  },
  {
   "cell_type": "code",
   "execution_count": 32,
   "id": "55a30205",
   "metadata": {},
   "outputs": [
    {
     "data": {
      "text/html": [
       "<table class=\"dataframe\">\n",
       "<caption>A xtable: 1 × 4</caption>\n",
       "<thead>\n",
       "\t<tr><th></th><th scope=col>estimator</th><th scope=col>standard error</th><th scope=col>lower bound CI</th><th scope=col>upper bound CI</th></tr>\n",
       "\t<tr><th></th><th scope=col>&lt;dbl&gt;</th><th scope=col>&lt;dbl&gt;</th><th scope=col>&lt;dbl&gt;</th><th scope=col>&lt;dbl&gt;</th></tr>\n",
       "</thead>\n",
       "<tbody>\n",
       "\t<tr><th scope=row>OLS - Partialling-out</th><td>-0.009377989</td><td>0.01685895</td><td>-0.04288161</td><td>0.02412563</td></tr>\n",
       "</tbody>\n",
       "</table>\n"
      ],
      "text/latex": [
       "A xtable: 1 × 4\n",
       "\\begin{tabular}{r|llll}\n",
       "  & estimator & standard error & lower bound CI & upper bound CI\\\\\n",
       "  & <dbl> & <dbl> & <dbl> & <dbl>\\\\\n",
       "\\hline\n",
       "\tOLS - Partialling-out & -0.009377989 & 0.01685895 & -0.04288161 & 0.02412563\\\\\n",
       "\\end{tabular}\n"
      ],
      "text/markdown": [
       "\n",
       "A xtable: 1 × 4\n",
       "\n",
       "| <!--/--> | estimator &lt;dbl&gt; | standard error &lt;dbl&gt; | lower bound CI &lt;dbl&gt; | upper bound CI &lt;dbl&gt; |\n",
       "|---|---|---|---|---|\n",
       "| OLS - Partialling-out | -0.009377989 | 0.01685895 | -0.04288161 | 0.02412563 |\n",
       "\n"
      ],
      "text/plain": [
       "                      estimator    standard error lower bound CI upper bound CI\n",
       "OLS - Partialling-out -0.009377989 0.01685895     -0.04288161    0.02412563    "
      ]
     },
     "metadata": {},
     "output_type": "display_data"
    }
   ],
   "source": [
    "table <- matrix(0,1,4)\n",
    "table[1,1:4]   <- c(est_ols1,std_ols1,ci_ols1[1],ci_ols1[2])\n",
    "colnames(table) <-c(\"estimator\",\"standard error\", \"lower bound CI\", \"upper bound CI\")\n",
    "rownames(table) <-c(\"OLS - Partialling-out\")\n",
    "tab2 <- xtable(table, digits = 3) \n",
    "tab2"
   ]
  },
  {
   "cell_type": "markdown",
   "id": "830901cf",
   "metadata": {},
   "source": [
    "## 2 LASSO using HDM"
   ]
  },
  {
   "cell_type": "code",
   "execution_count": 13,
   "id": "23bece8c",
   "metadata": {},
   "outputs": [],
   "source": [
    "Y <- growth['Outcome'] # output variable\n",
    "W <- as.matrix(growth)[, -c(1, 2,3)] # controls in matrix is mandatory to use rlassoeffects function\n",
    "D <- growth['gdpsh465'] # target regressor"
   ]
  },
  {
   "cell_type": "code",
   "execution_count": 14,
   "id": "246645c7",
   "metadata": {},
   "outputs": [],
   "source": [
    "r.Y <- rlasso(x=W,y=Y)$res\n",
    "r.D <- rlasso(x=W,y=D)$res\n",
    "partial.lasso <- lm(r.Y ~ r.D)"
   ]
  },
  {
   "cell_type": "code",
   "execution_count": 15,
   "id": "2af9e08b",
   "metadata": {},
   "outputs": [],
   "source": [
    "r.Y <- rlasso(x=W,y=Y)$res # \"residual\" output variable\n",
    "r.D <- rlasso(x=W,y=D)$res # \"residual\" target regressor\n",
    "partial.lasso <- lm(r.Y ~ r.D)\n",
    "est_lasso <- partial.lasso$coef[2]\n",
    "std_lasso <- summary(partial.lasso)$coef[2,2]\n",
    "ci_lasso <- confint(partial.lasso)[2,]"
   ]
  },
  {
   "cell_type": "code",
   "execution_count": 16,
   "id": "98a1d5a3",
   "metadata": {},
   "outputs": [
    {
     "data": {
      "text/html": [
       "<table class=\"dataframe\">\n",
       "<caption>A xtable: 1 × 4</caption>\n",
       "<thead>\n",
       "\t<tr><th></th><th scope=col>estimator</th><th scope=col>standard error</th><th scope=col>lower bound CI</th><th scope=col>upper bound CI</th></tr>\n",
       "\t<tr><th></th><th scope=col>&lt;dbl&gt;</th><th scope=col>&lt;dbl&gt;</th><th scope=col>&lt;dbl&gt;</th><th scope=col>&lt;dbl&gt;</th></tr>\n",
       "</thead>\n",
       "<tbody>\n",
       "\t<tr><th scope=row>Lasso HDM</th><td>-0.04981147</td><td>0.01393636</td><td>-0.07750705</td><td>-0.02211588</td></tr>\n",
       "</tbody>\n",
       "</table>\n"
      ],
      "text/latex": [
       "A xtable: 1 × 4\n",
       "\\begin{tabular}{r|llll}\n",
       "  & estimator & standard error & lower bound CI & upper bound CI\\\\\n",
       "  & <dbl> & <dbl> & <dbl> & <dbl>\\\\\n",
       "\\hline\n",
       "\tLasso HDM & -0.04981147 & 0.01393636 & -0.07750705 & -0.02211588\\\\\n",
       "\\end{tabular}\n"
      ],
      "text/markdown": [
       "\n",
       "A xtable: 1 × 4\n",
       "\n",
       "| <!--/--> | estimator &lt;dbl&gt; | standard error &lt;dbl&gt; | lower bound CI &lt;dbl&gt; | upper bound CI &lt;dbl&gt; |\n",
       "|---|---|---|---|---|\n",
       "| Lasso HDM | -0.04981147 | 0.01393636 | -0.07750705 | -0.02211588 |\n",
       "\n"
      ],
      "text/plain": [
       "          estimator   standard error lower bound CI upper bound CI\n",
       "Lasso HDM -0.04981147 0.01393636     -0.07750705    -0.02211588   "
      ]
     },
     "metadata": {},
     "output_type": "display_data"
    }
   ],
   "source": [
    "library(xtable)\n",
    "table <- matrix(0, 1, 4)\n",
    "table[1,1:4]   <- c(est_lasso,std_lasso,ci_lasso[1],ci_lasso[2])\n",
    "colnames(table) <-c(\"estimator\",\"standard error\", \"lower bound CI\", \"upper bound CI\")\n",
    "rownames(table) <-c(\"Lasso HDM\")\n",
    "tab3 <- xtable(table, digits = 3)\n",
    "# Summary HDM Lasso\n",
    "tab3"
   ]
  },
  {
   "cell_type": "markdown",
   "id": "280b0563",
   "metadata": {},
   "source": [
    "## 3.  LASSO using cross Validation"
   ]
  },
  {
   "cell_type": "code",
   "execution_count": 17,
   "id": "81bec0ca",
   "metadata": {},
   "outputs": [],
   "source": [
    "Y1 <- as.matrix(growth[, 1, drop = F]) # output variable\n",
    "W1 <- as.matrix(growth)[, -c(1, 2,3)] # controls\n",
    "D1 <- as.matrix(growth[, 3, drop = F]) # target regressor"
   ]
  },
  {
   "cell_type": "code",
   "execution_count": 18,
   "id": "faa3b30a",
   "metadata": {},
   "outputs": [
    {
     "name": "stderr",
     "output_type": "stream",
     "text": [
      "Loading required package: Matrix\n",
      "\n",
      "Loaded glmnet 4.1-3\n",
      "\n"
     ]
    }
   ],
   "source": [
    "#install.packages(\"glmnet\")\n",
    "library(\"glmnet\")"
   ]
  },
  {
   "cell_type": "code",
   "execution_count": 19,
   "id": "fceda9b7",
   "metadata": {},
   "outputs": [],
   "source": [
    "cv.5 <- cv.glmnet(W1, Y1, alpha = 0.00077)\n",
    "r_Y= Y1-predict(cv.5, newx = W1, type='link') #residual of regression Y on W\n",
    "cv.7 <- cv.glmnet(W1, D1, alpha = 0.00077)\n",
    "r_D = D1-predict(cv.7, newx = W1, type='link') #residual of regression D on W\n",
    "\n",
    "# ols\n",
    "partial_lasso_fit <- lm(r_Y~r_D)"
   ]
  },
  {
   "cell_type": "code",
   "execution_count": 20,
   "id": "837689b7",
   "metadata": {},
   "outputs": [
    {
     "data": {
      "text/html": [
       "<table class=\"dataframe\">\n",
       "<caption>A xtable: 1 × 4</caption>\n",
       "<thead>\n",
       "\t<tr><th></th><th scope=col>estimator</th><th scope=col>standard error</th><th scope=col>lower bound CI</th><th scope=col>upper bound CI</th></tr>\n",
       "\t<tr><th></th><th scope=col>&lt;dbl&gt;</th><th scope=col>&lt;dbl&gt;</th><th scope=col>&lt;dbl&gt;</th><th scope=col>&lt;dbl&gt;</th></tr>\n",
       "</thead>\n",
       "<tbody>\n",
       "\t<tr><th scope=row>LASSO - Cross Validation</th><td>-0.03678625</td><td>0.01550241</td><td>-0.06759403</td><td>-0.005978468</td></tr>\n",
       "</tbody>\n",
       "</table>\n"
      ],
      "text/latex": [
       "A xtable: 1 × 4\n",
       "\\begin{tabular}{r|llll}\n",
       "  & estimator & standard error & lower bound CI & upper bound CI\\\\\n",
       "  & <dbl> & <dbl> & <dbl> & <dbl>\\\\\n",
       "\\hline\n",
       "\tLASSO - Cross Validation & -0.03678625 & 0.01550241 & -0.06759403 & -0.005978468\\\\\n",
       "\\end{tabular}\n"
      ],
      "text/markdown": [
       "\n",
       "A xtable: 1 × 4\n",
       "\n",
       "| <!--/--> | estimator &lt;dbl&gt; | standard error &lt;dbl&gt; | lower bound CI &lt;dbl&gt; | upper bound CI &lt;dbl&gt; |\n",
       "|---|---|---|---|---|\n",
       "| LASSO - Cross Validation | -0.03678625 | 0.01550241 | -0.06759403 | -0.005978468 |\n",
       "\n"
      ],
      "text/plain": [
       "                         estimator   standard error lower bound CI\n",
       "LASSO - Cross Validation -0.03678625 0.01550241     -0.06759403   \n",
       "                         upper bound CI\n",
       "LASSO - Cross Validation -0.005978468  "
      ]
     },
     "metadata": {},
     "output_type": "display_data"
    }
   ],
   "source": [
    "est_lasso <- partial_lasso_fit$coef[2]\n",
    "std_lasso <- summary(partial_lasso_fit)$coef[2,2]\n",
    "ci_lasso <- confint(partial_lasso_fit)[2,]\n",
    "\n",
    "library(xtable)\n",
    "table <- matrix(0, 1, 4)\n",
    "table[1,1:4]   <- c(est_lasso,std_lasso,ci_lasso[1],ci_lasso[2])\n",
    "colnames(table) <-c(\"estimator\",\"standard error\", \"lower bound CI\", \"upper bound CI\")\n",
    "rownames(table) <-c(\"LASSO - Cross Validation\")\n",
    "tab4<- xtable(table, digits = 3)\n",
    "\n",
    "tab4"
   ]
  },
  {
   "cell_type": "markdown",
   "id": "d2750442",
   "metadata": {},
   "source": [
    "## 4. Double Lasso - Cross Validation"
   ]
  },
  {
   "cell_type": "code",
   "execution_count": 23,
   "id": "c825bfe3",
   "metadata": {},
   "outputs": [],
   "source": [
    "resY <- Y1 - predict(cv.glmnet(W1, Y1),newx=W)\n",
    "resD <- Y1 - predict(cv.glmnet(W1, D1),newx=W)\n",
    "\n",
    "residuos <- data.frame(resY,resD)\n",
    "cross.lasso <- lm(resY~resD,data=residuos)\n",
    "part_out_cross.lasso <- summary(cross.lasso)"
   ]
  },
  {
   "cell_type": "code",
   "execution_count": 24,
   "id": "2d2d2e89",
   "metadata": {},
   "outputs": [],
   "source": [
    "est_lasso <- part_out_cross.lasso$coef[\"resD\",1]\n",
    "std_lasso <- part_out_cross.lasso$coef[\"resD\",2]\n",
    "ci_lasso <- confint(lm(resY~resD,data=residuos))[2,]"
   ]
  },
  {
   "cell_type": "code",
   "execution_count": 25,
   "id": "209bfbe0",
   "metadata": {},
   "outputs": [
    {
     "data": {
      "text/html": [
       "<table class=\"dataframe\">\n",
       "<caption>A xtable: 1 × 4</caption>\n",
       "<thead>\n",
       "\t<tr><th></th><th scope=col>estimator</th><th scope=col>standard error</th><th scope=col>lower bound CI</th><th scope=col>upper bound CI</th></tr>\n",
       "\t<tr><th></th><th scope=col>&lt;dbl&gt;</th><th scope=col>&lt;dbl&gt;</th><th scope=col>&lt;dbl&gt;</th><th scope=col>&lt;dbl&gt;</th></tr>\n",
       "</thead>\n",
       "<tbody>\n",
       "\t<tr><th scope=row>Double Lasso - Cross Validation</th><td>0.001138579</td><td>0.003083654</td><td>-0.004989536</td><td>0.007266693</td></tr>\n",
       "</tbody>\n",
       "</table>\n"
      ],
      "text/latex": [
       "A xtable: 1 × 4\n",
       "\\begin{tabular}{r|llll}\n",
       "  & estimator & standard error & lower bound CI & upper bound CI\\\\\n",
       "  & <dbl> & <dbl> & <dbl> & <dbl>\\\\\n",
       "\\hline\n",
       "\tDouble Lasso - Cross Validation & 0.001138579 & 0.003083654 & -0.004989536 & 0.007266693\\\\\n",
       "\\end{tabular}\n"
      ],
      "text/markdown": [
       "\n",
       "A xtable: 1 × 4\n",
       "\n",
       "| <!--/--> | estimator &lt;dbl&gt; | standard error &lt;dbl&gt; | lower bound CI &lt;dbl&gt; | upper bound CI &lt;dbl&gt; |\n",
       "|---|---|---|---|---|\n",
       "| Double Lasso - Cross Validation | 0.001138579 | 0.003083654 | -0.004989536 | 0.007266693 |\n",
       "\n"
      ],
      "text/plain": [
       "                                estimator   standard error lower bound CI\n",
       "Double Lasso - Cross Validation 0.001138579 0.003083654    -0.004989536  \n",
       "                                upper bound CI\n",
       "Double Lasso - Cross Validation 0.007266693   "
      ]
     },
     "metadata": {},
     "output_type": "display_data"
    }
   ],
   "source": [
    "table <- matrix(0,1,4)\n",
    "table[1,1:4]   <- c(est_lasso,std_lasso,ci_lasso[1],ci_lasso[2])\n",
    "colnames(table) <-c(\"estimator\",\"standard error\", \"lower bound CI\", \"upper bound CI\")\n",
    "rownames(table) <-c(\"Double Lasso - Cross Validation\")\n",
    "tab5 <- xtable(table, digits = 3) \n",
    "tab5"
   ]
  },
  {
   "cell_type": "markdown",
   "id": "0aa2e43d",
   "metadata": {},
   "source": [
    "## 5. Double Lasso using theoretical Lambda"
   ]
  },
  {
   "cell_type": "code",
   "execution_count": 26,
   "id": "918f02f4",
   "metadata": {},
   "outputs": [],
   "source": [
    "resY <- rlasso(W,Y)$res\n",
    "resD <- rlasso(W,D)$res\n",
    "\n",
    "\n",
    "residuos <- data.frame(resY,resD)\n",
    "theoretical.lasso <- lm(resY~resD,data=residuos)\n",
    "part_out_theoretical.lasso <- summary(theoretical.lasso)"
   ]
  },
  {
   "cell_type": "code",
   "execution_count": 27,
   "id": "548c070c",
   "metadata": {},
   "outputs": [],
   "source": [
    "est_lasso1 <- part_out_theoretical.lasso$coef[\"resD\",1]\n",
    "std_lasso1 <- part_out_theoretical.lasso$coef[\"resD\",2]\n",
    "ci_lasso1 <- confint(lm(resY~resD,data=residuos))[2,]"
   ]
  },
  {
   "cell_type": "code",
   "execution_count": 28,
   "id": "02d830a9",
   "metadata": {},
   "outputs": [
    {
     "data": {
      "text/html": [
       "<table class=\"dataframe\">\n",
       "<caption>A xtable: 1 × 4</caption>\n",
       "<thead>\n",
       "\t<tr><th></th><th scope=col>estimator</th><th scope=col>standard error</th><th scope=col>lower bound CI</th><th scope=col>upper bound CI</th></tr>\n",
       "\t<tr><th></th><th scope=col>&lt;dbl&gt;</th><th scope=col>&lt;dbl&gt;</th><th scope=col>&lt;dbl&gt;</th><th scope=col>&lt;dbl&gt;</th></tr>\n",
       "</thead>\n",
       "<tbody>\n",
       "\t<tr><th scope=row>Double Lasso - Theoretical Lambda</th><td>-0.04981147</td><td>0.01393636</td><td>-0.07750705</td><td>-0.02211588</td></tr>\n",
       "</tbody>\n",
       "</table>\n"
      ],
      "text/latex": [
       "A xtable: 1 × 4\n",
       "\\begin{tabular}{r|llll}\n",
       "  & estimator & standard error & lower bound CI & upper bound CI\\\\\n",
       "  & <dbl> & <dbl> & <dbl> & <dbl>\\\\\n",
       "\\hline\n",
       "\tDouble Lasso - Theoretical Lambda & -0.04981147 & 0.01393636 & -0.07750705 & -0.02211588\\\\\n",
       "\\end{tabular}\n"
      ],
      "text/markdown": [
       "\n",
       "A xtable: 1 × 4\n",
       "\n",
       "| <!--/--> | estimator &lt;dbl&gt; | standard error &lt;dbl&gt; | lower bound CI &lt;dbl&gt; | upper bound CI &lt;dbl&gt; |\n",
       "|---|---|---|---|---|\n",
       "| Double Lasso - Theoretical Lambda | -0.04981147 | 0.01393636 | -0.07750705 | -0.02211588 |\n",
       "\n"
      ],
      "text/plain": [
       "                                  estimator   standard error lower bound CI\n",
       "Double Lasso - Theoretical Lambda -0.04981147 0.01393636     -0.07750705   \n",
       "                                  upper bound CI\n",
       "Double Lasso - Theoretical Lambda -0.02211588   "
      ]
     },
     "metadata": {},
     "output_type": "display_data"
    }
   ],
   "source": [
    "table <- matrix(0,1,4)\n",
    "table[1,1:4]   <- c(est_lasso1,std_lasso1,ci_lasso1[1],ci_lasso1[2])\n",
    "colnames(table) <-c(\"estimator\",\"standard error\", \"lower bound CI\", \"upper bound CI\")\n",
    "rownames(table) <-c(\"Double Lasso - Theoretical Lambda\")\n",
    "tab6 <- xtable(table, digits = 3) \n",
    "tab6"
   ]
  },
  {
   "cell_type": "markdown",
   "id": "acf44c5a",
   "metadata": {},
   "source": [
    "## 6. Double Lasso using method=\"partialling out\""
   ]
  },
  {
   "cell_type": "code",
   "execution_count": 29,
   "id": "c2972bf9",
   "metadata": {},
   "outputs": [],
   "source": [
    "part_out_direct.lasso <- rlassoEffect(x = W, y = Y, d = D, method = \"partialling out\")\n",
    "\n",
    "est_lasso2 <- summary(part_out_direct.lasso)$coef[,1]\n",
    "std_lasso2 <- summary(part_out_direct.lasso)$coef[,2]\n",
    "lower_ci_lasso2 <- est_lasso2 - 1.96*std_lasso2\n",
    "upper_ci_lasso2 <- est_lasso2 + 1.96*std_lasso2"
   ]
  },
  {
   "cell_type": "code",
   "execution_count": 56,
   "id": "82ead2e0",
   "metadata": {},
   "outputs": [
    {
     "data": {
      "text/html": [
       "<table class=\"dataframe\">\n",
       "<caption>A xtable: 1 × 4</caption>\n",
       "<thead>\n",
       "\t<tr><th></th><th scope=col>estimator</th><th scope=col>standard error</th><th scope=col>lower bound CI</th><th scope=col>upper bound CI</th></tr>\n",
       "\t<tr><th></th><th scope=col>&lt;dbl&gt;</th><th scope=col>&lt;dbl&gt;</th><th scope=col>&lt;dbl&gt;</th><th scope=col>&lt;dbl&gt;</th></tr>\n",
       "</thead>\n",
       "<tbody>\n",
       "\t<tr><th scope=row>Double Lasso - Partialling out</th><td>-0.04981147</td><td>0.01393636</td><td>-0.07712673</td><td>-0.0224962</td></tr>\n",
       "</tbody>\n",
       "</table>\n"
      ],
      "text/latex": [
       "A xtable: 1 × 4\n",
       "\\begin{tabular}{r|llll}\n",
       "  & estimator & standard error & lower bound CI & upper bound CI\\\\\n",
       "  & <dbl> & <dbl> & <dbl> & <dbl>\\\\\n",
       "\\hline\n",
       "\tDouble Lasso - Partialling out & -0.04981147 & 0.01393636 & -0.07712673 & -0.0224962\\\\\n",
       "\\end{tabular}\n"
      ],
      "text/markdown": [
       "\n",
       "A xtable: 1 × 4\n",
       "\n",
       "| <!--/--> | estimator &lt;dbl&gt; | standard error &lt;dbl&gt; | lower bound CI &lt;dbl&gt; | upper bound CI &lt;dbl&gt; |\n",
       "|---|---|---|---|---|\n",
       "| Double Lasso - Partialling out | -0.04981147 | 0.01393636 | -0.07712673 | -0.0224962 |\n",
       "\n"
      ],
      "text/plain": [
       "                               estimator   standard error lower bound CI\n",
       "Double Lasso - Partialling out -0.04981147 0.01393636     -0.07712673   \n",
       "                               upper bound CI\n",
       "Double Lasso - Partialling out -0.0224962    "
      ]
     },
     "metadata": {},
     "output_type": "display_data"
    }
   ],
   "source": [
    "table <- matrix(0,1,4)\n",
    "table[1,1:4]   <- c(est_lasso2,std_lasso2,lower_ci_lasso2,upper_ci_lasso2)\n",
    "colnames(table) <-c(\"estimator\",\"standard error\", \"lower bound CI\", \"upper bound CI\")\n",
    "rownames(table) <-c(\"Double Lasso - Partialling out\")\n",
    "tab7 <- xtable(table, digits = 3) \n",
    "tab7"
   ]
  },
  {
   "cell_type": "markdown",
   "id": "5a45e765",
   "metadata": {},
   "source": [
    "**Method summary**"
   ]
  },
  {
   "cell_type": "code",
   "execution_count": 57,
   "id": "d9b93b83",
   "metadata": {},
   "outputs": [
    {
     "data": {
      "text/html": [
       "<table class=\"dataframe\">\n",
       "<caption>A xtable: 7 × 4</caption>\n",
       "<thead>\n",
       "\t<tr><th></th><th scope=col>estimator</th><th scope=col>standard error</th><th scope=col>lower bound CI</th><th scope=col>upper bound CI</th></tr>\n",
       "\t<tr><th></th><th scope=col>&lt;dbl&gt;</th><th scope=col>&lt;dbl&gt;</th><th scope=col>&lt;dbl&gt;</th><th scope=col>&lt;dbl&gt;</th></tr>\n",
       "</thead>\n",
       "<tbody>\n",
       "\t<tr><th scope=row>OLS</th><td>-0.009377989</td><td>0.029887726</td><td>-0.070600221</td><td> 0.051844243</td></tr>\n",
       "\t<tr><th scope=row>OLS - Partialling-out</th><td>-0.009377989</td><td>0.016858951</td><td>-0.042881612</td><td> 0.024125634</td></tr>\n",
       "\t<tr><th scope=row>Lasso HDM</th><td>-0.049811465</td><td>0.013936358</td><td>-0.077507049</td><td>-0.022115881</td></tr>\n",
       "\t<tr><th scope=row>LASSO - Cross Validation</th><td>-0.036786247</td><td>0.015502408</td><td>-0.067594026</td><td>-0.005978468</td></tr>\n",
       "\t<tr><th scope=row>Double Lasso - Cross Validation</th><td> 0.001138579</td><td>0.003083654</td><td>-0.004989536</td><td> 0.007266693</td></tr>\n",
       "\t<tr><th scope=row>Double Lasso - Theoretical Lambda</th><td>-0.049811465</td><td>0.013936358</td><td>-0.077507049</td><td>-0.022115881</td></tr>\n",
       "\t<tr><th scope=row>Double Lasso - Partialling out</th><td>-0.049811465</td><td>0.013936358</td><td>-0.077126728</td><td>-0.022496203</td></tr>\n",
       "</tbody>\n",
       "</table>\n"
      ],
      "text/latex": [
       "A xtable: 7 × 4\n",
       "\\begin{tabular}{r|llll}\n",
       "  & estimator & standard error & lower bound CI & upper bound CI\\\\\n",
       "  & <dbl> & <dbl> & <dbl> & <dbl>\\\\\n",
       "\\hline\n",
       "\tOLS & -0.009377989 & 0.029887726 & -0.070600221 &  0.051844243\\\\\n",
       "\tOLS - Partialling-out & -0.009377989 & 0.016858951 & -0.042881612 &  0.024125634\\\\\n",
       "\tLasso HDM & -0.049811465 & 0.013936358 & -0.077507049 & -0.022115881\\\\\n",
       "\tLASSO - Cross Validation & -0.036786247 & 0.015502408 & -0.067594026 & -0.005978468\\\\\n",
       "\tDouble Lasso - Cross Validation &  0.001138579 & 0.003083654 & -0.004989536 &  0.007266693\\\\\n",
       "\tDouble Lasso - Theoretical Lambda & -0.049811465 & 0.013936358 & -0.077507049 & -0.022115881\\\\\n",
       "\tDouble Lasso - Partialling out & -0.049811465 & 0.013936358 & -0.077126728 & -0.022496203\\\\\n",
       "\\end{tabular}\n"
      ],
      "text/markdown": [
       "\n",
       "A xtable: 7 × 4\n",
       "\n",
       "| <!--/--> | estimator &lt;dbl&gt; | standard error &lt;dbl&gt; | lower bound CI &lt;dbl&gt; | upper bound CI &lt;dbl&gt; |\n",
       "|---|---|---|---|---|\n",
       "| OLS | -0.009377989 | 0.029887726 | -0.070600221 |  0.051844243 |\n",
       "| OLS - Partialling-out | -0.009377989 | 0.016858951 | -0.042881612 |  0.024125634 |\n",
       "| Lasso HDM | -0.049811465 | 0.013936358 | -0.077507049 | -0.022115881 |\n",
       "| LASSO - Cross Validation | -0.036786247 | 0.015502408 | -0.067594026 | -0.005978468 |\n",
       "| Double Lasso - Cross Validation |  0.001138579 | 0.003083654 | -0.004989536 |  0.007266693 |\n",
       "| Double Lasso - Theoretical Lambda | -0.049811465 | 0.013936358 | -0.077507049 | -0.022115881 |\n",
       "| Double Lasso - Partialling out | -0.049811465 | 0.013936358 | -0.077126728 | -0.022496203 |\n",
       "\n"
      ],
      "text/plain": [
       "                                  estimator    standard error lower bound CI\n",
       "OLS                               -0.009377989 0.029887726    -0.070600221  \n",
       "OLS - Partialling-out             -0.009377989 0.016858951    -0.042881612  \n",
       "Lasso HDM                         -0.049811465 0.013936358    -0.077507049  \n",
       "LASSO - Cross Validation          -0.036786247 0.015502408    -0.067594026  \n",
       "Double Lasso - Cross Validation    0.001138579 0.003083654    -0.004989536  \n",
       "Double Lasso - Theoretical Lambda -0.049811465 0.013936358    -0.077507049  \n",
       "Double Lasso - Partialling out    -0.049811465 0.013936358    -0.077126728  \n",
       "                                  upper bound CI\n",
       "OLS                                0.051844243  \n",
       "OLS - Partialling-out              0.024125634  \n",
       "Lasso HDM                         -0.022115881  \n",
       "LASSO - Cross Validation          -0.005978468  \n",
       "Double Lasso - Cross Validation    0.007266693  \n",
       "Double Lasso - Theoretical Lambda -0.022115881  \n",
       "Double Lasso - Partialling out    -0.022496203  "
      ]
     },
     "metadata": {},
     "output_type": "display_data"
    }
   ],
   "source": [
    "sum=rbind(tab1,tab2,tab3,tab4,tab5,tab6,tab7)\n",
    "sum"
   ]
  },
  {
   "cell_type": "markdown",
   "id": "9d37870a",
   "metadata": {},
   "source": [
    "### Coefficient Plot"
   ]
  },
  {
   "cell_type": "code",
   "execution_count": 35,
   "id": "4fa01d81",
   "metadata": {},
   "outputs": [],
   "source": [
    "summary <- data.frame(sum)\n",
    "attach(summary)"
   ]
  },
  {
   "cell_type": "code",
   "execution_count": 38,
   "id": "26271663",
   "metadata": {},
   "outputs": [],
   "source": [
    "library(\"ggplot2\")"
   ]
  },
  {
   "cell_type": "code",
   "execution_count": 58,
   "id": "f15780f7",
   "metadata": {},
   "outputs": [
    {
     "data": {
      "text/html": [
       "<strong>png:</strong> 2"
      ],
      "text/latex": [
       "\\textbf{png:} 2"
      ],
      "text/markdown": [
       "**png:** 2"
      ],
      "text/plain": [
       "png \n",
       "  2 "
      ]
     },
     "metadata": {},
     "output_type": "display_data"
    }
   ],
   "source": [
    "vars=c(\"OLS\",\"OLS Partialling-out\",\"Lasso HDM\",\"Lasso Cross-Validation\",\n",
    "      \"Double Lasso Cross-Validation\", \"Double Lasso Theoretical Lambda\",\n",
    "      \"Double Lasso Direct\")\n",
    "png(filename=\"bench_query_sort.png\", width=1000, height=600)\n",
    "\n",
    "ggplot(summary, aes(vars, estimator)) +\n",
    "  geom_hline(yintercept=0, lty=2, lwd=1, colour=\"grey50\")+ \n",
    "  geom_errorbar(aes(ymin = lower.bound.CI,ymax = upper.bound.CI),colour=\"blue\",lwd=1)+\n",
    "  geom_point(size=4, pch=21, fill=\"red\") +\n",
    "  theme_bw()+\n",
    "  ggtitle(\"Confidence intervals of gdpsh465 estimator\")\n",
    "dev.off()"
   ]
  }
 ],
 "metadata": {
  "kernelspec": {
   "display_name": "R",
   "language": "R",
   "name": "ir"
  },
  "language_info": {
   "codemirror_mode": "r",
   "file_extension": ".r",
   "mimetype": "text/x-r-source",
   "name": "R",
   "pygments_lexer": "r",
   "version": "4.1.3"
  }
 },
 "nbformat": 4,
 "nbformat_minor": 5
}
