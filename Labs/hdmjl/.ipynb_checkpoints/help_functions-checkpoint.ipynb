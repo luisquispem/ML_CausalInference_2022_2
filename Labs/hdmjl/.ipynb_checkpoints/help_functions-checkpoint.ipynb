{
 "cells": [
  {
   "cell_type": "code",
   "execution_count": 3,
   "id": "f6614f8e",
   "metadata": {},
   "outputs": [],
   "source": [
    "# import Pkg; Pkg.add(\"Distributions\")\n",
    "# import Pkg; Pkg.add(\"Tables\")\n",
    "# import Pkg; Pkg.add(\"TableOperations\")\n",
    "# import Pkg; Pkg.add(\"StatsBase\")\n",
    "# import Pkg; Pkg.add(\"FreqTables\")\n",
    "# import Pkg; Pkg.add(\"Plots\")"
   ]
  },
  {
   "cell_type": "code",
   "execution_count": 4,
   "id": "92162901",
   "metadata": {},
   "outputs": [],
   "source": [
    "# Import relevant packages for splitting data\n",
    "using LinearAlgebra, GLM, DataFrames, Statistics, Random, Distributions, Tables, TableOperations, StatsBase, FreqTables, DataFrames"
   ]
  },
  {
   "cell_type": "code",
   "execution_count": 5,
   "id": "8bf7bd44",
   "metadata": {},
   "outputs": [
    {
     "data": {
      "text/plain": [
       "cvec (generic function with 1 method)"
      ]
     },
     "execution_count": 5,
     "metadata": {},
     "output_type": "execute_result"
    }
   ],
   "source": [
    "# Define a function which turn a list or vector-like object into a proper two\n",
    "# dimensional column vector\n",
    "\n",
    "function cvec(a)\n",
    "    \"\"\" Turn a list or vector-like object into a proper column vector\n",
    "    Input\n",
    "    a: List or vector-like object, has to be a potential input for np.array()\n",
    "    Output\n",
    "    vec: two dimensional NumPy array, with the first dimension weakly greater\n",
    "         than the second (resulting in a column vector for a vector-like input)\n",
    "    \"\"\"\n",
    "    \n",
    "    # Conver input into a two dimensional NumPy array\n",
    "    vec = cat([a], dims = 2) \n",
    "\n",
    "    # Check whether the second dimension is strictly greater than the first\n",
    "    # (remembering Python's zero indexing)\n",
    "    \n",
    "    if size(vec)[1] < size(vec)[2]\n",
    "        # If so, transpose the input vector\n",
    "        vec = transpose(vec)\n",
    "    end\n",
    "   \n",
    "    # Return the column vector\n",
    "    return vec\n",
    "\n",
    "end\n",
    "    "
   ]
  },
  {
   "cell_type": "code",
   "execution_count": 6,
   "id": "cd830368",
   "metadata": {},
   "outputs": [
    {
     "data": {
      "text/plain": [
       "corre (generic function with 1 method)"
      ]
     },
     "execution_count": 6,
     "metadata": {},
     "output_type": "execute_result"
    }
   ],
   "source": [
    "import Statistics.cor\n",
    "function corre(y, X)\n",
    "    \n",
    "    \"\"\" Return correlation coefficients between columns of matrices\n",
    "    Inputs\n",
    "    y: n by 1 NumPy array\n",
    "    X: n by k NumPy array\n",
    "    Outputs\n",
    "    corr: list of length k, where the k-th element is the correlation\n",
    "          coefficient between y and the k-th column of X\n",
    "    \"\"\"\n",
    "    # Concatenate y and X into a single NumPy array\n",
    "    yX = hcat(y, X)\n",
    "    \n",
    "    # Get the correlation coefficients between all columns of that array\n",
    "    corr = cor(yX)\n",
    "    \n",
    "    # Get the first row, starting at the first off-diagonal element (these are\n",
    "    # the correlation coefficients between y and each column of X\n",
    "    corr = corr[1, :] \n",
    "    \n",
    "    # Return the result\n",
    "    return corr\n",
    "\n",
    "end\n",
    "    \n",
    "    "
   ]
  },
  {
   "cell_type": "code",
   "execution_count": 7,
   "id": "cb4657a2",
   "metadata": {},
   "outputs": [
    {
     "data": {
      "text/plain": [
       "init_values (generic function with 3 methods)"
      ]
     },
     "execution_count": 7,
     "metadata": {},
     "output_type": "execute_result"
    }
   ],
   "source": [
    "function init_values(X, y, number::Int64=5, intercetp::Bool=true)\n",
    "    \"\"\" Return an initial parameter guess for a LASSO model\n",
    "    Inputs\n",
    "    y: n by 1 NumPy array, outcome variable\n",
    "    X: n by k NumPy array, RHS variables\n",
    "    Outputs\n",
    "    residuals: n ny 1 NumPy array, residuals for initial parameter guess\n",
    "    coefficients: k by 1 NumPy array, initial coefficient values\n",
    "    \"\"\"\n",
    "    # Make sure y is a proper column vector\n",
    "    #y = cvec(y)\n",
    "    \n",
    "    # Get the absolute value of correlations between y and X\n",
    "    corr = broadcast(abs, corre(y, X))\n",
    "    \n",
    "    # Get the number of columns of X\n",
    "    kx = size(X)[2]\n",
    "    \n",
    "    # Make an index selecting the five columns of X which are most correlated\n",
    "    # with y (since .argsort() always sorts in increasing order, selecting from\n",
    "    # the back gets the most highly correlated columns)\n",
    "    index = sortperm(corr, rev=true)[1: min(number, kx)]\n",
    "    \n",
    "    # Set up an array of coefficient guesses\n",
    "    coefficients = zeros(kx)\n",
    "    \n",
    "    # Regress y on the five most correlated columns of X, including an intercept\n",
    "    # if desired\n",
    "    reg = lm(X[:, index], y)\n",
    "    \n",
    "    # Replace the guesses for the estimated coefficients (note that .coef_ does\n",
    "    # not return the estimated intercept, if one was included in the model)\n",
    "    \n",
    "    coefficients[index] = GLM.coef(reg)\n",
    "    \n",
    "    # Replace any NANs as zeros\n",
    "    replace!(coefficients, NaN=>0)\n",
    "    \n",
    "    # Get the regression residuals\n",
    "    residuals = y - predict(reg, X[:, index])\n",
    "    \n",
    "    return residuals, reg, index, coefficients \n",
    "    \n",
    "end\n",
    "    "
   ]
  },
  {
   "cell_type": "code",
   "execution_count": 8,
   "id": "4b16edde",
   "metadata": {},
   "outputs": [
    {
     "data": {
      "text/plain": [
       "control"
      ]
     },
     "execution_count": 8,
     "metadata": {},
     "output_type": "execute_result"
    }
   ],
   "source": [
    "using Parameters\n",
    "@with_kw struct control\n",
    "           maxIter::Int = 1000\n",
    "           optTol::Float64 = 10^(-5)\n",
    "           zeroThreshold::Float64 = 10^(-6)\n",
    "       end"
   ]
  },
  {
   "cell_type": "code",
   "execution_count": 16,
   "id": "bd6d83a8",
   "metadata": {},
   "outputs": [
    {
     "ename": "LoadError",
     "evalue": "UndefVarError: maxIter not defined",
     "output_type": "error",
     "traceback": [
      "UndefVarError: maxIter not defined",
      "",
      "Stacktrace:",
      " [1] top-level scope",
      "   @ In[16]:1",
      " [2] eval",
      "   @ .\\boot.jl:373 [inlined]",
      " [3] include_string(mapexpr::typeof(REPL.softscope), mod::Module, code::String, filename::String)",
      "   @ Base .\\loading.jl:1196"
     ]
    }
   ],
   "source": [
    "control(maxIter)"
   ]
  },
  {
   "cell_type": "code",
   "execution_count": 55,
   "id": "af15a902",
   "metadata": {},
   "outputs": [
    {
     "data": {
      "text/plain": [
       "control\n",
       "  maxIter: Int64 1000\n",
       "  optTol: Float64 1.0000000000000006e-5\n",
       "  zeroThreshold: Float64 1.0000000000000006e-6\n"
      ]
     },
     "execution_count": 55,
     "metadata": {},
     "output_type": "execute_result"
    }
   ],
   "source": [
    "@unpack maxIter, optTol, zeroThreshold = control()"
   ]
  },
  {
   "cell_type": "code",
   "execution_count": 56,
   "id": "0e06a18d",
   "metadata": {},
   "outputs": [
    {
     "data": {
      "text/plain": [
       "1.0000000000000006e-5"
      ]
     },
     "execution_count": 56,
     "metadata": {},
     "output_type": "execute_result"
    }
   ],
   "source": [
    "optTol"
   ]
  },
  {
   "cell_type": "code",
   "execution_count": 64,
   "id": "70384342",
   "metadata": {},
   "outputs": [
    {
     "data": {
      "text/plain": [
       "LassoShooting_fit (generic function with 4 methods)"
      ]
     },
     "execution_count": 64,
     "metadata": {},
     "output_type": "execute_result"
    }
   ],
   "source": [
    "function LassoShooting_fit( x, y, lambda, control::control, \n",
    "                            XX = nothing, Xy = nothing, beta_start = nothing)\n",
    "\n",
    "     \"\"\" Shooting LASSO algorithm with variable dependent penalty weights\n",
    "    Inputs\n",
    "    x: n by p NumPy array, RHS variables\n",
    "    y: n by 1 NumPy array, outcome variable\n",
    "    lmbda: p by 1 NumPy array, variable dependent penalty terms. The j-th\n",
    "           element is the penalty term for the j-th RHS variable.\n",
    "    maxIter: integer, maximum number of shooting LASSO updated\n",
    "    optTol: scalar, algorithm terminated once the sum of absolute differences\n",
    "            between the updated and current weights is below optTol\n",
    "    zeroThreshold: scalar, if any final weights are below zeroThreshold, they\n",
    "                   will be set to zero instead\n",
    "    XX: k by k NumPy array, pre-calculated version of x'x\n",
    "    Xy: k by 1 NumPy array, pre-calculated version of x'y\n",
    "    beta_start: k by 1 NumPy array, initial weights\n",
    "    Outputs\n",
    "    w: k by 1 NumPy array, final weights\n",
    "    wp: k by m + 1 NumPy array, where m is the number of iterations the\n",
    "        algorithm took. History of weight updates, starting with the initial\n",
    "        weights.\n",
    "    m: integer, number of iterations the algorithm took\n",
    "    \"\"\"\n",
    "    n = size(x)[1]\n",
    "    p = size(x)[2]\n",
    "    \n",
    "    # Check whether XX and Xy were provided, calculate them if not\n",
    "    if (isnothing(XX))\n",
    "        XX = x'*x\n",
    "    end\n",
    "\n",
    "    if (isnothing(Xy))\n",
    "        Xy = x'*y\n",
    "    end\n",
    "\n",
    "    # Check whether an initial value for the intercept was provided\n",
    "\n",
    "    if (isnothing(beta_start))\n",
    "        # If not, use init_values from help_functions, which will return\n",
    "        # regression estimates for the five variables in x which are most\n",
    "        # correlated with y, and initialize all other coefficients as zero\n",
    "        beta = init_values(x, y)['4']\n",
    "\n",
    "    else\n",
    "        # Otherwise, use the provided initial weights\n",
    "        beta = beta_start\n",
    "    end\n",
    "\n",
    "    # Set up a history of weights over time, starting with the initial ones\n",
    "    wp = beta\n",
    "\n",
    "    # Keep track of the number of iterations\n",
    "    m = 1\n",
    "\n",
    "    # Create versions of XX and Xy which are just those matrices times two\n",
    "    XX2 = XX * 2\n",
    "    Xy2 = Xy * 2\n",
    "\n",
    "    @unpack maxIter, optTol, zeroThreshold = control()\n",
    "\n",
    "    # Go through all iteration\n",
    "    while m<maxIter\n",
    "\n",
    "        # Save the last set of weights (the .copy() is important, otherwise\n",
    "        # beta_old will be updated every time beta is changed during the\n",
    "        # following loop)\n",
    "        beta_old = beta\n",
    "\n",
    "        # Go through all parameters\n",
    "        for j in range(p)\n",
    "            \n",
    "            # Calculate the shoot\n",
    "            S0 = sum( XX2[j, :].*beta ) - XX2[j, j].*beta[j] - Xy2[j]\n",
    "\n",
    "            # Update the weights\n",
    "            if sum(isnothing(XX)) >= 1\n",
    "                beta[j] = 0\n",
    "\n",
    "            elseif S0 >lmbda[j]\n",
    "                beta[j] = (lmbda[j] - S0) / XX2[j,j]\n",
    "\n",
    "            elseif S0 < -lmbda[j]\n",
    "                beta[j] = (-lmbda[j] - S0) / XX2[j,j]\n",
    "\n",
    "            elseif broadcast(abs, S0) <= lmbda[j]\n",
    "                beta[j] = 0\n",
    "\n",
    "            end\n",
    "        end\n",
    "\n",
    "        # Add the updated weights to the history of weights\n",
    "        wp = hcat(wp, beta)\n",
    "\n",
    "        # Check whether the weights are within tolerance\n",
    "        if sum(broadcast(abs, beta - beta_old)) < optTol\n",
    "            # If so, break the while loop\n",
    "            break\n",
    "        end\n",
    "\n",
    "        # Increase the iteration counter\n",
    "        m = m + 1\n",
    "    end\n",
    "\n",
    "    # Set the final weights to the last updated weights\n",
    "    w = beta   \n",
    "\n",
    "    # Set weights which are within zeroThreshold to zero\n",
    "    w[broadcast(abs, w) < zeroThreshold] = 0\n",
    "\n",
    "    return w, wp, m\n",
    "\n",
    "end\n",
    "        "
   ]
  },
  {
   "cell_type": "code",
   "execution_count": 39,
   "id": "ff72691a",
   "metadata": {},
   "outputs": [
    {
     "data": {
      "text/plain": [
       "501-element Vector{Float64}:\n",
       "  1.0\n",
       " -0.00012087924502604373\n",
       "  0.06536263065884267\n",
       "  0.026443391977236774\n",
       "  0.013250340179950392\n",
       " -0.02944616205008811\n",
       "  0.03810430920579904\n",
       " -0.005794179730374956\n",
       "  0.04015394279216659\n",
       "  0.013799537830154434\n",
       "  0.018434724961286196\n",
       "  0.020115313081845283\n",
       "  0.06792043206202021\n",
       "  ⋮\n",
       " -0.06470986382771099\n",
       "  0.04175377754921327\n",
       "  0.015953161692376264\n",
       " -0.0602188844070578\n",
       "  0.03415835409904763\n",
       " -0.037088771537956366\n",
       "  0.019041828558869142\n",
       "  0.019938157772601835\n",
       " -0.015452294468559884\n",
       "  0.021875869249325847\n",
       " -0.06823516957686443\n",
       " -0.002940132592505015"
      ]
     },
     "execution_count": 39,
     "metadata": {},
     "output_type": "execute_result"
    }
   ],
   "source": [
    "# We have to make sure that both variables are the same type (Integers or floats) to avoid errors when running the regression\n",
    "n = 1000\n",
    "p = Int(n/2)\n",
    "\n",
    "# Create a nxp matrix of standard Gaussians\n",
    "X = randn(n, p)\n",
    "beta = randn(p)\n",
    "\n",
    "# Create a nx1 matrix of standard Gaussians\n",
    "Y = randn(n)\n",
    "corre(Y, X)"
   ]
  },
  {
   "cell_type": "code",
   "execution_count": 22,
   "id": "0f865fe4",
   "metadata": {},
   "outputs": [
    {
     "ename": "LoadError",
     "evalue": "UndefVarError: x not defined",
     "output_type": "error",
     "traceback": [
      "UndefVarError: x not defined",
      "",
      "Stacktrace:",
      " [1] top-level scope",
      "   @ In[22]:4",
      " [2] eval",
      "   @ .\\boot.jl:373 [inlined]",
      " [3] include_string(mapexpr::typeof(REPL.softscope), mod::Module, code::String, filename::String)",
      "   @ Base .\\loading.jl:1196"
     ]
    }
   ],
   "source": [
    "XX = nothing\n",
    "\n",
    "if (isnothing(XX))\n",
    "    XX = x'*x\n",
    "end\n",
    "\n",
    "if (isnothing(Xy))\n",
    "    Xy = x'*y\n",
    "end\n",
    "\n",
    "# Check whether an initial value for the intercept was provided\n",
    "\n",
    "if (isnothing(beta_start))\n",
    "    # If not, use init_values from help_functions, which will return\n",
    "    # regression estimates for the five variables in x which are most\n",
    "    # correlated with y, and initialize all other coefficients as zero\n",
    "    beta = init_values(x, y)['4']\n",
    "\n",
    "else: \n",
    "    # Otherwise, use the provided initial weights\n",
    "    beta = beta_start\n",
    "    \n",
    "# Set up a history of weights over time, starting with the initial ones\n",
    "wp = beta\n",
    "\n",
    "# Keep track of the number of iterations\n",
    "m = 1\n",
    "\n",
    "# Create versions of XX and Xy which are just those matrices times two\n",
    "XX2 = XX * 2\n",
    "Xy2 = Xy * 2\n",
    "\n",
    "@unpack maxIter, optTol, zeroThreshold = control()\n",
    "\n",
    "# Go through all iteration\n",
    "while m<maxIter\n",
    "        \n",
    "        # Save the last set of weights (the .copy() is important, otherwise\n",
    "        # beta_old will be updated every time beta is changed during the\n",
    "        # following loop)\n",
    "        beta_old = beta\n",
    "        "
   ]
  },
  {
   "cell_type": "code",
   "execution_count": 50,
   "id": "3ce9e3fe",
   "metadata": {},
   "outputs": [
    {
     "data": {
      "text/plain": [
       "1321.9380098997306"
      ]
     },
     "execution_count": 50,
     "metadata": {},
     "output_type": "execute_result"
    }
   ],
   "source": [
    "Xy2 = X'*Y*2\n",
    "XX2 = X'*X*2\n",
    "#beta = 3\n",
    "# Calculate the shoot\n",
    "\n",
    "S0 = sum( XX2[1, :].*beta ) - XX2[1, 1].*beta[1] - Xy2[1]\n",
    "\n",
    "# Update the weights\n",
    "if sum(isnothing(XX)) >= 1\n",
    "    beta[j] = 0\n",
    "    \n",
    "elseif S0 >lmbda[j]\n",
    "    beta[j] = (lmbda[j] - S0) / XX2[j,j]\n",
    "\n",
    "elseif S0 < -lmbda[j]:\n",
    "    beta[j] = (-lmbda[j] - S0) / XX2[j,j]\n",
    "    \n",
    "elseif np.abs(S0) <= lmbda[j]:\n",
    "    beta[j] = 0\n",
    "\n",
    "end\n",
    "\n",
    "# Add the updated weights to the history of weights\n",
    "wp = hcat(wp, beta)\n",
    "    \n",
    "# Check whether the weights are within tolerance\n",
    "if sum(broadcast(abs, beta - beta_old)) < optTol:\n",
    "    # If so, break the while loop\n",
    "    break\n",
    "end\n",
    "    \n",
    "# Increase the iteration counter\n",
    "m = m + 1\n",
    "    \n",
    "# Set the final weights to the last updated weights\n",
    "w = beta   \n",
    "\n",
    "# Set weights which are within zeroThreshold to zero\n",
    "w[broadcast(abs, w) < zeroThreshold] = 0\n",
    "\n",
    "return w, wp, m\n",
    "    "
   ]
  },
  {
   "cell_type": "code",
   "execution_count": 53,
   "id": "a6af48ab",
   "metadata": {},
   "outputs": [
    {
     "data": {
      "text/plain": [
       "500×500 Matrix{Float64}:\n",
       " 1979.73        8.02888   -82.6735   …    43.3222     -58.9106    -43.9855\n",
       "    8.02888  1939.32      -74.0397         7.15659    -10.7143     48.9423\n",
       "  -82.6735    -74.0397   1897.21         -35.2187     -12.4275     10.6417\n",
       "  -61.0868     49.5196     46.6044        -3.32645     33.6416    -32.6863\n",
       "   35.7663     32.3199    -67.933        -62.7472     -53.2171      9.49623\n",
       "   87.593      -3.45052    49.003    …   -44.9189     -17.4115    -14.9525\n",
       "   15.9204   -104.76      -86.6438       -54.1746       5.59023    91.3983\n",
       "   17.3425     19.3986    105.376         92.0661     215.451     -70.1305\n",
       "  -28.2022     32.4509     13.6365        25.7939     -75.1109     -2.96491\n",
       "   -3.52713   -32.802      80.299         -3.53892    -33.1873    -40.3107\n",
       " -103.601     112.519       2.35945  …   -15.5076     -59.0865     60.2993\n",
       "   29.8319     21.3044    -65.9596       -61.1746      57.5209    -55.4077\n",
       "  -23.4833     24.2646     71.4643        14.1607      60.3983    -66.4154\n",
       "    ⋮                                ⋱                           \n",
       "  -45.0787     53.1576    -81.7617        34.0693      96.4412      2.97045\n",
       "  -46.7557     28.715     -42.6673        15.3752       3.66784   -65.8162\n",
       "  -62.6393    -81.3192     32.7932   …    71.44        53.8821    -27.6316\n",
       "  -59.5958    -44.1074   -120.351         10.1068      86.8942    -15.5628\n",
       "    2.38881    14.8465     28.0304        -0.578292   -40.1922     24.4072\n",
       "    5.15418   -36.3862    -57.7786        19.6919      90.1485     44.4418\n",
       "   48.9187    -45.047      80.9914        59.1677     -77.5595     19.5396\n",
       "   92.8002    144.474      37.1138   …   -67.7093     -16.0734   -103.81\n",
       "   49.4757     -4.57836    10.2428       -80.5119      -9.5922     -3.65986\n",
       "   43.3222      7.15659   -35.2187      1967.44       -38.6434    -72.9995\n",
       "  -58.9106    -10.7143    -12.4275       -38.6434    2027.71      -47.1953\n",
       "  -43.9855     48.9423     10.6417       -72.9995     -47.1953   1947.94"
      ]
     },
     "execution_count": 53,
     "metadata": {},
     "output_type": "execute_result"
    }
   ],
   "source": [
    " "
   ]
  },
  {
   "cell_type": "code",
   "execution_count": 52,
   "id": "9778c707",
   "metadata": {},
   "outputs": [
    {
     "data": {
      "text/plain": [
       "1"
      ]
     },
     "execution_count": 52,
     "metadata": {},
     "output_type": "execute_result"
    }
   ],
   "source": [
    "XX = nothing\n",
    "sum(isnothing(XX))"
   ]
  },
  {
   "cell_type": "code",
   "execution_count": 44,
   "id": "4e52caf3",
   "metadata": {},
   "outputs": [
    {
     "data": {
      "text/plain": [
       "500-element Vector{Float64}:\n",
       "  649.5323052732912\n",
       "    5.488395420644084\n",
       "   68.06280186582002\n",
       "   35.91118007550056\n",
       "   15.022199146677965\n",
       "  -21.83215950015125\n",
       "  -16.662695985475953\n",
       "    2.2346768400890653\n",
       "   38.75416519685707\n",
       "    1.1517941395510007\n",
       "   92.20647568976926\n",
       "   33.607653648216655\n",
       "    8.600767642364477\n",
       "    ⋮\n",
       "    0.32767303634894845\n",
       "  -12.690046912812408\n",
       "   20.808326021875228\n",
       "   12.01369693783245\n",
       "   -0.2775459243551829\n",
       "   -2.6269671418771945\n",
       "   45.9147543678218\n",
       " -102.02473552924786\n",
       "   11.808810183880468\n",
       "   34.96758862833006\n",
       "   72.88516969444596\n",
       "   55.54044720609002"
      ]
     },
     "execution_count": 44,
     "metadata": {},
     "output_type": "execute_result"
    }
   ],
   "source": [
    "if (isnothing(XX))"
   ]
  },
  {
   "cell_type": "code",
   "execution_count": 42,
   "id": "cead6204",
   "metadata": {},
   "outputs": [
    {
     "data": {
      "text/plain": [
       "500-element Vector{Float64}:\n",
       "  0.32809168011734535\n",
       "  0.6835819551819734\n",
       " -0.8232725883428411\n",
       " -0.5878714316653364\n",
       "  0.4200103773408705\n",
       " -0.2492456100964521\n",
       " -1.04662472573756\n",
       "  0.12885549331263702\n",
       " -1.374153618957612\n",
       " -0.3265529417174109\n",
       " -0.8900152948782618\n",
       "  1.1265675985160934\n",
       " -0.3662501641360256\n",
       "  ⋮\n",
       " -0.0072689043331505155\n",
       "  0.2714118950864144\n",
       " -0.3321927503121732\n",
       " -0.20158628574070084\n",
       " -0.11618582286436409\n",
       " -0.5096769984240165\n",
       "  0.938592744112984\n",
       " -1.09940160378307\n",
       "  0.23867894247854457\n",
       "  0.8071514799031426\n",
       " -1.237216927989428\n",
       " -1.262698340448738"
      ]
     },
     "execution_count": 42,
     "metadata": {},
     "output_type": "execute_result"
    }
   ],
   "source": []
  },
  {
   "cell_type": "code",
   "execution_count": 30,
   "id": "c60b20a1",
   "metadata": {},
   "outputs": [
    {
     "data": {
      "text/plain": [
       "3898.9223872346697"
      ]
     },
     "execution_count": 30,
     "metadata": {},
     "output_type": "execute_result"
    }
   ],
   "source": [
    "sum(XX[1, :] * beta)"
   ]
  },
  {
   "cell_type": "code",
   "execution_count": 237,
   "id": "5ee5cfb7",
   "metadata": {},
   "outputs": [
    {
     "data": {
      "text/plain": [
       "10"
      ]
     },
     "execution_count": 237,
     "metadata": {},
     "output_type": "execute_result"
    }
   ],
   "source": [
    "    \n",
    "    5+5\n",
    "else \n",
    "    4+4\n",
    "end"
   ]
  },
  {
   "cell_type": "code",
   "execution_count": 219,
   "id": "d0623d1c",
   "metadata": {},
   "outputs": [
    {
     "ename": "LoadError",
     "evalue": "UndefVarError: list not defined",
     "output_type": "error",
     "traceback": [
      "UndefVarError: list not defined",
      "",
      "Stacktrace:",
      " [1] top-level scope",
      "   @ In[219]:1",
      " [2] eval",
      "   @ .\\boot.jl:373 [inlined]",
      " [3] include_string(mapexpr::typeof(REPL.softscope), mod::Module, code::String, filename::String)",
      "   @ Base .\\loading.jl:1196"
     ]
    }
   ],
   "source": [
    "a = list(maxIter = 1000, optTol = 10^(-5), zeroThreshold = 10^(-6))"
   ]
  },
  {
   "cell_type": "code",
   "execution_count": 223,
   "id": "41cab1ee",
   "metadata": {},
   "outputs": [
    {
     "name": "stderr",
     "output_type": "stream",
     "text": [
      "\u001b[32m\u001b[1m    Updating\u001b[22m\u001b[39m registry at `C:\\Users\\Alexander\\.julia\\registries\\General.toml`\n",
      "\u001b[32m\u001b[1m   Resolving\u001b[22m\u001b[39m package versions...\n",
      "\u001b[32m\u001b[1m   Installed\u001b[22m\u001b[39m Parameters ─ v0.12.3\n",
      "\u001b[32m\u001b[1m   Installed\u001b[22m\u001b[39m UnPack ───── v1.0.2\n",
      "\u001b[32m\u001b[1m    Updating\u001b[22m\u001b[39m `C:\\Users\\Alexander\\.julia\\environments\\v1.7\\Project.toml`\n",
      " \u001b[90m [d96e819e] \u001b[39m\u001b[92m+ Parameters v0.12.3\u001b[39m\n",
      "\u001b[32m\u001b[1m    Updating\u001b[22m\u001b[39m `C:\\Users\\Alexander\\.julia\\environments\\v1.7\\Manifest.toml`\n",
      " \u001b[90m [d96e819e] \u001b[39m\u001b[92m+ Parameters v0.12.3\u001b[39m\n",
      " \u001b[90m [3a884ed6] \u001b[39m\u001b[92m+ UnPack v1.0.2\u001b[39m\n",
      "\u001b[32m\u001b[1mPrecompiling\u001b[22m\u001b[39m project...\n",
      "\u001b[32m  ✓ \u001b[39m\u001b[90mUnPack\u001b[39m\n",
      "\u001b[32m  ✓ \u001b[39mParameters\n",
      "  2 dependencies successfully precompiled in 1 seconds (68 already precompiled)\n"
     ]
    }
   ],
   "source": [
    "import Pkg; Pkg.add(\"Parameters\")"
   ]
  },
  {
   "cell_type": "code",
   "execution_count": 227,
   "id": "729865d4",
   "metadata": {},
   "outputs": [
    {
     "data": {
      "text/plain": [
       "A"
      ]
     },
     "execution_count": 227,
     "metadata": {},
     "output_type": "execute_result"
    }
   ],
   "source": [
    "using Parameters\n",
    "@with_kw struct A\n",
    "           a::Int = 6\n",
    "           b::Float64 = -1.1\n",
    "           c::UInt8\n",
    "       end"
   ]
  },
  {
   "cell_type": "code",
   "execution_count": 224,
   "id": "ffea29bb",
   "metadata": {},
   "outputs": [
    {
     "ename": "LoadError",
     "evalue": "syntax: extra token \"Params\" after end of expression",
     "output_type": "error",
     "traceback": [
      "syntax: extra token \"Params\" after end of expression",
      "",
      "Stacktrace:",
      " [1] top-level scope",
      "   @ In[224]:3",
      " [2] eval",
      "   @ .\\boot.jl:373 [inlined]",
      " [3] include_string(mapexpr::typeof(REPL.softscope), mod::Module, code::String, filename::String)",
      "   @ Base .\\loading.jl:1196"
     ]
    }
   ],
   "source": [
    "using Parameters\n",
    "\n",
    "type Params\n",
    "    a::TypeOfA\n",
    "    b::TypeOfB\n",
    "    c::TypeOfC\n",
    "end"
   ]
  },
  {
   "cell_type": "code",
   "execution_count": 228,
   "id": "51365a4a",
   "metadata": {},
   "outputs": [
    {
     "data": {
      "text/plain": [
       "A\n",
       "  a: Int64 6\n",
       "  b: Float64 -1.1\n",
       "  c: UInt8 0x04\n"
      ]
     },
     "execution_count": 228,
     "metadata": {},
     "output_type": "execute_result"
    }
   ],
   "source": [
    "A(c=4)"
   ]
  },
  {
   "cell_type": "code",
   "execution_count": 229,
   "id": "e70467da",
   "metadata": {},
   "outputs": [
    {
     "data": {
      "text/plain": [
       "A\n",
       "  a: Int64 2\n",
       "  b: Float64 -1.1\n",
       "  c: UInt8 0x04\n"
      ]
     },
     "execution_count": 229,
     "metadata": {},
     "output_type": "execute_result"
    }
   ],
   "source": [
    "A(c=4, a = 2)\n"
   ]
  },
  {
   "cell_type": "code",
   "execution_count": 225,
   "id": "679d5e02",
   "metadata": {},
   "outputs": [
    {
     "ename": "LoadError",
     "evalue": "UndefVarError: Params not defined",
     "output_type": "error",
     "traceback": [
      "UndefVarError: Params not defined",
      "",
      "Stacktrace:",
      " [1] top-level scope",
      "   @ In[225]:1",
      " [2] eval",
      "   @ .\\boot.jl:373 [inlined]",
      " [3] include_string(mapexpr::typeof(REPL.softscope), mod::Module, code::String, filename::String)",
      "   @ Base .\\loading.jl:1196"
     ]
    }
   ],
   "source": [
    "function dxdt(x, p::Params)\n",
    "    p.a*x^2 + p.b*x + p.c\n",
    "end"
   ]
  },
  {
   "cell_type": "code",
   "execution_count": null,
   "id": "612a6cce",
   "metadata": {},
   "outputs": [],
   "source": []
  },
  {
   "cell_type": "code",
   "execution_count": null,
   "id": "7ff9062c",
   "metadata": {},
   "outputs": [],
   "source": []
  },
  {
   "cell_type": "code",
   "execution_count": null,
   "id": "429b9500",
   "metadata": {},
   "outputs": [],
   "source": []
  },
  {
   "cell_type": "code",
   "execution_count": null,
   "id": "f0787b4f",
   "metadata": {},
   "outputs": [],
   "source": []
  },
  {
   "cell_type": "code",
   "execution_count": null,
   "id": "42637ce7",
   "metadata": {},
   "outputs": [],
   "source": []
  },
  {
   "cell_type": "code",
   "execution_count": null,
   "id": "4075237d",
   "metadata": {},
   "outputs": [],
   "source": []
  },
  {
   "cell_type": "code",
   "execution_count": null,
   "id": "c820d3f8",
   "metadata": {},
   "outputs": [],
   "source": []
  },
  {
   "cell_type": "code",
   "execution_count": null,
   "id": "0579fe23",
   "metadata": {},
   "outputs": [],
   "source": []
  },
  {
   "cell_type": "code",
   "execution_count": null,
   "id": "ccc2f57d",
   "metadata": {},
   "outputs": [],
   "source": []
  },
  {
   "cell_type": "code",
   "execution_count": null,
   "id": "b357b6e0",
   "metadata": {},
   "outputs": [],
   "source": []
  },
  {
   "cell_type": "code",
   "execution_count": null,
   "id": "8ef9be63",
   "metadata": {},
   "outputs": [],
   "source": []
  },
  {
   "cell_type": "code",
   "execution_count": null,
   "id": "32a8b9be",
   "metadata": {},
   "outputs": [],
   "source": []
  },
  {
   "cell_type": "code",
   "execution_count": null,
   "id": "78e2d31e",
   "metadata": {},
   "outputs": [],
   "source": []
  },
  {
   "cell_type": "code",
   "execution_count": 241,
   "id": "0da7fec7",
   "metadata": {},
   "outputs": [
    {
     "ename": "LoadError",
     "evalue": "DimensionMismatch(\"cross product is only defined for vectors of length 3\")",
     "output_type": "error",
     "traceback": [
      "DimensionMismatch(\"cross product is only defined for vectors of length 3\")",
      "",
      "Stacktrace:",
      " [1] cross(a::Vector{Float64}, b::Vector{Float64})",
      "   @ LinearAlgebra C:\\Users\\Alexander\\AppData\\Local\\Programs\\Julia-1.7.2\\share\\julia\\stdlib\\v1.7\\LinearAlgebra\\src\\generic.jl:312",
      " [2] top-level scope",
      "   @ In[241]:1",
      " [3] eval",
      "   @ .\\boot.jl:373 [inlined]",
      " [4] include_string(mapexpr::typeof(REPL.softscope), mod::Module, code::String, filename::String)",
      "   @ Base .\\loading.jl:1196"
     ]
    }
   ],
   "source": [
    "cross(Y, Y)"
   ]
  },
  {
   "cell_type": "code",
   "execution_count": 238,
   "id": "2a3dbd7b",
   "metadata": {},
   "outputs": [
    {
     "data": {
      "text/plain": [
       "1000×500 Matrix{Float64}:\n",
       "  0.320504    1.14625     0.298372   …   0.527972     1.17221    -0.375504\n",
       "  0.577118   -1.15784     1.52036       -0.400193    -1.54773     0.0994018\n",
       " -0.326732   -0.291426   -1.11486       -0.269266     0.4892      1.21931\n",
       " -0.672119    1.69133     0.471579       0.490546     0.284411    0.593264\n",
       " -0.398246    0.506194    0.195175      -0.466362    -1.41399     0.349464\n",
       " -0.570435    1.50233     0.337755   …   0.0225933    0.651143   -0.882149\n",
       "  0.88426     0.0615439  -0.798528      -0.611395    -0.551933    0.299965\n",
       "  0.0695875  -0.0737481   1.9851         0.519225     0.228208    0.374031\n",
       " -0.165538    1.12471     0.113689       0.300726     2.0811      0.745988\n",
       "  0.229808    1.62616    -0.514148      -0.787419    -1.3068      0.610543\n",
       "  0.0447416  -0.668053   -0.782319   …  -1.28375     -1.31779    -1.45768\n",
       " -0.942964   -0.63967     0.888524      -0.671943     0.770762    0.0628972\n",
       "  0.579881    0.958627    0.131638       0.102862     1.27528    -1.18949\n",
       "  ⋮                                  ⋱                           \n",
       "  0.43262     2.86293     1.27448        0.316746    -0.509066   -1.98002\n",
       " -0.0373243   0.774767   -0.425694      -0.84382     -1.2555     -0.980045\n",
       " -0.834369   -0.388152   -2.71435    …  -0.00629859  -0.894019    1.27818\n",
       " -0.442672   -1.24015    -0.107798       0.544426    -0.0721906   0.944035\n",
       " -1.30176     0.161891    1.81128       -0.228568    -0.535959   -0.908285\n",
       " -0.867099    1.3028      0.138306      -1.63608     -0.129669   -0.330936\n",
       "  0.0747963  -0.182056    0.554796      -0.717036    -1.62055    -0.0357979\n",
       "  1.08835    -0.44315     0.0297625  …   0.0772761   -0.706593   -0.10832\n",
       "  1.77518    -1.16465    -0.262936      -1.15038      0.525902   -0.50445\n",
       " -0.033948    0.0708725   0.523624       0.225326    -0.67811    -0.426682\n",
       "  0.961056   -0.0565014   2.54637        0.018577    -0.073414    1.00314\n",
       "  0.265421   -0.712128   -2.17361        2.25453     -1.47563    -0.0125458"
      ]
     },
     "execution_count": 238,
     "metadata": {},
     "output_type": "execute_result"
    }
   ],
   "source": [
    "X"
   ]
  },
  {
   "cell_type": "code",
   "execution_count": null,
   "id": "4704ed33",
   "metadata": {},
   "outputs": [],
   "source": []
  },
  {
   "cell_type": "code",
   "execution_count": null,
   "id": "fecc2925",
   "metadata": {},
   "outputs": [],
   "source": []
  },
  {
   "cell_type": "code",
   "execution_count": 209,
   "id": "539bd63e",
   "metadata": {},
   "outputs": [
    {
     "data": {
      "text/plain": [
       "5-element Vector{Int64}:\n",
       "   1\n",
       " 251\n",
       " 246\n",
       "  42\n",
       " 115"
      ]
     },
     "execution_count": 209,
     "metadata": {},
     "output_type": "execute_result"
    }
   ],
   "source": [
    "init_values(X,Y)[3]"
   ]
  },
  {
   "cell_type": "code",
   "execution_count": 210,
   "id": "af5212d6",
   "metadata": {},
   "outputs": [
    {
     "data": {
      "text/plain": [
       "1×1 Matrix{Matrix{Float64}}:\n",
       " [0.3205038540809568 1.1462460602530362 … 1.1722062368332917 -0.3755041837937341; 0.5771176089449284 -1.1578371393750535 … -1.547729519036273 0.09940177005469272; … ; 0.9610560229135284 -0.05650135793843897 … -0.07341403741028152 1.0031426031995534; 0.2654207694072223 -0.7121275221457716 … -1.4756293553765882 -0.012545777760569515]"
      ]
     },
     "execution_count": 210,
     "metadata": {},
     "output_type": "execute_result"
    }
   ],
   "source": [
    "cvec(X)"
   ]
  },
  {
   "cell_type": "code",
   "execution_count": 211,
   "id": "e21703d0",
   "metadata": {},
   "outputs": [
    {
     "data": {
      "text/plain": [
       "501-element Vector{Float64}:\n",
       "  1.0\n",
       " -0.003886119431972953\n",
       "  0.03706782749294737\n",
       "  0.03494361517156133\n",
       "  0.012419207517462444\n",
       " -0.02730509293031313\n",
       " -0.004814898460052241\n",
       " -0.025987877930942885\n",
       "  0.03760908249609779\n",
       " -0.01958537824382861\n",
       "  0.010535119000819186\n",
       "  0.03744267153954585\n",
       "  0.001426247728775916\n",
       "  ⋮\n",
       "  0.048185048214358824\n",
       " -0.021221444240598384\n",
       "  0.0023730809067254084\n",
       "  0.008513807964957315\n",
       " -0.01107407506240078\n",
       " -0.01906917318260618\n",
       "  0.013079792496754079\n",
       " -0.02371831145875313\n",
       " -0.02095867341069991\n",
       "  0.07836177941848728\n",
       " -0.07834830154906036\n",
       "  0.0038602863764652545"
      ]
     },
     "execution_count": 211,
     "metadata": {},
     "output_type": "execute_result"
    }
   ],
   "source": [
    "corre(Y, X)"
   ]
  },
  {
   "cell_type": "code",
   "execution_count": 192,
   "id": "0017b394",
   "metadata": {},
   "outputs": [
    {
     "ename": "LoadError",
     "evalue": "ArgumentError: number of rows of each array must match (got (1, 1000))",
     "output_type": "error",
     "traceback": [
      "ArgumentError: number of rows of each array must match (got (1, 1000))",
      "",
      "Stacktrace:",
      " [1] _typed_hcat(#unused#::Type{Any}, A::Tuple{Matrix{Matrix{Matrix{Matrix{Vector{Float64}}}}}, Matrix{Float64}})",
      "   @ Base .\\abstractarray.jl:1570",
      " [2] typed_hcat",
      "   @ .\\abstractarray.jl:1557 [inlined]",
      " [3] hcat",
      "   @ C:\\Users\\Alexander\\AppData\\Local\\Programs\\Julia-1.7.2\\share\\julia\\stdlib\\v1.7\\SparseArrays\\src\\sparsevector.jl:1126 [inlined]",
      " [4] corre(y::Matrix{Matrix{Matrix{Matrix{Vector{Float64}}}}}, X::Matrix{Float64})",
      "   @ Main .\\In[181]:13",
      " [5] init_values(X::Matrix{Float64}, y::Matrix{Matrix{Matrix{Vector{Float64}}}}, number::Int64, intercetp::Bool)",
      "   @ Main .\\In[186]:14",
      " [6] init_values(X::Matrix{Float64}, y::Matrix{Matrix{Matrix{Vector{Float64}}}})",
      "   @ Main .\\In[186]:2",
      " [7] top-level scope",
      "   @ In[192]:1",
      " [8] eval",
      "   @ .\\boot.jl:373 [inlined]",
      " [9] include_string(mapexpr::typeof(REPL.softscope), mod::Module, code::String, filename::String)",
      "   @ Base .\\loading.jl:1196"
     ]
    }
   ],
   "source": [
    "init_values(X, Y)"
   ]
  },
  {
   "cell_type": "code",
   "execution_count": 190,
   "id": "74c48db6",
   "metadata": {},
   "outputs": [
    {
     "ename": "LoadError",
     "evalue": "ArgumentError: number of rows of each array must match (got (1, 1000))",
     "output_type": "error",
     "traceback": [
      "ArgumentError: number of rows of each array must match (got (1, 1000))",
      "",
      "Stacktrace:",
      " [1] _typed_hcat(#unused#::Type{Any}, A::Tuple{Matrix{Matrix{Matrix{Vector{Float64}}}}, Matrix{Float64}})",
      "   @ Base .\\abstractarray.jl:1570",
      " [2] typed_hcat",
      "   @ .\\abstractarray.jl:1557 [inlined]",
      " [3] hcat",
      "   @ C:\\Users\\Alexander\\AppData\\Local\\Programs\\Julia-1.7.2\\share\\julia\\stdlib\\v1.7\\SparseArrays\\src\\sparsevector.jl:1126 [inlined]",
      " [4] corre(y::Matrix{Matrix{Matrix{Vector{Float64}}}}, X::Matrix{Float64})",
      "   @ Main .\\In[181]:13",
      " [5] top-level scope",
      "   @ In[190]:5",
      " [6] eval",
      "   @ .\\boot.jl:373 [inlined]",
      " [7] include_string(mapexpr::typeof(REPL.softscope), mod::Module, code::String, filename::String)",
      "   @ Base .\\loading.jl:1196"
     ]
    }
   ],
   "source": [
    "    # Make sure y is a proper column vector\n",
    "    Y = cvec(Y)\n",
    "    \n",
    "    # Get the absolute value of correlations between y and X\n",
    "    corr = broadcast(abs, corre(Y, X))\n",
    "    "
   ]
  },
  {
   "cell_type": "code",
   "execution_count": 196,
   "id": "eb18338e",
   "metadata": {},
   "outputs": [
    {
     "data": {
      "text/plain": [
       "501-element Vector{Float64}:\n",
       "  1.0\n",
       " -0.003886119431972953\n",
       "  0.03706782749294737\n",
       "  0.03494361517156133\n",
       "  0.012419207517462444\n",
       " -0.02730509293031313\n",
       " -0.004814898460052241\n",
       " -0.025987877930942885\n",
       "  0.03760908249609779\n",
       " -0.01958537824382861\n",
       "  0.010535119000819186\n",
       "  0.03744267153954585\n",
       "  0.001426247728775916\n",
       "  ⋮\n",
       "  0.048185048214358824\n",
       " -0.021221444240598384\n",
       "  0.0023730809067254084\n",
       "  0.008513807964957315\n",
       " -0.01107407506240078\n",
       " -0.01906917318260618\n",
       "  0.013079792496754079\n",
       " -0.02371831145875313\n",
       " -0.02095867341069991\n",
       "  0.07836177941848728\n",
       " -0.07834830154906036\n",
       "  0.0038602863764652545"
      ]
     },
     "execution_count": 196,
     "metadata": {},
     "output_type": "execute_result"
    }
   ],
   "source": [
    "# We have to make sure that both variables are the same type (Integers or floats) to avoid errors when running the regression\n",
    "n = 1000\n",
    "p = Int(n/2)\n",
    "\n",
    "# Create a nxp matrix of standard Gaussians\n",
    "X = randn(n, p)\n",
    "\n",
    "# Create a nx1 matrix of standard Gaussians\n",
    "Y = randn(n)\n",
    "corre(Y, X)"
   ]
  },
  {
   "cell_type": "code",
   "execution_count": 189,
   "id": "75692ac4",
   "metadata": {},
   "outputs": [
    {
     "ename": "LoadError",
     "evalue": "ArgumentError: number of rows of each array must match (got (1, 1000))",
     "output_type": "error",
     "traceback": [
      "ArgumentError: number of rows of each array must match (got (1, 1000))",
      "",
      "Stacktrace:",
      " [1] _typed_hcat(#unused#::Type{Any}, A::Tuple{Matrix{Matrix{Vector{Float64}}}, Matrix{Float64}})",
      "   @ Base .\\abstractarray.jl:1570",
      " [2] typed_hcat",
      "   @ .\\abstractarray.jl:1557 [inlined]",
      " [3] hcat",
      "   @ C:\\Users\\Alexander\\AppData\\Local\\Programs\\Julia-1.7.2\\share\\julia\\stdlib\\v1.7\\SparseArrays\\src\\sparsevector.jl:1126 [inlined]",
      " [4] corre(y::Matrix{Matrix{Vector{Float64}}}, X::Matrix{Float64})",
      "   @ Main .\\In[181]:13",
      " [5] top-level scope",
      "   @ In[189]:5",
      " [6] eval",
      "   @ .\\boot.jl:373 [inlined]",
      " [7] include_string(mapexpr::typeof(REPL.softscope), mod::Module, code::String, filename::String)",
      "   @ Base .\\loading.jl:1196"
     ]
    }
   ],
   "source": [
    "    # Get the number of columns of X\n",
    "    kx = size(X)[2]\n",
    "    \n",
    "    # Make an index selecting the five columns of X which are most correlated\n",
    "    # with y (since .argsort() always sorts in increasing order, selecting from\n",
    "    # the back gets the most highly correlated columns)\n",
    "    index = sortperm(corr, rev=true)[1: min(number, kx)]\n",
    "    "
   ]
  },
  {
   "cell_type": "code",
   "execution_count": 188,
   "id": "ec977c88",
   "metadata": {},
   "outputs": [
    {
     "ename": "LoadError",
     "evalue": "ArgumentError: number of rows of each array must match (got (1, 1000))",
     "output_type": "error",
     "traceback": [
      "ArgumentError: number of rows of each array must match (got (1, 1000))",
      "",
      "Stacktrace:",
      " [1] _typed_hcat(#unused#::Type{Any}, A::Tuple{Matrix{Vector{Float64}}, Matrix{Float64}})",
      "   @ Base .\\abstractarray.jl:1570",
      " [2] typed_hcat",
      "   @ .\\abstractarray.jl:1557 [inlined]",
      " [3] hcat",
      "   @ C:\\Users\\Alexander\\AppData\\Local\\Programs\\Julia-1.7.2\\share\\julia\\stdlib\\v1.7\\SparseArrays\\src\\sparsevector.jl:1126 [inlined]",
      " [4] corre(y::Matrix{Vector{Float64}}, X::Matrix{Float64})",
      "   @ Main .\\In[181]:13",
      " [5] top-level scope",
      "   @ In[188]:5",
      " [6] eval",
      "   @ .\\boot.jl:373 [inlined]",
      " [7] include_string(mapexpr::typeof(REPL.softscope), mod::Module, code::String, filename::String)",
      "   @ Base .\\loading.jl:1196"
     ]
    }
   ],
   "source": [
    "    # Set up an array of coefficient guesses\n",
    "    coefficients = zeros(kx)\n",
    "    \n",
    "    # Regress y on the five most correlated columns of X, including an intercept\n",
    "    # if desired\n",
    "    reg = lm(X[:, index], Y)\n",
    "    \n",
    "    # Replace the guesses for the estimated coefficients (note that .coef_ does\n",
    "    # not return the estimated intercept, if one was included in the model)\n",
    "    \n",
    "    coefficients[index] = GLM.coef(reg)\n",
    "    \n",
    "    # Replace any NANs as zeros\n",
    "    replace!(coefficients, NaN=>0)\n",
    "    \n",
    "    # Get the regression residuals\n",
    "    residuals = Y - predict(reg, X[:, index])"
   ]
  },
  {
   "cell_type": "code",
   "execution_count": 185,
   "id": "7f22dbe6",
   "metadata": {},
   "outputs": [
    {
     "data": {
      "text/plain": [
       "500"
      ]
     },
     "execution_count": 185,
     "metadata": {},
     "output_type": "execute_result"
    }
   ],
   "source": [
    "size(X)[2]"
   ]
  },
  {
   "cell_type": "code",
   "execution_count": null,
   "id": "60990e13",
   "metadata": {},
   "outputs": [],
   "source": []
  },
  {
   "cell_type": "code",
   "execution_count": 158,
   "id": "5dac424f",
   "metadata": {},
   "outputs": [
    {
     "data": {
      "text/plain": [
       "LinearModel{GLM.LmResp{Vector{Float64}}, GLM.DensePredChol{Float64, CholeskyPivoted{Float64, Matrix{Float64}}}}:\n",
       "\n",
       "Coefficients:\n",
       "──────────────────────────────────────────────────────────────────\n",
       "         Coef.  Std. Error      t  Pr(>|t|)   Lower 95%  Upper 95%\n",
       "──────────────────────────────────────────────────────────────────\n",
       "x1  -0.0203985   0.0307064  -0.66    0.5066  -0.0806552  0.0398581\n",
       "x2  -0.0247873   0.0312072  -0.79    0.4272  -0.0860265  0.036452\n",
       "x3  -0.0423043   0.030425   -1.39    0.1647  -0.102009   0.0174001\n",
       "──────────────────────────────────────────────────────────────────\n"
      ]
     },
     "execution_count": 158,
     "metadata": {},
     "output_type": "execute_result"
    }
   ],
   "source": [
    "ols = lm(X[:, index], Y)"
   ]
  },
  {
   "cell_type": "code",
   "execution_count": 168,
   "id": "aa8247c1",
   "metadata": {},
   "outputs": [
    {
     "data": {
      "text/plain": [
       "2×3 Matrix{Float64}:\n",
       " 1.0  2.0    3.0\n",
       " 4.0  5.0  NaN"
      ]
     },
     "execution_count": 168,
     "metadata": {},
     "output_type": "execute_result"
    }
   ],
   "source": [
    "a = [1 2 3; 4 5 Inf]\n",
    "replace!(a, Inf=>NaN)"
   ]
  },
  {
   "cell_type": "code",
   "execution_count": 169,
   "id": "d624ffd2",
   "metadata": {},
   "outputs": [
    {
     "data": {
      "text/plain": [
       "2×3 Matrix{Float64}:\n",
       " 1.0  2.0    3.0\n",
       " 4.0  5.0  NaN"
      ]
     },
     "execution_count": 169,
     "metadata": {},
     "output_type": "execute_result"
    }
   ],
   "source": [
    "a"
   ]
  },
  {
   "cell_type": "code",
   "execution_count": 174,
   "id": "71d53139",
   "metadata": {},
   "outputs": [
    {
     "data": {
      "text/plain": [
       "0.014763077531358108"
      ]
     },
     "execution_count": 174,
     "metadata": {},
     "output_type": "execute_result"
    }
   ],
   "source": [
    "mean(Y - predict(ols, X[:, index]))"
   ]
  },
  {
   "cell_type": "code",
   "execution_count": 166,
   "id": "231feca9",
   "metadata": {},
   "outputs": [
    {
     "data": {
      "text/plain": [
       "1×6 Matrix{Int64}:\n",
       " 1  1  1  4  5  6"
      ]
     },
     "execution_count": 166,
     "metadata": {},
     "output_type": "execute_result"
    }
   ],
   "source": [
    "a = [1 1 1 4 5 6]"
   ]
  },
  {
   "cell_type": "code",
   "execution_count": 171,
   "id": "c8a95dbf",
   "metadata": {},
   "outputs": [
    {
     "data": {
      "text/plain": [
       "2×3 Matrix{Float64}:\n",
       " 1.0  2.0  3.0\n",
       " 4.0  5.0  0.0"
      ]
     },
     "execution_count": 171,
     "metadata": {},
     "output_type": "execute_result"
    }
   ],
   "source": [
    "replace!(a, NaN=>0)"
   ]
  },
  {
   "cell_type": "code",
   "execution_count": 160,
   "id": "37395e6b",
   "metadata": {},
   "outputs": [
    {
     "data": {
      "text/plain": [
       "3-element Vector{Float64}:\n",
       " -0.020398505457739254\n",
       " -0.024787273154710084\n",
       " -0.04230432198737893"
      ]
     },
     "execution_count": 160,
     "metadata": {},
     "output_type": "execute_result"
    }
   ],
   "source": [
    "\n",
    "GLM.coef(ols)"
   ]
  },
  {
   "cell_type": "code",
   "execution_count": 147,
   "id": "0e2a51b0",
   "metadata": {},
   "outputs": [
    {
     "data": {
      "text/plain": [
       "6-element Vector{Float64}:\n",
       "  1.0\n",
       " -0.521352401935652\n",
       "  0.1246802315106248\n",
       "  0.6842412124629703\n",
       "  0.9694584179118517\n",
       " -0.3614031611621005"
      ]
     },
     "execution_count": 147,
     "metadata": {},
     "output_type": "execute_result"
    }
   ],
   "source": [
    "a = [1 2 3 4 5 6]\n",
    "b = [50 6 10 8 11 15; 15 10 40 20 18 19; 1 5 9 7 5 88; 3 5 7 8 8 11; 4 8 9 7 5 3 ]\n",
    "correl = corre(transpose(a), transpose(b))\n",
    "correl"
   ]
  },
  {
   "cell_type": "code",
   "execution_count": 148,
   "id": "66875ad6",
   "metadata": {},
   "outputs": [
    {
     "data": {
      "text/plain": [
       "1000-element Vector{Float64}:\n",
       "  0.31406422831316066\n",
       " -1.0993980457316037\n",
       "  0.8904762854086176\n",
       " -1.3362181789299465\n",
       " -1.2709415829941277\n",
       " -0.5700644770111263\n",
       "  1.8975500839259551\n",
       "  0.867329064150445\n",
       " -0.37871911493251176\n",
       "  0.4019643214773681\n",
       "  1.756269018284203\n",
       "  1.497051192242682\n",
       "  0.4349924710384791\n",
       "  ⋮\n",
       "  0.2920256281470452\n",
       " -0.7501161547891307\n",
       "  0.4996084216019428\n",
       " -0.04407197393989204\n",
       "  1.176801049227538\n",
       " -1.4525410822778444\n",
       " -1.0842708152155545\n",
       "  0.07515026558261212\n",
       "  0.6580326270741598\n",
       "  1.0600394433444684\n",
       "  0.24687194870050067\n",
       "  1.3831861222026514"
      ]
     },
     "execution_count": 148,
     "metadata": {},
     "output_type": "execute_result"
    }
   ],
   "source": [
    "# We have to make sure that both variables are the same type (Integers or floats) to avoid errors when running the regression\n",
    "n = 1000\n",
    "p = Int(n/2)\n",
    "\n",
    "# Create a nxp matrix of standard Gaussians\n",
    "X = randn(n, p)\n",
    "\n",
    "# Create a nx1 matrix of standard Gaussians\n",
    "Y = randn(n)"
   ]
  },
  {
   "cell_type": "code",
   "execution_count": 151,
   "id": "bbe923f5",
   "metadata": {},
   "outputs": [
    {
     "data": {
      "text/plain": [
       "LinearModel{GLM.LmResp{Vector{Float64}}, GLM.DensePredChol{Float64, CholeskyPivoted{Float64, Matrix{Float64}}}}:\n",
       "\n",
       "Coefficients:\n",
       "──────────────────────────────────────────────────────────────────\n",
       "         Coef.  Std. Error      t  Pr(>|t|)   Lower 95%  Upper 95%\n",
       "──────────────────────────────────────────────────────────────────\n",
       "x1  -0.0203985   0.0307064  -0.66    0.5066  -0.0806552  0.0398581\n",
       "x2  -0.0247873   0.0312072  -0.79    0.4272  -0.0860265  0.036452\n",
       "x3  -0.0423043   0.030425   -1.39    0.1647  -0.102009   0.0174001\n",
       "──────────────────────────────────────────────────────────────────\n"
      ]
     },
     "execution_count": 151,
     "metadata": {},
     "output_type": "execute_result"
    }
   ],
   "source": [
    "lm(X[:, index], Y)"
   ]
  },
  {
   "cell_type": "code",
   "execution_count": 156,
   "id": "41d1372a",
   "metadata": {},
   "outputs": [
    {
     "data": {
      "text/plain": [
       "LinearModel{GLM.LmResp{Vector{Float64}}, GLM.DensePredChol{Float64, CholeskyPivoted{Float64, Matrix{Float64}}}}:\n",
       "\n",
       "Coefficients:\n",
       "──────────────────────────────────────────────────────────────\n",
       "      Coef.  Std. Error      t  Pr(>|t|)  Lower 95%  Upper 95%\n",
       "──────────────────────────────────────────────────────────────\n",
       "x1  2.35714   0.0874818  26.94    0.0014    1.98074    2.73355\n",
       "──────────────────────────────────────────────────────────────\n"
      ]
     },
     "execution_count": 156,
     "metadata": {},
     "output_type": "execute_result"
    }
   ],
   "source": [
    "x = [1,2,3]; y = [2,5,7]\n",
    "lm(reshape(x, length(x), 1), y)"
   ]
  },
  {
   "cell_type": "code",
   "execution_count": 153,
   "id": "6ddb1989",
   "metadata": {},
   "outputs": [
    {
     "data": {
      "text/plain": [
       "3-element Vector{Int64}:\n",
       " 1\n",
       " 2\n",
       " 3"
      ]
     },
     "execution_count": 153,
     "metadata": {},
     "output_type": "execute_result"
    }
   ],
   "source": [
    "index"
   ]
  },
  {
   "cell_type": "code",
   "execution_count": 142,
   "id": "867b5022",
   "metadata": {},
   "outputs": [
    {
     "data": {
      "text/plain": [
       "10-element Vector{Float64}:\n",
       " 0.0\n",
       " 0.0\n",
       " 0.0\n",
       " 0.0\n",
       " 0.0\n",
       " 0.0\n",
       " 0.0\n",
       " 0.0\n",
       " 0.0\n",
       " 0.0"
      ]
     },
     "execution_count": 142,
     "metadata": {},
     "output_type": "execute_result"
    }
   ],
   "source": [
    "zeros(10)"
   ]
  },
  {
   "cell_type": "code",
   "execution_count": 77,
   "id": "1c4b4bff",
   "metadata": {},
   "outputs": [
    {
     "data": {
      "text/plain": [
       "3-element Vector{Float64}:\n",
       " 1.0\n",
       " 0.747748938368323\n",
       " 0.4417926243064343"
      ]
     },
     "execution_count": 77,
     "metadata": {},
     "output_type": "execute_result"
    }
   ],
   "source": [
    "corr = broadcast(abs, correl)"
   ]
  },
  {
   "cell_type": "code",
   "execution_count": 83,
   "id": "eaa81c5b",
   "metadata": {},
   "outputs": [
    {
     "data": {
      "text/plain": [
       "0.4417926243064343"
      ]
     },
     "execution_count": 83,
     "metadata": {},
     "output_type": "execute_result"
    }
   ],
   "source": [
    "minimum(corr)"
   ]
  },
  {
   "cell_type": "code",
   "execution_count": 87,
   "id": "63d48d8e",
   "metadata": {},
   "outputs": [
    {
     "data": {
      "text/plain": [
       "2-element Vector{Float64}:\n",
       " 1.0\n",
       " 0.9694584179118517"
      ]
     },
     "execution_count": 87,
     "metadata": {},
     "output_type": "execute_result"
    }
   ],
   "source": [
    "index = sort(correl, rev=true)[1:min(5,2)]"
   ]
  },
  {
   "cell_type": "code",
   "execution_count": 140,
   "id": "6218b2e4",
   "metadata": {},
   "outputs": [
    {
     "data": {
      "text/plain": [
       "3-element Vector{Int64}:\n",
       " 1\n",
       " 2\n",
       " 3"
      ]
     },
     "execution_count": 140,
     "metadata": {},
     "output_type": "execute_result"
    }
   ],
   "source": [
    "index = sortperm(corr, rev=true)"
   ]
  },
  {
   "cell_type": "code",
   "execution_count": 141,
   "id": "4b2e9605",
   "metadata": {},
   "outputs": [
    {
     "data": {
      "text/plain": [
       "3-element Vector{Float64}:\n",
       " 1.0\n",
       " 0.747748938368323\n",
       " 0.4417926243064343"
      ]
     },
     "execution_count": 141,
     "metadata": {},
     "output_type": "execute_result"
    }
   ],
   "source": [
    "corr[index]"
   ]
  },
  {
   "cell_type": "code",
   "execution_count": 134,
   "id": "8b7678f8",
   "metadata": {},
   "outputs": [
    {
     "data": {
      "text/plain": [
       "3-element Vector{Int64}:\n",
       " 3\n",
       " 2\n",
       " 1"
      ]
     },
     "execution_count": 134,
     "metadata": {},
     "output_type": "execute_result"
    }
   ],
   "source": [
    "index = sortperm(corr)[1:min(5,3)]"
   ]
  },
  {
   "cell_type": "code",
   "execution_count": 132,
   "id": "8e3928aa",
   "metadata": {},
   "outputs": [
    {
     "data": {
      "text/plain": [
       "3-element Vector{Float64}:\n",
       " 1.0\n",
       " 0.747748938368323\n",
       " 0.4417926243064343"
      ]
     },
     "execution_count": 132,
     "metadata": {},
     "output_type": "execute_result"
    }
   ],
   "source": [
    "corr"
   ]
  },
  {
   "cell_type": "code",
   "execution_count": 123,
   "id": "0424ffa6",
   "metadata": {},
   "outputs": [
    {
     "data": {
      "text/plain": [
       "5-element Vector{Int64}:\n",
       " 8\n",
       " 6\n",
       " 3\n",
       " 8\n",
       " 5"
      ]
     },
     "execution_count": 123,
     "metadata": {},
     "output_type": "execute_result"
    }
   ],
   "source": [
    "r = rand(0:9, 5)"
   ]
  },
  {
   "cell_type": "code",
   "execution_count": 121,
   "id": "6390ec41",
   "metadata": {},
   "outputs": [
    {
     "data": {
      "text/plain": [
       "1×5 Matrix{Int64}:\n",
       " 3  6  1  3  9"
      ]
     },
     "execution_count": 121,
     "metadata": {},
     "output_type": "execute_result"
    }
   ],
   "source": [
    "a = [3 6 1 3 9]"
   ]
  },
  {
   "cell_type": "code",
   "execution_count": 122,
   "id": "a7e673e6",
   "metadata": {},
   "outputs": [
    {
     "data": {
      "text/plain": [
       "5-element Vector{Int64}:\n",
       " 0\n",
       " 7\n",
       " 1\n",
       " 8\n",
       " 4"
      ]
     },
     "execution_count": 122,
     "metadata": {},
     "output_type": "execute_result"
    }
   ],
   "source": [
    "r"
   ]
  },
  {
   "cell_type": "code",
   "execution_count": 130,
   "id": "da97b2c8",
   "metadata": {},
   "outputs": [
    {
     "data": {
      "text/plain": [
       "3-element Vector{Int64}:\n",
       " 3\n",
       " 2\n",
       " 1"
      ]
     },
     "execution_count": 130,
     "metadata": {},
     "output_type": "execute_result"
    }
   ],
   "source": [
    "i = sortperm(corr )"
   ]
  },
  {
   "cell_type": "code",
   "execution_count": 129,
   "id": "5f467d0e",
   "metadata": {},
   "outputs": [
    {
     "data": {
      "text/plain": [
       "5-element Vector{Int64}:\n",
       " 3\n",
       " 5\n",
       " 6\n",
       " 8\n",
       " 8"
      ]
     },
     "execution_count": 129,
     "metadata": {},
     "output_type": "execute_result"
    }
   ],
   "source": [
    "r[i]"
   ]
  },
  {
   "cell_type": "code",
   "execution_count": 75,
   "id": "cb7621e1",
   "metadata": {},
   "outputs": [
    {
     "data": {
      "text/plain": [
       "3-element Vector{Float64}:\n",
       "  1.0\n",
       " -0.747748938368323\n",
       "  0.4417926243064343"
      ]
     },
     "execution_count": 75,
     "metadata": {},
     "output_type": "execute_result"
    }
   ],
   "source": [
    "correl = corre(transpose(a), transpose(b))"
   ]
  },
  {
   "cell_type": "code",
   "execution_count": 64,
   "id": "d5dcf273",
   "metadata": {},
   "outputs": [
    {
     "data": {
      "text/plain": [
       "4×3 Matrix{Int64}:\n",
       " 1  50  15\n",
       " 2   6  10\n",
       " 3  10  40\n",
       " 4   8  20"
      ]
     },
     "execution_count": 64,
     "metadata": {},
     "output_type": "execute_result"
    }
   ],
   "source": [
    "yX = hcat(transpose(y), transpose(X))\n",
    "\n"
   ]
  },
  {
   "cell_type": "code",
   "execution_count": 46,
   "id": "221148a5",
   "metadata": {},
   "outputs": [
    {
     "data": {
      "text/plain": [
       "3×3 Matrix{Float64}:\n",
       "  1.0       -0.747749   0.441793\n",
       " -0.747749   1.0       -0.243701\n",
       "  0.441793  -0.243701   1.0"
      ]
     },
     "execution_count": 46,
     "metadata": {},
     "output_type": "execute_result"
    }
   ],
   "source": [
    "corr = cor(yX)"
   ]
  },
  {
   "cell_type": "code",
   "execution_count": 48,
   "id": "3d341a54",
   "metadata": {},
   "outputs": [
    {
     "data": {
      "text/plain": [
       "3-element Vector{Float64}:\n",
       "  1.0\n",
       " -0.747748938368323\n",
       "  0.4417926243064343"
      ]
     },
     "execution_count": 48,
     "metadata": {},
     "output_type": "execute_result"
    }
   ],
   "source": [
    "corr = corr[1, :] "
   ]
  },
  {
   "cell_type": "code",
   "execution_count": null,
   "id": "29ff13e5",
   "metadata": {},
   "outputs": [],
   "source": []
  },
  {
   "cell_type": "code",
   "execution_count": null,
   "id": "32bc899a",
   "metadata": {},
   "outputs": [],
   "source": []
  },
  {
   "cell_type": "code",
   "execution_count": null,
   "id": "8cd5c553",
   "metadata": {},
   "outputs": [],
   "source": [
    "function OLSestimator(Y, X)\n",
    "\n",
    "    β = inv(X'*X)*(X'*Y)\n",
    "    # β = X\\Y\n",
    "    errors = Y - X*β\n",
    "    R_squared = 1.0 - sum(errors.^2.0)/sum((Y .- mean(Y)).^2.0)\n",
    "    R_squared_adj =  1.0 - ( 1.0 - R_squared )*( size(Y)[1] - 1.0 )/( size(Y)[1]- size(X)[2] - 1.0 )    \n",
    "    \n",
    "    return β, R_squared, R_squared_adj\n",
    "end"
   ]
  },
  {
   "cell_type": "code",
   "execution_count": 6,
   "id": "b0a5deda",
   "metadata": {},
   "outputs": [
    {
     "data": {
      "text/plain": [
       "1×3 Matrix{Int64}:\n",
       " 1  2  3"
      ]
     },
     "execution_count": 6,
     "metadata": {},
     "output_type": "execute_result"
    }
   ],
   "source": [
    "a = [1 2 3]\n",
    "vec = cat(a, dims = 2) "
   ]
  },
  {
   "cell_type": "code",
   "execution_count": 8,
   "id": "4151c21b",
   "metadata": {},
   "outputs": [
    {
     "data": {
      "text/plain": [
       "1"
      ]
     },
     "execution_count": 8,
     "metadata": {},
     "output_type": "execute_result"
    }
   ],
   "source": [
    " size(a)[1]"
   ]
  },
  {
   "cell_type": "code",
   "execution_count": 10,
   "id": "84ac0d35",
   "metadata": {},
   "outputs": [
    {
     "data": {
      "text/plain": [
       "3×1 transpose(::Matrix{Int64}) with eltype Int64:\n",
       " 1\n",
       " 2\n",
       " 3"
      ]
     },
     "execution_count": 10,
     "metadata": {},
     "output_type": "execute_result"
    }
   ],
   "source": [
    "transpose(a)"
   ]
  },
  {
   "cell_type": "code",
   "execution_count": null,
   "id": "322da2f0",
   "metadata": {},
   "outputs": [],
   "source": [
    "if x < y\n",
    "    println(\"x is less than y\")\n",
    "elseif x > y\n",
    "    println(\"x is greater than y\")\n",
    "else\n",
    "    println(\"x is equal to y\")\n",
    "end"
   ]
  }
 ],
 "metadata": {
  "kernelspec": {
   "display_name": "Julia 1.7.2",
   "language": "julia",
   "name": "julia-1.7"
  },
  "language_info": {
   "file_extension": ".jl",
   "mimetype": "application/julia",
   "name": "julia",
   "version": "1.7.2"
  }
 },
 "nbformat": 4,
 "nbformat_minor": 5
}
