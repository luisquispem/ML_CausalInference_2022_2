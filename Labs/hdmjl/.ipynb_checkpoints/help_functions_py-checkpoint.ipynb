{
 "cells": [
  {
   "cell_type": "code",
   "execution_count": 15,
   "id": "7d535b7f",
   "metadata": {},
   "outputs": [],
   "source": [
    "################################################################################\n",
    "### Python port of help_functions.R\n",
    "### https://github.com/cran/hdm/blob/master/R/help_functions.R\n",
    "################################################################################\n",
    "\n",
    "################################################################################\n",
    "### 1: Load modules\n",
    "################################################################################\n",
    "\n",
    "# Standard Python modules\n",
    "import numpy as np\n",
    "from sklearn.linear_model import LinearRegression as lm\n",
    "\n",
    "################################################################################\n",
    "### 2: Define functions\n",
    "################################################################################\n",
    "\n",
    "################################################################################\n",
    "### 2.1: Functions which are not in the original R package\n",
    "###      These are generally helper functions to allow an implementation which\n",
    "###      reads as closely to the original R code as possible, and to ease a\n",
    "###      Python implementation\n",
    "################################################################################\n",
    "\n",
    "\n",
    "# Define a function which turn a list or vector-like object into a proper two\n",
    "# dimensional column vector\n",
    "def cvec(a):\n",
    "    \"\"\" Turn a list or vector-like object into a proper column vector\n",
    "    Input\n",
    "    a: List or vector-like object, has to be a potential input for np.array()\n",
    "    Output\n",
    "    vec: two dimensional NumPy array, with the first dimension weakly greater\n",
    "         than the second (resulting in a column vector for a vector-like input)\n",
    "    \"\"\"\n",
    "    # Conver input into a two dimensional NumPy array\n",
    "    vec = np.array(a, ndmin=2)\n",
    "\n",
    "    # Check whether the second dimension is strictly greater than the first\n",
    "    # (remembering Python's zero indexing)\n",
    "    if vec.shape[0] < vec.shape[1]:\n",
    "        # If so, transpose the input vector\n",
    "        vec = vec.T\n",
    "\n",
    "    # Return the column vector\n",
    "    return vec\n",
    "\n",
    "\n",
    "# Define a function to mimic R's cor() function, which can take two matrices and\n",
    "# return the correlation coefficients between the columns of the first and the\n",
    "# columns of the second matrix\n",
    "def cor(y, X):\n",
    "    \"\"\" Return correlation coefficients between columns of matrices\n",
    "    Inputs\n",
    "    y: n by 1 NumPy array\n",
    "    X: n by k NumPy array\n",
    "    Outputs\n",
    "    corr: list of length k, where the k-th element is the correlation\n",
    "          coefficient between y and the k-th column of X\n",
    "    \"\"\"\n",
    "    # Concatenate y and X into a single NumPy array\n",
    "    yX = np.concatenate([y, X], axis=1)\n",
    "\n",
    "    # Get the correlation coefficients between all columns of that array\n",
    "    corr = np.corrcoef(yX, rowvar=False)\n",
    "\n",
    "    # Get the first row, starting at the first off-diagonal element (these are\n",
    "    # the correlation coefficients between y and each column of X\n",
    "    corr = corr[0,1:]\n",
    "\n",
    "    # Return the result\n",
    "    return corr"
   ]
  },
  {
   "cell_type": "code",
   "execution_count": 16,
   "id": "01a98c9a",
   "metadata": {},
   "outputs": [],
   "source": [
    "################################################################################\n",
    "### 2.2: Functions which are in the original R package\n",
    "################################################################################\n",
    "\n",
    "\n",
    "# Define a function which returns initial parameter guesses\n",
    "def init_values(X, y, number=5, intercept=True):\n",
    "    \"\"\" Return an initial parameter guess for a LASSO model\n",
    "    Inputs\n",
    "    y: n by 1 NumPy array, outcome variable\n",
    "    X: n by k NumPy array, RHS variables\n",
    "    Outputs\n",
    "    residuals: n ny 1 NumPy array, residuals for initial parameter guess\n",
    "    coefficients: k by 1 NumPy array, initial coefficient values\n",
    "    \"\"\"\n",
    "    # Make sure y is a proper column vector\n",
    "    y = cvec(y)\n",
    "\n",
    "    # Get the absolute value of correlations between y and X\n",
    "    corr = np.abs(cor(y, X))\n",
    "\n",
    "    # Get the number of columns of X\n",
    "    kx = X.shape[1]\n",
    "\n",
    "    # Make an index selecting the five columns of X which are most correlated\n",
    "    # with y (since .argsort() always sorts in increasing order, selecting from\n",
    "    # the back gets the most highly correlated columns)\n",
    "    index = corr.argsort()[-np.amin([number, kx]):]\n",
    "\n",
    "    # Set up an array of coefficient guesses\n",
    "    coefficients = np.zeros(shape=(kx, 1))\n",
    "\n",
    "    # Regress y on the five most correlated columns of X, including an intercept\n",
    "    # if desired\n",
    "    reg = lm(fit_intercept=intercept).fit(X[:, index], y)\n",
    "\n",
    "    # Replace the guesses for the estimated coefficients (note that .coef_ does\n",
    "    # not return the estimated intercept, if one was included in the model)\n",
    "    coefficients[index, :] = reg.coef_.T\n",
    "\n",
    "    # Replace any NANs as zeros\n",
    "    coefficients[np.isnan(coefficients)] = 0\n",
    "\n",
    "    # Get the regression residuals\n",
    "    residuals = y - reg.predict(X[:, index])\n",
    "\n",
    "    # Return the residuals and coefficients\n",
    "    return {'residuals': residuals, 'coefficients': coefficients, 'index': index }"
   ]
  },
  {
   "cell_type": "code",
   "execution_count": 17,
   "id": "5e7bec15",
   "metadata": {},
   "outputs": [],
   "source": [
    "################################################################################\n",
    "### Python port of LassoShooting.fit.R\n",
    "### https://github.com/cran/hdm/blob/master/R/LassoShooting.fit.R\n",
    "################################################################################\n",
    "\n",
    "################################################################################\n",
    "### 1: Load modules\n",
    "################################################################################\n",
    "\n",
    "# Standard Python modules\n",
    "import numpy as np\n",
    "\n",
    "# Other parts of hdmpy\n",
    "# from hdmpy.help_functions import cvec, init_values\n",
    "\n",
    "################################################################################\n",
    "### 2: Define function\n",
    "################################################################################\n",
    "\n",
    "# Define shooting LASSO with variable dependent penalty terms\n",
    "def LassoShooting_fit(x, y, lmbda, maxIter=1000, optTol=10**(-5),\n",
    "                      zeroThreshold=10**(-6), XX=None, Xy=None,\n",
    "                      beta_start=None):\n",
    "    \"\"\" Shooting LASSO algorithm with variable dependent penalty weights\n",
    "\n",
    "    Inputs\n",
    "    x: n by p NumPy array, RHS variables\n",
    "    y: n by 1 NumPy array, outcome variable\n",
    "    lmbda: p by 1 NumPy array, variable dependent penalty terms. The j-th\n",
    "           element is the penalty term for the j-th RHS variable.\n",
    "    maxIter: integer, maximum number of shooting LASSO updated\n",
    "    optTol: scalar, algorithm terminated once the sum of absolute differences\n",
    "            between the updated and current weights is below optTol\n",
    "    zeroThreshold: scalar, if any final weights are below zeroThreshold, they\n",
    "                   will be set to zero instead\n",
    "    XX: k by k NumPy array, pre-calculated version of x'x\n",
    "    Xy: k by 1 NumPy array, pre-calculated version of x'y\n",
    "    beta_start: k by 1 NumPy array, initial weights\n",
    "\n",
    "    Outputs\n",
    "    w: k by 1 NumPy array, final weights\n",
    "    wp: k by m + 1 NumPy array, where m is the number of iterations the\n",
    "        algorithm took. History of weight updates, starting with the initial\n",
    "        weights.\n",
    "    m: integer, number of iterations the algorithm took\n",
    "    \"\"\"\n",
    "    # Make sure that y and lmbda are proper column vectors\n",
    "    y = cvec(y)\n",
    "    lmbda = cvec(lmbda)\n",
    "\n",
    "    # Get number of observations n and number of variables p\n",
    "    n, p = x.shape\n",
    "\n",
    "    # Check whether XX and Xy were provided, calculate them if not\n",
    "    if XX is None:\n",
    "        XX = x.T @ x\n",
    "    if Xy is None:\n",
    "        Xy = x.T @ y\n",
    "\n",
    "    # Check whether an initial value for the intercept was provided\n",
    "    if beta_start is None:\n",
    "        # If not, use init_values from help_functions, which will return\n",
    "        # regression estimates for the five variables in x which are most\n",
    "        # correlated with y, and initialize all other coefficients as zero\n",
    "        beta = init_values(x, y, intercept=False)['coefficients']\n",
    "    else:\n",
    "        # Otherwise, use the provided initial weights\n",
    "        beta = beta_start\n",
    "\n",
    "    # Set up a history of weights over time, starting with the initial ones\n",
    "    wp = beta\n",
    "\n",
    "    # Keep track of the number of iterations\n",
    "    m = 1\n",
    "\n",
    "    # Create versions of XX and Xy which are just those matrices times two\n",
    "    XX2 = XX * 2\n",
    "    Xy2 = Xy * 2\n",
    "\n",
    "    # Go through all iterations\n",
    "    while m < maxIter:\n",
    "        # Save the last set of weights (the .copy() is important, otherwise\n",
    "        # beta_old will be updated every time beta is changed during the\n",
    "        # following loop)\n",
    "        beta_old = beta.copy()\n",
    "\n",
    "        # Go through all parameters\n",
    "        for j in np.arange(p):\n",
    "            # Calculate the shoot\n",
    "            S0 = XX2[j,:] @ beta - XX2[j,j] * beta[j,0] - Xy2[j,0]\n",
    "\n",
    "            # Update the weights\n",
    "            if np.isnan(S0).sum() >= 1:\n",
    "                beta[j] = 0\n",
    "            elif S0 > lmbda[j]:\n",
    "                beta[j] = (lmbda[j] - S0) / XX2[j,j]\n",
    "            elif S0 < -lmbda[j]:\n",
    "                beta[j] = (-lmbda[j] - S0) / XX2[j,j]\n",
    "            elif np.abs(S0) <= lmbda[j]:\n",
    "                beta[j] = 0\n",
    "\n",
    "        # Add the updated weights to the history of weights\n",
    "        wp = np.concatenate([wp, beta], axis=1)\n",
    "\n",
    "        # Check whether the weights are within tolerance\n",
    "        if np.abs(beta - beta_old).sum() < optTol:\n",
    "            # If so, break the while loop\n",
    "            break\n",
    "\n",
    "        # Increase the iteration counter\n",
    "        m = m + 1\n",
    "\n",
    "    # Set the final weights to the last updated weights\n",
    "    w = beta\n",
    "\n",
    "    # Set weights which are within zeroThreshold to zero\n",
    "    w[np.abs(w) < zeroThreshold] = 0\n",
    "\n",
    "    # Return the weights, history of weights, and iteration counter\n",
    "    return {'coefficients': w, 'coef.list': wp, 'num.it': m}"
   ]
  },
  {
   "cell_type": "markdown",
   "id": "d8cd9f69",
   "metadata": {},
   "source": [
    "# Test 1 "
   ]
  },
  {
   "cell_type": "code",
   "execution_count": 36,
   "id": "18847a7f",
   "metadata": {},
   "outputs": [
    {
     "name": "stdout",
     "output_type": "stream",
     "text": [
      "0.5714025946899135\n"
     ]
    }
   ],
   "source": [
    "import numpy as np\n",
    "import random\n",
    "import statsmodels.api as sm\n",
    "# Set Seed\n",
    "random.seed(10)\n",
    "print(random.random())\n",
    "\n",
    "n = 10\n",
    "p = n//2\n",
    "X = np.random.normal(0, 1, size=(n, p))\n",
    "Y = np.random.normal(0, 1,n)\n",
    "beta = np.random.normal(0, 1,n)\n",
    "lmbda = np.random.normal(0, 1,n)"
   ]
  },
  {
   "cell_type": "code",
   "execution_count": 37,
   "id": "eee38d50",
   "metadata": {},
   "outputs": [
    {
     "data": {
      "text/plain": [
       "array([[ 0.77361731],\n",
       "       [-0.95770003],\n",
       "       [ 0.        ],\n",
       "       [-0.93329414],\n",
       "       [ 0.        ]])"
      ]
     },
     "execution_count": 37,
     "metadata": {},
     "output_type": "execute_result"
    }
   ],
   "source": [
    "LassoShooting_fit(X, Y, lmbda)[\"coefficients\"]"
   ]
  },
  {
   "cell_type": "markdown",
   "id": "c15faaef",
   "metadata": {},
   "source": [
    "# Test 2 "
   ]
  },
  {
   "cell_type": "code",
   "execution_count": 45,
   "id": "e536a845",
   "metadata": {},
   "outputs": [
    {
     "data": {
      "text/plain": [
       "(5150, 20)"
      ]
     },
     "execution_count": 45,
     "metadata": {},
     "output_type": "execute_result"
    }
   ],
   "source": [
    "# Import relevant packages\n",
    "import pandas as pd\n",
    "import numpy as np\n",
    "import pyreadr\n",
    "rdata_read = pyreadr.read_r(\"../../data/wage2015_subsample_inference.Rdata\")\n",
    "data = rdata_read[ 'data' ]\n",
    "type(data)\n",
    "data.shape"
   ]
  },
  {
   "cell_type": "code",
   "execution_count": 46,
   "id": "0ab6af4c",
   "metadata": {},
   "outputs": [
    {
     "data": {
      "text/plain": [
       "array([[1., 0., 0., 0.],\n",
       "       [0., 0., 0., 0.],\n",
       "       [0., 0., 1., 0.],\n",
       "       ...,\n",
       "       [0., 0., 0., 0.],\n",
       "       [0., 0., 1., 0.],\n",
       "       [0., 0., 0., 0.]])"
      ]
     },
     "execution_count": 46,
     "metadata": {},
     "output_type": "execute_result"
    }
   ],
   "source": [
    "Y_2 = np.log2(data['wage']).to_numpy(dtype = float)\n",
    "n = len(Y)\n",
    "X = data.loc[:, ~data.columns.isin(['wage', 'lwage','Unnamed: 0'])].to_numpy(dtype = float)\n",
    "X_2 = X[:, 0:4]\n",
    "lmbda = np.random.normal(0, 1, X.shape[1])\n",
    "\n",
    "X_2"
   ]
  },
  {
   "cell_type": "code",
   "execution_count": 48,
   "id": "0ad0b385",
   "metadata": {},
   "outputs": [
    {
     "data": {
      "text/plain": [
       "array([[2.88088946],\n",
       "       [3.1020101 ],\n",
       "       [2.98530956],\n",
       "       [2.80046345]])"
      ]
     },
     "execution_count": 48,
     "metadata": {},
     "output_type": "execute_result"
    }
   ],
   "source": [
    "LassoShooting_fit(X_2, Y_2, lmbda)[\"coefficients\"]"
   ]
  },
  {
   "cell_type": "code",
   "execution_count": 49,
   "id": "54e39a29",
   "metadata": {},
   "outputs": [
    {
     "data": {
      "text/plain": [
       "array([ 3,  4,  2,  5, 15], dtype=int64)"
      ]
     },
     "execution_count": 49,
     "metadata": {},
     "output_type": "execute_result"
    }
   ],
   "source": [
    "init_values(X, Y, number=5, intercept=True)[\"index\"]"
   ]
  },
  {
   "cell_type": "code",
   "execution_count": 26,
   "id": "834ef203",
   "metadata": {},
   "outputs": [
    {
     "data": {
      "text/plain": [
       "(5150, 3)"
      ]
     },
     "execution_count": 26,
     "metadata": {},
     "output_type": "execute_result"
    }
   ],
   "source": [
    "X_2.shape"
   ]
  },
  {
   "cell_type": "code",
   "execution_count": 160,
   "id": "e7552503",
   "metadata": {},
   "outputs": [
    {
     "data": {
      "text/plain": [
       "{'residuals': array([[-0.98986267],\n",
       "        [ 1.27674567],\n",
       "        [-0.84354857],\n",
       "        ...,\n",
       "        [ 0.95481757],\n",
       "        [ 0.73242515],\n",
       "        [-0.19718552]]),\n",
       " 'coefficients': array([[-0.05531976]])}"
      ]
     },
     "execution_count": 160,
     "metadata": {},
     "output_type": "execute_result"
    }
   ],
   "source": [
    "init_values(X_2, Y, number=5, intercept=True)"
   ]
  },
  {
   "cell_type": "code",
   "execution_count": 140,
   "id": "1539c55d",
   "metadata": {},
   "outputs": [
    {
     "data": {
      "text/plain": [
       "(5150, 3)"
      ]
     },
     "execution_count": 140,
     "metadata": {},
     "output_type": "execute_result"
    }
   ],
   "source": [
    "X_2.shape"
   ]
  },
  {
   "cell_type": "code",
   "execution_count": 99,
   "id": "62d98ae9",
   "metadata": {},
   "outputs": [
    {
     "ename": "AttributeError",
     "evalue": "'float' object has no attribute 'shape'",
     "output_type": "error",
     "traceback": [
      "\u001b[1;31m---------------------------------------------------------------------------\u001b[0m",
      "\u001b[1;31mAttributeError\u001b[0m                            Traceback (most recent call last)",
      "\u001b[1;32mC:\\Users\\ALEXAN~1\\AppData\\Local\\Temp/ipykernel_29772/2742666149.py\u001b[0m in \u001b[0;36m<module>\u001b[1;34m\u001b[0m\n\u001b[0;32m      1\u001b[0m \u001b[1;31m# Get the correlation coefficients between all columns of that array\u001b[0m\u001b[1;33m\u001b[0m\u001b[1;33m\u001b[0m\u001b[0m\n\u001b[1;32m----> 2\u001b[1;33m \u001b[0mcorr\u001b[0m \u001b[1;33m=\u001b[0m \u001b[0mnp\u001b[0m\u001b[1;33m.\u001b[0m\u001b[0mcorrcoef\u001b[0m\u001b[1;33m(\u001b[0m\u001b[0myX\u001b[0m\u001b[1;33m,\u001b[0m \u001b[0mrowvar\u001b[0m\u001b[1;33m=\u001b[0m\u001b[1;32mFalse\u001b[0m\u001b[1;33m)\u001b[0m\u001b[1;33m\u001b[0m\u001b[1;33m\u001b[0m\u001b[0m\n\u001b[0m\u001b[0;32m      3\u001b[0m \u001b[1;33m\u001b[0m\u001b[0m\n\u001b[0;32m      4\u001b[0m \u001b[1;31m# # Get the first row, starting at the first off-diagonal element (these are\u001b[0m\u001b[1;33m\u001b[0m\u001b[1;33m\u001b[0m\u001b[0m\n\u001b[0;32m      5\u001b[0m \u001b[1;31m# # the correlation coefficients between y and each column of X\u001b[0m\u001b[1;33m\u001b[0m\u001b[1;33m\u001b[0m\u001b[0m\n",
      "\u001b[1;32m<__array_function__ internals>\u001b[0m in \u001b[0;36mcorrcoef\u001b[1;34m(*args, **kwargs)\u001b[0m\n",
      "\u001b[1;32m~\\anaconda3\\lib\\site-packages\\numpy\\lib\\function_base.py\u001b[0m in \u001b[0;36mcorrcoef\u001b[1;34m(x, y, rowvar, bias, ddof, dtype)\u001b[0m\n\u001b[0;32m   2632\u001b[0m         warnings.warn('bias and ddof have no effect and are deprecated',\n\u001b[0;32m   2633\u001b[0m                       DeprecationWarning, stacklevel=3)\n\u001b[1;32m-> 2634\u001b[1;33m     \u001b[0mc\u001b[0m \u001b[1;33m=\u001b[0m \u001b[0mcov\u001b[0m\u001b[1;33m(\u001b[0m\u001b[0mx\u001b[0m\u001b[1;33m,\u001b[0m \u001b[0my\u001b[0m\u001b[1;33m,\u001b[0m \u001b[0mrowvar\u001b[0m\u001b[1;33m,\u001b[0m \u001b[0mdtype\u001b[0m\u001b[1;33m=\u001b[0m\u001b[0mdtype\u001b[0m\u001b[1;33m)\u001b[0m\u001b[1;33m\u001b[0m\u001b[1;33m\u001b[0m\u001b[0m\n\u001b[0m\u001b[0;32m   2635\u001b[0m     \u001b[1;32mtry\u001b[0m\u001b[1;33m:\u001b[0m\u001b[1;33m\u001b[0m\u001b[1;33m\u001b[0m\u001b[0m\n\u001b[0;32m   2636\u001b[0m         \u001b[0md\u001b[0m \u001b[1;33m=\u001b[0m \u001b[0mdiag\u001b[0m\u001b[1;33m(\u001b[0m\u001b[0mc\u001b[0m\u001b[1;33m)\u001b[0m\u001b[1;33m\u001b[0m\u001b[1;33m\u001b[0m\u001b[0m\n",
      "\u001b[1;32m<__array_function__ internals>\u001b[0m in \u001b[0;36mcov\u001b[1;34m(*args, **kwargs)\u001b[0m\n",
      "\u001b[1;32m~\\anaconda3\\lib\\site-packages\\numpy\\lib\\function_base.py\u001b[0m in \u001b[0;36mcov\u001b[1;34m(m, y, rowvar, bias, ddof, fweights, aweights, dtype)\u001b[0m\n\u001b[0;32m   2467\u001b[0m             \u001b[0mw\u001b[0m \u001b[1;33m*=\u001b[0m \u001b[0maweights\u001b[0m\u001b[1;33m\u001b[0m\u001b[1;33m\u001b[0m\u001b[0m\n\u001b[0;32m   2468\u001b[0m \u001b[1;33m\u001b[0m\u001b[0m\n\u001b[1;32m-> 2469\u001b[1;33m     \u001b[0mavg\u001b[0m\u001b[1;33m,\u001b[0m \u001b[0mw_sum\u001b[0m \u001b[1;33m=\u001b[0m \u001b[0maverage\u001b[0m\u001b[1;33m(\u001b[0m\u001b[0mX\u001b[0m\u001b[1;33m,\u001b[0m \u001b[0maxis\u001b[0m\u001b[1;33m=\u001b[0m\u001b[1;36m1\u001b[0m\u001b[1;33m,\u001b[0m \u001b[0mweights\u001b[0m\u001b[1;33m=\u001b[0m\u001b[0mw\u001b[0m\u001b[1;33m,\u001b[0m \u001b[0mreturned\u001b[0m\u001b[1;33m=\u001b[0m\u001b[1;32mTrue\u001b[0m\u001b[1;33m)\u001b[0m\u001b[1;33m\u001b[0m\u001b[1;33m\u001b[0m\u001b[0m\n\u001b[0m\u001b[0;32m   2470\u001b[0m     \u001b[0mw_sum\u001b[0m \u001b[1;33m=\u001b[0m \u001b[0mw_sum\u001b[0m\u001b[1;33m[\u001b[0m\u001b[1;36m0\u001b[0m\u001b[1;33m]\u001b[0m\u001b[1;33m\u001b[0m\u001b[1;33m\u001b[0m\u001b[0m\n\u001b[0;32m   2471\u001b[0m \u001b[1;33m\u001b[0m\u001b[0m\n",
      "\u001b[1;32m<__array_function__ internals>\u001b[0m in \u001b[0;36maverage\u001b[1;34m(*args, **kwargs)\u001b[0m\n",
      "\u001b[1;32m~\\anaconda3\\lib\\site-packages\\numpy\\lib\\function_base.py\u001b[0m in \u001b[0;36maverage\u001b[1;34m(a, axis, weights, returned)\u001b[0m\n\u001b[0;32m    413\u001b[0m \u001b[1;33m\u001b[0m\u001b[0m\n\u001b[0;32m    414\u001b[0m     \u001b[1;32mif\u001b[0m \u001b[0mreturned\u001b[0m\u001b[1;33m:\u001b[0m\u001b[1;33m\u001b[0m\u001b[1;33m\u001b[0m\u001b[0m\n\u001b[1;32m--> 415\u001b[1;33m         \u001b[1;32mif\u001b[0m \u001b[0mscl\u001b[0m\u001b[1;33m.\u001b[0m\u001b[0mshape\u001b[0m \u001b[1;33m!=\u001b[0m \u001b[0mavg\u001b[0m\u001b[1;33m.\u001b[0m\u001b[0mshape\u001b[0m\u001b[1;33m:\u001b[0m\u001b[1;33m\u001b[0m\u001b[1;33m\u001b[0m\u001b[0m\n\u001b[0m\u001b[0;32m    416\u001b[0m             \u001b[0mscl\u001b[0m \u001b[1;33m=\u001b[0m \u001b[0mnp\u001b[0m\u001b[1;33m.\u001b[0m\u001b[0mbroadcast_to\u001b[0m\u001b[1;33m(\u001b[0m\u001b[0mscl\u001b[0m\u001b[1;33m,\u001b[0m \u001b[0mavg\u001b[0m\u001b[1;33m.\u001b[0m\u001b[0mshape\u001b[0m\u001b[1;33m)\u001b[0m\u001b[1;33m.\u001b[0m\u001b[0mcopy\u001b[0m\u001b[1;33m(\u001b[0m\u001b[1;33m)\u001b[0m\u001b[1;33m\u001b[0m\u001b[1;33m\u001b[0m\u001b[0m\n\u001b[0;32m    417\u001b[0m         \u001b[1;32mreturn\u001b[0m \u001b[0mavg\u001b[0m\u001b[1;33m,\u001b[0m \u001b[0mscl\u001b[0m\u001b[1;33m\u001b[0m\u001b[1;33m\u001b[0m\u001b[0m\n",
      "\u001b[1;31mAttributeError\u001b[0m: 'float' object has no attribute 'shape'"
     ]
    }
   ],
   "source": [
    "# Get the correlation coefficients between all columns of that array\n",
    "corr = np.corrcoef(yX, rowvar=False)\n",
    "\n",
    "# # Get the first row, starting at the first off-diagonal element (these are\n",
    "# # the correlation coefficients between y and each column of X\n",
    "# corr = corr[0,1:]"
   ]
  },
  {
   "cell_type": "code",
   "execution_count": 143,
   "id": "6b066e05",
   "metadata": {},
   "outputs": [
    {
     "ename": "TypeError",
     "evalue": "can't multiply sequence by non-int of type 'float'",
     "output_type": "error",
     "traceback": [
      "\u001b[1;31m---------------------------------------------------------------------------\u001b[0m",
      "\u001b[1;31mTypeError\u001b[0m                                 Traceback (most recent call last)",
      "\u001b[1;32mC:\\Users\\ALEXAN~1\\AppData\\Local\\Temp/ipykernel_29772/3920432530.py\u001b[0m in \u001b[0;36m<module>\u001b[1;34m\u001b[0m\n\u001b[1;32m----> 1\u001b[1;33m \u001b[0mLassoShooting_fit\u001b[0m\u001b[1;33m(\u001b[0m\u001b[0mX\u001b[0m\u001b[1;33m,\u001b[0m \u001b[0mY\u001b[0m\u001b[1;33m,\u001b[0m \u001b[0mlmbda\u001b[0m\u001b[1;33m)\u001b[0m\u001b[1;33m\u001b[0m\u001b[1;33m\u001b[0m\u001b[0m\n\u001b[0m",
      "\u001b[1;32mC:\\Users\\ALEXAN~1\\AppData\\Local\\Temp/ipykernel_29772/2643983077.py\u001b[0m in \u001b[0;36mLassoShooting_fit\u001b[1;34m(x, y, lmbda, maxIter, optTol, zeroThreshold, XX, Xy, beta_start)\u001b[0m\n\u001b[0;32m     54\u001b[0m     \u001b[1;31m# Check whether XX and Xy were provided, calculate them if not\u001b[0m\u001b[1;33m\u001b[0m\u001b[1;33m\u001b[0m\u001b[0m\n\u001b[0;32m     55\u001b[0m     \u001b[1;32mif\u001b[0m \u001b[0mXX\u001b[0m \u001b[1;32mis\u001b[0m \u001b[1;32mNone\u001b[0m\u001b[1;33m:\u001b[0m\u001b[1;33m\u001b[0m\u001b[1;33m\u001b[0m\u001b[0m\n\u001b[1;32m---> 56\u001b[1;33m         \u001b[0mXX\u001b[0m \u001b[1;33m=\u001b[0m \u001b[0mx\u001b[0m\u001b[1;33m.\u001b[0m\u001b[0mT\u001b[0m \u001b[1;33m@\u001b[0m \u001b[0mx\u001b[0m\u001b[1;33m\u001b[0m\u001b[1;33m\u001b[0m\u001b[0m\n\u001b[0m\u001b[0;32m     57\u001b[0m     \u001b[1;32mif\u001b[0m \u001b[0mXy\u001b[0m \u001b[1;32mis\u001b[0m \u001b[1;32mNone\u001b[0m\u001b[1;33m:\u001b[0m\u001b[1;33m\u001b[0m\u001b[1;33m\u001b[0m\u001b[0m\n\u001b[0;32m     58\u001b[0m         \u001b[0mXy\u001b[0m \u001b[1;33m=\u001b[0m \u001b[0mx\u001b[0m\u001b[1;33m.\u001b[0m\u001b[0mT\u001b[0m \u001b[1;33m@\u001b[0m \u001b[0my\u001b[0m\u001b[1;33m\u001b[0m\u001b[1;33m\u001b[0m\u001b[0m\n",
      "\u001b[1;31mTypeError\u001b[0m: can't multiply sequence by non-int of type 'float'"
     ]
    }
   ],
   "source": [
    "LassoShooting_fit(X, Y, lmbda)"
   ]
  },
  {
   "cell_type": "code",
   "execution_count": 90,
   "id": "833a719a",
   "metadata": {},
   "outputs": [
    {
     "ename": "TypeError",
     "evalue": "can't multiply sequence by non-int of type 'float'",
     "output_type": "error",
     "traceback": [
      "\u001b[1;31m---------------------------------------------------------------------------\u001b[0m",
      "\u001b[1;31mTypeError\u001b[0m                                 Traceback (most recent call last)",
      "\u001b[1;32mC:\\Users\\ALEXAN~1\\AppData\\Local\\Temp/ipykernel_29772/343320529.py\u001b[0m in \u001b[0;36m<module>\u001b[1;34m\u001b[0m\n\u001b[1;32m----> 1\u001b[1;33m \u001b[0mX\u001b[0m\u001b[1;33m.\u001b[0m\u001b[0mT\u001b[0m \u001b[1;33m@\u001b[0m \u001b[0mX\u001b[0m\u001b[1;33m\u001b[0m\u001b[1;33m\u001b[0m\u001b[0m\n\u001b[0m",
      "\u001b[1;31mTypeError\u001b[0m: can't multiply sequence by non-int of type 'float'"
     ]
    }
   ],
   "source": [
    "X.T @ X"
   ]
  },
  {
   "cell_type": "code",
   "execution_count": null,
   "id": "c36fb308",
   "metadata": {},
   "outputs": [],
   "source": []
  },
  {
   "cell_type": "code",
   "execution_count": null,
   "id": "adba7f37",
   "metadata": {},
   "outputs": [],
   "source": []
  },
  {
   "cell_type": "code",
   "execution_count": null,
   "id": "7abf9edb",
   "metadata": {},
   "outputs": [],
   "source": []
  },
  {
   "cell_type": "code",
   "execution_count": null,
   "id": "3da797c0",
   "metadata": {},
   "outputs": [],
   "source": []
  },
  {
   "cell_type": "code",
   "execution_count": 41,
   "id": "aa25d9d9",
   "metadata": {},
   "outputs": [],
   "source": [
    "X = np.array([1, 2, 3, 4]).reshape(4,1)\n",
    "y = np.array( [[1, 2, 5, 6], [1, 4, 8, 6]]).reshape(4,2)\n",
    "#a3D = np.array([[[1, 2], [3, 4]], [[5, 6], [7, 8]]])"
   ]
  },
  {
   "cell_type": "code",
   "execution_count": 42,
   "id": "89a14549",
   "metadata": {},
   "outputs": [
    {
     "data": {
      "text/plain": [
       "(4, 2)"
      ]
     },
     "execution_count": 42,
     "metadata": {},
     "output_type": "execute_result"
    }
   ],
   "source": [
    "y.shape"
   ]
  },
  {
   "cell_type": "code",
   "execution_count": 43,
   "id": "fe242aa7",
   "metadata": {},
   "outputs": [
    {
     "data": {
      "text/plain": [
       "array([0.84393733, 0.64484676])"
      ]
     },
     "execution_count": 43,
     "metadata": {},
     "output_type": "execute_result"
    }
   ],
   "source": [
    "cor(y, X)"
   ]
  },
  {
   "cell_type": "code",
   "execution_count": 49,
   "id": "f85d09c5",
   "metadata": {},
   "outputs": [
    {
     "data": {
      "text/plain": [
       "array([0], dtype=int64)"
      ]
     },
     "execution_count": 49,
     "metadata": {},
     "output_type": "execute_result"
    }
   ],
   "source": [
    "corr = np.abs(cor(y, X))\n",
    "kx = X.shape[1]\n",
    "index = corr.argsort()[-np.amin([5, kx]):]\n",
    "index"
   ]
  },
  {
   "cell_type": "code",
   "execution_count": 53,
   "id": "19093397",
   "metadata": {},
   "outputs": [
    {
     "data": {
      "text/plain": [
       "array([0.84393733, 0.64484676])"
      ]
     },
     "execution_count": 53,
     "metadata": {},
     "output_type": "execute_result"
    }
   ],
   "source": [
    "corr"
   ]
  },
  {
   "cell_type": "code",
   "execution_count": 50,
   "id": "88019f63",
   "metadata": {},
   "outputs": [
    {
     "data": {
      "text/plain": [
       "array([1, 0], dtype=int64)"
      ]
     },
     "execution_count": 50,
     "metadata": {},
     "output_type": "execute_result"
    }
   ],
   "source": [
    "corr.argsort()"
   ]
  },
  {
   "cell_type": "code",
   "execution_count": 52,
   "id": "db9e2dc1",
   "metadata": {},
   "outputs": [
    {
     "data": {
      "text/plain": [
       "array([1, 0], dtype=int64)"
      ]
     },
     "execution_count": 52,
     "metadata": {},
     "output_type": "execute_result"
    }
   ],
   "source": [
    "corr.argsort()"
   ]
  },
  {
   "cell_type": "code",
   "execution_count": null,
   "id": "de36800c",
   "metadata": {},
   "outputs": [],
   "source": []
  }
 ],
 "metadata": {
  "kernelspec": {
   "display_name": "Python 3 (ipykernel)",
   "language": "python",
   "name": "python3"
  },
  "language_info": {
   "codemirror_mode": {
    "name": "ipython",
    "version": 3
   },
   "file_extension": ".py",
   "mimetype": "text/x-python",
   "name": "python",
   "nbconvert_exporter": "python",
   "pygments_lexer": "ipython3",
   "version": "3.9.7"
  }
 },
 "nbformat": 4,
 "nbformat_minor": 5
}
