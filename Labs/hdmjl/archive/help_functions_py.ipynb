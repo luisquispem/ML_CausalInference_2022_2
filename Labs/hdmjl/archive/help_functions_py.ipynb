{
 "cells": [
  {
   "cell_type": "code",
   "execution_count": 15,
   "id": "7d535b7f",
   "metadata": {},
   "outputs": [],
   "source": [
    "################################################################################\n",
    "### Python port of help_functions.R\n",
    "### https://github.com/cran/hdm/blob/master/R/help_functions.R\n",
    "################################################################################\n",
    "\n",
    "################################################################################\n",
    "### 1: Load modules\n",
    "################################################################################\n",
    "\n",
    "# Standard Python modules\n",
    "import numpy as np\n",
    "from sklearn.linear_model import LinearRegression as lm\n",
    "\n",
    "################################################################################\n",
    "### 2: Define functions\n",
    "################################################################################\n",
    "\n",
    "################################################################################\n",
    "### 2.1: Functions which are not in the original R package\n",
    "###      These are generally helper functions to allow an implementation which\n",
    "###      reads as closely to the original R code as possible, and to ease a\n",
    "###      Python implementation\n",
    "################################################################################\n",
    "\n",
    "\n",
    "# Define a function which turn a list or vector-like object into a proper two\n",
    "# dimensional column vector\n",
    "def cvec(a):\n",
    "    \"\"\" Turn a list or vector-like object into a proper column vector\n",
    "    Input\n",
    "    a: List or vector-like object, has to be a potential input for np.array()\n",
    "    Output\n",
    "    vec: two dimensional NumPy array, with the first dimension weakly greater\n",
    "         than the second (resulting in a column vector for a vector-like input)\n",
    "    \"\"\"\n",
    "    # Conver input into a two dimensional NumPy array\n",
    "    vec = np.array(a, ndmin=2)\n",
    "\n",
    "    # Check whether the second dimension is strictly greater than the first\n",
    "    # (remembering Python's zero indexing)\n",
    "    if vec.shape[0] < vec.shape[1]:\n",
    "        # If so, transpose the input vector\n",
    "        vec = vec.T\n",
    "\n",
    "    # Return the column vector\n",
    "    return vec\n",
    "\n",
    "\n",
    "# Define a function to mimic R's cor() function, which can take two matrices and\n",
    "# return the correlation coefficients between the columns of the first and the\n",
    "# columns of the second matrix\n",
    "def cor(y, X):\n",
    "    \"\"\" Return correlation coefficients between columns of matrices\n",
    "    Inputs\n",
    "    y: n by 1 NumPy array\n",
    "    X: n by k NumPy array\n",
    "    Outputs\n",
    "    corr: list of length k, where the k-th element is the correlation\n",
    "          coefficient between y and the k-th column of X\n",
    "    \"\"\"\n",
    "    # Concatenate y and X into a single NumPy array\n",
    "    yX = np.concatenate([y, X], axis=1)\n",
    "\n",
    "    # Get the correlation coefficients between all columns of that array\n",
    "    corr = np.corrcoef(yX, rowvar=False)\n",
    "\n",
    "    # Get the first row, starting at the first off-diagonal element (these are\n",
    "    # the correlation coefficients between y and each column of X\n",
    "    corr = corr[0,1:]\n",
    "\n",
    "    # Return the result\n",
    "    return corr"
   ]
  },
  {
   "cell_type": "code",
   "execution_count": 16,
   "id": "01a98c9a",
   "metadata": {},
   "outputs": [],
   "source": [
    "################################################################################\n",
    "### 2.2: Functions which are in the original R package\n",
    "################################################################################\n",
    "\n",
    "\n",
    "# Define a function which returns initial parameter guesses\n",
    "def init_values(X, y, number=5, intercept=True):\n",
    "    \"\"\" Return an initial parameter guess for a LASSO model\n",
    "    Inputs\n",
    "    y: n by 1 NumPy array, outcome variable\n",
    "    X: n by k NumPy array, RHS variables\n",
    "    Outputs\n",
    "    residuals: n ny 1 NumPy array, residuals for initial parameter guess\n",
    "    coefficients: k by 1 NumPy array, initial coefficient values\n",
    "    \"\"\"\n",
    "    # Make sure y is a proper column vector\n",
    "    y = cvec(y)\n",
    "\n",
    "    # Get the absolute value of correlations between y and X\n",
    "    corr = np.abs(cor(y, X))\n",
    "\n",
    "    # Get the number of columns of X\n",
    "    kx = X.shape[1]\n",
    "\n",
    "    # Make an index selecting the five columns of X which are most correlated\n",
    "    # with y (since .argsort() always sorts in increasing order, selecting from\n",
    "    # the back gets the most highly correlated columns)\n",
    "    index = corr.argsort()[-np.amin([number, kx]):]\n",
    "\n",
    "    # Set up an array of coefficient guesses\n",
    "    coefficients = np.zeros(shape=(kx, 1))\n",
    "\n",
    "    # Regress y on the five most correlated columns of X, including an intercept\n",
    "    # if desired\n",
    "    reg = lm(fit_intercept=intercept).fit(X[:, index], y)\n",
    "\n",
    "    # Replace the guesses for the estimated coefficients (note that .coef_ does\n",
    "    # not return the estimated intercept, if one was included in the model)\n",
    "    coefficients[index, :] = reg.coef_.T\n",
    "\n",
    "    # Replace any NANs as zeros\n",
    "    coefficients[np.isnan(coefficients)] = 0\n",
    "\n",
    "    # Get the regression residuals\n",
    "    residuals = y - reg.predict(X[:, index])\n",
    "\n",
    "    # Return the residuals and coefficients\n",
    "    return {'residuals': residuals, 'coefficients': coefficients, 'index': index }"
   ]
  },
  {
   "cell_type": "code",
   "execution_count": 17,
   "id": "5e7bec15",
   "metadata": {},
   "outputs": [],
   "source": [
    "################################################################################\n",
    "### Python port of LassoShooting.fit.R\n",
    "### https://github.com/cran/hdm/blob/master/R/LassoShooting.fit.R\n",
    "################################################################################\n",
    "\n",
    "################################################################################\n",
    "### 1: Load modules\n",
    "################################################################################\n",
    "\n",
    "# Standard Python modules\n",
    "import numpy as np\n",
    "\n",
    "# Other parts of hdmpy\n",
    "# from hdmpy.help_functions import cvec, init_values\n",
    "\n",
    "################################################################################\n",
    "### 2: Define function\n",
    "################################################################################\n",
    "\n",
    "# Define shooting LASSO with variable dependent penalty terms\n",
    "def LassoShooting_fit(x, y, lmbda, maxIter=1000, optTol=10**(-5),\n",
    "                      zeroThreshold=10**(-6), XX=None, Xy=None,\n",
    "                      beta_start=None):\n",
    "    \"\"\" Shooting LASSO algorithm with variable dependent penalty weights\n",
    "\n",
    "    Inputs\n",
    "    x: n by p NumPy array, RHS variables\n",
    "    y: n by 1 NumPy array, outcome variable\n",
    "    lmbda: p by 1 NumPy array, variable dependent penalty terms. The j-th\n",
    "           element is the penalty term for the j-th RHS variable.\n",
    "    maxIter: integer, maximum number of shooting LASSO updated\n",
    "    optTol: scalar, algorithm terminated once the sum of absolute differences\n",
    "            between the updated and current weights is below optTol\n",
    "    zeroThreshold: scalar, if any final weights are below zeroThreshold, they\n",
    "                   will be set to zero instead\n",
    "    XX: k by k NumPy array, pre-calculated version of x'x\n",
    "    Xy: k by 1 NumPy array, pre-calculated version of x'y\n",
    "    beta_start: k by 1 NumPy array, initial weights\n",
    "\n",
    "    Outputs\n",
    "    w: k by 1 NumPy array, final weights\n",
    "    wp: k by m + 1 NumPy array, where m is the number of iterations the\n",
    "        algorithm took. History of weight updates, starting with the initial\n",
    "        weights.\n",
    "    m: integer, number of iterations the algorithm took\n",
    "    \"\"\"\n",
    "    # Make sure that y and lmbda are proper column vectors\n",
    "    y = cvec(y)\n",
    "    lmbda = cvec(lmbda)\n",
    "\n",
    "    # Get number of observations n and number of variables p\n",
    "    n, p = x.shape\n",
    "\n",
    "    # Check whether XX and Xy were provided, calculate them if not\n",
    "    if XX is None:\n",
    "        XX = x.T @ x\n",
    "    if Xy is None:\n",
    "        Xy = x.T @ y\n",
    "\n",
    "    # Check whether an initial value for the intercept was provided\n",
    "    if beta_start is None:\n",
    "        # If not, use init_values from help_functions, which will return\n",
    "        # regression estimates for the five variables in x which are most\n",
    "        # correlated with y, and initialize all other coefficients as zero\n",
    "        beta = init_values(x, y, intercept=False)['coefficients']\n",
    "    else:\n",
    "        # Otherwise, use the provided initial weights\n",
    "        beta = beta_start\n",
    "\n",
    "    # Set up a history of weights over time, starting with the initial ones\n",
    "    wp = beta\n",
    "\n",
    "    # Keep track of the number of iterations\n",
    "    m = 1\n",
    "\n",
    "    # Create versions of XX and Xy which are just those matrices times two\n",
    "    XX2 = XX * 2\n",
    "    Xy2 = Xy * 2\n",
    "\n",
    "    # Go through all iterations\n",
    "    while m < maxIter:\n",
    "        # Save the last set of weights (the .copy() is important, otherwise\n",
    "        # beta_old will be updated every time beta is changed during the\n",
    "        # following loop)\n",
    "        beta_old = beta.copy()\n",
    "\n",
    "        # Go through all parameters\n",
    "        for j in np.arange(p):\n",
    "            # Calculate the shoot\n",
    "            S0 = XX2[j,:] @ beta - XX2[j,j] * beta[j,0] - Xy2[j,0]\n",
    "\n",
    "            # Update the weights\n",
    "            if np.isnan(S0).sum() >= 1:\n",
    "                beta[j] = 0\n",
    "            elif S0 > lmbda[j]:\n",
    "                beta[j] = (lmbda[j] - S0) / XX2[j,j]\n",
    "            elif S0 < -lmbda[j]:\n",
    "                beta[j] = (-lmbda[j] - S0) / XX2[j,j]\n",
    "            elif np.abs(S0) <= lmbda[j]:\n",
    "                beta[j] = 0\n",
    "\n",
    "        # Add the updated weights to the history of weights\n",
    "        wp = np.concatenate([wp, beta], axis=1)\n",
    "\n",
    "        # Check whether the weights are within tolerance\n",
    "        if np.abs(beta - beta_old).sum() < optTol:\n",
    "            # If so, break the while loop\n",
    "            break\n",
    "\n",
    "        # Increase the iteration counter\n",
    "        m = m + 1\n",
    "\n",
    "    # Set the final weights to the last updated weights\n",
    "    w = beta\n",
    "\n",
    "    # Set weights which are within zeroThreshold to zero\n",
    "    w[np.abs(w) < zeroThreshold] = 0\n",
    "\n",
    "    # Return the weights, history of weights, and iteration counter\n",
    "    return {'coefficients': w, 'coef.list': wp, 'num.it': m}"
   ]
  },
  {
   "cell_type": "markdown",
   "id": "839c2713",
   "metadata": {},
   "source": [
    "# Test 1 "
   ]
  },
  {
   "cell_type": "code",
   "execution_count": 36,
   "id": "18847a7f",
   "metadata": {},
   "outputs": [
    {
     "name": "stdout",
     "output_type": "stream",
     "text": [
      "0.5714025946899135\n"
     ]
    }
   ],
   "source": [
    "import numpy as np\n",
    "import random\n",
    "import statsmodels.api as sm\n",
    "# Set Seed\n",
    "random.seed(10)\n",
    "print(random.random())\n",
    "\n",
    "n = 10\n",
    "p = n//2\n",
    "X = np.random.normal(0, 1, size=(n, p))\n",
    "Y = np.random.normal(0, 1,n)\n",
    "beta = np.random.normal(0, 1,n)\n",
    "lmbda = np.random.normal(0, 1,n)"
   ]
  },
  {
   "cell_type": "code",
   "execution_count": 37,
   "id": "94580b96",
   "metadata": {},
   "outputs": [
    {
     "data": {
      "text/plain": [
       "array([[ 0.77361731],\n",
       "       [-0.95770003],\n",
       "       [ 0.        ],\n",
       "       [-0.93329414],\n",
       "       [ 0.        ]])"
      ]
     },
     "execution_count": 37,
     "metadata": {},
     "output_type": "execute_result"
    }
   ],
   "source": [
    "LassoShooting_fit(X, Y, lmbda)[\"coefficients\"]"
   ]
  },
  {
   "cell_type": "markdown",
   "id": "96c9d9aa",
   "metadata": {},
   "source": [
    "# Test 2 "
   ]
  },
  {
   "cell_type": "code",
   "execution_count": 74,
   "id": "e536a845",
   "metadata": {},
   "outputs": [
    {
     "data": {
      "text/plain": [
       "(5150, 20)"
      ]
     },
     "execution_count": 74,
     "metadata": {},
     "output_type": "execute_result"
    }
   ],
   "source": [
    "# Import relevant packages\n",
    "import pandas as pd\n",
    "import numpy as np\n",
    "import pyreadr\n",
    "rdata_read = pyreadr.read_r(\"../../data/wage2015_subsample_inference.Rdata\")\n",
    "data = rdata_read[ 'data' ]\n",
    "type(data)\n",
    "data.shape"
   ]
  },
  {
   "cell_type": "code",
   "execution_count": 75,
   "id": "a3bd3284",
   "metadata": {},
   "outputs": [],
   "source": [
    "Y_2 = data['lwage'].to_numpy()"
   ]
  },
  {
   "cell_type": "code",
   "execution_count": 76,
   "id": "0ab6af4c",
   "metadata": {},
   "outputs": [
    {
     "data": {
      "text/plain": [
       "array([[1., 0., 0., 0., 1.],\n",
       "       [0., 0., 0., 0., 1.],\n",
       "       [0., 0., 1., 0., 0.],\n",
       "       ...,\n",
       "       [0., 0., 0., 0., 0.],\n",
       "       [0., 0., 1., 0., 0.],\n",
       "       [0., 0., 0., 0., 0.]])"
      ]
     },
     "execution_count": 76,
     "metadata": {},
     "output_type": "execute_result"
    }
   ],
   "source": [
    "Y_2 = data['lwage'].to_numpy()\n",
    "n = len(Y)\n",
    "X = data.loc[:, ~data.columns.isin(['wage', 'lwage','Unnamed: 0'])].to_numpy(dtype = float)\n",
    "X_2 = X[:, 0:5]\n",
    "\n",
    "list1 = [0.1, 0.2, 0.3, 0.4, 0.5]\n",
    "lmbda_2 = np.array(list1)\n",
    "#lmbda = np.random.normal(0, 1, X_2.shape[1])\n",
    "\n",
    "X_2"
   ]
  },
  {
   "cell_type": "code",
   "execution_count": 77,
   "id": "6bc5c5ee",
   "metadata": {},
   "outputs": [
    {
     "data": {
      "text/plain": [
       "array([0.1, 0.2, 0.3, 0.4, 0.5])"
      ]
     },
     "execution_count": 77,
     "metadata": {},
     "output_type": "execute_result"
    }
   ],
   "source": [
    "lmbda"
   ]
  },
  {
   "cell_type": "code",
   "execution_count": 78,
   "id": "0ad0b385",
   "metadata": {},
   "outputs": [
    {
     "data": {
      "text/plain": [
       "array([[0.82252356],\n",
       "       [2.43022504],\n",
       "       [2.45580171],\n",
       "       [2.47384323],\n",
       "       [2.73381929]])"
      ]
     },
     "execution_count": 78,
     "metadata": {},
     "output_type": "execute_result"
    }
   ],
   "source": [
    "LassoShooting_fit(X_2, Y_2, lmbda_2)[\"coefficients\"]"
   ]
  },
  {
   "cell_type": "code",
   "execution_count": 49,
   "id": "54e39a29",
   "metadata": {},
   "outputs": [
    {
     "data": {
      "text/plain": [
       "array([ 3,  4,  2,  5, 15], dtype=int64)"
      ]
     },
     "execution_count": 49,
     "metadata": {},
     "output_type": "execute_result"
    }
   ],
   "source": [
    "init_values(X, Y, number=5, intercept=True)[\"index\"]"
   ]
  }
 ],
 "metadata": {
  "kernelspec": {
   "display_name": "Python 3 (ipykernel)",
   "language": "python",
   "name": "python3"
  },
  "language_info": {
   "codemirror_mode": {
    "name": "ipython",
    "version": 3
   },
   "file_extension": ".py",
   "mimetype": "text/x-python",
   "name": "python",
   "nbconvert_exporter": "python",
   "pygments_lexer": "ipython3",
   "version": "3.9.7"
  }
 },
 "nbformat": 4,
 "nbformat_minor": 5
}
